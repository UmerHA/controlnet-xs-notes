{
 "cells": [
  {
   "cell_type": "code",
   "execution_count": 17,
   "id": "65c674dd-e544-4210-ace3-365d97200345",
   "metadata": {
    "tags": []
   },
   "outputs": [],
   "source": [
    "import os\n",
    "import shutil\n",
    "from huggingface_hub import hf_hub_download"
   ]
  },
  {
   "cell_type": "code",
   "execution_count": 18,
   "id": "be09fbab-1926-452f-a84a-2a7c6b0c46d8",
   "metadata": {
    "tags": []
   },
   "outputs": [],
   "source": [
    "def download(repo, file, to=None):\n",
    "    location = hf_hub_download(repo_id=repo, filename=file)\n",
    "    if to is not None:\n",
    "        os.makedirs(to, exist_ok=True)\n",
    "        shutil.copy(location, os.path.join(to, file))"
   ]
  },
  {
   "cell_type": "code",
   "execution_count": 21,
   "id": "9605100f-8bf0-45f8-ae51-fc131ac99900",
   "metadata": {
    "tags": []
   },
   "outputs": [
    {
     "data": {
      "application/vnd.jupyter.widget-view+json": {
       "model_id": "9506199399f04f848dc205592b4a69fd",
       "version_major": 2,
       "version_minor": 0
      },
      "text/plain": [
       "Downloading (…)_encD_canny_14m.ckpt:   0%|          | 0.00/56.9M [00:00<?, ?B/s]"
      ]
     },
     "metadata": {},
     "output_type": "display_data"
    }
   ],
   "source": [
    "download(\n",
    "    repo=\"CVL-Heidelberg/ControlNet-XS\",\n",
    "    file=\"sd21_encD_canny_14m.ckpt\",\n",
    "    to=\"weights/cnxs-sd21-canny\"\n",
    ")"
   ]
  },
  {
   "cell_type": "code",
   "execution_count": 20,
   "id": "cf00cd94-b23f-45df-a57b-af4017a808d3",
   "metadata": {
    "tags": []
   },
   "outputs": [],
   "source": [
    "download(\n",
    "    repo=\"stabilityai/stable-diffusion-2-1-base\",\n",
    "    file=\"v2-1_512-ema-pruned.ckpt\",\n",
    "    to=\"weights/sd21\"\n",
    ")"
   ]
  },
  {
   "cell_type": "code",
   "execution_count": null,
   "id": "9c41a80b-69cc-4d8e-a62b-2d968a584ce7",
   "metadata": {},
   "outputs": [],
   "source": []
  }
 ],
 "metadata": {
  "kernelspec": {
   "display_name": "Python 3 (ipykernel)",
   "language": "python",
   "name": "python3"
  },
  "language_info": {
   "codemirror_mode": {
    "name": "ipython",
    "version": 3
   },
   "file_extension": ".py",
   "mimetype": "text/x-python",
   "name": "python",
   "nbconvert_exporter": "python",
   "pygments_lexer": "ipython3",
   "version": "3.10.13"
  }
 },
 "nbformat": 4,
 "nbformat_minor": 5
}
