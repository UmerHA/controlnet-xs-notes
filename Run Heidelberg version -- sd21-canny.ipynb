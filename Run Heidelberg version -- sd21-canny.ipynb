{
 "cells": [
  {
   "cell_type": "markdown",
   "id": "cda36831-a1e7-4c2f-b3ab-5f45dfaac14e",
   "metadata": {},
   "source": [
    "In this notebook, I run one step for TwoStreamControlModel to get intermediate outputs which I can then compare to my local run"
   ]
  },
  {
   "cell_type": "markdown",
   "id": "16b74b9e-7bbc-41ff-bc01-3d3055570a57",
   "metadata": {},
   "source": [
    "___"
   ]
  },
  {
   "cell_type": "code",
   "execution_count": 1,
   "id": "a43bd7c1-8c6b-4f3c-bf65-5398fdbbdc51",
   "metadata": {
    "tags": []
   },
   "outputs": [],
   "source": [
    "import os\n",
    "os.environ['CUBLAS_WORKSPACE_CONFIG'] = ':4096:8'  # needed to make torch deterministic"
   ]
  },
  {
   "cell_type": "code",
   "execution_count": 2,
   "id": "2c1c7d13-020e-4053-9754-7f2bf5b4829f",
   "metadata": {
    "tags": []
   },
   "outputs": [
    {
     "name": "stderr",
     "output_type": "stream",
     "text": [
      "/opt/conda/lib/python3.10/site-packages/timm/models/_factory.py:117: UserWarning: Mapping deprecated model name vit_base_resnet50_384 to current vit_base_r50_s16_384.orig_in21k_ft_in1k.\n",
      "  model = create_fn(\n"
     ]
    }
   ],
   "source": [
    "import scripts.control_utils as cu\n",
    "import torch\n",
    "torch.set_printoptions(linewidth=200)"
   ]
  },
  {
   "cell_type": "code",
   "execution_count": 3,
   "id": "aad3a198-093b-46fa-9cda-a13750fc9aa2",
   "metadata": {
    "tags": []
   },
   "outputs": [],
   "source": [
    "torch.use_deterministic_algorithms(True)"
   ]
  },
  {
   "cell_type": "code",
   "execution_count": 4,
   "id": "be14a47f-ac71-4e60-a52f-4befa3fb0b8d",
   "metadata": {
    "tags": []
   },
   "outputs": [],
   "source": [
    "path_to_config = 'cnxs_config/sd/sd21_encD_canny_14m.yaml'"
   ]
  },
  {
   "cell_type": "markdown",
   "id": "7f6552dd-0ad5-4db2-b1a6-3c9b8ca55f4f",
   "metadata": {},
   "source": [
    "If this results in the kernel crashing, I'm using too much GPU memory elsewhere. Shut down every other kernel and try again."
   ]
  },
  {
   "cell_type": "code",
   "execution_count": 5,
   "id": "70915bf0-38be-40e8-a791-23a6ded976ae",
   "metadata": {
    "tags": []
   },
   "outputs": [
    {
     "name": "stdout",
     "output_type": "stream",
     "text": [
      "TwoStreamControlLDM: Running in eps-prediction mode\n",
      "DiffusionWrapper has 865.91 M params.\n",
      "making attention of type 'vanilla-xformers' with 512 in_channels\n",
      "building MemoryEfficientAttnBlock with 512 in_channels...\n",
      "Working with z of shape (1, 4, 32, 32) = 4096 dimensions.\n",
      "making attention of type 'vanilla-xformers' with 512 in_channels\n",
      "building MemoryEfficientAttnBlock with 512 in_channels...\n",
      "[404 keys are missing from the model (hint processing and cross connections included)]\n",
      "['CONTROL WEIGHTS LOADED']\n",
      "Loaded model config from [cnxs_config/sd/sd21_encD_canny_14m.yaml]\n"
     ]
    }
   ],
   "source": [
    "model = cu.create_model(path_to_config).to('cuda')"
   ]
  },
  {
   "cell_type": "code",
   "execution_count": null,
   "id": "d8213d2d-ca14-41d0-9b4d-79b5f2c584c9",
   "metadata": {
    "tags": []
   },
   "outputs": [],
   "source": []
  },
  {
   "cell_type": "code",
   "execution_count": 6,
   "id": "fd34d5a9-b07e-4cf8-bb64-eefcc5e0fc36",
   "metadata": {},
   "outputs": [],
   "source": [
    "from util import simple_describe"
   ]
  },
  {
   "cell_type": "code",
   "execution_count": 7,
   "id": "951b2969-2298-41d7-90ce-5b21fb8242e6",
   "metadata": {
    "tags": []
   },
   "outputs": [],
   "source": [
    "#simple_describe(model.model.diffusion_model.input_blocks, mode='cnxs', full_cls_name=True, remove='ldm.modules.')"
   ]
  },
  {
   "cell_type": "code",
   "execution_count": 8,
   "id": "72aff1d5-6d48-4520-be01-1f7aef1f4098",
   "metadata": {},
   "outputs": [],
   "source": [
    "#simple_describe(model.control_model.control_model.input_blocks, mode='cnxs', full_cls_name=True, remove='ldm.modules.')"
   ]
  },
  {
   "cell_type": "code",
   "execution_count": 9,
   "id": "722ce2e4-2e2b-4f4c-bc1e-8818a7ae7c4f",
   "metadata": {
    "tags": []
   },
   "outputs": [],
   "source": [
    "size = 512\n",
    "num_samples=1\n",
    "prompt='cinematic, shoe in the streets, made from meat, photorealistic shoe, highly detailed'\n",
    "n_prompt='lowres, bad anatomy, worst quality, low quality'"
   ]
  },
  {
   "cell_type": "code",
   "execution_count": 10,
   "id": "05676d1d-23c9-4982-98e9-6142b876d136",
   "metadata": {
    "tags": []
   },
   "outputs": [
    {
     "data": {
      "text/plain": [
       "(512, 512)"
      ]
     },
     "execution_count": 10,
     "metadata": {},
     "output_type": "execute_result"
    }
   ],
   "source": [
    "def get_canny_edges():\n",
    "    image_path = 'input_images/shoe.png' # chosen to fit size above\n",
    "    image = cu.get_image(image_path, size=size)\n",
    "    edges = cu.get_canny_edges(image, low_th=100, high_th=250)\n",
    "    return edges\n",
    "edges = get_canny_edges()\n",
    "edges.shape"
   ]
  },
  {
   "cell_type": "code",
   "execution_count": 11,
   "id": "a19f10d5-90d8-4481-a9c9-780349d87543",
   "metadata": {
    "tags": []
   },
   "outputs": [],
   "source": [
    "from ldm.umer_debug_logger import udl"
   ]
  },
  {
   "cell_type": "code",
   "execution_count": 12,
   "id": "0fdaf55a-d896-49c2-ae49-c276afd08604",
   "metadata": {
    "tags": []
   },
   "outputs": [],
   "source": [
    "udl.set_dir('logs/cloud/', clear=True)\n",
    "udl.set_condition('STEP')"
   ]
  },
  {
   "cell_type": "code",
   "execution_count": 13,
   "id": "f45e59cd-3ecb-419d-ab69-ee3e488e640d",
   "metadata": {
    "tags": []
   },
   "outputs": [
    {
     "name": "stderr",
     "output_type": "stream",
     "text": [
      "Global seed set to 1999158951\n"
     ]
    },
    {
     "name": "stdout",
     "output_type": "stream",
     "text": [
      "[CONTROL CORRECTION OF TwoStreamControlLDM SCALED WITH 0.95]\n",
      "Data shape for DDIM sampling is (1, 4, 64, 64), eta 0.5, temperature 1.0\n",
      "Created random latentes of shape (1, 4, 64, 64) starting with tensor([-0.5339,  1.6289,  0.5630, -1.0880, -1.4832], device='cuda:0')\n",
      "Running DDIM Sampling with 50 timesteps\n"
     ]
    },
    {
     "name": "stderr",
     "output_type": "stream",
     "text": [
      "DDIM Sampler:   2%|▏         | 1/50 [00:01<01:19,  1.61s/it]"
     ]
    },
    {
     "name": "stdout",
     "output_type": "stream",
     "text": [
      "α = 0.0058, α_prev = 0.0073, β = 0.9942, η = 0.5000, σ = 0.2272\n"
     ]
    },
    {
     "name": "stderr",
     "output_type": "stream",
     "text": [
      "DDIM Sampler:   4%|▍         | 2/50 [00:02<00:55,  1.17s/it]"
     ]
    },
    {
     "name": "stdout",
     "output_type": "stream",
     "text": [
      "α = 0.0073, α_prev = 0.0091, β = 0.9927, η = 0.5000, σ = 0.2241\n"
     ]
    },
    {
     "name": "stderr",
     "output_type": "stream",
     "text": [
      "DDIM Sampler:   6%|▌         | 3/50 [00:03<00:46,  1.01it/s]"
     ]
    },
    {
     "name": "stdout",
     "output_type": "stream",
     "text": [
      "α = 0.0091, α_prev = 0.0113, β = 0.9909, η = 0.5000, σ = 0.2210\n"
     ]
    },
    {
     "name": "stderr",
     "output_type": "stream",
     "text": [
      "DDIM Sampler:   8%|▊         | 4/50 [00:04<00:42,  1.09it/s]"
     ]
    },
    {
     "name": "stdout",
     "output_type": "stream",
     "text": [
      "α = 0.0113, α_prev = 0.0140, β = 0.9887, η = 0.5000, σ = 0.2179\n"
     ]
    },
    {
     "name": "stderr",
     "output_type": "stream",
     "text": [
      "DDIM Sampler:  10%|█         | 5/50 [00:04<00:40,  1.10it/s]"
     ]
    },
    {
     "name": "stdout",
     "output_type": "stream",
     "text": [
      "α = 0.0140, α_prev = 0.0172, β = 0.9860, η = 0.5000, σ = 0.2147\n"
     ]
    },
    {
     "name": "stderr",
     "output_type": "stream",
     "text": [
      "DDIM Sampler:  12%|█▏        | 6/50 [00:05<00:38,  1.13it/s]"
     ]
    },
    {
     "name": "stdout",
     "output_type": "stream",
     "text": [
      "α = 0.0172, α_prev = 0.0210, β = 0.9828, η = 0.5000, σ = 0.2116\n"
     ]
    },
    {
     "name": "stderr",
     "output_type": "stream",
     "text": [
      "DDIM Sampler:  14%|█▍        | 7/50 [00:06<00:36,  1.18it/s]"
     ]
    },
    {
     "name": "stdout",
     "output_type": "stream",
     "text": [
      "α = 0.0210, α_prev = 0.0254, β = 0.9790, η = 0.5000, σ = 0.2084\n"
     ]
    },
    {
     "name": "stderr",
     "output_type": "stream",
     "text": [
      "DDIM Sampler:  16%|█▌        | 8/50 [00:07<00:34,  1.20it/s]"
     ]
    },
    {
     "name": "stdout",
     "output_type": "stream",
     "text": [
      "α = 0.0254, α_prev = 0.0305, β = 0.9746, η = 0.5000, σ = 0.2052\n"
     ]
    },
    {
     "name": "stderr",
     "output_type": "stream",
     "text": [
      "DDIM Sampler:  18%|█▊        | 9/50 [00:08<00:34,  1.18it/s]"
     ]
    },
    {
     "name": "stdout",
     "output_type": "stream",
     "text": [
      "α = 0.0305, α_prev = 0.0365, β = 0.9695, η = 0.5000, σ = 0.2019\n"
     ]
    },
    {
     "name": "stderr",
     "output_type": "stream",
     "text": [
      "DDIM Sampler:  20%|██        | 10/50 [00:09<00:33,  1.19it/s]"
     ]
    },
    {
     "name": "stdout",
     "output_type": "stream",
     "text": [
      "α = 0.0365, α_prev = 0.0435, β = 0.9635, η = 0.5000, σ = 0.1987\n"
     ]
    },
    {
     "name": "stderr",
     "output_type": "stream",
     "text": [
      "DDIM Sampler:  22%|██▏       | 11/50 [00:09<00:32,  1.21it/s]"
     ]
    },
    {
     "name": "stdout",
     "output_type": "stream",
     "text": [
      "α = 0.0435, α_prev = 0.0514, β = 0.9565, η = 0.5000, σ = 0.1954\n"
     ]
    },
    {
     "name": "stderr",
     "output_type": "stream",
     "text": [
      "DDIM Sampler:  24%|██▍       | 12/50 [00:10<00:33,  1.13it/s]"
     ]
    },
    {
     "name": "stdout",
     "output_type": "stream",
     "text": [
      "α = 0.0514, α_prev = 0.0604, β = 0.9486, η = 0.5000, σ = 0.1921\n"
     ]
    },
    {
     "name": "stderr",
     "output_type": "stream",
     "text": [
      "DDIM Sampler:  26%|██▌       | 13/50 [00:11<00:32,  1.15it/s]"
     ]
    },
    {
     "name": "stdout",
     "output_type": "stream",
     "text": [
      "α = 0.0604, α_prev = 0.0705, β = 0.9396, η = 0.5000, σ = 0.1887\n"
     ]
    },
    {
     "name": "stderr",
     "output_type": "stream",
     "text": [
      "DDIM Sampler:  28%|██▊       | 14/50 [00:12<00:31,  1.15it/s]"
     ]
    },
    {
     "name": "stdout",
     "output_type": "stream",
     "text": [
      "α = 0.0705, α_prev = 0.0819, β = 0.9295, η = 0.5000, σ = 0.1854\n"
     ]
    },
    {
     "name": "stderr",
     "output_type": "stream",
     "text": [
      "DDIM Sampler:  30%|███       | 15/50 [00:13<00:30,  1.15it/s]"
     ]
    },
    {
     "name": "stdout",
     "output_type": "stream",
     "text": [
      "α = 0.0819, α_prev = 0.0946, β = 0.9181, η = 0.5000, σ = 0.1820\n"
     ]
    },
    {
     "name": "stderr",
     "output_type": "stream",
     "text": [
      "DDIM Sampler:  32%|███▏      | 16/50 [00:14<00:29,  1.16it/s]"
     ]
    },
    {
     "name": "stdout",
     "output_type": "stream",
     "text": [
      "α = 0.0946, α_prev = 0.1087, β = 0.9054, η = 0.5000, σ = 0.1787\n"
     ]
    },
    {
     "name": "stderr",
     "output_type": "stream",
     "text": [
      "DDIM Sampler:  34%|███▍      | 17/50 [00:15<00:28,  1.17it/s]"
     ]
    },
    {
     "name": "stdout",
     "output_type": "stream",
     "text": [
      "α = 0.1087, α_prev = 0.1243, β = 0.8913, η = 0.5000, σ = 0.1752\n"
     ]
    },
    {
     "name": "stderr",
     "output_type": "stream",
     "text": [
      "DDIM Sampler:  36%|███▌      | 18/50 [00:16<00:29,  1.10it/s]"
     ]
    },
    {
     "name": "stdout",
     "output_type": "stream",
     "text": [
      "α = 0.1243, α_prev = 0.1413, β = 0.8757, η = 0.5000, σ = 0.1718\n"
     ]
    },
    {
     "name": "stderr",
     "output_type": "stream",
     "text": [
      "DDIM Sampler:  38%|███▊      | 19/50 [00:17<00:28,  1.10it/s]"
     ]
    },
    {
     "name": "stdout",
     "output_type": "stream",
     "text": [
      "α = 0.1413, α_prev = 0.1598, β = 0.8587, η = 0.5000, σ = 0.1684\n"
     ]
    },
    {
     "name": "stderr",
     "output_type": "stream",
     "text": [
      "DDIM Sampler:  40%|████      | 20/50 [00:17<00:26,  1.11it/s]"
     ]
    },
    {
     "name": "stdout",
     "output_type": "stream",
     "text": [
      "α = 0.1598, α_prev = 0.1799, β = 0.8402, η = 0.5000, σ = 0.1649\n"
     ]
    },
    {
     "name": "stderr",
     "output_type": "stream",
     "text": [
      "DDIM Sampler:  42%|████▏     | 21/50 [00:19<00:27,  1.04it/s]"
     ]
    },
    {
     "name": "stdout",
     "output_type": "stream",
     "text": [
      "α = 0.1799, α_prev = 0.2014, β = 0.8201, η = 0.5000, σ = 0.1614\n"
     ]
    },
    {
     "name": "stderr",
     "output_type": "stream",
     "text": [
      "DDIM Sampler:  44%|████▍     | 22/50 [00:19<00:26,  1.05it/s]"
     ]
    },
    {
     "name": "stdout",
     "output_type": "stream",
     "text": [
      "α = 0.2014, α_prev = 0.2245, β = 0.7986, η = 0.5000, σ = 0.1580\n"
     ]
    },
    {
     "name": "stderr",
     "output_type": "stream",
     "text": [
      "DDIM Sampler:  46%|████▌     | 23/50 [00:20<00:25,  1.06it/s]"
     ]
    },
    {
     "name": "stdout",
     "output_type": "stream",
     "text": [
      "α = 0.2245, α_prev = 0.2490, β = 0.7755, η = 0.5000, σ = 0.1544\n"
     ]
    },
    {
     "name": "stderr",
     "output_type": "stream",
     "text": [
      "DDIM Sampler:  48%|████▊     | 24/50 [00:21<00:25,  1.03it/s]"
     ]
    },
    {
     "name": "stdout",
     "output_type": "stream",
     "text": [
      "α = 0.2490, α_prev = 0.2750, β = 0.7510, η = 0.5000, σ = 0.1509\n"
     ]
    },
    {
     "name": "stderr",
     "output_type": "stream",
     "text": [
      "DDIM Sampler:  50%|█████     | 25/50 [00:22<00:23,  1.05it/s]"
     ]
    },
    {
     "name": "stdout",
     "output_type": "stream",
     "text": [
      "α = 0.2750, α_prev = 0.3023, β = 0.7250, η = 0.5000, σ = 0.1474\n"
     ]
    },
    {
     "name": "stderr",
     "output_type": "stream",
     "text": [
      "DDIM Sampler:  52%|█████▏    | 26/50 [00:23<00:22,  1.06it/s]"
     ]
    },
    {
     "name": "stdout",
     "output_type": "stream",
     "text": [
      "α = 0.3023, α_prev = 0.3308, β = 0.6977, η = 0.5000, σ = 0.1438\n"
     ]
    },
    {
     "name": "stderr",
     "output_type": "stream",
     "text": [
      "DDIM Sampler:  54%|█████▍    | 27/50 [00:24<00:21,  1.08it/s]"
     ]
    },
    {
     "name": "stdout",
     "output_type": "stream",
     "text": [
      "α = 0.3308, α_prev = 0.3605, β = 0.6692, η = 0.5000, σ = 0.1403\n"
     ]
    },
    {
     "name": "stderr",
     "output_type": "stream",
     "text": [
      "DDIM Sampler:  56%|█████▌    | 28/50 [00:25<00:20,  1.09it/s]"
     ]
    },
    {
     "name": "stdout",
     "output_type": "stream",
     "text": [
      "α = 0.3605, α_prev = 0.3913, β = 0.6395, η = 0.5000, σ = 0.1367\n"
     ]
    },
    {
     "name": "stderr",
     "output_type": "stream",
     "text": [
      "DDIM Sampler:  58%|█████▊    | 29/50 [00:26<00:19,  1.09it/s]"
     ]
    },
    {
     "name": "stdout",
     "output_type": "stream",
     "text": [
      "α = 0.3913, α_prev = 0.4229, β = 0.6087, η = 0.5000, σ = 0.1331\n"
     ]
    },
    {
     "name": "stderr",
     "output_type": "stream",
     "text": [
      "DDIM Sampler:  60%|██████    | 30/50 [00:27<00:18,  1.10it/s]"
     ]
    },
    {
     "name": "stdout",
     "output_type": "stream",
     "text": [
      "α = 0.4229, α_prev = 0.4552, β = 0.5771, η = 0.5000, σ = 0.1295\n"
     ]
    },
    {
     "name": "stderr",
     "output_type": "stream",
     "text": [
      "DDIM Sampler:  62%|██████▏   | 31/50 [00:28<00:17,  1.10it/s]"
     ]
    },
    {
     "name": "stdout",
     "output_type": "stream",
     "text": [
      "α = 0.4552, α_prev = 0.4882, β = 0.5448, η = 0.5000, σ = 0.1259\n"
     ]
    },
    {
     "name": "stderr",
     "output_type": "stream",
     "text": [
      "DDIM Sampler:  64%|██████▍   | 32/50 [00:29<00:16,  1.09it/s]"
     ]
    },
    {
     "name": "stdout",
     "output_type": "stream",
     "text": [
      "α = 0.4882, α_prev = 0.5215, β = 0.5118, η = 0.5000, σ = 0.1223\n"
     ]
    },
    {
     "name": "stderr",
     "output_type": "stream",
     "text": [
      "DDIM Sampler:  66%|██████▌   | 33/50 [00:30<00:15,  1.10it/s]"
     ]
    },
    {
     "name": "stdout",
     "output_type": "stream",
     "text": [
      "α = 0.5215, α_prev = 0.5551, β = 0.4785, η = 0.5000, σ = 0.1186\n"
     ]
    },
    {
     "name": "stderr",
     "output_type": "stream",
     "text": [
      "DDIM Sampler:  68%|██████▊   | 34/50 [00:31<00:14,  1.09it/s]"
     ]
    },
    {
     "name": "stdout",
     "output_type": "stream",
     "text": [
      "α = 0.5551, α_prev = 0.5888, β = 0.4449, η = 0.5000, σ = 0.1150\n"
     ]
    },
    {
     "name": "stderr",
     "output_type": "stream",
     "text": [
      "DDIM Sampler:  70%|███████   | 35/50 [00:31<00:13,  1.09it/s]"
     ]
    },
    {
     "name": "stdout",
     "output_type": "stream",
     "text": [
      "α = 0.5888, α_prev = 0.6224, β = 0.4112, η = 0.5000, σ = 0.1113\n"
     ]
    },
    {
     "name": "stderr",
     "output_type": "stream",
     "text": [
      "DDIM Sampler:  72%|███████▏  | 36/50 [00:32<00:12,  1.09it/s]"
     ]
    },
    {
     "name": "stdout",
     "output_type": "stream",
     "text": [
      "α = 0.6224, α_prev = 0.6557, β = 0.3776, η = 0.5000, σ = 0.1076\n"
     ]
    },
    {
     "name": "stderr",
     "output_type": "stream",
     "text": [
      "DDIM Sampler:  74%|███████▍  | 37/50 [00:33<00:11,  1.09it/s]"
     ]
    },
    {
     "name": "stdout",
     "output_type": "stream",
     "text": [
      "α = 0.6557, α_prev = 0.6885, β = 0.3443, η = 0.5000, σ = 0.1038\n"
     ]
    },
    {
     "name": "stderr",
     "output_type": "stream",
     "text": [
      "DDIM Sampler:  76%|███████▌  | 38/50 [00:34<00:10,  1.10it/s]"
     ]
    },
    {
     "name": "stdout",
     "output_type": "stream",
     "text": [
      "α = 0.6885, α_prev = 0.7207, β = 0.3115, η = 0.5000, σ = 0.1001\n"
     ]
    },
    {
     "name": "stderr",
     "output_type": "stream",
     "text": [
      "DDIM Sampler:  78%|███████▊  | 39/50 [00:35<00:10,  1.10it/s]"
     ]
    },
    {
     "name": "stdout",
     "output_type": "stream",
     "text": [
      "α = 0.7207, α_prev = 0.7521, β = 0.2793, η = 0.5000, σ = 0.0963\n"
     ]
    },
    {
     "name": "stderr",
     "output_type": "stream",
     "text": [
      "DDIM Sampler:  80%|████████  | 40/50 [00:36<00:09,  1.09it/s]"
     ]
    },
    {
     "name": "stdout",
     "output_type": "stream",
     "text": [
      "α = 0.7521, α_prev = 0.7827, β = 0.2479, η = 0.5000, σ = 0.0924\n"
     ]
    },
    {
     "name": "stderr",
     "output_type": "stream",
     "text": [
      "DDIM Sampler:  82%|████████▏ | 41/50 [00:37<00:08,  1.10it/s]"
     ]
    },
    {
     "name": "stdout",
     "output_type": "stream",
     "text": [
      "α = 0.7827, α_prev = 0.8121, β = 0.2173, η = 0.5000, σ = 0.0885\n"
     ]
    },
    {
     "name": "stderr",
     "output_type": "stream",
     "text": [
      "DDIM Sampler:  84%|████████▍ | 42/50 [00:38<00:07,  1.10it/s]"
     ]
    },
    {
     "name": "stdout",
     "output_type": "stream",
     "text": [
      "α = 0.8121, α_prev = 0.8404, β = 0.1879, η = 0.5000, σ = 0.0845\n"
     ]
    },
    {
     "name": "stderr",
     "output_type": "stream",
     "text": [
      "DDIM Sampler:  86%|████████▌ | 43/50 [00:39<00:06,  1.09it/s]"
     ]
    },
    {
     "name": "stdout",
     "output_type": "stream",
     "text": [
      "α = 0.8404, α_prev = 0.8674, β = 0.1596, η = 0.5000, σ = 0.0804\n"
     ]
    },
    {
     "name": "stderr",
     "output_type": "stream",
     "text": [
      "DDIM Sampler:  88%|████████▊ | 44/50 [00:40<00:05,  1.09it/s]"
     ]
    },
    {
     "name": "stdout",
     "output_type": "stream",
     "text": [
      "α = 0.8674, α_prev = 0.8930, β = 0.1326, η = 0.5000, σ = 0.0761\n"
     ]
    },
    {
     "name": "stderr",
     "output_type": "stream",
     "text": [
      "DDIM Sampler:  90%|█████████ | 45/50 [00:41<00:04,  1.09it/s]"
     ]
    },
    {
     "name": "stdout",
     "output_type": "stream",
     "text": [
      "α = 0.8930, α_prev = 0.9171, β = 0.1070, η = 0.5000, σ = 0.0714\n"
     ]
    },
    {
     "name": "stderr",
     "output_type": "stream",
     "text": [
      "DDIM Sampler:  92%|█████████▏| 46/50 [00:42<00:03,  1.09it/s]"
     ]
    },
    {
     "name": "stdout",
     "output_type": "stream",
     "text": [
      "α = 0.9171, α_prev = 0.9398, β = 0.0829, η = 0.5000, σ = 0.0662\n"
     ]
    },
    {
     "name": "stderr",
     "output_type": "stream",
     "text": [
      "DDIM Sampler:  94%|█████████▍| 47/50 [00:42<00:02,  1.10it/s]"
     ]
    },
    {
     "name": "stdout",
     "output_type": "stream",
     "text": [
      "α = 0.9398, α_prev = 0.9609, β = 0.0602, η = 0.5000, σ = 0.0597\n"
     ]
    },
    {
     "name": "stderr",
     "output_type": "stream",
     "text": [
      "DDIM Sampler:  96%|█████████▌| 48/50 [00:43<00:01,  1.10it/s]"
     ]
    },
    {
     "name": "stdout",
     "output_type": "stream",
     "text": [
      "α = 0.9609, α_prev = 0.9804, β = 0.0391, η = 0.5000, σ = 0.0499\n"
     ]
    },
    {
     "name": "stderr",
     "output_type": "stream",
     "text": [
      "DDIM Sampler:  98%|█████████▊| 49/50 [00:44<00:00,  1.10it/s]"
     ]
    },
    {
     "name": "stdout",
     "output_type": "stream",
     "text": [
      "α = 0.9804, α_prev = 0.9983, β = 0.0196, η = 0.5000, σ = 0.0197\n"
     ]
    },
    {
     "name": "stderr",
     "output_type": "stream",
     "text": [
      "DDIM Sampler: 100%|██████████| 50/50 [00:45<00:00,  1.10it/s]"
     ]
    },
    {
     "name": "stdout",
     "output_type": "stream",
     "text": [
      "α = 0.9983, α_prev = 0.9991, β = 0.0017, η = 0.5000, σ = 0.0103\n"
     ]
    },
    {
     "name": "stderr",
     "output_type": "stream",
     "text": [
      "\n"
     ]
    }
   ],
   "source": [
    "samples, controls, latents = cu.get_sd_sample(\n",
    "    guidance=edges,\n",
    "    ddim_steps=50,\n",
    "    num_samples=num_samples,\n",
    "    model=model,\n",
    "    shape=[4, size // 8, size // 8],\n",
    "    control_scale=0.95,\n",
    "    prompt=prompt,\n",
    "    n_prompt=n_prompt,\n",
    "    return_latents=True\n",
    ")"
   ]
  },
  {
   "cell_type": "code",
   "execution_count": 14,
   "id": "d15e0f9a-ed0f-4e47-9f62-4a484af5283c",
   "metadata": {
    "tags": []
   },
   "outputs": [
    {
     "name": "stderr",
     "output_type": "stream",
     "text": [
      "ERROR:root:No traceback has been produced, nothing to debug.\n"
     ]
    }
   ],
   "source": [
    "%debug"
   ]
  },
  {
   "cell_type": "code",
   "execution_count": 15,
   "id": "1eb94be5-1961-4ad0-ab81-62ee796f90d6",
   "metadata": {},
   "outputs": [
    {
     "ename": "AssertionError",
     "evalue": "",
     "output_type": "error",
     "traceback": [
      "\u001b[0;31m---------------------------------------------------------------------------\u001b[0m",
      "\u001b[0;31mAssertionError\u001b[0m                            Traceback (most recent call last)",
      "Cell \u001b[0;32mIn[15], line 1\u001b[0m\n\u001b[0;32m----> 1\u001b[0m \u001b[38;5;28;01massert\u001b[39;00m \u001b[38;5;28;01mFalse\u001b[39;00m\n",
      "\u001b[0;31mAssertionError\u001b[0m: "
     ]
    }
   ],
   "source": [
    "assert False"
   ]
  },
  {
   "cell_type": "code",
   "execution_count": null,
   "id": "aaf2efd1-5679-4464-8a0e-00f4de7a7b9f",
   "metadata": {
    "tags": []
   },
   "outputs": [],
   "source": []
  },
  {
   "cell_type": "code",
   "execution_count": null,
   "id": "f0607461-81c0-4563-b615-40ee0423c72e",
   "metadata": {
    "tags": []
   },
   "outputs": [],
   "source": [
    "# # save initial latents\n",
    "initial_rand = latents['x_inter'][0]\n",
    "assert initial_rand.dim()==4 # b c w h\n",
    "torch.save(initial_rand, 'latents_cloud_no_control_512.pth')\n",
    "print(f'Saved noise with distribution {initial_rand.mean():.3f} ± {initial_rand.std():.3f}')"
   ]
  },
  {
   "cell_type": "code",
   "execution_count": null,
   "id": "b4148158-3495-41c2-87f1-f652c32a3ba5",
   "metadata": {
    "tags": []
   },
   "outputs": [],
   "source": [
    "assert False"
   ]
  },
  {
   "cell_type": "code",
   "execution_count": null,
   "id": "04a3d5f3-99db-428d-9da6-5409cc4410fc",
   "metadata": {},
   "outputs": [],
   "source": []
  },
  {
   "cell_type": "code",
   "execution_count": null,
   "id": "687cb2c1-09f3-4984-b554-f711be436783",
   "metadata": {
    "tags": []
   },
   "outputs": [],
   "source": []
  },
  {
   "cell_type": "code",
   "execution_count": null,
   "id": "e68e3dba-96fe-44cb-b70e-f181a787bf18",
   "metadata": {},
   "outputs": [],
   "source": [
    "from PIL import Image\n",
    "def show_image(im_tensor): return Image.fromarray(cu.create_image_grid(im_tensor))"
   ]
  },
  {
   "cell_type": "code",
   "execution_count": null,
   "id": "e0f3e5d5-1d77-4e87-bbcd-b95dc0cdcc9f",
   "metadata": {
    "tags": []
   },
   "outputs": [],
   "source": [
    "show_image(samples)"
   ]
  },
  {
   "cell_type": "code",
   "execution_count": null,
   "id": "cf7d2a68-1f1f-4d90-b0f8-50b162c038d0",
   "metadata": {},
   "outputs": [],
   "source": [
    "type(model.control_model)"
   ]
  },
  {
   "cell_type": "code",
   "execution_count": null,
   "id": "17d238e0-c4e8-4680-9f98-8de4a832498b",
   "metadata": {},
   "outputs": [],
   "source": [
    "assert False"
   ]
  },
  {
   "cell_type": "code",
   "execution_count": null,
   "id": "8ec7098c-0cba-4c99-a5a9-328f61c6e59c",
   "metadata": {
    "tags": []
   },
   "outputs": [],
   "source": [
    "import einops\n",
    "import numpy as np\n",
    "from PIL import Image\n",
    "\n",
    "def lat2img(lat, resize_to=None, output_type='pil'):\n",
    "    assert lat.dim() == 4, \"Expected a batch of images, not a single batch\"\n",
    "    \n",
    "    with torch.no_grad():\n",
    "        ims = model.decode_first_stage(lat)\n",
    "        ims = (einops.rearrange(\n",
    "            ims, 'b c h w -> b h w c'\n",
    "        ) * 127.5 + 127.5).cpu().numpy().clip(0, 255).astype(np.uint8)\n",
    "        \n",
    "        if output_type == 'pil': ims = [Image.fromarray(im) for im in ims]\n",
    "        \n",
    "        if resize_to is not None:\n",
    "            if output_type=='pil': ims = [im.resize(resize_to) for im in ims]\n",
    "            else: print(f'Not resizing as output_type = {output_type} requested')\n",
    "    return ims"
   ]
  },
  {
   "cell_type": "code",
   "execution_count": null,
   "id": "0dee8055-3d0f-4f54-bc93-09284b2926cf",
   "metadata": {},
   "outputs": [],
   "source": [
    "from functools import partial\n",
    "from tqdm.notebook import tqdm\n",
    "\n",
    "import torch\n",
    "import einops\n",
    "import matplotlib.pyplot as plt\n",
    "from PIL import Image, ImageOps, ImageDraw\n",
    "from tqdm.notebook import tqdm\n",
    "from functools import partial\n",
    "\n",
    "def plot_latents_to_pil_grid(lats, every=1, cols=10, im_size=200, pbar=True, border=2, return_ims=True, output_type='pil'):\n",
    "    if not isinstance(im_size, (list, tuple)): im_size = (im_size, im_size)\n",
    "    \n",
    "    lats = [lat for i, lat in enumerate(lats) if i % every == 0 or i == len(lats)-1]\n",
    "    if pbar: lats = tqdm(lats)\n",
    "    \n",
    "    # decoce latents -> images\n",
    "    ims = [lat2img(lat, resize_to=im_size, output_type=output_type)[0] for lat in lats] # removed pipe argument\n",
    "    \n",
    "    # add border\n",
    "    ims_bordered = [ImageOps.expand(im, border=2, fill='black') for im in ims]\n",
    "    im_size = (im_size[0]+border, im_size[1]+border)\n",
    "\n",
    "    rows = len(ims) // cols\n",
    "    if rows * cols < len(ims): rows += 1\n",
    "\n",
    "    # draw background\n",
    "    grid_image = Image.new('RGB', (cols * im_size[0], rows * im_size[1]), color='grey')\n",
    "    draw = ImageDraw.Draw(grid_image)\n",
    "    for xy in range(0,2*max(cols * im_size[0], rows * im_size[1])+1,100):\n",
    "        draw.line([(xy, 0), (0, xy)], fill=\"white\", width=1)\n",
    "    \n",
    "    # draw images\n",
    "    for i, img in enumerate(ims_bordered):\n",
    "        x_offset = (i % cols) * im_size[0]\n",
    "        y_offset = (i // cols) * im_size[1]\n",
    "        grid_image.paste(img, (x_offset, y_offset))\n",
    "\n",
    "    if return_ims: return grid_image, ims\n",
    "    else: return grid_image"
   ]
  },
  {
   "cell_type": "code",
   "execution_count": null,
   "id": "076182e2-1372-4f11-9c16-c120e98f4de0",
   "metadata": {},
   "outputs": [],
   "source": [
    "grid, ims = plot_latents_to_pil_grid(latents)"
   ]
  },
  {
   "cell_type": "markdown",
   "id": "28190dcd-9a17-491e-86bb-8aa151a32b91",
   "metadata": {},
   "source": [
    "Cuda Heidelberg, control scale = 0"
   ]
  },
  {
   "cell_type": "code",
   "execution_count": null,
   "id": "d3a04ad9-1f4e-45d0-a2fe-e30205c8a088",
   "metadata": {
    "tags": []
   },
   "outputs": [],
   "source": [
    "grid"
   ]
  },
  {
   "cell_type": "code",
   "execution_count": null,
   "id": "6ff5718b-1db0-4620-b084-ec490dc71286",
   "metadata": {},
   "outputs": [],
   "source": []
  },
  {
   "cell_type": "code",
   "execution_count": null,
   "id": "0cc0f9d6-f231-4a00-bfdf-76701a3ecb3d",
   "metadata": {},
   "outputs": [],
   "source": []
  },
  {
   "cell_type": "code",
   "execution_count": null,
   "id": "0a3ee3a6-9a2a-477e-a4c4-d8bf20b3808d",
   "metadata": {},
   "outputs": [],
   "source": []
  },
  {
   "cell_type": "code",
   "execution_count": null,
   "id": "3cc71b66-91f4-4ee3-a23f-54151ad34c6f",
   "metadata": {},
   "outputs": [],
   "source": []
  },
  {
   "cell_type": "code",
   "execution_count": null,
   "id": "57c294c2-24c9-4dea-9775-ed7f7ac5238e",
   "metadata": {},
   "outputs": [],
   "source": []
  },
  {
   "cell_type": "code",
   "execution_count": null,
   "id": "5bbebb69-1770-4559-8f60-e77b9ffc30c9",
   "metadata": {},
   "outputs": [],
   "source": []
  },
  {
   "cell_type": "code",
   "execution_count": null,
   "id": "602acaba-3cdf-4818-9467-5fa7045d30dc",
   "metadata": {},
   "outputs": [],
   "source": []
  },
  {
   "cell_type": "code",
   "execution_count": null,
   "id": "55cae264-d9be-4c2d-aee5-161415a9cbf6",
   "metadata": {},
   "outputs": [],
   "source": []
  }
 ],
 "metadata": {
  "kernelspec": {
   "display_name": "Python 3 (ipykernel)",
   "language": "python",
   "name": "python3"
  },
  "language_info": {
   "codemirror_mode": {
    "name": "ipython",
    "version": 3
   },
   "file_extension": ".py",
   "mimetype": "text/x-python",
   "name": "python",
   "nbconvert_exporter": "python",
   "pygments_lexer": "ipython3",
   "version": "3.10.13"
  }
 },
 "nbformat": 4,
 "nbformat_minor": 5
}
