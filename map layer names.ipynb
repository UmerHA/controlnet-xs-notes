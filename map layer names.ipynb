{
 "cells": [
  {
   "cell_type": "markdown",
   "id": "17a718e1-28e9-4766-9973-9207da3f986a",
   "metadata": {},
   "source": [
    "In this notebook, I want to map the modules of cnxs' unet and diffusers' onto each other. When done, I should be able to load diffuser weights into cnxs."
   ]
  },
  {
   "cell_type": "markdown",
   "id": "1b0efad4-daef-4c45-b6b6-276d1de06161",
   "metadata": {},
   "source": [
    "___"
   ]
  },
  {
   "cell_type": "code",
   "execution_count": 1,
   "id": "680cf02d-fcaa-4d11-8925-cb973e7b6039",
   "metadata": {
    "tags": []
   },
   "outputs": [],
   "source": [
    "#!pip install -Uqq transformers diffusers "
   ]
  },
  {
   "cell_type": "code",
   "execution_count": 2,
   "id": "ab1ff2fc-41ba-4b77-82de-d76165e1f377",
   "metadata": {
    "tags": []
   },
   "outputs": [],
   "source": [
    "import torch"
   ]
  },
  {
   "cell_type": "code",
   "execution_count": 3,
   "id": "0a08b518-d2d6-4251-b65f-fdb1aba792be",
   "metadata": {
    "tags": []
   },
   "outputs": [],
   "source": [
    "from diffusers.models import AutoencoderKL\n",
    "from diffusers import StableDiffusionXLPipeline"
   ]
  },
  {
   "cell_type": "code",
   "execution_count": 4,
   "id": "70686595-366a-4c49-91f5-7b044fc72fc8",
   "metadata": {
    "tags": []
   },
   "outputs": [],
   "source": [
    "model = \"stabilityai/stable-diffusion-xl-base-1.0\"\n",
    "vae = AutoencoderKL.from_pretrained(\"stabilityai/sdxl-vae\", torch_dtype=torch.float16)"
   ]
  },
  {
   "cell_type": "code",
   "execution_count": 5,
   "id": "9e0ec2d2-18c7-4504-af54-3ab4696be612",
   "metadata": {
    "tags": []
   },
   "outputs": [
    {
     "data": {
      "application/vnd.jupyter.widget-view+json": {
       "model_id": "2c83383cfb1d497780913e07fa0a6aad",
       "version_major": 2,
       "version_minor": 0
      },
      "text/plain": [
       "Loading pipeline components...:   0%|          | 0/7 [00:00<?, ?it/s]"
      ]
     },
     "metadata": {},
     "output_type": "display_data"
    }
   ],
   "source": [
    "pipe = StableDiffusionXLPipeline.from_pretrained(model, vae=vae, torch_dtype=torch.float16)"
   ]
  },
  {
   "cell_type": "markdown",
   "id": "fbcce888-df2c-4cf5-b036-413d31664712",
   "metadata": {},
   "source": [
    "___"
   ]
  },
  {
   "cell_type": "code",
   "execution_count": 6,
   "id": "dc05ad01-2844-4ae9-a07f-8f88e90c6fa4",
   "metadata": {},
   "outputs": [],
   "source": [
    "def nested_dict(d, ignore_bias=True):\n",
    "    root = {}\n",
    "    for k,v in d.items():\n",
    "        if 'bias' in k: continue\n",
    "        parts = k.replace('.weight','').split(\".\")\n",
    "        d = root\n",
    "        for part in parts[:-1]:\n",
    "            d = d.setdefault(part, {})\n",
    "        d[parts[-1]] = v \n",
    "    return root\n",
    "\n",
    "def pretty_print_dict(d,lv=2,indent=0,depth=1):\n",
    "    if lv is not None and depth > lv: return\n",
    "    if not isinstance(d,dict):\n",
    "        print(d)\n",
    "        return\n",
    "    for k,v in d.items():\n",
    "        if isinstance(v, dict):\n",
    "            print('  ' * indent + str(k))\n",
    "            pretty_print_dict(v,lv,indent+2,depth+1)\n",
    "        else: \n",
    "            print('  ' * indent + str(k) + ' -> ' + str(v))"
   ]
  },
  {
   "cell_type": "markdown",
   "id": "d63b110f-4ff9-47a6-adaf-a38d84f7cace",
   "metadata": {},
   "source": [
    "___"
   ]
  },
  {
   "cell_type": "code",
   "execution_count": 7,
   "id": "9c850341-8974-49c2-986a-6c2c2c2e8bf6",
   "metadata": {},
   "outputs": [],
   "source": [
    "def to_shape(o):\n",
    "    if isinstance(o,dict): return {k:to_shape(v) for k,v in o.items()}\n",
    "    elif isinstance(o,list): return o\n",
    "    else: return list(o.shape)\n",
    "\n",
    "def remove_bias(o):\n",
    "    if isinstance(o,dict): return {k.replace('.weight',''):remove_bias(v) for k,v in o.items() if not 'bias' in k}\n",
    "    else: return o"
   ]
  },
  {
   "cell_type": "markdown",
   "id": "ab290585-c9eb-4b3c-8e6f-4b66a3a74ae3",
   "metadata": {},
   "source": [
    "Load unet from CNXS"
   ]
  },
  {
   "cell_type": "code",
   "execution_count": 8,
   "id": "18fbc6e8-a9fc-43be-ac55-7594f97a6a5a",
   "metadata": {},
   "outputs": [],
   "source": [
    "import json"
   ]
  },
  {
   "cell_type": "code",
   "execution_count": 9,
   "id": "05043d7d-50e9-47e2-b76c-6ca8b55d7ed1",
   "metadata": {},
   "outputs": [],
   "source": [
    "with open('cnsx_base_state_dict_with_shapes.json', 'r') as infile:\n",
    "    cn_sdict = json.load(infile)"
   ]
  },
  {
   "cell_type": "code",
   "execution_count": 10,
   "id": "d186b3c0-1fd1-4186-9fe6-7239929472b4",
   "metadata": {},
   "outputs": [],
   "source": [
    "cn_sdict = remove_bias(to_shape(cn_sdict))"
   ]
  },
  {
   "cell_type": "markdown",
   "id": "62f1919e-fcab-4a25-a3f1-bc8103a8324b",
   "metadata": {},
   "source": [
    "Load unet from diffusers"
   ]
  },
  {
   "cell_type": "code",
   "execution_count": 11,
   "id": "76e7816d-c4d8-452a-aa43-fa60a635222f",
   "metadata": {},
   "outputs": [],
   "source": [
    "df_sdict = remove_bias(to_shape(pipe.unet.state_dict()))"
   ]
  },
  {
   "cell_type": "markdown",
   "id": "6d38d7fb-cde0-4f48-9a1d-cc584fb4be1a",
   "metadata": {},
   "source": [
    "___\n"
   ]
  },
  {
   "cell_type": "code",
   "execution_count": 104,
   "id": "f62d4a0f-d901-47c5-8738-1282e185a4e5",
   "metadata": {},
   "outputs": [],
   "source": [
    "cn_bak = cn_sdict.copy()\n",
    "df_bak = df_sdict.copy()"
   ]
  },
  {
   "cell_type": "markdown",
   "id": "a2244043-fdd2-4c37-98bd-855b24ffa072",
   "metadata": {},
   "source": [
    "### First goal: Map one resnet"
   ]
  },
  {
   "cell_type": "code",
   "execution_count": 120,
   "id": "c27daf3c-272a-4e8c-9de8-965cee58bbaa",
   "metadata": {},
   "outputs": [],
   "source": [
    "from dataclasses import dataclass\n",
    "\n",
    "@dataclass\n",
    "class MappedModule:\n",
    "    cn: str\n",
    "    df: str\n",
    "    shape: list\n",
    "    def __repr__(self): return f'{self.df} {self.shape}'\n",
    "\n",
    "\n",
    "class UnmappedModel:\n",
    "    # contains dict of style {'down_blocks.0.resnets.0': [4, 64, 64]}\n",
    "    def __init__(self, modules): self.modules = modules\n",
    "    def print(self, contains='', lv=None): pretty_print_dict(nested_dict(filter_dict(self.modules,by=contains)), lv=lv)\n",
    "    def remove(self,k): del self.modules[k]\n",
    "    def __getitem__(self,k): return self.modules[k]\n",
    "    def __len__(self): return len(self.modules)\n",
    "    def has(self,k): return any(k==k_ for k_ in self.modules.keys())\n",
    "\n",
    "def filter_dict(d,by): return {k:v for k,v in d.items() if by in k}\n",
    "\n",
    "class MappedModel:\n",
    "    modules = []\n",
    "\n",
    "    def __init__(self, unmapped_cn, unmapped_df):\n",
    "        self.unmapped_cn=UnmappedModel(unmapped_cn)\n",
    "        self.unmapped_df=UnmappedModel(unmapped_df)\n",
    "    \n",
    "    def add(self, cn_module, df_module):\n",
    "        # check shapes\n",
    "        cn_shape = self.unmapped_cn[cn_module]\n",
    "        df_shape = self.unmapped_df[df_module]\n",
    "        assert cn_shape==df_shape, f'Mapping don\\'t fit: {cn_shape} != {df_shape}'\n",
    "        # add to mapped\n",
    "        self.modules = sorted(self.modules + [MappedModule(cn=cn_module,df=df_module,shape=cn_shape)], key=lambda o:o.df)\n",
    "        # remove from unmapped\n",
    "        self.unmapped_cn.remove(cn_module)\n",
    "        self.unmapped_df.remove(df_module)\n",
    "        print(f'Added {df_module} ✅')\n",
    "        \n",
    "    def __repr__(self): return '\\n'.join(str(m) for m in self.modules)\n",
    "    def __len__(self): return len(self.modules)"
   ]
  },
  {
   "cell_type": "markdown",
   "id": "4c05ed78-5af2-4006-8278-35d74a15197e",
   "metadata": {},
   "source": [
    "___"
   ]
  },
  {
   "cell_type": "code",
   "execution_count": 121,
   "id": "abbfa527-eb22-4b05-91ff-f2e4a86bb2ad",
   "metadata": {},
   "outputs": [],
   "source": [
    "cn = cn_bak.copy()\n",
    "df = df_bak.copy()"
   ]
  },
  {
   "cell_type": "code",
   "execution_count": 122,
   "id": "58b4cb68-c408-4909-8e38-d9a0fb1cf56a",
   "metadata": {},
   "outputs": [],
   "source": [
    "mapped = MappedModel(cn,df)"
   ]
  },
  {
   "cell_type": "code",
   "execution_count": 123,
   "id": "f000c370-6f0f-4655-bbba-4717cdab9110",
   "metadata": {},
   "outputs": [],
   "source": [
    "cn_unmapped = UnmappedModel(cn)\n",
    "df_unmapped = UnmappedModel(df)"
   ]
  },
  {
   "cell_type": "code",
   "execution_count": 124,
   "id": "5336cdd5-15b9-4727-a00c-3d82ff85c3b2",
   "metadata": {},
   "outputs": [
    {
     "name": "stdout",
     "output_type": "stream",
     "text": [
      "input_blocks\n",
      "    1\n",
      "        0\n",
      "            in_layers\n",
      "                0 -> [320]\n",
      "                2 -> [320, 320, 3, 3]\n",
      "            emb_layers\n",
      "                1 -> [320, 1280]\n",
      "            out_layers\n",
      "                0 -> [320]\n",
      "                3 -> [320, 320, 3, 3]\n"
     ]
    }
   ],
   "source": [
    "cn_unmapped.print('input_blocks.1.0', lv=5)"
   ]
  },
  {
   "cell_type": "code",
   "execution_count": null,
   "id": "e4797053-d515-4ad4-b136-2911528e7ddd",
   "metadata": {},
   "outputs": [],
   "source": []
  },
  {
   "cell_type": "code",
   "execution_count": 125,
   "id": "550ec0d1-aa39-41e3-8641-7035ae079055",
   "metadata": {},
   "outputs": [
    {
     "data": {
      "text/plain": [
       "(0, 1050, 1050)"
      ]
     },
     "execution_count": 125,
     "metadata": {},
     "output_type": "execute_result"
    }
   ],
   "source": [
    "len(mapped), len(cn_unmapped), len(df_unmapped)"
   ]
  },
  {
   "cell_type": "code",
   "execution_count": 126,
   "id": "d54701f1-68f7-4094-852e-ac31ce340616",
   "metadata": {},
   "outputs": [],
   "source": [
    "def map_resnet(idx):\n",
    "    d1,d2,c=idx\n",
    "    cn_path = f'input_blocks.{c}.0.'\n",
    "    df_path = f'down_blocks.{d1}.resnets.{d2}.'\n",
    "    mapped.add(cn_module=cn_path+'in_layers.0',df_module=df_path+'norm1')\n",
    "    mapped.add(cn_module=cn_path+'in_layers.2',df_module=df_path+'conv1')\n",
    "    mapped.add(cn_module=cn_path+'emb_layers.1',df_module=df_path+'time_emb_proj')\n",
    "    mapped.add(cn_module=cn_path+'out_layers.0',df_module=df_path+'norm2')\n",
    "    mapped.add(cn_module=cn_path+'out_layers.3',df_module=df_path+'conv2')\n",
    "    if mapped.unmapped_df.has(df_path+'conv_shortcut'): mapped.add(cn_module=cn_path+'skip_connection',df_module=df_path+'conv_shortcut')\n",
    "\n",
    "def map_downsample(idx):\n",
    "    d1,d2,c=idx\n",
    "    cn_path = f'input_blocks.{c}.0.'\n",
    "    df_path = f'down_blocks.{d1}.downsamplers.{d2}.'\n",
    "    mapped.add(cn_module=cn_path+'op',df_module=df_path+'conv')\n",
    "    \n",
    "def map_attn(idx):\n",
    "    d1,d2,c=idx\n",
    "    cn_path = f'input_blocks.{c}.1.'\n",
    "    df_path = f'down_blocks.{d1}.attentions.{d2}.'\n",
    "    mapped.add(cn_module=cn_path+'norm',df_module=df_path+'norm')\n",
    "    mapped.add(cn_module=cn_path+'proj_in',df_module=df_path+'proj_in')\n",
    "    # todo tf blocks\n",
    "    mapped.add(cn_module=cn_path+'proj_out',df_module=df_path+'proj_out')\n",
    "    \n",
    "\n",
    "def map_down_block():\n",
    "    # # resnets\n",
    "    idx = (\n",
    "        (0,0,1),\n",
    "        (0,1,2),\n",
    "        (1,0,4),\n",
    "        (1,1,5),\n",
    "    )\n",
    "    for i in idx: map_resnet(i)\n",
    "    # # attentions\n",
    "    idx = (\n",
    "        (1,0,4),\n",
    "        (1,1,5),\n",
    "    )\n",
    "    for i in idx: map_resnet(i)\n",
    "    # # downsamplers"
   ]
  },
  {
   "cell_type": "code",
   "execution_count": 127,
   "id": "46e1eff5-3264-4697-8e3d-c027054bc4e6",
   "metadata": {},
   "outputs": [
    {
     "name": "stdout",
     "output_type": "stream",
     "text": [
      "Added down_blocks.0.resnets.0.norm1 ✅\n",
      "Added down_blocks.0.resnets.0.conv1 ✅\n",
      "Added down_blocks.0.resnets.0.time_emb_proj ✅\n",
      "Added down_blocks.0.resnets.0.norm2 ✅\n",
      "Added down_blocks.0.resnets.0.conv2 ✅\n",
      "Added down_blocks.0.resnets.1.norm1 ✅\n",
      "Added down_blocks.0.resnets.1.conv1 ✅\n",
      "Added down_blocks.0.resnets.1.time_emb_proj ✅\n",
      "Added down_blocks.0.resnets.1.norm2 ✅\n",
      "Added down_blocks.0.resnets.1.conv2 ✅\n",
      "Added down_blocks.1.resnets.0.norm1 ✅\n",
      "Added down_blocks.1.resnets.0.conv1 ✅\n",
      "Added down_blocks.1.resnets.0.time_emb_proj ✅\n",
      "Added down_blocks.1.resnets.0.norm2 ✅\n",
      "Added down_blocks.1.resnets.0.conv2 ✅\n",
      "Added down_blocks.1.resnets.0.conv_shortcut ✅\n",
      "Added down_blocks.1.resnets.1.norm1 ✅\n",
      "Added down_blocks.1.resnets.1.conv1 ✅\n",
      "Added down_blocks.1.resnets.1.time_emb_proj ✅\n",
      "Added down_blocks.1.resnets.1.norm2 ✅\n",
      "Added down_blocks.1.resnets.1.conv2 ✅\n"
     ]
    },
    {
     "ename": "KeyError",
     "evalue": "'input_blocks.4.0.in_layers.0'",
     "output_type": "error",
     "traceback": [
      "\u001b[0;31m---------------------------------------------------------------------------\u001b[0m",
      "\u001b[0;31mKeyError\u001b[0m                                  Traceback (most recent call last)",
      "Cell \u001b[0;32mIn[127], line 1\u001b[0m\n\u001b[0;32m----> 1\u001b[0m \u001b[43mmap_down_block\u001b[49m\u001b[43m(\u001b[49m\u001b[43m)\u001b[49m\n",
      "Cell \u001b[0;32mIn[126], line 42\u001b[0m, in \u001b[0;36mmap_down_block\u001b[0;34m()\u001b[0m\n\u001b[1;32m     37\u001b[0m \u001b[38;5;66;03m# # attentions\u001b[39;00m\n\u001b[1;32m     38\u001b[0m idx \u001b[38;5;241m=\u001b[39m (\n\u001b[1;32m     39\u001b[0m     (\u001b[38;5;241m1\u001b[39m,\u001b[38;5;241m0\u001b[39m,\u001b[38;5;241m4\u001b[39m),\n\u001b[1;32m     40\u001b[0m     (\u001b[38;5;241m1\u001b[39m,\u001b[38;5;241m1\u001b[39m,\u001b[38;5;241m5\u001b[39m),\n\u001b[1;32m     41\u001b[0m )\n\u001b[0;32m---> 42\u001b[0m \u001b[38;5;28;01mfor\u001b[39;00m i \u001b[38;5;129;01min\u001b[39;00m idx: \u001b[43mmap_resnet\u001b[49m\u001b[43m(\u001b[49m\u001b[43mi\u001b[49m\u001b[43m)\u001b[49m\n",
      "Cell \u001b[0;32mIn[126], line 5\u001b[0m, in \u001b[0;36mmap_resnet\u001b[0;34m(idx)\u001b[0m\n\u001b[1;32m      3\u001b[0m cn_path \u001b[38;5;241m=\u001b[39m \u001b[38;5;124mf\u001b[39m\u001b[38;5;124m'\u001b[39m\u001b[38;5;124minput_blocks.\u001b[39m\u001b[38;5;132;01m{\u001b[39;00mc\u001b[38;5;132;01m}\u001b[39;00m\u001b[38;5;124m.0.\u001b[39m\u001b[38;5;124m'\u001b[39m\n\u001b[1;32m      4\u001b[0m df_path \u001b[38;5;241m=\u001b[39m \u001b[38;5;124mf\u001b[39m\u001b[38;5;124m'\u001b[39m\u001b[38;5;124mdown_blocks.\u001b[39m\u001b[38;5;132;01m{\u001b[39;00md1\u001b[38;5;132;01m}\u001b[39;00m\u001b[38;5;124m.resnets.\u001b[39m\u001b[38;5;132;01m{\u001b[39;00md2\u001b[38;5;132;01m}\u001b[39;00m\u001b[38;5;124m.\u001b[39m\u001b[38;5;124m'\u001b[39m\n\u001b[0;32m----> 5\u001b[0m \u001b[43mmapped\u001b[49m\u001b[38;5;241;43m.\u001b[39;49m\u001b[43madd\u001b[49m\u001b[43m(\u001b[49m\u001b[43mcn_module\u001b[49m\u001b[38;5;241;43m=\u001b[39;49m\u001b[43mcn_path\u001b[49m\u001b[38;5;241;43m+\u001b[39;49m\u001b[38;5;124;43m'\u001b[39;49m\u001b[38;5;124;43min_layers.0\u001b[39;49m\u001b[38;5;124;43m'\u001b[39;49m\u001b[43m,\u001b[49m\u001b[43mdf_module\u001b[49m\u001b[38;5;241;43m=\u001b[39;49m\u001b[43mdf_path\u001b[49m\u001b[38;5;241;43m+\u001b[39;49m\u001b[38;5;124;43m'\u001b[39;49m\u001b[38;5;124;43mnorm1\u001b[39;49m\u001b[38;5;124;43m'\u001b[39;49m\u001b[43m)\u001b[49m\n\u001b[1;32m      6\u001b[0m mapped\u001b[38;5;241m.\u001b[39madd(cn_module\u001b[38;5;241m=\u001b[39mcn_path\u001b[38;5;241m+\u001b[39m\u001b[38;5;124m'\u001b[39m\u001b[38;5;124min_layers.2\u001b[39m\u001b[38;5;124m'\u001b[39m,df_module\u001b[38;5;241m=\u001b[39mdf_path\u001b[38;5;241m+\u001b[39m\u001b[38;5;124m'\u001b[39m\u001b[38;5;124mconv1\u001b[39m\u001b[38;5;124m'\u001b[39m)\n\u001b[1;32m      7\u001b[0m mapped\u001b[38;5;241m.\u001b[39madd(cn_module\u001b[38;5;241m=\u001b[39mcn_path\u001b[38;5;241m+\u001b[39m\u001b[38;5;124m'\u001b[39m\u001b[38;5;124memb_layers.1\u001b[39m\u001b[38;5;124m'\u001b[39m,df_module\u001b[38;5;241m=\u001b[39mdf_path\u001b[38;5;241m+\u001b[39m\u001b[38;5;124m'\u001b[39m\u001b[38;5;124mtime_emb_proj\u001b[39m\u001b[38;5;124m'\u001b[39m)\n",
      "Cell \u001b[0;32mIn[120], line 31\u001b[0m, in \u001b[0;36mMappedModel.add\u001b[0;34m(self, cn_module, df_module)\u001b[0m\n\u001b[1;32m     29\u001b[0m \u001b[38;5;28;01mdef\u001b[39;00m \u001b[38;5;21madd\u001b[39m(\u001b[38;5;28mself\u001b[39m, cn_module, df_module):\n\u001b[1;32m     30\u001b[0m     \u001b[38;5;66;03m# check shapes\u001b[39;00m\n\u001b[0;32m---> 31\u001b[0m     cn_shape \u001b[38;5;241m=\u001b[39m \u001b[38;5;28;43mself\u001b[39;49m\u001b[38;5;241;43m.\u001b[39;49m\u001b[43munmapped_cn\u001b[49m\u001b[43m[\u001b[49m\u001b[43mcn_module\u001b[49m\u001b[43m]\u001b[49m\n\u001b[1;32m     32\u001b[0m     df_shape \u001b[38;5;241m=\u001b[39m \u001b[38;5;28mself\u001b[39m\u001b[38;5;241m.\u001b[39munmapped_df[df_module]\n\u001b[1;32m     33\u001b[0m     \u001b[38;5;28;01massert\u001b[39;00m cn_shape\u001b[38;5;241m==\u001b[39mdf_shape, \u001b[38;5;124mf\u001b[39m\u001b[38;5;124m'\u001b[39m\u001b[38;5;124mMapping don\u001b[39m\u001b[38;5;130;01m\\'\u001b[39;00m\u001b[38;5;124mt fit: \u001b[39m\u001b[38;5;132;01m{\u001b[39;00mcn_shape\u001b[38;5;132;01m}\u001b[39;00m\u001b[38;5;124m != \u001b[39m\u001b[38;5;132;01m{\u001b[39;00mdf_shape\u001b[38;5;132;01m}\u001b[39;00m\u001b[38;5;124m'\u001b[39m\n",
      "Cell \u001b[0;32mIn[120], line 16\u001b[0m, in \u001b[0;36mUnmappedModel.__getitem__\u001b[0;34m(self, k)\u001b[0m\n\u001b[0;32m---> 16\u001b[0m \u001b[38;5;28;01mdef\u001b[39;00m \u001b[38;5;21m__getitem__\u001b[39m(\u001b[38;5;28mself\u001b[39m,k): \u001b[38;5;28;01mreturn\u001b[39;00m \u001b[38;5;28;43mself\u001b[39;49m\u001b[38;5;241;43m.\u001b[39;49m\u001b[43mmodules\u001b[49m\u001b[43m[\u001b[49m\u001b[43mk\u001b[49m\u001b[43m]\u001b[49m\n",
      "\u001b[0;31mKeyError\u001b[0m: 'input_blocks.4.0.in_layers.0'"
     ]
    }
   ],
   "source": [
    "map_down_block()"
   ]
  },
  {
   "cell_type": "code",
   "execution_count": 77,
   "id": "ab9a441e-c5fe-49fa-8059-22c7f9732eb3",
   "metadata": {},
   "outputs": [
    {
     "data": {
      "text/plain": [
       "(15, 1035, 1035)"
      ]
     },
     "execution_count": 77,
     "metadata": {},
     "output_type": "execute_result"
    }
   ],
   "source": [
    "len(mapped), len(cn_unmapped), len(df_unmapped)"
   ]
  },
  {
   "cell_type": "code",
   "execution_count": null,
   "id": "d4f9c799-967e-461c-b142-938fce0cd8a0",
   "metadata": {},
   "outputs": [],
   "source": [
    "mapped.d"
   ]
  }
 ],
 "metadata": {
  "kernelspec": {
   "display_name": "Python 3 (ipykernel)",
   "language": "python",
   "name": "python3"
  },
  "language_info": {
   "codemirror_mode": {
    "name": "ipython",
    "version": 3
   },
   "file_extension": ".py",
   "mimetype": "text/x-python",
   "name": "python",
   "nbconvert_exporter": "python",
   "pygments_lexer": "ipython3",
   "version": "3.11.5"
  }
 },
 "nbformat": 4,
 "nbformat_minor": 5
}
