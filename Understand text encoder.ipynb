{
 "cells": [
  {
   "cell_type": "markdown",
   "id": "a24dc8e7-4dae-45c5-bb57-756f40d40690",
   "metadata": {},
   "source": [
    "The text component of the additional time embeddings are different locally and on cloud.\n",
    "\n",
    "Therefore, I want to understand in detail how they are produced."
   ]
  },
  {
   "cell_type": "code",
   "execution_count": 13,
   "id": "1ab63e8e-a41d-4c56-8e8d-4430fec7d284",
   "metadata": {},
   "outputs": [],
   "source": [
    "import torch\n",
    "from torch.testing import assert_close\n",
    "from torch import allclose, nn, tensor\n",
    "torch.set_printoptions(linewidth=200)"
   ]
  },
  {
   "cell_type": "code",
   "execution_count": 14,
   "id": "8d05cd37-64db-42f3-a26b-1a1c1a3d7d42",
   "metadata": {},
   "outputs": [],
   "source": [
    "device = 'cuda' if torch.cuda.is_available() else 'mps'\n",
    "device_dtype = torch.float16 if device == 'cuda' else torch.float32"
   ]
  },
  {
   "cell_type": "markdown",
   "id": "3f5cde25-3540-4993-90b7-081f45aab603",
   "metadata": {},
   "source": [
    "## Load the model"
   ]
  },
  {
   "cell_type": "code",
   "execution_count": 15,
   "id": "5d347580-3562-4b53-b5e7-e36965041362",
   "metadata": {
    "tags": []
   },
   "outputs": [],
   "source": [
    "from diffusers import StableDiffusionXLPipeline\n",
    "from diffusers import EulerDiscreteScheduler\n",
    "from diffusers.models.controlnetxs import ControlNetXSModel\n",
    "from diffusers.pipelines.controlnet_xs.pipeline_controlnet_xs_sd_xl import StableDiffusionXLControlNetXSPipeline"
   ]
  },
  {
   "cell_type": "code",
   "execution_count": 16,
   "id": "0d5beae4-c777-498d-9e6b-0fd0028babe4",
   "metadata": {
    "tags": []
   },
   "outputs": [
    {
     "name": "stdout",
     "output_type": "stream",
     "text": [
      "At the end of __init__, the sigmas are tensor([14.6146, 14.5263, 14.4386, 14.3515, 14.2651]) ...\n",
      "At the end of __init__, the sigmas are tensor([14.6146, 14.5263, 14.4386, 14.3515, 14.2651]) ...\n"
     ]
    }
   ],
   "source": [
    "sdxl_pipe = StableDiffusionXLPipeline.from_single_file('weights/sdxl/sd_xl_base_1.0_0.9vae.safetensors').to(device)\n",
    "cnxs = ControlNetXSModel.from_pretrained('weights/cnxs').to(device)"
   ]
  },
  {
   "cell_type": "code",
   "execution_count": 17,
   "id": "1fc9a44b-4d8c-43cd-843d-cc84eb34273e",
   "metadata": {},
   "outputs": [],
   "source": [
    "cnxs.base_model = sdxl_pipe.unet"
   ]
  },
  {
   "cell_type": "markdown",
   "id": "7699570f-b9ba-4584-8e46-a677309dc772",
   "metadata": {},
   "source": [
    "The example script of Heidelberg manually sets scale_list to 0.95"
   ]
  },
  {
   "cell_type": "code",
   "execution_count": 18,
   "id": "fc04b08a-8d5a-41e1-91e7-0b6ebed754bf",
   "metadata": {},
   "outputs": [],
   "source": [
    "cnxs.scale_list = cnxs.scale_list * 0. + 0.95\n",
    "assert cnxs.scale_list[0] == .95"
   ]
  },
  {
   "cell_type": "markdown",
   "id": "a4728bbb-2ee1-4b3b-8e06-4af7560ccc6a",
   "metadata": {},
   "source": [
    "Heidelberg uses `timestep_spacing = 'linspace'` in their scheduler, so let's do that as well"
   ]
  },
  {
   "cell_type": "code",
   "execution_count": 19,
   "id": "9f9ebf9b-2fdc-48a5-b484-ef249260d353",
   "metadata": {},
   "outputs": [
    {
     "name": "stdout",
     "output_type": "stream",
     "text": [
      "At the end of __init__, the sigmas are tensor([14.6146, 14.5263, 14.4386, 14.3515, 14.2651]) ...\n",
      "timestep_spacing = \"leading\" and timesteps=[999.      978.61224 958.2245  937.83673 917.449  ] ...\n",
      "sigmas before interpolation: [0.02916753 0.04131448 0.05068044 0.05861427 0.06563709] ...\n",
      "sigmas after (linear) interpolation: [14.61464691 12.93677721 11.49164976 10.24291444  9.16035419] ...\n",
      "At end of `set_timesteps`:\n",
      "sigmas =  tensor([14.6146, 12.9368, 11.4916, 10.2429,  9.1604]) ...\n",
      "timesteps = tensor([999.0000, 978.6122, 958.2245, 937.8367, 917.4490]) ...\n",
      "At the end of __init__, the sigmas are tensor([14.6146, 14.5263, 14.4386, 14.3515, 14.2651]) ...\n"
     ]
    }
   ],
   "source": [
    "scheduler_cgf = dict(sdxl_pipe.scheduler.config)\n",
    "scheduler_cgf['timestep_spacing'] = 'linspace'\n",
    "sdxl_pipe.scheduler = EulerDiscreteScheduler.from_config(scheduler_cgf)\n",
    "\n",
    "# test it worked\n",
    "sdxl_pipe.scheduler.set_timesteps(50)\n",
    "assert sdxl_pipe.scheduler.timesteps[0]==999\n",
    "\n",
    "# reset\n",
    "sdxl_pipe.scheduler = EulerDiscreteScheduler.from_config(scheduler_cgf)"
   ]
  },
  {
   "cell_type": "code",
   "execution_count": 20,
   "id": "ccd3bd97-93c7-4532-a93e-b5ef1ecedb05",
   "metadata": {},
   "outputs": [],
   "source": [
    "cnxs_pipe = StableDiffusionXLControlNetXSPipeline(\n",
    "    vae=sdxl_pipe.vae,\n",
    "    text_encoder=sdxl_pipe.text_encoder,\n",
    "    text_encoder_2=sdxl_pipe.text_encoder_2,\n",
    "    tokenizer=sdxl_pipe.tokenizer,\n",
    "    tokenizer_2=sdxl_pipe.tokenizer_2,\n",
    "    unet=sdxl_pipe.unet,\n",
    "    controlnet=cnxs,\n",
    "    scheduler=sdxl_pipe.scheduler,\n",
    ")"
   ]
  },
  {
   "cell_type": "markdown",
   "id": "bbc7583a-b1e7-4439-b15d-3a377d3102b5",
   "metadata": {},
   "source": [
    "## Manually encode prompt"
   ]
  },
  {
   "cell_type": "code",
   "execution_count": 63,
   "id": "0a9d4272-3a32-4e0a-9d0e-5c97f957d75c",
   "metadata": {},
   "outputs": [],
   "source": [
    "from util import cls_name"
   ]
  },
  {
   "cell_type": "code",
   "execution_count": 21,
   "id": "4e210c20-46c9-4402-ad1e-616af160ae4e",
   "metadata": {},
   "outputs": [],
   "source": [
    "prompt = 'cinematic, shoe in the streets, made from meat, photorealistic shoe, highly detailed'\n",
    "num_images_per_prompt = 1\n",
    "do_classifier_free_guidance = True\n",
    "negative_prompt = 'lowres, bad anatomy, worst quality, low quality'"
   ]
  },
  {
   "cell_type": "code",
   "execution_count": 70,
   "id": "96f80494-2b88-4e2c-b857-e0512e235b4d",
   "metadata": {},
   "outputs": [],
   "source": [
    "from diffusers.loaders import FromSingleFileMixin, StableDiffusionXLLoraLoaderMixin, TextualInversionLoaderMixin\n",
    "\n",
    "def encode_prompt(\n",
    "    prompt: str,\n",
    "    num_images_per_prompt = 1,\n",
    "    do_classifier_free_guidance = True,\n",
    "):\n",
    "    self = cnxs_pipe\n",
    "    \n",
    "    # I'm ignoring negative prompting\n",
    "    prompt_embeds = None\n",
    "    pooled_prompt_embeds = None\n",
    "    prompt_2 = prompt\n",
    "\n",
    "    tokenizers = [self.tokenizer, self.tokenizer_2]\n",
    "    text_encoders = [self.text_encoder, self.text_encoder_2]\n",
    "        \n",
    "    # textual inversion: procecss multi-vector tokens if necessary\n",
    "    prompt_embeds_list = []\n",
    "    prompts = [prompt, prompt_2]\n",
    "    \n",
    "    for prompt, tokenizer, text_encoder in zip(prompts, tokenizers, text_encoders):\n",
    "        if isinstance(self, TextualInversionLoaderMixin):\n",
    "            print('I\\'m something of a TextualInversionLoaderMixin myself')\n",
    "            prompt = self.maybe_convert_prompt(prompt, tokenizer)\n",
    "\n",
    "        text_inputs = tokenizer(prompt,padding=\"max_length\",max_length=tokenizer.model_max_length,truncation=True,return_tensors=\"pt\")\n",
    "\n",
    "        text_input_ids = text_inputs.input_ids\n",
    "        untruncated_ids = tokenizer(prompt, padding=\"longest\", return_tensors=\"pt\").input_ids\n",
    "\n",
    "        if untruncated_ids.shape[-1] >= text_input_ids.shape[-1] and not torch.equal(text_input_ids, untruncated_ids):\n",
    "            print('Bro, your long-ass prompt got truncated') \n",
    "\n",
    "        prompt_embeds = text_encoder(text_input_ids.to(device),output_hidden_states=True,)\n",
    "        \n",
    "        # We are only ALWAYS interested in the pooled output of the final text encoder\n",
    "        pooled_prompt_embeds = prompt_embeds[0]\n",
    "        prompt_embeds = prompt_embeds.hidden_states[-2]\n",
    "\n",
    "        prompt_embeds_list.append(prompt_embeds)\n",
    "\n",
    "    prompt_embeds = torch.concat(prompt_embeds_list, dim=-1)\n",
    "\n",
    "    prompt_embeds = prompt_embeds.to(dtype=self.text_encoder_2.dtype, device=device)\n",
    "    bs_embed, seq_len, _ = prompt_embeds.shape\n",
    "    # duplicate text embeddings for each generation per prompt, using mps friendly method\n",
    "    prompt_embeds = prompt_embeds.repeat(1, num_images_per_prompt, 1)\n",
    "    prompt_embeds = prompt_embeds.view(bs_embed * num_images_per_prompt, seq_len, -1)\n",
    "\n",
    "    pooled_prompt_embeds = pooled_prompt_embeds.repeat(1, num_images_per_prompt).view(\n",
    "        bs_embed * num_images_per_prompt, -1\n",
    "    )\n",
    "\n",
    "    return prompt_embeds, pooled_prompt_embeds, text_input_ids"
   ]
  },
  {
   "cell_type": "code",
   "execution_count": 71,
   "id": "42d83148-f5e1-4c63-b618-66dce9b46ede",
   "metadata": {},
   "outputs": [
    {
     "name": "stdout",
     "output_type": "stream",
     "text": [
      "I'm something of a TextualInversionLoaderMixin myself\n",
      "Bro, your long-ass prompt got truncated\n",
      "I'm something of a TextualInversionLoaderMixin myself\n",
      "Bro, your long-ass prompt got truncated\n"
     ]
    }
   ],
   "source": [
    "prompt_embeds, pooled_prompt_embeds, text_input_ids = encode_prompt(\n",
    "    'a'.join(' ' for _ in range(200)), # prompt,\n",
    "    num_images_per_prompt,\n",
    "    do_classifier_free_guidance,\n",
    ")"
   ]
  },
  {
   "cell_type": "code",
   "execution_count": 72,
   "id": "5863f215-20d7-421e-a212-033687bedffd",
   "metadata": {},
   "outputs": [
    {
     "data": {
      "text/plain": [
       "(torch.Size([1, 77, 2048]), torch.Size([1, 1280]))"
      ]
     },
     "execution_count": 72,
     "metadata": {},
     "output_type": "execute_result"
    }
   ],
   "source": [
    "prompt_embeds.shape, pooled_prompt_embeds.shape"
   ]
  },
  {
   "cell_type": "code",
   "execution_count": 77,
   "id": "f319a41e-bbe8-4004-b5ef-9a2afb020ed8",
   "metadata": {},
   "outputs": [],
   "source": [
    "clip1_outp = cnxs_pipe.text_encoder  (text_input_ids.to(device),output_hidden_states=True)\n",
    "clip2_outp = cnxs_pipe.text_encoder_2(text_input_ids.to(device),output_hidden_states=True)"
   ]
  },
  {
   "cell_type": "code",
   "execution_count": 78,
   "id": "7365e0a3-4d0a-4626-b133-d7efba7847d0",
   "metadata": {},
   "outputs": [
    {
     "data": {
      "text/plain": [
       "torch.Size([1, 77, 768])"
      ]
     },
     "execution_count": 78,
     "metadata": {},
     "output_type": "execute_result"
    }
   ],
   "source": [
    "clip1_outp.last_hidden_state.shape"
   ]
  },
  {
   "cell_type": "code",
   "execution_count": 76,
   "id": "7ee7ddd5-d028-43d2-9327-e7e158ae5b5f",
   "metadata": {},
   "outputs": [
    {
     "data": {
      "text/plain": [
       "torch.Size([1, 77, 1280])"
      ]
     },
     "execution_count": 76,
     "metadata": {},
     "output_type": "execute_result"
    }
   ],
   "source": [
    "clip2_outp.last_hidden_state.shape"
   ]
  },
  {
   "cell_type": "code",
   "execution_count": 81,
   "id": "8a94cf36-81a8-4a76-9ef3-e9efe6e7c9bd",
   "metadata": {},
   "outputs": [
    {
     "data": {
      "text/plain": [
       "torch.Size([1, 1280])"
      ]
     },
     "execution_count": 81,
     "metadata": {},
     "output_type": "execute_result"
    }
   ],
   "source": [
    "clip2_outp[0].shape"
   ]
  },
  {
   "cell_type": "code",
   "execution_count": 82,
   "id": "e62b59dc-97c1-4b92-b95f-10e335b37432",
   "metadata": {},
   "outputs": [
    {
     "data": {
      "text/plain": [
       "odict_keys(['text_embeds', 'last_hidden_state', 'hidden_states'])"
      ]
     },
     "execution_count": 82,
     "metadata": {},
     "output_type": "execute_result"
    }
   ],
   "source": [
    "clip2_outp.keys()"
   ]
  },
  {
   "cell_type": "code",
   "execution_count": 96,
   "id": "d2f1e94c-df3a-49d8-a434-276d4e9e7ad8",
   "metadata": {},
   "outputs": [],
   "source": [
    "def tokenize(prompt,tokenizer): return tokenizer(prompt,padding=\"max_length\",max_length=tokenizer.model_max_length,truncation=True,return_tensors=\"pt\").input_ids"
   ]
  },
  {
   "cell_type": "code",
   "execution_count": 98,
   "id": "925a4d40-1083-4594-8804-32cd72a3a83a",
   "metadata": {},
   "outputs": [
    {
     "data": {
      "text/plain": [
       "tensor([[49406, 25602,   267,  7342,   530,   518,  6058,   267,  1105,   633,  6480,   267,  1153, 16157,  7342,   267,  5302, 12609, 49407, 49407, 49407, 49407, 49407, 49407, 49407, 49407, 49407,\n",
       "         49407, 49407, 49407, 49407, 49407, 49407, 49407, 49407, 49407, 49407, 49407, 49407, 49407, 49407, 49407, 49407, 49407, 49407, 49407, 49407, 49407, 49407, 49407, 49407, 49407, 49407, 49407,\n",
       "         49407, 49407, 49407, 49407, 49407, 49407, 49407, 49407, 49407, 49407, 49407, 49407, 49407, 49407, 49407, 49407, 49407, 49407, 49407, 49407, 49407, 49407, 49407]])"
      ]
     },
     "execution_count": 98,
     "metadata": {},
     "output_type": "execute_result"
    }
   ],
   "source": [
    "tokenize(prompt,cnxs_pipe.tokenizer)"
   ]
  },
  {
   "cell_type": "code",
   "execution_count": 105,
   "id": "f5d462c0-eb2b-431c-bddd-ea4636cf45cc",
   "metadata": {},
   "outputs": [
    {
     "name": "stdout",
     "output_type": "stream",
     "text": [
      "77\n"
     ]
    },
    {
     "data": {
      "text/plain": [
       "tensor([49406, 25602,   267,  7342,   530,   518,  6058,   267,  1105,   633,  6480,   267,  1153, 16157,  7342,   267,  5302, 12609, 49407,     0,     0,     0,     0,     0,     0,     0,     0,\n",
       "            0,     0,     0,     0,     0,     0,     0,     0,     0,     0,     0,     0,     0,     0,     0,     0,     0,     0,     0,     0,     0,     0,     0,     0,     0,     0,     0,\n",
       "            0,     0,     0,     0,     0,     0,     0,     0,     0,     0,     0,     0,     0,     0,     0,     0,     0,     0,     0,     0,     0,     0,     0])"
      ]
     },
     "execution_count": 105,
     "metadata": {},
     "output_type": "execute_result"
    }
   ],
   "source": [
    "toks_l = tokenize(prompt,cnxs_pipe.tokenizer_2)[0]\n",
    "print(len(toks_l))\n",
    "toks_l"
   ]
  },
  {
   "cell_type": "code",
   "execution_count": 106,
   "id": "b8c5a7e9-0c75-4de2-8d4f-93999e40dc04",
   "metadata": {},
   "outputs": [
    {
     "data": {
      "text/plain": [
       "tensor(False)"
      ]
     },
     "execution_count": 106,
     "metadata": {},
     "output_type": "execute_result"
    }
   ],
   "source": [
    "(tokenize(prompt,cnxs_pipe.tokenizer) == tokenize(prompt,cnxs_pipe.tokenizer_2)).all()"
   ]
  },
  {
   "cell_type": "code",
   "execution_count": 131,
   "id": "164d4fed-6090-4b4b-b4f2-c9bd6e51ae63",
   "metadata": {},
   "outputs": [
    {
     "data": {
      "text/plain": [
       "77"
      ]
     },
     "execution_count": 131,
     "metadata": {},
     "output_type": "execute_result"
    }
   ],
   "source": [
    "toks_c = torch.tensor([\n",
    "    49406, 25602,   267,  7342,   530,   518,  6058,   267,  1105,   633,\n",
    "    6480,   267,  1153, 16157,  7342,   267,  5302, 12609, 49407,     0,\n",
    "        0,     0,     0,     0,     0,     0,     0,     0,     0,     0,\n",
    "        0,     0,     0,     0,     0,     0,     0,     0,     0,     0,\n",
    "        0,     0,     0,     0,     0,     0,     0,     0,     0,     0,\n",
    "        0,     0,     0,     0,     0,     0,     0,     0,     0,     0,\n",
    "        0,     0,     0,     0,     0,     0,     0,     0,     0,     0,\n",
    "        0,     0,     0,     0,     0,     0,     0\n",
    "])\n",
    "len(toks_c)"
   ]
  },
  {
   "cell_type": "code",
   "execution_count": 132,
   "id": "dcd1ca86-c5a1-47d6-9cff-d312d72a8443",
   "metadata": {},
   "outputs": [
    {
     "data": {
      "text/plain": [
       "True"
      ]
     },
     "execution_count": 132,
     "metadata": {},
     "output_type": "execute_result"
    }
   ],
   "source": [
    "len(toks_c)==len(toks_l)"
   ]
  },
  {
   "cell_type": "code",
   "execution_count": 135,
   "id": "c86cec99-cf50-4edf-96ea-b44636078b74",
   "metadata": {},
   "outputs": [
    {
     "data": {
      "text/plain": [
       "tensor(True)"
      ]
     },
     "execution_count": 135,
     "metadata": {},
     "output_type": "execute_result"
    }
   ],
   "source": [
    "(toks_c==toks_l).all()"
   ]
  },
  {
   "cell_type": "markdown",
   "id": "ba38e745-abb7-473f-95e9-10d48f13134c",
   "metadata": {},
   "source": [
    "The prompt is equal on cloud/local and is tokenized into the same tokens"
   ]
  },
  {
   "cell_type": "markdown",
   "id": "eecadcaf-edfb-4a68-b852-f9d31c5f664b",
   "metadata": {},
   "source": [
    "If the text_encoder is the same, the encoding should be equal as well"
   ]
  },
  {
   "cell_type": "code",
   "execution_count": 116,
   "id": "0b4eeb43-cbfa-4a6c-844f-86a007aa323a",
   "metadata": {},
   "outputs": [
    {
     "data": {
      "text/plain": [
       "torch.Size([1, 1280])"
      ]
     },
     "execution_count": 116,
     "metadata": {},
     "output_type": "execute_result"
    }
   ],
   "source": [
    "txt_emb_c = torch.load('intermediate_output/temb/cloud/encoder2_pooled', map_location='mps')\n",
    "txt_emb_c.shape"
   ]
  },
  {
   "cell_type": "code",
   "execution_count": 117,
   "id": "e7f9d024-7ae9-49bf-9fab-f26b60ec1f1e",
   "metadata": {},
   "outputs": [
    {
     "data": {
      "text/plain": [
       "torch.Size([1, 1280])"
      ]
     },
     "execution_count": 117,
     "metadata": {},
     "output_type": "execute_result"
    }
   ],
   "source": [
    "txt_emb_l = clip2_outp[0]\n",
    "txt_emb_l.shape"
   ]
  },
  {
   "cell_type": "code",
   "execution_count": 118,
   "id": "db77e12a-0865-4d68-aa3d-60d13e2fee64",
   "metadata": {},
   "outputs": [
    {
     "data": {
      "text/plain": [
       "tensor([[False, False, False,  ..., False, False, False]], device='mps:0')"
      ]
     },
     "execution_count": 118,
     "metadata": {},
     "output_type": "execute_result"
    }
   ],
   "source": [
    "txt_emb_c==txt_emb_l"
   ]
  },
  {
   "cell_type": "code",
   "execution_count": 119,
   "id": "e3be1fd0-2446-4dca-b284-a5bf255f1e9b",
   "metadata": {},
   "outputs": [],
   "source": [
    "from util_plot import visually_compare_1d"
   ]
  },
  {
   "cell_type": "code",
   "execution_count": 126,
   "id": "7518b2f6-3338-4125-9da0-13d77f4d0042",
   "metadata": {},
   "outputs": [
    {
     "data": {
      "image/png": "[encoded data removed]",
      "text/plain": [
       "<Figure size 1000x100 with 1 Axes>"
      ]
     },
     "metadata": {},
     "output_type": "display_data"
    }
   ],
   "source": [
    "visually_compare_1d(txt_emb_c, txt_emb_l, ('cloud txt emb','local txt emb'), joint=True)"
   ]
  },
  {
   "cell_type": "markdown",
   "id": "a79266e9-8669-4ddf-9d84-9177b4f9f01c",
   "metadata": {},
   "source": [
    "The encoding is different. Therefore, **the encoders seem to be different!**"
   ]
  },
  {
   "cell_type": "code",
   "execution_count": null,
   "id": "14fbee4c-a41f-424b-b162-b3f60f4fe128",
   "metadata": {},
   "outputs": [],
   "source": []
  }
 ],
 "metadata": {
  "kernelspec": {
   "display_name": "Python 3 (ipykernel)",
   "language": "python",
   "name": "python3"
  },
  "language_info": {
   "codemirror_mode": {
    "name": "ipython",
    "version": 3
   },
   "file_extension": ".py",
   "mimetype": "text/x-python",
   "name": "python",
   "nbconvert_exporter": "python",
   "pygments_lexer": "ipython3",
   "version": "3.11.5"
  }
 },
 "nbformat": 4,
 "nbformat_minor": 5
}
