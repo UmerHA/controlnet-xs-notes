{
 "cells": [
  {
   "cell_type": "markdown",
   "id": "c673b8d7-0798-46f2-9550-41425d938bef",
   "metadata": {},
   "source": [
    "This test saving random numbers and loading them via monkey-patching `torch.randn`\n",
    "\n",
    "(currently not used)"
   ]
  },
  {
   "cell_type": "code",
   "execution_count": 1,
   "id": "1f21f923-f228-4651-832d-988c28397cc3",
   "metadata": {},
   "outputs": [],
   "source": [
    "import torch\n",
    "import pickle"
   ]
  },
  {
   "cell_type": "code",
   "execution_count": 4,
   "id": "bd184678-32df-4284-96e4-ad0c9f804f94",
   "metadata": {},
   "outputs": [],
   "source": [
    "class RandomCacheSaver:\n",
    "    def __init__(self, filename):\n",
    "        self.cached_randoms = []\n",
    "        self.filename = filename\n",
    "\n",
    "    def start(self):\n",
    "        self.orig_fn = torch.randn\n",
    "        torch.rand = self.randn\n",
    "    \n",
    "    def randn(self, size):\n",
    "        rands = torch.randn(size).cpu()\n",
    "        self.cached_randoms.append((size, result))\n",
    "        return result\n",
    "\n",
    "    def stop(self):\n",
    "        with open(self.filename, 'wb') as f: pickle.dump(self.cached_randoms, f)\n",
    "        torch.rand = self.orig_fn"
   ]
  },
  {
   "cell_type": "code",
   "execution_count": 5,
   "id": "7afda554-eafe-4e75-9196-37df6747de9b",
   "metadata": {},
   "outputs": [],
   "source": [
    "class RandomCacheLoader:\n",
    "    def __init__(self, filename):\n",
    "        with open(filename, 'rb') as f: self.cached_randoms = pickle.load(f)\n",
    "\n",
    "    def start(self):\n",
    "        self.orig_fn = torch.randn\n",
    "        torch.rand = self.randn\n",
    "    \n",
    "    def randn(self, size):\n",
    "        sz, rands = self.cached_randoms.pop(0)\n",
    "        assert size==sz, f\"Size of requested rands doesn't match size of cached rands: {size} != {sz}\"\n",
    "        return rands\n",
    "\n",
    "    @property\n",
    "    def n_remaining(self): return len(self.cached_randoms)\n",
    "    \n",
    "    def stop(self):\n",
    "        if self.n_remaining>0: print('Info: Not all cached rands have been used')\n",
    "        torch.rand = self.orig_fn"
   ]
  },
  {
   "cell_type": "code",
   "execution_count": null,
   "id": "ef245996-7b4a-4dc0-969b-db4ffcda6c24",
   "metadata": {},
   "outputs": [],
   "source": [
    "# Usage for RandomCacheSaver\n",
    "saver = RandomCacheSaver()\n",
    "print(saver.rand(2))\n",
    "saver.save('random_cache.pkl')\n",
    "\n",
    "# Usage for RandomCacheLoader\n",
    "loader = RandomCacheLoader('random_cache.pkl')\n",
    "print(loader.rand(2))"
   ]
  }
 ],
 "metadata": {
  "kernelspec": {
   "display_name": "Python 3 (ipykernel)",
   "language": "python",
   "name": "python3"
  },
  "language_info": {
   "codemirror_mode": {
    "name": "ipython",
    "version": 3
   },
   "file_extension": ".py",
   "mimetype": "text/x-python",
   "name": "python",
   "nbconvert_exporter": "python",
   "pygments_lexer": "ipython3",
   "version": "3.11.5"
  }
 },
 "nbformat": 4,
 "nbformat_minor": 5
}
