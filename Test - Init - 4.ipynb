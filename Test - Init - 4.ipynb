{
 "cells": [
  {
   "cell_type": "markdown",
   "id": "3fd5de21-5746-4c63-b7d5-4ff8ec3ffdd6",
   "metadata": {},
   "source": [
    "This tests if the `init` still works after making ControlNetXSModel savable via `register_to_config` & `save_pretrained`"
   ]
  },
  {
   "cell_type": "code",
   "execution_count": 1,
   "id": "2bec477a-5688-468c-ab60-1ded2d225cc2",
   "metadata": {},
   "outputs": [],
   "source": [
    "import torch"
   ]
  },
  {
   "cell_type": "code",
   "execution_count": 2,
   "id": "105a5cc3-27e3-4a54-987c-3aed8ac53028",
   "metadata": {
    "tags": []
   },
   "outputs": [],
   "source": [
    "from diffusers.models import AutoencoderKL\n",
    "from diffusers import StableDiffusionXLPipeline"
   ]
  },
  {
   "cell_type": "code",
   "execution_count": 3,
   "id": "7953f893-b363-471e-8610-7bbe5a09e825",
   "metadata": {
    "tags": []
   },
   "outputs": [],
   "source": [
    "model = \"stabilityai/stable-diffusion-xl-base-1.0\"\n",
    "vae = AutoencoderKL.from_pretrained(\"stabilityai/sdxl-vae\", torch_dtype=torch.float16)"
   ]
  },
  {
   "cell_type": "code",
   "execution_count": 4,
   "id": "c6f30246-e09a-4747-a099-a19473ba0d40",
   "metadata": {
    "tags": []
   },
   "outputs": [
    {
     "data": {
      "application/vnd.jupyter.widget-view+json": {
       "model_id": "e6e18fb56d574da5b3313b71d819c21f",
       "version_major": 2,
       "version_minor": 0
      },
      "text/plain": [
       "Loading pipeline components...:   0%|          | 0/7 [00:00<?, ?it/s]"
      ]
     },
     "metadata": {},
     "output_type": "display_data"
    }
   ],
   "source": [
    "pipe = StableDiffusionXLPipeline.from_pretrained(model, vae=vae, torch_dtype=torch.float16)\n",
    "sdxl_unet = pipe.unet"
   ]
  },
  {
   "cell_type": "code",
   "execution_count": 5,
   "id": "157414d4-92c5-4875-bf07-f30a9e73b17a",
   "metadata": {},
   "outputs": [],
   "source": [
    "from diffusers.models.controlnetxs import ControlNetXSModel"
   ]
  },
  {
   "cell_type": "code",
   "execution_count": 6,
   "id": "9b3a9007-94da-4b86-be41-5086adafc60f",
   "metadata": {},
   "outputs": [],
   "source": [
    "cnxs = ControlNetXSModel.create_as_in_paper(base_model=sdxl_unet)"
   ]
  },
  {
   "cell_type": "markdown",
   "id": "c44b4efc-d559-424e-b734-ff00b37af7c0",
   "metadata": {},
   "source": [
    "__"
   ]
  },
  {
   "cell_type": "markdown",
   "id": "4c716ddb-09c2-42b5-b530-bf09f3795b5c",
   "metadata": {},
   "source": [
    "Let's now test if loading with `from_pretrained` works"
   ]
  },
  {
   "cell_type": "code",
   "execution_count": 7,
   "id": "a68100ff-018f-48fa-a3fa-960a6fd19ad7",
   "metadata": {},
   "outputs": [],
   "source": [
    "cnxs = ControlNetXSModel.from_pretrained('weights/cnxs')"
   ]
  },
  {
   "cell_type": "markdown",
   "id": "6a5cfe2e-490b-41fc-a8a0-c24a2bea8fc5",
   "metadata": {},
   "source": [
    "**Works!!!** 😍🎉✨"
   ]
  },
  {
   "cell_type": "code",
   "execution_count": null,
   "id": "1e70b2c6-1b06-47c4-b433-8a772b42ae5c",
   "metadata": {},
   "outputs": [],
   "source": []
  },
  {
   "cell_type": "code",
   "execution_count": null,
   "id": "1ac89f16-deda-43ea-b76c-c5e0757a72ff",
   "metadata": {},
   "outputs": [],
   "source": []
  },
  {
   "cell_type": "code",
   "execution_count": null,
   "id": "0a53392e-cc42-4813-aae1-db9d858329f8",
   "metadata": {},
   "outputs": [],
   "source": []
  }
 ],
 "metadata": {
  "kernelspec": {
   "display_name": "Python 3 (ipykernel)",
   "language": "python",
   "name": "python3"
  },
  "language_info": {
   "codemirror_mode": {
    "name": "ipython",
    "version": 3
   },
   "file_extension": ".py",
   "mimetype": "text/x-python",
   "name": "python",
   "nbconvert_exporter": "python",
   "pygments_lexer": "ipython3",
   "version": "3.11.5"
  }
 },
 "nbformat": 4,
 "nbformat_minor": 5
}
