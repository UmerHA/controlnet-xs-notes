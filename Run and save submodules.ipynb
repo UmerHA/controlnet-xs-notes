{
 "cells": [
  {
   "cell_type": "markdown",
   "id": "cda36831-a1e7-4c2f-b3ab-5f45dfaac14e",
   "metadata": {},
   "source": [
    "In this notebook, I run one step for TwoStreamControlModel to get intermediate outputs which I can then compare to my local run"
   ]
  },
  {
   "cell_type": "code",
   "execution_count": 1,
   "id": "54dbfc0d-9426-4833-848f-be9ee8b3e1a6",
   "metadata": {
    "collapsed": true,
    "jupyter": {
     "outputs_hidden": true
    },
    "tags": []
   },
   "outputs": [
    {
     "name": "stdout",
     "output_type": "stream",
     "text": [
      "debconf: delaying package configuration, since apt-utils is not installed\n",
      "Selecting previously unselected package libelf1:amd64.\n",
      "(Reading database ... 30662 files and directories currently installed.)\n",
      "Preparing to unpack .../00-libelf1_0.176-1.1ubuntu0.1_amd64.deb ...\n",
      "Unpacking libelf1:amd64 (0.176-1.1ubuntu0.1) ...\n",
      "Selecting previously unselected package libdrm-common.\n",
      "Preparing to unpack .../01-libdrm-common_2.4.107-8ubuntu1~20.04.2_all.deb ...\n",
      "Unpacking libdrm-common (2.4.107-8ubuntu1~20.04.2) ...\n",
      "Selecting previously unselected package libdrm2:amd64.\n",
      "Preparing to unpack .../02-libdrm2_2.4.107-8ubuntu1~20.04.2_amd64.deb ...\n",
      "Unpacking libdrm2:amd64 (2.4.107-8ubuntu1~20.04.2) ...\n",
      "Selecting previously unselected package libdrm-amdgpu1:amd64.\n",
      "Preparing to unpack .../03-libdrm-amdgpu1_2.4.107-8ubuntu1~20.04.2_amd64.deb ...\n",
      "Unpacking libdrm-amdgpu1:amd64 (2.4.107-8ubuntu1~20.04.2) ...\n",
      "Selecting previously unselected package libpciaccess0:amd64.\n",
      "Preparing to unpack .../04-libpciaccess0_0.16-0ubuntu1_amd64.deb ...\n",
      "Unpacking libpciaccess0:amd64 (0.16-0ubuntu1) ...\n",
      "Selecting previously unselected package libdrm-intel1:amd64.\n",
      "Preparing to unpack .../05-libdrm-intel1_2.4.107-8ubuntu1~20.04.2_amd64.deb ...\n",
      "Unpacking libdrm-intel1:amd64 (2.4.107-8ubuntu1~20.04.2) ...\n",
      "Selecting previously unselected package libdrm-nouveau2:amd64.\n",
      "Preparing to unpack .../06-libdrm-nouveau2_2.4.107-8ubuntu1~20.04.2_amd64.deb ...\n",
      "Unpacking libdrm-nouveau2:amd64 (2.4.107-8ubuntu1~20.04.2) ...\n",
      "Selecting previously unselected package libdrm-radeon1:amd64.\n",
      "Preparing to unpack .../07-libdrm-radeon1_2.4.107-8ubuntu1~20.04.2_amd64.deb ...\n",
      "Unpacking libdrm-radeon1:amd64 (2.4.107-8ubuntu1~20.04.2) ...\n",
      "Selecting previously unselected package libglapi-mesa:amd64.\n",
      "Preparing to unpack .../08-libglapi-mesa_21.2.6-0ubuntu0.1~20.04.2_amd64.deb ...\n",
      "Unpacking libglapi-mesa:amd64 (21.2.6-0ubuntu0.1~20.04.2) ...\n",
      "Selecting previously unselected package libllvm12:amd64.\n",
      "Preparing to unpack .../09-libllvm12_1%3a12.0.0-3ubuntu1~20.04.5_amd64.deb ...\n",
      "Unpacking libllvm12:amd64 (1:12.0.0-3ubuntu1~20.04.5) ...\n",
      "Selecting previously unselected package libsensors-config.\n",
      "Preparing to unpack .../10-libsensors-config_1%3a3.6.0-2ubuntu1.1_all.deb ...\n",
      "Unpacking libsensors-config (1:3.6.0-2ubuntu1.1) ...\n",
      "Selecting previously unselected package libsensors5:amd64.\n",
      "Preparing to unpack .../11-libsensors5_1%3a3.6.0-2ubuntu1.1_amd64.deb ...\n",
      "Unpacking libsensors5:amd64 (1:3.6.0-2ubuntu1.1) ...\n",
      "Selecting previously unselected package libvulkan1:amd64.\n",
      "Preparing to unpack .../12-libvulkan1_1.2.131.2-1_amd64.deb ...\n",
      "Unpacking libvulkan1:amd64 (1.2.131.2-1) ...\n",
      "Selecting previously unselected package libgl1-mesa-dri:amd64.\n",
      "Preparing to unpack .../13-libgl1-mesa-dri_21.2.6-0ubuntu0.1~20.04.2_amd64.deb ...\n",
      "Unpacking libgl1-mesa-dri:amd64 (21.2.6-0ubuntu0.1~20.04.2) ...\n",
      "Selecting previously unselected package libglvnd0:amd64.\n",
      "Preparing to unpack .../14-libglvnd0_1.3.2-1~ubuntu0.20.04.2_amd64.deb ...\n",
      "Unpacking libglvnd0:amd64 (1.3.2-1~ubuntu0.20.04.2) ...\n",
      "Selecting previously unselected package libx11-xcb1:amd64.\n",
      "Preparing to unpack .../15-libx11-xcb1_2%3a1.6.9-2ubuntu1.6_amd64.deb ...\n",
      "Unpacking libx11-xcb1:amd64 (2:1.6.9-2ubuntu1.6) ...\n",
      "Selecting previously unselected package libxcb-dri2-0:amd64.\n",
      "Preparing to unpack .../16-libxcb-dri2-0_1.14-2_amd64.deb ...\n",
      "Unpacking libxcb-dri2-0:amd64 (1.14-2) ...\n",
      "Selecting previously unselected package libxcb-dri3-0:amd64.\n",
      "Preparing to unpack .../17-libxcb-dri3-0_1.14-2_amd64.deb ...\n",
      "Unpacking libxcb-dri3-0:amd64 (1.14-2) ...\n",
      "Selecting previously unselected package libxcb-glx0:amd64.\n",
      "Preparing to unpack .../18-libxcb-glx0_1.14-2_amd64.deb ...\n",
      "Unpacking libxcb-glx0:amd64 (1.14-2) ...\n",
      "Selecting previously unselected package libxcb-present0:amd64.\n",
      "Preparing to unpack .../19-libxcb-present0_1.14-2_amd64.deb ...\n",
      "Unpacking libxcb-present0:amd64 (1.14-2) ...\n",
      "Selecting previously unselected package libxcb-shm0:amd64.\n",
      "Preparing to unpack .../20-libxcb-shm0_1.14-2_amd64.deb ...\n",
      "Unpacking libxcb-shm0:amd64 (1.14-2) ...\n",
      "Selecting previously unselected package libxcb-sync1:amd64.\n",
      "Preparing to unpack .../21-libxcb-sync1_1.14-2_amd64.deb ...\n",
      "Unpacking libxcb-sync1:amd64 (1.14-2) ...\n",
      "Selecting previously unselected package libxcb-xfixes0:amd64.\n",
      "Preparing to unpack .../22-libxcb-xfixes0_1.14-2_amd64.deb ...\n",
      "Unpacking libxcb-xfixes0:amd64 (1.14-2) ...\n",
      "Selecting previously unselected package libxfixes3:amd64.\n",
      "Preparing to unpack .../23-libxfixes3_1%3a5.0.3-2_amd64.deb ...\n",
      "Unpacking libxfixes3:amd64 (1:5.0.3-2) ...\n",
      "Selecting previously unselected package libxshmfence1:amd64.\n",
      "Preparing to unpack .../24-libxshmfence1_1.3-1_amd64.deb ...\n",
      "Unpacking libxshmfence1:amd64 (1.3-1) ...\n",
      "Selecting previously unselected package libxxf86vm1:amd64.\n",
      "Preparing to unpack .../25-libxxf86vm1_1%3a1.1.4-1build1_amd64.deb ...\n",
      "Unpacking libxxf86vm1:amd64 (1:1.1.4-1build1) ...\n",
      "Selecting previously unselected package libglx-mesa0:amd64.\n",
      "Preparing to unpack .../26-libglx-mesa0_21.2.6-0ubuntu0.1~20.04.2_amd64.deb ...\n",
      "Unpacking libglx-mesa0:amd64 (21.2.6-0ubuntu0.1~20.04.2) ...\n",
      "Selecting previously unselected package libglx0:amd64.\n",
      "Preparing to unpack .../27-libglx0_1.3.2-1~ubuntu0.20.04.2_amd64.deb ...\n",
      "Unpacking libglx0:amd64 (1.3.2-1~ubuntu0.20.04.2) ...\n",
      "Selecting previously unselected package libgl1:amd64.\n",
      "Preparing to unpack .../28-libgl1_1.3.2-1~ubuntu0.20.04.2_amd64.deb ...\n",
      "Unpacking libgl1:amd64 (1.3.2-1~ubuntu0.20.04.2) ...\n",
      "Selecting previously unselected package libgl1-mesa-glx:amd64.\n",
      "Preparing to unpack .../29-libgl1-mesa-glx_21.2.6-0ubuntu0.1~20.04.2_amd64.deb ...\n",
      "Unpacking libgl1-mesa-glx:amd64 (21.2.6-0ubuntu0.1~20.04.2) ...\n",
      "Selecting previously unselected package libwayland-client0:amd64.\n",
      "Preparing to unpack .../30-libwayland-client0_1.18.0-1ubuntu0.1_amd64.deb ...\n",
      "Unpacking libwayland-client0:amd64 (1.18.0-1ubuntu0.1) ...\n",
      "Selecting previously unselected package libxcb-randr0:amd64.\n",
      "Preparing to unpack .../31-libxcb-randr0_1.14-2_amd64.deb ...\n",
      "Unpacking libxcb-randr0:amd64 (1.14-2) ...\n",
      "Selecting previously unselected package mesa-vulkan-drivers:amd64.\n",
      "Preparing to unpack .../32-mesa-vulkan-drivers_21.2.6-0ubuntu0.1~20.04.2_amd64.deb ...\n",
      "Unpacking mesa-vulkan-drivers:amd64 (21.2.6-0ubuntu0.1~20.04.2) ...\n",
      "Setting up libxcb-dri3-0:amd64 (1.14-2) ...\n",
      "Setting up libx11-xcb1:amd64 (2:1.6.9-2ubuntu1.6) ...\n",
      "Setting up libpciaccess0:amd64 (0.16-0ubuntu1) ...\n",
      "Setting up libxcb-xfixes0:amd64 (1.14-2) ...\n",
      "Setting up libglvnd0:amd64 (1.3.2-1~ubuntu0.20.04.2) ...\n",
      "Setting up libxcb-glx0:amd64 (1.14-2) ...\n",
      "Setting up libsensors-config (1:3.6.0-2ubuntu1.1) ...\n",
      "Setting up libxcb-shm0:amd64 (1.14-2) ...\n",
      "Setting up libxxf86vm1:amd64 (1:1.1.4-1build1) ...\n",
      "Setting up libxcb-present0:amd64 (1.14-2) ...\n",
      "Setting up libxfixes3:amd64 (1:5.0.3-2) ...\n",
      "Setting up libxcb-sync1:amd64 (1.14-2) ...\n",
      "Setting up libllvm12:amd64 (1:12.0.0-3ubuntu1~20.04.5) ...\n",
      "Setting up libsensors5:amd64 (1:3.6.0-2ubuntu1.1) ...\n",
      "Setting up libglapi-mesa:amd64 (21.2.6-0ubuntu0.1~20.04.2) ...\n",
      "Setting up libvulkan1:amd64 (1.2.131.2-1) ...\n",
      "Setting up libxcb-dri2-0:amd64 (1.14-2) ...\n",
      "Setting up libxshmfence1:amd64 (1.3-1) ...\n",
      "Setting up libxcb-randr0:amd64 (1.14-2) ...\n",
      "Setting up libdrm-common (2.4.107-8ubuntu1~20.04.2) ...\n",
      "Setting up libelf1:amd64 (0.176-1.1ubuntu0.1) ...\n",
      "Setting up libwayland-client0:amd64 (1.18.0-1ubuntu0.1) ...\n",
      "Setting up libdrm2:amd64 (2.4.107-8ubuntu1~20.04.2) ...\n",
      "Setting up libdrm-amdgpu1:amd64 (2.4.107-8ubuntu1~20.04.2) ...\n",
      "Setting up mesa-vulkan-drivers:amd64 (21.2.6-0ubuntu0.1~20.04.2) ...\n",
      "Setting up libdrm-nouveau2:amd64 (2.4.107-8ubuntu1~20.04.2) ...\n",
      "Setting up libdrm-radeon1:amd64 (2.4.107-8ubuntu1~20.04.2) ...\n",
      "Setting up libdrm-intel1:amd64 (2.4.107-8ubuntu1~20.04.2) ...\n",
      "Setting up libgl1-mesa-dri:amd64 (21.2.6-0ubuntu0.1~20.04.2) ...\n",
      "Setting up libglx-mesa0:amd64 (21.2.6-0ubuntu0.1~20.04.2) ...\n",
      "Setting up libglx0:amd64 (1.3.2-1~ubuntu0.20.04.2) ...\n",
      "Setting up libgl1:amd64 (1.3.2-1~ubuntu0.20.04.2) ...\n",
      "Setting up libgl1-mesa-glx:amd64 (21.2.6-0ubuntu0.1~20.04.2) ...\n",
      "Processing triggers for libc-bin (2.31-0ubuntu9.9) ...\n"
     ]
    }
   ],
   "source": [
    "!apt-get update -qq\n",
    "!apt-get install -y libgl1-mesa-glx -qq"
   ]
  },
  {
   "cell_type": "code",
   "execution_count": 7,
   "id": "6b5df29a-5aca-4184-9804-07d8549d873b",
   "metadata": {
    "tags": []
   },
   "outputs": [
    {
     "name": "stdout",
     "output_type": "stream",
     "text": [
      "fatal: destination path 'ControlNet-XS' already exists and is not an empty directory.\n"
     ]
    }
   ],
   "source": [
    "!git clone https://github.com/vislearn/ControlNet-XS -qq"
   ]
  },
  {
   "cell_type": "code",
   "execution_count": 8,
   "id": "1f529887-84c9-4e94-9eff-da6db4421fdc",
   "metadata": {},
   "outputs": [],
   "source": [
    "!rm -rf diffusers\n",
    "!git clone https://github.com/UmerHA/diffusers.git --branch controlnet-xs -qq"
   ]
  },
  {
   "cell_type": "code",
   "execution_count": 9,
   "id": "e65ed5de-0c21-4916-b808-5d344e208c3e",
   "metadata": {
    "tags": []
   },
   "outputs": [],
   "source": [
    "!pip install -r ControlNet-XS/requirements/pt2.txt -qq\n",
    "!pip install -e ControlNet-XS -qq"
   ]
  },
  {
   "cell_type": "code",
   "execution_count": 10,
   "id": "cb87187d-4c6f-427b-9399-ca88d46fabb6",
   "metadata": {
    "tags": []
   },
   "outputs": [],
   "source": [
    "!pip install -Uqq transformers\n",
    "!pip install diffusers -e diffusers -qq"
   ]
  },
  {
   "cell_type": "code",
   "execution_count": 11,
   "id": "99f25800-ed8d-4090-b01a-bf18fcbe4944",
   "metadata": {},
   "outputs": [
    {
     "ename": "AssertionError",
     "evalue": "",
     "output_type": "error",
     "traceback": [
      "\u001b[0;31m---------------------------------------------------------------------------\u001b[0m",
      "\u001b[0;31mAssertionError\u001b[0m                            Traceback (most recent call last)",
      "Cell \u001b[0;32mIn[11], line 1\u001b[0m\n\u001b[0;32m----> 1\u001b[0m \u001b[38;5;28;01massert\u001b[39;00m \u001b[38;5;28;01mFalse\u001b[39;00m\n",
      "\u001b[0;31mAssertionError\u001b[0m: "
     ]
    }
   ],
   "source": [
    "assert False"
   ]
  },
  {
   "cell_type": "markdown",
   "id": "9bb4d4bb-a139-4270-bf10-796e2b304fed",
   "metadata": {},
   "source": [
    "___"
   ]
  },
  {
   "cell_type": "markdown",
   "id": "f1231abe-d52d-410f-a289-61ec5b3b9b9a",
   "metadata": {
    "jupyter": {
     "outputs_hidden": true
    },
    "tags": []
   },
   "source": [
    "Restart kernel here, so newly installed packages are available"
   ]
  },
  {
   "cell_type": "markdown",
   "id": "16b74b9e-7bbc-41ff-bc01-3d3055570a57",
   "metadata": {},
   "source": [
    "___"
   ]
  },
  {
   "cell_type": "code",
   "execution_count": 1,
   "id": "a43bd7c1-8c6b-4f3c-bf65-5398fdbbdc51",
   "metadata": {
    "tags": []
   },
   "outputs": [],
   "source": [
    "import os\n",
    "os.environ['CUBLAS_WORKSPACE_CONFIG'] = ':4096:8'  # needed to make torch deterministic"
   ]
  },
  {
   "cell_type": "code",
   "execution_count": 2,
   "id": "2c1c7d13-020e-4053-9754-7f2bf5b4829f",
   "metadata": {
    "tags": []
   },
   "outputs": [
    {
     "name": "stderr",
     "output_type": "stream",
     "text": [
      "/opt/conda/lib/python3.10/site-packages/timm/models/_factory.py:114: UserWarning: Mapping deprecated model name vit_base_resnet50_384 to current vit_base_r50_s16_384.orig_in21k_ft_in1k.\n",
      "  model = create_fn(\n"
     ]
    }
   ],
   "source": [
    "import scripts.control_utils as cu\n",
    "import torch\n",
    "from PIL import Image"
   ]
  },
  {
   "cell_type": "code",
   "execution_count": 3,
   "id": "aad3a198-093b-46fa-9cda-a13750fc9aa2",
   "metadata": {
    "tags": []
   },
   "outputs": [],
   "source": [
    "torch.use_deterministic_algorithms(True)"
   ]
  },
  {
   "cell_type": "code",
   "execution_count": 4,
   "id": "be14a47f-ac71-4e60-a52f-4befa3fb0b8d",
   "metadata": {
    "tags": []
   },
   "outputs": [],
   "source": [
    "path_to_config = 'ControlNet-XS/configs/inference/sdxl/sdxl_encD_canny_48m.yaml'"
   ]
  },
  {
   "cell_type": "markdown",
   "id": "7f6552dd-0ad5-4db2-b1a6-3c9b8ca55f4f",
   "metadata": {},
   "source": [
    "If this results in the kernel crashing, I'm using too much GPU memory elsewhere. Shut down every other kernel and try again."
   ]
  },
  {
   "cell_type": "code",
   "execution_count": null,
   "id": "70915bf0-38be-40e8-a791-23a6ded976ae",
   "metadata": {
    "tags": []
   },
   "outputs": [
    {
     "name": "stdout",
     "output_type": "stream",
     "text": [
      "Building a Downsample layer with 2 dims.\n",
      "  --> settings are: \n",
      " in-chn: 320, out-chn: 320, kernel-size: 3, stride: 2, padding: 1\n",
      "constructing SpatialTransformer of depth 2 w/ 640 channels and 10 heads\n",
      "WARNING: SpatialTransformer: Found context dims [2048] of depth 1, which does not match the specified 'depth' of 2. Setting context_dim to [2048, 2048] now.\n",
      "BasicTransformerBlock is using checkpointing\n",
      "BasicTransformerBlock is using checkpointing\n",
      "constructing SpatialTransformer of depth 2 w/ 640 channels and 10 heads\n",
      "WARNING: SpatialTransformer: Found context dims [2048] of depth 1, which does not match the specified 'depth' of 2. Setting context_dim to [2048, 2048] now.\n",
      "BasicTransformerBlock is using checkpointing\n",
      "BasicTransformerBlock is using checkpointing\n",
      "Building a Downsample layer with 2 dims.\n",
      "  --> settings are: \n",
      " in-chn: 640, out-chn: 640, kernel-size: 3, stride: 2, padding: 1\n",
      "constructing SpatialTransformer of depth 10 w/ 1280 channels and 20 heads\n",
      "WARNING: SpatialTransformer: Found context dims [2048] of depth 1, which does not match the specified 'depth' of 10. Setting context_dim to [2048, 2048, 2048, 2048, 2048, 2048, 2048, 2048, 2048, 2048] now.\n",
      "BasicTransformerBlock is using checkpointing\n",
      "BasicTransformerBlock is using checkpointing\n",
      "BasicTransformerBlock is using checkpointing\n",
      "BasicTransformerBlock is using checkpointing\n",
      "BasicTransformerBlock is using checkpointing\n"
     ]
    }
   ],
   "source": [
    "model = cu.create_model(path_to_config).to('cuda')"
   ]
  },
  {
   "cell_type": "code",
   "execution_count": null,
   "id": "56d8acd0-c2a2-4171-a53c-cc49f5842750",
   "metadata": {
    "tags": []
   },
   "outputs": [],
   "source": []
  },
  {
   "cell_type": "code",
   "execution_count": 6,
   "id": "602acaba-3cdf-4818-9467-5fa7045d30dc",
   "metadata": {},
   "outputs": [],
   "source": [
    "time_linear_in_first_resnet = model.model.diffusion_model.input_blocks[1][0].emb_layers[1]"
   ]
  },
  {
   "cell_type": "code",
   "execution_count": 7,
   "id": "4be9845f-2c8c-42cb-9449-5303c5dec050",
   "metadata": {
    "tags": []
   },
   "outputs": [
    {
     "data": {
      "text/plain": [
       "Linear(in_features=1280, out_features=320, bias=True)"
      ]
     },
     "execution_count": 7,
     "metadata": {},
     "output_type": "execute_result"
    }
   ],
   "source": [
    "time_linear_in_first_resnet"
   ]
  },
  {
   "cell_type": "code",
   "execution_count": 8,
   "id": "297e19fb-be5e-46ee-aff8-fcadd5f2ed2a",
   "metadata": {
    "tags": []
   },
   "outputs": [],
   "source": [
    "torch.save(time_linear_in_first_resnet.state_dict(), 'time_linear_in_first_resnet.pth')"
   ]
  },
  {
   "cell_type": "code",
   "execution_count": null,
   "id": "d3e10eb9-5ab5-4f7e-b550-3deac0bf2221",
   "metadata": {},
   "outputs": [],
   "source": []
  },
  {
   "cell_type": "code",
   "execution_count": 10,
   "id": "2c23eebd-f8a9-48f8-af25-6881d158427b",
   "metadata": {
    "tags": []
   },
   "outputs": [
    {
     "name": "stdout",
     "output_type": "stream",
     "text": [
      "[CONTROL CORRECTION OF ControlledDiffusionEngine SCALED WITH 0.95]\n"
     ]
    }
   ],
   "source": [
    "size = 768\n",
    "num_samples=1\n",
    "prompt='cinematic, shoe in the streets, made from meat, photorealistic shoe, highly detailed'\n",
    "n_prompt='lowres, bad anatomy, worst quality, low quality'\n",
    "def get_canny_edges():\n",
    "    image_path = 'input_images/shoe.png' # chosen to fit size above\n",
    "    image = cu.get_image(image_path, size=size)\n",
    "    edges = cu.get_canny_edges(image, low_th=100, high_th=250)\n",
    "    return edges\n",
    "edges = get_canny_edges()\n",
    "\n",
    "guidance=edges\n",
    "ddim_steps=10\n",
    "num_samples=num_samples\n",
    "shape=[4, size // 8, size // 8]\n",
    "control_scale=0.95\n",
    "\n",
    "scale=9.5,\n",
    "eta=0.5,\n",
    "idx=None,\n",
    "\n",
    "ds = {\n",
    "    'hint': guidance,\n",
    "    'crop_coords_top_left': torch.tensor([0, 0]),\n",
    "    'original_size_as_tuple': torch.tensor(guidance.shape[-2:]),\n",
    "    'target_size_as_tuple': torch.tensor(guidance.shape[-2:]),\n",
    "}\n",
    "\n",
    "model.sampler.num_steps = ddim_steps\n",
    "model.sampler.s_noise = eta\n",
    "scale_schedule = lambda scale, sigma: scale  # independent of step\n",
    "from functools import partial\n",
    "model.sampler.guider.scale_schedule = partial(scale_schedule, scale)\n",
    "\n",
    "if float(control_scale) != 1.0:\n",
    "    model.model.scale_list *= control_scale\n",
    "    print(f'[CONTROL CORRECTION OF {type(model).__name__} SCALED WITH {control_scale}]')"
   ]
  },
  {
   "cell_type": "code",
   "execution_count": 11,
   "id": "e3b32c17-5d0b-4ba5-9e59-f34fdb7eda6d",
   "metadata": {
    "tags": []
   },
   "outputs": [],
   "source": [
    "import torchvision.transforms as tt\n",
    "import numpy as np\n",
    "import copy\n",
    "\n",
    "control = torch.stack([tt.ToTensor()(ds['hint'][..., None].repeat(3, 2))] * num_samples).float().to('cuda')\n",
    "sampling_kwargs = {'hint': control}\n",
    "\n",
    "def get_batch(ds_instance, num_samples):\n",
    "    batch = dict()\n",
    "    for key in ds_instance:\n",
    "        instance = ds_instance[key]\n",
    "        if isinstance(instance, str):\n",
    "            batch[key] = [instance] * num_samples\n",
    "        elif isinstance(instance, np.ndarray):\n",
    "            batch[key] = instance[None, ...].repeat(num_samples, 0)\n",
    "        elif isinstance(instance, torch.Tensor):\n",
    "            batch[key] = instance[None, ...].repeat(num_samples, *[1] * len(instance.shape))\n",
    "\n",
    "    return batch\n",
    "\n",
    "batch = get_batch(ds_instance=ds, num_samples=num_samples)\n",
    "batch['caption'] = [prompt or ds['caption']] * num_samples\n",
    "\n",
    "for k in batch:\n",
    "    if isinstance(batch[k], torch.Tensor):\n",
    "        batch[k] = batch[k].to('cuda')\n",
    "\n",
    "batch_uc = copy.deepcopy(batch)\n",
    "batch_uc['caption'] = [n_prompt] * num_samples"
   ]
  },
  {
   "cell_type": "code",
   "execution_count": 12,
   "id": "1101b3d3-0157-4090-811c-8bc13085e94e",
   "metadata": {
    "tags": []
   },
   "outputs": [
    {
     "data": {
      "text/plain": [
       "{'hint': array([[[0., 0., 0., ..., 0., 0., 0.],\n",
       "         [0., 0., 0., ..., 0., 0., 0.],\n",
       "         [0., 0., 0., ..., 0., 0., 0.],\n",
       "         ...,\n",
       "         [0., 0., 0., ..., 0., 0., 0.],\n",
       "         [0., 0., 0., ..., 0., 0., 0.],\n",
       "         [0., 0., 0., ..., 0., 0., 0.]]]),\n",
       " 'crop_coords_top_left': tensor([[0, 0]], device='cuda:0'),\n",
       " 'original_size_as_tuple': tensor([[768, 768]], device='cuda:0'),\n",
       " 'target_size_as_tuple': tensor([[768, 768]], device='cuda:0'),\n",
       " 'caption': ['cinematic, shoe in the streets, made from meat, photorealistic shoe, highly detailed']}"
      ]
     },
     "execution_count": 12,
     "metadata": {},
     "output_type": "execute_result"
    }
   ],
   "source": [
    "batch"
   ]
  },
  {
   "cell_type": "code",
   "execution_count": null,
   "id": "d3862ddb-5219-4789-b995-2842f5f9122d",
   "metadata": {
    "tags": []
   },
   "outputs": [],
   "source": [
    "c, uc = model.conditioner.get_unconditional_conditioning(\n",
    "    print('crop_coords_top_left =',batch_c['crop_coords_top_left'])\n",
    "    print('original_size_as_tuple =',batch_c['original_size_as_tuple'])\n",
    "    print('target_size_as_tuple =',batch_c['target_size_as_tuple'])\n",
    "    \n",
    "    batch,\n",
    "    batch_uc=batch_uc,\n",
    "    force_uc_zero_embeddings=None\n",
    "    if len(model.conditioner.embedders) > 0\n",
    "    else [],\n",
    ")"
   ]
  },
  {
   "cell_type": "code",
   "execution_count": 29,
   "id": "52acbcb0-0e91-4723-b4e9-bedd822dce33",
   "metadata": {
    "tags": []
   },
   "outputs": [
    {
     "name": "stdout",
     "output_type": "stream",
     "text": [
      "crossattn -> <class 'torch.Tensor'>\n",
      "vector -> <class 'torch.Tensor'>\n"
     ]
    }
   ],
   "source": [
    "for k,v in c.items(): print(k,'->',type(v))"
   ]
  },
  {
   "cell_type": "code",
   "execution_count": 30,
   "id": "3d53ba51-0364-4de0-9e35-3a047956f1f2",
   "metadata": {
    "tags": []
   },
   "outputs": [
    {
     "data": {
      "text/plain": [
       "torch.Size([1, 77, 2048])"
      ]
     },
     "execution_count": 30,
     "metadata": {},
     "output_type": "execute_result"
    }
   ],
   "source": [
    "c['crossattn'].shape"
   ]
  },
  {
   "cell_type": "code",
   "execution_count": 31,
   "id": "3e4d76eb-ef87-40c7-84f4-35ca20660810",
   "metadata": {
    "tags": []
   },
   "outputs": [
    {
     "data": {
      "text/plain": [
       "torch.Size([1, 2816])"
      ]
     },
     "execution_count": 31,
     "metadata": {},
     "output_type": "execute_result"
    }
   ],
   "source": [
    "c['vector'].shape"
   ]
  },
  {
   "cell_type": "code",
   "execution_count": 33,
   "id": "0d808b67-4827-4a92-b032-f0e3d15fd93c",
   "metadata": {
    "tags": []
   },
   "outputs": [
    {
     "data": {
      "text/plain": [
       "tensor([0.4545, 0.1818, 0.1818, 0.1818])"
      ]
     },
     "execution_count": 33,
     "metadata": {},
     "output_type": "execute_result"
    }
   ],
   "source": [
    "splits = /2816\n",
    "splits"
   ]
  },
  {
   "cell_type": "code",
   "execution_count": 37,
   "id": "be9cbe7d-a593-46ea-85d1-ee3834fff0b6",
   "metadata": {
    "tags": []
   },
   "outputs": [],
   "source": [
    "text,orig_sz,crop,tgt_sz = torch.split(c['vector'], [1280, 512, 512, 512], dim=1)"
   ]
  },
  {
   "cell_type": "code",
   "execution_count": 38,
   "id": "e45791e4-b2a2-4c32-8a3a-0b629fad8e32",
   "metadata": {
    "tags": []
   },
   "outputs": [
    {
     "data": {
      "text/plain": [
       "(torch.Size([1, 1280]),\n",
       " torch.Size([1, 512]),\n",
       " torch.Size([1, 512]),\n",
       " torch.Size([1, 512]))"
      ]
     },
     "execution_count": 38,
     "metadata": {},
     "output_type": "execute_result"
    }
   ],
   "source": [
    "text.shape,orig_sz.shape,crop.shape,tgt_sz.shape"
   ]
  },
  {
   "cell_type": "code",
   "execution_count": 39,
   "id": "66051a42-475a-4891-98bd-340c814213e2",
   "metadata": {
    "tags": []
   },
   "outputs": [],
   "source": [
    "text_uc,orig_sz_uc,crop_uc,tgt_sz_uc = torch.split(uc['vector'], [1280, 512, 512, 512], dim=1)"
   ]
  },
  {
   "cell_type": "code",
   "execution_count": 40,
   "id": "d07ff0d3-79e4-46df-bb6d-9d26d9767115",
   "metadata": {
    "tags": []
   },
   "outputs": [
    {
     "data": {
      "text/plain": [
       "(torch.Size([1, 1280]),\n",
       " torch.Size([1, 512]),\n",
       " torch.Size([1, 512]),\n",
       " torch.Size([1, 512]))"
      ]
     },
     "execution_count": 40,
     "metadata": {},
     "output_type": "execute_result"
    }
   ],
   "source": [
    "text_uc.shape,orig_sz_uc.shape,crop_uc.shape,tgt_sz_uc.shape"
   ]
  },
  {
   "cell_type": "code",
   "execution_count": 46,
   "id": "d5f53912-da86-4d19-8d84-ccdf351257de",
   "metadata": {
    "tags": []
   },
   "outputs": [
    {
     "data": {
      "text/plain": [
       "(tensor(False, device='cuda:0'),\n",
       " tensor(True, device='cuda:0'),\n",
       " tensor(True, device='cuda:0'),\n",
       " tensor(True, device='cuda:0'))"
      ]
     },
     "execution_count": 46,
     "metadata": {},
     "output_type": "execute_result"
    }
   ],
   "source": [
    "(text==text_uc).all(), (orig_sz==orig_sz_uc).all(), (crop==crop_uc).all(), (tgt_sz==tgt_sz_uc).all()"
   ]
  },
  {
   "cell_type": "code",
   "execution_count": 47,
   "id": "ba2e4efc-eb41-4518-87b5-ddab4bad5f94",
   "metadata": {
    "tags": []
   },
   "outputs": [],
   "source": [
    "torch.save(c['vector'], 'c_vector')\n",
    "torch.save(uc['vector'], 'uc_vector')\n",
    "\n",
    "torch.save(c['crossattn'], 'c_crossattn')\n",
    "torch.save(uc['crossattn'], 'uc_crossattn')"
   ]
  },
  {
   "cell_type": "code",
   "execution_count": null,
   "id": "125542f1-09be-4ace-97e5-e939f53de236",
   "metadata": {},
   "outputs": [],
   "source": []
  }
 ],
 "metadata": {
  "kernelspec": {
   "display_name": "Python 3 (ipykernel)",
   "language": "python",
   "name": "python3"
  },
  "language_info": {
   "codemirror_mode": {
    "name": "ipython",
    "version": 3
   },
   "file_extension": ".py",
   "mimetype": "text/x-python",
   "name": "python",
   "nbconvert_exporter": "python",
   "pygments_lexer": "ipython3",
   "version": "3.10.13"
  }
 },
 "nbformat": 4,
 "nbformat_minor": 5
}
