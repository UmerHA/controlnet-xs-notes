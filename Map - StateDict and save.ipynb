{
 "cells": [
  {
   "cell_type": "markdown",
   "id": "fccdba08-35ef-49ed-9fee-96612908672b",
   "metadata": {},
   "source": [
    "In this notebook, I'm mapping the parameters given by Heidelberg CVL to the parameters required by my model"
   ]
  },
  {
   "cell_type": "code",
   "execution_count": 1,
   "id": "18f54b29-2786-41d3-88fb-0bbf1ce44dc4",
   "metadata": {},
   "outputs": [],
   "source": [
    "import torch\n",
    "from safetensors import safe_open"
   ]
  },
  {
   "cell_type": "code",
   "execution_count": 2,
   "id": "881895a5-a982-435e-a441-16bb0a2c0c1d",
   "metadata": {},
   "outputs": [],
   "source": [
    "file = '../../../../.hf-cache/CVL-Heidelberg/sdxl_encD_canny_48m.safetensors'"
   ]
  },
  {
   "cell_type": "code",
   "execution_count": 3,
   "id": "46f42350-1fa0-441e-a4f6-bd5483ebeac9",
   "metadata": {},
   "outputs": [],
   "source": [
    "weights_tensors = {}\n",
    "with safe_open(file, framework='pt', device='cpu') as f:\n",
    "   for key in f.keys():\n",
    "       weights_tensors[key] = f.get_tensor(key)"
   ]
  },
  {
   "cell_type": "code",
   "execution_count": 4,
   "id": "3a9d0c4a-dbf9-43c9-adc6-dce4c1c0c487",
   "metadata": {},
   "outputs": [],
   "source": [
    "from util import print_as_nested_dict"
   ]
  },
  {
   "cell_type": "markdown",
   "id": "6750a9a3-5e90-49b6-9806-3336f2229857",
   "metadata": {},
   "source": [
    "These are the params (on lv 1) the weights provide"
   ]
  },
  {
   "cell_type": "code",
   "execution_count": 5,
   "id": "178ec93c-8378-4303-9c38-36f20b0a65f6",
   "metadata": {},
   "outputs": [
    {
     "name": "stdout",
     "output_type": "stream",
     "text": [
      "control_model\n",
      "dec_zero_convs_out\n",
      "enc_zero_convs_in\n",
      "enc_zero_convs_out\n",
      "input_hint_block\n",
      "middle_block_out\n",
      "scale_list\n"
     ]
    }
   ],
   "source": [
    "print_as_nested_dict(sorted(weights_tensors))"
   ]
  },
  {
   "cell_type": "code",
   "execution_count": 6,
   "id": "105a5cc3-27e3-4a54-987c-3aed8ac53028",
   "metadata": {
    "tags": []
   },
   "outputs": [],
   "source": [
    "from diffusers.models import AutoencoderKL\n",
    "from diffusers import StableDiffusionXLPipeline"
   ]
  },
  {
   "cell_type": "code",
   "execution_count": 7,
   "id": "7953f893-b363-471e-8610-7bbe5a09e825",
   "metadata": {
    "tags": []
   },
   "outputs": [],
   "source": [
    "model = \"stabilityai/stable-diffusion-xl-base-1.0\"\n",
    "vae = AutoencoderKL.from_pretrained(\"stabilityai/sdxl-vae\", torch_dtype=torch.float16)"
   ]
  },
  {
   "cell_type": "code",
   "execution_count": 8,
   "id": "c6f30246-e09a-4747-a099-a19473ba0d40",
   "metadata": {
    "tags": []
   },
   "outputs": [
    {
     "data": {
      "application/vnd.jupyter.widget-view+json": {
       "model_id": "44ce3019df80419981f1e255134aac2d",
       "version_major": 2,
       "version_minor": 0
      },
      "text/plain": [
       "Loading pipeline components...:   0%|          | 0/7 [00:00<?, ?it/s]"
      ]
     },
     "metadata": {},
     "output_type": "display_data"
    },
    {
     "name": "stdout",
     "output_type": "stream",
     "text": [
      "At the end of __init__, the sigmas are tensor([14.6146, 14.5263, 14.4386, 14.3515, 14.2651]) ...\n"
     ]
    }
   ],
   "source": [
    "pipe = StableDiffusionXLPipeline.from_pretrained(model, vae=vae, torch_dtype=torch.float16)\n",
    "sdxl_unet = pipe.unet"
   ]
  },
  {
   "cell_type": "code",
   "execution_count": 9,
   "id": "157414d4-92c5-4875-bf07-f30a9e73b17a",
   "metadata": {},
   "outputs": [],
   "source": [
    "from diffusers.models.controlnetxs import ControlNetXSModel"
   ]
  },
  {
   "cell_type": "code",
   "execution_count": 10,
   "id": "9b3a9007-94da-4b86-be41-5086adafc60f",
   "metadata": {},
   "outputs": [],
   "source": [
    "cnxs = ControlNetXSModel.create_as_in_paper(base_model=sdxl_unet)"
   ]
  },
  {
   "cell_type": "code",
   "execution_count": null,
   "id": "64c2d4a0-dc0d-4230-a589-2269bc4764cb",
   "metadata": {},
   "outputs": [],
   "source": []
  },
  {
   "cell_type": "code",
   "execution_count": 11,
   "id": "2fb26899-f558-474d-ab95-e7e8673dea66",
   "metadata": {},
   "outputs": [],
   "source": [
    "model_tensors = cnxs.state_dict()"
   ]
  },
  {
   "cell_type": "markdown",
   "id": "1ce4adab-1328-419f-be54-8562a22489e5",
   "metadata": {},
   "source": [
    "These are the params (on lv 1) the model needs"
   ]
  },
  {
   "cell_type": "code",
   "execution_count": 12,
   "id": "9a21cbf9-7a0f-465f-9c39-b33975daf7c7",
   "metadata": {},
   "outputs": [
    {
     "name": "stdout",
     "output_type": "stream",
     "text": [
      "base_model\n",
      "control_model\n",
      "dec_zero_convs_out\n",
      "enc_zero_convs_in\n",
      "enc_zero_convs_out\n",
      "input_hint_block\n",
      "middle_block_out\n",
      "scale_list\n"
     ]
    }
   ],
   "source": [
    "print_as_nested_dict(sorted(model_tensors))"
   ]
  },
  {
   "cell_type": "code",
   "execution_count": 13,
   "id": "3197b341-6578-47a9-b870-5a8038746c71",
   "metadata": {},
   "outputs": [],
   "source": [
    "def lv0(k): return k.split('.')[0]"
   ]
  },
  {
   "cell_type": "code",
   "execution_count": 14,
   "id": "ee1a5b0e-b98e-41ea-9875-63932a7d60ec",
   "metadata": {},
   "outputs": [
    {
     "name": "stdout",
     "output_type": "stream",
     "text": [
      "Provided in weights and expected in model:\n",
      "['control_model', 'dec_zero_convs_out', 'enc_zero_convs_in', 'enc_zero_convs_out', 'input_hint_block', 'middle_block_out', 'scale_list']\n",
      "\n",
      "Provided by weights, but missing in model:\n",
      "[]\n",
      "\n",
      "Not provided by weights, but in model:\n",
      "['base_model']\n"
     ]
    }
   ],
   "source": [
    "model_lv0 = set(map(lv0,model_tensors.keys()))\n",
    "weights_lv0 = set(map(lv0,weights_tensors.keys()))\n",
    "\n",
    "missing   = sorted(list(weights_lv0 - model_lv0))\n",
    "unexpected= sorted(list(model_lv0 - weights_lv0))\n",
    "expected  = sorted(list(model_lv0.intersection(weights_lv0)))\n",
    "\n",
    "\n",
    "print('Provided in weights and expected in model:')\n",
    "print(expected)\n",
    "print('\\nProvided by weights, but missing in model:')\n",
    "print(missing)\n",
    "print('\\nNot provided by weights, but in model:')\n",
    "print(unexpected)"
   ]
  },
  {
   "cell_type": "markdown",
   "id": "faca8547-54e6-489f-b610-48c21af6e43e",
   "metadata": {},
   "source": [
    "Everything except `base_model` groups can be mapped directly; and `base_model` is the base diffusion model which will be loaded externally"
   ]
  },
  {
   "cell_type": "markdown",
   "id": "04c4f33b-1c25-4330-8402-cda02de7a35e",
   "metadata": {},
   "source": [
    "## Let's load everything except the unet"
   ]
  },
  {
   "cell_type": "code",
   "execution_count": 15,
   "id": "e9606c8c-a237-4f29-b480-2174f8bc0729",
   "metadata": {},
   "outputs": [],
   "source": [
    "available_key_mapping = {\n",
    "    'dec_zero_convs_out.0': 'dec_zero_convs_out',\n",
    "    'enc_zero_convs_in.0': 'enc_zero_convs_in',\n",
    "    'enc_zero_convs_out.0': 'enc_zero_convs_out',\n",
    "    'input_hint_block': 'input_hint_block',\n",
    "    'middle_block_out.0': 'middle_block_out',\n",
    "    'scale_list': 'scale_list'\n",
    "}\n",
    "\n",
    "cnxs_mapping_without_unet = {}\n",
    "for key_weights in weights_tensors.keys():\n",
    "    # only consider params starting with one of the above keys \n",
    "    if not any(key_weights.startswith(k) for k in available_key_mapping.keys()): continue\n",
    "\n",
    "    # replace their beginning according to the mapping above\n",
    "    key_model = key_weights\n",
    "    for o, replacement in available_key_mapping.items():\n",
    "        if key_weights.startswith(o):\n",
    "            key_model = key_weights.replace(o, replacement)\n",
    "            break\n",
    "\n",
    "    if key_model in model_tensors:\n",
    "        cnxs_mapping_without_unet[key_weights] = key_model\n",
    "    else:\n",
    "        print(f\"Can't find key {modified_k} in model\")"
   ]
  },
  {
   "cell_type": "code",
   "execution_count": 16,
   "id": "dc6814de-1d3b-4c35-893d-4a0e0d7c92de",
   "metadata": {},
   "outputs": [
    {
     "data": {
      "text/plain": [
       "25"
      ]
     },
     "execution_count": 16,
     "metadata": {},
     "output_type": "execute_result"
    }
   ],
   "source": [
    "len(cnxs_mapping_without_unet)"
   ]
  },
  {
   "cell_type": "code",
   "execution_count": 17,
   "id": "fede22e1-c25b-442b-8167-e5b3817c0a62",
   "metadata": {},
   "outputs": [
    {
     "data": {
      "text/plain": [
       "{'dec_zero_convs_out.0.0.bias': 'dec_zero_convs_out.0.bias',\n",
       " 'dec_zero_convs_out.0.0.weight': 'dec_zero_convs_out.0.weight',\n",
       " 'enc_zero_convs_in.0.0.bias': 'enc_zero_convs_in.0.bias',\n",
       " 'enc_zero_convs_in.0.0.weight': 'enc_zero_convs_in.0.weight',\n",
       " 'enc_zero_convs_out.0.0.bias': 'enc_zero_convs_out.0.bias',\n",
       " 'enc_zero_convs_out.0.0.weight': 'enc_zero_convs_out.0.weight',\n",
       " 'input_hint_block.0.bias': 'input_hint_block.0.bias',\n",
       " 'input_hint_block.0.weight': 'input_hint_block.0.weight',\n",
       " 'input_hint_block.10.bias': 'input_hint_block.10.bias',\n",
       " 'input_hint_block.10.weight': 'input_hint_block.10.weight',\n",
       " 'input_hint_block.12.bias': 'input_hint_block.12.bias',\n",
       " 'input_hint_block.12.weight': 'input_hint_block.12.weight',\n",
       " 'input_hint_block.14.bias': 'input_hint_block.14.bias',\n",
       " 'input_hint_block.14.weight': 'input_hint_block.14.weight',\n",
       " 'input_hint_block.2.bias': 'input_hint_block.2.bias',\n",
       " 'input_hint_block.2.weight': 'input_hint_block.2.weight',\n",
       " 'input_hint_block.4.bias': 'input_hint_block.4.bias',\n",
       " 'input_hint_block.4.weight': 'input_hint_block.4.weight',\n",
       " 'input_hint_block.6.bias': 'input_hint_block.6.bias',\n",
       " 'input_hint_block.6.weight': 'input_hint_block.6.weight',\n",
       " 'input_hint_block.8.bias': 'input_hint_block.8.bias',\n",
       " 'input_hint_block.8.weight': 'input_hint_block.8.weight',\n",
       " 'middle_block_out.0.bias': 'middle_block_out.bias',\n",
       " 'middle_block_out.0.weight': 'middle_block_out.weight',\n",
       " 'scale_list': 'scale_list'}"
      ]
     },
     "execution_count": 17,
     "metadata": {},
     "output_type": "execute_result"
    }
   ],
   "source": [
    "cnxs_mapping_without_unet"
   ]
  },
  {
   "cell_type": "markdown",
   "id": "962f1835-487f-49b2-85e2-a1bf89903413",
   "metadata": {},
   "source": [
    "So far, we have loaded everything expect the unet (ie `ctrl_model`)."
   ]
  },
  {
   "cell_type": "markdown",
   "id": "24639e7e-ac6e-414e-9791-6a57ccffab16",
   "metadata": {},
   "source": [
    "## Let's load the unet"
   ]
  },
  {
   "cell_type": "code",
   "execution_count": 18,
   "id": "6923cbd5-ec40-4b89-9d35-a6fb210d819f",
   "metadata": {},
   "outputs": [],
   "source": [
    "import pickle"
   ]
  },
  {
   "cell_type": "code",
   "execution_count": 19,
   "id": "fe5635f2-01e5-47c4-b410-384fc58107a4",
   "metadata": {},
   "outputs": [],
   "source": [
    "with open('mappings/sdxl_state_dict_mapping.pkl', 'rb') as f:\n",
    "    unet_key_mapping = pickle.load(f)"
   ]
  },
  {
   "cell_type": "markdown",
   "id": "57cbe2ae-5ced-4eae-8a72-f7569560ad76",
   "metadata": {},
   "source": [
    "The unet-mapping-dict maps from diffusers notation to cnxs notation, but I need the map the other way round"
   ]
  },
  {
   "cell_type": "code",
   "execution_count": 20,
   "id": "ded6655b-bb59-42b3-98b7-43aa350ae368",
   "metadata": {},
   "outputs": [],
   "source": [
    "unet_key_mapping = {v:k for k,v in unet_key_mapping.items()}"
   ]
  },
  {
   "cell_type": "markdown",
   "id": "28539b75-6cf4-4c3f-b4d9-ba8941ddbe46",
   "metadata": {},
   "source": [
    "Let's check that every tensor can be mapped from weights into model"
   ]
  },
  {
   "cell_type": "code",
   "execution_count": 21,
   "id": "51128a9c-9519-4a90-9523-1ec096460242",
   "metadata": {},
   "outputs": [],
   "source": [
    "weights_unet_params = [k for k in weights_tensors.keys() if k.startswith('control_model')]\n",
    "model_unet_params   = [k for k in model_tensors.keys()   if k.startswith('control_model')]"
   ]
  },
  {
   "cell_type": "code",
   "execution_count": 22,
   "id": "811f4491-8b83-429c-b5c6-8429bfb8b507",
   "metadata": {},
   "outputs": [
    {
     "name": "stdout",
     "output_type": "stream",
     "text": [
      "The weights provide 818 parameters for the unet, while the model expects 814\n"
     ]
    }
   ],
   "source": [
    "print(f'The weights provide {len(weights_unet_params)} parameters for the unet, while the model expects {len(model_unet_params)}')"
   ]
  },
  {
   "cell_type": "code",
   "execution_count": 23,
   "id": "6f9af4b2-daf3-4b5d-922b-fe77cc1403e5",
   "metadata": {},
   "outputs": [
    {
     "name": "stdout",
     "output_type": "stream",
     "text": [
      "The param-mapping-dict for the SDXL unet has 2100 entries\n"
     ]
    }
   ],
   "source": [
    "print(f'The param-mapping-dict for the SDXL unet has {len(unet_key_mapping)} entries')"
   ]
  },
  {
   "cell_type": "markdown",
   "id": "cc5189cd-88e2-4202-8fea-8dc6bf1bf4b1",
   "metadata": {},
   "source": [
    "Let's first check that all params in weights are present in the unet-mapping-dict"
   ]
  },
  {
   "cell_type": "code",
   "execution_count": 24,
   "id": "9cd79a3b-5a45-4c1c-ae02-1869713cf813",
   "metadata": {},
   "outputs": [],
   "source": [
    "present = [p for p in weights_unet_params if p.replace('control_model.','') in unet_key_mapping.keys()]\n",
    "not_present = [p for p in weights_unet_params if p.replace('control_model.','') not in unet_key_mapping.keys()]"
   ]
  },
  {
   "cell_type": "code",
   "execution_count": 25,
   "id": "d3ca579b-c173-47e5-9e06-f5c72ce1a220",
   "metadata": {},
   "outputs": [
    {
     "data": {
      "text/plain": [
       "(808, 10)"
      ]
     },
     "execution_count": 25,
     "metadata": {},
     "output_type": "execute_result"
    }
   ],
   "source": [
    "len(present), len(not_present)"
   ]
  },
  {
   "cell_type": "markdown",
   "id": "e1853299-97fd-4d98-a679-fc1ad8385ef8",
   "metadata": {},
   "source": [
    "Cool, almost all params in the weights can be mapped, expect these 10 below."
   ]
  },
  {
   "cell_type": "code",
   "execution_count": 26,
   "id": "bdc47af7-492d-46df-88e0-6cfd1a72e252",
   "metadata": {},
   "outputs": [
    {
     "data": {
      "text/plain": [
       "['control_model.input_blocks.1.0.skip_connection.bias',\n",
       " 'control_model.input_blocks.1.0.skip_connection.weight',\n",
       " 'control_model.input_blocks.2.0.skip_connection.bias',\n",
       " 'control_model.input_blocks.2.0.skip_connection.weight',\n",
       " 'control_model.input_blocks.5.0.skip_connection.bias',\n",
       " 'control_model.input_blocks.5.0.skip_connection.weight',\n",
       " 'control_model.input_blocks.8.0.skip_connection.bias',\n",
       " 'control_model.input_blocks.8.0.skip_connection.weight',\n",
       " 'control_model.middle_block.0.skip_connection.bias',\n",
       " 'control_model.middle_block.0.skip_connection.weight']"
      ]
     },
     "execution_count": 26,
     "metadata": {},
     "output_type": "execute_result"
    }
   ],
   "source": [
    "not_present"
   ]
  },
  {
   "cell_type": "markdown",
   "id": "7429f7d4-6396-4f5d-9e2c-cb2675f4d4d2",
   "metadata": {},
   "source": [
    "These are all restnet skip connections. It makes sense that these are not in the unet-param-mapping, because in a normal unet, the restnets have equal input and output sizes. Therefore the skip-connections are `nn.Identity` and don't require parameters.\n",
    "\n",
    "In the controller part of controlnet-xs, we have resnets with different input and output sizes, because we're infusing information from the base model into the control model. Therefore, we use convolutions as skip-connections."
   ]
  },
  {
   "cell_type": "code",
   "execution_count": 27,
   "id": "8ec8b8f2-362f-43f7-b2ae-0b76dc1f540d",
   "metadata": {},
   "outputs": [],
   "source": [
    "def match_by_parent(o):\n",
    "    assert 'skip_connection' in o, 'Only skip-connections should be matches via the `match_by_parent` function'\n",
    "    w,b = 'weight' in o, 'bias' in o\n",
    "    o = o.replace('control_model.','').replace('.skip_connection','').replace('.weight','').replace('.bias','')\n",
    "    for k,v in unet_key_mapping.items():\n",
    "        if o in k:\n",
    "            o = 'control_model.' + '.'.join(v.split('.')[:-2]) + '.conv_shortcut'\n",
    "            if w: o+= '.weight'\n",
    "            if b: o+= '.bias'\n",
    "            return o\n",
    "    return None\n",
    "\n",
    "assert match_by_parent('control_model.input_blocks.1.0.skip_connection.bias')=='control_model.down_blocks.0.resnets.0.conv_shortcut.bias'"
   ]
  },
  {
   "cell_type": "markdown",
   "id": "dc68daaa-aabd-47f7-9baf-102725c4e3ef",
   "metadata": {},
   "source": [
    "Shapes don't need to match fully, they need only be identical after broadcasting. E.g., `(4,4,1,1)` and `(4,4)` should be treated equally"
   ]
  },
  {
   "cell_type": "code",
   "execution_count": 28,
   "id": "a75df089-a990-42ce-b692-9b4caa75fdd3",
   "metadata": {},
   "outputs": [],
   "source": [
    "def equal_for_broadcasting(s1, s2):\n",
    "    l1, l2 = len(s1), len(s2)\n",
    "    if l1==0 or l2==0: return False\n",
    "    if l1<l2: s1, s2 = s2, s1 # Make s1 the longer list\n",
    "    s1 = list(s1)\n",
    "    s2 = list(s2) + [1] * (len(s1) - len(s2))\n",
    "    return all(d1 == d2 or d2 == 1 for d1, d2 in zip(s1, s2))\n",
    "\n",
    "assert equal_for_broadcasting((5,5), (5,5,1,1))\n",
    "assert equal_for_broadcasting((4,1), (4,))\n",
    "assert equal_for_broadcasting((3,3,3), (3,3,3))"
   ]
  },
  {
   "cell_type": "markdown",
   "id": "f68a4e9a-6b7c-49ab-8d2e-3c70d3f76dd0",
   "metadata": {},
   "source": [
    "Let's, for each parameter as defined in the unet-mapping-dict, check if the either it is\n",
    "- provided by the weights, expected by the model and the shapes fit ✅, or\n",
    "- provided by the weights, expected by the model, but the shapes mismatch ☑️, or\n",
    "- provided by the weights, but not missing in the model 🤔"
   ]
  },
  {
   "cell_type": "code",
   "execution_count": 29,
   "id": "66f77b83-7811-4dea-91a8-cf341705f646",
   "metadata": {},
   "outputs": [],
   "source": [
    "okay, shape_mismatch, missing, not_in_mapping = [],[],[],[]\n",
    "\n",
    "for k in weights_unet_params:\n",
    "    key_weights,key_model = None,None\n",
    "    \n",
    "    key_weights = k\n",
    "\n",
    "    if not k.replace('control_model.','') in unet_key_mapping.keys():\n",
    "        if 'skip_connection' in k:\n",
    "            key_model = match_by_parent(k)\n",
    "        else:            \n",
    "            not_in_mapping.append(k)\n",
    "            continue\n",
    "    else:\n",
    "        key_model = 'control_model.'+unet_key_mapping[k.replace('control_model.','')]\n",
    "    \n",
    "\n",
    "    if not key_model in model_tensors:\n",
    "        missing.append((key_weights, key_model))\n",
    "        continue\n",
    "    \n",
    "    shape_model   = list(model_tensors[key_model].shape)\n",
    "    shape_weights = list(weights_tensors[key_weights].shape)\n",
    "    \n",
    "    if not equal_for_broadcasting(shape_model,shape_weights):\n",
    "        shape_mismatch.append((key_weights,shape_weights,key_model,shape_model))\n",
    "        continue\n",
    "\n",
    "    okay.append((key_weights, key_model))"
   ]
  },
  {
   "cell_type": "code",
   "execution_count": 30,
   "id": "85f1843a-6812-4223-8a06-730c77173305",
   "metadata": {},
   "outputs": [
    {
     "data": {
      "text/plain": [
       "(814, 0, 4, 0)"
      ]
     },
     "execution_count": 30,
     "metadata": {},
     "output_type": "execute_result"
    }
   ],
   "source": [
    "len(okay),len(shape_mismatch),len(missing),len(not_in_mapping)"
   ]
  },
  {
   "cell_type": "code",
   "execution_count": 31,
   "id": "92555979-4eb2-44ef-a8b5-4dd3e8ef66a3",
   "metadata": {},
   "outputs": [
    {
     "name": "stdout",
     "output_type": "stream",
     "text": [
      "Reminder: There are 818 params provided by the weights\n"
     ]
    }
   ],
   "source": [
    "print(f'Reminder: There are {len(weights_unet_params)} params provided by the weights')"
   ]
  },
  {
   "cell_type": "code",
   "execution_count": 32,
   "id": "0c261fd3-8ad6-424a-8f5f-b0a907fe6afd",
   "metadata": {},
   "outputs": [
    {
     "name": "stdout",
     "output_type": "stream",
     "text": [
      "Of those, 814 params can be matched correctly ✅\n"
     ]
    }
   ],
   "source": [
    "print(f'Of those, {len(okay)} params can be matched correctly ✅')"
   ]
  },
  {
   "cell_type": "code",
   "execution_count": 33,
   "id": "7569ad07-58df-4795-a985-ce6a1820d25b",
   "metadata": {},
   "outputs": [
    {
     "name": "stdout",
     "output_type": "stream",
     "text": [
      "0 params can be matched but have mismatching shapes ☑️. These are:\n"
     ]
    }
   ],
   "source": [
    "print(f'{len(shape_mismatch)} params can be matched but have mismatching shapes ☑️. These are:')\n",
    "for kw,sw,km,sm in shape_mismatch: print(f'- \"{kw}\" has shape {sw} in weights and {sm} in model.\\n\\t It\\'s name in model is \"{km}\"')"
   ]
  },
  {
   "cell_type": "code",
   "execution_count": 34,
   "id": "04d74ae4-1d76-4f30-bb44-c784cf874ddc",
   "metadata": {},
   "outputs": [
    {
     "name": "stdout",
     "output_type": "stream",
     "text": [
      "4 params are provided in the weights, but missing in the model 🤔. These are:\n",
      "- \"control_model.add_embedding.linear_1.bias\" (called \"control_model.label_emb.0.0.bias\" in weights)\n",
      "- \"control_model.add_embedding.linear_1.weight\" (called \"control_model.label_emb.0.0.weight\" in weights)\n",
      "- \"control_model.add_embedding.linear_2.bias\" (called \"control_model.label_emb.0.2.bias\" in weights)\n",
      "- \"control_model.add_embedding.linear_2.weight\" (called \"control_model.label_emb.0.2.weight\" in weights)\n"
     ]
    }
   ],
   "source": [
    "print(f'{len(missing)} params are provided in the weights, but missing in the model 🤔. These are:')\n",
    "for kw,km in missing: print(f'- \"{km}\" (called \"{kw}\" in weights)')"
   ]
  },
  {
   "cell_type": "markdown",
   "id": "73656263-819c-4c82-b9e3-360d937927a1",
   "metadata": {},
   "source": [
    "These all belong to the label embedding of the control model, which is not used at all (only the label embedding of the base model is used). So we can safely ignore these 4 params. "
   ]
  },
  {
   "cell_type": "code",
   "execution_count": 35,
   "id": "4f52ed59-2f11-4df7-825a-53680d01b46e",
   "metadata": {},
   "outputs": [
    {
     "name": "stdout",
     "output_type": "stream",
     "text": [
      "0 params are not present in the unet-mapping-dict.\n"
     ]
    }
   ],
   "source": [
    "print(f'{len(not_in_mapping)} params are not present in the unet-mapping-dict.')"
   ]
  },
  {
   "cell_type": "markdown",
   "id": "328a89ed-bde2-481c-9c2c-008630807ad2",
   "metadata": {},
   "source": [
    "### Unexpected params"
   ]
  },
  {
   "cell_type": "markdown",
   "id": "4b097fb2-e49d-4f12-b53d-ee4e37c1d2dc",
   "metadata": {},
   "source": [
    "These params are not provided in the weights, but currently (and wrongly) expected by the model."
   ]
  },
  {
   "cell_type": "code",
   "execution_count": 36,
   "id": "671d222f-142d-4f46-97a5-d3618562c791",
   "metadata": {},
   "outputs": [],
   "source": [
    "matched__model_nomenclature = [km for kw,km in okay] + [km for kw,sw,km,sm in shape_mismatch]"
   ]
  },
  {
   "cell_type": "code",
   "execution_count": 37,
   "id": "3a7695d7-2d3e-4796-9988-e43d07a3f1d1",
   "metadata": {},
   "outputs": [
    {
     "data": {
      "text/plain": [
       "['control_model.conv_in.bias',\n",
       " 'control_model.conv_in.weight',\n",
       " 'control_model.down_blocks.0.resnets.0.time_emb_proj.bias']"
      ]
     },
     "execution_count": 37,
     "metadata": {},
     "output_type": "execute_result"
    }
   ],
   "source": [
    "matched__model_nomenclature[:3]"
   ]
  },
  {
   "cell_type": "code",
   "execution_count": 38,
   "id": "930c459e-806f-426a-8fe2-80dfc31cce4b",
   "metadata": {},
   "outputs": [
    {
     "data": {
      "text/plain": [
       "True"
      ]
     },
     "execution_count": 38,
     "metadata": {},
     "output_type": "execute_result"
    }
   ],
   "source": [
    "any(model_unet_params[0]==o for o in matched__model_nomenclature)"
   ]
  },
  {
   "cell_type": "code",
   "execution_count": 39,
   "id": "d8af92d5-a1ac-48ea-87d0-5b487f12123d",
   "metadata": {},
   "outputs": [
    {
     "data": {
      "text/plain": [
       "0"
      ]
     },
     "execution_count": 39,
     "metadata": {},
     "output_type": "execute_result"
    }
   ],
   "source": [
    "unexpted_params = [\n",
    "    p\n",
    "    for p in model_unet_params\n",
    "    if not any(p==o for o in matched__model_nomenclature)\n",
    "]\n",
    "len(unexpted_params)"
   ]
  },
  {
   "cell_type": "markdown",
   "id": "e1f445ea-4e64-4267-b6ad-bca15a6b649b",
   "metadata": {},
   "source": [
    "There are ~900 parameters not provided in weight that the model wongly expects\n",
    "\n",
    "**Edit:** These were all from the afte the mid block (ie up block, or conv out). I have removed them."
   ]
  },
  {
   "cell_type": "code",
   "execution_count": 40,
   "id": "d7e286c1-95f0-48cb-8e28-712c12f18afb",
   "metadata": {},
   "outputs": [
    {
     "data": {
      "text/plain": [
       "[]"
      ]
     },
     "execution_count": 40,
     "metadata": {},
     "output_type": "execute_result"
    }
   ],
   "source": [
    "unexpted_params[:3]"
   ]
  },
  {
   "cell_type": "code",
   "execution_count": 41,
   "id": "92004fca-0a43-4916-9b5b-d06faedbc78f",
   "metadata": {},
   "outputs": [],
   "source": [
    "def containing(l, strs, invert=False):\n",
    "    if not isinstance(strs,list): strs=[strs]\n",
    "    if invert:\n",
    "        for s in strs: l = list(filter(lambda o:s not in o, l))\n",
    "    else:\n",
    "        for s in strs: l = list(filter(lambda o:s in o, l))\n",
    "    return l\n",
    "\n",
    "assert containing(['aa','ab'], 'a') == ['aa', 'ab']\n",
    "assert containing(['aa','ab'], ['a']) == ['aa', 'ab']\n",
    "assert containing(['aa','ab'], ['aa']) == ['aa']\n",
    "assert containing(['aa','ab'], ['a','c']) == []\n",
    "assert containing(['aa','ab'], 'b', invert=True) == ['aa']"
   ]
  },
  {
   "cell_type": "markdown",
   "id": "f6c80053-030a-41e2-b5f7-f19f3a01fea1",
   "metadata": {},
   "source": [
    "**Hypothesis (old):** These are mostly transformer_blocks biases"
   ]
  },
  {
   "cell_type": "code",
   "execution_count": 42,
   "id": "e94e526c-948a-40f3-b59f-47f8a22fb80b",
   "metadata": {},
   "outputs": [
    {
     "data": {
      "text/plain": [
       "0"
      ]
     },
     "execution_count": 42,
     "metadata": {},
     "output_type": "execute_result"
    }
   ],
   "source": [
    "tf_bias = containing(unexpted_params, ['transformer_blocks', 'bias'])\n",
    "len(tf_bias)"
   ]
  },
  {
   "cell_type": "markdown",
   "id": "21cb7aa4-865b-4622-820a-9e7c56cdbc79",
   "metadata": {},
   "source": [
    "Let's verify that the correctly mapped params don't have transformer_blocks biases"
   ]
  },
  {
   "cell_type": "code",
   "execution_count": 43,
   "id": "fbf9df58-9408-4326-90d3-9e91a06294bc",
   "metadata": {},
   "outputs": [
    {
     "data": {
      "text/plain": [
       "238"
      ]
     },
     "execution_count": 43,
     "metadata": {},
     "output_type": "execute_result"
    }
   ],
   "source": [
    "len(containing(matched__model_nomenclature, ['transformer_blocks', 'bias']))"
   ]
  },
  {
   "cell_type": "markdown",
   "id": "4889d53c-a980-4316-9487-6e3730b7b244",
   "metadata": {},
   "source": [
    "**Result: No**, there are biases for tranformer_blocks in the correctly mapped params."
   ]
  },
  {
   "cell_type": "markdown",
   "id": "b6c1196e-6e51-4e6d-b23b-1d303285b39b",
   "metadata": {},
   "source": [
    "**Hypothesis:** These are mostly upblocks, as our control model doesnt need the up part."
   ]
  },
  {
   "cell_type": "code",
   "execution_count": 44,
   "id": "30d3ba89-5802-4655-9224-940acae7e410",
   "metadata": {},
   "outputs": [
    {
     "data": {
      "text/plain": [
       "(0, 0)"
      ]
     },
     "execution_count": 44,
     "metadata": {},
     "output_type": "execute_result"
    }
   ],
   "source": [
    "len(containing(unexpted_params, 'up_block')), len(containing(unexpted_params, 'up_block', invert=True))"
   ]
  },
  {
   "cell_type": "markdown",
   "id": "632e5f0f-996b-4640-9a14-4a0cc95a32e1",
   "metadata": {},
   "source": [
    "**Result: Yes!** 868 of 873 unexpected params are from the upblocks."
   ]
  },
  {
   "cell_type": "markdown",
   "id": "64b8b372-7be6-4dbd-8c23-52116e1e3fef",
   "metadata": {},
   "source": [
    "We can just ignore these params in the forward, so it doesn't matter that they exist."
   ]
  },
  {
   "cell_type": "markdown",
   "id": "6a91a404-359e-4492-b5bd-ff0cd4eb7531",
   "metadata": {},
   "source": [
    "___"
   ]
  },
  {
   "cell_type": "markdown",
   "id": "41b57f26-91e2-43ed-bde7-f34c71fff0fd",
   "metadata": {},
   "source": [
    "What are the remaining 4 params?"
   ]
  },
  {
   "cell_type": "code",
   "execution_count": 45,
   "id": "041c7857-11f1-421a-ace3-2c59d0e77fb8",
   "metadata": {},
   "outputs": [
    {
     "data": {
      "text/plain": [
       "[]"
      ]
     },
     "execution_count": 45,
     "metadata": {},
     "output_type": "execute_result"
    }
   ],
   "source": [
    "containing(unexpted_params, 'up_block', invert=True)"
   ]
  },
  {
   "cell_type": "markdown",
   "id": "bb71c7b1-1fd1-4388-8300-ba74391eb611",
   "metadata": {},
   "source": [
    "`conv_out` and `conv_norm_out` are from the output part (after the up part), so can be ignored as well"
   ]
  },
  {
   "cell_type": "markdown",
   "id": "2624fb2e-e960-416f-b4e2-0cf1d9b630b3",
   "metadata": {},
   "source": [
    "**==> All unexpected extra params can be safely ignored**"
   ]
  },
  {
   "cell_type": "markdown",
   "id": "d3693ccc-59b4-48ca-b460-dc99d0bc4247",
   "metadata": {},
   "source": [
    "___"
   ]
  },
  {
   "cell_type": "markdown",
   "id": "14d945e6-40c6-4209-8f2e-71434ea5b40a",
   "metadata": {},
   "source": [
    "## Map params"
   ]
  },
  {
   "cell_type": "markdown",
   "id": "94116cc0-16c3-4a98-8d0a-4711bfcf5f95",
   "metadata": {},
   "source": [
    "We have mapped everything! Let's do the actual mapping and create the mapped cnxs object"
   ]
  },
  {
   "cell_type": "code",
   "execution_count": 46,
   "id": "0624be4e-4f5b-45e9-a658-aad9785b163b",
   "metadata": {},
   "outputs": [
    {
     "data": {
      "text/plain": [
       "839"
      ]
     },
     "execution_count": 46,
     "metadata": {},
     "output_type": "execute_result"
    }
   ],
   "source": [
    "cnxs_full_mapping = {\n",
    "    **cnxs_mapping_without_unet,\n",
    "    **{kw:km for kw,km in okay}\n",
    "}\n",
    "len(cnxs_full_mapping)"
   ]
  },
  {
   "cell_type": "code",
   "execution_count": 47,
   "id": "c6d2d23c-2548-4293-b5a4-8df8d8679a18",
   "metadata": {},
   "outputs": [],
   "source": [
    "assert len(cnxs_mapping_without_unet) + len(okay) == len(cnxs_full_mapping)"
   ]
  },
  {
   "cell_type": "markdown",
   "id": "1b4b0b77-ef9b-4076-9031-051703b82a26",
   "metadata": {},
   "source": [
    "We need the mapping from diffusers nomenclature to cnxs nomenclature"
   ]
  },
  {
   "cell_type": "code",
   "execution_count": 48,
   "id": "6a443d59-8e0a-4cfb-8ca4-6a0e77520be5",
   "metadata": {},
   "outputs": [],
   "source": [
    "cnxs_full_mapping = {v:k for k,v in cnxs_full_mapping.items()}"
   ]
  },
  {
   "cell_type": "code",
   "execution_count": 49,
   "id": "344867f1-4360-4be3-9f38-5686c150aa31",
   "metadata": {},
   "outputs": [],
   "source": [
    "with open('mappings/cnxs_state_dict_mapping.pkl', 'wb') as f:\n",
    "    pickle.dump(cnxs_full_mapping, f)"
   ]
  },
  {
   "cell_type": "code",
   "execution_count": null,
   "id": "fbc7640e-ab79-449e-b79c-4f48be8a8d62",
   "metadata": {},
   "outputs": [],
   "source": []
  },
  {
   "cell_type": "code",
   "execution_count": 50,
   "id": "2e636c80-ae6a-4cd7-b471-c2daf3035873",
   "metadata": {},
   "outputs": [],
   "source": [
    "cnxs_state_dict = cnxs.state_dict()"
   ]
  },
  {
   "cell_type": "markdown",
   "id": "7a95d353-c086-4465-8cb0-453dd4bd37d6",
   "metadata": {},
   "source": [
    "We need to make sure the weights fit 100%, even if they're equal for broadcasting"
   ]
  },
  {
   "cell_type": "code",
   "execution_count": 51,
   "id": "d5778b41-8037-413a-a379-f79372e0b7b9",
   "metadata": {},
   "outputs": [],
   "source": [
    "for k,v in cnxs_full_mapping.items():\n",
    "    mt,wt = model_tensors[k],weights_tensors[v]\n",
    "    if mt.shape==wt.shape:\n",
    "        # Load tensor\n",
    "        cnxs_state_dict[k] = weights_tensors[v]\n",
    "    else:\n",
    "        # Load tensor with 2 trailing unit dims added\n",
    "        assert list(mt.shape)==list(wt.shape)+[1,1], 'Unexpected shape mismatch found'\n",
    "        cnxs_state_dict[k] = wt.unsqueeze(-1).unsqueeze(-1) "
   ]
  },
  {
   "cell_type": "code",
   "execution_count": null,
   "id": "41b131e2-4bce-4ade-a185-12420c393c8a",
   "metadata": {},
   "outputs": [],
   "source": []
  },
  {
   "cell_type": "code",
   "execution_count": 52,
   "id": "5c3a7815-d3ed-4ffc-b358-82224e211a7f",
   "metadata": {},
   "outputs": [
    {
     "data": {
      "text/plain": [
       "(9, 9)"
      ]
     },
     "execution_count": 52,
     "metadata": {},
     "output_type": "execute_result"
    }
   ],
   "source": [
    "len(cnxs.enc_zero_convs_out), len(cnxs.dec_zero_convs_out)"
   ]
  },
  {
   "cell_type": "code",
   "execution_count": null,
   "id": "5fee4e46-2be2-43b7-8edf-f10d010bee59",
   "metadata": {},
   "outputs": [],
   "source": []
  },
  {
   "cell_type": "code",
   "execution_count": null,
   "id": "780dd3d7-f23d-4d3b-9825-60cf5626b66f",
   "metadata": {},
   "outputs": [],
   "source": []
  },
  {
   "cell_type": "code",
   "execution_count": 53,
   "id": "d65842fa-e75e-4a02-a693-e9e2de42d8a6",
   "metadata": {},
   "outputs": [
    {
     "data": {
      "text/plain": [
       "<All keys matched successfully>"
      ]
     },
     "execution_count": 53,
     "metadata": {},
     "output_type": "execute_result"
    }
   ],
   "source": [
    "cnxs.load_state_dict(cnxs_state_dict)"
   ]
  },
  {
   "cell_type": "markdown",
   "id": "38bd433c-39ea-4242-ab03-a392b6d21d35",
   "metadata": {},
   "source": [
    "**All keys matched successfully** 😍🎉✨"
   ]
  },
  {
   "cell_type": "markdown",
   "id": "a728075b-334a-4c67-912b-29425add5ff0",
   "metadata": {},
   "source": [
    "I don't want to save the base unet with the control net xs, so let's delete it first"
   ]
  },
  {
   "cell_type": "code",
   "execution_count": 54,
   "id": "2e14cd14-cc4d-4abe-b9eb-e0de62fcbc8e",
   "metadata": {},
   "outputs": [],
   "source": [
    "del cnxs.base_model"
   ]
  },
  {
   "cell_type": "code",
   "execution_count": 55,
   "id": "90ec6a6f-6b38-40db-b691-d1226a3188d5",
   "metadata": {},
   "outputs": [],
   "source": [
    "cnxs.save_pretrained('weights/cnxs')"
   ]
  },
  {
   "cell_type": "code",
   "execution_count": null,
   "id": "04304647-fd38-4f1f-b941-ae623349f64a",
   "metadata": {},
   "outputs": [],
   "source": []
  }
 ],
 "metadata": {
  "kernelspec": {
   "display_name": "Python 3 (ipykernel)",
   "language": "python",
   "name": "python3"
  },
  "language_info": {
   "codemirror_mode": {
    "name": "ipython",
    "version": 3
   },
   "file_extension": ".py",
   "mimetype": "text/x-python",
   "name": "python",
   "nbconvert_exporter": "python",
   "pygments_lexer": "ipython3",
   "version": "3.11.5"
  }
 },
 "nbformat": 4,
 "nbformat_minor": 5
}
