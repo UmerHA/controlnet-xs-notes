{
 "cells": [
  {
   "cell_type": "markdown",
   "id": "30794abe-5ec0-4ecd-90c5-5ef222fc2e48",
   "metadata": {},
   "source": [
    "Here, I do 1 `forward` pass and manually compare each intermediate output with the cloud version.\n",
    "\n",
    "As the first large difference between local and cloud outputs are after 1st resnet, I'll compare the intermediate outputs of that 1st resnet in detail."
   ]
  },
  {
   "cell_type": "code",
   "execution_count": 2,
   "id": "2fa846a7-09c0-472e-b00b-53e1946eb913",
   "metadata": {},
   "outputs": [],
   "source": [
    "import torch\n",
    "from torch.testing import assert_close\n",
    "from torch import allclose, nn, tensor\n",
    "torch.set_printoptions(linewidth=200)"
   ]
  },
  {
   "cell_type": "code",
   "execution_count": 3,
   "id": "18ae4f5a-d7eb-4471-be6f-cae1f309ed92",
   "metadata": {},
   "outputs": [],
   "source": [
    "device = 'cuda' if torch.cuda.is_available() else 'mps'\n",
    "device_dtype = torch.float16 if device == 'cuda' else torch.float32"
   ]
  },
  {
   "cell_type": "markdown",
   "id": "c739024d-d8ee-4aee-882c-9c5388ff6057",
   "metadata": {},
   "source": [
    "## Load the model"
   ]
  },
  {
   "cell_type": "code",
   "execution_count": 4,
   "id": "c565cf82-1eaa-4e68-8d35-a6459ee60097",
   "metadata": {
    "tags": []
   },
   "outputs": [],
   "source": [
    "from diffusers import StableDiffusionXLPipeline\n",
    "from diffusers import EulerDiscreteScheduler\n",
    "from diffusers.models.controlnetxs import ControlNetXSModel\n",
    "from diffusers.pipelines.controlnet_xs.pipeline_controlnet_xs_sd_xl import StableDiffusionXLControlNetXSPipeline"
   ]
  },
  {
   "cell_type": "code",
   "execution_count": 5,
   "id": "e0b304d6-cb41-49f5-849d-3e955da3e5e6",
   "metadata": {
    "tags": []
   },
   "outputs": [
    {
     "name": "stdout",
     "output_type": "stream",
     "text": [
      "At the end of __init__, the sigmas are tensor([14.6146, 14.5263, 14.4386, 14.3515, 14.2651]) ...\n",
      "At the end of __init__, the sigmas are tensor([14.6146, 14.5263, 14.4386, 14.3515, 14.2651]) ...\n"
     ]
    }
   ],
   "source": [
    "sdxl_pipe = StableDiffusionXLPipeline.from_single_file('weights/sdxl/sd_xl_base_1.0_0.9vae.safetensors').to(device)\n",
    "cnxs = ControlNetXSModel.from_pretrained('weights/cnxs').to(device)"
   ]
  },
  {
   "cell_type": "code",
   "execution_count": 6,
   "id": "1af1ff7f-cb94-448b-9988-6a309b56cd9e",
   "metadata": {},
   "outputs": [],
   "source": [
    "cnxs.base_model = sdxl_pipe.unet"
   ]
  },
  {
   "cell_type": "markdown",
   "id": "0b7758a1-6260-4d2c-a874-b63271eb9b61",
   "metadata": {},
   "source": [
    "The example script of Heidelberg manually sets scale_list to 0.95"
   ]
  },
  {
   "cell_type": "code",
   "execution_count": 7,
   "id": "1b7f0107-b0ff-4989-aabf-533638fb7eb8",
   "metadata": {},
   "outputs": [],
   "source": [
    "cnxs.scale_list = cnxs.scale_list * 0. + 0.95\n",
    "assert cnxs.scale_list[0] == .95"
   ]
  },
  {
   "cell_type": "markdown",
   "id": "e9b95d9c-ac7a-42d3-82cf-4eef25a591ae",
   "metadata": {},
   "source": [
    "Heidelberg uses `timestep_spacing = 'linspace'` in their scheduler, so let's do that as well"
   ]
  },
  {
   "cell_type": "code",
   "execution_count": 8,
   "id": "ca82d739-fb30-429a-a902-3e711428ffa5",
   "metadata": {},
   "outputs": [
    {
     "name": "stdout",
     "output_type": "stream",
     "text": [
      "At the end of __init__, the sigmas are tensor([14.6146, 14.5263, 14.4386, 14.3515, 14.2651]) ...\n",
      "timestep_spacing = \"leading\" and timesteps=[999.      978.61224 958.2245  937.83673 917.449  ] ...\n",
      "sigmas before interpolation: [0.02916753 0.04131448 0.05068044 0.05861427 0.06563709] ...\n",
      "sigmas after (linear) interpolation: [14.61464691 12.93677721 11.49164976 10.24291444  9.16035419] ...\n",
      "At end of `set_timesteps`:\n",
      "sigmas =  tensor([14.6146, 12.9368, 11.4916, 10.2429,  9.1604]) ...\n",
      "timesteps = tensor([999.0000, 978.6122, 958.2245, 937.8367, 917.4490]) ...\n",
      "At the end of __init__, the sigmas are tensor([14.6146, 14.5263, 14.4386, 14.3515, 14.2651]) ...\n"
     ]
    }
   ],
   "source": [
    "scheduler_cgf = dict(sdxl_pipe.scheduler.config)\n",
    "scheduler_cgf['timestep_spacing'] = 'linspace'\n",
    "sdxl_pipe.scheduler = EulerDiscreteScheduler.from_config(scheduler_cgf)\n",
    "\n",
    "# test it worked\n",
    "sdxl_pipe.scheduler.set_timesteps(50)\n",
    "assert sdxl_pipe.scheduler.timesteps[0]==999\n",
    "\n",
    "# reset\n",
    "sdxl_pipe.scheduler = EulerDiscreteScheduler.from_config(scheduler_cgf)"
   ]
  },
  {
   "cell_type": "code",
   "execution_count": 9,
   "id": "a120b84b-1126-4d6c-b08e-8114b5761c25",
   "metadata": {},
   "outputs": [],
   "source": [
    "cnxs_pipe = StableDiffusionXLControlNetXSPipeline(\n",
    "    vae=sdxl_pipe.vae,\n",
    "    text_encoder=sdxl_pipe.text_encoder,\n",
    "    text_encoder_2=sdxl_pipe.text_encoder_2,\n",
    "    tokenizer=sdxl_pipe.tokenizer,\n",
    "    tokenizer_2=sdxl_pipe.tokenizer_2,\n",
    "    unet=sdxl_pipe.unet,\n",
    "    controlnet=cnxs,\n",
    "    scheduler=sdxl_pipe.scheduler,\n",
    ")"
   ]
  },
  {
   "cell_type": "markdown",
   "id": "994cd8cf-1682-47e5-a7ff-4ccb3095ad61",
   "metadata": {},
   "source": [
    "___"
   ]
  },
  {
   "cell_type": "markdown",
   "id": "8716be49-ec49-405e-ab61-a7eb54abdc7b",
   "metadata": {},
   "source": [
    "## Load intermediate outputs of full model"
   ]
  },
  {
   "cell_type": "markdown",
   "id": "38d07728-5ae8-4202-9037-a7e87576cca3",
   "metadata": {},
   "source": [
    "These were computed on the cloud with Heidelberg code"
   ]
  },
  {
   "cell_type": "code",
   "execution_count": 10,
   "id": "2fe3a1a3-3afc-4856-b927-2e26cd590ff6",
   "metadata": {},
   "outputs": [],
   "source": [
    "from util_inspect import load_intermediate_outputs, print_metadata, compare_intermediate_results"
   ]
  },
  {
   "cell_type": "code",
   "execution_count": null,
   "id": "0e589b7c-c016-43e1-be4a-eb7d4cea0932",
   "metadata": {},
   "outputs": [],
   "source": [
    "model_outp_cloud = load_intermediate_outputs('intermediate_output/cloud_debug_log.pkl')\n",
    "model_outp_local = load_intermediate_outputs('intermediate_output/local_debug_log.pkl')\n",
    "len(model_outp_cloud),len(model_outp_local)"
   ]
  },
  {
   "cell_type": "code",
   "execution_count": null,
   "id": "c3df983c-f327-4bde-ac4e-0ac90830a4df",
   "metadata": {},
   "outputs": [],
   "source": [
    "compare_intermediate_results(model_outp_cloud, model_outp_local, n=20, prec=5, compare_prec=3)"
   ]
  },
  {
   "cell_type": "markdown",
   "id": "4ec2ed3c-bdae-4446-8eb7-4d3d060c311e",
   "metadata": {},
   "source": [
    "## Load intermediate outputs of 1st resnet"
   ]
  },
  {
   "cell_type": "code",
   "execution_count": null,
   "id": "d0e9f513-02f7-4343-b2ce-5e46ea5e8925",
   "metadata": {},
   "outputs": [],
   "source": [
    "resnet_outp_cloud = load_intermediate_outputs('intermediate_output/cloud_resnet.pkl')\n",
    "resnet_outp_local = load_intermediate_outputs('intermediate_output/local_resnet.pkl')\n",
    "len(resnet_outp_cloud),len(resnet_outp_local)"
   ]
  },
  {
   "cell_type": "markdown",
   "id": "e27f44b7-42e6-45ae-b08d-13d26abb08d0",
   "metadata": {
    "jp-MarkdownHeadingCollapsed": true
   },
   "source": [
    "## Compare!"
   ]
  },
  {
   "cell_type": "code",
   "execution_count": null,
   "id": "ce4cd6b6-a428-4592-9a9a-040c7310390f",
   "metadata": {},
   "outputs": [],
   "source": [
    "from diffusers.models.controlnetxs import to_sub_blocks\n",
    "my_subs = to_sub_blocks(cnxs.base_model.down_blocks[0])\n",
    "assert len(my_subs)==3\n",
    "first_base_enc_subblock = my_subs[0] # that's the local module (I can't access cloud modules)"
   ]
  },
  {
   "cell_type": "code",
   "execution_count": null,
   "id": "51fab23f-1132-4898-927e-52275dc366bd",
   "metadata": {},
   "outputs": [],
   "source": [
    "prev_h_base_cloud = model_outp_cloud[8].t\n",
    "prev_h_base_local = model_outp_local[8].t\n",
    "\n",
    "temb_cloud = model_outp_cloud[1].t\n",
    "temb_local = model_outp_local[1].t\n",
    "\n",
    "current_h_base_cloud = model_outp_cloud[10].t\n",
    "current_h_base_local = model_outp_local[10].t"
   ]
  },
  {
   "cell_type": "code",
   "execution_count": null,
   "id": "fdba3ba7-1d03-470f-951f-40cccaa2025c",
   "metadata": {},
   "outputs": [],
   "source": [
    "model_outp_cloud[1].msg, model_outp_cloud[1].shape"
   ]
  },
  {
   "cell_type": "code",
   "execution_count": null,
   "id": "ab0bdae0-f4bd-4430-b627-a4f8bf2c3466",
   "metadata": {},
   "outputs": [],
   "source": [
    "temb_cloud[0].shape,temb_cloud[1].shape"
   ]
  },
  {
   "cell_type": "code",
   "execution_count": null,
   "id": "ddf14e35-642f-4b93-a562-903046c3721d",
   "metadata": {},
   "outputs": [],
   "source": [
    "allclose(temb_cloud[0], temb_cloud[1])"
   ]
  },
  {
   "cell_type": "markdown",
   "id": "b1b580b6-e70c-4536-a388-8f4ecbee880b",
   "metadata": {},
   "source": [
    "**These should be equal! Why are they not?** 😤🤔\n",
    "\n",
    "**Edit:** To the time embedding, information for `crop`, `original_size` and `target_size` is added. "
   ]
  },
  {
   "cell_type": "code",
   "execution_count": null,
   "id": "ea93bf45-2e81-46d2-93e7-8f8cf1d6f72f",
   "metadata": {},
   "outputs": [],
   "source": [
    "print_metadata(resnet_outp_cloud)"
   ]
  },
  {
   "cell_type": "code",
   "execution_count": null,
   "id": "73a19a74-ab97-4ef8-82f5-756477203b17",
   "metadata": {},
   "outputs": [],
   "source": [
    "print_metadata(resnet_outp_local)"
   ]
  },
  {
   "cell_type": "code",
   "execution_count": null,
   "id": "a17d8057-3338-463f-8579-52650bc12cca",
   "metadata": {},
   "outputs": [],
   "source": [
    "# map cloud steps to local steps, because in cloud some steps are bundled\n",
    "c2l = dict(enumerate((0,1,2,5,7,8,12,13)))\n",
    "\n",
    "l2c = {l:c for c,l in c2l.items()}\n",
    "l2c.update({l: None for l in range(len(resnet_outp_local)) if l not in l2c.keys()})"
   ]
  },
  {
   "cell_type": "code",
   "execution_count": null,
   "id": "7dc09a1f-2e21-4947-90f0-b8380d951fc9",
   "metadata": {},
   "outputs": [],
   "source": [
    "from torch import tensor\n",
    "from util_inspect import divider, fmt_bool, have_same_shapes, have_same_values, broadcast\n",
    "\n",
    "def compare_intermediate_results():\n",
    "    step_map = (0,1,2,5,7,8,12,13)\n",
    "    \n",
    "    l,c,es,ev,d = 'local','cloud','equal shape?','equal values?','mean abs Δ'\n",
    "    print(f'{l:<36} | {c:<48} | {es:<12} | {ev:<13} | {d:<10}')\n",
    "    c,l,es,ev,d = '','','','prec=2',''\n",
    "    print(f'{l:<36} | {c:<48} | {es:<12} | {ev:^13} | {d:<10}')\n",
    "    divider(l=36+3+48+3+12+3+13+3+10)\n",
    "    for li in range(len(resnet_outp_local)):\n",
    "        l=resnet_outp_local[li]\n",
    "        print(f'{li:>2} {l.stage:<14} {l.msg:<18} | ',end='')\n",
    "\n",
    "        if l2c[li] is not None:\n",
    "            ci = l2c[li]\n",
    "            c=resnet_outp_cloud[ci]\n",
    "        \n",
    "            print(f'{ci:>2} {c.stage:<14} {c.msg:<30} | ',end='')\n",
    "            \n",
    "            eq_shape = have_same_shapes(c,l,do_print=False,assert_names_match=False)\n",
    "            if hasattr(c.t, 'shape'):\n",
    "                eq_vals = have_same_values(c,l,do_print=False,prec=2,assert_names_match=False)   \n",
    "                ct,lt = broadcast(c.t,l.t)\n",
    "                mae = (ct-lt).abs().mean()\n",
    "            else:\n",
    "                eq_vals = c.t==l.t\n",
    "                mae = (tensor(c.t)-tensor(l.t)).abs().mean()\n",
    "                \n",
    "            print(fmt_bool(eq_shape, '^12')+' | '+fmt_bool(eq_vals, '^13')+' | ', end='')\n",
    "            print(f'{mae:>10.5f}',end='')\n",
    "        \n",
    "        print()"
   ]
  },
  {
   "cell_type": "code",
   "execution_count": null,
   "id": "50df1963-4671-4762-9b22-329f1c19fe33",
   "metadata": {},
   "outputs": [],
   "source": [
    "compare_intermediate_results()"
   ]
  },
  {
   "cell_type": "code",
   "execution_count": null,
   "id": "59077912-e7b4-4d40-9371-74c5838df23b",
   "metadata": {},
   "outputs": [],
   "source": []
  },
  {
   "cell_type": "markdown",
   "id": "1d35d8d4-a599-4f7f-ba4f-0bb7f71dfbba",
   "metadata": {},
   "source": [
    "Something is wrong with the time information or the time projection"
   ]
  },
  {
   "cell_type": "code",
   "execution_count": null,
   "id": "d41b8e19-d98f-42b4-a230-65732c268ab6",
   "metadata": {},
   "outputs": [],
   "source": []
  },
  {
   "cell_type": "markdown",
   "id": "f09690dc-9301-4494-913e-aafeea4ff36d",
   "metadata": {},
   "source": [
    "## Run 1 step locally"
   ]
  },
  {
   "cell_type": "code",
   "execution_count": 9,
   "id": "2a9f2f99-5fe0-4bb5-ab8b-c04b30c16b18",
   "metadata": {},
   "outputs": [],
   "source": [
    "import torch\n",
    "import random\n",
    "import numpy as np\n",
    "import cv2\n",
    "from diffusers.utils import load_image\n",
    "import matplotlib.pyplot as plt\n",
    "\n",
    "class CannyDetector:\n",
    "    def __call__(self, img, low_threshold, high_threshold):\n",
    "        return cv2.Canny(img, low_threshold, high_threshold)\n",
    "\n",
    "def get_canny_edges(image, threshold=(100, 250)):\n",
    "    image = np.array(image).astype(np.uint8)\n",
    "    edges = CannyDetector()(image, *threshold)  # original sized greyscale edges\n",
    "    edges = edges / 255.\n",
    "    return edges\n",
    "\n",
    "def seed_everything(seed):\n",
    "    # paper used deprecated `seed_everything` from pytorch lightning\n",
    "    random.seed(seed)\n",
    "    np.random.seed(seed)\n",
    "    torch.manual_seed(seed)\n",
    "    torch.use_deterministic_algorithms(True)\n",
    "\n",
    "RANDOM_SEED_IN_PAPER = 1999158951"
   ]
  },
  {
   "cell_type": "code",
   "execution_count": 10,
   "id": "7af45300-05fb-4d45-8e36-5c4dc4b37c2a",
   "metadata": {},
   "outputs": [],
   "source": [
    "latents_sdxl_cloud = torch.load('latents_cloud_no_control.pth', map_location=torch.device(device))\n",
    "rand_from_cloud = latents_sdxl_cloud[0] / 14.6146"
   ]
  },
  {
   "cell_type": "code",
   "execution_count": 11,
   "id": "97109287-4f1d-49af-a9b2-c70216705cc0",
   "metadata": {},
   "outputs": [
    {
     "data": {
      "text/plain": [
       "torch.Size([3, 768, 768])"
      ]
     },
     "execution_count": 11,
     "metadata": {},
     "output_type": "execute_result"
    }
   ],
   "source": [
    "prompt = 'cinematic, shoe in the streets, made from meat, photorealistic shoe, highly detailed'\n",
    "neg_prompt = 'lowres, bad anatomy, worst quality, low quality'\n",
    "\n",
    "image = load_image('input_images/shoe_cloud.png')\n",
    "edges = get_canny_edges(image)\n",
    "\n",
    "edges_tensor = torch.tensor(edges)\n",
    "three_edges = torch.stack((edges_tensor,edges_tensor,edges_tensor))\n",
    "three_edges.shape"
   ]
  },
  {
   "cell_type": "code",
   "execution_count": 12,
   "id": "35d847cb-29fc-45e0-97b7-1b0e2dd1781d",
   "metadata": {},
   "outputs": [
    {
     "data": {
      "text/plain": [
       "True"
      ]
     },
     "execution_count": 12,
     "metadata": {},
     "output_type": "execute_result"
    }
   ],
   "source": [
    "cnxs_pipe.controlnet.DEBUG_LOG_by_Umer = True\n",
    "cnxs_pipe.controlnet.DEBUG_LOG_by_Umer_file = 'intermediate_output/local_debug_log.pkl'\n",
    "cnxs_pipe.controlnet.DEBUG_LOG_by_Umer"
   ]
  },
  {
   "cell_type": "code",
   "execution_count": 13,
   "id": "2eaa870a-62b3-4e61-b7ca-218c899932d8",
   "metadata": {},
   "outputs": [
    {
     "name": "stdout",
     "output_type": "stream",
     "text": [
      "timestep_spacing = \"leading\" and timesteps=[999.      978.61224 958.2245  937.83673 917.449  ] ...\n",
      "sigmas before interpolation: [0.02916753 0.04131448 0.05068044 0.05861427 0.06563709] ...\n",
      "sigmas after (linear) interpolation: [14.61464691 12.93677721 11.49164976 10.24291444  9.16035419] ...\n",
      "At end of `set_timesteps`:\n",
      "sigmas =  tensor([14.6146, 12.9368, 11.4916, 10.2429,  9.1604], device='mps:0') ...\n",
      "timesteps = tensor([999.0000, 978.6122, 958.2245, 937.8367, 917.4490], device='mps:0') ...\n",
      "Passed in latents:  tensor([ 1.3333,  0.5155,  0.4647, -0.5344,  1.0102], device='mps:0')\n",
      "initial_unscaled_latents:  tensor([ 1.3333,  0.5155,  0.4647, -0.5344,  1.0102], device='mps:0')\n",
      "latents:  tensor([19.4858,  7.5339,  6.7910, -7.8098, 14.7639], device='mps:0')\n",
      "add_time_ids = tensor([[768., 768.,   0.,   0., 768., 768.],\n",
      "        [768., 768.,   0.,   0., 768., 768.]], device='mps:0')\n"
     ]
    },
    {
     "data": {
      "application/vnd.jupyter.widget-view+json": {
       "model_id": "d8d1289258e54a6abb260185e876b10e",
       "version_major": 2,
       "version_minor": 0
      },
      "text/plain": [
       "  0%|          | 0/50 [00:00<?, ?it/s]"
      ]
     },
     "metadata": {},
     "output_type": "display_data"
    },
    {
     "name": "stdout",
     "output_type": "stream",
     "text": [
      "time_ids: tensor([[768., 768.,   0.,   0., 768., 768.],\n",
      "        [768., 768.,   0.,   0., 768., 768.]], device='mps:0')\n",
      "timesteps = tensor(999., device='mps:0')\n",
      "timesteps = tensor([999.], device='mps:0')\n",
      "t_emb.shape = [1, 320]\n",
      "learn_embedding = True\n",
      "t_emb.shape = [1, 1280]\n"
     ]
    },
    {
     "name": "stderr",
     "output_type": "stream",
     "text": [
      "/Users/umer/Documents/GitHub/diffusers/diffusers/src/diffusers/models/controlnetxs.py:311: FutureWarning: Accessing config attribute `control_scale` directly via 'ControlNetXSModel' object attribute is deprecated. Please access 'control_scale' over 'ControlNetXSModel's config object instead, e.g. 'unet.config.control_scale'.\n",
      "  temb = self.control_model.time_embedding(t_emb) * self.control_scale ** 0.3 + self.base_model.time_embedding(t_emb) * (1 - self.control_scale ** 0.3)\n"
     ]
    },
    {
     "ename": "RuntimeError",
     "evalue": "Hey kid, wanna analyze time emb?\t\tThey're in intermediate_output/temb/local/",
     "output_type": "error",
     "traceback": [
      "\u001b[0;31m---------------------------------------------------------------------------\u001b[0m",
      "\u001b[0;31mRuntimeError\u001b[0m                              Traceback (most recent call last)",
      "Cell \u001b[0;32mIn[13], line 2\u001b[0m\n\u001b[1;32m      1\u001b[0m seed_everything(RANDOM_SEED_IN_PAPER)\n\u001b[0;32m----> 2\u001b[0m \u001b[43mcnxs_pipe\u001b[49m\u001b[43m(\u001b[49m\u001b[43mprompt\u001b[49m\u001b[43m,\u001b[49m\u001b[43m \u001b[49m\u001b[43mnegative_prompt\u001b[49m\u001b[38;5;241;43m=\u001b[39;49m\u001b[43mneg_prompt\u001b[49m\u001b[43m,\u001b[49m\u001b[43mimage\u001b[49m\u001b[38;5;241;43m=\u001b[39;49m\u001b[43mthree_edges\u001b[49m\u001b[43m,\u001b[49m\u001b[43m \u001b[49m\u001b[43mlatents\u001b[49m\u001b[38;5;241;43m=\u001b[39;49m\u001b[43mrand_from_cloud\u001b[49m\u001b[43m)\u001b[49m\n",
      "File \u001b[0;32m~/.local/share/virtualenvs/controlnet-xs-ngkyeIE7/lib/python3.11/site-packages/torch/utils/_contextlib.py:115\u001b[0m, in \u001b[0;36mcontext_decorator.<locals>.decorate_context\u001b[0;34m(*args, **kwargs)\u001b[0m\n\u001b[1;32m    112\u001b[0m \u001b[38;5;129m@functools\u001b[39m\u001b[38;5;241m.\u001b[39mwraps(func)\n\u001b[1;32m    113\u001b[0m \u001b[38;5;28;01mdef\u001b[39;00m \u001b[38;5;21mdecorate_context\u001b[39m(\u001b[38;5;241m*\u001b[39margs, \u001b[38;5;241m*\u001b[39m\u001b[38;5;241m*\u001b[39mkwargs):\n\u001b[1;32m    114\u001b[0m     \u001b[38;5;28;01mwith\u001b[39;00m ctx_factory():\n\u001b[0;32m--> 115\u001b[0m         \u001b[38;5;28;01mreturn\u001b[39;00m \u001b[43mfunc\u001b[49m\u001b[43m(\u001b[49m\u001b[38;5;241;43m*\u001b[39;49m\u001b[43margs\u001b[49m\u001b[43m,\u001b[49m\u001b[43m \u001b[49m\u001b[38;5;241;43m*\u001b[39;49m\u001b[38;5;241;43m*\u001b[39;49m\u001b[43mkwargs\u001b[49m\u001b[43m)\u001b[49m\n",
      "File \u001b[0;32m~/Documents/GitHub/diffusers/diffusers/src/diffusers/pipelines/controlnet_xs/pipeline_controlnet_xs_sd_xl.py:753\u001b[0m, in \u001b[0;36mStableDiffusionXLControlNetXSPipeline.__call__\u001b[0;34m(self, prompt, prompt_2, image, height, width, num_inference_steps, guidance_scale, negative_prompt, negative_prompt_2, num_images_per_prompt, eta, generator, latents, prompt_embeds, negative_prompt_embeds, pooled_prompt_embeds, negative_pooled_prompt_embeds, output_type, return_dict, callback, callback_steps, cross_attention_kwargs, controlnet_conditioning_scale, guess_mode, control_guidance_start, control_guidance_end, original_size, crops_coords_top_left, target_size, negative_original_size, negative_crops_coords_top_left, negative_target_size)\u001b[0m\n\u001b[1;32m    750\u001b[0m added_cond_kwargs \u001b[38;5;241m=\u001b[39m {\u001b[38;5;124m\"\u001b[39m\u001b[38;5;124mtext_embeds\u001b[39m\u001b[38;5;124m\"\u001b[39m: add_text_embeds, \u001b[38;5;124m\"\u001b[39m\u001b[38;5;124mtime_ids\u001b[39m\u001b[38;5;124m\"\u001b[39m: add_time_ids}\n\u001b[1;32m    752\u001b[0m \u001b[38;5;66;03m# predict the noise residual\u001b[39;00m\n\u001b[0;32m--> 753\u001b[0m noise_pred \u001b[38;5;241m=\u001b[39m \u001b[38;5;28;43mself\u001b[39;49m\u001b[38;5;241;43m.\u001b[39;49m\u001b[43mcontrolnet\u001b[49m\u001b[43m(\u001b[49m\n\u001b[1;32m    754\u001b[0m \u001b[43m    \u001b[49m\u001b[43mx\u001b[49m\u001b[38;5;241;43m=\u001b[39;49m\u001b[43mlatent_model_input\u001b[49m\u001b[43m,\u001b[49m\n\u001b[1;32m    755\u001b[0m \u001b[43m    \u001b[49m\u001b[43mt\u001b[49m\u001b[38;5;241;43m=\u001b[39;49m\u001b[43mt\u001b[49m\u001b[43m,\u001b[49m\n\u001b[1;32m    756\u001b[0m \u001b[43m    \u001b[49m\u001b[43mencoder_hidden_states\u001b[49m\u001b[38;5;241;43m=\u001b[39;49m\u001b[43mprompt_embeds\u001b[49m\u001b[43m,\u001b[49m\n\u001b[1;32m    757\u001b[0m \u001b[43m    \u001b[49m\u001b[43mhint\u001b[49m\u001b[38;5;241;43m=\u001b[39;49m\u001b[43mimage\u001b[49m\u001b[43m,\u001b[49m\u001b[43m \u001b[49m\u001b[38;5;66;43;03m# todo: better naming\u001b[39;49;00m\n\u001b[1;32m    758\u001b[0m \u001b[43m    \u001b[49m\u001b[43mcross_attention_kwargs\u001b[49m\u001b[38;5;241;43m=\u001b[39;49m\u001b[43mcross_attention_kwargs\u001b[49m\u001b[43m,\u001b[49m\n\u001b[1;32m    759\u001b[0m \u001b[43m    \u001b[49m\u001b[43madded_cond_kwargs\u001b[49m\u001b[38;5;241;43m=\u001b[39;49m\u001b[43madded_cond_kwargs\u001b[49m\u001b[43m,\u001b[49m\n\u001b[1;32m    760\u001b[0m \u001b[43m    \u001b[49m\u001b[38;5;66;43;03m#return_dict=False,\u001b[39;49;00m\n\u001b[1;32m    761\u001b[0m \u001b[43m\u001b[49m\u001b[43m)\u001b[49m\u001b[38;5;241m.\u001b[39msample\n\u001b[1;32m    763\u001b[0m \u001b[38;5;66;03m# perform guidance\u001b[39;00m\n\u001b[1;32m    764\u001b[0m \u001b[38;5;28;01mif\u001b[39;00m do_classifier_free_guidance:\n",
      "File \u001b[0;32m~/.local/share/virtualenvs/controlnet-xs-ngkyeIE7/lib/python3.11/site-packages/torch/nn/modules/module.py:1518\u001b[0m, in \u001b[0;36mModule._wrapped_call_impl\u001b[0;34m(self, *args, **kwargs)\u001b[0m\n\u001b[1;32m   1516\u001b[0m     \u001b[38;5;28;01mreturn\u001b[39;00m \u001b[38;5;28mself\u001b[39m\u001b[38;5;241m.\u001b[39m_compiled_call_impl(\u001b[38;5;241m*\u001b[39margs, \u001b[38;5;241m*\u001b[39m\u001b[38;5;241m*\u001b[39mkwargs)  \u001b[38;5;66;03m# type: ignore[misc]\u001b[39;00m\n\u001b[1;32m   1517\u001b[0m \u001b[38;5;28;01melse\u001b[39;00m:\n\u001b[0;32m-> 1518\u001b[0m     \u001b[38;5;28;01mreturn\u001b[39;00m \u001b[38;5;28;43mself\u001b[39;49m\u001b[38;5;241;43m.\u001b[39;49m\u001b[43m_call_impl\u001b[49m\u001b[43m(\u001b[49m\u001b[38;5;241;43m*\u001b[39;49m\u001b[43margs\u001b[49m\u001b[43m,\u001b[49m\u001b[43m \u001b[49m\u001b[38;5;241;43m*\u001b[39;49m\u001b[38;5;241;43m*\u001b[39;49m\u001b[43mkwargs\u001b[49m\u001b[43m)\u001b[49m\n",
      "File \u001b[0;32m~/.local/share/virtualenvs/controlnet-xs-ngkyeIE7/lib/python3.11/site-packages/torch/nn/modules/module.py:1527\u001b[0m, in \u001b[0;36mModule._call_impl\u001b[0;34m(self, *args, **kwargs)\u001b[0m\n\u001b[1;32m   1522\u001b[0m \u001b[38;5;66;03m# If we don't have any hooks, we want to skip the rest of the logic in\u001b[39;00m\n\u001b[1;32m   1523\u001b[0m \u001b[38;5;66;03m# this function, and just call forward.\u001b[39;00m\n\u001b[1;32m   1524\u001b[0m \u001b[38;5;28;01mif\u001b[39;00m \u001b[38;5;129;01mnot\u001b[39;00m (\u001b[38;5;28mself\u001b[39m\u001b[38;5;241m.\u001b[39m_backward_hooks \u001b[38;5;129;01mor\u001b[39;00m \u001b[38;5;28mself\u001b[39m\u001b[38;5;241m.\u001b[39m_backward_pre_hooks \u001b[38;5;129;01mor\u001b[39;00m \u001b[38;5;28mself\u001b[39m\u001b[38;5;241m.\u001b[39m_forward_hooks \u001b[38;5;129;01mor\u001b[39;00m \u001b[38;5;28mself\u001b[39m\u001b[38;5;241m.\u001b[39m_forward_pre_hooks\n\u001b[1;32m   1525\u001b[0m         \u001b[38;5;129;01mor\u001b[39;00m _global_backward_pre_hooks \u001b[38;5;129;01mor\u001b[39;00m _global_backward_hooks\n\u001b[1;32m   1526\u001b[0m         \u001b[38;5;129;01mor\u001b[39;00m _global_forward_hooks \u001b[38;5;129;01mor\u001b[39;00m _global_forward_pre_hooks):\n\u001b[0;32m-> 1527\u001b[0m     \u001b[38;5;28;01mreturn\u001b[39;00m \u001b[43mforward_call\u001b[49m\u001b[43m(\u001b[49m\u001b[38;5;241;43m*\u001b[39;49m\u001b[43margs\u001b[49m\u001b[43m,\u001b[49m\u001b[43m \u001b[49m\u001b[38;5;241;43m*\u001b[39;49m\u001b[38;5;241;43m*\u001b[39;49m\u001b[43mkwargs\u001b[49m\u001b[43m)\u001b[49m\n\u001b[1;32m   1529\u001b[0m \u001b[38;5;28;01mtry\u001b[39;00m:\n\u001b[1;32m   1530\u001b[0m     result \u001b[38;5;241m=\u001b[39m \u001b[38;5;28;01mNone\u001b[39;00m\n",
      "File \u001b[0;32m~/Documents/GitHub/diffusers/diffusers/src/diffusers/models/controlnetxs.py:348\u001b[0m, in \u001b[0;36mControlNetXSModel.forward\u001b[0;34m(self, x, t, encoder_hidden_states, hint, cross_attention_kwargs, added_cond_kwargs, no_control)\u001b[0m\n\u001b[1;32m    345\u001b[0m     torch\u001b[38;5;241m.\u001b[39msave(add_embeds, \u001b[38;5;124m'\u001b[39m\u001b[38;5;124mintermediate_output/temb/local/add_embeds\u001b[39m\u001b[38;5;124m'\u001b[39m)\n\u001b[1;32m    346\u001b[0m     torch\u001b[38;5;241m.\u001b[39msave(aug_emb, \u001b[38;5;124m'\u001b[39m\u001b[38;5;124mintermediate_output/temb/local/aug_embeds\u001b[39m\u001b[38;5;124m'\u001b[39m)\n\u001b[0;32m--> 348\u001b[0m     \u001b[38;5;28;01mraise\u001b[39;00m \u001b[38;5;167;01mRuntimeError\u001b[39;00m(\u001b[38;5;124m\"\u001b[39m\u001b[38;5;124mHey kid, wanna analyze time emb?\u001b[39m\u001b[38;5;130;01m\\t\u001b[39;00m\u001b[38;5;130;01m\\t\u001b[39;00m\u001b[38;5;124mThey\u001b[39m\u001b[38;5;124m'\u001b[39m\u001b[38;5;124mre in intermediate_output/temb/local/\u001b[39m\u001b[38;5;124m\"\u001b[39m)\n\u001b[1;32m    350\u001b[0m \u001b[38;5;28;01melif\u001b[39;00m \u001b[38;5;28mself\u001b[39m\u001b[38;5;241m.\u001b[39mconfig\u001b[38;5;241m.\u001b[39maddition_embed_type \u001b[38;5;241m==\u001b[39m \u001b[38;5;124m\"\u001b[39m\u001b[38;5;124mimage\u001b[39m\u001b[38;5;124m\"\u001b[39m:\n\u001b[1;32m    351\u001b[0m     \u001b[38;5;28;01mraise\u001b[39;00m \u001b[38;5;167;01mNotImplementedError\u001b[39;00m()\n",
      "\u001b[0;31mRuntimeError\u001b[0m: Hey kid, wanna analyze time emb?\t\tThey're in intermediate_output/temb/local/"
     ]
    }
   ],
   "source": [
    "seed_everything(RANDOM_SEED_IN_PAPER)\n",
    "cnxs_pipe(prompt, negative_prompt=neg_prompt,image=three_edges, latents=rand_from_cloud)"
   ]
  },
  {
   "cell_type": "code",
   "execution_count": 14,
   "id": "fcdece56-7d3f-46ef-900f-d9298e3a2f6e",
   "metadata": {},
   "outputs": [
    {
     "name": "stdout",
     "output_type": "stream",
     "text": [
      "> \u001b[0;32m/Users/umer/Documents/GitHub/diffusers/diffusers/src/diffusers/models/controlnetxs.py\u001b[0m(348)\u001b[0;36mforward\u001b[0;34m()\u001b[0m\n",
      "\u001b[0;32m    346 \u001b[0;31m            \u001b[0mtorch\u001b[0m\u001b[0;34m.\u001b[0m\u001b[0msave\u001b[0m\u001b[0;34m(\u001b[0m\u001b[0maug_emb\u001b[0m\u001b[0;34m,\u001b[0m \u001b[0;34m'intermediate_output/temb/local/aug_embeds'\u001b[0m\u001b[0;34m)\u001b[0m\u001b[0;34m\u001b[0m\u001b[0;34m\u001b[0m\u001b[0m\n",
      "\u001b[0m\u001b[0;32m    347 \u001b[0;31m\u001b[0;34m\u001b[0m\u001b[0m\n",
      "\u001b[0m\u001b[0;32m--> 348 \u001b[0;31m            \u001b[0;32mraise\u001b[0m \u001b[0mRuntimeError\u001b[0m\u001b[0;34m(\u001b[0m\u001b[0;34m\"Hey kid, wanna analyze time emb?\\t\\tThey're in intermediate_output/temb/local/\"\u001b[0m\u001b[0;34m)\u001b[0m\u001b[0;34m\u001b[0m\u001b[0;34m\u001b[0m\u001b[0m\n",
      "\u001b[0m\u001b[0;32m    349 \u001b[0;31m\u001b[0;34m\u001b[0m\u001b[0m\n",
      "\u001b[0m\u001b[0;32m    350 \u001b[0;31m        \u001b[0;32melif\u001b[0m \u001b[0mself\u001b[0m\u001b[0;34m.\u001b[0m\u001b[0mconfig\u001b[0m\u001b[0;34m.\u001b[0m\u001b[0maddition_embed_type\u001b[0m \u001b[0;34m==\u001b[0m \u001b[0;34m\"image\"\u001b[0m\u001b[0;34m:\u001b[0m\u001b[0;34m\u001b[0m\u001b[0;34m\u001b[0m\u001b[0m\n",
      "\u001b[0m\n"
     ]
    },
    {
     "name": "stdin",
     "output_type": "stream",
     "text": [
      "ipdb>  info = [768,768,0,0,768,768]\n",
      "ipdb>  info = tensor([info,info])\n"
     ]
    },
    {
     "name": "stdout",
     "output_type": "stream",
     "text": [
      "*** NameError: name 'tensor' is not defined\n"
     ]
    },
    {
     "name": "stdin",
     "output_type": "stream",
     "text": [
      "ipdb>  info = torch.tensor([info,info])\n",
      "ipdb>  info==time_ids\n"
     ]
    },
    {
     "name": "stdout",
     "output_type": "stream",
     "text": [
      "*** RuntimeError: Expected all tensors to be on the same device, but found at least two devices, mps:0 and cpu!\n"
     ]
    },
    {
     "name": "stdin",
     "output_type": "stream",
     "text": [
      "ipdb>  time_ids.cpu()==info\n"
     ]
    },
    {
     "name": "stdout",
     "output_type": "stream",
     "text": [
      "tensor([[True, True, True, True, True, True],\n",
      "        [True, True, True, True, True, True]])\n"
     ]
    },
    {
     "name": "stdin",
     "output_type": "stream",
     "text": [
      "ipdb>  my_time_embeds = self.base_model.add_time_proj(time_ids.flatten()).reshape((2, -1))\n",
      "ipdb>  my_time_embeds==time_embeds\n"
     ]
    },
    {
     "name": "stdout",
     "output_type": "stream",
     "text": [
      "tensor([[True, True, True,  ..., True, True, True],\n",
      "        [True, True, True,  ..., True, True, True]], device='mps:0')\n"
     ]
    },
    {
     "name": "stdin",
     "output_type": "stream",
     "text": [
      "ipdb>  emb_l_time_embeds = torch.load('intermediate_output/temb/local/time_embeds', map_location='cpu')\n",
      "ipdb>  emb_l_time_embeds==time_embeds\n"
     ]
    },
    {
     "name": "stdout",
     "output_type": "stream",
     "text": [
      "*** RuntimeError: Expected all tensors to be on the same device, but found at least two devices, mps:0 and cpu!\n"
     ]
    },
    {
     "name": "stdin",
     "output_type": "stream",
     "text": [
      "ipdb>  emb_l_time_embeds.cpu()==time_embeds\n"
     ]
    },
    {
     "name": "stdout",
     "output_type": "stream",
     "text": [
      "*** RuntimeError: Expected all tensors to be on the same device, but found at least two devices, mps:0 and cpu!\n"
     ]
    },
    {
     "name": "stdin",
     "output_type": "stream",
     "text": [
      "ipdb>  emb_l_time_embeds.cpu()==time_embeds.cpu()\n"
     ]
    },
    {
     "name": "stdout",
     "output_type": "stream",
     "text": [
      "tensor([[True, True, True,  ..., True, True, True],\n",
      "        [True, True, True,  ..., True, True, True]])\n"
     ]
    },
    {
     "name": "stdin",
     "output_type": "stream",
     "text": [
      "ipdb>  (emb_l_time_embeds.cpu()==time_embeds.cpu()).all()\n"
     ]
    },
    {
     "name": "stdout",
     "output_type": "stream",
     "text": [
      "tensor(True)\n"
     ]
    },
    {
     "name": "stdin",
     "output_type": "stream",
     "text": [
      "ipdb>  timestep = self.base_model.add_time_proj\n",
      "ipdb>  timestep.num_channels, timestep.flip_sin_to_cos,  timestep.downscale_freq_shift \n"
     ]
    },
    {
     "name": "stdout",
     "output_type": "stream",
     "text": [
      "(256, True, 0)\n"
     ]
    },
    {
     "name": "stdin",
     "output_type": "stream",
     "text": [
      "ipdb>  c\n"
     ]
    }
   ],
   "source": [
    "%debug"
   ]
  },
  {
   "cell_type": "code",
   "execution_count": 16,
   "id": "215b9076-1768-4fb7-802a-569406b2eee4",
   "metadata": {},
   "outputs": [
    {
     "data": {
      "text/plain": [
       "(256, True, 0)"
      ]
     },
     "execution_count": 16,
     "metadata": {},
     "output_type": "execute_result"
    }
   ],
   "source": [
    "my_timestep = cnxs.base_model.add_time_proj\n",
    "my_timestep.num_channels, my_timestep.flip_sin_to_cos, my_timestep.downscale_freq_shift "
   ]
  },
  {
   "cell_type": "code",
   "execution_count": null,
   "id": "2ebb06f2-c25d-49dc-91fa-03cea81dcf5e",
   "metadata": {},
   "outputs": [],
   "source": []
  },
  {
   "cell_type": "code",
   "execution_count": null,
   "id": "26db20b8-c91e-42a2-bc2e-d4b58675650f",
   "metadata": {},
   "outputs": [],
   "source": []
  },
  {
   "cell_type": "markdown",
   "id": "4e912ef5-2c39-4f53-80e2-ce89714d8cae",
   "metadata": {},
   "source": [
    "___"
   ]
  },
  {
   "cell_type": "code",
   "execution_count": null,
   "id": "cf7c8835-3775-462e-98ac-6d5f3b7a7583",
   "metadata": {},
   "outputs": [],
   "source": []
  },
  {
   "cell_type": "code",
   "execution_count": null,
   "id": "0a80fb4b-5360-4db2-95b8-3da61942cf7e",
   "metadata": {},
   "outputs": [],
   "source": []
  },
  {
   "cell_type": "markdown",
   "id": "52979bad-8f6e-49d6-a8d4-05afe9088638",
   "metadata": {
    "jp-MarkdownHeadingCollapsed": true
   },
   "source": [
    "## Look at time info in 1st resnet"
   ]
  },
  {
   "cell_type": "code",
   "execution_count": null,
   "id": "3aa7f045-d389-4e2d-883e-07cd98960276",
   "metadata": {},
   "outputs": [],
   "source": [
    "local_time_linear_in_first_resnet = cnxs.base_model.down_blocks[0].resnets[0].time_emb_proj.cpu()"
   ]
  },
  {
   "cell_type": "code",
   "execution_count": null,
   "id": "d1397fb2-1da7-4568-84c6-e0caccac65f6",
   "metadata": {},
   "outputs": [],
   "source": [
    "cloud_time_linear_in_first_resnet = nn.Linear(\n",
    "    local_time_linear_in_first_resnet.in_features,\n",
    "    local_time_linear_in_first_resnet.out_features\n",
    ")\n",
    "cloud_time_linear_in_first_resnet.load_state_dict(torch.load('time_linear_in_first_resnet.pth',map_location=torch.device('cpu')))"
   ]
  },
  {
   "cell_type": "code",
   "execution_count": null,
   "id": "596d5be6-1404-4295-a5c0-6cd32eafaa60",
   "metadata": {},
   "outputs": [],
   "source": [
    "local_time_linear_in_first_resnet.parameters()==cloud_time_linear_in_first_resnet.parameters()"
   ]
  },
  {
   "cell_type": "code",
   "execution_count": null,
   "id": "d6dff41f-0ffa-4e0c-825f-a9d90b968c8a",
   "metadata": {},
   "outputs": [],
   "source": [
    "c_w, c_b = cloud_time_linear_in_first_resnet.parameters()\n",
    "l_w, l_b = local_time_linear_in_first_resnet.parameters()\n",
    "\n",
    "allclose(c_w,l_w), allclose(c_b,l_b)"
   ]
  },
  {
   "cell_type": "code",
   "execution_count": null,
   "id": "fe00c137-2991-4229-b962-b7f4fb45bcff",
   "metadata": {},
   "outputs": [],
   "source": [
    "c_temb, l_temb = model_outp_cloud[1].t,model_outp_local[1].t\n",
    "c_temb.shape, l_temb.shape"
   ]
  },
  {
   "cell_type": "code",
   "execution_count": null,
   "id": "ab203438-b42a-4695-975a-5b4f958b3126",
   "metadata": {},
   "outputs": [],
   "source": [
    "mae = torch.nn.functional.l1_loss\n",
    "silu = nn.SiLU()"
   ]
  },
  {
   "cell_type": "code",
   "execution_count": null,
   "id": "b35eedb3-3740-4e43-bde5-c6a2fdbfcbe6",
   "metadata": {},
   "outputs": [],
   "source": [
    "mae(c_temb,l_temb)"
   ]
  },
  {
   "cell_type": "code",
   "execution_count": null,
   "id": "2115e59b-e014-45ab-8d7e-f734907f9ab2",
   "metadata": {},
   "outputs": [],
   "source": [
    "mae(silu(c_temb), silu(l_temb))"
   ]
  },
  {
   "cell_type": "code",
   "execution_count": null,
   "id": "fa6973cf-d45d-40c9-9808-1c8c11726cd3",
   "metadata": {},
   "outputs": [],
   "source": [
    "c_temb_projected = cloud_time_linear_in_first_resnet(silu(c_temb))\n",
    "l_temb_projected = local_time_linear_in_first_resnet(silu(l_temb))"
   ]
  },
  {
   "cell_type": "code",
   "execution_count": null,
   "id": "de4d2050-8653-4e95-a00d-c2ef294f88ff",
   "metadata": {},
   "outputs": [],
   "source": [
    "print_shapes(c_temb_projected, l_temb_projected)"
   ]
  },
  {
   "cell_type": "code",
   "execution_count": null,
   "id": "e2bfcdfb-1403-47ee-9cc7-db1f3a82f7cb",
   "metadata": {},
   "outputs": [],
   "source": [
    "mae(c_temb_projected, l_temb_projected)"
   ]
  },
  {
   "cell_type": "code",
   "execution_count": null,
   "id": "da507989-0d1b-4b27-b952-4c772f36e70c",
   "metadata": {},
   "outputs": [],
   "source": [
    "c_temb_projected_saved = resnet_outp_cloud[4].t\n",
    "l_temb_projected_saved = resnet_outp_local[7].t"
   ]
  },
  {
   "cell_type": "code",
   "execution_count": null,
   "id": "bdc904a7-fc89-4afa-9aff-a16080eaa2b4",
   "metadata": {},
   "outputs": [],
   "source": [
    "print_shapes(c_temb_projected_saved, l_temb_projected_saved)"
   ]
  },
  {
   "cell_type": "code",
   "execution_count": null,
   "id": "c2b10dab-6180-457d-8322-68df37cca6a6",
   "metadata": {},
   "outputs": [],
   "source": [
    "mae(c_temb_projected_saved, l_temb_projected_saved)"
   ]
  },
  {
   "cell_type": "code",
   "execution_count": null,
   "id": "1396e6fe-6e2c-40b8-91f4-b99d86afd7e9",
   "metadata": {},
   "outputs": [],
   "source": [
    "mae(c_temb_projected_saved[:,:,None,None], l_temb_projected_saved)"
   ]
  },
  {
   "cell_type": "code",
   "execution_count": null,
   "id": "36071075-9564-4359-ba73-e65c304c45b6",
   "metadata": {},
   "outputs": [],
   "source": [
    "print_shapes(c_temb_projected, l_temb_projected)\n",
    "print_shapes(c_temb_projected_saved, l_temb_projected_saved)"
   ]
  },
  {
   "cell_type": "code",
   "execution_count": null,
   "id": "1f9652c5-1cdf-47d5-ba7b-481007839d94",
   "metadata": {},
   "outputs": [],
   "source": [
    "c_h_before_time_add_saved = resnet_outp_cloud[3].t\n",
    "l_h_before_time_add_saved = resnet_outp_local[5].t\n",
    "\n",
    "print_shapes(c_h_before_time_add_saved, l_h_before_time_add_saved)"
   ]
  },
  {
   "cell_type": "markdown",
   "id": "28721ea6-68a0-4fa8-8ddb-fb685564f7d0",
   "metadata": {},
   "source": [
    "__"
   ]
  },
  {
   "cell_type": "markdown",
   "id": "2649b6a7-b914-4ff9-a23d-d77e7796a50d",
   "metadata": {},
   "source": [
    "## Let's compare time info before it goes into denoiser"
   ]
  },
  {
   "cell_type": "markdown",
   "id": "a802fdb1-aee2-4a3e-a135-2a274e6f2cf8",
   "metadata": {},
   "source": [
    "**Next: I've downlaoded c/uc_vector/crossattn**, which are added to prompt_emb / time_emb. Let's compare them to the local versions. Because I realldy would've expected temb to be exactly equal on local and cloud."
   ]
  },
  {
   "cell_type": "code",
   "execution_count": 18,
   "id": "1a05c015-96fc-41a5-84b4-0c822a4c9ad1",
   "metadata": {},
   "outputs": [],
   "source": [
    "from util import print_shapes"
   ]
  },
  {
   "cell_type": "code",
   "execution_count": 19,
   "id": "350ac8f6-ab41-479e-bb1c-6af6697ff1d2",
   "metadata": {},
   "outputs": [],
   "source": [
    "c_vector = torch.load('intermediate_output/temb/cloud/c_vector', map_location='cpu')\n",
    "c_crossattn = torch.load('intermediate_output/temb/cloud/c_crossattn', map_location='cpu')\n",
    "uc_vector = torch.load('intermediate_output/temb/cloud/uc_vector', map_location='cpu')\n",
    "uc_crossattn = torch.load('intermediate_output/temb/cloud/uc_crossattn', map_location='cpu')"
   ]
  },
  {
   "cell_type": "code",
   "execution_count": 20,
   "id": "e4ed8d5d-54a7-4a8d-8866-a89f1cdc7e43",
   "metadata": {},
   "outputs": [],
   "source": [
    "emb_c_text,emb_c_orig_sz,emb_c_crop,emb_c_tgt_sz = torch.split(c_vector, [1280, 512, 512, 512], dim=1)\n",
    "emb_c_text_uc,emb_c_orig_sz_uc,emb_c_crop_uc,emb_c_tgt_sz_uc = torch.split(uc_vector, [1280, 512, 512, 512], dim=1)"
   ]
  },
  {
   "cell_type": "code",
   "execution_count": 21,
   "id": "291b2683-4e01-483d-925f-95cef9b779c1",
   "metadata": {},
   "outputs": [
    {
     "name": "stdout",
     "output_type": "stream",
     "text": [
      "[1, 1280], [1, 512], [1, 512], [1, 512]\n"
     ]
    }
   ],
   "source": [
    "print_shapes(emb_c_text,emb_c_orig_sz,emb_c_crop,emb_c_tgt_sz)"
   ]
  },
  {
   "cell_type": "markdown",
   "id": "e4cd6e6a-cfef-4832-9587-efc331ae291d",
   "metadata": {},
   "source": [
    "Sanity check: `emb_c_orig_sz`,`emb_c_crop`,`emb_c_tgt_sz` are `(768,768)`,`(0,0)`,`(768,768)` passed throught timestep, so should be symmetrical"
   ]
  },
  {
   "cell_type": "code",
   "execution_count": 22,
   "id": "02e88c0a-2f84-4236-958f-3d94ba4f9782",
   "metadata": {},
   "outputs": [],
   "source": [
    "assert (emb_c_orig_sz==emb_c_orig_sz_uc).all()\n",
    "assert (emb_c_crop==emb_c_crop_uc).all()\n",
    "assert (emb_c_tgt_sz==emb_c_tgt_sz_uc).all()"
   ]
  },
  {
   "cell_type": "code",
   "execution_count": 23,
   "id": "0127f8c7-bc43-4f7c-9ad9-55586305a76e",
   "metadata": {},
   "outputs": [],
   "source": [
    "emb_l_time_embeds = torch.load('intermediate_output/temb/local/time_embeds', map_location='cpu')\n",
    "emb_l_add_embeds = torch.load('intermediate_output/temb/local/add_embeds', map_location='cpu')\n",
    "emb_l_aug_embeds = torch.load('intermediate_output/temb/local/aug_embeds', map_location='cpu')"
   ]
  },
  {
   "cell_type": "code",
   "execution_count": 24,
   "id": "e1cf8cd0-7c16-4ad9-843b-8fc3c260989a",
   "metadata": {},
   "outputs": [
    {
     "name": "stdout",
     "output_type": "stream",
     "text": [
      "[2, 1536], [2, 2816], [2, 1280]\n"
     ]
    }
   ],
   "source": [
    "print_shapes(emb_l_time_embeds, emb_l_add_embeds, emb_l_aug_embeds)"
   ]
  },
  {
   "cell_type": "markdown",
   "id": "dbd82200-f071-4a90-a46e-9c1b1f21820b",
   "metadata": {},
   "source": [
    "`emb_l_time_embeds` (from diffusers) is concatted `orig sz`+`crop`+`tgt size` passed through timestep."
   ]
  },
  {
   "cell_type": "code",
   "execution_count": 25,
   "id": "cb8fdba9-30ed-4521-9ff9-498b6325c39f",
   "metadata": {},
   "outputs": [],
   "source": [
    "assert emb_l_time_embeds.shape[1]==emb_c_orig_sz.shape[1]+emb_c_crop.shape[1]+emb_c_tgt_sz.shape[1]"
   ]
  },
  {
   "cell_type": "markdown",
   "id": "bf660459-0171-4c12-80ec-a3d80346e04e",
   "metadata": {},
   "source": [
    "Let's split it into its `orig sz` / `crop` / `tgt size` components"
   ]
  },
  {
   "cell_type": "code",
   "execution_count": 26,
   "id": "d25c8b10-64aa-4a7f-a268-11c71cb95aac",
   "metadata": {},
   "outputs": [
    {
     "data": {
      "text/plain": [
       "(torch.Size([512]), torch.Size([512]), torch.Size([512]))"
      ]
     },
     "execution_count": 26,
     "metadata": {},
     "output_type": "execute_result"
    }
   ],
   "source": [
    "emb_l_orig_sz,emb_l_crop,emb_l_tgt_sz = torch.split(emb_l_time_embeds[0], [512, 512, 512], dim=0)\n",
    "emb_l_orig_sz.shape, emb_l_crop.shape, emb_l_tgt_sz.shape"
   ]
  },
  {
   "cell_type": "markdown",
   "id": "1b54b7bc-3c1c-4f57-93a2-64edcd94cf13",
   "metadata": {},
   "source": [
    "They should be equal to their cloud counterparts"
   ]
  },
  {
   "cell_type": "code",
   "execution_count": 27,
   "id": "adedd58f-dc03-41df-ab95-53bc27019357",
   "metadata": {},
   "outputs": [
    {
     "data": {
      "text/plain": [
       "(False, True, False)"
      ]
     },
     "execution_count": 27,
     "metadata": {},
     "output_type": "execute_result"
    }
   ],
   "source": [
    "allclose(emb_l_orig_sz, emb_c_orig_sz[0]), allclose(emb_l_crop, emb_c_crop[0]), allclose(emb_c_tgt_sz, emb_l_tgt_sz[0])"
   ]
  },
  {
   "cell_type": "markdown",
   "id": "9c0994e0-157a-4c64-9166-bbbdc9a09d36",
   "metadata": {},
   "source": [
    "**But they are not! The crop embs are equal; the orig/tgt size embs are not.** But crop=0.\n",
    "\n",
    "(Hypothesis: The timesteps are computed with different frequencies.)"
   ]
  },
  {
   "cell_type": "markdown",
   "id": "c5a756b9-0334-46b7-b2a0-38203f852d48",
   "metadata": {},
   "source": [
    "To better understand, let's reproduce local `orig sz` / `crop` / `tgt size` embs"
   ]
  },
  {
   "cell_type": "code",
   "execution_count": 28,
   "id": "c47a5d8a-e023-4ba5-b31c-34dc1ec413af",
   "metadata": {},
   "outputs": [],
   "source": [
    "from diffusers.models.embeddings import get_timestep_embedding"
   ]
  },
  {
   "cell_type": "code",
   "execution_count": 29,
   "id": "eebf844d-5b88-4f15-8027-b68522221713",
   "metadata": {},
   "outputs": [],
   "source": [
    "reproduced_emb_l_orig_sz = get_timestep_embedding(tensor([768.,768.]), 256).flatten()"
   ]
  },
  {
   "cell_type": "code",
   "execution_count": 30,
   "id": "81dcf4b8-5adf-485c-b1e4-80998c16b0c3",
   "metadata": {},
   "outputs": [
    {
     "data": {
      "text/plain": [
       "torch.Size([512])"
      ]
     },
     "execution_count": 30,
     "metadata": {},
     "output_type": "execute_result"
    }
   ],
   "source": [
    "assert reproduced_emb_l_orig_sz.shape==emb_l_orig_sz.shape\n",
    "reproduced_emb_l_orig_sz.shape"
   ]
  },
  {
   "cell_type": "code",
   "execution_count": 31,
   "id": "0ccc3824-8d58-48ed-8170-529088f2b8bc",
   "metadata": {},
   "outputs": [
    {
     "data": {
      "text/plain": [
       "tensor(False)"
      ]
     },
     "execution_count": 31,
     "metadata": {},
     "output_type": "execute_result"
    }
   ],
   "source": [
    "(reproduced_emb_l_orig_sz==emb_l_orig_sz).all()"
   ]
  },
  {
   "cell_type": "code",
   "execution_count": 32,
   "id": "c6fa104e-61bc-476f-b2a3-57a7df7acf91",
   "metadata": {},
   "outputs": [],
   "source": [
    "info = [768,768,0,0,768,768]\n",
    "info = tensor([info,info])\n",
    "\n",
    "my_time_embeds = cnxs.base_model.add_time_proj(info.flatten()).reshape((2, -1))"
   ]
  },
  {
   "cell_type": "code",
   "execution_count": 34,
   "id": "953c5f90-a19c-4f73-9ea8-50854a9ffd1d",
   "metadata": {
    "scrolled": true
   },
   "outputs": [
    {
     "data": {
      "text/plain": [
       "tensor([768, 768,   0,   0, 768, 768, 768, 768,   0,   0, 768, 768])"
      ]
     },
     "execution_count": 34,
     "metadata": {},
     "output_type": "execute_result"
    }
   ],
   "source": [
    "info.flatten()"
   ]
  },
  {
   "cell_type": "code",
   "execution_count": 35,
   "id": "fa157770-afc9-45bb-acd4-3ea4657b8439",
   "metadata": {},
   "outputs": [
    {
     "data": {
      "text/plain": [
       "tensor([ True, False, False,  ..., False, False, False])"
      ]
     },
     "execution_count": 35,
     "metadata": {},
     "output_type": "execute_result"
    }
   ],
   "source": [
    "my_time_embeds[0]==emb_l_time_embeds[0]"
   ]
  },
  {
   "cell_type": "markdown",
   "id": "5fcd4120-b2a1-49cf-9a24-f29a43509ccd",
   "metadata": {},
   "source": [
    "**Big, big wtf**\n",
    "The time embeds should be identical\n",
    "- Input is identical (=`[768, 768,   0,   0, 768, 768, 768, 768,   0,   0, 768, 768]`)\n",
    "- Process is identical (=`cnxs.base_model.add_time_proj`)\n",
    "- Output is **different** (=`my_time_embeds`/`emb_l_time_embeds`)\n",
    "\n",
    "**Q:** Why are they not?"
   ]
  },
  {
   "cell_type": "code",
   "execution_count": 121,
   "id": "e48fafbd-5987-4937-9bd6-4f94c841e3e8",
   "metadata": {},
   "outputs": [],
   "source": [
    "def visually_compare_1d(x,y,titles=None, joint=False,cmap='coolwarm'):\n",
    "    if joint:\n",
    "        plt.figure(figsize=(10, 1))\n",
    "        xy = torch.concat([x.reshape(1,-1), y.reshape(1,-1)])\n",
    "        plt.imshow(xy, cmap=cmap, aspect='auto')\n",
    "        plt.axhline(y=0.5, color='black', linewidth=1)\n",
    "\n",
    "        if titles is not None:\n",
    "            plt.text(xy.shape[1]+10, 0, titles[0], verticalalignment='center')\n",
    "            plt.text(xy.shape[1]+10, 1, titles[1], verticalalignment='center')\n",
    "\n",
    "    else:\n",
    "        plt.figure(figsize=(10, 1))\n",
    "        \n",
    "        plt.subplot(1, 2, 1)\n",
    "        plt.imshow(x.reshape(1,-1), cmap=cmap, aspect='auto')\n",
    "        if titles is not None: plt.title(titles[0])\n",
    "        \n",
    "        plt.subplot(1, 2, 2)\n",
    "        plt.imshow(y.reshape(1,-1), cmap=cmap, aspect='auto')\n",
    "        if titles is not None: plt.title(titles[1])\n",
    "    \n",
    "    plt.show()"
   ]
  },
  {
   "cell_type": "code",
   "execution_count": 122,
   "id": "523e031a-ded5-4a72-a83f-4aec01b9c0da",
   "metadata": {},
   "outputs": [
    {
     "data": {
      "image/png": "[encoded data removed]",
      "text/plain": [
       "<Figure size 1000x100 with 2 Axes>"
      ]
     },
     "metadata": {},
     "output_type": "display_data"
    }
   ],
   "source": [
    "visually_compare_1d(my_time_embeds[0][:512], emb_l_orig_sz, ('orig sz emb - manual','orig sz emb - saved'))"
   ]
  },
  {
   "cell_type": "code",
   "execution_count": 46,
   "id": "ae00728d-f626-49ad-be29-b8d166400036",
   "metadata": {},
   "outputs": [
    {
     "data": {
      "text/plain": [
       "tensor([ True, False, False,  True, False, False, False,  True, False, False])"
      ]
     },
     "execution_count": 46,
     "metadata": {},
     "output_type": "execute_result"
    }
   ],
   "source": [
    "my_time_embeds[0][:512][:10]==emb_l_orig_sz[:10]"
   ]
  },
  {
   "cell_type": "code",
   "execution_count": 54,
   "id": "9a9e1947-6d8c-4ddf-9ea8-bf9df2852af7",
   "metadata": {},
   "outputs": [
    {
     "name": "stdout",
     "output_type": "stream",
     "text": [
      "tensor([ 0.1191, -0.0330,  0.5759, -1.0000, -0.5341, -0.2881, -0.7052,  0.6554, -0.0907,  0.9736])\n",
      "tensor([ 0.1191, -0.0331,  0.5759, -1.0000, -0.5342, -0.2881, -0.7051,  0.6554, -0.0908,  0.9736])\n"
     ]
    }
   ],
   "source": [
    "print(my_time_embeds[0][:512][:10])\n",
    "print(emb_l_orig_sz[:10])"
   ]
  },
  {
   "cell_type": "code",
   "execution_count": 52,
   "id": "513685c7-4816-47d0-9659-ca1b509aa2a1",
   "metadata": {},
   "outputs": [
    {
     "data": {
      "text/plain": [
       "True"
      ]
     },
     "execution_count": 52,
     "metadata": {},
     "output_type": "execute_result"
    }
   ],
   "source": [
    "allclose(my_time_embeds[0][:512], emb_l_orig_sz, atol=1e-4)"
   ]
  },
  {
   "cell_type": "markdown",
   "id": "556a8a5e-97eb-4a4c-a661-9b440112b48d",
   "metadata": {},
   "source": [
    "**A:** They are equal up to 1e-4. So the difference is operational randomness."
   ]
  },
  {
   "cell_type": "markdown",
   "id": "69331060-f6ca-49b2-980d-7f2f4716d93a",
   "metadata": {},
   "source": [
    "Let's now compare local additional time embs to cloud additional time embs\n",
    "\n",
    "**Q:** Are the additional time emebds identical for local and cloud?"
   ]
  },
  {
   "cell_type": "code",
   "execution_count": 63,
   "id": "82f454a3-204a-42e1-b9ee-f3d3e3e93db9",
   "metadata": {},
   "outputs": [],
   "source": [
    "def equal(x,y,atol=1e-4): return allclose(x,y,atol=atol)"
   ]
  },
  {
   "cell_type": "code",
   "execution_count": 81,
   "id": "6d6f5050-5a7e-40c5-99d8-87a80cb027a3",
   "metadata": {},
   "outputs": [
    {
     "data": {
      "text/plain": [
       "(True, True, True)"
      ]
     },
     "execution_count": 81,
     "metadata": {},
     "output_type": "execute_result"
    }
   ],
   "source": [
    "equal(emb_l_orig_sz, emb_c_orig_sz[0]), equal(emb_l_crop, emb_c_crop[0]), equal(emb_l_tgt_sz, emb_c_tgt_sz[0])"
   ]
  },
  {
   "cell_type": "code",
   "execution_count": 109,
   "id": "11802414-0421-410e-babf-bfcd16e65803",
   "metadata": {},
   "outputs": [
    {
     "data": {
      "image/png": "[encoded data removed]",
      "text/plain": [
       "<Figure size 1000x100 with 2 Axes>"
      ]
     },
     "metadata": {},
     "output_type": "display_data"
    }
   ],
   "source": [
    "visually_compare_1d(emb_l_orig_sz, emb_c_orig_sz[0])"
   ]
  },
  {
   "cell_type": "code",
   "execution_count": 110,
   "id": "9c1ec9ec-be6a-4d7b-99ad-767956f3241b",
   "metadata": {},
   "outputs": [
    {
     "data": {
      "image/png": "[encoded data removed]",
      "text/plain": [
       "<Figure size 1000x100 with 2 Axes>"
      ]
     },
     "metadata": {},
     "output_type": "display_data"
    }
   ],
   "source": [
    "visually_compare_1d(emb_l_crop, emb_c_crop[0])"
   ]
  },
  {
   "cell_type": "code",
   "execution_count": 111,
   "id": "839786e5-23bf-4124-9bf2-72dffdf5ff4e",
   "metadata": {},
   "outputs": [
    {
     "data": {
      "image/png": "[encoded data removed]",
      "text/plain": [
       "<Figure size 1000x100 with 2 Axes>"
      ]
     },
     "metadata": {},
     "output_type": "display_data"
    }
   ],
   "source": [
    "visually_compare_1d(emb_l_tgt_sz, emb_c_tgt_sz[0])"
   ]
  },
  {
   "cell_type": "markdown",
   "id": "42c9e2c0-f205-475e-bc37-268a7c09b6f5",
   "metadata": {},
   "source": [
    "**A:** Yey, they're equal up to 1e-4, which can well be operational randomess."
   ]
  },
  {
   "cell_type": "markdown",
   "id": "adf6e9aa-d94d-467f-aef8-08d11d38bc69",
   "metadata": {},
   "source": [
    "___"
   ]
  },
  {
   "cell_type": "markdown",
   "id": "a056a537-d52a-425a-8ab5-733a5be2ec05",
   "metadata": {},
   "source": [
    "What about the text-part of additional time embeddings?"
   ]
  },
  {
   "cell_type": "code",
   "execution_count": 100,
   "id": "8ad18c1f-ff45-4c3e-b9a5-8631a0f888d3",
   "metadata": {},
   "outputs": [],
   "source": [
    "emb_l_text_embeds = emb_l_add_embeds[0][:1280]"
   ]
  },
  {
   "cell_type": "code",
   "execution_count": 101,
   "id": "fe0c5287-82f1-45e3-95e5-0985361058f5",
   "metadata": {},
   "outputs": [],
   "source": [
    "txt_l = emb_l_text_embeds\n",
    "txt_c = emb_c_text[0]"
   ]
  },
  {
   "cell_type": "code",
   "execution_count": 102,
   "id": "79df37d4-64bc-4d92-b0e3-6f6fff1d2d07",
   "metadata": {},
   "outputs": [],
   "source": [
    "assert txt_l.shape==txt_c.shape"
   ]
  },
  {
   "cell_type": "code",
   "execution_count": 103,
   "id": "dd938ac1-3558-48a4-989c-373accda4a44",
   "metadata": {},
   "outputs": [
    {
     "data": {
      "text/plain": [
       "False"
      ]
     },
     "execution_count": 103,
     "metadata": {},
     "output_type": "execute_result"
    }
   ],
   "source": [
    "equal(txt_c, txt_l)"
   ]
  },
  {
   "cell_type": "code",
   "execution_count": 123,
   "id": "fcbb5cf8-61f2-4b40-b360-a803cb5bbb4d",
   "metadata": {},
   "outputs": [
    {
     "data": {
      "image/png": "[encoded data removed]",
      "text/plain": [
       "<Figure size 1000x100 with 1 Axes>"
      ]
     },
     "metadata": {},
     "output_type": "display_data"
    }
   ],
   "source": [
    "visually_compare_1d(txt_c, txt_l, ('cloud','local'), joint=True)"
   ]
  },
  {
   "cell_type": "code",
   "execution_count": 124,
   "id": "d4d9e1fb-7161-47a6-b25e-2d1d93fc3dc5",
   "metadata": {},
   "outputs": [
    {
     "data": {
      "text/plain": [
       "(tensor([-0.8291,  0.9678, -0.6641,  0.9736, -0.6597, -0.5054, -1.7686, -0.2365, -1.1006, -1.0020]),\n",
       " tensor([-0.5941, -0.3394, -0.4070,  0.5561, -1.0181,  0.1388,  0.2324, -1.2147, -0.7827, -0.1039]))"
      ]
     },
     "execution_count": 124,
     "metadata": {},
     "output_type": "execute_result"
    }
   ],
   "source": [
    "txt_c[:10], txt_l[:10]"
   ]
  },
  {
   "cell_type": "markdown",
   "id": "1cfb8d53-da8a-456a-9672-eb9d229f76a7",
   "metadata": {},
   "source": [
    "They are different."
   ]
  },
  {
   "cell_type": "markdown",
   "id": "33d2b78a-7a21-4c00-aaee-0a7f2de4c8b4",
   "metadata": {},
   "source": [
    "Maybe I re-create the cloud `text_embedder_2` locally. Then I could compare intermediate results easier."
   ]
  },
  {
   "cell_type": "markdown",
   "id": "d2aa03c6-3c7a-4f8c-9f74-cadc13c7f45b",
   "metadata": {},
   "source": [
    "**To be continued in `Compare intermediate results -- 3.ipynb`**"
   ]
  },
  {
   "cell_type": "code",
   "execution_count": null,
   "id": "c14579c1-3b3c-46a8-974c-b46843a40d06",
   "metadata": {},
   "outputs": [],
   "source": []
  }
 ],
 "metadata": {
  "kernelspec": {
   "display_name": "Python 3 (ipykernel)",
   "language": "python",
   "name": "python3"
  },
  "language_info": {
   "codemirror_mode": {
    "name": "ipython",
    "version": 3
   },
   "file_extension": ".py",
   "mimetype": "text/x-python",
   "name": "python",
   "nbconvert_exporter": "python",
   "pygments_lexer": "ipython3",
   "version": "3.11.5"
  }
 },
 "nbformat": 4,
 "nbformat_minor": 5
}
