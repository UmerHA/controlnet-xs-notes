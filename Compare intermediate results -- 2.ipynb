{
 "cells": [
  {
   "cell_type": "markdown",
   "id": "30794abe-5ec0-4ecd-90c5-5ef222fc2e48",
   "metadata": {},
   "source": [
    "Here, I do 1 `forward` pass and manually compare each intermediate output with the cloud version.\n",
    "\n",
    "As the first large difference between local and cloud outputs are after 1st resnet, I'll compare the intermediate outputs of that 1st resnet in detail."
   ]
  },
  {
   "cell_type": "code",
   "execution_count": 1,
   "id": "2fa846a7-09c0-472e-b00b-53e1946eb913",
   "metadata": {},
   "outputs": [],
   "source": [
    "import torch\n",
    "from torch.testing import assert_close"
   ]
  },
  {
   "cell_type": "code",
   "execution_count": 2,
   "id": "18ae4f5a-d7eb-4471-be6f-cae1f309ed92",
   "metadata": {},
   "outputs": [],
   "source": [
    "device = 'cuda' if torch.cuda.is_available() else 'mps'\n",
    "device_dtype = torch.float16 if device == 'cuda' else torch.float32"
   ]
  },
  {
   "cell_type": "markdown",
   "id": "c739024d-d8ee-4aee-882c-9c5388ff6057",
   "metadata": {},
   "source": [
    "## Load the model"
   ]
  },
  {
   "cell_type": "code",
   "execution_count": 18,
   "id": "c565cf82-1eaa-4e68-8d35-a6459ee60097",
   "metadata": {
    "tags": []
   },
   "outputs": [],
   "source": [
    "from diffusers import StableDiffusionXLPipeline\n",
    "from diffusers import EulerDiscreteScheduler\n",
    "from diffusers.models.controlnetxs import ControlNetXSModel\n",
    "from diffusers.pipelines.controlnet_xs.pipeline_controlnet_xs_sd_xl import StableDiffusionXLControlNetXSPipeline"
   ]
  },
  {
   "cell_type": "code",
   "execution_count": 19,
   "id": "e0b304d6-cb41-49f5-849d-3e955da3e5e6",
   "metadata": {
    "tags": []
   },
   "outputs": [
    {
     "name": "stdout",
     "output_type": "stream",
     "text": [
      "At the end of __init__, the sigmas are tensor([14.6146, 14.5263, 14.4386, 14.3515, 14.2651]) ...\n",
      "At the end of __init__, the sigmas are tensor([14.6146, 14.5263, 14.4386, 14.3515, 14.2651]) ...\n"
     ]
    }
   ],
   "source": [
    "sdxl_pipe = StableDiffusionXLPipeline.from_single_file('weights/sdxl/sd_xl_base_1.0_0.9vae.safetensors').to(device)\n",
    "cnxs = ControlNetXSModel.from_pretrained('weights/cnxs').to(device)"
   ]
  },
  {
   "cell_type": "code",
   "execution_count": 20,
   "id": "1af1ff7f-cb94-448b-9988-6a309b56cd9e",
   "metadata": {},
   "outputs": [],
   "source": [
    "cnxs.base_model = sdxl_pipe.unet"
   ]
  },
  {
   "cell_type": "markdown",
   "id": "0b7758a1-6260-4d2c-a874-b63271eb9b61",
   "metadata": {},
   "source": [
    "The example script of Heidelberg manually sets scale_list to 0.95"
   ]
  },
  {
   "cell_type": "code",
   "execution_count": 21,
   "id": "1b7f0107-b0ff-4989-aabf-533638fb7eb8",
   "metadata": {},
   "outputs": [],
   "source": [
    "cnxs.scale_list = cnxs.scale_list * 0. + 0.95\n",
    "assert cnxs.scale_list[0] == .95"
   ]
  },
  {
   "cell_type": "markdown",
   "id": "e9b95d9c-ac7a-42d3-82cf-4eef25a591ae",
   "metadata": {},
   "source": [
    "Heidelberg uses `timestep_spacing = 'linspace'` in their scheduler, so let's do that as well"
   ]
  },
  {
   "cell_type": "code",
   "execution_count": 22,
   "id": "ca82d739-fb30-429a-a902-3e711428ffa5",
   "metadata": {},
   "outputs": [
    {
     "name": "stdout",
     "output_type": "stream",
     "text": [
      "At the end of __init__, the sigmas are tensor([14.6146, 14.5263, 14.4386, 14.3515, 14.2651]) ...\n",
      "timestep_spacing = \"leading\" and timesteps=[999.      978.61224 958.2245  937.83673 917.449  ] ...\n",
      "sigmas before interpolation: [0.02916753 0.04131448 0.05068044 0.05861427 0.06563709] ...\n",
      "sigmas after (linear) interpolation: [14.61464691 12.93677721 11.49164976 10.24291444  9.16035419] ...\n",
      "At end of `set_timesteps`:\n",
      "sigmas =  tensor([14.6146, 12.9368, 11.4916, 10.2429,  9.1604]) ...\n",
      "timesteps = tensor([999.0000, 978.6122, 958.2245, 937.8367, 917.4490]) ...\n",
      "At the end of __init__, the sigmas are tensor([14.6146, 14.5263, 14.4386, 14.3515, 14.2651]) ...\n"
     ]
    }
   ],
   "source": [
    "scheduler_cgf = dict(sdxl_pipe.scheduler.config)\n",
    "scheduler_cgf['timestep_spacing'] = 'linspace'\n",
    "sdxl_pipe.scheduler = EulerDiscreteScheduler.from_config(scheduler_cgf)\n",
    "\n",
    "# test it worked\n",
    "sdxl_pipe.scheduler.set_timesteps(50)\n",
    "assert sdxl_pipe.scheduler.timesteps[0]==999\n",
    "\n",
    "# reset\n",
    "sdxl_pipe.scheduler = EulerDiscreteScheduler.from_config(scheduler_cgf)"
   ]
  },
  {
   "cell_type": "code",
   "execution_count": 23,
   "id": "a120b84b-1126-4d6c-b08e-8114b5761c25",
   "metadata": {},
   "outputs": [],
   "source": [
    "cnxs_pipe = StableDiffusionXLControlNetXSPipeline(\n",
    "    vae=sdxl_pipe.vae,\n",
    "    text_encoder=sdxl_pipe.text_encoder,\n",
    "    text_encoder_2=sdxl_pipe.text_encoder_2,\n",
    "    tokenizer=sdxl_pipe.tokenizer,\n",
    "    tokenizer_2=sdxl_pipe.tokenizer_2,\n",
    "    unet=sdxl_pipe.unet,\n",
    "    controlnet=cnxs,\n",
    "    scheduler=sdxl_pipe.scheduler,\n",
    ")"
   ]
  },
  {
   "cell_type": "markdown",
   "id": "994cd8cf-1682-47e5-a7ff-4ccb3095ad61",
   "metadata": {},
   "source": [
    "___"
   ]
  },
  {
   "cell_type": "markdown",
   "id": "8716be49-ec49-405e-ab61-a7eb54abdc7b",
   "metadata": {},
   "source": [
    "## Load intermediate outputs of full model"
   ]
  },
  {
   "cell_type": "markdown",
   "id": "38d07728-5ae8-4202-9037-a7e87576cca3",
   "metadata": {},
   "source": [
    "These were computed on the cloud with Heidelberg code"
   ]
  },
  {
   "cell_type": "code",
   "execution_count": 30,
   "id": "2fe3a1a3-3afc-4856-b927-2e26cd590ff6",
   "metadata": {},
   "outputs": [],
   "source": [
    "from util_inspect import load_intermediate_outputs, print_metadata, compare_intermediate_results"
   ]
  },
  {
   "cell_type": "code",
   "execution_count": 31,
   "id": "0e589b7c-c016-43e1-be4a-eb7d4cea0932",
   "metadata": {},
   "outputs": [
    {
     "data": {
      "text/plain": [
       "(72, 72)"
      ]
     },
     "execution_count": 31,
     "metadata": {},
     "output_type": "execute_result"
    }
   ],
   "source": [
    "model_outp_cloud = load_intermediate_outputs('intermediate_output/cloud_debug_log.pkl')\n",
    "model_outp_local = load_intermediate_outputs('intermediate_output/local_debug_log.pkl')\n",
    "len(model_outp_cloud),len(model_outp_local)"
   ]
  },
  {
   "cell_type": "code",
   "execution_count": 32,
   "id": "c3df983c-f327-4bde-ac4e-0ac90830a4df",
   "metadata": {},
   "outputs": [
    {
     "name": "stdout",
     "output_type": "stream",
     "text": [
      "-  | cloud               | local               | equal name? | equal shape? | equal values? | mean abs Δ\n",
      "   |                     |                     |             |              |    prec=2     |           \n",
      "--------------------------------------------------------------------------------------------------------\n",
      "0  | prep   x            | prep   x            | \u001b[92m     y     \u001b[0m | \u001b[92m     y      \u001b[0m | \u001b[92m      y      \u001b[0m |    0.00000\n",
      "1  | prep   temb         | prep   temb         | \u001b[92m     y     \u001b[0m | \u001b[91m     n      \u001b[0m | \u001b[91m      n      \u001b[0m |    0.11491\n",
      "2  | prep   context      | prep   context      | \u001b[92m     y     \u001b[0m | \u001b[92m     y      \u001b[0m | \u001b[92m      y      \u001b[0m |    0.00053\n",
      "3  | prep   raw hint     | prep   raw hint     | \u001b[92m     y     \u001b[0m | \u001b[92m     y      \u001b[0m | \u001b[92m      y      \u001b[0m |    0.00000\n",
      "4  | prep   guided_hint  | prep   guided_hint  | \u001b[92m     y     \u001b[0m | \u001b[92m     y      \u001b[0m | \u001b[92m      y      \u001b[0m |    0.00009\n",
      "--------------------------------------------------------------------------------------------------------\n",
      "5  | enc    h_base       | enc    h_base       | \u001b[92m     y     \u001b[0m | \u001b[92m     y      \u001b[0m | \u001b[92m      y      \u001b[0m |    0.00008   applied base.conv_in\n",
      "6  | enc    h_ctrl       | enc    h_ctrl       | \u001b[92m     y     \u001b[0m | \u001b[92m     y      \u001b[0m | \u001b[92m      y      \u001b[0m |    0.00000   applied ctrl.conv_in\n",
      "7  | enc    h_ctrl       | enc    h_ctrl       | \u001b[92m     y     \u001b[0m | \u001b[92m     y      \u001b[0m | \u001b[92m      y      \u001b[0m |    0.00009   added hint in ctrl\n",
      "8  | enc    h_base       | enc    h_base       | \u001b[92m     y     \u001b[0m | \u001b[92m     y      \u001b[0m | \u001b[92m      y      \u001b[0m |    0.00008   added ctrl -> base\n",
      "--------------------------------------------------------------------------------------------------------\n",
      "9  | enc    h_ctrl       | enc    h_ctrl       | \u001b[92m     y     \u001b[0m | \u001b[92m     y      \u001b[0m | \u001b[92m      y      \u001b[0m |    0.00006   concatted base -> ctrl\n",
      "10 | enc    h_base       | enc    h_base       | \u001b[92m     y     \u001b[0m | \u001b[92m     y      \u001b[0m | \u001b[91m      n      \u001b[0m |    0.01613   applied base subblock\n",
      "11 | enc    h_ctrl       | enc    h_ctrl       | \u001b[92m     y     \u001b[0m | \u001b[92m     y      \u001b[0m | \u001b[92m      y      \u001b[0m |    0.00019   applied ctrl subblock\n",
      "12 | enc    h_base       | enc    h_base       | \u001b[92m     y     \u001b[0m | \u001b[92m     y      \u001b[0m | \u001b[91m      n      \u001b[0m |    0.05910   added ctrl -> base\n",
      "- - - - - - - - - - - - - - - - - - - - - - - - - - - - - - - - - - - - - - - - - - - - - - - - - - - - \n",
      "13 | enc    h_ctrl       | enc    h_ctrl       | \u001b[92m     y     \u001b[0m | \u001b[92m     y      \u001b[0m | \u001b[92m      y      \u001b[0m |    0.33904   concatted base -> ctrl\n",
      "14 | enc    h_base       | enc    h_base       | \u001b[92m     y     \u001b[0m | \u001b[92m     y      \u001b[0m | \u001b[91m      n      \u001b[0m |    0.06453   applied base subblock\n",
      "15 | enc    h_ctrl       | enc    h_ctrl       | \u001b[92m     y     \u001b[0m | \u001b[92m     y      \u001b[0m | \u001b[91m      n      \u001b[0m |    0.89408   applied ctrl subblock\n",
      "16 | enc    h_base       | enc    h_base       | \u001b[92m     y     \u001b[0m | \u001b[92m     y      \u001b[0m | \u001b[91m      n      \u001b[0m |    0.16120   added ctrl -> base\n",
      "- - - - - - - - - - - - - - - - - - - - - - - - - - - - - - - - - - - - - - - - - - - - - - - - - - - - \n",
      "17 | enc    h_ctrl       | enc    h_ctrl       | \u001b[92m     y     \u001b[0m | \u001b[92m     y      \u001b[0m | \u001b[91m      n      \u001b[0m |    0.24952   concatted base -> ctrl\n",
      "18 | enc    h_base       | enc    h_base       | \u001b[92m     y     \u001b[0m | \u001b[92m     y      \u001b[0m | \u001b[91m      n      \u001b[0m |    0.33582   applied base subblock\n",
      "19 | enc    h_ctrl       | enc    h_ctrl       | \u001b[92m     y     \u001b[0m | \u001b[92m     y      \u001b[0m | \u001b[91m      n      \u001b[0m |    2.03931   applied ctrl subblock\n"
     ]
    }
   ],
   "source": [
    "compare_intermediate_results(model_outp_cloud, model_outp_local, n=20)"
   ]
  },
  {
   "cell_type": "markdown",
   "id": "4ec2ed3c-bdae-4446-8eb7-4d3d060c311e",
   "metadata": {
    "jp-MarkdownHeadingCollapsed": true
   },
   "source": [
    "## Load intermediate outputs of 1st resnet"
   ]
  },
  {
   "cell_type": "code",
   "execution_count": 25,
   "id": "d0e9f513-02f7-4343-b2ce-5e46ea5e8925",
   "metadata": {},
   "outputs": [
    {
     "data": {
      "text/plain": [
       "(8, 14)"
      ]
     },
     "execution_count": 25,
     "metadata": {},
     "output_type": "execute_result"
    }
   ],
   "source": [
    "resnet_outp_cloud = load_intermediate_outputs('intermediate_output/cloud_resnet.pkl')\n",
    "resnet_outp_local = load_intermediate_outputs('intermediate_output/local_resnet.pkl')\n",
    "len(resnet_outp_cloud),len(resnet_outp_local)"
   ]
  },
  {
   "cell_type": "markdown",
   "id": "e27f44b7-42e6-45ae-b08d-13d26abb08d0",
   "metadata": {},
   "source": [
    "## Compare!"
   ]
  },
  {
   "cell_type": "code",
   "execution_count": 33,
   "id": "ce4cd6b6-a428-4592-9a9a-040c7310390f",
   "metadata": {},
   "outputs": [],
   "source": [
    "from diffusers.models.controlnetxs import to_sub_blocks\n",
    "my_subs = to_sub_blocks(cnxs.base_model.down_blocks[0])\n",
    "assert len(my_subs)==3\n",
    "first_base_enc_subblock = my_subs[0] # that's the local module (I can't access cloud modules)"
   ]
  },
  {
   "cell_type": "code",
   "execution_count": 34,
   "id": "51fab23f-1132-4898-927e-52275dc366bd",
   "metadata": {},
   "outputs": [],
   "source": [
    "prev_h_base_cloud = model_outp_cloud[8].t\n",
    "prev_h_base_local = model_outp_local[8].t\n",
    "\n",
    "temb_cloud = model_outp_cloud[1].t\n",
    "temb_local = model_outp_local[1].t\n",
    "\n",
    "current_h_base_cloud = model_outp_cloud[10].t\n",
    "current_h_base_local = model_outp_local[10].t"
   ]
  },
  {
   "cell_type": "code",
   "execution_count": 36,
   "id": "fdba3ba7-1d03-470f-951f-40cccaa2025c",
   "metadata": {},
   "outputs": [
    {
     "data": {
      "text/plain": [
       "('temb', [2, 1280])"
      ]
     },
     "execution_count": 36,
     "metadata": {},
     "output_type": "execute_result"
    }
   ],
   "source": [
    "model_outp_cloud[1].msg, model_outp_cloud[1].shape"
   ]
  },
  {
   "cell_type": "code",
   "execution_count": 38,
   "id": "ab0bdae0-f4bd-4430-b627-a4f8bf2c3466",
   "metadata": {},
   "outputs": [
    {
     "data": {
      "text/plain": [
       "(torch.Size([1280]), torch.Size([1280]))"
      ]
     },
     "execution_count": 38,
     "metadata": {},
     "output_type": "execute_result"
    }
   ],
   "source": [
    "temb_cloud[0].shape,temb_cloud[1].shape"
   ]
  },
  {
   "cell_type": "markdown",
   "id": "b1b580b6-e70c-4536-a388-8f4ecbee880b",
   "metadata": {},
   "source": [
    "**These should be equal! Why are they not?** 😤🤔"
   ]
  },
  {
   "cell_type": "code",
   "execution_count": 43,
   "id": "263b3333-2b82-44dd-9de5-93ba4655e577",
   "metadata": {},
   "outputs": [
    {
     "data": {
      "text/plain": [
       "tensor([ 1.5199, -3.6599,  1.8496,  ..., -0.8640, -1.3085, -1.5696])"
      ]
     },
     "execution_count": 43,
     "metadata": {},
     "output_type": "execute_result"
    }
   ],
   "source": [
    "temb_cloud[0]"
   ]
  },
  {
   "cell_type": "code",
   "execution_count": 44,
   "id": "ac336904-ba02-48f1-87ed-8e1640c7f607",
   "metadata": {},
   "outputs": [
    {
     "data": {
      "text/plain": [
       "tensor([ 1.4099, -3.6581,  1.9248,  ..., -0.9404, -1.2247, -1.4276])"
      ]
     },
     "execution_count": 44,
     "metadata": {},
     "output_type": "execute_result"
    }
   ],
   "source": [
    "temb_cloud[1]"
   ]
  },
  {
   "cell_type": "code",
   "execution_count": 37,
   "id": "a3e60c10-33ff-46db-9a10-dc25bcf18008",
   "metadata": {},
   "outputs": [
    {
     "ename": "AssertionError",
     "evalue": "Tensor-likes are not close!\n\nMismatched elements: 1280 / 1280 (100.0%)\nGreatest absolute difference: 0.3006887435913086 at index (790,) (up to 1e-05 allowed)\nGreatest relative difference: 64.20502471923828 at index (1161,) (up to 1.3e-06 allowed)",
     "output_type": "error",
     "traceback": [
      "\u001b[0;31m---------------------------------------------------------------------------\u001b[0m",
      "\u001b[0;31mAssertionError\u001b[0m                            Traceback (most recent call last)",
      "Cell \u001b[0;32mIn[37], line 1\u001b[0m\n\u001b[0;32m----> 1\u001b[0m \u001b[43massert_close\u001b[49m\u001b[43m(\u001b[49m\u001b[43mtemb_cloud\u001b[49m\u001b[43m[\u001b[49m\u001b[38;5;241;43m0\u001b[39;49m\u001b[43m]\u001b[49m\u001b[43m,\u001b[49m\u001b[43m \u001b[49m\u001b[43mtemb_cloud\u001b[49m\u001b[43m[\u001b[49m\u001b[38;5;241;43m1\u001b[39;49m\u001b[43m]\u001b[49m\u001b[43m)\u001b[49m \u001b[38;5;66;03m# AssertionError\u001b[39;00m\n",
      "File \u001b[0;32m~/.local/share/virtualenvs/controlnet-xs-ngkyeIE7/lib/python3.11/site-packages/torch/testing/_comparison.py:1520\u001b[0m, in \u001b[0;36massert_close\u001b[0;34m(actual, expected, allow_subclasses, rtol, atol, equal_nan, check_device, check_dtype, check_layout, check_stride, msg)\u001b[0m\n\u001b[1;32m   1498\u001b[0m error_metas \u001b[38;5;241m=\u001b[39m not_close_error_metas(\n\u001b[1;32m   1499\u001b[0m     actual,\n\u001b[1;32m   1500\u001b[0m     expected,\n\u001b[0;32m   (...)\u001b[0m\n\u001b[1;32m   1515\u001b[0m     msg\u001b[38;5;241m=\u001b[39mmsg,\n\u001b[1;32m   1516\u001b[0m )\n\u001b[1;32m   1518\u001b[0m \u001b[38;5;28;01mif\u001b[39;00m error_metas:\n\u001b[1;32m   1519\u001b[0m     \u001b[38;5;66;03m# TODO: compose all metas into one AssertionError\u001b[39;00m\n\u001b[0;32m-> 1520\u001b[0m     \u001b[38;5;28;01mraise\u001b[39;00m error_metas[\u001b[38;5;241m0\u001b[39m]\u001b[38;5;241m.\u001b[39mto_error(msg)\n",
      "\u001b[0;31mAssertionError\u001b[0m: Tensor-likes are not close!\n\nMismatched elements: 1280 / 1280 (100.0%)\nGreatest absolute difference: 0.3006887435913086 at index (790,) (up to 1e-05 allowed)\nGreatest relative difference: 64.20502471923828 at index (1161,) (up to 1.3e-06 allowed)"
     ]
    }
   ],
   "source": [
    "#assert_close(temb_cloud[0], temb_cloud[1]) # AssertionError"
   ]
  },
  {
   "cell_type": "code",
   "execution_count": null,
   "id": "8cd54379-1652-4c4d-8c27-ddeee1740f80",
   "metadata": {},
   "outputs": [],
   "source": []
  },
  {
   "cell_type": "markdown",
   "id": "d35faa0d-cd15-46e9-8ec9-bf2959b61f63",
   "metadata": {},
   "source": [
    "Plausibility check:"
   ]
  },
  {
   "cell_type": "code",
   "execution_count": 48,
   "id": "446bbf15-242e-423e-bb44-1a6ceebf4420",
   "metadata": {},
   "outputs": [],
   "source": [
    "#assert_close(resnet_outp_cloud[-1].t, current_h_base_cloud) # AssertionError\n",
    "#assert_close(resnet_outp_local[-1].t, current_h_base_local) # AssertionError"
   ]
  },
  {
   "cell_type": "code",
   "execution_count": 49,
   "id": "ea93bf45-2e81-46d2-93e7-8f8cf1d6f72f",
   "metadata": {},
   "outputs": [
    {
     "name": "stdout",
     "output_type": "stream",
     "text": [
      "0 hidden_states start [2, 320, 96, 96]\n",
      "1 temb start [2, 1280]\n",
      "2 scale start []\n",
      "3 hidden_states after norm1/silu/conv1 [2, 320, 96, 96]\n",
      "4 temb after silu/linear [2, 320]\n",
      "5 hidden_states after time add [2, 320, 96, 96]\n",
      "6 hidden_states after norm2/dropout/silu/conv2 [2, 320, 96, 96]\n",
      "7 hidden_states after norm1/silu/conv1 [2, 320, 96, 96]\n"
     ]
    }
   ],
   "source": [
    "print_metadata(resnet_outp_cloud)"
   ]
  },
  {
   "cell_type": "code",
   "execution_count": 50,
   "id": "73a19a74-ab97-4ef8-82f5-756477203b17",
   "metadata": {},
   "outputs": [
    {
     "name": "stdout",
     "output_type": "stream",
     "text": [
      "0 hidden_states start [2, 320, 96, 96]\n",
      "1 temb start [1, 1280]\n",
      "2 scale start []\n",
      "3 hidden_states after norm1 [2, 320, 96, 96]\n",
      "4 hidden_states after silu [2, 320, 96, 96]\n",
      "5 hidden_states after conv1 [2, 320, 96, 96]\n",
      "6 temb after silu [1, 1280]\n",
      "7 temb after linear [1, 320, 1, 1]\n",
      "8 hidden_states after time add [2, 320, 96, 96]\n",
      "9 hidden_states after norm2 [2, 320, 96, 96]\n",
      "10 hidden_states after silu [2, 320, 96, 96]\n",
      "11 hidden_states after dropout [2, 320, 96, 96]\n",
      "12 hidden_states after conv2 [2, 320, 96, 96]\n",
      "13 hidden_states after skip + scale [2, 320, 96, 96]\n"
     ]
    }
   ],
   "source": [
    "print_metadata(resnet_outp_local)"
   ]
  },
  {
   "cell_type": "code",
   "execution_count": null,
   "id": "3f003793-dc90-4c78-84a3-d479f5c3d875",
   "metadata": {},
   "outputs": [],
   "source": []
  },
  {
   "cell_type": "code",
   "execution_count": 51,
   "id": "a17d8057-3338-463f-8579-52650bc12cca",
   "metadata": {},
   "outputs": [],
   "source": [
    "c2l = dict(enumerate((0,1,2,5,7,8,12,13)))\n",
    "\n",
    "l2c = {l:c for c,l in c2l.items()}\n",
    "l2c.update({l: None for l in range(len(resnet_outp_local)) if l not in l2c.keys()})"
   ]
  },
  {
   "cell_type": "code",
   "execution_count": 52,
   "id": "01982144-a089-46d2-b092-cf555c9bb1f5",
   "metadata": {},
   "outputs": [
    {
     "data": {
      "text/plain": [
       "{0: 0,\n",
       " 1: 1,\n",
       " 2: 2,\n",
       " 5: 3,\n",
       " 7: 4,\n",
       " 8: 5,\n",
       " 12: 6,\n",
       " 13: 7,\n",
       " 3: None,\n",
       " 4: None,\n",
       " 6: None,\n",
       " 9: None,\n",
       " 10: None,\n",
       " 11: None}"
      ]
     },
     "execution_count": 52,
     "metadata": {},
     "output_type": "execute_result"
    }
   ],
   "source": [
    "l2c"
   ]
  },
  {
   "cell_type": "code",
   "execution_count": 53,
   "id": "7dc09a1f-2e21-4947-90f0-b8380d951fc9",
   "metadata": {},
   "outputs": [],
   "source": [
    "from torch import tensor\n",
    "from util_inspect import divider, fmt_bool\n",
    "\n",
    "def compare_intermediate_results():\n",
    "    step_map = (0,1,2,5,7,8,12,13)\n",
    "    \n",
    "    l,c,es,ev,d = 'local','cloud','equal shape?','equal values?','mean abs Δ'\n",
    "    print(f'{l:<36} | {c:<48} | {es:<12} | {ev:<13} | {d:<10}')\n",
    "    c,l,es,ev,d = '','','','prec=2',''\n",
    "    print(f'{l:<36} | {c:<48} | {es:<12} | {ev:^13} | {d:<10}')\n",
    "    divider(l=36+3+48+3+12+3+13+3+10)\n",
    "    for li in range(len(resnet_outp_local)):\n",
    "        l=resnet_outp_local[li]\n",
    "        print(f'{li:>2} {l.stage:<14} {l.msg:<18} | ',end='')\n",
    "\n",
    "        if l2c[li] is not None:\n",
    "            ci = l2c[li]\n",
    "            c=resnet_outp_cloud[ci]\n",
    "        \n",
    "            print(f'{ci:>2} {c.stage:<14} {c.msg:<30} | ',end='')\n",
    "            \n",
    "            eq_shape = False #have_same_shapes(i,c,l,do_print=False)\n",
    "            eq_vals = False # have_same_values(i,c,l,do_print=False,prec=2)\n",
    "\n",
    "            delta = c.t-l.t\n",
    "            if isinstance(delta, float): delta = tensor(delta)\n",
    "            mean_difference = delta.abs().mean()\n",
    "                \n",
    "            print(fmt_bool(eq_shape, '^12')+' | '+fmt_bool(eq_vals, '^13')+' | ', end='')\n",
    "            print(f'{mean_difference:>10.5f}',end='')\n",
    "        \n",
    "        print()"
   ]
  },
  {
   "cell_type": "code",
   "execution_count": 55,
   "id": "50df1963-4671-4762-9b22-329f1c19fe33",
   "metadata": {},
   "outputs": [
    {
     "name": "stdout",
     "output_type": "stream",
     "text": [
      "local                                | cloud                                            | equal shape? | equal values? | mean abs Δ\n",
      "                                     |                                                  |              |    prec=2     |           \n",
      "-----------------------------------------------------------------------------------------------------------------------------------\n",
      " 0 hidden_states  start              |  0 hidden_states  start                          | \u001b[91m     n      \u001b[0m | \u001b[91m      n      \u001b[0m |    0.00088\n",
      " 1 temb           start              |  1 temb           start                          | \u001b[91m     n      \u001b[0m | \u001b[91m      n      \u001b[0m |    0.23343\n",
      " 2 scale          start              |  2 scale          start                          | \u001b[91m     n      \u001b[0m | \u001b[91m      n      \u001b[0m |    0.00000\n",
      " 3 hidden_states  after norm1        | \n",
      " 4 hidden_states  after silu         | \n",
      " 5 hidden_states  after conv1        |  3 hidden_states  after norm1/silu/conv1         | \u001b[91m     n      \u001b[0m | \u001b[91m      n      \u001b[0m |    0.00248\n",
      " 6 temb           after silu         | \n",
      " 7 temb           after linear       |  4 temb           after silu/linear              | \u001b[91m     n      \u001b[0m | \u001b[91m      n      \u001b[0m |    3.19517\n",
      " 8 hidden_states  after time add     |  5 hidden_states  after time add                 | \u001b[91m     n      \u001b[0m | \u001b[91m      n      \u001b[0m |    0.07886\n",
      " 9 hidden_states  after norm2        | \n",
      "10 hidden_states  after silu         | \n",
      "11 hidden_states  after dropout      | \n",
      "12 hidden_states  after conv2        |  6 hidden_states  after norm2/dropout/silu/conv2 | \u001b[91m     n      \u001b[0m | \u001b[91m      n      \u001b[0m |    0.01578\n",
      "13 hidden_states  after skip + scale |  7 hidden_states  after norm1/silu/conv1         | \u001b[91m     n      \u001b[0m | \u001b[91m      n      \u001b[0m |    0.01593\n"
     ]
    }
   ],
   "source": [
    "compare_intermediate_results()"
   ]
  },
  {
   "cell_type": "markdown",
   "id": "1d35d8d4-a599-4f7f-ba4f-0bb7f71dfbba",
   "metadata": {},
   "source": [
    "Something is wrong with the time information or the time projection"
   ]
  },
  {
   "cell_type": "code",
   "execution_count": 56,
   "id": "16b8eefd-2fba-4469-84d4-6228e5aab8a8",
   "metadata": {},
   "outputs": [
    {
     "data": {
      "text/plain": [
       "(torch.Size([2, 1280]), torch.Size([1, 1280]))"
      ]
     },
     "execution_count": 56,
     "metadata": {},
     "output_type": "execute_result"
    }
   ],
   "source": [
    "temb_cloud.shape, temb_local.shape"
   ]
  },
  {
   "cell_type": "code",
   "execution_count": 36,
   "id": "3eb4bb6d-800d-4ee3-8b29-d958a4ecd258",
   "metadata": {},
   "outputs": [],
   "source": [
    "#assert_close(temb_cloud[0], temb_cloud[1]) # AssertionError"
   ]
  },
  {
   "cell_type": "code",
   "execution_count": 37,
   "id": "56cd0f4e-0a43-417f-9fce-6dd715de2d0c",
   "metadata": {},
   "outputs": [],
   "source": [
    "#assert_close(temb_cloud[0], temb_local[0]) # AssertionError"
   ]
  },
  {
   "cell_type": "code",
   "execution_count": 38,
   "id": "c52383a0-6ef1-4030-8c5d-a67000f5e1c6",
   "metadata": {},
   "outputs": [],
   "source": [
    "#assert_close(temb_cloud[1], temb_local[0]) # AssertionError"
   ]
  },
  {
   "cell_type": "code",
   "execution_count": 39,
   "id": "9f3d56d2-5544-496b-aef4-1e8ced314318",
   "metadata": {},
   "outputs": [
    {
     "data": {
      "text/plain": [
       "True"
      ]
     },
     "execution_count": 39,
     "metadata": {},
     "output_type": "execute_result"
    }
   ],
   "source": [
    "cnxs.learn_embedding"
   ]
  },
  {
   "cell_type": "code",
   "execution_count": null,
   "id": "d41b8e19-d98f-42b4-a230-65732c268ab6",
   "metadata": {},
   "outputs": [],
   "source": []
  },
  {
   "cell_type": "markdown",
   "id": "f09690dc-9301-4494-913e-aafeea4ff36d",
   "metadata": {},
   "source": [
    "## Run 1 step locally"
   ]
  },
  {
   "cell_type": "code",
   "execution_count": 24,
   "id": "2a9f2f99-5fe0-4bb5-ab8b-c04b30c16b18",
   "metadata": {},
   "outputs": [],
   "source": [
    "import torch\n",
    "import random\n",
    "import numpy as np\n",
    "import cv2\n",
    "from diffusers.utils import load_image\n",
    "import matplotlib.pyplot as plt\n",
    "\n",
    "class CannyDetector:\n",
    "    def __call__(self, img, low_threshold, high_threshold):\n",
    "        return cv2.Canny(img, low_threshold, high_threshold)\n",
    "\n",
    "def get_canny_edges(image, threshold=(100, 250)):\n",
    "    image = np.array(image).astype(np.uint8)\n",
    "    edges = CannyDetector()(image, *threshold)  # original sized greyscale edges\n",
    "    edges = edges / 255.\n",
    "    return edges\n",
    "\n",
    "def seed_everything(seed):\n",
    "    # paper used deprecated `seed_everything` from pytorch lightning\n",
    "    random.seed(seed)\n",
    "    np.random.seed(seed)\n",
    "    torch.manual_seed(seed)\n",
    "    torch.use_deterministic_algorithms(True)\n",
    "\n",
    "RANDOM_SEED_IN_PAPER = 1999158951"
   ]
  },
  {
   "cell_type": "code",
   "execution_count": 25,
   "id": "7af45300-05fb-4d45-8e36-5c4dc4b37c2a",
   "metadata": {},
   "outputs": [],
   "source": [
    "latents_sdxl_cloud = torch.load('latents_cloud_no_control.pth', map_location=torch.device(device))\n",
    "rand_from_cloud = latents_sdxl_cloud[0] / 14.6146"
   ]
  },
  {
   "cell_type": "code",
   "execution_count": 26,
   "id": "97109287-4f1d-49af-a9b2-c70216705cc0",
   "metadata": {},
   "outputs": [
    {
     "data": {
      "text/plain": [
       "torch.Size([3, 768, 768])"
      ]
     },
     "execution_count": 26,
     "metadata": {},
     "output_type": "execute_result"
    }
   ],
   "source": [
    "prompt = 'cinematic, shoe in the streets, made from meat, photorealistic shoe, highly detailed'\n",
    "neg_prompt = 'lowres, bad anatomy, worst quality, low quality'\n",
    "\n",
    "image = load_image('input_images/shoe_cloud.png')\n",
    "edges = get_canny_edges(image)\n",
    "\n",
    "edges_tensor = torch.tensor(edges)\n",
    "three_edges = torch.stack((edges_tensor,edges_tensor,edges_tensor))\n",
    "three_edges.shape"
   ]
  },
  {
   "cell_type": "code",
   "execution_count": 28,
   "id": "35d847cb-29fc-45e0-97b7-1b0e2dd1781d",
   "metadata": {},
   "outputs": [
    {
     "data": {
      "text/plain": [
       "True"
      ]
     },
     "execution_count": 28,
     "metadata": {},
     "output_type": "execute_result"
    }
   ],
   "source": [
    "cnxs_pipe.controlnet.DEBUG_LOG_by_Umer = True\n",
    "cnxs_pipe.controlnet.DEBUG_LOG_by_Umer_file = 'intermediate_output/local_debug_log.pkl'\n",
    "cnxs_pipe.controlnet.DEBUG_LOG_by_Umer"
   ]
  },
  {
   "cell_type": "code",
   "execution_count": 29,
   "id": "2eaa870a-62b3-4e61-b7ca-218c899932d8",
   "metadata": {},
   "outputs": [
    {
     "name": "stdout",
     "output_type": "stream",
     "text": [
      "timestep_spacing = \"leading\" and timesteps=[999.      978.61224 958.2245  937.83673 917.449  ] ...\n",
      "sigmas before interpolation: [0.02916753 0.04131448 0.05068044 0.05861427 0.06563709] ...\n",
      "sigmas after (linear) interpolation: [14.61464691 12.93677721 11.49164976 10.24291444  9.16035419] ...\n",
      "At end of `set_timesteps`:\n",
      "sigmas =  tensor([14.6146, 12.9368, 11.4916, 10.2429,  9.1604], device='mps:0') ...\n",
      "timesteps = tensor([999.0000, 978.6122, 958.2245, 937.8367, 917.4490], device='mps:0') ...\n",
      "Passed in latents:  tensor([ 1.3333,  0.5155,  0.4647, -0.5344,  1.0102], device='mps:0')\n",
      "initial_unscaled_latents:  tensor([ 1.3333,  0.5155,  0.4647, -0.5344,  1.0102], device='mps:0')\n",
      "latents:  tensor([19.4858,  7.5339,  6.7910, -7.8098, 14.7639], device='mps:0')\n"
     ]
    },
    {
     "data": {
      "application/vnd.jupyter.widget-view+json": {
       "model_id": "a0fda559a2ef4118b544dd7fc388989f",
       "version_major": 2,
       "version_minor": 0
      },
      "text/plain": [
       "  0%|          | 0/50 [00:00<?, ?it/s]"
      ]
     },
     "metadata": {},
     "output_type": "display_data"
    },
    {
     "name": "stdout",
     "output_type": "stream",
     "text": [
      "timesteps = tensor(999., device='mps:0')\n",
      "timesteps = tensor([999.], device='mps:0')\n",
      "t_emb.shape = [1, 320]\n",
      "learn_embedding = True\n",
      "t_emb.shape = [1, 1280]\n"
     ]
    },
    {
     "ename": "RuntimeError",
     "evalue": "Debug Log saved successfully",
     "output_type": "error",
     "traceback": [
      "\u001b[0;31m---------------------------------------------------------------------------\u001b[0m",
      "\u001b[0;31mRuntimeError\u001b[0m                              Traceback (most recent call last)",
      "Cell \u001b[0;32mIn[29], line 2\u001b[0m\n\u001b[1;32m      1\u001b[0m seed_everything(RANDOM_SEED_IN_PAPER)\n\u001b[0;32m----> 2\u001b[0m \u001b[43mcnxs_pipe\u001b[49m\u001b[43m(\u001b[49m\u001b[43mprompt\u001b[49m\u001b[43m,\u001b[49m\u001b[43m \u001b[49m\u001b[43mnegative_prompt\u001b[49m\u001b[38;5;241;43m=\u001b[39;49m\u001b[43mneg_prompt\u001b[49m\u001b[43m,\u001b[49m\u001b[43mimage\u001b[49m\u001b[38;5;241;43m=\u001b[39;49m\u001b[43mthree_edges\u001b[49m\u001b[43m,\u001b[49m\u001b[43m \u001b[49m\u001b[43mlatents\u001b[49m\u001b[38;5;241;43m=\u001b[39;49m\u001b[43mrand_from_cloud\u001b[49m\u001b[43m)\u001b[49m\n",
      "File \u001b[0;32m~/.local/share/virtualenvs/controlnet-xs-ngkyeIE7/lib/python3.11/site-packages/torch/utils/_contextlib.py:115\u001b[0m, in \u001b[0;36mcontext_decorator.<locals>.decorate_context\u001b[0;34m(*args, **kwargs)\u001b[0m\n\u001b[1;32m    112\u001b[0m \u001b[38;5;129m@functools\u001b[39m\u001b[38;5;241m.\u001b[39mwraps(func)\n\u001b[1;32m    113\u001b[0m \u001b[38;5;28;01mdef\u001b[39;00m \u001b[38;5;21mdecorate_context\u001b[39m(\u001b[38;5;241m*\u001b[39margs, \u001b[38;5;241m*\u001b[39m\u001b[38;5;241m*\u001b[39mkwargs):\n\u001b[1;32m    114\u001b[0m     \u001b[38;5;28;01mwith\u001b[39;00m ctx_factory():\n\u001b[0;32m--> 115\u001b[0m         \u001b[38;5;28;01mreturn\u001b[39;00m \u001b[43mfunc\u001b[49m\u001b[43m(\u001b[49m\u001b[38;5;241;43m*\u001b[39;49m\u001b[43margs\u001b[49m\u001b[43m,\u001b[49m\u001b[43m \u001b[49m\u001b[38;5;241;43m*\u001b[39;49m\u001b[38;5;241;43m*\u001b[39;49m\u001b[43mkwargs\u001b[49m\u001b[43m)\u001b[49m\n",
      "File \u001b[0;32m~/Documents/GitHub/diffusers/diffusers/src/diffusers/pipelines/controlnet_xs/pipeline_controlnet_xs_sd_xl.py:751\u001b[0m, in \u001b[0;36mStableDiffusionXLControlNetXSPipeline.__call__\u001b[0;34m(self, prompt, prompt_2, image, height, width, num_inference_steps, guidance_scale, negative_prompt, negative_prompt_2, num_images_per_prompt, eta, generator, latents, prompt_embeds, negative_prompt_embeds, pooled_prompt_embeds, negative_pooled_prompt_embeds, output_type, return_dict, callback, callback_steps, cross_attention_kwargs, controlnet_conditioning_scale, guess_mode, control_guidance_start, control_guidance_end, original_size, crops_coords_top_left, target_size, negative_original_size, negative_crops_coords_top_left, negative_target_size)\u001b[0m\n\u001b[1;32m    748\u001b[0m added_cond_kwargs \u001b[38;5;241m=\u001b[39m {\u001b[38;5;124m\"\u001b[39m\u001b[38;5;124mtext_embeds\u001b[39m\u001b[38;5;124m\"\u001b[39m: add_text_embeds, \u001b[38;5;124m\"\u001b[39m\u001b[38;5;124mtime_ids\u001b[39m\u001b[38;5;124m\"\u001b[39m: add_time_ids}\n\u001b[1;32m    750\u001b[0m \u001b[38;5;66;03m# predict the noise residual\u001b[39;00m\n\u001b[0;32m--> 751\u001b[0m noise_pred \u001b[38;5;241m=\u001b[39m \u001b[38;5;28;43mself\u001b[39;49m\u001b[38;5;241;43m.\u001b[39;49m\u001b[43mcontrolnet\u001b[49m\u001b[43m(\u001b[49m\n\u001b[1;32m    752\u001b[0m \u001b[43m    \u001b[49m\u001b[43mx\u001b[49m\u001b[38;5;241;43m=\u001b[39;49m\u001b[43mlatent_model_input\u001b[49m\u001b[43m,\u001b[49m\n\u001b[1;32m    753\u001b[0m \u001b[43m    \u001b[49m\u001b[43mt\u001b[49m\u001b[38;5;241;43m=\u001b[39;49m\u001b[43mt\u001b[49m\u001b[43m,\u001b[49m\n\u001b[1;32m    754\u001b[0m \u001b[43m    \u001b[49m\u001b[43mencoder_hidden_states\u001b[49m\u001b[38;5;241;43m=\u001b[39;49m\u001b[43mprompt_embeds\u001b[49m\u001b[43m,\u001b[49m\n\u001b[1;32m    755\u001b[0m \u001b[43m    \u001b[49m\u001b[43mc\u001b[49m\u001b[38;5;241;43m=\u001b[39;49m\u001b[43m{\u001b[49m\u001b[43m}\u001b[49m\u001b[43m,\u001b[49m\n\u001b[1;32m    756\u001b[0m \u001b[43m    \u001b[49m\u001b[43mhint\u001b[49m\u001b[38;5;241;43m=\u001b[39;49m\u001b[43mimage\u001b[49m\u001b[43m,\u001b[49m\u001b[43m \u001b[49m\u001b[38;5;66;43;03m# todo: better naming\u001b[39;49;00m\n\u001b[1;32m    757\u001b[0m \u001b[43m    \u001b[49m\u001b[38;5;66;43;03m#cross_attention_kwargs=cross_attention_kwargs,\u001b[39;49;00m\n\u001b[1;32m    758\u001b[0m \u001b[43m    \u001b[49m\u001b[38;5;66;43;03m#return_dict=False,\u001b[39;49;00m\n\u001b[1;32m    759\u001b[0m \u001b[43m    \u001b[49m\u001b[43madded_cond_kwargs\u001b[49m\u001b[38;5;241;43m=\u001b[39;49m\u001b[43madded_cond_kwargs\u001b[49m\u001b[43m,\u001b[49m\n\u001b[1;32m    760\u001b[0m \u001b[43m\u001b[49m\u001b[43m)\u001b[49m\u001b[38;5;241m.\u001b[39msample\n\u001b[1;32m    762\u001b[0m \u001b[38;5;66;03m# perform guidance\u001b[39;00m\n\u001b[1;32m    763\u001b[0m \u001b[38;5;28;01mif\u001b[39;00m do_classifier_free_guidance:\n",
      "File \u001b[0;32m~/.local/share/virtualenvs/controlnet-xs-ngkyeIE7/lib/python3.11/site-packages/torch/nn/modules/module.py:1518\u001b[0m, in \u001b[0;36mModule._wrapped_call_impl\u001b[0;34m(self, *args, **kwargs)\u001b[0m\n\u001b[1;32m   1516\u001b[0m     \u001b[38;5;28;01mreturn\u001b[39;00m \u001b[38;5;28mself\u001b[39m\u001b[38;5;241m.\u001b[39m_compiled_call_impl(\u001b[38;5;241m*\u001b[39margs, \u001b[38;5;241m*\u001b[39m\u001b[38;5;241m*\u001b[39mkwargs)  \u001b[38;5;66;03m# type: ignore[misc]\u001b[39;00m\n\u001b[1;32m   1517\u001b[0m \u001b[38;5;28;01melse\u001b[39;00m:\n\u001b[0;32m-> 1518\u001b[0m     \u001b[38;5;28;01mreturn\u001b[39;00m \u001b[38;5;28;43mself\u001b[39;49m\u001b[38;5;241;43m.\u001b[39;49m\u001b[43m_call_impl\u001b[49m\u001b[43m(\u001b[49m\u001b[38;5;241;43m*\u001b[39;49m\u001b[43margs\u001b[49m\u001b[43m,\u001b[49m\u001b[43m \u001b[49m\u001b[38;5;241;43m*\u001b[39;49m\u001b[38;5;241;43m*\u001b[39;49m\u001b[43mkwargs\u001b[49m\u001b[43m)\u001b[49m\n",
      "File \u001b[0;32m~/.local/share/virtualenvs/controlnet-xs-ngkyeIE7/lib/python3.11/site-packages/torch/nn/modules/module.py:1527\u001b[0m, in \u001b[0;36mModule._call_impl\u001b[0;34m(self, *args, **kwargs)\u001b[0m\n\u001b[1;32m   1522\u001b[0m \u001b[38;5;66;03m# If we don't have any hooks, we want to skip the rest of the logic in\u001b[39;00m\n\u001b[1;32m   1523\u001b[0m \u001b[38;5;66;03m# this function, and just call forward.\u001b[39;00m\n\u001b[1;32m   1524\u001b[0m \u001b[38;5;28;01mif\u001b[39;00m \u001b[38;5;129;01mnot\u001b[39;00m (\u001b[38;5;28mself\u001b[39m\u001b[38;5;241m.\u001b[39m_backward_hooks \u001b[38;5;129;01mor\u001b[39;00m \u001b[38;5;28mself\u001b[39m\u001b[38;5;241m.\u001b[39m_backward_pre_hooks \u001b[38;5;129;01mor\u001b[39;00m \u001b[38;5;28mself\u001b[39m\u001b[38;5;241m.\u001b[39m_forward_hooks \u001b[38;5;129;01mor\u001b[39;00m \u001b[38;5;28mself\u001b[39m\u001b[38;5;241m.\u001b[39m_forward_pre_hooks\n\u001b[1;32m   1525\u001b[0m         \u001b[38;5;129;01mor\u001b[39;00m _global_backward_pre_hooks \u001b[38;5;129;01mor\u001b[39;00m _global_backward_hooks\n\u001b[1;32m   1526\u001b[0m         \u001b[38;5;129;01mor\u001b[39;00m _global_forward_hooks \u001b[38;5;129;01mor\u001b[39;00m _global_forward_pre_hooks):\n\u001b[0;32m-> 1527\u001b[0m     \u001b[38;5;28;01mreturn\u001b[39;00m \u001b[43mforward_call\u001b[49m\u001b[43m(\u001b[49m\u001b[38;5;241;43m*\u001b[39;49m\u001b[43margs\u001b[49m\u001b[43m,\u001b[49m\u001b[43m \u001b[49m\u001b[38;5;241;43m*\u001b[39;49m\u001b[38;5;241;43m*\u001b[39;49m\u001b[43mkwargs\u001b[49m\u001b[43m)\u001b[49m\n\u001b[1;32m   1529\u001b[0m \u001b[38;5;28;01mtry\u001b[39;00m:\n\u001b[1;32m   1530\u001b[0m     result \u001b[38;5;241m=\u001b[39m \u001b[38;5;28;01mNone\u001b[39;00m\n",
      "File \u001b[0;32m~/Documents/GitHub/diffusers/diffusers/src/diffusers/models/controlnetxs.py:388\u001b[0m, in \u001b[0;36mControlNetXSModel.forward\u001b[0;34m(self, x, t, encoder_hidden_states, c, hint, no_control, **kwargs)\u001b[0m\n\u001b[1;32m    385\u001b[0m     h_base \u001b[38;5;241m=\u001b[39m m_base(h_base, temb, cemb)\n\u001b[1;32m    386\u001b[0m     debug_by_umer(\u001b[38;5;124m'\u001b[39m\u001b[38;5;124mdec\u001b[39m\u001b[38;5;124m'\u001b[39m, \u001b[38;5;124m'\u001b[39m\u001b[38;5;124mh_base\u001b[39m\u001b[38;5;124m'\u001b[39m, h_base)\n\u001b[0;32m--> 388\u001b[0m \u001b[43mdebug_save\u001b[49m\u001b[43m(\u001b[49m\u001b[43m)\u001b[49m\n\u001b[1;32m    390\u001b[0m \u001b[38;5;28;01mreturn\u001b[39;00m UNet2DConditionOutput(sample\u001b[38;5;241m=\u001b[39m\u001b[38;5;28mself\u001b[39m\u001b[38;5;241m.\u001b[39mbase_model\u001b[38;5;241m.\u001b[39mconv_out(h_base))\n",
      "File \u001b[0;32m~/Documents/GitHub/diffusers/diffusers/src/diffusers/models/controlnetxs.py:332\u001b[0m, in \u001b[0;36mControlNetXSModel.forward.<locals>.debug_save\u001b[0;34m()\u001b[0m\n\u001b[1;32m    330\u001b[0m \u001b[38;5;28;01mimport\u001b[39;00m \u001b[38;5;21;01mpickle\u001b[39;00m\n\u001b[1;32m    331\u001b[0m pickle\u001b[38;5;241m.\u001b[39mdump(debug_log, \u001b[38;5;28mopen\u001b[39m(\u001b[38;5;28mself\u001b[39m\u001b[38;5;241m.\u001b[39mDEBUG_LOG_by_Umer_file, \u001b[38;5;124m\"\u001b[39m\u001b[38;5;124mwb\u001b[39m\u001b[38;5;124m\"\u001b[39m))\n\u001b[0;32m--> 332\u001b[0m \u001b[38;5;28;01mraise\u001b[39;00m \u001b[38;5;167;01mRuntimeError\u001b[39;00m(\u001b[38;5;124m\"\u001b[39m\u001b[38;5;124mDebug Log saved successfully\u001b[39m\u001b[38;5;124m\"\u001b[39m)\n",
      "\u001b[0;31mRuntimeError\u001b[0m: Debug Log saved successfully"
     ]
    }
   ],
   "source": [
    "seed_everything(RANDOM_SEED_IN_PAPER)\n",
    "cnxs_pipe(prompt, negative_prompt=neg_prompt,image=three_edges, latents=rand_from_cloud)"
   ]
  },
  {
   "cell_type": "code",
   "execution_count": null,
   "id": "3661d580-d269-41dd-b1c8-e7f069e0203e",
   "metadata": {},
   "outputs": [],
   "source": []
  },
  {
   "cell_type": "code",
   "execution_count": null,
   "id": "3aa7f045-d389-4e2d-883e-07cd98960276",
   "metadata": {},
   "outputs": [],
   "source": []
  }
 ],
 "metadata": {
  "kernelspec": {
   "display_name": "Python 3 (ipykernel)",
   "language": "python",
   "name": "python3"
  },
  "language_info": {
   "codemirror_mode": {
    "name": "ipython",
    "version": 3
   },
   "file_extension": ".py",
   "mimetype": "text/x-python",
   "name": "python",
   "nbconvert_exporter": "python",
   "pygments_lexer": "ipython3",
   "version": "3.11.5"
  }
 },
 "nbformat": 4,
 "nbformat_minor": 5
}
