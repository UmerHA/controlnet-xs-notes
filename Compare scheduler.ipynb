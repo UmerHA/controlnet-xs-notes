{
 "cells": [
  {
   "cell_type": "code",
   "execution_count": 1,
   "id": "48b7949b-2aa4-4d34-a46d-cb10a36da62e",
   "metadata": {
    "tags": []
   },
   "outputs": [],
   "source": [
    "import os\n",
    "os.environ['CUBLAS_WORKSPACE_CONFIG'] = ':4096:8'  # needed to make torch deterministic"
   ]
  },
  {
   "cell_type": "code",
   "execution_count": 2,
   "id": "eb68b636-b0fc-4229-a9a7-ee462cf42551",
   "metadata": {
    "tags": []
   },
   "outputs": [],
   "source": [
    "import numpy as np\n",
    "import torch\n",
    "from torch import allclose, nn, tensor\n",
    "torch.set_printoptions(linewidth=200, precision=4, sci_mode=False)\n",
    "torch.use_deterministic_algorithms(True)"
   ]
  },
  {
   "cell_type": "code",
   "execution_count": 3,
   "id": "f8f1b1de-43b0-47d6-954e-dc73eabb8d4c",
   "metadata": {
    "tags": []
   },
   "outputs": [],
   "source": [
    "def seed_all(seed):\n",
    "    import torch\n",
    "    import numpy as np\n",
    "    import random\n",
    "\n",
    "    torch.manual_seed(seed)\n",
    "    torch.cuda.manual_seed_all(seed)\n",
    "    np.random.seed(seed)\n",
    "    random.seed(seed)"
   ]
  },
  {
   "cell_type": "code",
   "execution_count": 4,
   "id": "405ee20a-3745-4276-821c-fd513f91c74a",
   "metadata": {
    "tags": []
   },
   "outputs": [],
   "source": [
    "def print_dict(d):\n",
    "    for k,v in d.items():\n",
    "        if hasattr(v, 'item'): v=v.item() \n",
    "        print(f'{k}: {v:.4f}', end='     ')\n",
    "    print()"
   ]
  },
  {
   "cell_type": "code",
   "execution_count": 5,
   "id": "7f113dc0-9abd-42cc-a9d6-f82caa32af68",
   "metadata": {
    "tags": []
   },
   "outputs": [
    {
     "data": {
      "text/plain": [
       "(tensor([1., 1., 1., 1.]),\n",
       " tensor([-1., -1., -1., -1.]),\n",
       " tensor([100., 100., 100., 100.]))"
      ]
     },
     "execution_count": 5,
     "metadata": {},
     "output_type": "execute_result"
    }
   ],
   "source": [
    "pos =  torch.ones((2,2))\n",
    "neg = -torch.ones((2,2))\n",
    "pseudo_noise = 100 * torch.ones((2,2))\n",
    "\n",
    "pos.flatten(), neg.flatten(), pseudo_noise.flatten()"
   ]
  },
  {
   "cell_type": "code",
   "execution_count": null,
   "id": "7f04d009-0302-4114-ad4d-76b3110d622e",
   "metadata": {},
   "outputs": [],
   "source": []
  },
  {
   "cell_type": "markdown",
   "id": "3671f758-afba-41cf-801a-643af77e14cf",
   "metadata": {},
   "source": [
    "**Load Heidelberg scheduler**"
   ]
  },
  {
   "cell_type": "code",
   "execution_count": 6,
   "id": "13427018-2eb4-4d4f-af37-1f331de3eed9",
   "metadata": {
    "tags": []
   },
   "outputs": [
    {
     "name": "stderr",
     "output_type": "stream",
     "text": [
      "/opt/conda/lib/python3.10/site-packages/torchvision/transforms/functional_tensor.py:5: UserWarning: The torchvision.transforms.functional_tensor module is deprecated in 0.15 and will be **removed in 0.17**. Please don't rely on it. You probably just need to use APIs in torchvision.transforms.functional or in torchvision.transforms.v2.functional.\n",
      "  warnings.warn(\n"
     ]
    },
    {
     "name": "stdout",
     "output_type": "stream",
     "text": [
      "Downloading: \"https://huggingface.co/lllyasviel/ControlNet/resolve/main/annotator/ckpts/dpt_hybrid-midas-501f0c75.pt\" to /home/ControlNet-XS/annotator/ckpts/dpt_hybrid-midas-501f0c75.pt\n",
      "\n"
     ]
    },
    {
     "name": "stderr",
     "output_type": "stream",
     "text": [
      "100%|██████████| 470M/470M [00:04<00:00, 111MB/s]  \n",
      "/opt/conda/lib/python3.10/site-packages/timm/models/_factory.py:117: UserWarning: Mapping deprecated model name vit_base_resnet50_384 to current vit_base_r50_s16_384.orig_in21k_ft_in1k.\n",
      "  model = create_fn(\n"
     ]
    }
   ],
   "source": [
    "import scripts.control_utils as cu\n",
    "from ldm.models.diffusion.ddim import DDIMSampler"
   ]
  },
  {
   "cell_type": "code",
   "execution_count": 7,
   "id": "0d4eee37-faa8-40fb-bf94-bf11f63c3ef2",
   "metadata": {
    "tags": []
   },
   "outputs": [],
   "source": [
    "path_to_config = 'cnxs_config/sd/sd21_encD_canny_14m.yaml'"
   ]
  },
  {
   "cell_type": "markdown",
   "id": "d4868d81-fa1b-4012-81ef-abab0425c577",
   "metadata": {},
   "source": [
    "If this results in the kernel crashing, I'm using too much GPU memory elsewhere. Shut down every other kernel and try again."
   ]
  },
  {
   "cell_type": "code",
   "execution_count": 8,
   "id": "68f93ec9-6034-44ac-b839-6977bc052ca6",
   "metadata": {
    "tags": []
   },
   "outputs": [
    {
     "name": "stdout",
     "output_type": "stream",
     "text": [
      "TwoStreamControlLDM: Running in eps-prediction mode\n",
      "DiffusionWrapper has 865.91 M params.\n",
      "making attention of type 'vanilla-xformers' with 512 in_channels\n",
      "building MemoryEfficientAttnBlock with 512 in_channels...\n",
      "Working with z of shape (1, 4, 32, 32) = 4096 dimensions.\n",
      "making attention of type 'vanilla-xformers' with 512 in_channels\n",
      "building MemoryEfficientAttnBlock with 512 in_channels...\n",
      "[404 keys are missing from the model (hint processing and cross connections included)]\n",
      "['CONTROL WEIGHTS LOADED']\n",
      "Loaded model config from [cnxs_config/sd/sd21_encD_canny_14m.yaml]\n"
     ]
    }
   ],
   "source": [
    "model = cu.create_model(path_to_config).to('cpu')"
   ]
  },
  {
   "cell_type": "code",
   "execution_count": 9,
   "id": "0a170329-53a9-47a9-bb99-a83065e7cbdc",
   "metadata": {
    "tags": []
   },
   "outputs": [
    {
     "data": {
      "text/plain": [
       "'eps'"
      ]
     },
     "execution_count": 9,
     "metadata": {},
     "output_type": "execute_result"
    }
   ],
   "source": [
    "model.parameterization"
   ]
  },
  {
   "cell_type": "code",
   "execution_count": 10,
   "id": "4dcafa45-c04a-4ca9-b50c-3386a820d571",
   "metadata": {
    "tags": []
   },
   "outputs": [],
   "source": [
    "h_sampler = DDIMSampler(model)"
   ]
  },
  {
   "cell_type": "code",
   "execution_count": 11,
   "id": "b5545baf-b388-4d21-a1ca-27fc22ca5d14",
   "metadata": {
    "tags": []
   },
   "outputs": [
    {
     "data": {
      "text/plain": [
       "(1000, 'linear')"
      ]
     },
     "execution_count": 11,
     "metadata": {},
     "output_type": "execute_result"
    }
   ],
   "source": [
    "h_sampler.ddpm_num_timesteps, h_sampler.schedule"
   ]
  },
  {
   "cell_type": "code",
   "execution_count": 12,
   "id": "c078c467-0c4f-4f6a-ba5e-59ce782923ba",
   "metadata": {
    "tags": []
   },
   "outputs": [
    {
     "name": "stdout",
     "output_type": "stream",
     "text": [
      "Selected timesteps for ddim sampler: [  1  21  41  61  81 101 121 141 161 181 201 221 241 261 281 301 321 341\n",
      " 361 381 401 421 441 461 481 501 521 541 561 581 601 621 641 661 681 701\n",
      " 721 741 761 781 801 821 841 861 881 901 921 941 961 981]\n",
      "Selected alphas for ddim sampler: a_t: tensor([0.9983, 0.9804, 0.9609, 0.9398, 0.9171, 0.8930, 0.8674, 0.8404, 0.8121, 0.7827, 0.7521, 0.7207, 0.6885, 0.6557, 0.6224, 0.5888, 0.5551, 0.5215, 0.4882, 0.4552, 0.4229, 0.3913, 0.3605, 0.3308,\n",
      "        0.3023, 0.2750, 0.2490, 0.2245, 0.2014, 0.1799, 0.1598, 0.1413, 0.1243, 0.1087, 0.0946, 0.0819, 0.0705, 0.0604, 0.0514, 0.0435, 0.0365, 0.0305, 0.0254, 0.0210, 0.0172, 0.0140, 0.0113, 0.0091,\n",
      "        0.0073, 0.0058]); a_(t-1): [0.99914998 0.99829602 0.98038077 0.96087277 0.93978298 0.91713792\n",
      " 0.89298052 0.86737001 0.84038192 0.81210774 0.78265446 0.75214338\n",
      " 0.72070938 0.68849909 0.65566933 0.62238538 0.58881873 0.55514455\n",
      " 0.52153981 0.4881804  0.45523876 0.42288151 0.39126703 0.36054322\n",
      " 0.33084565 0.30229566 0.27499905 0.24904492 0.22450483 0.20143245\n",
      " 0.1798636  0.15981644 0.14129217 0.12427604 0.10873855 0.09463691\n",
      " 0.08191671 0.0705137  0.06035557 0.05136392 0.043456   0.03654652\n",
      " 0.03054927 0.02537862 0.02095082 0.01718517 0.0140049  0.01133791\n",
      " 0.00911731 0.00728173]\n",
      "For the chosen value of eta, which is 0.5, this results in the following sigma_t schedule for ddim sampler tensor([0.0103, 0.0197, 0.0499, 0.0597, 0.0662, 0.0714, 0.0761, 0.0804, 0.0845, 0.0885, 0.0924, 0.0963, 0.1001, 0.1038, 0.1076, 0.1113, 0.1150, 0.1186, 0.1223, 0.1259, 0.1295, 0.1331, 0.1367, 0.1403,\n",
      "        0.1438, 0.1474, 0.1509, 0.1544, 0.1580, 0.1614, 0.1649, 0.1684, 0.1718, 0.1752, 0.1787, 0.1820, 0.1854, 0.1887, 0.1921, 0.1954, 0.1987, 0.2019, 0.2052, 0.2084, 0.2116, 0.2147, 0.2179, 0.2210,\n",
      "        0.2241, 0.2272], dtype=torch.float64)\n"
     ]
    }
   ],
   "source": [
    "h_sampler.make_schedule(ddim_num_steps=50, ddim_eta=0.5, verbose=True)"
   ]
  },
  {
   "cell_type": "code",
   "execution_count": 13,
   "id": "16bcce7f-149b-4e01-853a-7c216c5649a1",
   "metadata": {
    "tags": []
   },
   "outputs": [
    {
     "data": {
      "text/plain": [
       "array([  1,  21,  41,  61,  81, 101, 121, 141, 161, 181, 201, 221, 241,\n",
       "       261, 281, 301, 321, 341, 361, 381, 401, 421, 441, 461, 481, 501,\n",
       "       521, 541, 561, 581, 601, 621, 641, 661, 681, 701, 721, 741, 761,\n",
       "       781, 801, 821, 841, 861, 881, 901, 921, 941, 961, 981])"
      ]
     },
     "execution_count": 13,
     "metadata": {},
     "output_type": "execute_result"
    }
   ],
   "source": [
    "h_sampler.ddim_timesteps"
   ]
  },
  {
   "cell_type": "code",
   "execution_count": null,
   "id": "590edf2b-37cd-41f9-a9b7-6f26beecea28",
   "metadata": {},
   "outputs": [],
   "source": []
  },
  {
   "cell_type": "code",
   "execution_count": 14,
   "id": "bce14641-f6b0-4109-b293-d44b25ed78cd",
   "metadata": {
    "tags": []
   },
   "outputs": [
    {
     "name": "stdout",
     "output_type": "stream",
     "text": [
      "alpha_t: 0.0058     alpha_(t-1): 0.0073     sqrt(1-alpha_t): 0.9971     sigma: 0.2272     \n"
     ]
    }
   ],
   "source": [
    "x = pos\n",
    "model_output = neg\n",
    "\n",
    "def make_shape(t): return torch.full((2, 1), t)\n",
    "\n",
    "a_t = make_shape(h_sampler.ddim_alphas[50-1])\n",
    "a_prev = make_shape(h_sampler.ddim_alphas_prev[50-1])\n",
    "sqrt_one_minus_at = make_shape(h_sampler.ddim_sqrt_one_minus_alphas[50-1])\n",
    "sigma_t = make_shape(h_sampler.ddim_sigmas[50-1])\n",
    "\n",
    "h_vars = {\n",
    "    'alpha_t': a_t[0],\n",
    "    'alpha_(t-1)': a_prev[0],\n",
    "    'sqrt(1-alpha_t)': sqrt_one_minus_at[0],\n",
    "    'sigma': sigma_t[0],\n",
    "}\n",
    "\n",
    "print_dict(h_vars)"
   ]
  },
  {
   "cell_type": "code",
   "execution_count": 15,
   "id": "049e99f0-d3af-44e7-a562-964ce96def5a",
   "metadata": {
    "tags": []
   },
   "outputs": [],
   "source": [
    "temperature = 1\n",
    "\n",
    "# model.parameterization == 'eps'\n",
    "pred_x0 = (x - sqrt_one_minus_at * model_output) / a_t.sqrt()\n",
    "dir_xt = (1. - a_prev - sigma_t**2).sqrt() * model_output\n",
    "noise = sigma_t * pseudo_noise * temperature\n",
    "\n",
    "h_res = a_prev.sqrt() * pred_x0 + dir_xt + noise"
   ]
  },
  {
   "cell_type": "code",
   "execution_count": 16,
   "id": "4f10a864-ee6a-4f11-8bc2-0ffd94ad0411",
   "metadata": {
    "tags": []
   },
   "outputs": [
    {
     "data": {
      "text/plain": [
       "tensor([[23.9955, 23.9955],\n",
       "        [23.9955, 23.9955]])"
      ]
     },
     "execution_count": 16,
     "metadata": {},
     "output_type": "execute_result"
    }
   ],
   "source": [
    "h_res"
   ]
  },
  {
   "cell_type": "code",
   "execution_count": null,
   "id": "80dd138f-959f-4e90-a04f-3f4568bd8cc4",
   "metadata": {
    "tags": []
   },
   "outputs": [],
   "source": []
  },
  {
   "cell_type": "markdown",
   "id": "f61446be-3c32-4818-afa1-a2bd108eea73",
   "metadata": {},
   "source": [
    "**Load diffusers scheduler**"
   ]
  },
  {
   "cell_type": "code",
   "execution_count": 17,
   "id": "55e7ed56-376f-4666-a937-541d288f6687",
   "metadata": {
    "tags": []
   },
   "outputs": [
    {
     "name": "stdout",
     "output_type": "stream",
     "text": [
      "Info: `UmerDebugLogger` created. This is a logging class that will be deleted when the PR to integrate ControlNet-XS is done.\n"
     ]
    }
   ],
   "source": [
    "from diffusers import StableDiffusionPipeline\n",
    "from diffusers import PNDMScheduler, DDIMScheduler"
   ]
  },
  {
   "cell_type": "code",
   "execution_count": 18,
   "id": "f5545656-cf74-429d-b4ed-24f0607c1dd6",
   "metadata": {
    "tags": []
   },
   "outputs": [
    {
     "name": "stderr",
     "output_type": "stream",
     "text": [
      "You have disabled the safety checker for <class 'diffusers.pipelines.stable_diffusion.pipeline_stable_diffusion.StableDiffusionPipeline'> by passing `safety_checker=None`. Ensure that you abide to the conditions of the Stable Diffusion license and do not expose unfiltered results in services or applications open to the public. Both the diffusers team and Hugging Face strongly recommend to keep the safety filter enabled in all public facing circumstances, disabling it only for use-cases that involve analyzing network behavior or auditing its results. For more information, please have a look at https://github.com/huggingface/diffusers/pull/254 .\n",
      "/home/diffusers/src/diffusers/configuration_utils.py:135: FutureWarning: Accessing config attribute `requires_safety_checker` directly via 'StableDiffusionPipeline' object attribute is deprecated. Please access 'requires_safety_checker' over 'StableDiffusionPipeline's config object instead, e.g. 'scheduler.config.requires_safety_checker'.\n",
      "  deprecate(\"direct config name access\", \"1.0.0\", deprecation_message, standard_warn=False)\n"
     ]
    }
   ],
   "source": [
    "sd_pipe = StableDiffusionPipeline.from_single_file('weights/sd/sd21/v2-1_512-ema-pruned.ckpt').to('cpu')"
   ]
  },
  {
   "cell_type": "code",
   "execution_count": 19,
   "id": "d907f261-8b49-43d0-9a15-f292b743d82a",
   "metadata": {
    "tags": []
   },
   "outputs": [],
   "source": [
    "scheduler_dict = dict(DDIMScheduler().config)\n",
    "for k,v in sd_pipe.scheduler.config.items():\n",
    "    if k in scheduler_dict: scheduler_dict[k]=v\n",
    "#scheduler_dict['eta'] = 1.0 -- will be passed as call arg\n",
    "\n",
    "d_scheduler = DDIMScheduler(**scheduler_dict)"
   ]
  },
  {
   "cell_type": "code",
   "execution_count": 20,
   "id": "3e2b437b-cf94-4503-add8-5a307a8595a8",
   "metadata": {
    "tags": []
   },
   "outputs": [
    {
     "data": {
      "text/plain": [
       "tensor([981, 961, 941, 921, 901, 881, 861, 841, 821, 801, 781, 761, 741, 721, 701, 681, 661, 641, 621, 601, 581, 561, 541, 521, 501, 481, 461, 441, 421, 401, 381, 361, 341, 321, 301, 281, 261, 241,\n",
       "        221, 201, 181, 161, 141, 121, 101,  81,  61,  41,  21,   1])"
      ]
     },
     "execution_count": 20,
     "metadata": {},
     "output_type": "execute_result"
    }
   ],
   "source": [
    "d_scheduler.set_timesteps(50)\n",
    "d_scheduler.timesteps"
   ]
  },
  {
   "cell_type": "code",
   "execution_count": 21,
   "id": "5400d1b7-b926-4060-b156-70f1c513ad1e",
   "metadata": {
    "tags": []
   },
   "outputs": [],
   "source": [
    "seed_all(0)\n",
    "d_res = d_scheduler.step(model_output=neg, timestep=981, sample=pos, eta=0.5, return_dict=False)[0]"
   ]
  },
  {
   "cell_type": "code",
   "execution_count": 22,
   "id": "6cfb62e5-e176-4b7f-a73a-506ef00ea0e4",
   "metadata": {
    "tags": []
   },
   "outputs": [
    {
     "data": {
      "text/plain": [
       "tensor([[1.3353, 0.9185],\n",
       "        [0.4900, 1.1143]])"
      ]
     },
     "execution_count": 22,
     "metadata": {},
     "output_type": "execute_result"
    }
   ],
   "source": [
    "d_res"
   ]
  },
  {
   "cell_type": "markdown",
   "id": "0527ac7d-6bf7-4bab-b468-24e817f20dcb",
   "metadata": {},
   "source": [
    "Let's execute 1 step manually"
   ]
  },
  {
   "cell_type": "code",
   "execution_count": 23,
   "id": "a1eba814-96ec-4ca8-811a-06bbf2b5c50c",
   "metadata": {
    "tags": []
   },
   "outputs": [
    {
     "data": {
      "text/plain": [
       "(1000, 50)"
      ]
     },
     "execution_count": 23,
     "metadata": {},
     "output_type": "execute_result"
    }
   ],
   "source": [
    "d_scheduler.config.num_train_timesteps, d_scheduler.num_inference_steps"
   ]
  },
  {
   "cell_type": "code",
   "execution_count": 24,
   "id": "9a2adbf0-80dd-4ba3-a03b-c110ca1fdfc1",
   "metadata": {
    "tags": []
   },
   "outputs": [],
   "source": [
    "seed_all(0)\n",
    "\n",
    "sample = pos # previous latent\n",
    "model_output = neg # current noise prediction\n",
    "eta = 0.5\n",
    "\n",
    "timestep = 981\n",
    "# 1. get previous step value (=t-1)\n",
    "prev_timestep = 981 - 1000 // 50\n",
    "\n",
    "# 2. compute alphas, betas\n",
    "alpha_prod_t = d_scheduler.alphas_cumprod[timestep]\n",
    "alpha_prod_t_prev = d_scheduler.alphas_cumprod[prev_timestep]\n",
    "\n",
    "beta_prod_t = 1 - alpha_prod_t\n",
    "\n",
    "# 3. compute predicted original sample from predicted noise also called\n",
    "# \"predicted x_0\" of formula (12) from https://arxiv.org/pdf/2010.02502.pdf\n",
    "\n",
    "# self.config.prediction_type == \"v_prediction\":\n",
    "pred_original_sample = (alpha_prod_t**0.5) * sample - (beta_prod_t**0.5) * model_output\n",
    "pred_epsilon = (alpha_prod_t**0.5) * model_output + (beta_prod_t**0.5) * sample\n",
    "\n",
    "# 5. compute variance: \"sigma_t(η)\" -> see formula (16)\n",
    "# σ_t = sqrt((1 − α_t−1)/(1 − α_t)) * sqrt(1 − α_t/α_t−1)\n",
    "variance = d_scheduler._get_variance(timestep, prev_timestep)\n",
    "std_dev_t = eta * variance ** (0.5)\n",
    "\n",
    "d_vars = {\n",
    "    'alpha_t': alpha_prod_t,\n",
    "    'alpha_(t-1)': alpha_prod_t_prev,\n",
    "    'sqrt(1-alpha_t)': (1-alpha_prod_t).sqrt(),\n",
    "    'sigma': std_dev_t,\n",
    "}\n",
    "\n",
    "# 6. compute \"direction pointing to x_t\" of formula (12) from https://arxiv.org/pdf/2010.02502.pdf\n",
    "pred_sample_direction = (1 - alpha_prod_t_prev - std_dev_t**2) ** (0.5) * pred_epsilon\n",
    "\n",
    "# 7. compute x_t without \"random noise\" of formula (12) from https://arxiv.org/pdf/2010.02502.pdf\n",
    "prev_sample = alpha_prod_t_prev ** (0.5) * pred_original_sample + pred_sample_direction\n",
    "\n",
    "variance_noise = pseudo_noise\n",
    "\n",
    "variance = std_dev_t * variance_noise\n",
    "prev_sample = prev_sample + variance\n",
    "\n",
    "d_res = prev_sample"
   ]
  },
  {
   "cell_type": "code",
   "execution_count": 25,
   "id": "4ccb9d4f-6c25-4439-90fe-bf37762563fe",
   "metadata": {
    "tags": []
   },
   "outputs": [
    {
     "name": "stdout",
     "output_type": "stream",
     "text": [
      "alpha_t: 0.0058     alpha_(t-1): 0.0073     sqrt(1-alpha_t): 0.9971     sigma: 0.2272     \n",
      "alpha_t: 0.0058     alpha_(t-1): 0.0073     sqrt(1-alpha_t): 0.9971     sigma: 0.2272     \n"
     ]
    }
   ],
   "source": [
    "print_dict(h_vars)\n",
    "print_dict(d_vars)"
   ]
  },
  {
   "cell_type": "code",
   "execution_count": 26,
   "id": "d947d4c0-c787-4042-8767-cc26b01a63cc",
   "metadata": {
    "tags": []
   },
   "outputs": [
    {
     "data": {
      "text/plain": [
       "tensor([[23.7083, 23.7083],\n",
       "        [23.7083, 23.7083]])"
      ]
     },
     "execution_count": 26,
     "metadata": {},
     "output_type": "execute_result"
    }
   ],
   "source": [
    "d_res"
   ]
  },
  {
   "cell_type": "code",
   "execution_count": 27,
   "id": "fc95ba2e-8484-4918-9988-4133f02396c1",
   "metadata": {
    "tags": []
   },
   "outputs": [
    {
     "data": {
      "text/plain": [
       "tensor([[23.9955, 23.9955],\n",
       "        [23.9955, 23.9955]])"
      ]
     },
     "execution_count": 27,
     "metadata": {},
     "output_type": "execute_result"
    }
   ],
   "source": [
    "h_res"
   ]
  },
  {
   "cell_type": "code",
   "execution_count": null,
   "id": "3f9d55c5-df41-4ef1-992c-9ef55dd37665",
   "metadata": {},
   "outputs": [],
   "source": []
  },
  {
   "cell_type": "markdown",
   "id": "c7a63764-14c3-4dba-a9a4-455a4b6d3b8e",
   "metadata": {},
   "source": [
    "**Let's compare the scheduler substeps of Heidelberg and diffusers side-by-side**"
   ]
  },
  {
   "cell_type": "code",
   "execution_count": 40,
   "id": "7272399c-f2b6-41cd-a567-0d612405d4b3",
   "metadata": {
    "tags": []
   },
   "outputs": [],
   "source": [
    "assert (x==sample).all()\n",
    "f = model_output"
   ]
  },
  {
   "cell_type": "code",
   "execution_count": 41,
   "id": "232ea299-6eed-4686-86ae-e277e3a67ede",
   "metadata": {
    "tags": []
   },
   "outputs": [],
   "source": [
    "h_α      = h_vars['alpha_t']\n",
    "h_α_prev = h_vars['alpha_(t-1)']\n",
    "h_β      = h_vars['sqrt(1-alpha_t)']**2\n",
    "h_σ      = h_vars['sigma']\n",
    "\n",
    "d_α      = d_vars['alpha_t']\n",
    "d_α_prev = d_vars['alpha_(t-1)']\n",
    "d_β      = d_vars['sqrt(1-alpha_t)']**2\n",
    "d_σ      = d_vars['sigma']"
   ]
  },
  {
   "cell_type": "code",
   "execution_count": 62,
   "id": "c35e1bdb-c20f-4411-804c-4380855b6891",
   "metadata": {
    "tags": []
   },
   "outputs": [],
   "source": [
    "temp = 1\n",
    "\n",
    "h_pred_x0 = (x - d_β.sqrt()*f) / h_α.sqrt()\n",
    "h_dir_xt  = (1. - h_α_prev - h_σ**2).sqrt() * f\n",
    "\n",
    "n = h_σ * pseudo_noise * temp\n",
    "\n",
    "h_x_prev = h_α_prev.sqrt()*h_pred_x0 + h_dir_xt + n"
   ]
  },
  {
   "cell_type": "code",
   "execution_count": 63,
   "id": "4e7e712c-33eb-44c6-a1f9-c5e6d05c430c",
   "metadata": {
    "tags": []
   },
   "outputs": [
    {
     "data": {
      "text/plain": [
       "tensor([23.9955, 23.9955, 23.9955, 23.9955])"
      ]
     },
     "execution_count": 63,
     "metadata": {},
     "output_type": "execute_result"
    }
   ],
   "source": [
    "h_x_prev.flatten()"
   ]
  },
  {
   "cell_type": "code",
   "execution_count": 64,
   "id": "19c8c2c3-2993-4c47-9835-3a7e5e318381",
   "metadata": {
    "tags": []
   },
   "outputs": [],
   "source": [
    "d_pred_x0 = (x - d_β.sqrt()*f) / d_α.sqrt()\n",
    "d_dir_xt = (1. - h_α_prev - d_σ**2).sqrt() * pred_epsilon\n",
    "\n",
    "n = d_σ * pseudo_noise\n",
    "\n",
    "d_res = d_α_prev.sqrt()*d_pred_x0 + d_dir_xt + n"
   ]
  },
  {
   "cell_type": "code",
   "execution_count": 65,
   "id": "7fc472b4-8170-493e-a86d-709597b94ba8",
   "metadata": {
    "tags": []
   },
   "outputs": [
    {
     "data": {
      "text/plain": [
       "tensor([23.9955, 23.9955, 23.9955, 23.9955])"
      ]
     },
     "execution_count": 65,
     "metadata": {},
     "output_type": "execute_result"
    }
   ],
   "source": [
    "d_res.flatten()"
   ]
  },
  {
   "cell_type": "code",
   "execution_count": null,
   "id": "4839a21d-3b5d-44eb-adb5-7dd8850150a6",
   "metadata": {
    "tags": []
   },
   "outputs": [],
   "source": []
  },
  {
   "cell_type": "code",
   "execution_count": null,
   "id": "2c433aa6-0159-43ae-956d-23f59fec6f6e",
   "metadata": {},
   "outputs": [],
   "source": []
  }
 ],
 "metadata": {
  "kernelspec": {
   "display_name": "Python 3 (ipykernel)",
   "language": "python",
   "name": "python3"
  },
  "language_info": {
   "codemirror_mode": {
    "name": "ipython",
    "version": 3
   },
   "file_extension": ".py",
   "mimetype": "text/x-python",
   "name": "python",
   "nbconvert_exporter": "python",
   "pygments_lexer": "ipython3",
   "version": "3.10.13"
  }
 },
 "nbformat": 4,
 "nbformat_minor": 5
}
