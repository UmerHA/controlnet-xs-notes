{
 "cells": [
  {
   "cell_type": "markdown",
   "id": "9c03482b-5e75-4388-9c3e-8017d1ece5d0",
   "metadata": {},
   "source": [
    "In this notebook, I test loading SDXL"
   ]
  },
  {
   "cell_type": "markdown",
   "id": "f2600dbd-f256-4919-a3e7-a374cf5dfd65",
   "metadata": {},
   "source": [
    "___"
   ]
  },
  {
   "cell_type": "markdown",
   "id": "3aeff9cf-99e1-4a68-93e4-d060e7e31ef9",
   "metadata": {
    "tags": []
   },
   "source": [
    "Hypothesis: This code doesn't run after doing \n",
    "`!pip install -r ControlNet-XS/requirements/pt2.txt -qq`\n",
    "\n",
    "Edit: Yes, seems correct. So when this doesn't work, restart the instance and run this code before installing controlnet-xs"
   ]
  },
  {
   "cell_type": "code",
   "execution_count": 1,
   "id": "360c2e14-89f9-4db4-8f59-036e64a79ab4",
   "metadata": {
    "tags": []
   },
   "outputs": [],
   "source": [
    "import torch"
   ]
  },
  {
   "cell_type": "code",
   "execution_count": 2,
   "id": "2d64fa31-c1f8-4ab8-b620-7e8d8861c975",
   "metadata": {
    "tags": []
   },
   "outputs": [],
   "source": [
    "from diffusers import StableDiffusionXLPipeline"
   ]
  },
  {
   "cell_type": "code",
   "execution_count": 3,
   "id": "497f055d-a664-4ab9-aa48-20c454cb8605",
   "metadata": {
    "tags": []
   },
   "outputs": [
    {
     "data": {
      "application/vnd.jupyter.widget-view+json": {
       "model_id": "c1f31f3eebba4d79b73316bbf5a9cddc",
       "version_major": 2,
       "version_minor": 0
      },
      "text/plain": [
       "Loading pipeline components...:   0%|          | 0/7 [00:00<?, ?it/s]"
      ]
     },
     "metadata": {},
     "output_type": "display_data"
    }
   ],
   "source": [
    "pipexl = StableDiffusionXLPipeline.from_pretrained(\"stabilityai/stable-diffusion-xl-base-1.0\", torch_dtype=torch.float16, use_safetensors=True)"
   ]
  },
  {
   "cell_type": "code",
   "execution_count": 4,
   "id": "3c703439-f926-4e94-be57-73c592fa80ee",
   "metadata": {},
   "outputs": [],
   "source": [
    "pipexl.save_pretrained('weights/sdxl')"
   ]
  },
  {
   "cell_type": "markdown",
   "id": "aa9fc98f-0155-4157-9054-725bbdda9ce7",
   "metadata": {},
   "source": [
    "___"
   ]
  },
  {
   "cell_type": "markdown",
   "id": "e2b239e5-e499-41ed-828a-f907afee647e",
   "metadata": {},
   "source": [
    "According to Patrik von Platen the below is the same as `sd_xl_base_1.0_0.9vae.safetensors` (https://github.com/huggingface/diffusers/issues/4363)"
   ]
  },
  {
   "cell_type": "code",
   "execution_count": 5,
   "id": "9d90dc46-c41e-42fe-a21f-5e3e8c3215b5",
   "metadata": {},
   "outputs": [
    {
     "data": {
      "application/vnd.jupyter.widget-view+json": {
       "model_id": "af36f47652a3431f98eff95d0c1b47a4",
       "version_major": 2,
       "version_minor": 0
      },
      "text/plain": [
       "Loading pipeline components...:   0%|          | 0/5 [00:00<?, ?it/s]"
      ]
     },
     "metadata": {},
     "output_type": "display_data"
    },
    {
     "name": "stderr",
     "output_type": "stream",
     "text": [
      "You have disabled the safety checker for <class 'diffusers.pipelines.stable_diffusion.pipeline_stable_diffusion.StableDiffusionPipeline'> by passing `safety_checker=None`. Ensure that you abide to the conditions of the Stable Diffusion license and do not expose unfiltered results in services or applications open to the public. Both the diffusers team and Hugging Face strongly recommend to keep the safety filter enabled in all public facing circumstances, disabling it only for use-cases that involve analyzing network behavior or auditing its results. For more information, please have a look at https://github.com/huggingface/diffusers/pull/254 .\n"
     ]
    }
   ],
   "source": [
    "from diffusers.models import AutoencoderKL\n",
    "from diffusers import StableDiffusionPipeline\n",
    "\n",
    "model = \"stabilityai/stable-diffusion-xl-base-1.0\"\n",
    "vae = AutoencoderKL.from_pretrained(\"stabilityai/sdxl-vae\")\n",
    "\n",
    "pipe_xl_vae = StableDiffusionPipeline.from_pretrained(model, vae=vae)"
   ]
  },
  {
   "cell_type": "code",
   "execution_count": 6,
   "id": "994a552b-90eb-4df5-8f1b-b104ae7da1eb",
   "metadata": {},
   "outputs": [],
   "source": [
    "pipe_xl_vae.save_pretrained('weights/sdxlvae')"
   ]
  },
  {
   "cell_type": "code",
   "execution_count": null,
   "id": "3c527ba7-9e0f-4681-bcfd-bcdb6c3c4aa8",
   "metadata": {},
   "outputs": [],
   "source": []
  }
 ],
 "metadata": {
  "kernelspec": {
   "display_name": "Python 3 (ipykernel)",
   "language": "python",
   "name": "python3"
  },
  "language_info": {
   "codemirror_mode": {
    "name": "ipython",
    "version": 3
   },
   "file_extension": ".py",
   "mimetype": "text/x-python",
   "name": "python",
   "nbconvert_exporter": "python",
   "pygments_lexer": "ipython3",
   "version": "3.11.5"
  }
 },
 "nbformat": 4,
 "nbformat_minor": 5
}
