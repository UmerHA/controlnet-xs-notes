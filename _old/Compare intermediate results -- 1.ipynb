{
 "cells": [
  {
   "cell_type": "markdown",
   "id": "30794abe-5ec0-4ecd-90c5-5ef222fc2e48",
   "metadata": {},
   "source": [
    "Here, I do 1 `forward` pass and manually compare each intermediate output with the cloud version."
   ]
  },
  {
   "cell_type": "code",
   "execution_count": 1,
   "id": "2fa846a7-09c0-472e-b00b-53e1946eb913",
   "metadata": {},
   "outputs": [],
   "source": [
    "import torch\n",
    "from torch.testing import assert_close"
   ]
  },
  {
   "cell_type": "code",
   "execution_count": 2,
   "id": "18ae4f5a-d7eb-4471-be6f-cae1f309ed92",
   "metadata": {},
   "outputs": [],
   "source": [
    "device = 'cuda' if torch.cuda.is_available() else 'mps'\n",
    "device_dtype = torch.float16 if device == 'cuda' else torch.float32"
   ]
  },
  {
   "cell_type": "markdown",
   "id": "c739024d-d8ee-4aee-882c-9c5388ff6057",
   "metadata": {},
   "source": [
    "## Load the model"
   ]
  },
  {
   "cell_type": "code",
   "execution_count": 3,
   "id": "c565cf82-1eaa-4e68-8d35-a6459ee60097",
   "metadata": {
    "tags": []
   },
   "outputs": [],
   "source": [
    "from diffusers import StableDiffusionXLPipeline"
   ]
  },
  {
   "cell_type": "code",
   "execution_count": 4,
   "id": "e0b304d6-cb41-49f5-849d-3e955da3e5e6",
   "metadata": {
    "tags": []
   },
   "outputs": [
    {
     "name": "stdout",
     "output_type": "stream",
     "text": [
      "At the end of __init__, the sigmas are tensor([14.6146, 14.5263, 14.4386, 14.3515, 14.2651]) ...\n",
      "At the end of __init__, the sigmas are tensor([14.6146, 14.5263, 14.4386, 14.3515, 14.2651]) ...\n"
     ]
    }
   ],
   "source": [
    "sdxl_pipe = StableDiffusionXLPipeline.from_single_file('weights/sdxl/sd_xl_base_1.0_0.9vae.safetensors').to(device)"
   ]
  },
  {
   "cell_type": "code",
   "execution_count": 5,
   "id": "1af1ff7f-cb94-448b-9988-6a309b56cd9e",
   "metadata": {},
   "outputs": [],
   "source": [
    "from diffusers.models.controlnetxs import ControlNetXSModel"
   ]
  },
  {
   "cell_type": "code",
   "execution_count": 6,
   "id": "0c2582ea-ca24-4af6-917f-b66b41b386c6",
   "metadata": {},
   "outputs": [],
   "source": [
    "cnxs = ControlNetXSModel.from_pretrained('weights/cnxs').to(device)"
   ]
  },
  {
   "cell_type": "markdown",
   "id": "0b7758a1-6260-4d2c-a874-b63271eb9b61",
   "metadata": {},
   "source": [
    "The example script of Heidelberg manually sets scale_list to 0.95"
   ]
  },
  {
   "cell_type": "code",
   "execution_count": 7,
   "id": "1b7f0107-b0ff-4989-aabf-533638fb7eb8",
   "metadata": {},
   "outputs": [],
   "source": [
    "cnxs.scale_list = cnxs.scale_list * 0. + 0.95"
   ]
  },
  {
   "cell_type": "code",
   "execution_count": 8,
   "id": "fe477662-9cf0-4bdc-8b65-e6a771e60d5e",
   "metadata": {},
   "outputs": [],
   "source": [
    "cnxs.base_model = sdxl_pipe.unet"
   ]
  },
  {
   "cell_type": "markdown",
   "id": "e9b95d9c-ac7a-42d3-82cf-4eef25a591ae",
   "metadata": {},
   "source": [
    "Heidelberg uses `timestep_spacing = 'linspace'` in their scheduler, so let's do that as well"
   ]
  },
  {
   "cell_type": "code",
   "execution_count": 9,
   "id": "78ee1d98-4e2d-48b6-a09d-ac771c916ff8",
   "metadata": {},
   "outputs": [],
   "source": [
    "from diffusers import EulerDiscreteScheduler"
   ]
  },
  {
   "cell_type": "code",
   "execution_count": 10,
   "id": "ca82d739-fb30-429a-a902-3e711428ffa5",
   "metadata": {},
   "outputs": [
    {
     "name": "stdout",
     "output_type": "stream",
     "text": [
      "At the end of __init__, the sigmas are tensor([14.6146, 14.5263, 14.4386, 14.3515, 14.2651]) ...\n"
     ]
    }
   ],
   "source": [
    "scheduler_cgf = dict(sdxl_pipe.scheduler.config)\n",
    "scheduler_cgf['timestep_spacing'] = 'linspace'\n",
    "sdxl_pipe.scheduler = EulerDiscreteScheduler.from_config(scheduler_cgf)\n",
    "\n",
    "# test it worked\n",
    "sdxl_pipe.scheduler.set_timesteps(50)\n",
    "assert sdxl_pipe.scheduler.timesteps[0]==999\n",
    "\n",
    "# reset\n",
    "sdxl_pipe.scheduler = EulerDiscreteScheduler.from_config(scheduler_cgf)"
   ]
  },
  {
   "cell_type": "code",
   "execution_count": 11,
   "id": "facb413b-0eeb-4e41-bbef-2113e31a13a4",
   "metadata": {},
   "outputs": [],
   "source": [
    "assert cnxs.scale_list[0] == .95"
   ]
  },
  {
   "cell_type": "code",
   "execution_count": null,
   "id": "8b3420c0-fe81-4294-a197-0a8f47e9a9b1",
   "metadata": {},
   "outputs": [],
   "source": []
  },
  {
   "cell_type": "code",
   "execution_count": 12,
   "id": "50fa0b72-2fb3-40f4-a53a-129fb530b8aa",
   "metadata": {},
   "outputs": [],
   "source": [
    "from diffusers.pipelines.controlnet_xs.pipeline_controlnet_xs_sd_xl import StableDiffusionXLControlNetXSPipeline"
   ]
  },
  {
   "cell_type": "code",
   "execution_count": 13,
   "id": "a120b84b-1126-4d6c-b08e-8114b5761c25",
   "metadata": {},
   "outputs": [],
   "source": [
    "cnxs_pipe = StableDiffusionXLControlNetXSPipeline(\n",
    "    vae=sdxl_pipe.vae,\n",
    "    text_encoder=sdxl_pipe.text_encoder,\n",
    "    text_encoder_2=sdxl_pipe.text_encoder_2,\n",
    "    tokenizer=sdxl_pipe.tokenizer,\n",
    "    tokenizer_2=sdxl_pipe.tokenizer_2,\n",
    "    unet=sdxl_pipe.unet,\n",
    "    controlnet=cnxs,\n",
    "    scheduler=sdxl_pipe.scheduler,\n",
    ")"
   ]
  },
  {
   "cell_type": "markdown",
   "id": "994cd8cf-1682-47e5-a7ff-4ccb3095ad61",
   "metadata": {},
   "source": [
    "___"
   ]
  },
  {
   "cell_type": "markdown",
   "id": "1b393e7e-b0c3-4563-8320-2f94c48d6e35",
   "metadata": {},
   "source": [
    "## Run 1 step locally"
   ]
  },
  {
   "cell_type": "code",
   "execution_count": 14,
   "id": "1bcc64c9-621e-458e-a06c-13182ed0bd4d",
   "metadata": {},
   "outputs": [],
   "source": [
    "import numpy as np\n",
    "import cv2\n",
    "from diffusers.utils import load_image\n",
    "import matplotlib.pyplot as plt"
   ]
  },
  {
   "cell_type": "code",
   "execution_count": 15,
   "id": "ac863c48-2462-414f-b561-81b22807cd9c",
   "metadata": {},
   "outputs": [],
   "source": [
    "class CannyDetector:\n",
    "    def __call__(self, img, low_threshold, high_threshold):\n",
    "        return cv2.Canny(img, low_threshold, high_threshold)\n",
    "\n",
    "def get_canny_edges(image, threshold=(100, 250)):\n",
    "    image = np.array(image).astype(np.uint8)\n",
    "    edges = CannyDetector()(image, *threshold)  # original sized greyscale edges\n",
    "    edges = edges / 255.\n",
    "    return edges"
   ]
  },
  {
   "cell_type": "markdown",
   "id": "96976492-19da-4886-b3c5-7f9ec01a3c74",
   "metadata": {},
   "source": [
    "Let's fix the random seed so we get the same results as the paper. (The paper uses `pytorch_lightning.utilities.seed.seed_everything` which is doesn't exist anymore)."
   ]
  },
  {
   "cell_type": "code",
   "execution_count": 16,
   "id": "6a5904be-f90c-4d83-bc2e-f118511fa2da",
   "metadata": {},
   "outputs": [],
   "source": [
    "import random\n",
    "import numpy as np\n",
    "import torch\n",
    "\n",
    "def seed_everything(seed):\n",
    "    # paper used deprecated `seed_everything` from pytorch lightning\n",
    "    random.seed(seed)\n",
    "    np.random.seed(seed)\n",
    "    torch.manual_seed(seed)\n",
    "    torch.use_deterministic_algorithms(True)\n",
    "\n",
    "RANDOM_SEED_IN_PAPER = 1999158951"
   ]
  },
  {
   "cell_type": "markdown",
   "id": "6bcc45e3-a055-4496-95e6-8202665d2b14",
   "metadata": {},
   "source": [
    "Let's also use the same latents as was used with the Heidelberg CVL implementation"
   ]
  },
  {
   "cell_type": "code",
   "execution_count": 17,
   "id": "de2317fe-6fd9-413e-a220-2c04da8c2630",
   "metadata": {},
   "outputs": [],
   "source": [
    "latents_sdxl_cloud = torch.load('latents_cloud_no_control.pth', map_location=torch.device(device))\n",
    "rand_from_cloud = latents_sdxl_cloud[0]"
   ]
  },
  {
   "cell_type": "code",
   "execution_count": 18,
   "id": "f53b10e9-07cc-41cf-9626-5904ae52ffe0",
   "metadata": {},
   "outputs": [
    {
     "data": {
      "text/plain": [
       "torch.Size([1, 4, 96, 96])"
      ]
     },
     "execution_count": 18,
     "metadata": {},
     "output_type": "execute_result"
    }
   ],
   "source": [
    "rand_from_cloud.shape"
   ]
  },
  {
   "cell_type": "code",
   "execution_count": 19,
   "id": "88fa9e0d-4bef-490a-b14f-c7fa89246caf",
   "metadata": {},
   "outputs": [
    {
     "data": {
      "text/plain": [
       "(tensor(0.0021, device='mps:0'), tensor(14.6598, device='mps:0'))"
      ]
     },
     "execution_count": 19,
     "metadata": {},
     "output_type": "execute_result"
    }
   ],
   "source": [
    "rand_from_cloud.mean(), rand_from_cloud.std()"
   ]
  },
  {
   "cell_type": "markdown",
   "id": "0a147faa-6a0d-4a9d-9435-5a414e8fb988",
   "metadata": {},
   "source": [
    "**Note:** The seed from the cloud is not N(0,1) distirbuted. I seem to have downlaoded the seed *after* the scaling, so let's unscale it manually. The number `14.6146` is the first `sigma` from `EulerDiscreteScheduler` when using `timestep_spacing = 'linear'`."
   ]
  },
  {
   "cell_type": "code",
   "execution_count": 20,
   "id": "74aeac25-77a0-477e-8c7e-0891f1ff91ca",
   "metadata": {},
   "outputs": [],
   "source": [
    "rand_from_cloud /= 14.6146"
   ]
  },
  {
   "cell_type": "markdown",
   "id": "76f5d2f6-7a28-4d41-88ed-240f56b0e656",
   "metadata": {},
   "source": [
    "**Edit:** Let's not use the 0th latents and scale it manually (I shoud already be N(0,1)...), but instead use x directly"
   ]
  },
  {
   "cell_type": "code",
   "execution_count": 21,
   "id": "6cd79923-8762-4529-ac72-e2af12e3e9a5",
   "metadata": {},
   "outputs": [],
   "source": [
    "from util_inspect import load_intermediate_outputs"
   ]
  },
  {
   "cell_type": "code",
   "execution_count": 22,
   "id": "97e7ca09-44ad-41d8-965f-0e3d792aabe0",
   "metadata": {},
   "outputs": [],
   "source": [
    "cloud_intermediate_oututs = load_intermediate_outputs('intermediate_output/cloud_debug_log.pkl')\n",
    "assert cloud_intermediate_oututs[0].msg=='x'\n",
    "# dim 0 is doubled in x (due to cfg)\n",
    "assert (cloud_intermediate_oututs[0].t[0]==cloud_intermediate_oututs[0].t[1]).all()\n",
    "assert rand_from_cloud.shape==cloud_intermediate_oututs[0].t[0][None,:].shape\n",
    "rand_from_cloud = cloud_intermediate_oututs[0].t[0][None,:]"
   ]
  },
  {
   "cell_type": "code",
   "execution_count": 23,
   "id": "f520569f-eef4-4d8d-8a9a-f75463c62a1a",
   "metadata": {},
   "outputs": [
    {
     "data": {
      "text/plain": [
       "(tensor(0.0001), tensor(1.0008))"
      ]
     },
     "execution_count": 23,
     "metadata": {},
     "output_type": "execute_result"
    }
   ],
   "source": [
    "rand_from_cloud.mean(), rand_from_cloud.std()"
   ]
  },
  {
   "cell_type": "code",
   "execution_count": null,
   "id": "f8414ebb-abd9-4efd-9b2e-41f1b8a275f1",
   "metadata": {},
   "outputs": [],
   "source": []
  },
  {
   "cell_type": "markdown",
   "id": "9d182337-2261-4e04-9618-60abb00f4a11",
   "metadata": {},
   "source": [
    "Some prep to better inspect the denoising process"
   ]
  },
  {
   "cell_type": "code",
   "execution_count": 24,
   "id": "db9b5e5b-247b-4652-9357-588bc024e5e0",
   "metadata": {},
   "outputs": [],
   "source": [
    "from util_plot import save_latents, plot_latents_to_pil_grid, real_idx"
   ]
  },
  {
   "cell_type": "markdown",
   "id": "fa69966a-cc57-462e-9180-0688763997e5",
   "metadata": {},
   "source": [
    "Okay, let's go"
   ]
  },
  {
   "cell_type": "code",
   "execution_count": 25,
   "id": "167c4ba0-264e-407a-9e0f-2902b4ac1078",
   "metadata": {},
   "outputs": [],
   "source": [
    "prompt = 'cinematic, shoe in the streets, made from meat, photorealistic shoe, highly detailed'\n",
    "neg_prompt = 'lowres, bad anatomy, worst quality, low quality'"
   ]
  },
  {
   "cell_type": "code",
   "execution_count": 26,
   "id": "cd8b4081-61b5-4691-970f-f25962adac2c",
   "metadata": {},
   "outputs": [],
   "source": [
    "image = load_image('input_images/shoe_cloud.png')\n",
    "edges = get_canny_edges(image)"
   ]
  },
  {
   "cell_type": "code",
   "execution_count": 27,
   "id": "aa4b085f-61d5-4416-8b30-3aed674e8a4a",
   "metadata": {},
   "outputs": [
    {
     "data": {
      "text/plain": [
       "torch.Size([3, 768, 768])"
      ]
     },
     "execution_count": 27,
     "metadata": {},
     "output_type": "execute_result"
    }
   ],
   "source": [
    "edges_tensor = torch.tensor(edges)\n",
    "three_edges = torch.stack((edges_tensor,edges_tensor,edges_tensor))\n",
    "three_edges.shape"
   ]
  },
  {
   "cell_type": "code",
   "execution_count": 28,
   "id": "91ec6c47-b9f0-4760-a351-431d48be954c",
   "metadata": {},
   "outputs": [
    {
     "data": {
      "text/plain": [
       "<matplotlib.image.AxesImage at 0x2878cbb10>"
      ]
     },
     "execution_count": 28,
     "metadata": {},
     "output_type": "execute_result"
    },
    {
     "data": {
      "image/png": "[encoded data removed]",
      "text/plain": [
       "<Figure size 640x480 with 1 Axes>"
      ]
     },
     "metadata": {},
     "output_type": "display_data"
    }
   ],
   "source": [
    "plt.imshow(edges)"
   ]
  },
  {
   "cell_type": "code",
   "execution_count": 29,
   "id": "afd9f997-e0fb-4145-8e3f-ef54dda6c10d",
   "metadata": {},
   "outputs": [
    {
     "data": {
      "text/plain": [
       "False"
      ]
     },
     "execution_count": 29,
     "metadata": {},
     "output_type": "execute_result"
    }
   ],
   "source": [
    "cnxs_pipe.controlnet.DEBUG_LOG_by_Umer"
   ]
  },
  {
   "cell_type": "code",
   "execution_count": 30,
   "id": "886b0acb-012f-47ac-92d0-65c1d0a9abc3",
   "metadata": {},
   "outputs": [
    {
     "data": {
      "text/plain": [
       "True"
      ]
     },
     "execution_count": 30,
     "metadata": {},
     "output_type": "execute_result"
    }
   ],
   "source": [
    "cnxs_pipe.controlnet.DEBUG_LOG_by_Umer = True\n",
    "cnxs_pipe.controlnet.DEBUG_LOG_by_Umer_file = 'intermediate_output/local_debug_log.pkl'\n",
    "cnxs_pipe.controlnet.DEBUG_LOG_by_Umer"
   ]
  },
  {
   "cell_type": "code",
   "execution_count": null,
   "id": "67c3b800-8ba9-47e6-97ee-f2dfb6dcdd72",
   "metadata": {},
   "outputs": [],
   "source": []
  },
  {
   "cell_type": "code",
   "execution_count": 31,
   "id": "d36d9c48-f34d-4e03-823d-63bacf5a3b8b",
   "metadata": {},
   "outputs": [
    {
     "name": "stdout",
     "output_type": "stream",
     "text": [
      "timestep_spacing = \"leading\" and timesteps=[981. 961. 941. 921. 901.] ...\n",
      "sigmas before interpolation: [0.02916753 0.04131448 0.05068044 0.05861427 0.06563709] ...\n",
      "sigmas after (linear) interpolation: [13.12041569 11.67605019 10.42504501  9.33807945  8.39068699] ...\n",
      "At end of `set_timesteps`:\n",
      "sigmas =  tensor([13.1204, 11.6761, 10.4250,  9.3381,  8.3907], device='mps:0') ...\n",
      "timesteps = tensor([981., 961., 941., 921., 901.], device='mps:0') ...\n",
      "Passed in latents:  tensor([ 1.3302,  0.5143,  0.4636, -0.5331,  1.0079])\n",
      "initial_unscaled_latents:  tensor([ 1.3302,  0.5143,  0.4636, -0.5331,  1.0079], device='mps:0')\n",
      "latents:  tensor([17.5033,  6.7674,  6.1001, -7.0152, 13.2618], device='mps:0')\n"
     ]
    },
    {
     "data": {
      "application/vnd.jupyter.widget-view+json": {
       "model_id": "fcc7d82b7ba74245a4dcf52070477867",
       "version_major": 2,
       "version_minor": 0
      },
      "text/plain": [
       "  0%|          | 0/50 [00:00<?, ?it/s]"
      ]
     },
     "metadata": {},
     "output_type": "display_data"
    },
    {
     "name": "stderr",
     "output_type": "stream",
     "text": [
      "/Users/umer/Documents/GitHub/diffusers/diffusers/src/diffusers/models/controlnetxs.py:295: FutureWarning: Accessing config attribute `control_scale` directly via 'ControlNetXSModel' object attribute is deprecated. Please access 'control_scale' over 'ControlNetXSModel's config object instead, e.g. 'unet.config.control_scale'.\n",
      "  temb = self.control_model.time_embedding(t_emb) * self.control_scale ** 0.3 + self.base_model.time_embedding(t_emb) * (1 - self.control_scale ** 0.3)\n"
     ]
    },
    {
     "ename": "ValueError",
     "evalue": "End of 1st ResNet reached.\nLet's analyze the intermediate steps, my man. Don't be intimidated, you can do it. Believe in the you that believes in yourself.\n\nBtw, results are saved to file 'intermediate_output/local_resnet.pkl'.",
     "output_type": "error",
     "traceback": [
      "\u001b[0;31m---------------------------------------------------------------------------\u001b[0m",
      "\u001b[0;31mValueError\u001b[0m                                Traceback (most recent call last)",
      "Cell \u001b[0;32mIn[31], line 2\u001b[0m\n\u001b[1;32m      1\u001b[0m seed_everything(RANDOM_SEED_IN_PAPER)\n\u001b[0;32m----> 2\u001b[0m \u001b[43mcnxs_pipe\u001b[49m\u001b[43m(\u001b[49m\u001b[43mprompt\u001b[49m\u001b[43m,\u001b[49m\u001b[43m \u001b[49m\u001b[43mnegative_prompt\u001b[49m\u001b[38;5;241;43m=\u001b[39;49m\u001b[43mneg_prompt\u001b[49m\u001b[43m,\u001b[49m\u001b[43mimage\u001b[49m\u001b[38;5;241;43m=\u001b[39;49m\u001b[43mthree_edges\u001b[49m\u001b[43m,\u001b[49m\u001b[43m \u001b[49m\u001b[43mlatents\u001b[49m\u001b[38;5;241;43m=\u001b[39;49m\u001b[43mrand_from_cloud\u001b[49m\u001b[43m)\u001b[49m\n",
      "File \u001b[0;32m~/.local/share/virtualenvs/controlnet-xs-ngkyeIE7/lib/python3.11/site-packages/torch/utils/_contextlib.py:115\u001b[0m, in \u001b[0;36mcontext_decorator.<locals>.decorate_context\u001b[0;34m(*args, **kwargs)\u001b[0m\n\u001b[1;32m    112\u001b[0m \u001b[38;5;129m@functools\u001b[39m\u001b[38;5;241m.\u001b[39mwraps(func)\n\u001b[1;32m    113\u001b[0m \u001b[38;5;28;01mdef\u001b[39;00m \u001b[38;5;21mdecorate_context\u001b[39m(\u001b[38;5;241m*\u001b[39margs, \u001b[38;5;241m*\u001b[39m\u001b[38;5;241m*\u001b[39mkwargs):\n\u001b[1;32m    114\u001b[0m     \u001b[38;5;28;01mwith\u001b[39;00m ctx_factory():\n\u001b[0;32m--> 115\u001b[0m         \u001b[38;5;28;01mreturn\u001b[39;00m \u001b[43mfunc\u001b[49m\u001b[43m(\u001b[49m\u001b[38;5;241;43m*\u001b[39;49m\u001b[43margs\u001b[49m\u001b[43m,\u001b[49m\u001b[43m \u001b[49m\u001b[38;5;241;43m*\u001b[39;49m\u001b[38;5;241;43m*\u001b[39;49m\u001b[43mkwargs\u001b[49m\u001b[43m)\u001b[49m\n",
      "File \u001b[0;32m~/Documents/GitHub/diffusers/diffusers/src/diffusers/pipelines/controlnet_xs/pipeline_controlnet_xs_sd_xl.py:751\u001b[0m, in \u001b[0;36mStableDiffusionXLControlNetXSPipeline.__call__\u001b[0;34m(self, prompt, prompt_2, image, height, width, num_inference_steps, guidance_scale, negative_prompt, negative_prompt_2, num_images_per_prompt, eta, generator, latents, prompt_embeds, negative_prompt_embeds, pooled_prompt_embeds, negative_pooled_prompt_embeds, output_type, return_dict, callback, callback_steps, cross_attention_kwargs, controlnet_conditioning_scale, guess_mode, control_guidance_start, control_guidance_end, original_size, crops_coords_top_left, target_size, negative_original_size, negative_crops_coords_top_left, negative_target_size)\u001b[0m\n\u001b[1;32m    748\u001b[0m added_cond_kwargs \u001b[38;5;241m=\u001b[39m {\u001b[38;5;124m\"\u001b[39m\u001b[38;5;124mtext_embeds\u001b[39m\u001b[38;5;124m\"\u001b[39m: add_text_embeds, \u001b[38;5;124m\"\u001b[39m\u001b[38;5;124mtime_ids\u001b[39m\u001b[38;5;124m\"\u001b[39m: add_time_ids}\n\u001b[1;32m    750\u001b[0m \u001b[38;5;66;03m# predict the noise residual\u001b[39;00m\n\u001b[0;32m--> 751\u001b[0m noise_pred \u001b[38;5;241m=\u001b[39m \u001b[38;5;28;43mself\u001b[39;49m\u001b[38;5;241;43m.\u001b[39;49m\u001b[43mcontrolnet\u001b[49m\u001b[43m(\u001b[49m\n\u001b[1;32m    752\u001b[0m \u001b[43m    \u001b[49m\u001b[43mx\u001b[49m\u001b[38;5;241;43m=\u001b[39;49m\u001b[43mlatent_model_input\u001b[49m\u001b[43m,\u001b[49m\n\u001b[1;32m    753\u001b[0m \u001b[43m    \u001b[49m\u001b[43mt\u001b[49m\u001b[38;5;241;43m=\u001b[39;49m\u001b[43mt\u001b[49m\u001b[43m,\u001b[49m\n\u001b[1;32m    754\u001b[0m \u001b[43m    \u001b[49m\u001b[43mencoder_hidden_states\u001b[49m\u001b[38;5;241;43m=\u001b[39;49m\u001b[43mprompt_embeds\u001b[49m\u001b[43m,\u001b[49m\n\u001b[1;32m    755\u001b[0m \u001b[43m    \u001b[49m\u001b[43mc\u001b[49m\u001b[38;5;241;43m=\u001b[39;49m\u001b[43m{\u001b[49m\u001b[43m}\u001b[49m\u001b[43m,\u001b[49m\n\u001b[1;32m    756\u001b[0m \u001b[43m    \u001b[49m\u001b[43mhint\u001b[49m\u001b[38;5;241;43m=\u001b[39;49m\u001b[43mimage\u001b[49m\u001b[43m,\u001b[49m\u001b[43m \u001b[49m\u001b[38;5;66;43;03m# todo: better naming\u001b[39;49;00m\n\u001b[1;32m    757\u001b[0m \u001b[43m    \u001b[49m\u001b[38;5;66;43;03m#cross_attention_kwargs=cross_attention_kwargs,\u001b[39;49;00m\n\u001b[1;32m    758\u001b[0m \u001b[43m    \u001b[49m\u001b[38;5;66;43;03m#return_dict=False,\u001b[39;49;00m\n\u001b[1;32m    759\u001b[0m \u001b[43m    \u001b[49m\u001b[43madded_cond_kwargs\u001b[49m\u001b[38;5;241;43m=\u001b[39;49m\u001b[43madded_cond_kwargs\u001b[49m\u001b[43m,\u001b[49m\n\u001b[1;32m    760\u001b[0m \u001b[43m\u001b[49m\u001b[43m)\u001b[49m\u001b[38;5;241m.\u001b[39msample\n\u001b[1;32m    762\u001b[0m \u001b[38;5;66;03m# perform guidance\u001b[39;00m\n\u001b[1;32m    763\u001b[0m \u001b[38;5;28;01mif\u001b[39;00m do_classifier_free_guidance:\n",
      "File \u001b[0;32m~/.local/share/virtualenvs/controlnet-xs-ngkyeIE7/lib/python3.11/site-packages/torch/nn/modules/module.py:1518\u001b[0m, in \u001b[0;36mModule._wrapped_call_impl\u001b[0;34m(self, *args, **kwargs)\u001b[0m\n\u001b[1;32m   1516\u001b[0m     \u001b[38;5;28;01mreturn\u001b[39;00m \u001b[38;5;28mself\u001b[39m\u001b[38;5;241m.\u001b[39m_compiled_call_impl(\u001b[38;5;241m*\u001b[39margs, \u001b[38;5;241m*\u001b[39m\u001b[38;5;241m*\u001b[39mkwargs)  \u001b[38;5;66;03m# type: ignore[misc]\u001b[39;00m\n\u001b[1;32m   1517\u001b[0m \u001b[38;5;28;01melse\u001b[39;00m:\n\u001b[0;32m-> 1518\u001b[0m     \u001b[38;5;28;01mreturn\u001b[39;00m \u001b[38;5;28;43mself\u001b[39;49m\u001b[38;5;241;43m.\u001b[39;49m\u001b[43m_call_impl\u001b[49m\u001b[43m(\u001b[49m\u001b[38;5;241;43m*\u001b[39;49m\u001b[43margs\u001b[49m\u001b[43m,\u001b[49m\u001b[43m \u001b[49m\u001b[38;5;241;43m*\u001b[39;49m\u001b[38;5;241;43m*\u001b[39;49m\u001b[43mkwargs\u001b[49m\u001b[43m)\u001b[49m\n",
      "File \u001b[0;32m~/.local/share/virtualenvs/controlnet-xs-ngkyeIE7/lib/python3.11/site-packages/torch/nn/modules/module.py:1527\u001b[0m, in \u001b[0;36mModule._call_impl\u001b[0;34m(self, *args, **kwargs)\u001b[0m\n\u001b[1;32m   1522\u001b[0m \u001b[38;5;66;03m# If we don't have any hooks, we want to skip the rest of the logic in\u001b[39;00m\n\u001b[1;32m   1523\u001b[0m \u001b[38;5;66;03m# this function, and just call forward.\u001b[39;00m\n\u001b[1;32m   1524\u001b[0m \u001b[38;5;28;01mif\u001b[39;00m \u001b[38;5;129;01mnot\u001b[39;00m (\u001b[38;5;28mself\u001b[39m\u001b[38;5;241m.\u001b[39m_backward_hooks \u001b[38;5;129;01mor\u001b[39;00m \u001b[38;5;28mself\u001b[39m\u001b[38;5;241m.\u001b[39m_backward_pre_hooks \u001b[38;5;129;01mor\u001b[39;00m \u001b[38;5;28mself\u001b[39m\u001b[38;5;241m.\u001b[39m_forward_hooks \u001b[38;5;129;01mor\u001b[39;00m \u001b[38;5;28mself\u001b[39m\u001b[38;5;241m.\u001b[39m_forward_pre_hooks\n\u001b[1;32m   1525\u001b[0m         \u001b[38;5;129;01mor\u001b[39;00m _global_backward_pre_hooks \u001b[38;5;129;01mor\u001b[39;00m _global_backward_hooks\n\u001b[1;32m   1526\u001b[0m         \u001b[38;5;129;01mor\u001b[39;00m _global_forward_hooks \u001b[38;5;129;01mor\u001b[39;00m _global_forward_pre_hooks):\n\u001b[0;32m-> 1527\u001b[0m     \u001b[38;5;28;01mreturn\u001b[39;00m \u001b[43mforward_call\u001b[49m\u001b[43m(\u001b[49m\u001b[38;5;241;43m*\u001b[39;49m\u001b[43margs\u001b[49m\u001b[43m,\u001b[49m\u001b[43m \u001b[49m\u001b[38;5;241;43m*\u001b[39;49m\u001b[38;5;241;43m*\u001b[39;49m\u001b[43mkwargs\u001b[49m\u001b[43m)\u001b[49m\n\u001b[1;32m   1529\u001b[0m \u001b[38;5;28;01mtry\u001b[39;00m:\n\u001b[1;32m   1530\u001b[0m     result \u001b[38;5;241m=\u001b[39m \u001b[38;5;28;01mNone\u001b[39;00m\n",
      "File \u001b[0;32m~/Documents/GitHub/diffusers/diffusers/src/diffusers/models/controlnetxs.py:351\u001b[0m, in \u001b[0;36mControlNetXSModel.forward\u001b[0;34m(self, x, t, encoder_hidden_states, c, hint, no_control, **kwargs)\u001b[0m\n\u001b[1;32m    349\u001b[0m h_ctrl \u001b[38;5;241m=\u001b[39m torch\u001b[38;5;241m.\u001b[39mcat([h_ctrl, \u001b[38;5;28mnext\u001b[39m(it_enc_convs_in)(h_base)], dim\u001b[38;5;241m=\u001b[39m\u001b[38;5;241m1\u001b[39m)\n\u001b[1;32m    350\u001b[0m debug_by_umer(\u001b[38;5;124m'\u001b[39m\u001b[38;5;124menc\u001b[39m\u001b[38;5;124m'\u001b[39m, \u001b[38;5;124m'\u001b[39m\u001b[38;5;124mh_ctr\u001b[39m\u001b[38;5;124m'\u001b[39m, h_ctrl)\n\u001b[0;32m--> 351\u001b[0m h_base \u001b[38;5;241m=\u001b[39m \u001b[43mm_base\u001b[49m\u001b[43m(\u001b[49m\u001b[43mh_base\u001b[49m\u001b[43m,\u001b[49m\u001b[43m \u001b[49m\u001b[43mtemb\u001b[49m\u001b[43m,\u001b[49m\u001b[43m \u001b[49m\u001b[43mcemb\u001b[49m\u001b[43m)\u001b[49m\n\u001b[1;32m    352\u001b[0m debug_by_umer(\u001b[38;5;124m'\u001b[39m\u001b[38;5;124menc\u001b[39m\u001b[38;5;124m'\u001b[39m, \u001b[38;5;124m'\u001b[39m\u001b[38;5;124mh_base\u001b[39m\u001b[38;5;124m'\u001b[39m, h_base)\n\u001b[1;32m    353\u001b[0m h_ctrl \u001b[38;5;241m=\u001b[39m m_ctrl(h_ctrl, temb, cemb)\n",
      "File \u001b[0;32m~/.local/share/virtualenvs/controlnet-xs-ngkyeIE7/lib/python3.11/site-packages/torch/nn/modules/module.py:1518\u001b[0m, in \u001b[0;36mModule._wrapped_call_impl\u001b[0;34m(self, *args, **kwargs)\u001b[0m\n\u001b[1;32m   1516\u001b[0m     \u001b[38;5;28;01mreturn\u001b[39;00m \u001b[38;5;28mself\u001b[39m\u001b[38;5;241m.\u001b[39m_compiled_call_impl(\u001b[38;5;241m*\u001b[39margs, \u001b[38;5;241m*\u001b[39m\u001b[38;5;241m*\u001b[39mkwargs)  \u001b[38;5;66;03m# type: ignore[misc]\u001b[39;00m\n\u001b[1;32m   1517\u001b[0m \u001b[38;5;28;01melse\u001b[39;00m:\n\u001b[0;32m-> 1518\u001b[0m     \u001b[38;5;28;01mreturn\u001b[39;00m \u001b[38;5;28;43mself\u001b[39;49m\u001b[38;5;241;43m.\u001b[39;49m\u001b[43m_call_impl\u001b[49m\u001b[43m(\u001b[49m\u001b[38;5;241;43m*\u001b[39;49m\u001b[43margs\u001b[49m\u001b[43m,\u001b[49m\u001b[43m \u001b[49m\u001b[38;5;241;43m*\u001b[39;49m\u001b[38;5;241;43m*\u001b[39;49m\u001b[43mkwargs\u001b[49m\u001b[43m)\u001b[49m\n",
      "File \u001b[0;32m~/.local/share/virtualenvs/controlnet-xs-ngkyeIE7/lib/python3.11/site-packages/torch/nn/modules/module.py:1527\u001b[0m, in \u001b[0;36mModule._call_impl\u001b[0;34m(self, *args, **kwargs)\u001b[0m\n\u001b[1;32m   1522\u001b[0m \u001b[38;5;66;03m# If we don't have any hooks, we want to skip the rest of the logic in\u001b[39;00m\n\u001b[1;32m   1523\u001b[0m \u001b[38;5;66;03m# this function, and just call forward.\u001b[39;00m\n\u001b[1;32m   1524\u001b[0m \u001b[38;5;28;01mif\u001b[39;00m \u001b[38;5;129;01mnot\u001b[39;00m (\u001b[38;5;28mself\u001b[39m\u001b[38;5;241m.\u001b[39m_backward_hooks \u001b[38;5;129;01mor\u001b[39;00m \u001b[38;5;28mself\u001b[39m\u001b[38;5;241m.\u001b[39m_backward_pre_hooks \u001b[38;5;129;01mor\u001b[39;00m \u001b[38;5;28mself\u001b[39m\u001b[38;5;241m.\u001b[39m_forward_hooks \u001b[38;5;129;01mor\u001b[39;00m \u001b[38;5;28mself\u001b[39m\u001b[38;5;241m.\u001b[39m_forward_pre_hooks\n\u001b[1;32m   1525\u001b[0m         \u001b[38;5;129;01mor\u001b[39;00m _global_backward_pre_hooks \u001b[38;5;129;01mor\u001b[39;00m _global_backward_hooks\n\u001b[1;32m   1526\u001b[0m         \u001b[38;5;129;01mor\u001b[39;00m _global_forward_hooks \u001b[38;5;129;01mor\u001b[39;00m _global_forward_pre_hooks):\n\u001b[0;32m-> 1527\u001b[0m     \u001b[38;5;28;01mreturn\u001b[39;00m \u001b[43mforward_call\u001b[49m\u001b[43m(\u001b[49m\u001b[38;5;241;43m*\u001b[39;49m\u001b[43margs\u001b[49m\u001b[43m,\u001b[49m\u001b[43m \u001b[49m\u001b[38;5;241;43m*\u001b[39;49m\u001b[38;5;241;43m*\u001b[39;49m\u001b[43mkwargs\u001b[49m\u001b[43m)\u001b[49m\n\u001b[1;32m   1529\u001b[0m \u001b[38;5;28;01mtry\u001b[39;00m:\n\u001b[1;32m   1530\u001b[0m     result \u001b[38;5;241m=\u001b[39m \u001b[38;5;28;01mNone\u001b[39;00m\n",
      "File \u001b[0;32m~/Documents/GitHub/diffusers/diffusers/src/diffusers/models/controlnetxs.py:491\u001b[0m, in \u001b[0;36mEmbedSequential.forward\u001b[0;34m(self, x, temb, cemb)\u001b[0m\n\u001b[1;32m    489\u001b[0m \u001b[38;5;28;01mdef\u001b[39;00m \u001b[38;5;21mforward\u001b[39m(\u001b[38;5;28mself\u001b[39m,x,temb,cemb):\n\u001b[1;32m    490\u001b[0m     \u001b[38;5;28;01mfor\u001b[39;00m m \u001b[38;5;129;01min\u001b[39;00m \u001b[38;5;28mself\u001b[39m:\n\u001b[0;32m--> 491\u001b[0m         \u001b[38;5;28;01mif\u001b[39;00m \u001b[38;5;28misinstance\u001b[39m(m,ResnetBlock2D): x\u001b[38;5;241m=\u001b[39m\u001b[43mm\u001b[49m\u001b[43m(\u001b[49m\u001b[43mx\u001b[49m\u001b[43m,\u001b[49m\u001b[43mtemb\u001b[49m\u001b[43m)\u001b[49m\n\u001b[1;32m    492\u001b[0m         \u001b[38;5;28;01melif\u001b[39;00m \u001b[38;5;28misinstance\u001b[39m(m,Transformer2DModel): x\u001b[38;5;241m=\u001b[39mm(x,cemb)\u001b[38;5;241m.\u001b[39msample \u001b[38;5;66;03m# Q: Include temp also?\u001b[39;00m\n\u001b[1;32m    493\u001b[0m         \u001b[38;5;28;01melif\u001b[39;00m \u001b[38;5;28misinstance\u001b[39m(m,Downsample2D): x\u001b[38;5;241m=\u001b[39mm(x)\n",
      "File \u001b[0;32m~/.local/share/virtualenvs/controlnet-xs-ngkyeIE7/lib/python3.11/site-packages/torch/nn/modules/module.py:1518\u001b[0m, in \u001b[0;36mModule._wrapped_call_impl\u001b[0;34m(self, *args, **kwargs)\u001b[0m\n\u001b[1;32m   1516\u001b[0m     \u001b[38;5;28;01mreturn\u001b[39;00m \u001b[38;5;28mself\u001b[39m\u001b[38;5;241m.\u001b[39m_compiled_call_impl(\u001b[38;5;241m*\u001b[39margs, \u001b[38;5;241m*\u001b[39m\u001b[38;5;241m*\u001b[39mkwargs)  \u001b[38;5;66;03m# type: ignore[misc]\u001b[39;00m\n\u001b[1;32m   1517\u001b[0m \u001b[38;5;28;01melse\u001b[39;00m:\n\u001b[0;32m-> 1518\u001b[0m     \u001b[38;5;28;01mreturn\u001b[39;00m \u001b[38;5;28;43mself\u001b[39;49m\u001b[38;5;241;43m.\u001b[39;49m\u001b[43m_call_impl\u001b[49m\u001b[43m(\u001b[49m\u001b[38;5;241;43m*\u001b[39;49m\u001b[43margs\u001b[49m\u001b[43m,\u001b[49m\u001b[43m \u001b[49m\u001b[38;5;241;43m*\u001b[39;49m\u001b[38;5;241;43m*\u001b[39;49m\u001b[43mkwargs\u001b[49m\u001b[43m)\u001b[49m\n",
      "File \u001b[0;32m~/.local/share/virtualenvs/controlnet-xs-ngkyeIE7/lib/python3.11/site-packages/torch/nn/modules/module.py:1527\u001b[0m, in \u001b[0;36mModule._call_impl\u001b[0;34m(self, *args, **kwargs)\u001b[0m\n\u001b[1;32m   1522\u001b[0m \u001b[38;5;66;03m# If we don't have any hooks, we want to skip the rest of the logic in\u001b[39;00m\n\u001b[1;32m   1523\u001b[0m \u001b[38;5;66;03m# this function, and just call forward.\u001b[39;00m\n\u001b[1;32m   1524\u001b[0m \u001b[38;5;28;01mif\u001b[39;00m \u001b[38;5;129;01mnot\u001b[39;00m (\u001b[38;5;28mself\u001b[39m\u001b[38;5;241m.\u001b[39m_backward_hooks \u001b[38;5;129;01mor\u001b[39;00m \u001b[38;5;28mself\u001b[39m\u001b[38;5;241m.\u001b[39m_backward_pre_hooks \u001b[38;5;129;01mor\u001b[39;00m \u001b[38;5;28mself\u001b[39m\u001b[38;5;241m.\u001b[39m_forward_hooks \u001b[38;5;129;01mor\u001b[39;00m \u001b[38;5;28mself\u001b[39m\u001b[38;5;241m.\u001b[39m_forward_pre_hooks\n\u001b[1;32m   1525\u001b[0m         \u001b[38;5;129;01mor\u001b[39;00m _global_backward_pre_hooks \u001b[38;5;129;01mor\u001b[39;00m _global_backward_hooks\n\u001b[1;32m   1526\u001b[0m         \u001b[38;5;129;01mor\u001b[39;00m _global_forward_hooks \u001b[38;5;129;01mor\u001b[39;00m _global_forward_pre_hooks):\n\u001b[0;32m-> 1527\u001b[0m     \u001b[38;5;28;01mreturn\u001b[39;00m \u001b[43mforward_call\u001b[49m\u001b[43m(\u001b[49m\u001b[38;5;241;43m*\u001b[39;49m\u001b[43margs\u001b[49m\u001b[43m,\u001b[49m\u001b[43m \u001b[49m\u001b[38;5;241;43m*\u001b[39;49m\u001b[38;5;241;43m*\u001b[39;49m\u001b[43mkwargs\u001b[49m\u001b[43m)\u001b[49m\n\u001b[1;32m   1529\u001b[0m \u001b[38;5;28;01mtry\u001b[39;00m:\n\u001b[1;32m   1530\u001b[0m     result \u001b[38;5;241m=\u001b[39m \u001b[38;5;28;01mNone\u001b[39;00m\n",
      "File \u001b[0;32m~/Documents/GitHub/diffusers/diffusers/src/diffusers/models/resnet.py:790\u001b[0m, in \u001b[0;36mResnetBlock2D.forward\u001b[0;34m(self, input_tensor, temb, scale)\u001b[0m\n\u001b[1;32m    788\u001b[0m msg \u001b[38;5;241m+\u001b[39m\u001b[38;5;241m=\u001b[39m \u001b[38;5;124m\"\u001b[39m\u001b[38;5;130;01m\\n\u001b[39;00m\u001b[38;5;124mLet\u001b[39m\u001b[38;5;124m'\u001b[39m\u001b[38;5;124ms analyze the intermediate steps, my man. Don\u001b[39m\u001b[38;5;124m'\u001b[39m\u001b[38;5;124mt be intimidated, you can do it. Believe in the you that believes in yourself.\u001b[39m\u001b[38;5;124m\"\u001b[39m\n\u001b[1;32m    789\u001b[0m msg \u001b[38;5;241m+\u001b[39m\u001b[38;5;241m=\u001b[39m \u001b[38;5;124m\"\u001b[39m\u001b[38;5;130;01m\\n\u001b[39;00m\u001b[38;5;130;01m\\n\u001b[39;00m\u001b[38;5;124mBtw, results are saved to file \u001b[39m\u001b[38;5;124m'\u001b[39m\u001b[38;5;124mintermediate_output/local_resnet.pkl\u001b[39m\u001b[38;5;124m'\u001b[39m\u001b[38;5;124m.\u001b[39m\u001b[38;5;124m\"\u001b[39m\n\u001b[0;32m--> 790\u001b[0m \u001b[38;5;28;01mraise\u001b[39;00m \u001b[38;5;167;01mValueError\u001b[39;00m(msg)\n\u001b[1;32m    792\u001b[0m \u001b[38;5;28;01mreturn\u001b[39;00m output_tensor\n",
      "\u001b[0;31mValueError\u001b[0m: End of 1st ResNet reached.\nLet's analyze the intermediate steps, my man. Don't be intimidated, you can do it. Believe in the you that believes in yourself.\n\nBtw, results are saved to file 'intermediate_output/local_resnet.pkl'."
     ]
    }
   ],
   "source": [
    "seed_everything(RANDOM_SEED_IN_PAPER)\n",
    "cnxs_pipe(prompt, negative_prompt=neg_prompt,image=three_edges, latents=rand_from_cloud)"
   ]
  },
  {
   "cell_type": "code",
   "execution_count": null,
   "id": "8a7f7cce-b334-4161-abdb-f511c39ef49c",
   "metadata": {
    "scrolled": true
   },
   "outputs": [],
   "source": []
  },
  {
   "cell_type": "markdown",
   "id": "0335f8d6-1732-47a3-b6bf-92ce4c01ca38",
   "metadata": {},
   "source": [
    "___"
   ]
  },
  {
   "cell_type": "markdown",
   "id": "8716be49-ec49-405e-ab61-a7eb54abdc7b",
   "metadata": {},
   "source": [
    "## Load intermediate outputs"
   ]
  },
  {
   "cell_type": "markdown",
   "id": "38d07728-5ae8-4202-9037-a7e87576cca3",
   "metadata": {},
   "source": [
    "These were computed on the cloud with Heidelberg code"
   ]
  },
  {
   "cell_type": "code",
   "execution_count": null,
   "id": "2fe3a1a3-3afc-4856-b927-2e26cd590ff6",
   "metadata": {},
   "outputs": [],
   "source": [
    "from inspect_intermediate import load_intermediate_outputs, print_metadata"
   ]
  },
  {
   "cell_type": "code",
   "execution_count": null,
   "id": "79c48cfe-dee5-409a-859a-5cdd2004bd4b",
   "metadata": {},
   "outputs": [],
   "source": [
    "outp_local = load_intermediate_outputs('intermediate_output/local_debug_log.pkl')"
   ]
  },
  {
   "cell_type": "code",
   "execution_count": null,
   "id": "edeabec3-f581-4cc9-8004-f497d1ce6de1",
   "metadata": {},
   "outputs": [],
   "source": [
    "outp_cloud = load_intermediate_outputs('intermediate_output/cloud_debug_log.pkl')"
   ]
  },
  {
   "cell_type": "code",
   "execution_count": null,
   "id": "e4ff5d97-cda5-4b5d-8b9e-39a72c558952",
   "metadata": {},
   "outputs": [],
   "source": [
    "len(outp_cloud), len(outp_local)"
   ]
  },
  {
   "cell_type": "code",
   "execution_count": null,
   "id": "2b561542-f8a5-467f-8d2f-7769820f46ee",
   "metadata": {},
   "outputs": [],
   "source": [
    "print_metadata(outp_cloud)"
   ]
  },
  {
   "cell_type": "code",
   "execution_count": null,
   "id": "fbd9f9c5-1e37-4bd7-889e-76c4f1dbcc1c",
   "metadata": {},
   "outputs": [],
   "source": [
    "print_metadata(outp_local)"
   ]
  },
  {
   "cell_type": "code",
   "execution_count": null,
   "id": "68f94d10-925d-45ce-946a-64e9254e03ba",
   "metadata": {
    "scrolled": true
   },
   "outputs": [],
   "source": [
    "outp_cloud[0].t==outp_local[0].t"
   ]
  },
  {
   "cell_type": "code",
   "execution_count": null,
   "id": "cbd0068f-87bc-4784-be1a-b7c4f74e70cd",
   "metadata": {},
   "outputs": [],
   "source": [
    "outp_cloud[0].head"
   ]
  },
  {
   "cell_type": "code",
   "execution_count": null,
   "id": "f806e12e-0a9b-46e6-9e7d-3499e191061e",
   "metadata": {
    "scrolled": true
   },
   "outputs": [],
   "source": [
    "outp_local[0].head"
   ]
  },
  {
   "cell_type": "markdown",
   "id": "4c506501-d28e-4346-892a-5fc06085a819",
   "metadata": {},
   "source": [
    "**Q:** Why are x on cloud and local different?"
   ]
  },
  {
   "cell_type": "code",
   "execution_count": null,
   "id": "62405673-a2c8-481e-abd7-4c99e2e60a7f",
   "metadata": {},
   "outputs": [],
   "source": [
    "outp_cloud[0].head / outp_local[0].head"
   ]
  },
  {
   "cell_type": "markdown",
   "id": "42885690-7444-4050-a2bc-e2d9bf6bd888",
   "metadata": {},
   "source": [
    "**A:** they differ my a constant multiplicative factor. Therefore, it's likely on cloud a different initial scaling is applied\n",
    "\n",
    "**Edit** I corrected for that factor. Is the remaining difference just precion error?"
   ]
  },
  {
   "cell_type": "markdown",
   "id": "fc9ee06b-9324-458f-a645-8d61e3640ecf",
   "metadata": {},
   "source": [
    "___"
   ]
  },
  {
   "cell_type": "markdown",
   "id": "e37edc0b-eeac-440a-b7e2-a133c858bba7",
   "metadata": {},
   "source": [
    "Let's look at the scheduler"
   ]
  },
  {
   "cell_type": "code",
   "execution_count": null,
   "id": "eb979195-5641-46ce-b0ff-8200aadd82e0",
   "metadata": {},
   "outputs": [],
   "source": [
    "rand_from_cloud.flatten()[:5]"
   ]
  },
  {
   "cell_type": "markdown",
   "id": "139bc453-a8a9-4099-b284-e8c5ff69af21",
   "metadata": {},
   "source": [
    "**Q**: It's unplausible that x (=`outp_local[0].t`) is equal to `rand_from_cloud`. It should be ~13 times as large (because `cnxs_pipe.scheduler.init_noise_sigma=13.1585`\n",
    "\n",
    "**A:** No, that's fine. The (de)scaling and noise addition/reduction happens outside the denoiser model. Therefore, the denoiser model expects unscaled input."
   ]
  },
  {
   "cell_type": "code",
   "execution_count": null,
   "id": "d2ca3a73-8bcf-489a-ba76-1793738a7119",
   "metadata": {},
   "outputs": [],
   "source": [
    "cnxs_pipe.scheduler"
   ]
  },
  {
   "cell_type": "code",
   "execution_count": null,
   "id": "0c1268d6-2eca-4a4d-8fbf-b9a67e044f44",
   "metadata": {},
   "outputs": [],
   "source": [
    "sched = cnxs_pipe.scheduler"
   ]
  },
  {
   "cell_type": "code",
   "execution_count": null,
   "id": "e987c8cb-3510-4617-91e1-cdf1e18a6718",
   "metadata": {},
   "outputs": [],
   "source": [
    "len(sched.betas)"
   ]
  },
  {
   "cell_type": "code",
   "execution_count": null,
   "id": "318c8373-ed84-4404-b6c3-d42801793d28",
   "metadata": {},
   "outputs": [],
   "source": [
    "sched.betas[:5], sched.betas[-5:]"
   ]
  },
  {
   "cell_type": "code",
   "execution_count": null,
   "id": "f8b60ba1-b5fc-420a-b019-1c1e5b63e9bd",
   "metadata": {},
   "outputs": [],
   "source": [
    "sched.config.beta_start, sched.config.beta_end"
   ]
  },
  {
   "cell_type": "code",
   "execution_count": null,
   "id": "3b1b58c9-c74e-4257-a599-24161b7cdafa",
   "metadata": {},
   "outputs": [],
   "source": [
    "sched.alphas[:5], 1-sched.betas[:5]"
   ]
  },
  {
   "cell_type": "code",
   "execution_count": null,
   "id": "a7458f25-5cae-4185-9464-96beb91f190b",
   "metadata": {},
   "outputs": [],
   "source": [
    "sched.alphas_cumprod[:5], torch.cumprod(sched.alphas[:5], dim=0)"
   ]
  },
  {
   "cell_type": "code",
   "execution_count": null,
   "id": "9883155b-01cf-4c6d-8a0f-7516a49a042f",
   "metadata": {},
   "outputs": [],
   "source": [
    "((1-sched.alphas_cumprod[-1])/sched.alphas_cumprod[-1])**0.5"
   ]
  },
  {
   "cell_type": "markdown",
   "id": "95506da2-82c8-4795-93ff-5e8e4e2663dc",
   "metadata": {},
   "source": [
    "These are the trainig sigmas"
   ]
  },
  {
   "cell_type": "code",
   "execution_count": null,
   "id": "923adc2f-3d20-411b-8996-f3588842d9ab",
   "metadata": {},
   "outputs": [],
   "source": [
    "my_sigmas = np.array(((1 - sched.alphas_cumprod) / sched.alphas_cumprod) ** 0.5)\n",
    "my_sigmas = np.concatenate([my_sigmas[::-1], [0.0]]).astype(np.float32)\n",
    "my_sigmas = torch.from_numpy(my_sigmas)"
   ]
  },
  {
   "cell_type": "code",
   "execution_count": null,
   "id": "e7505c1e-e235-46e9-a66b-3138079b91c6",
   "metadata": {},
   "outputs": [],
   "source": [
    "my_sigmas"
   ]
  },
  {
   "cell_type": "code",
   "execution_count": null,
   "id": "fe20a69e-7c63-4a47-8265-f532dd54425a",
   "metadata": {},
   "outputs": [],
   "source": [
    "cnxs_pipe.scheduler.sigmas[:5]"
   ]
  },
  {
   "cell_type": "markdown",
   "id": "e01576aa-e9b4-4468-8c28-7727d0881821",
   "metadata": {},
   "source": [
    "**Q:** I've computeed sigma[0] to be ~14.61 but it is ~13.12. Why the difference?"
   ]
  },
  {
   "cell_type": "code",
   "execution_count": null,
   "id": "f199b16e-860f-4498-ba07-e89a4ce5b0c4",
   "metadata": {},
   "outputs": [],
   "source": [
    "len(my_sigmas), len(cnxs_pipe.scheduler.sigmas)"
   ]
  },
  {
   "cell_type": "markdown",
   "id": "dcca3c0e-4739-4179-8a11-620dac24bd1b",
   "metadata": {},
   "source": [
    "**A:** My computed sigmas are the training sigmas, the sigmas used in the pipeline are the inference sigmas, which are computed in `set_timesteps`. Let's compute those manually."
   ]
  },
  {
   "cell_type": "code",
   "execution_count": null,
   "id": "009ee542-b43d-43e0-91c6-7533498388b8",
   "metadata": {},
   "outputs": [],
   "source": [
    "sched.config.steps_offset"
   ]
  },
  {
   "cell_type": "code",
   "execution_count": null,
   "id": "c9eb9f39-2a49-4d2a-8224-b8aa05fb82c7",
   "metadata": {},
   "outputs": [],
   "source": [
    "my_step_ratio = sched.config.num_train_timesteps // sched.num_inference_steps\n",
    "sched.config.num_train_timesteps, sched.num_inference_steps, my_step_ratio"
   ]
  },
  {
   "cell_type": "code",
   "execution_count": null,
   "id": "e9526996-70b6-4650-b196-7ca68ae84e55",
   "metadata": {},
   "outputs": [],
   "source": [
    "my_timesteps = (np.arange(0, sched.num_inference_steps) * my_step_ratio).round()[::-1].copy().astype(np.float32)\n",
    "print(my_timesteps[:5])\n",
    "\n",
    "my_timesteps += sched.config.steps_offset\n",
    "print(my_timesteps[:5])"
   ]
  },
  {
   "cell_type": "code",
   "execution_count": null,
   "id": "4542b62f-a232-412f-85ab-4a4698dbac39",
   "metadata": {},
   "outputs": [],
   "source": [
    "np.interp(my_timesteps, np.arange(0, len(my_sigmas)), my_sigmas)[:5]"
   ]
  },
  {
   "cell_type": "markdown",
   "id": "2a70caa3-93bf-4c16-8923-691aa2754f42",
   "metadata": {},
   "source": [
    "Note: Because 1) we have more trainig steps than inference steps, and 2) the grid points overlap, the interpolation is (in this case) a simple lookup"
   ]
  },
  {
   "cell_type": "code",
   "execution_count": null,
   "id": "f2f681d8-6406-4302-ac5c-42369faa6249",
   "metadata": {},
   "outputs": [],
   "source": [
    "my_sigmas[981], my_sigmas[961]"
   ]
  },
  {
   "cell_type": "markdown",
   "id": "773d5e3b-9c37-40fa-9da0-1726f4dbfafa",
   "metadata": {},
   "source": [
    "**Q:** Now I have ~0.1308 which is still not ~13.12."
   ]
  },
  {
   "cell_type": "code",
   "execution_count": null,
   "id": "148c37dd-2bad-4869-a0d0-2b69d482aab4",
   "metadata": {},
   "outputs": [],
   "source": [
    "from diffusers import EulerDiscreteScheduler\n",
    "\n",
    "new_sched = EulerDiscreteScheduler.from_config(sched.config)"
   ]
  },
  {
   "cell_type": "code",
   "execution_count": null,
   "id": "a5a39075-e7a1-4a48-8f5a-a297e8ee3858",
   "metadata": {},
   "outputs": [],
   "source": [
    "new_sched.set_timesteps(50)"
   ]
  },
  {
   "cell_type": "code",
   "execution_count": null,
   "id": "1c1151ee-a5b9-461c-9633-1cbd275ecc00",
   "metadata": {},
   "outputs": [],
   "source": [
    "new_sched = EulerDiscreteScheduler.from_config(sched.config)"
   ]
  },
  {
   "cell_type": "markdown",
   "id": "6e04c472-0fc0-4cc8-8831-3a55cc579071",
   "metadata": {},
   "source": [
    "The sigmas computed in `set_timesteps` are just the reverse of currently saved ones (which represent training), minus the last one"
   ]
  },
  {
   "cell_type": "code",
   "execution_count": null,
   "id": "fd999d8a-1954-450f-8b25-5a375abd7446",
   "metadata": {},
   "outputs": [],
   "source": [
    "new_sched.sigmas.flip(0)[1:6]"
   ]
  },
  {
   "cell_type": "code",
   "execution_count": null,
   "id": "08ef5de4-ea8f-4427-a192-1944a9f9e9ec",
   "metadata": {},
   "outputs": [],
   "source": [
    "new_sched.num_inference_steps=50\n",
    "\n",
    "my_sigmas = new_sched.sigmas.flip(0)[1:]\n",
    "\n",
    "my_step_ratio = new_sched.config.num_train_timesteps // new_sched.num_inference_steps\n",
    "print(new_sched.config.num_train_timesteps, new_sched.num_inference_steps, my_step_ratio)\n",
    "\n",
    "my_timesteps = (np.arange(0, new_sched.num_inference_steps) * my_step_ratio).round()[::-1].copy().astype(np.float32)\n",
    "my_timesteps += new_sched.config.steps_offset\n",
    "print(my_timesteps[:5])"
   ]
  },
  {
   "cell_type": "code",
   "execution_count": null,
   "id": "34be9804-d6d4-465b-a42c-683d55e11fb1",
   "metadata": {},
   "outputs": [],
   "source": [
    "np.interp(my_timesteps, np.arange(0, len(my_sigmas)), my_sigmas)[:5]"
   ]
  },
  {
   "cell_type": "markdown",
   "id": "3ca80cc7-d1ff-4f6a-8b91-a4a35c178178",
   "metadata": {},
   "source": [
    "**A:** Reveresing the additonal operations done on the training sigmas in `__init__` (namely reversing and appending [0]) gives the correct inference sigmas"
   ]
  },
  {
   "cell_type": "markdown",
   "id": "2b0da084-9ba2-4ac5-8172-466510870325",
   "metadata": {},
   "source": [
    "These are the timesteps used in `EulerEDMSampler` (used by Heidelberg):"
   ]
  },
  {
   "cell_type": "code",
   "execution_count": null,
   "id": "29f29e0c-d1c1-4a29-9ea5-4d532928e7ac",
   "metadata": {},
   "outputs": [],
   "source": [
    "np.linspace(1000-1, 0, 50)[:5]"
   ]
  },
  {
   "cell_type": "markdown",
   "id": "5658c50b-61f8-4535-adad-a90d93a715d0",
   "metadata": {},
   "source": [
    "**Q:** They are not equal to the ones used above in `EulerDiscreteScheduler` (`[981, 961, 941, ...]`). Why?"
   ]
  },
  {
   "cell_type": "markdown",
   "id": "b84a908a-30a1-464e-9330-14ba9cc329b5",
   "metadata": {},
   "source": [
    "Hypothesis: `EulerEDMSampler` uses `timestep_spacing = 'linspace'` instead of `'leading'`"
   ]
  },
  {
   "cell_type": "code",
   "execution_count": null,
   "id": "cefceab2-1964-4f9f-8243-71eae55845d4",
   "metadata": {},
   "outputs": [],
   "source": [
    "np.linspace(0, new_sched.config.num_train_timesteps - 1, new_sched.num_inference_steps, dtype=np.float32)[::-1][:5]"
   ]
  },
  {
   "cell_type": "markdown",
   "id": "ecb722cd-779f-469c-8a13-c9e04d36cc94",
   "metadata": {},
   "source": [
    "**A:** **Important -** Yup, Heidelberg uses `timestep_spacing = 'linspace'` instead of `'leading'`"
   ]
  },
  {
   "cell_type": "markdown",
   "id": "0a7fa189-a426-4c3f-8e65-c8297a1b01ed",
   "metadata": {},
   "source": [
    "___"
   ]
  },
  {
   "cell_type": "markdown",
   "id": "eece5801-1fe6-43d8-bdd4-3dac654972f5",
   "metadata": {},
   "source": [
    "### Let's continue comparing intermediate outputs"
   ]
  },
  {
   "cell_type": "code",
   "execution_count": null,
   "id": "cad29429-560b-4592-8f85-4650e6953d51",
   "metadata": {},
   "outputs": [],
   "source": [
    "from inspect_intermediate import load_intermediate_outputs, print_metadata"
   ]
  },
  {
   "cell_type": "code",
   "execution_count": null,
   "id": "0e589b7c-c016-43e1-be4a-eb7d4cea0932",
   "metadata": {},
   "outputs": [],
   "source": [
    "outp_local = load_intermediate_outputs('intermediate_output/local_debug_log.pkl')\n",
    "outp_cloud = load_intermediate_outputs('intermediate_output/cloud_debug_log.pkl')\n",
    "\n",
    "len(outp_cloud),len(outp_local)"
   ]
  },
  {
   "cell_type": "code",
   "execution_count": null,
   "id": "2729c9fc-7704-4688-afa9-3db93b4840eb",
   "metadata": {},
   "outputs": [],
   "source": [
    "print_metadata(outp_cloud, n=6)"
   ]
  },
  {
   "cell_type": "code",
   "execution_count": null,
   "id": "61b7230f-70c9-4e8c-a89a-3a1998e6c9f1",
   "metadata": {},
   "outputs": [],
   "source": [
    "print_metadata(outp_local, n=6)"
   ]
  },
  {
   "cell_type": "code",
   "execution_count": null,
   "id": "320cf43e-d262-4fb9-a801-4dc5fb8297c5",
   "metadata": {},
   "outputs": [],
   "source": [
    "outp_cloud[3].head, outp_local[3].head"
   ]
  },
  {
   "cell_type": "code",
   "execution_count": null,
   "id": "2ddad632-f865-4bde-a8ae-87b10fe2fea0",
   "metadata": {},
   "outputs": [],
   "source": [
    "outp_cloud[4].head, outp_local[4].head"
   ]
  },
  {
   "cell_type": "code",
   "execution_count": null,
   "id": "b309103b-580b-474c-b944-904b985faf02",
   "metadata": {},
   "outputs": [],
   "source": [
    "outp_cloud[5].head, outp_local[5].head"
   ]
  },
  {
   "cell_type": "markdown",
   "id": "bb38472c-7c0b-4288-9b87-f1e127d21eb1",
   "metadata": {},
   "source": [
    "The first few intermediate outputs are equal. Let's compare all."
   ]
  },
  {
   "cell_type": "code",
   "execution_count": null,
   "id": "3d40b945-7d35-44b4-bce4-bc39ba6dd90d",
   "metadata": {},
   "outputs": [],
   "source": [
    "def have_same_names(i,do_print=True):\n",
    "    oc,ol = outp_cloud[i],outp_local[i]\n",
    "    eq = oc.stage+oc.msg==ol.stage+ol.msg\n",
    "    if do_print: print('cloud: ', oc.stage,oc.msg,'\\nlocal:', ol.stage,ol.msg)\n",
    "    return eq\n",
    "\n",
    "def have_same_shapes(i,do_print=True,assert_names_match=True):\n",
    "    oc,ol = outp_cloud[i],outp_local[i]    \n",
    "    if assert_names_match: assert oc.stage+oc.msg==ol.stage+ol.msg\n",
    "    eq = oc.shape==ol.shape\n",
    "    if do_print:\n",
    "        eq_str = 'Equal' if eq else 'Different'\n",
    "        print('>> ',oc.stage, oc.msg, '\\t\\t',eq_str)\n",
    "        print('cloud: ', oc.shape,'\\nlocal:', ol.shape)\n",
    "        print()\n",
    "    return eq\n",
    "\n",
    "def have_same_values(i,prec=2, do_print=True,assert_names_match=True):\n",
    "    oc,ol = outp_cloud[i],outp_local[i]    \n",
    "    if assert_names_match: assert oc.stage+oc.msg==ol.stage+ol.msg\n",
    "    eq = (oc.head.round(decimals=prec)==ol.head.round(decimals=prec)).all().item()\n",
    "    if do_print:\n",
    "        eq_str = 'Equal' if eq else 'Different'\n",
    "        print('>> ',oc.stage, oc.msg, '\\t\\t',eq_str)\n",
    "        print('cloud: ', oc.head,'\\nlocal:', ol.head)\n",
    "        print()\n",
    "    return eq"
   ]
  },
  {
   "cell_type": "code",
   "execution_count": null,
   "id": "7fb6e865-fac7-4a3d-8f55-4028c860956b",
   "metadata": {},
   "outputs": [],
   "source": [
    "step_comments = [\n",
    "    'applied base.conv_in',\n",
    "    'applied ctrl.conv_in',\n",
    "    'added hint in ctrl',\n",
    "    'added ctrl -> base',\n",
    "    'FULL DIVIDE'\n",
    "] + [\n",
    "    'concatted base -> ctrl',\n",
    "    'applied base subblock',\n",
    "    'applied ctrl subblock',\n",
    "    'added ctrl -> base',\n",
    "    'DIVIDE'\n",
    "] * 8 + [\n",
    "    'concatted base -> ctrl',\n",
    "    'applied base block',\n",
    "    'applied ctrl block',\n",
    "    'added ctrl -> base'\n",
    "] + [\n",
    "    'added ctrl enc -> base dec',\n",
    "    'concatted base enc -> base dec',\n",
    "    'applied base block',\n",
    "    'DIVIDE'\n",
    "] * 8\n",
    "\n",
    "\n",
    "def fmt_bool(b, fmt_str):\n",
    "    b_str = 'y' if b else 'n'\n",
    "    b_str = ('{:'+fmt_str+'}').format(b_str)\n",
    "    GREEN, RED, RESET = '\\033[92m', '\\033[91m', '\\033[0m'\n",
    "    return GREEN+b_str+RESET if b else RED+b_str+RESET\n",
    "\n",
    "def divider(l, full=True):\n",
    "    if full: print('-'*l)\n",
    "    else: print('- '*(l//2))\n",
    "\n",
    "def compare_intermediate_results(n=None):\n",
    "    if n is None: n=max(len(outp_cloud),len(outp_local))\n",
    "    i,c,l,en,es,ev,d = '-','cloud','local','equal name?','equal shape?','equal values?','mean abs Δ'\n",
    "    print(f'{i:<2} | {c:<19} | {l:<19} | {en:<11} | {es:<12} | {ev:<13} | {d:<10}')\n",
    "    i,c,l,en,es,ev,d = '','','','','','prec=2',''\n",
    "    print(f'{i:<2} | {c:<19} | {l:<19} | {en:<11} | {es:<12} | {ev:^13} | {d:<10}')\n",
    "    total_len = 2+3+19+3+19+3+11+3+12+3+13+3+10\n",
    "    print_line = partial(divider, l=total_len)\n",
    "    print_thin_line = partial(divider, l=total_len, full=False)\n",
    "    last_stage = ''\n",
    "    step_comments_ = step_comments.copy()\n",
    "    for i in range(n):\n",
    "        c,l=outp_cloud[i],outp_local[i]\n",
    "        eq_name = have_same_names(i,do_print=False)\n",
    "        eq_shape = have_same_shapes(i,do_print=False)\n",
    "        eq_vals = have_same_values(i,do_print=False,prec=2)\n",
    "        \n",
    "        mean_difference = (outp_cloud[i].t-outp_local[i].t).abs().mean()\n",
    "        \n",
    "        if c.stage!=last_stage:\n",
    "                print_line()\n",
    "                last_stage=c.stage\n",
    "            \n",
    "        print(f'{i:<2} | {c.stage:<6} {c.msg:<12} | {l.stage:<6} {l.msg:<12} | ', end='')\n",
    "        print(fmt_bool(eq_name, '^11')+' | '+fmt_bool(eq_shape, '^12')+' | '+fmt_bool(eq_vals, '^13')+' | ', end='')\n",
    "        print(f'{mean_difference:>10.5f}', end='')\n",
    "\n",
    "        if i>=5:\n",
    "            print(f'   {step_comments_.pop(0)}')\n",
    "            if step_comments_[0]=='DIVIDE':\n",
    "                print_thin_line()\n",
    "                step_comments_.pop(0)\n",
    "            if step_comments_[0]=='FULL DIVIDE':\n",
    "                print_line()\n",
    "                step_comments_.pop(0)\n",
    "        else:\n",
    "            print()"
   ]
  },
  {
   "cell_type": "code",
   "execution_count": null,
   "id": "c3df983c-f327-4bde-ac4e-0ac90830a4df",
   "metadata": {},
   "outputs": [],
   "source": [
    "compare_intermediate_results()"
   ]
  },
  {
   "cell_type": "code",
   "execution_count": null,
   "id": "4fe143a8-d865-431c-8737-1aa298dbc802",
   "metadata": {},
   "outputs": [],
   "source": [
    "have_same_shapes(1);"
   ]
  },
  {
   "cell_type": "markdown",
   "id": "f9c981e6-1c5d-4a7a-9c4b-ed3b9b57f7d4",
   "metadata": {},
   "source": [
    "This is okay, as the shapes are broadcastable"
   ]
  },
  {
   "cell_type": "code",
   "execution_count": null,
   "id": "3accbbd1-3613-4448-b337-df9bdc240164",
   "metadata": {},
   "outputs": [],
   "source": [
    "have_same_values(0);"
   ]
  },
  {
   "cell_type": "markdown",
   "id": "c102f123-41be-476e-85b8-c9eafdcfe448",
   "metadata": {},
   "source": [
    "**Q:** Why is the an error in the raw hint? It should be exactly the same, because it is just an canny edge detector applied to the same image.\n",
    "\n",
    "**Edit: A:** I used slightly different images.. But now I'm using exactly the same images."
   ]
  },
  {
   "cell_type": "code",
   "execution_count": null,
   "id": "1c9126bf-6e41-47dc-a3d1-7cb831944ca8",
   "metadata": {},
   "outputs": [],
   "source": [
    "hint_cloud, hint_local = outp_cloud[3].t, outp_local[3].t\n",
    "(hint_cloud-hint_local).abs().mean(), (hint_cloud-hint_local).abs().max()"
   ]
  },
  {
   "cell_type": "code",
   "execution_count": null,
   "id": "02087b2f-265f-494b-b293-fad8a23ef534",
   "metadata": {},
   "outputs": [],
   "source": [
    "import einops\n",
    "def compare_two_images(im1,im2,titles=None,figsize=(10,10)):\n",
    "    def shape(o): return o.shape if hasattr(o,'shape') else o.size\n",
    "    def make_channel_last(im): return einops.rearrange(im, 'c w h-> w h c') if shape(im)[0] in (1,3) else im\n",
    "    im1,im2 = make_channel_last(im1),make_channel_last(im2)\n",
    "    plt.figure(figsize=figsize)\n",
    "    plt.subplot(1, 2, 1)\n",
    "    plt.imshow(im1)\n",
    "    if titles is not None: plt.title(titles[0])\n",
    "    plt.subplot(1, 2, 2)\n",
    "    plt.imshow(im2)\n",
    "    if titles is not None: plt.title(titles[1])\n",
    "    plt.show()"
   ]
  },
  {
   "cell_type": "code",
   "execution_count": null,
   "id": "0d2133f9-82a8-49c7-88d2-d3ea14d01578",
   "metadata": {},
   "outputs": [],
   "source": [
    "compare_two_images(hint_cloud[0], hint_local[0], ('Cloud', 'Local'))"
   ]
  },
  {
   "cell_type": "markdown",
   "id": "0baa6b25-02c2-453a-a67f-e9bdbb22c0d2",
   "metadata": {},
   "source": [
    "**The detected canny edges are different!**"
   ]
  },
  {
   "cell_type": "markdown",
   "id": "54c765f5-09c8-45b9-97da-e84b44feb960",
   "metadata": {},
   "source": [
    "Here's a plot of their delta"
   ]
  },
  {
   "cell_type": "code",
   "execution_count": null,
   "id": "43735992-d161-4cf0-96bd-cc375454c84b",
   "metadata": {},
   "outputs": [],
   "source": [
    "hint_delta = (hint_cloud[0]-hint_local[0]).abs()\n",
    "plt.imshow(einops.rearrange(hint_delta, 'c w h-> w h c'))"
   ]
  },
  {
   "cell_type": "markdown",
   "id": "6be101e1-303e-4481-814c-2f730fc05d4c",
   "metadata": {},
   "source": [
    "I was using differnt threshold levels 😲"
   ]
  },
  {
   "cell_type": "code",
   "execution_count": null,
   "id": "94512b03-077e-484f-af71-c7d3aec644a2",
   "metadata": {},
   "outputs": [],
   "source": [
    "edge_local_setting = get_canny_edges(image)\n",
    "edge_cloud_setting = get_canny_edges(image, threshold=(100,250))  # as in cloud"
   ]
  },
  {
   "cell_type": "code",
   "execution_count": null,
   "id": "f3834217-ed2d-4044-9888-ba3c9c5675b2",
   "metadata": {},
   "outputs": [],
   "source": [
    "plt.figure(figsize=(10,10))\n",
    "\n",
    "plt.subplot(1, 2, 1)\n",
    "plt.imshow(edge_cloud_setting)\n",
    "plt.title('Cloud settings')\n",
    "\n",
    "plt.subplot(1, 2, 2)\n",
    "plt.imshow(edge_local_setting)\n",
    "plt.title('Local settings')\n",
    "\n",
    "plt.show()"
   ]
  },
  {
   "cell_type": "code",
   "execution_count": null,
   "id": "57d27be9-2421-4f46-bd50-5a4e2fd456a3",
   "metadata": {},
   "outputs": [],
   "source": [
    "plt.imshow(hint_cloud[0][0]-edge_cloud_setting)"
   ]
  },
  {
   "cell_type": "code",
   "execution_count": null,
   "id": "2a4543cb-f618-4d4e-bdd4-1f9725c15dd8",
   "metadata": {},
   "outputs": [],
   "source": [
    "(hint_cloud[0][0]-edge_cloud_setting).abs().mean(), (hint_cloud[0][0]-edge_cloud_setting).abs().max()"
   ]
  },
  {
   "cell_type": "code",
   "execution_count": null,
   "id": "651b5104-8a53-43ab-8034-1ec56b49d455",
   "metadata": {},
   "outputs": [],
   "source": [
    "edge_wrong_cloud_setting = get_canny_edges(image, threshold=(250,100))"
   ]
  },
  {
   "cell_type": "code",
   "execution_count": null,
   "id": "bcb10330-841b-4e6b-a445-cc18b922818f",
   "metadata": {},
   "outputs": [],
   "source": [
    "(hint_cloud[0][0]-edge_wrong_cloud_setting).abs().mean(), (hint_cloud[0][0]-edge_wrong_cloud_setting).abs().max()"
   ]
  },
  {
   "cell_type": "code",
   "execution_count": null,
   "id": "9738d87d-882c-4d1d-8695-e6a4197d5d5f",
   "metadata": {},
   "outputs": [],
   "source": [
    "torch.tensor(edge_cloud_setting-edge_wrong_cloud_setting).abs().mean(), torch.tensor(edge_cloud_setting-edge_wrong_cloud_setting).abs().max()"
   ]
  },
  {
   "cell_type": "code",
   "execution_count": null,
   "id": "c167676f-cac5-4fb8-941b-29cf558202bb",
   "metadata": {},
   "outputs": [],
   "source": []
  },
  {
   "cell_type": "code",
   "execution_count": null,
   "id": "1da313cf-6ec8-4d42-aad6-903e46ab0a8e",
   "metadata": {},
   "outputs": [],
   "source": [
    "im_local = load_image('input_images/shoe_old.png')\n",
    "im_cloud = load_image('input_images/shoe_cloud.png')"
   ]
  },
  {
   "cell_type": "code",
   "execution_count": null,
   "id": "ee97c9be-128d-4933-bc2d-8b14fe7271cd",
   "metadata": {},
   "outputs": [],
   "source": [
    "compare_two_images(im_cloud,im_local,('cloud','local'))"
   ]
  },
  {
   "cell_type": "code",
   "execution_count": null,
   "id": "8a1a9bbc-e8eb-4b88-a906-ce0d23032351",
   "metadata": {},
   "outputs": [],
   "source": [
    "from torchvision.transforms import ToTensor\n",
    "to_t = ToTensor()"
   ]
  },
  {
   "cell_type": "code",
   "execution_count": null,
   "id": "fc329ec6-449e-4ad1-be8b-d77669a1947d",
   "metadata": {},
   "outputs": [],
   "source": [
    "(to_t(im_local)-to_t(im_cloud)).abs().mean(), (to_t(im_local)-to_t(im_cloud)).abs().max()"
   ]
  },
  {
   "cell_type": "code",
   "execution_count": null,
   "id": "0c40a5bc-5b82-4103-a911-d7b90b5936b4",
   "metadata": {},
   "outputs": [],
   "source": [
    "to_t(im_local).max(), to_t(im_local).min()"
   ]
  },
  {
   "cell_type": "markdown",
   "id": "8987933a-6f66-47ee-bf90-020a09828866",
   "metadata": {},
   "source": [
    "___"
   ]
  },
  {
   "cell_type": "code",
   "execution_count": null,
   "id": "83944120-5ac7-4b10-84f8-7779b725542f",
   "metadata": {},
   "outputs": [],
   "source": [
    "compare_intermediate_results(n=20)"
   ]
  },
  {
   "cell_type": "markdown",
   "id": "76ff4ec5-5074-4017-8241-3be70f6be2e0",
   "metadata": {},
   "source": [
    "Okay, now the first larger difference is after the 1st base encoder subblock (which is only a ResNet)"
   ]
  },
  {
   "cell_type": "code",
   "execution_count": null,
   "id": "ce4cd6b6-a428-4592-9a9a-040c7310390f",
   "metadata": {},
   "outputs": [],
   "source": [
    "from diffusers.models.controlnetxs import to_sub_blocks\n",
    "my_subs = to_sub_blocks(cnxs.base_model.down_blocks[0])\n",
    "assert len(my_subs)==3\n",
    "first_base_enc_subblock = my_subs[0]"
   ]
  },
  {
   "cell_type": "code",
   "execution_count": null,
   "id": "97526e1c-fea4-4d88-93a3-14bb2e3ba14c",
   "metadata": {},
   "outputs": [],
   "source": [
    "first_base_enc_subblock # that's the local module (I can't access cloud modules)"
   ]
  },
  {
   "cell_type": "code",
   "execution_count": null,
   "id": "51fab23f-1132-4898-927e-52275dc366bd",
   "metadata": {},
   "outputs": [],
   "source": [
    "prev_h_base_cloud = outp_cloud[8].t.to(device)\n",
    "prev_h_base_local = outp_local[8].t.to(device)\n",
    "\n",
    "temb_cloud = outp_cloud[1].t.to(device)\n",
    "temb_local = outp_local[1].t.to(device)\n",
    "\n",
    "current_h_base_cloud = outp_cloud[10].t.to(device)\n",
    "current_h_base_local = outp_local[10].t.to(device)"
   ]
  },
  {
   "cell_type": "code",
   "execution_count": null,
   "id": "c684fb2f-a7f0-4bab-b73e-ca6cc722da6c",
   "metadata": {},
   "outputs": [],
   "source": [
    "(current_h_base_local == first_base_enc_subblock(prev_h_base_local, temb_local, None)).all()"
   ]
  },
  {
   "cell_type": "code",
   "execution_count": null,
   "id": "f26b32c1-2b5c-4714-b610-4a7682a3a5a2",
   "metadata": {},
   "outputs": [],
   "source": [
    "assert_close(current_h_base_local, first_base_enc_subblock(prev_h_base_local, temb_local, None))"
   ]
  },
  {
   "cell_type": "markdown",
   "id": "797073a4-0908-4aef-b5fa-0fdd6a6a4197",
   "metadata": {},
   "source": [
    "**Q:** Do the subblocks on local and cloud do the same thing?\n",
    "\n",
    "Test: If the subblock on local and cloud were identical, passing the cloud inputs to the local subblock should produce cloud ouputs"
   ]
  },
  {
   "cell_type": "code",
   "execution_count": null,
   "id": "8f9b34e2-4abd-49f0-8306-90fd7bd35c6f",
   "metadata": {},
   "outputs": [],
   "source": [
    "(current_h_base_cloud == first_base_enc_subblock(prev_h_base_cloud, temb_cloud, None)).all()"
   ]
  },
  {
   "cell_type": "code",
   "execution_count": null,
   "id": "55296ddf-a9aa-4488-9880-729e6387cfcb",
   "metadata": {},
   "outputs": [],
   "source": [
    "assert_close(current_h_base_cloud, first_base_enc_subblock(prev_h_base_cloud, temb_cloud, None))"
   ]
  },
  {
   "cell_type": "markdown",
   "id": "3806e8e7-559c-4a3a-ada1-cfd7029da3c4",
   "metadata": {},
   "source": [
    "**A:** Answer, no, they seem to be different"
   ]
  },
  {
   "cell_type": "markdown",
   "id": "4ec2ed3c-bdae-4446-8eb7-4d3d060c311e",
   "metadata": {},
   "source": [
    "## Next step: Compare ResNet implementation on cloud and local"
   ]
  },
  {
   "cell_type": "code",
   "execution_count": null,
   "id": "8b729193-3d55-4419-95dc-4e287696ca92",
   "metadata": {},
   "outputs": [],
   "source": [
    "import pickle\n",
    "with open('intermediate_output/local_resnet.pkl', 'rb') as f:\n",
    "    resnet_local_outp = pickle.load(f)"
   ]
  },
  {
   "cell_type": "code",
   "execution_count": null,
   "id": "4461282e-effe-4652-a024-b9948babbfb5",
   "metadata": {},
   "outputs": [],
   "source": [
    "for name,o,comm in resnet_local_outp:\n",
    "    print(comm,name,o.shape if hasattr(o,'shape') else len(o) if hasattr(o,'__len__') else 1)"
   ]
  },
  {
   "cell_type": "code",
   "execution_count": null,
   "id": "6892fe55-8283-477e-8696-f03ee8b08664",
   "metadata": {},
   "outputs": [],
   "source": []
  }
 ],
 "metadata": {
  "kernelspec": {
   "display_name": "Python 3 (ipykernel)",
   "language": "python",
   "name": "python3"
  },
  "language_info": {
   "codemirror_mode": {
    "name": "ipython",
    "version": 3
   },
   "file_extension": ".py",
   "mimetype": "text/x-python",
   "name": "python",
   "nbconvert_exporter": "python",
   "pygments_lexer": "ipython3",
   "version": "3.11.5"
  }
 },
 "nbformat": 4,
 "nbformat_minor": 5
}
