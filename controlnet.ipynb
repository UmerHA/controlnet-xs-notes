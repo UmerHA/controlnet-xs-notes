{
 "cells": [
  {
   "cell_type": "markdown",
   "id": "1ecf4cfc-33df-4bb2-b958-a9d1e8fb0ac3",
   "metadata": {},
   "source": [
    "The goal of this notebook is to play around with the unet in controlnet."
   ]
  },
  {
   "cell_type": "markdown",
   "id": "f57fcf3d-783a-4d8e-8c54-789f52f342f6",
   "metadata": {},
   "source": [
    "---"
   ]
  },
  {
   "cell_type": "code",
   "execution_count": 1,
   "id": "bc95bbe8-c46e-4077-a7df-13db4f6b556c",
   "metadata": {},
   "outputs": [],
   "source": [
    "import torch\n",
    "import torch.nn as nn"
   ]
  },
  {
   "cell_type": "code",
   "execution_count": 2,
   "id": "eb3c0742-a4dc-490e-9079-eb55bb8d712a",
   "metadata": {},
   "outputs": [],
   "source": [
    "device = \"cpu\"\n",
    "device_dtype = torch.float32"
   ]
  },
  {
   "cell_type": "code",
   "execution_count": 3,
   "id": "fcba272e-5764-42f8-8e72-102bee366bf8",
   "metadata": {},
   "outputs": [],
   "source": [
    "from diffusers import StableDiffusionControlNetPipeline, ControlNetModel"
   ]
  },
  {
   "cell_type": "code",
   "execution_count": 4,
   "id": "5f8e3bda-c313-4d12-9edd-5ffbf3ed50f5",
   "metadata": {},
   "outputs": [],
   "source": [
    "controlnet = ControlNetModel.from_pretrained(\"lllyasviel/sd-controlnet-canny\", torch_dtype=device_dtype)"
   ]
  },
  {
   "cell_type": "code",
   "execution_count": 5,
   "id": "b5f85f41-29df-44ff-977d-500512dfb973",
   "metadata": {},
   "outputs": [
    {
     "data": {
      "application/vnd.jupyter.widget-view+json": {
       "model_id": "e63ec06ccc944b6294f6c13287b65ee4",
       "version_major": 2,
       "version_minor": 0
      },
      "text/plain": [
       "Loading pipeline components...:   0%|          | 0/7 [00:00<?, ?it/s]"
      ]
     },
     "metadata": {},
     "output_type": "display_data"
    },
    {
     "name": "stderr",
     "output_type": "stream",
     "text": [
      "`text_config_dict` is provided which will be used to initialize `CLIPTextConfig`. The value `text_config[\"id2label\"]` will be overriden.\n",
      "`text_config_dict` is provided which will be used to initialize `CLIPTextConfig`. The value `text_config[\"bos_token_id\"]` will be overriden.\n",
      "`text_config_dict` is provided which will be used to initialize `CLIPTextConfig`. The value `text_config[\"eos_token_id\"]` will be overriden.\n"
     ]
    }
   ],
   "source": [
    "pipe = StableDiffusionControlNetPipeline.from_pretrained(\n",
    "    \"runwayml/stable-diffusion-v1-5\", controlnet=controlnet, torch_dtype=device_dtype\n",
    ").to(device)"
   ]
  },
  {
   "cell_type": "code",
   "execution_count": 6,
   "id": "d4adb126-55fb-4203-a09b-bfac31fa5403",
   "metadata": {},
   "outputs": [
    {
     "name": "stdout",
     "output_type": "stream",
     "text": [
      "<class 'diffusers.models.unet_2d_blocks.CrossAttnDownBlock2D'>\n",
      "<class 'diffusers.models.unet_2d_blocks.CrossAttnDownBlock2D'>\n",
      "<class 'diffusers.models.unet_2d_blocks.CrossAttnDownBlock2D'>\n",
      "<class 'diffusers.models.unet_2d_blocks.DownBlock2D'>\n",
      "--\n",
      "<class 'diffusers.models.unet_2d_blocks.UNetMidBlock2DCrossAttn'>\n",
      "--\n",
      "<class 'diffusers.models.unet_2d_blocks.UpBlock2D'>\n",
      "<class 'diffusers.models.unet_2d_blocks.CrossAttnUpBlock2D'>\n",
      "<class 'diffusers.models.unet_2d_blocks.CrossAttnUpBlock2D'>\n",
      "<class 'diffusers.models.unet_2d_blocks.CrossAttnUpBlock2D'>\n"
     ]
    }
   ],
   "source": [
    "for m in pipe.unet.down_blocks: print(type(m))\n",
    "print('--')\n",
    "print(type(pipe.unet.mid_block))\n",
    "print('--')\n",
    "for m in pipe.unet.up_blocks: print(type(m))"
   ]
  },
  {
   "cell_type": "markdown",
   "id": "d58f71bc-bc86-40fd-8d18-4bf6e1bd4487",
   "metadata": {},
   "source": [
    "This is the architecture from the ControlNet-XS repo:\n",
    "\n",
    "**Down**\n",
    "\n",
    "    Conv2d      --> appending (   4, 320)\n",
    "    ResBlock    --> appending ( 320, 320)\n",
    "    ResBlock    --> appending ( 320, 320)\n",
    "    Downsample  --> appending ( 320, 320)\n",
    "    ResBlock    --> appending ( 320, 640)\n",
    "    ResBlock    --> appending ( 640, 640)\n",
    "    Downsample  --> appending ( 640, 640)\n",
    "    ResBlock    --> appending ( 640,1280)\n",
    "    ResBlock    --> appending (1280,1280)\n",
    "\n",
    "**Mid**\n",
    "\n",
    "    (1280, 1280)\n",
    "\n",
    "**Up**\n",
    "\n",
    "    ResBlock    --> appending (2560,1280)\n",
    "    ResBlock    --> appending (2560,1280)\n",
    "    ResBlock    --> appending (1920,1280)\n",
    "    ResBlock    --> appending (1920, 640)\n",
    "    ResBlock    --> appending (1280, 640)\n",
    "    ResBlock    --> appending ( 960, 640)\n",
    "    ResBlock    --> appending ( 960, 320)\n",
    "    ResBlock    --> appending ( 640, 320)\n",
    "    ResBlock    --> appending ( 640, 320)"
   ]
  },
  {
   "cell_type": "markdown",
   "id": "66d058d8-5058-4bbf-8eb7-72905d33ea79",
   "metadata": {},
   "source": [
    "---"
   ]
  },
  {
   "cell_type": "code",
   "execution_count": 7,
   "id": "8bbdd890-7c41-4f58-9b68-62dc6c3a8a4c",
   "metadata": {},
   "outputs": [
    {
     "name": "stdout",
     "output_type": "stream",
     "text": [
      "<class 'diffusers.models.transformer_2d.Transformer2DModel'>\n",
      "<class 'diffusers.models.transformer_2d.Transformer2DModel'>\n",
      "<class 'diffusers.models.resnet.ResnetBlock2D'>\n",
      "<class 'diffusers.models.resnet.ResnetBlock2D'>\n",
      "<class 'diffusers.models.resnet.Downsample2D'>\n"
     ]
    }
   ],
   "source": [
    "for m in pipe.unet.down_blocks[0].attentions: print(type(m))\n",
    "for m in pipe.unet.down_blocks[0].resnets: print(type(m))\n",
    "for m in pipe.unet.down_blocks[0].downsamplers: print(type(m))"
   ]
  },
  {
   "cell_type": "markdown",
   "id": "4d16e062-8ba6-419f-b4ae-33ed76459040",
   "metadata": {},
   "source": [
    "It seem we have the following correspondance from CN-XS to diffusuers:\n",
    "- ResBlock -> ResnetBlock2D\n",
    "- DownSample -> Transformer2DModel"
   ]
  },
  {
   "cell_type": "markdown",
   "id": "9d4e925f-eadb-4659-a592-69cce6c38cbb",
   "metadata": {},
   "source": [
    "Is that really correct? I'm not sure... Let's try to map via channel numbers"
   ]
  },
  {
   "cell_type": "code",
   "execution_count": 8,
   "id": "e9b7a9ad-9db5-4257-9537-6f809a1d4274",
   "metadata": {},
   "outputs": [
    {
     "ename": "AttributeError",
     "evalue": "'CrossAttnDownBlock2D' object has no attribute 'in_channels'",
     "output_type": "error",
     "traceback": [
      "\u001b[0;31m---------------------------------------------------------------------------\u001b[0m",
      "\u001b[0;31mAttributeError\u001b[0m                            Traceback (most recent call last)",
      "Cell \u001b[0;32mIn[8], line 2\u001b[0m\n\u001b[1;32m      1\u001b[0m \u001b[38;5;28;01mfor\u001b[39;00m m \u001b[38;5;129;01min\u001b[39;00m pipe\u001b[38;5;241m.\u001b[39munet\u001b[38;5;241m.\u001b[39mdown_blocks:\n\u001b[0;32m----> 2\u001b[0m     \u001b[38;5;28mprint\u001b[39m(\u001b[43mm\u001b[49m\u001b[38;5;241;43m.\u001b[39;49m\u001b[43min_channels\u001b[49m)\n",
      "File \u001b[0;32m~/.local/share/virtualenvs/notebooks-cFP-wGb-/lib/python3.11/site-packages/torch/nn/modules/module.py:1614\u001b[0m, in \u001b[0;36mModule.__getattr__\u001b[0;34m(self, name)\u001b[0m\n\u001b[1;32m   1612\u001b[0m     \u001b[38;5;28;01mif\u001b[39;00m name \u001b[38;5;129;01min\u001b[39;00m modules:\n\u001b[1;32m   1613\u001b[0m         \u001b[38;5;28;01mreturn\u001b[39;00m modules[name]\n\u001b[0;32m-> 1614\u001b[0m \u001b[38;5;28;01mraise\u001b[39;00m \u001b[38;5;167;01mAttributeError\u001b[39;00m(\u001b[38;5;124m\"\u001b[39m\u001b[38;5;124m'\u001b[39m\u001b[38;5;132;01m{}\u001b[39;00m\u001b[38;5;124m'\u001b[39m\u001b[38;5;124m object has no attribute \u001b[39m\u001b[38;5;124m'\u001b[39m\u001b[38;5;132;01m{}\u001b[39;00m\u001b[38;5;124m'\u001b[39m\u001b[38;5;124m\"\u001b[39m\u001b[38;5;241m.\u001b[39mformat(\n\u001b[1;32m   1615\u001b[0m     \u001b[38;5;28mtype\u001b[39m(\u001b[38;5;28mself\u001b[39m)\u001b[38;5;241m.\u001b[39m\u001b[38;5;18m__name__\u001b[39m, name))\n",
      "\u001b[0;31mAttributeError\u001b[0m: 'CrossAttnDownBlock2D' object has no attribute 'in_channels'"
     ]
    }
   ],
   "source": [
    "for m in pipe.unet.down_blocks:\n",
    "    print(m.in_channels)"
   ]
  },
  {
   "cell_type": "markdown",
   "id": "67dbcce0-1823-40b5-be0a-cde9f5564381",
   "metadata": {},
   "source": [
    "Okay, there are no attributes 'in_channels' (and I assume also 'out_channels') that are directly accessable. Where could they be? 🤔"
   ]
  },
  {
   "cell_type": "code",
   "execution_count": 9,
   "id": "9e5e827d-02db-4ec6-beeb-e59f41841354",
   "metadata": {},
   "outputs": [],
   "source": [
    "def public_attrs(o): print([v for v in dir(o) if not v.startswith('_')])"
   ]
  },
  {
   "cell_type": "code",
   "execution_count": 10,
   "id": "4c1e9fa4-f294-4918-8e5f-dba87984b160",
   "metadata": {},
   "outputs": [],
   "source": [
    "blam = pipe.unet.down_blocks[0]"
   ]
  },
  {
   "cell_type": "code",
   "execution_count": 11,
   "id": "0aa13ff7-0237-4a63-ba36-4ff07ecc9aee",
   "metadata": {},
   "outputs": [
    {
     "name": "stdout",
     "output_type": "stream",
     "text": [
      "['T_destination', 'add_module', 'apply', 'attentions', 'bfloat16', 'buffers', 'call_super_init', 'children', 'cpu', 'cuda', 'double', 'downsamplers', 'dump_patches', 'eval', 'extra_repr', 'float', 'forward', 'get_buffer', 'get_extra_state', 'get_parameter', 'get_submodule', 'gradient_checkpointing', 'half', 'has_cross_attention', 'ipu', 'load_state_dict', 'modules', 'named_buffers', 'named_children', 'named_modules', 'named_parameters', 'num_attention_heads', 'parameters', 'register_backward_hook', 'register_buffer', 'register_forward_hook', 'register_forward_pre_hook', 'register_full_backward_hook', 'register_full_backward_pre_hook', 'register_load_state_dict_post_hook', 'register_module', 'register_parameter', 'register_state_dict_pre_hook', 'requires_grad_', 'resnets', 'set_extra_state', 'share_memory', 'state_dict', 'to', 'to_empty', 'train', 'training', 'type', 'xpu', 'zero_grad']\n"
     ]
    }
   ],
   "source": [
    "public_attrs(blam)"
   ]
  },
  {
   "cell_type": "markdown",
   "id": "b1831b41-0d8d-4ad8-bf10-0130b9a4d589",
   "metadata": {},
   "source": [
    "No other attribute name looks like they contain the info 'in_channels'/'out_channels'"
   ]
  },
  {
   "cell_type": "markdown",
   "id": "7afc3405-3859-4c02-8f94-bffb95a6686e",
   "metadata": {},
   "source": [
    "Looking at the code of `CrossAttnDownBlock2D`, we can get `in_channels`/`out_channels` from the RestNets.\n",
    "\n",
    "The 1ts resnet changes the channel number fomr `in_channels` to `out_channels`, so we can get both from the 1st resnet block."
   ]
  },
  {
   "cell_type": "code",
   "execution_count": 12,
   "id": "44872fdf-b9a8-48e5-a8df-d7980e6aeb5e",
   "metadata": {},
   "outputs": [
    {
     "data": {
      "text/plain": [
       "(320, 320)"
      ]
     },
     "execution_count": 12,
     "metadata": {},
     "output_type": "execute_result"
    }
   ],
   "source": [
    "blam.resnets[0].in_channels, blam.resnets[0].out_channels"
   ]
  },
  {
   "cell_type": "code",
   "execution_count": 13,
   "id": "764f435c-2bef-4550-a65d-4d4db47bf2e2",
   "metadata": {},
   "outputs": [],
   "source": [
    "from diffusers.models.unet_2d_blocks import CrossAttnDownBlock2D, DownBlock2D, CrossAttnUpBlock2D, UpBlock2D\n",
    "\n",
    "def print_channels(m):\n",
    "    if isinstance(m, CrossAttnDownBlock2D): ni,no=m.resnets[0].in_channels, m.resnets[0].out_channels\n",
    "    elif isinstance(m, DownBlock2D): ni,no=m.resnets[0].in_channels, m.resnets[0].out_channels\n",
    "\n",
    "    elif isinstance(m, CrossAttnUpBlock2D): ni,no=m.resnets[0].in_channels, m.resnets[0].out_channels\n",
    "    elif isinstance(m, UpBlock2D): ni,no=m.resnets[0].in_channels, m.resnets[0].out_channels\n",
    "\n",
    "    else:\n",
    "        print(f'Channel inspection not implemented for type {type(m)}, brah')\n",
    "        return\n",
    "        \n",
    "    print(f'({ni}, {no})') "
   ]
  },
  {
   "cell_type": "code",
   "execution_count": 14,
   "id": "f9de3d8c-c6f3-4ef7-9f23-60ad1e80d574",
   "metadata": {},
   "outputs": [
    {
     "name": "stdout",
     "output_type": "stream",
     "text": [
      "(320, 320)\n"
     ]
    }
   ],
   "source": [
    "print_channels(blam)"
   ]
  },
  {
   "cell_type": "code",
   "execution_count": 15,
   "id": "a5d7e205-0678-42f5-8b50-9277ea786dae",
   "metadata": {},
   "outputs": [
    {
     "name": "stdout",
     "output_type": "stream",
     "text": [
      "<class 'diffusers.models.transformer_2d.Transformer2DModel'>\n",
      "<class 'diffusers.models.transformer_2d.Transformer2DModel'>\n",
      "<class 'diffusers.models.resnet.ResnetBlock2D'>\n",
      "<class 'diffusers.models.resnet.ResnetBlock2D'>\n",
      "<class 'diffusers.models.resnet.Downsample2D'>\n"
     ]
    }
   ],
   "source": [
    "for m in pipe.unet.down_blocks[0].attentions: print(type(m))\n",
    "for m in pipe.unet.down_blocks[0].resnets: print(type(m))\n",
    "for m in pipe.unet.down_blocks[0].downsamplers: print(type(m))"
   ]
  },
  {
   "cell_type": "code",
   "execution_count": 16,
   "id": "5ab17dd9-7bd2-40f3-b7da-4eed6481925a",
   "metadata": {},
   "outputs": [],
   "source": [
    "all_blocks = list(pipe.unet.down_blocks) + [pipe.unet.mid_block] + list(pipe.unet.up_blocks)"
   ]
  },
  {
   "cell_type": "code",
   "execution_count": 17,
   "id": "8ff1acc9-149e-49b0-8487-6738e4bf0506",
   "metadata": {},
   "outputs": [
    {
     "name": "stdout",
     "output_type": "stream",
     "text": [
      "<class 'diffusers.models.unet_2d_blocks.CrossAttnDownBlock2D'>\n",
      "<class 'diffusers.models.unet_2d_blocks.CrossAttnDownBlock2D'>\n",
      "<class 'diffusers.models.unet_2d_blocks.CrossAttnDownBlock2D'>\n",
      "<class 'diffusers.models.unet_2d_blocks.DownBlock2D'>\n",
      "<class 'diffusers.models.unet_2d_blocks.UNetMidBlock2DCrossAttn'>\n",
      "<class 'diffusers.models.unet_2d_blocks.UpBlock2D'>\n",
      "<class 'diffusers.models.unet_2d_blocks.CrossAttnUpBlock2D'>\n",
      "<class 'diffusers.models.unet_2d_blocks.CrossAttnUpBlock2D'>\n",
      "<class 'diffusers.models.unet_2d_blocks.CrossAttnUpBlock2D'>\n"
     ]
    }
   ],
   "source": [
    "for m in all_blocks: print(type(m))"
   ]
  },
  {
   "cell_type": "code",
   "execution_count": 18,
   "id": "3fd31eca-e963-4e59-a409-7092e957508a",
   "metadata": {},
   "outputs": [
    {
     "name": "stdout",
     "output_type": "stream",
     "text": [
      "(320, 320)\n",
      "(320, 640)\n",
      "(640, 1280)\n",
      "(1280, 1280)\n",
      "Channel inspection not implemented for type <class 'diffusers.models.unet_2d_blocks.UNetMidBlock2DCrossAttn'>, brah\n",
      "(2560, 1280)\n",
      "(2560, 1280)\n",
      "(1920, 640)\n",
      "(960, 320)\n"
     ]
    }
   ],
   "source": [
    "for m in all_blocks: print_channels(m)"
   ]
  },
  {
   "cell_type": "markdown",
   "id": "90d7ead0-d575-4ae6-9412-267192d0d23c",
   "metadata": {},
   "source": [
    "**Q-1:** We have channels sizes for all blocks in the down part of the unet. Is that enough, or for which block do we actually need to record the channel nums?"
   ]
  },
  {
   "cell_type": "markdown",
   "id": "30e26bcb-d672-4c6e-bdd7-ae91780b9e24",
   "metadata": {},
   "source": [
    "**Down**\n",
    "\n",
    "    Conv2d      --> appending (   4, 320)\n",
    "    ResBlock    --> appending ( 320, 320)\n",
    "    ResBlock    --> appending ( 320, 320)\n",
    "    Downsample  --> appending ( 320, 320)\n",
    "    ResBlock    --> appending ( 320, 640)\n",
    "    ResBlock    --> appending ( 640, 640)\n",
    "    Downsample  --> appending ( 640, 640)\n",
    "    ResBlock    --> appending ( 640,1280)\n",
    "    ResBlock    --> appending (1280,1280)\n",
    "\n",
    "**Mid**\n",
    "\n",
    "    (1280, 1280)\n",
    "\n",
    "**Up**\n",
    "\n",
    "    ResBlock    --> appending (2560,1280)\n",
    "    ResBlock    --> appending (2560,1280)\n",
    "    ResBlock    --> appending (1920,1280)\n",
    "    ResBlock    --> appending (1920, 640)\n",
    "    ResBlock    --> appending (1280, 640)\n",
    "    ResBlock    --> appending ( 960, 640)\n",
    "    ResBlock    --> appending ( 960, 320)\n",
    "    ResBlock    --> appending ( 640, 320)\n",
    "    ResBlock    --> appending ( 640, 320)"
   ]
  },
  {
   "cell_type": "markdown",
   "id": "d4294db3-0e27-47ad-9c04-9d13ca831523",
   "metadata": {},
   "source": [
    "**No**, we don't have all channels sizes for the down part. We only have 4 pairs of numbers, but CN-XS has 9."
   ]
  },
  {
   "cell_type": "code",
   "execution_count": 19,
   "id": "0f9d9d51-cf8a-40e2-b679-5f823f1e14fa",
   "metadata": {},
   "outputs": [
    {
     "name": "stdout",
     "output_type": "stream",
     "text": [
      "ResBlock 320 320\n",
      "ResBlock 320 320\n",
      "Downsample 320 320\n",
      "--\n",
      "ResBlock 320 640\n",
      "ResBlock 640 640\n",
      "Downsample 640 640\n",
      "--\n",
      "ResBlock 640 1280\n",
      "ResBlock 1280 1280\n",
      "Downsample 1280 1280\n",
      "--\n",
      "ResBlock 1280 1280\n",
      "ResBlock 1280 1280\n",
      "--\n"
     ]
    }
   ],
   "source": [
    "for m in pipe.unet.down_blocks:\n",
    "    for r in m.resnets: print('ResBlock', r.in_channels, r.out_channels)\n",
    "    if m.downsamplers: print('Downsample', m.downsamplers[0].channels, m.downsamplers[0].out_channels)\n",
    "    print('--')"
   ]
  },
  {
   "cell_type": "markdown",
   "id": "dbc60d09-c16e-46ae-bc3b-60b8433ade79",
   "metadata": {},
   "source": [
    "Okay, now the numbers match! Still left to do:\n",
    "- Where do I get the conv2d channels from?\n",
    "- Why does the unet have extra blocks at the end: 1 downsample + 2 resnets?"
   ]
  },
  {
   "cell_type": "markdown",
   "id": "b6560bf4-89ef-4c2c-8c32-2aac26d97fac",
   "metadata": {},
   "source": [
    "___"
   ]
  },
  {
   "cell_type": "markdown",
   "id": "77f88738-9d32-4756-b7dd-61776be46ee4",
   "metadata": {},
   "source": [
    "**Hypothesis:** diffuers / cnxs use different versions of stable diffusion.<br/>\n",
    "**Test:** run examination also for sd2.1 & sdxl<br/>\n",
    "**Result:** yes, I used sd1.5 for diffusers, but used the default params for sdxl in cnxs"
   ]
  },
  {
   "cell_type": "code",
   "execution_count": 20,
   "id": "18032539-58ec-438b-867e-1ef95aa4955a",
   "metadata": {
    "scrolled": true
   },
   "outputs": [
    {
     "data": {
      "application/vnd.jupyter.widget-view+json": {
       "model_id": "e3e495961ebe42718e97a4e1e1ad65a2",
       "version_major": 2,
       "version_minor": 0
      },
      "text/plain": [
       "Loading pipeline components...:   0%|          | 0/6 [00:00<?, ?it/s]"
      ]
     },
     "metadata": {},
     "output_type": "display_data"
    }
   ],
   "source": [
    "pipe21 = StableDiffusionControlNetPipeline.from_pretrained(\n",
    "    \"stabilityai/stable-diffusion-2-1\", controlnet=controlnet, torch_dtype=device_dtype\n",
    ").to(device)"
   ]
  },
  {
   "cell_type": "code",
   "execution_count": 21,
   "id": "870b07a7-6449-496c-9965-350f2cddc364",
   "metadata": {},
   "outputs": [
    {
     "name": "stdout",
     "output_type": "stream",
     "text": [
      "ResBlock 320 320\n",
      "ResBlock 320 320\n",
      "Downsample 320 320\n",
      "--\n",
      "ResBlock 320 640\n",
      "ResBlock 640 640\n",
      "Downsample 640 640\n",
      "--\n",
      "ResBlock 640 1280\n",
      "ResBlock 1280 1280\n",
      "Downsample 1280 1280\n",
      "--\n",
      "ResBlock 1280 1280\n",
      "ResBlock 1280 1280\n",
      "--\n"
     ]
    }
   ],
   "source": [
    "for m in pipe21.unet.down_blocks:\n",
    "    for r in m.resnets: print('ResBlock', r.in_channels, r.out_channels)\n",
    "    if m.downsamplers: print('Downsample', m.downsamplers[0].channels, m.downsamplers[0].out_channels)\n",
    "    print('--')"
   ]
  },
  {
   "cell_type": "code",
   "execution_count": 22,
   "id": "61de76da-2584-4dbf-927c-953bf227022e",
   "metadata": {
    "scrolled": true
   },
   "outputs": [
    {
     "data": {
      "application/vnd.jupyter.widget-view+json": {
       "model_id": "bdb46d0ba3ee44cb999bdad68e1de3ba",
       "version_major": 2,
       "version_minor": 0
      },
      "text/plain": [
       "Loading pipeline components...:   0%|          | 0/5 [00:00<?, ?it/s]"
      ]
     },
     "metadata": {},
     "output_type": "display_data"
    },
    {
     "name": "stderr",
     "output_type": "stream",
     "text": [
      "You have disabled the safety checker for <class 'diffusers.pipelines.controlnet.pipeline_controlnet.StableDiffusionControlNetPipeline'> by passing `safety_checker=None`. Ensure that you abide to the conditions of the Stable Diffusion license and do not expose unfiltered results in services or applications open to the public. Both the diffusers team and Hugging Face strongly recommend to keep the safety filter enabled in all public facing circumstances, disabling it only for use-cases that involve analyzing network behavior or auditing its results. For more information, please have a look at https://github.com/huggingface/diffusers/pull/254 .\n"
     ]
    }
   ],
   "source": [
    "pipexl = StableDiffusionControlNetPipeline.from_pretrained(\n",
    "    \"stabilityai/stable-diffusion-xl-base-1.0\", controlnet=controlnet, torch_dtype=device_dtype\n",
    ").to(device)"
   ]
  },
  {
   "cell_type": "code",
   "execution_count": 23,
   "id": "9af89f06-39e9-49e5-8974-1d829fb4bcf7",
   "metadata": {},
   "outputs": [
    {
     "name": "stdout",
     "output_type": "stream",
     "text": [
      "ResBlock 320 320\n",
      "ResBlock 320 320\n",
      "Downsample 320 320\n",
      "--\n",
      "ResBlock 320 640\n",
      "ResBlock 640 640\n",
      "Downsample 640 640\n",
      "--\n",
      "ResBlock 640 1280\n",
      "ResBlock 1280 1280\n",
      "--\n"
     ]
    }
   ],
   "source": [
    "for m in pipexl.unet.down_blocks:\n",
    "    for r in m.resnets: print('ResBlock', r.in_channels, r.out_channels)\n",
    "    if m.downsamplers: print('Downsample', m.downsamplers[0].channels, m.downsamplers[0].out_channels)\n",
    "    print('--')"
   ]
  },
  {
   "cell_type": "markdown",
   "id": "120ab897-e39c-4103-bc22-c64da2897909",
   "metadata": {},
   "source": [
    "___"
   ]
  },
  {
   "cell_type": "markdown",
   "id": "e6354459-397e-4b02-b406-8903365ffa8d",
   "metadata": {},
   "source": [
    "Let's use the SDXL pipeline, as that was used in the CNXS code"
   ]
  },
  {
   "cell_type": "code",
   "execution_count": 24,
   "id": "0a09ff07-6fca-41e7-a19b-0af609e137c1",
   "metadata": {},
   "outputs": [],
   "source": [
    "all_blocks = list(pipexl.unet.down_blocks) + [pipexl.unet.mid_block] + list(pipexl.unet.up_blocks)"
   ]
  },
  {
   "cell_type": "code",
   "execution_count": 25,
   "id": "c9f0c901-2a61-4ca1-8f26-95f8f0319e2f",
   "metadata": {},
   "outputs": [],
   "source": [
    "from diffusers.models.unet_2d_blocks import CrossAttnDownBlock2D, DownBlock2D\n",
    "\n",
    "def get_channels_for_downblocks(ms):\n",
    "    channels = []\n",
    "\n",
    "    for m in ms:\n",
    "        if isinstance(m, (CrossAttnDownBlock2D, DownBlock2D)):\n",
    "            for r in m.resnets: channels.append((r.in_channels, r.out_channels))\n",
    "            if m.downsamplers:  channels.append((m.downsamplers[0].channels, m.downsamplers[0].out_channels))\n",
    "\n",
    "        else: print(f'Encountered unknown block of type {type(m)}, brah')\n",
    "    \n",
    "    return channels"
   ]
  },
  {
   "cell_type": "code",
   "execution_count": 26,
   "id": "1393326d-b2cd-40cc-85d9-d81a911023f6",
   "metadata": {},
   "outputs": [
    {
     "data": {
      "text/plain": [
       "[(320, 320),\n",
       " (320, 320),\n",
       " (320, 320),\n",
       " (320, 640),\n",
       " (640, 640),\n",
       " (640, 640),\n",
       " (640, 1280),\n",
       " (1280, 1280)]"
      ]
     },
     "execution_count": 26,
     "metadata": {},
     "output_type": "execute_result"
    }
   ],
   "source": [
    "get_channels_for_downblocks(pipexl.unet.down_blocks)"
   ]
  },
  {
   "cell_type": "code",
   "execution_count": 27,
   "id": "8c0f024e-6229-4b3b-9213-26eba4b3a36d",
   "metadata": {},
   "outputs": [],
   "source": [
    "from diffusers.models.unet_2d_blocks import UNetMidBlock2DCrossAttn\n",
    "\n",
    "def get_channels_for_midblock(m):\n",
    "    assert isinstance(m, UNetMidBlock2DCrossAttn)\n",
    "\n",
    "    return (m.resnets[0].in_channels, m.resnets[0].in_channels)"
   ]
  },
  {
   "cell_type": "code",
   "execution_count": 28,
   "id": "1a0c9564-1d34-4504-adc8-2b4f8b903ec8",
   "metadata": {},
   "outputs": [
    {
     "data": {
      "text/plain": [
       "(1280, 1280)"
      ]
     },
     "execution_count": 28,
     "metadata": {},
     "output_type": "execute_result"
    }
   ],
   "source": [
    "get_channels_for_midblock(pipexl.unet.mid_block)"
   ]
  },
  {
   "cell_type": "code",
   "execution_count": 29,
   "id": "3443d619-8951-45f1-9097-e2d12554728a",
   "metadata": {},
   "outputs": [],
   "source": [
    "from diffusers.models.unet_2d_blocks import CrossAttnUpBlock2D, UpBlock2D\n",
    "\n",
    "def get_channels_for_upblocks(ms):\n",
    "    channels = []\n",
    "\n",
    "    for m in ms:\n",
    "        if isinstance(m, (CrossAttnUpBlock2D, UpBlock2D)):\n",
    "            for r in m.resnets: channels.append((r.in_channels, r.out_channels))\n",
    "\n",
    "        else: print(f'Encountered unknown block of type {type(m)}, brah')\n",
    "    \n",
    "    return channels"
   ]
  },
  {
   "cell_type": "code",
   "execution_count": 30,
   "id": "faadb711-8fcf-4fe4-ae84-da96657f7403",
   "metadata": {},
   "outputs": [
    {
     "data": {
      "text/plain": [
       "[(2560, 1280),\n",
       " (2560, 1280),\n",
       " (1920, 1280),\n",
       " (1920, 640),\n",
       " (1280, 640),\n",
       " (960, 640),\n",
       " (960, 320),\n",
       " (640, 320),\n",
       " (640, 320)]"
      ]
     },
     "execution_count": 30,
     "metadata": {},
     "output_type": "execute_result"
    }
   ],
   "source": [
    "get_channels_for_upblocks(pipexl.unet.up_blocks)"
   ]
  },
  {
   "cell_type": "code",
   "execution_count": 31,
   "id": "8787f71f-3a8e-4e09-921f-edc0a43d3b85",
   "metadata": {},
   "outputs": [
    {
     "name": "stdout",
     "output_type": "stream",
     "text": [
      "enc:\t[(320, 320), (320, 320), (320, 320), (320, 640), (640, 640), (640, 640), (640, 1280), (1280, 1280)]\n",
      "mid:\t(1280, 1280)\n",
      "dec:\t[(2560, 1280), (2560, 1280), (1920, 1280), (1920, 640), (1280, 640), (960, 640), (960, 320), (640, 320), (640, 320)]\n"
     ]
    }
   ],
   "source": [
    "channel_nums = {\n",
    "    'enc': get_channels_for_downblocks(pipexl.unet.down_blocks),\n",
    "    'mid': get_channels_for_midblock  (pipexl.unet.mid_block),\n",
    "    'dec': get_channels_for_upblocks  (pipexl.unet.up_blocks)\n",
    "}\n",
    "\n",
    "for k,v in channel_nums.items():\n",
    "    print(f'{k}:\\t{str(v)}')"
   ]
  },
  {
   "cell_type": "markdown",
   "id": "c61d3c44-d343-4ee4-8e88-c02a1cc4824b",
   "metadata": {},
   "source": [
    "For comparison, here are the channel sizes from cnxs:"
   ]
  },
  {
   "cell_type": "code",
   "execution_count": 32,
   "id": "ea970eaa-0faa-4b59-b346-7ff812c29292",
   "metadata": {},
   "outputs": [
    {
     "name": "stdout",
     "output_type": "stream",
     "text": [
      "enc:\t[(4, 320), (320, 320), (320, 320), (320, 320), (320, 640), (640, 640), (640, 640), (640, 1280), (1280, 1280)]\n",
      "mid:\t[(1280, 1280)]\n",
      "dec:\t[(2560, 1280), (2560, 1280), (1920, 1280), (1920, 640), (1280, 640), (960, 640), (960, 320), (640, 320), (640, 320)]\n"
     ]
    }
   ],
   "source": [
    "channel_nums_reference = {\n",
    "    'enc': [(4, 320), (320, 320), (320, 320), (320, 320), (320, 640), (640, 640), (640, 640), (640, 1280), (1280, 1280)],\n",
    "    'mid': [(1280, 1280)],\n",
    "    'dec': [(2560, 1280), (2560, 1280), (1920, 1280), (1920, 640), (1280, 640), (960, 640), (960, 320), (640, 320), (640, 320)]\n",
    "}\n",
    "for k,v in channel_nums_reference.items():\n",
    "    print(f'{k}:\\t{str(v)}')"
   ]
  },
  {
   "cell_type": "markdown",
   "id": "b13c2547-dac2-4972-94ff-580747e1d2fa",
   "metadata": {},
   "source": [
    "Almost identical! Only the `(4, 320)` at the beginning is missing. This is the initial `Conv2D`. Where is that hiding in diffusers? 🕵🏽"
   ]
  },
  {
   "cell_type": "code",
   "execution_count": 33,
   "id": "88b6a83c-1a0b-4b96-b6b0-58e15aa1eab3",
   "metadata": {},
   "outputs": [
    {
     "data": {
      "text/plain": [
       "diffusers.models.unet_2d_condition.UNet2DConditionModel"
      ]
     },
     "execution_count": 33,
     "metadata": {},
     "output_type": "execute_result"
    }
   ],
   "source": [
    "type(pipexl.unet)"
   ]
  },
  {
   "cell_type": "code",
   "execution_count": 34,
   "id": "dd51268c-56f8-4f4a-84b2-1c992dd43196",
   "metadata": {},
   "outputs": [
    {
     "data": {
      "text/plain": [
       "(4, 320)"
      ]
     },
     "execution_count": 34,
     "metadata": {},
     "output_type": "execute_result"
    }
   ],
   "source": [
    "pipexl.unet.conv_in.in_channels, pipexl.unet.conv_in.out_channels"
   ]
  },
  {
   "cell_type": "markdown",
   "id": "7cf4ca22-6fda-47cb-87e3-bc4a08176397",
   "metadata": {},
   "source": [
    "There we have it!"
   ]
  },
  {
   "cell_type": "code",
   "execution_count": null,
   "id": "c6ae8009-a051-48da-ba95-de824aca127b",
   "metadata": {},
   "outputs": [],
   "source": []
  },
  {
   "cell_type": "code",
   "execution_count": null,
   "id": "ab56c293-1cd5-4eee-a444-05ec43ec81bc",
   "metadata": {},
   "outputs": [],
   "source": [
    "pipexl.unet.i"
   ]
  },
  {
   "cell_type": "code",
   "execution_count": null,
   "id": "2a41f4b2-31c3-4e6b-aae5-d46938dca711",
   "metadata": {},
   "outputs": [],
   "source": []
  }
 ],
 "metadata": {
  "kernelspec": {
   "display_name": "Python 3 (ipykernel)",
   "language": "python",
   "name": "python3"
  },
  "language_info": {
   "codemirror_mode": {
    "name": "ipython",
    "version": 3
   },
   "file_extension": ".py",
   "mimetype": "text/x-python",
   "name": "python",
   "nbconvert_exporter": "python",
   "pygments_lexer": "ipython3",
   "version": "3.11.5"
  }
 },
 "nbformat": 4,
 "nbformat_minor": 5
}
