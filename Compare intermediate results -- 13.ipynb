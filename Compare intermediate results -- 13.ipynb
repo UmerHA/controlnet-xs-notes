{
 "cells": [
  {
   "cell_type": "markdown",
   "id": "95f710be-a05b-4446-89aa-04f1337cb734",
   "metadata": {},
   "source": [
    "The images created by diffusers CNXS for **SD2.1** and canny input are clearly not right. They are far too brown.\n",
    "\n",
    "Let's compare the Heidelberg and diffusers versions on subblock level."
   ]
  },
  {
   "cell_type": "code",
   "execution_count": 1,
   "id": "2fa846a7-09c0-472e-b00b-53e1946eb913",
   "metadata": {
    "tags": []
   },
   "outputs": [],
   "source": [
    "import torch\n",
    "from torch.testing import assert_close\n",
    "from torch import allclose, nn, tensor\n",
    "torch.set_printoptions(linewidth=200, precision=3, sci_mode=False)"
   ]
  },
  {
   "cell_type": "code",
   "execution_count": 2,
   "id": "18ae4f5a-d7eb-4471-be6f-cae1f309ed92",
   "metadata": {
    "tags": []
   },
   "outputs": [],
   "source": [
    "device = 'cuda' if torch.cuda.is_available() else 'mps'\n",
    "device_dtype = torch.float16 if device == 'cuda' else torch.float32"
   ]
  },
  {
   "cell_type": "markdown",
   "id": "f72cc90d-07bd-4542-bb5d-ea079d26bead",
   "metadata": {},
   "source": [
    "## Load logs"
   ]
  },
  {
   "cell_type": "code",
   "execution_count": 3,
   "id": "877aac20-e525-4d08-8671-33c61661106f",
   "metadata": {
    "tags": []
   },
   "outputs": [
    {
     "name": "stdout",
     "output_type": "stream",
     "text": [
      "Info: `UmerDebugLogger` created. This is a logging class that will be deleted when the PR to integrate ControlNet-XS is done.\n"
     ]
    }
   ],
   "source": [
    "from diffusers.umer_debug_logger import UmerDebugLogger"
   ]
  },
  {
   "cell_type": "code",
   "execution_count": 18,
   "id": "c166a5e2-be58-4df0-a26c-6412c291abbd",
   "metadata": {
    "tags": []
   },
   "outputs": [
    {
     "name": "stdout",
     "output_type": "stream",
     "text": [
      "81 81\n"
     ]
    }
   ],
   "source": [
    "cloud_cuda = UmerDebugLogger.load_log_objects_from_dir('logs/cloud')\n",
    "local_cuda = UmerDebugLogger.load_log_objects_from_dir('logs/local_cuda')\n",
    "\n",
    "print(len(cloud_cuda), len(local_cuda))\n",
    "\n",
    "for i, (c,l) in enumerate(zip(cloud_cuda, local_cuda)):\n",
    "    if c.msg!=l.msg: print(f'{i:<3}{c.msg:>20}{l.msg:>20}')"
   ]
  },
  {
   "cell_type": "code",
   "execution_count": null,
   "id": "424192a3-874d-4e65-86f9-8d8914770541",
   "metadata": {
    "tags": []
   },
   "outputs": [],
   "source": []
  },
  {
   "cell_type": "markdown",
   "id": "994cd8cf-1682-47e5-a7ff-4ccb3095ad61",
   "metadata": {},
   "source": [
    "## Compare intermediate results"
   ]
  },
  {
   "cell_type": "code",
   "execution_count": 19,
   "id": "33be8da7-4831-46f8-9027-9d65bcc516df",
   "metadata": {
    "tags": []
   },
   "outputs": [],
   "source": [
    "def mae(t1,t2):\n",
    "    assert t1.shape==t2.shape\n",
    "    return (t1-t2).abs().mean()"
   ]
  },
  {
   "cell_type": "code",
   "execution_count": 20,
   "id": "e8caab89-aba7-45f5-b283-f2c83b40632d",
   "metadata": {
    "tags": []
   },
   "outputs": [],
   "source": [
    "from functools import partial\n",
    "from util_inspect import fmt_bool\n",
    "\n",
    "def compare_intermediate_results(n=None,n_start=0,prec=5, compare_prec=3, ignore_base=False):\n",
    "    if n is None: n=max(len(cloud_cuda), len(local_cuda))\n",
    "\n",
    "    print(f'{\"\":<3} | {\"block\":<20} | {\"shape\":<20} | {\"same names?\":<12} | {\"same shapes?\":<12} | {\"same values?\":<12} | {\"Δ cuda local -> cloud\":<20}')\n",
    "    print(f'{\"\":<3} | {\"\":<20} | {\"\":<20} | {\"\":<12} | {\"\":<12} | {\"prec=\"+str(compare_prec):^12} | {\"prec=\"+str(prec):^20}')\n",
    "\n",
    "    def calc_total_len(lens): return sum(lens)+3*len(lens)-1\n",
    "    total_len = calc_total_len((3,20,20,12,12,12,20))\n",
    "\n",
    "    line = partial(\n",
    "        lambda txt, width: print(txt * (width//len(txt))),\n",
    "        width=total_len\n",
    "    )\n",
    "    \n",
    "    labels = []\n",
    "    def add_label(lbs, ctrl=True):\n",
    "        if not isinstance(lbs, (list, tuple)): lbs = [lbs]\n",
    "        for l in lbs:\n",
    "            labels.append(('Base',l))\n",
    "        for l in lbs: \n",
    "            if ctrl: labels.append(('Ctrl',l))\n",
    "    \n",
    "    # # to separate logs into sections\n",
    "    lines_at, fat_lines_at = [],[]\n",
    "    def add_line_after(x): lines_at.append(lines_at[-1]+x)\n",
    "    def add_fat_line(): fat_lines_at.append(lines_at[-1])\n",
    "    \n",
    "    lines_at = [5]                                     # input \n",
    "    add_fat_line()\n",
    "    add_line_after(4)                                  # conv in\n",
    "    add_fat_line()\n",
    "    for _ in range(11): add_line_after(4)              # enc       (RA,RA,D / RA,RA,D / RA,RA,D / R,R )\n",
    "    add_fat_line()\n",
    "    add_line_after(4)                                  # mid\n",
    "    add_fat_line()\n",
    "    for _ in range(12): add_line_after(3)              # dec       (R,R,RU / RA,RA,RAU / RA,RA,RAU / RA,RA,RA )\n",
    "    add_fat_line()\n",
    "\n",
    "    # # to describe each log line\n",
    "    descrs = ['x', 'time info', 'text info', 'guidance image', 'guidance imagen (projected)']                             # input \n",
    "    descrs += ['base conv in','ctrl conv in','add guided hint to ctrl','add ctrl->base']                                  # conv in\n",
    "    for _ in range(11):descrs += ['concat base -> ctrl','apply base block','apply ctrl block','add ctrl -> base']         # enc\n",
    "    descrs += ['concat base -> ctrl', 'apply base block','apply ctrl block','add ctrl->base']                             # mid\n",
    "    for _ in range(12): descrs += ['add ctrl encoder->base decoder','apply base block']                                   # dec \n",
    "    descrs += ['base conv out'] \n",
    "    \n",
    "    line('#')\n",
    "    for i in range(n_start,n):\n",
    "        cc,lc = cloud_cuda[i], local_cuda[i]\n",
    "                \n",
    "        eq_name = cc.msg==lc.msg\n",
    "        eq_shape = cc.shape==lc.shape\n",
    "        \n",
    "        if eq_shape:\n",
    "            eq_vals = torch.allclose(cc.t,lc.t,atol=10**-compare_prec)\n",
    "            mae_2 = mae(lc.t,cc.t) \n",
    "            mae_2 = (\"{:>20.\"+str(prec)+\"f}\").format(mae_2)\n",
    "        else:\n",
    "            eq_vals,mae_2=False,'inf'\n",
    "        \n",
    "        print(f'{i+1:<3} | {cc.msg:<20} | {cc.shape:>20} | {fmt_bool(eq_name, \"^12\")} | {fmt_bool(eq_shape, \"^12\")} | {fmt_bool(eq_vals, \"^12\")} | {mae_2}\\t{descrs[i]}')\n",
    "\n",
    "        if i+1 in fat_lines_at: line('=')\n",
    "        elif i+1 in lines_at: line('-')"
   ]
  },
  {
   "cell_type": "code",
   "execution_count": 21,
   "id": "56892953-74b2-4103-ba00-eb0ed4249553",
   "metadata": {
    "tags": []
   },
   "outputs": [
    {
     "name": "stdout",
     "output_type": "stream",
     "text": [
      "    | block                | shape                | same names?  | same shapes? | same values? | Δ cuda local -> cloud\n",
      "    |                      |                      |              |              |    prec=3    |        prec=3       \n",
      "#######################################################################################################################\n",
      "1   | prep.x               |       [2, 4, 64, 64] | \u001b[92m     y      \u001b[0m | \u001b[92m     y      \u001b[0m | \u001b[92m     y      \u001b[0m |                0.000\tx\n",
      "2   | prep.temb            |            [2, 1280] | \u001b[92m     y      \u001b[0m | \u001b[92m     y      \u001b[0m | \u001b[92m     y      \u001b[0m |                0.000\ttime info\n",
      "3   | prep.context         |        [2, 77, 1024] | \u001b[92m     y      \u001b[0m | \u001b[92m     y      \u001b[0m | \u001b[92m     y      \u001b[0m |                0.000\ttext info\n",
      "4   | prep.raw_hint        |     [2, 3, 512, 512] | \u001b[92m     y      \u001b[0m | \u001b[92m     y      \u001b[0m | \u001b[92m     y      \u001b[0m |                0.000\tguidance image\n",
      "5   | prep.guided_hint     |       [2, 4, 64, 64] | \u001b[92m     y      \u001b[0m | \u001b[92m     y      \u001b[0m | \u001b[92m     y      \u001b[0m |                0.000\tguidance imagen (projected)\n",
      "=======================================================================================================================\n",
      "6   | enc.h_base           |     [2, 320, 64, 64] | \u001b[92m     y      \u001b[0m | \u001b[92m     y      \u001b[0m | \u001b[92m     y      \u001b[0m |                0.000\tbase conv in\n",
      "7   | enc.h_ctrl           |       [2, 4, 64, 64] | \u001b[92m     y      \u001b[0m | \u001b[92m     y      \u001b[0m | \u001b[92m     y      \u001b[0m |                0.000\tctrl conv in\n",
      "8   | enc.h_ctrl           |       [2, 4, 64, 64] | \u001b[92m     y      \u001b[0m | \u001b[92m     y      \u001b[0m | \u001b[92m     y      \u001b[0m |                0.000\tadd guided hint to ctrl\n",
      "9   | enc.h_base           |     [2, 320, 64, 64] | \u001b[92m     y      \u001b[0m | \u001b[92m     y      \u001b[0m | \u001b[91m     n      \u001b[0m |                0.002\tadd ctrl->base\n",
      "=======================================================================================================================\n",
      "10  | enc.h_ctrl           |     [2, 324, 64, 64] | \u001b[92m     y      \u001b[0m | \u001b[92m     y      \u001b[0m | \u001b[91m     n      \u001b[0m |                0.010\tconcat base -> ctrl\n",
      "11  | enc.h_base           |     [2, 320, 64, 64] | \u001b[92m     y      \u001b[0m | \u001b[92m     y      \u001b[0m | \u001b[91m     n      \u001b[0m |                0.009\tapply base block\n",
      "12  | enc.h_ctrl           |       [2, 4, 64, 64] | \u001b[92m     y      \u001b[0m | \u001b[92m     y      \u001b[0m | \u001b[91m     n      \u001b[0m |                0.610\tapply ctrl block\n",
      "13  | enc.h_base           |     [2, 320, 64, 64] | \u001b[92m     y      \u001b[0m | \u001b[92m     y      \u001b[0m | \u001b[91m     n      \u001b[0m |                0.034\tadd ctrl -> base\n",
      "-----------------------------------------------------------------------------------------------------------------------\n",
      "14  | enc.h_ctrl           |     [2, 324, 64, 64] | \u001b[92m     y      \u001b[0m | \u001b[92m     y      \u001b[0m | \u001b[91m     n      \u001b[0m |                0.064\tconcat base -> ctrl\n",
      "15  | enc.h_base           |     [2, 320, 64, 64] | \u001b[92m     y      \u001b[0m | \u001b[92m     y      \u001b[0m | \u001b[91m     n      \u001b[0m |                0.040\tapply base block\n",
      "16  | enc.h_ctrl           |       [2, 4, 64, 64] | \u001b[92m     y      \u001b[0m | \u001b[92m     y      \u001b[0m | \u001b[91m     n      \u001b[0m |                1.188\tapply ctrl block\n",
      "17  | enc.h_base           |     [2, 320, 64, 64] | \u001b[92m     y      \u001b[0m | \u001b[92m     y      \u001b[0m | \u001b[91m     n      \u001b[0m |                0.088\tadd ctrl -> base\n",
      "-----------------------------------------------------------------------------------------------------------------------\n",
      "18  | enc.h_ctrl           |     [2, 324, 64, 64] | \u001b[92m     y      \u001b[0m | \u001b[92m     y      \u001b[0m | \u001b[91m     n      \u001b[0m |                0.077\tconcat base -> ctrl\n",
      "19  | enc.h_base           |     [2, 320, 32, 32] | \u001b[92m     y      \u001b[0m | \u001b[92m     y      \u001b[0m | \u001b[91m     n      \u001b[0m |                0.173\tapply base block\n",
      "20  | enc.h_ctrl           |       [2, 4, 32, 32] | \u001b[92m     y      \u001b[0m | \u001b[92m     y      \u001b[0m | \u001b[91m     n      \u001b[0m |                0.889\tapply ctrl block\n",
      "21  | enc.h_base           |     [2, 320, 32, 32] | \u001b[92m     y      \u001b[0m | \u001b[92m     y      \u001b[0m | \u001b[91m     n      \u001b[0m |                0.173\tadd ctrl -> base\n",
      "-----------------------------------------------------------------------------------------------------------------------\n",
      "22  | enc.h_ctrl           |     [2, 324, 32, 32] | \u001b[92m     y      \u001b[0m | \u001b[92m     y      \u001b[0m | \u001b[91m     n      \u001b[0m |                0.229\tconcat base -> ctrl\n",
      "23  | enc.h_base           |     [2, 640, 32, 32] | \u001b[92m     y      \u001b[0m | \u001b[92m     y      \u001b[0m | \u001b[91m     n      \u001b[0m |                0.130\tapply base block\n",
      "24  | enc.h_ctrl           |       [2, 8, 32, 32] | \u001b[92m     y      \u001b[0m | \u001b[92m     y      \u001b[0m | \u001b[91m     n      \u001b[0m |                2.832\tapply ctrl block\n",
      "25  | enc.h_base           |     [2, 640, 32, 32] | \u001b[92m     y      \u001b[0m | \u001b[92m     y      \u001b[0m | \u001b[91m     n      \u001b[0m |                0.300\tadd ctrl -> base\n",
      "-----------------------------------------------------------------------------------------------------------------------\n",
      "26  | enc.h_ctrl           |     [2, 648, 32, 32] | \u001b[92m     y      \u001b[0m | \u001b[92m     y      \u001b[0m | \u001b[91m     n      \u001b[0m |                0.520\tconcat base -> ctrl\n",
      "27  | enc.h_base           |     [2, 640, 32, 32] | \u001b[92m     y      \u001b[0m | \u001b[92m     y      \u001b[0m | \u001b[91m     n      \u001b[0m |                0.265\tapply base block\n",
      "28  | enc.h_ctrl           |       [2, 8, 32, 32] | \u001b[92m     y      \u001b[0m | \u001b[92m     y      \u001b[0m | \u001b[91m     n      \u001b[0m |                2.680\tapply ctrl block\n",
      "29  | enc.h_base           |     [2, 640, 32, 32] | \u001b[92m     y      \u001b[0m | \u001b[92m     y      \u001b[0m | \u001b[91m     n      \u001b[0m |                0.357\tadd ctrl -> base\n",
      "-----------------------------------------------------------------------------------------------------------------------\n",
      "30  | enc.h_ctrl           |     [2, 648, 32, 32] | \u001b[92m     y      \u001b[0m | \u001b[92m     y      \u001b[0m | \u001b[91m     n      \u001b[0m |                0.341\tconcat base -> ctrl\n",
      "31  | enc.h_base           |     [2, 640, 16, 16] | \u001b[92m     y      \u001b[0m | \u001b[92m     y      \u001b[0m | \u001b[91m     n      \u001b[0m |                0.776\tapply base block\n",
      "32  | enc.h_ctrl           |       [2, 8, 16, 16] | \u001b[92m     y      \u001b[0m | \u001b[92m     y      \u001b[0m | \u001b[91m     n      \u001b[0m |                2.839\tapply ctrl block\n",
      "33  | enc.h_base           |     [2, 640, 16, 16] | \u001b[92m     y      \u001b[0m | \u001b[92m     y      \u001b[0m | \u001b[91m     n      \u001b[0m |                0.794\tadd ctrl -> base\n",
      "-----------------------------------------------------------------------------------------------------------------------\n",
      "34  | enc.h_ctrl           |     [2, 648, 16, 16] | \u001b[92m     y      \u001b[0m | \u001b[92m     y      \u001b[0m | \u001b[91m     n      \u001b[0m |                0.954\tconcat base -> ctrl\n",
      "35  | enc.h_base           |    [2, 1280, 16, 16] | \u001b[92m     y      \u001b[0m | \u001b[92m     y      \u001b[0m | \u001b[91m     n      \u001b[0m |                0.513\tapply base block\n",
      "36  | enc.h_ctrl           |      [2, 16, 16, 16] | \u001b[92m     y      \u001b[0m | \u001b[92m     y      \u001b[0m | \u001b[91m     n      \u001b[0m |                1.672\tapply ctrl block\n",
      "37  | enc.h_base           |    [2, 1280, 16, 16] | \u001b[92m     y      \u001b[0m | \u001b[92m     y      \u001b[0m | \u001b[91m     n      \u001b[0m |                0.547\tadd ctrl -> base\n",
      "-----------------------------------------------------------------------------------------------------------------------\n",
      "38  | enc.h_ctrl           |    [2, 1296, 16, 16] | \u001b[92m     y      \u001b[0m | \u001b[92m     y      \u001b[0m | \u001b[91m     n      \u001b[0m |                1.061\tconcat base -> ctrl\n",
      "39  | enc.h_base           |    [2, 1280, 16, 16] | \u001b[92m     y      \u001b[0m | \u001b[92m     y      \u001b[0m | \u001b[91m     n      \u001b[0m |                0.588\tapply base block\n",
      "40  | enc.h_ctrl           |      [2, 16, 16, 16] | \u001b[92m     y      \u001b[0m | \u001b[92m     y      \u001b[0m | \u001b[91m     n      \u001b[0m |                4.050\tapply ctrl block\n",
      "41  | enc.h_base           |    [2, 1280, 16, 16] | \u001b[92m     y      \u001b[0m | \u001b[92m     y      \u001b[0m | \u001b[91m     n      \u001b[0m |                0.685\tadd ctrl -> base\n",
      "-----------------------------------------------------------------------------------------------------------------------\n",
      "42  | enc.h_ctrl           |    [2, 1296, 16, 16] | \u001b[92m     y      \u001b[0m | \u001b[92m     y      \u001b[0m | \u001b[91m     n      \u001b[0m |                0.724\tconcat base -> ctrl\n",
      "43  | enc.h_base           |      [2, 1280, 8, 8] | \u001b[92m     y      \u001b[0m | \u001b[92m     y      \u001b[0m | \u001b[91m     n      \u001b[0m |                1.341\tapply base block\n",
      "44  | enc.h_ctrl           |        [2, 16, 8, 8] | \u001b[92m     y      \u001b[0m | \u001b[92m     y      \u001b[0m | \u001b[91m     n      \u001b[0m |                5.533\tapply ctrl block\n",
      "45  | enc.h_base           |      [2, 1280, 8, 8] | \u001b[92m     y      \u001b[0m | \u001b[92m     y      \u001b[0m | \u001b[91m     n      \u001b[0m |                1.446\tadd ctrl -> base\n",
      "-----------------------------------------------------------------------------------------------------------------------\n",
      "46  | enc.h_ctrl           |      [2, 1296, 8, 8] | \u001b[92m     y      \u001b[0m | \u001b[92m     y      \u001b[0m | \u001b[91m     n      \u001b[0m |                1.387\tconcat base -> ctrl\n",
      "47  | enc.h_base           |      [2, 1280, 8, 8] | \u001b[92m     y      \u001b[0m | \u001b[92m     y      \u001b[0m | \u001b[91m     n      \u001b[0m |                1.433\tapply base block\n",
      "48  | enc.h_ctrl           |        [2, 16, 8, 8] | \u001b[92m     y      \u001b[0m | \u001b[92m     y      \u001b[0m | \u001b[91m     n      \u001b[0m |                1.974\tapply ctrl block\n",
      "49  | enc.h_base           |      [2, 1280, 8, 8] | \u001b[92m     y      \u001b[0m | \u001b[92m     y      \u001b[0m | \u001b[91m     n      \u001b[0m |                1.454\tadd ctrl -> base\n",
      "-----------------------------------------------------------------------------------------------------------------------\n",
      "50  | enc.h_ctrl           |      [2, 1296, 8, 8] | \u001b[92m     y      \u001b[0m | \u001b[92m     y      \u001b[0m | \u001b[91m     n      \u001b[0m |                1.288\tconcat base -> ctrl\n",
      "51  | enc.h_base           |      [2, 1280, 8, 8] | \u001b[92m     y      \u001b[0m | \u001b[92m     y      \u001b[0m | \u001b[91m     n      \u001b[0m |                1.460\tapply base block\n",
      "52  | enc.h_ctrl           |        [2, 16, 8, 8] | \u001b[92m     y      \u001b[0m | \u001b[92m     y      \u001b[0m | \u001b[91m     n      \u001b[0m |                1.602\tapply ctrl block\n",
      "53  | enc.h_base           |      [2, 1280, 8, 8] | \u001b[92m     y      \u001b[0m | \u001b[92m     y      \u001b[0m | \u001b[91m     n      \u001b[0m |                1.472\tadd ctrl -> base\n",
      "=======================================================================================================================\n",
      "54  | enc.h_ctrl           |      [2, 1296, 8, 8] | \u001b[92m     y      \u001b[0m | \u001b[92m     y      \u001b[0m | \u001b[91m     n      \u001b[0m |                1.310\tconcat base -> ctrl\n",
      "55  | mid.h_base           |      [2, 1280, 8, 8] | \u001b[92m     y      \u001b[0m | \u001b[92m     y      \u001b[0m | \u001b[91m     n      \u001b[0m |                1.568\tapply base block\n",
      "56  | mid.h_ctrl           |        [2, 16, 8, 8] | \u001b[92m     y      \u001b[0m | \u001b[92m     y      \u001b[0m | \u001b[91m     n      \u001b[0m |                3.044\tapply ctrl block\n",
      "57  | dec.h_base           |      [2, 1280, 8, 8] | \u001b[92m     y      \u001b[0m | \u001b[92m     y      \u001b[0m | \u001b[91m     n      \u001b[0m |                1.588\tadd ctrl->base\n",
      "=======================================================================================================================\n",
      "58  | dec.h_base           |      [2, 1280, 8, 8] | \u001b[92m     y      \u001b[0m | \u001b[92m     y      \u001b[0m | \u001b[91m     n      \u001b[0m |                0.755\tadd ctrl encoder->base decoder\n",
      "59  | dec.h_base           |      [2, 1280, 8, 8] | \u001b[92m     y      \u001b[0m | \u001b[92m     y      \u001b[0m | \u001b[91m     n      \u001b[0m |                0.826\tapply base block\n",
      "60  | dec.h_base           |      [2, 1280, 8, 8] | \u001b[92m     y      \u001b[0m | \u001b[92m     y      \u001b[0m | \u001b[91m     n      \u001b[0m |                0.637\tadd ctrl encoder->base decoder\n",
      "-----------------------------------------------------------------------------------------------------------------------\n",
      "61  | dec.h_base           |      [2, 1280, 8, 8] | \u001b[92m     y      \u001b[0m | \u001b[92m     y      \u001b[0m | \u001b[91m     n      \u001b[0m |                0.877\tapply base block\n",
      "62  | dec.h_base           |    [2, 1280, 16, 16] | \u001b[92m     y      \u001b[0m | \u001b[92m     y      \u001b[0m | \u001b[91m     n      \u001b[0m |                0.298\tadd ctrl encoder->base decoder\n",
      "63  | dec.h_base           |    [2, 1280, 16, 16] | \u001b[92m     y      \u001b[0m | \u001b[92m     y      \u001b[0m | \u001b[91m     n      \u001b[0m |                0.615\tapply base block\n",
      "-----------------------------------------------------------------------------------------------------------------------\n",
      "64  | dec.h_base           |    [2, 1280, 16, 16] | \u001b[92m     y      \u001b[0m | \u001b[92m     y      \u001b[0m | \u001b[91m     n      \u001b[0m |                1.029\tadd ctrl encoder->base decoder\n",
      "65  | dec.h_base           |    [2, 1280, 16, 16] | \u001b[92m     y      \u001b[0m | \u001b[92m     y      \u001b[0m | \u001b[91m     n      \u001b[0m |                1.076\tapply base block\n",
      "66  | dec.h_base           |    [2, 1280, 16, 16] | \u001b[92m     y      \u001b[0m | \u001b[92m     y      \u001b[0m | \u001b[91m     n      \u001b[0m |                1.035\tadd ctrl encoder->base decoder\n",
      "-----------------------------------------------------------------------------------------------------------------------\n",
      "67  | dec.h_base           |    [2, 1280, 16, 16] | \u001b[92m     y      \u001b[0m | \u001b[92m     y      \u001b[0m | \u001b[91m     n      \u001b[0m |                1.098\tapply base block\n",
      "68  | dec.h_base           |    [2, 1280, 32, 32] | \u001b[92m     y      \u001b[0m | \u001b[92m     y      \u001b[0m | \u001b[91m     n      \u001b[0m |                1.862\tadd ctrl encoder->base decoder\n",
      "69  | dec.h_base           |    [2, 1280, 32, 32] | \u001b[92m     y      \u001b[0m | \u001b[92m     y      \u001b[0m | \u001b[91m     n      \u001b[0m |                2.157\tapply base block\n",
      "-----------------------------------------------------------------------------------------------------------------------\n",
      "70  | dec.h_base           |     [2, 640, 32, 32] | \u001b[92m     y      \u001b[0m | \u001b[92m     y      \u001b[0m | \u001b[91m     n      \u001b[0m |                1.235\tadd ctrl encoder->base decoder\n",
      "71  | dec.h_base           |     [2, 640, 32, 32] | \u001b[92m     y      \u001b[0m | \u001b[92m     y      \u001b[0m | \u001b[91m     n      \u001b[0m |                1.508\tapply base block\n",
      "72  | dec.h_base           |     [2, 640, 32, 32] | \u001b[92m     y      \u001b[0m | \u001b[92m     y      \u001b[0m | \u001b[91m     n      \u001b[0m |                0.774\tadd ctrl encoder->base decoder\n",
      "-----------------------------------------------------------------------------------------------------------------------\n",
      "73  | dec.h_base           |     [2, 640, 32, 32] | \u001b[92m     y      \u001b[0m | \u001b[92m     y      \u001b[0m | \u001b[91m     n      \u001b[0m |                0.784\tapply base block\n",
      "74  | dec.h_base           |     [2, 640, 64, 64] | \u001b[92m     y      \u001b[0m | \u001b[92m     y      \u001b[0m | \u001b[91m     n      \u001b[0m |                0.714\tadd ctrl encoder->base decoder\n",
      "75  | dec.h_base           |     [2, 640, 64, 64] | \u001b[92m     y      \u001b[0m | \u001b[92m     y      \u001b[0m | \u001b[91m     n      \u001b[0m |                0.815\tapply base block\n",
      "-----------------------------------------------------------------------------------------------------------------------\n",
      "76  | dec.h_base           |     [2, 320, 64, 64] | \u001b[92m     y      \u001b[0m | \u001b[92m     y      \u001b[0m | \u001b[91m     n      \u001b[0m |                0.350\tadd ctrl encoder->base decoder\n",
      "77  | dec.h_base           |     [2, 320, 64, 64] | \u001b[92m     y      \u001b[0m | \u001b[92m     y      \u001b[0m | \u001b[91m     n      \u001b[0m |                0.388\tapply base block\n",
      "78  | dec.h_base           |     [2, 320, 64, 64] | \u001b[92m     y      \u001b[0m | \u001b[92m     y      \u001b[0m | \u001b[91m     n      \u001b[0m |                0.149\tadd ctrl encoder->base decoder\n",
      "-----------------------------------------------------------------------------------------------------------------------\n",
      "79  | dec.h_base           |     [2, 320, 64, 64] | \u001b[92m     y      \u001b[0m | \u001b[92m     y      \u001b[0m | \u001b[91m     n      \u001b[0m |                0.149\tapply base block\n",
      "80  | dec.h_base           |     [2, 320, 64, 64] | \u001b[92m     y      \u001b[0m | \u001b[92m     y      \u001b[0m | \u001b[91m     n      \u001b[0m |                0.087\tadd ctrl encoder->base decoder\n",
      "81  | conv_out.h_base      |       [2, 4, 64, 64] | \u001b[92m     y      \u001b[0m | \u001b[92m     y      \u001b[0m | \u001b[91m     n      \u001b[0m |                0.006\tapply base block\n",
      "-----------------------------------------------------------------------------------------------------------------------\n"
     ]
    }
   ],
   "source": [
    "compare_intermediate_results(compare_prec=3, prec=3, ignore_base=True)"
   ]
  },
  {
   "cell_type": "code",
   "execution_count": 11,
   "id": "c73ee1bd-c87c-4c87-8dde-75ae0f80e428",
   "metadata": {
    "tags": []
   },
   "outputs": [],
   "source": [
    "c,l = cloud_cuda, local_cuda"
   ]
  },
  {
   "cell_type": "code",
   "execution_count": 14,
   "id": "3ff0fdfa-fc1b-4772-a15a-3ff9bdd715d0",
   "metadata": {
    "tags": []
   },
   "outputs": [
    {
     "name": "stdout",
     "output_type": "stream",
     "text": [
      "Heidelerg cuda: -0.006 ± 1.009 | Diffusers cuda: -0.000 ± 0.000\n"
     ]
    }
   ],
   "source": [
    "# random noise\n",
    "cx,lx = c[0].t, l[0].t\n",
    "\n",
    "print(f'Heidelerg cuda: {cx.mean():.3f} ± {cx.std():.3f} | Diffusers cuda: {lx.mean():.3f} ± {lx.std():.3f}')"
   ]
  },
  {
   "cell_type": "code",
   "execution_count": null,
   "id": "d305cbe6-f7e4-4227-96b5-20810720e331",
   "metadata": {
    "tags": []
   },
   "outputs": [],
   "source": []
  },
  {
   "cell_type": "code",
   "execution_count": null,
   "id": "094deabb-7577-49d4-8b06-51be0e51ad6a",
   "metadata": {
    "tags": []
   },
   "outputs": [],
   "source": [
    "# time\n",
    "ct,lt = c[1].t, l[1].t"
   ]
  },
  {
   "cell_type": "code",
   "execution_count": null,
   "id": "00a5efe8-070a-478c-b901-1471d738da8b",
   "metadata": {
    "tags": []
   },
   "outputs": [],
   "source": [
    "ct.shape, lt.shape"
   ]
  },
  {
   "cell_type": "code",
   "execution_count": null,
   "id": "488147a9-c76c-47fe-a527-edfdd4665297",
   "metadata": {
    "tags": []
   },
   "outputs": [],
   "source": [
    "ct[0,:5]"
   ]
  },
  {
   "cell_type": "code",
   "execution_count": null,
   "id": "74709741-760d-4f88-ba1d-39f04ea75839",
   "metadata": {
    "tags": []
   },
   "outputs": [],
   "source": [
    "lt[0,:5]"
   ]
  },
  {
   "cell_type": "code",
   "execution_count": null,
   "id": "9dad7797-9bc2-497a-8ac4-ce18367c56ee",
   "metadata": {},
   "outputs": [],
   "source": []
  }
 ],
 "metadata": {
  "kernelspec": {
   "display_name": "Python 3 (ipykernel)",
   "language": "python",
   "name": "python3"
  },
  "language_info": {
   "codemirror_mode": {
    "name": "ipython",
    "version": 3
   },
   "file_extension": ".py",
   "mimetype": "text/x-python",
   "name": "python",
   "nbconvert_exporter": "python",
   "pygments_lexer": "ipython3",
   "version": "3.10.13"
  }
 },
 "nbformat": 4,
 "nbformat_minor": 5
}
