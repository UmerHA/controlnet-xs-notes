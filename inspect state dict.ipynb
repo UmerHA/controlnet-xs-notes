{
 "cells": [
  {
   "cell_type": "code",
   "execution_count": 1,
   "id": "18f54b29-2786-41d3-88fb-0bbf1ce44dc4",
   "metadata": {},
   "outputs": [],
   "source": [
    "import torch"
   ]
  },
  {
   "cell_type": "markdown",
   "id": "17f86ef3-87a2-41a3-b679-a0fe1c9013bd",
   "metadata": {},
   "source": [
    "Load SD2.1 as PyTorch state dict (SDXL is only available as safetensors, not pytorch statedict)"
   ]
  },
  {
   "cell_type": "code",
   "execution_count": 10,
   "id": "881895a5-a982-435e-a441-16bb0a2c0c1d",
   "metadata": {},
   "outputs": [],
   "source": [
    "sdict = torch.load('../../../../.hf-cache/CVL-Heidelberg/sd21_encD_canny_14m.ckpt', map_location=torch.device('cpu'))['state_dict']"
   ]
  },
  {
   "cell_type": "code",
   "execution_count": 2,
   "id": "3a9d0c4a-dbf9-43c9-adc6-dce4c1c0c487",
   "metadata": {},
   "outputs": [
    {
     "name": "stdout",
     "output_type": "stream",
     "text": [
      "{\n",
      "    \"scale_list\": {},\n",
      "    \"control_model\": {\n",
      "        \"time_embed\": {},\n",
      "        \"input_blocks\": {\n",
      "            \"level1\": {\n",
      "                \"level2\": {}\n",
      "            }\n",
      "        },\n",
      "        \"middle_block\": {\n",
      "            \"level1\": {\n",
      "                \"level2\": {\n",
      "                    \"level3\": {}\n",
      "                }\n",
      "            }\n",
      "        }\n",
      "    }\n",
      "}\n"
     ]
    }
   ],
   "source": [
    "from collections import defaultdict\n",
    "\n",
    "\n",
    "\n",
    "\n",
    "nested_dict = to_nested_dict(lst)\n",
    "\n",
    "import json\n",
    "print(json.dumps(nested_dict, indent=4))"
   ]
  },
  {
   "cell_type": "code",
   "execution_count": 118,
   "id": "178ec93c-8378-4303-9c38-36f20b0a65f6",
   "metadata": {},
   "outputs": [
    {
     "name": "stdout",
     "output_type": "stream",
     "text": [
      "control_model.time_embed.0.weight\n",
      "control_model.time_embed.0.bias\n",
      "control_model.time_embed.2.weight\n",
      "control_model.time_embed.2.bias\n"
     ]
    }
   ],
   "source": [
    "print_state_dict(contains='time')"
   ]
  },
  {
   "cell_type": "code",
   "execution_count": 119,
   "id": "998fbecd-6b6a-43d7-9fed-3755be5bae22",
   "metadata": {},
   "outputs": [
    {
     "data": {
      "text/plain": [
       "(torch.Size([1280, 320]), torch.Size([1280]))"
      ]
     },
     "execution_count": 119,
     "metadata": {},
     "output_type": "execute_result"
    }
   ],
   "source": [
    "sdict['control_model.time_embed.0.weight'].shape, sdict['control_model.time_embed.0.bias'].shape"
   ]
  },
  {
   "cell_type": "code",
   "execution_count": 120,
   "id": "bbe41f3b-51be-4873-b25d-e7b15c4ce5ab",
   "metadata": {},
   "outputs": [
    {
     "data": {
      "text/plain": [
       "(torch.Size([1280, 1280]), torch.Size([1280]))"
      ]
     },
     "execution_count": 120,
     "metadata": {},
     "output_type": "execute_result"
    }
   ],
   "source": [
    "sdict['control_model.time_embed.2.weight'].shape, sdict['control_model.time_embed.2.bias'].shape"
   ]
  },
  {
   "cell_type": "code",
   "execution_count": 121,
   "id": "e70f1d03-52db-4330-b8aa-fd901bbfcf7e",
   "metadata": {},
   "outputs": [
    {
     "name": "stdout",
     "output_type": "stream",
     "text": [
      "scale_list\n",
      "control_model\n",
      "enc_zero_convs_out\n",
      "enc_zero_convs_in\n",
      "dec_zero_convs_out\n",
      "middle_block_out\n",
      "input_hint_block\n"
     ]
    }
   ],
   "source": [
    "print_state_dict(lv=0)"
   ]
  },
  {
   "cell_type": "code",
   "execution_count": 122,
   "id": "82e68d45-179a-416b-97e2-aff5abd5f8e1",
   "metadata": {},
   "outputs": [
    {
     "name": "stdout",
     "output_type": "stream",
     "text": [
      "control_model.time_embed\n",
      "control_model.input_blocks\n",
      "control_model.middle_block\n"
     ]
    }
   ],
   "source": [
    "print_state_dict(contains='control_model', lv=1)"
   ]
  },
  {
   "cell_type": "code",
   "execution_count": 123,
   "id": "01086b7f-ecd7-466c-bd9f-101f34c3a8a2",
   "metadata": {},
   "outputs": [
    {
     "name": "stdout",
     "output_type": "stream",
     "text": [
      "control_model.input_blocks.1.0.in_layers.0.weight\n",
      "control_model.input_blocks.1.0.in_layers.0.bias\n",
      "control_model.input_blocks.1.0.in_layers.2.weight\n",
      "control_model.input_blocks.1.0.in_layers.2.bias\n",
      "control_model.input_blocks.1.0.emb_layers.1.weight\n",
      "control_model.input_blocks.1.0.emb_layers.1.bias\n",
      "control_model.input_blocks.1.0.out_layers.0.weight\n",
      "control_model.input_blocks.1.0.out_layers.0.bias\n",
      "control_model.input_blocks.1.0.out_layers.3.weight\n",
      "control_model.input_blocks.1.0.out_layers.3.bias\n",
      "control_model.input_blocks.1.0.skip_connection.weight\n",
      "control_model.input_blocks.1.0.skip_connection.bias\n",
      "control_model.input_blocks.1.1.norm.weight\n",
      "control_model.input_blocks.1.1.norm.bias\n",
      "control_model.input_blocks.1.1.proj_in.weight\n",
      "control_model.input_blocks.1.1.proj_in.bias\n",
      "control_model.input_blocks.1.1.transformer_blocks.0.attn1.to_q.weight\n",
      "control_model.input_blocks.1.1.transformer_blocks.0.attn1.to_k.weight\n",
      "control_model.input_blocks.1.1.transformer_blocks.0.attn1.to_v.weight\n",
      "control_model.input_blocks.1.1.transformer_blocks.0.attn1.to_out.0.weight\n",
      "control_model.input_blocks.1.1.transformer_blocks.0.attn1.to_out.0.bias\n",
      "control_model.input_blocks.1.1.transformer_blocks.0.ff.net.0.proj.weight\n",
      "control_model.input_blocks.1.1.transformer_blocks.0.ff.net.0.proj.bias\n",
      "control_model.input_blocks.1.1.transformer_blocks.0.ff.net.2.weight\n",
      "control_model.input_blocks.1.1.transformer_blocks.0.ff.net.2.bias\n",
      "control_model.input_blocks.1.1.transformer_blocks.0.attn2.to_q.weight\n",
      "control_model.input_blocks.1.1.transformer_blocks.0.attn2.to_k.weight\n",
      "control_model.input_blocks.1.1.transformer_blocks.0.attn2.to_v.weight\n",
      "control_model.input_blocks.1.1.transformer_blocks.0.attn2.to_out.0.weight\n",
      "control_model.input_blocks.1.1.transformer_blocks.0.attn2.to_out.0.bias\n",
      "control_model.input_blocks.1.1.transformer_blocks.0.norm1.weight\n",
      "control_model.input_blocks.1.1.transformer_blocks.0.norm1.bias\n",
      "control_model.input_blocks.1.1.transformer_blocks.0.norm2.weight\n",
      "control_model.input_blocks.1.1.transformer_blocks.0.norm2.bias\n",
      "control_model.input_blocks.1.1.transformer_blocks.0.norm3.weight\n",
      "control_model.input_blocks.1.1.transformer_blocks.0.norm3.bias\n",
      "control_model.input_blocks.1.1.proj_out.weight\n",
      "control_model.input_blocks.1.1.proj_out.bias\n"
     ]
    }
   ],
   "source": [
    "print_state_dict(contains='control_model.input_blocks.1.*')"
   ]
  },
  {
   "cell_type": "code",
   "execution_count": 124,
   "id": "faf97043-34d2-4d24-8bc6-244cd011f0aa",
   "metadata": {},
   "outputs": [],
   "source": [
    "resblock = get_state_dict(contains='control_model.input_blocks.1.0.*')"
   ]
  },
  {
   "cell_type": "code",
   "execution_count": 150,
   "id": "b24f539a-7e51-4ea3-8a2a-c6d3d04a231f",
   "metadata": {},
   "outputs": [],
   "source": [
    "def print_shapes(contains, full=False):\n",
    "    objs = get_state_dict(contains)\n",
    "    for m in objs:\n",
    "        if full: print(f\"{m:<60} {str(sdict[m].shape)}\")\n",
    "        else: print(f\"{m.replace(contains,''):<25} {str(sdict[m].shape)}\")"
   ]
  },
  {
   "cell_type": "code",
   "execution_count": 160,
   "id": "36fd4598-5061-4820-aeb7-5a0fa9522fcf",
   "metadata": {},
   "outputs": [
    {
     "name": "stdout",
     "output_type": "stream",
     "text": [
      "control_model.input_blocks.0.0.weight                        torch.Size([4, 4, 3, 3])\n",
      "control_model.input_blocks.0.0.bias                          torch.Size([4])\n"
     ]
    }
   ],
   "source": [
    "print_shapes('control_model.input_blocks.0', full=True)"
   ]
  },
  {
   "cell_type": "code",
   "execution_count": 156,
   "id": "7b08b6b5-6092-4e88-b329-209241af70b2",
   "metadata": {},
   "outputs": [
    {
     "name": "stdout",
     "output_type": "stream",
     "text": [
      "in_layers.0.weight        torch.Size([324])\n",
      "in_layers.0.bias          torch.Size([324])\n",
      "in_layers.2.weight        torch.Size([4, 324, 3, 3])\n",
      "in_layers.2.bias          torch.Size([4])\n",
      "emb_layers.1.weight       torch.Size([4, 1280])\n",
      "emb_layers.1.bias         torch.Size([4])\n",
      "out_layers.0.weight       torch.Size([4])\n",
      "out_layers.0.bias         torch.Size([4])\n",
      "out_layers.3.weight       torch.Size([4, 4, 3, 3])\n",
      "out_layers.3.bias         torch.Size([4])\n",
      "skip_connection.weight    torch.Size([4, 324, 1, 1])\n",
      "skip_connection.bias      torch.Size([4])\n"
     ]
    }
   ],
   "source": [
    "print_shapes('control_model.input_blocks.1.0.')"
   ]
  },
  {
   "cell_type": "code",
   "execution_count": 159,
   "id": "4aa64129-ffbd-4e95-9f4c-afedd69c04bd",
   "metadata": {},
   "outputs": [
    {
     "name": "stdout",
     "output_type": "stream",
     "text": [
      "in_layers.0.weight        torch.Size([324])\n",
      "in_layers.0.bias          torch.Size([324])\n",
      "in_layers.2.weight        torch.Size([4, 324, 3, 3])\n",
      "in_layers.2.bias          torch.Size([4])\n",
      "emb_layers.1.weight       torch.Size([4, 1280])\n",
      "emb_layers.1.bias         torch.Size([4])\n",
      "out_layers.0.weight       torch.Size([4])\n",
      "out_layers.0.bias         torch.Size([4])\n",
      "out_layers.3.weight       torch.Size([4, 4, 3, 3])\n",
      "out_layers.3.bias         torch.Size([4])\n",
      "skip_connection.weight    torch.Size([4, 324, 1, 1])\n",
      "skip_connection.bias      torch.Size([4])\n"
     ]
    }
   ],
   "source": [
    "print_shapes('control_model.input_blocks.2.0.')"
   ]
  },
  {
   "cell_type": "code",
   "execution_count": 164,
   "id": "4f3a527b-0e93-47b3-b2ab-584794aa2f4a",
   "metadata": {},
   "outputs": [
    {
     "name": "stdout",
     "output_type": "stream",
     "text": [
      "0.op.weight               torch.Size([4, 324, 3, 3])\n",
      "0.op.bias                 torch.Size([4])\n"
     ]
    }
   ],
   "source": [
    "print_shapes('control_model.input_blocks.3.')"
   ]
  },
  {
   "cell_type": "code",
   "execution_count": 167,
   "id": "ffce8498-5bdc-4418-a5dc-4e58a789983b",
   "metadata": {},
   "outputs": [
    {
     "name": "stdout",
     "output_type": "stream",
     "text": [
      "control_model.input_blocks.0\n",
      "control_model.input_blocks.1\n",
      "control_model.input_blocks.2\n",
      "control_model.input_blocks.3\n",
      "control_model.input_blocks.4\n",
      "control_model.input_blocks.5\n",
      "control_model.input_blocks.6\n",
      "control_model.input_blocks.7\n",
      "control_model.input_blocks.8\n",
      "control_model.input_blocks.9\n",
      "control_model.input_blocks.10\n",
      "control_model.input_blocks.11\n"
     ]
    }
   ],
   "source": [
    "print_state_dict('control_model.input_blocks',lv=2)"
   ]
  },
  {
   "cell_type": "code",
   "execution_count": 169,
   "id": "2632145a-3619-4a98-9d53-4788df89b0c0",
   "metadata": {},
   "outputs": [
    {
     "name": "stdout",
     "output_type": "stream",
     "text": [
      "in_layers.0.weight        torch.Size([324])\n",
      "in_layers.0.bias          torch.Size([324])\n",
      "in_layers.2.weight        torch.Size([8, 324, 3, 3])\n",
      "in_layers.2.bias          torch.Size([8])\n",
      "emb_layers.1.weight       torch.Size([8, 1280])\n",
      "emb_layers.1.bias         torch.Size([8])\n",
      "out_layers.0.weight       torch.Size([8])\n",
      "out_layers.0.bias         torch.Size([8])\n",
      "out_layers.3.weight       torch.Size([8, 8, 3, 3])\n",
      "out_layers.3.bias         torch.Size([8])\n",
      "skip_connection.weight    torch.Size([8, 324, 1, 1])\n",
      "skip_connection.bias      torch.Size([8])\n"
     ]
    }
   ],
   "source": [
    "print_shapes('control_model.input_blocks.4.0.')"
   ]
  },
  {
   "cell_type": "code",
   "execution_count": 170,
   "id": "cffc32aa-a9df-44de-9b99-c25dbb5bc9d8",
   "metadata": {},
   "outputs": [
    {
     "name": "stdout",
     "output_type": "stream",
     "text": [
      "in_layers.0.weight        torch.Size([648])\n",
      "in_layers.0.bias          torch.Size([648])\n",
      "in_layers.2.weight        torch.Size([8, 648, 3, 3])\n",
      "in_layers.2.bias          torch.Size([8])\n",
      "emb_layers.1.weight       torch.Size([8, 1280])\n",
      "emb_layers.1.bias         torch.Size([8])\n",
      "out_layers.0.weight       torch.Size([8])\n",
      "out_layers.0.bias         torch.Size([8])\n",
      "out_layers.3.weight       torch.Size([8, 8, 3, 3])\n",
      "out_layers.3.bias         torch.Size([8])\n",
      "skip_connection.weight    torch.Size([8, 648, 1, 1])\n",
      "skip_connection.bias      torch.Size([8])\n"
     ]
    }
   ],
   "source": [
    "print_shapes('control_model.input_blocks.5.0.')"
   ]
  },
  {
   "cell_type": "code",
   "execution_count": null,
   "id": "157414d4-92c5-4875-bf07-f30a9e73b17a",
   "metadata": {},
   "outputs": [],
   "source": []
  }
 ],
 "metadata": {
  "kernelspec": {
   "display_name": "Python 3 (ipykernel)",
   "language": "python",
   "name": "python3"
  },
  "language_info": {
   "codemirror_mode": {
    "name": "ipython",
    "version": 3
   },
   "file_extension": ".py",
   "mimetype": "text/x-python",
   "name": "python",
   "nbconvert_exporter": "python",
   "pygments_lexer": "ipython3",
   "version": "3.11.5"
  }
 },
 "nbformat": 4,
 "nbformat_minor": 5
}
