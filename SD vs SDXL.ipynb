{
 "cells": [
  {
   "cell_type": "code",
   "execution_count": 1,
   "id": "f858aa40-4844-426d-b707-29cd329b102d",
   "metadata": {
    "tags": []
   },
   "outputs": [
    {
     "name": "stdout",
     "output_type": "stream",
     "text": [
      "Info: `UmerDebugLogger` created. This is a logging class that will be deleted when the PR to integrate ControlNet-XS is done.\n"
     ]
    }
   ],
   "source": [
    "from diffusers import StableDiffusionPipeline, StableDiffusionXLPipeline"
   ]
  },
  {
   "cell_type": "code",
   "execution_count": 2,
   "id": "b906d69f-a4f3-47e1-a6d5-f0a1919c3fb2",
   "metadata": {
    "tags": []
   },
   "outputs": [
    {
     "name": "stderr",
     "output_type": "stream",
     "text": [
      "You have disabled the safety checker for <class 'diffusers.pipelines.stable_diffusion.pipeline_stable_diffusion.StableDiffusionPipeline'> by passing `safety_checker=None`. Ensure that you abide to the conditions of the Stable Diffusion license and do not expose unfiltered results in services or applications open to the public. Both the diffusers team and Hugging Face strongly recommend to keep the safety filter enabled in all public facing circumstances, disabling it only for use-cases that involve analyzing network behavior or auditing its results. For more information, please have a look at https://github.com/huggingface/diffusers/pull/254 .\n",
      "/home/diffusers/src/diffusers/configuration_utils.py:135: FutureWarning: Accessing config attribute `requires_safety_checker` directly via 'StableDiffusionPipeline' object attribute is deprecated. Please access 'requires_safety_checker' over 'StableDiffusionPipeline's config object instead, e.g. 'scheduler.config.requires_safety_checker'.\n",
      "  deprecate(\"direct config name access\", \"1.0.0\", deprecation_message, standard_warn=False)\n"
     ]
    }
   ],
   "source": [
    "sdxl_pipe = StableDiffusionXLPipeline.from_single_file('weights/sd/sdxl/sd_xl_base_1.0_0.9vae.safetensors')\n",
    "sd_pipe = StableDiffusionPipeline.from_single_file('weights/sd/sd21/v2-1_512-ema-pruned.ckpt')"
   ]
  },
  {
   "cell_type": "code",
   "execution_count": 3,
   "id": "85621a26-1e77-468c-9e07-a235b75a8d5f",
   "metadata": {
    "tags": []
   },
   "outputs": [],
   "source": [
    "sdxl = sdxl_pipe.unet\n",
    "sd21 = sd_pipe.unet"
   ]
  },
  {
   "cell_type": "code",
   "execution_count": 10,
   "id": "5a5d2445-3792-4e58-8c31-70446d81be99",
   "metadata": {
    "tags": []
   },
   "outputs": [],
   "source": [
    "def print_if_uses_linear_projection(down_blocks):\n",
    "    for di, d in enumerate(down_blocks):\n",
    "        if not hasattr(d, 'attentions'): continue      \n",
    "        for ai, a in enumerate(d.attentions):\n",
    "            print(f'Block {di}/Attn {ai}: use_linear_projection = {a.use_linear_projection}')"
   ]
  },
  {
   "cell_type": "code",
   "execution_count": 11,
   "id": "ed2581bc-b4d4-4c9d-ae05-538b87c51568",
   "metadata": {
    "tags": []
   },
   "outputs": [
    {
     "name": "stdout",
     "output_type": "stream",
     "text": [
      "Block 0/Attn 0: use_linear_projection = True\n",
      "Block 0/Attn 1: use_linear_projection = True\n",
      "Block 1/Attn 0: use_linear_projection = True\n",
      "Block 1/Attn 1: use_linear_projection = True\n",
      "Block 2/Attn 0: use_linear_projection = True\n",
      "Block 2/Attn 1: use_linear_projection = True\n"
     ]
    }
   ],
   "source": [
    "print_if_uses_linear_projection(sd21.down_blocks)"
   ]
  },
  {
   "cell_type": "code",
   "execution_count": 12,
   "id": "615d7e2f-dbf6-4b25-ad5c-3732d580c466",
   "metadata": {
    "tags": []
   },
   "outputs": [
    {
     "name": "stdout",
     "output_type": "stream",
     "text": [
      "Block 1/Attn 0: use_linear_projection = True\n",
      "Block 1/Attn 1: use_linear_projection = True\n",
      "Block 2/Attn 0: use_linear_projection = True\n",
      "Block 2/Attn 1: use_linear_projection = True\n"
     ]
    }
   ],
   "source": [
    "print_if_uses_linear_projection(sdxl.down_blocks)"
   ]
  },
  {
   "cell_type": "code",
   "execution_count": null,
   "id": "c82093c0-0702-4998-8b9e-d89c9ca2842d",
   "metadata": {},
   "outputs": [],
   "source": []
  }
 ],
 "metadata": {
  "kernelspec": {
   "display_name": "Python 3 (ipykernel)",
   "language": "python",
   "name": "python3"
  },
  "language_info": {
   "codemirror_mode": {
    "name": "ipython",
    "version": 3
   },
   "file_extension": ".py",
   "mimetype": "text/x-python",
   "name": "python",
   "nbconvert_exporter": "python",
   "pygments_lexer": "ipython3",
   "version": "3.10.13"
  }
 },
 "nbformat": 4,
 "nbformat_minor": 5
}
