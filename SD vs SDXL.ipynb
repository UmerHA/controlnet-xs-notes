{
 "cells": [
  {
   "cell_type": "code",
   "execution_count": 1,
   "id": "f858aa40-4844-426d-b707-29cd329b102d",
   "metadata": {
    "tags": []
   },
   "outputs": [],
   "source": [
    "from diffusers import StableDiffusionPipeline, StableDiffusionXLPipeline"
   ]
  },
  {
   "cell_type": "code",
   "execution_count": 2,
   "id": "b906d69f-a4f3-47e1-a6d5-f0a1919c3fb2",
   "metadata": {
    "tags": []
   },
   "outputs": [
    {
     "data": {
      "application/vnd.jupyter.widget-view+json": {
       "model_id": "d81d92f31df444b99c234e10dbe0d33c",
       "version_major": 2,
       "version_minor": 0
      },
      "text/plain": [
       "Loading pipeline components...:   0%|          | 0/7 [00:00<?, ?it/s]"
      ]
     },
     "metadata": {},
     "output_type": "display_data"
    },
    {
     "data": {
      "application/vnd.jupyter.widget-view+json": {
       "model_id": "835197c0a1dc4bc59ec47a1f582c1d1a",
       "version_major": 2,
       "version_minor": 0
      },
      "text/plain": [
       "Loading pipeline components...:   0%|          | 0/6 [00:00<?, ?it/s]"
      ]
     },
     "metadata": {},
     "output_type": "display_data"
    }
   ],
   "source": [
    "sdxl_pipe = StableDiffusionXLPipeline.from_pretrained('stabilityai/stable-diffusion-xl-base-1.0')\n",
    "sd21_pipe = StableDiffusionPipeline.from_pretrained('stabilityai/stable-diffusion-2-1')"
   ]
  },
  {
   "cell_type": "code",
   "execution_count": 3,
   "id": "85621a26-1e77-468c-9e07-a235b75a8d5f",
   "metadata": {
    "tags": []
   },
   "outputs": [],
   "source": [
    "sdxl = sdxl_pipe.unet\n",
    "sd21 = sd21_pipe.unet"
   ]
  },
  {
   "cell_type": "code",
   "execution_count": null,
   "id": "c82093c0-0702-4998-8b9e-d89c9ca2842d",
   "metadata": {},
   "outputs": [],
   "source": []
  },
  {
   "cell_type": "code",
   "execution_count": 4,
   "id": "7fe43203-20ed-4de5-bb30-e6800c86df84",
   "metadata": {},
   "outputs": [],
   "source": [
    "def has(o, attr):\n",
    "    if not hasattr(o,attr): return False\n",
    "    return getattr(o,attr) is not None\n",
    "\n",
    "def tf_num(attns):\n",
    "    tf_nums = [len(attn.transformer_blocks) for attn in attns]\n",
    "    assert len(set(tf_nums))==1, \"There are different numbers of transformers per attention\"\n",
    "    return tf_nums[0]\n",
    "\n",
    "def print_down_blocks(unet):\n",
    "    for i,d in enumerate(unet.down_blocks):\n",
    "        descr = []\n",
    "        if has(d, 'resnets'): descr.append(f'{len(d.resnets)} resnets')\n",
    "        if has(d, 'attentions'):  descr.append(f'{len(d.attentions)} attentions ({tf_num(d.attentions)} transformers each)')\n",
    "        if has(d, 'downsamplers'): descr.append(f'{len(d.downsamplers)} downsamplers')\n",
    "        print(f'Block {i}:',', '.join(descr))"
   ]
  },
  {
   "cell_type": "code",
   "execution_count": 5,
   "id": "f6b5e9f2-31dd-4312-b0c4-6f5f4c8ca7e8",
   "metadata": {},
   "outputs": [
    {
     "name": "stdout",
     "output_type": "stream",
     "text": [
      "Block 0: 2 resnets, 2 attentions (1 transformers each), 1 downsamplers\n",
      "Block 1: 2 resnets, 2 attentions (1 transformers each), 1 downsamplers\n",
      "Block 2: 2 resnets, 2 attentions (1 transformers each), 1 downsamplers\n",
      "Block 3: 2 resnets\n"
     ]
    }
   ],
   "source": [
    "print_down_blocks(sd21)"
   ]
  },
  {
   "cell_type": "code",
   "execution_count": 6,
   "id": "6e7455fb-22f4-43dd-b2ff-8456243184da",
   "metadata": {},
   "outputs": [
    {
     "name": "stdout",
     "output_type": "stream",
     "text": [
      "Block 0: 2 resnets, 1 downsamplers\n",
      "Block 1: 2 resnets, 2 attentions (2 transformers each), 1 downsamplers\n",
      "Block 2: 2 resnets, 2 attentions (10 transformers each)\n"
     ]
    }
   ],
   "source": [
    "print_down_blocks(sdxl)"
   ]
  },
  {
   "cell_type": "code",
   "execution_count": null,
   "id": "4231ab7a-76ff-42b9-b805-ddfb4f35e5c0",
   "metadata": {},
   "outputs": [],
   "source": []
  },
  {
   "cell_type": "code",
   "execution_count": 7,
   "id": "cd438898-8f8f-4dac-a70e-b7d55437e243",
   "metadata": {},
   "outputs": [
    {
     "data": {
      "text/plain": [
       "CrossAttnDownBlock2D(\n",
       "  (attentions): ModuleList(\n",
       "    (0-1): 2 x Transformer2DModel(\n",
       "      (norm): GroupNorm(32, 320, eps=1e-06, affine=True)\n",
       "      (proj_in): LoRACompatibleLinear(in_features=320, out_features=320, bias=True)\n",
       "      (transformer_blocks): ModuleList(\n",
       "        (0): BasicTransformerBlock(\n",
       "          (norm1): LayerNorm((320,), eps=1e-05, elementwise_affine=True)\n",
       "          (attn1): Attention(\n",
       "            (to_q): LoRACompatibleLinear(in_features=320, out_features=320, bias=False)\n",
       "            (to_k): LoRACompatibleLinear(in_features=320, out_features=320, bias=False)\n",
       "            (to_v): LoRACompatibleLinear(in_features=320, out_features=320, bias=False)\n",
       "            (to_out): ModuleList(\n",
       "              (0): LoRACompatibleLinear(in_features=320, out_features=320, bias=True)\n",
       "              (1): Dropout(p=0.0, inplace=False)\n",
       "            )\n",
       "          )\n",
       "          (norm2): LayerNorm((320,), eps=1e-05, elementwise_affine=True)\n",
       "          (attn2): Attention(\n",
       "            (to_q): LoRACompatibleLinear(in_features=320, out_features=320, bias=False)\n",
       "            (to_k): LoRACompatibleLinear(in_features=1024, out_features=320, bias=False)\n",
       "            (to_v): LoRACompatibleLinear(in_features=1024, out_features=320, bias=False)\n",
       "            (to_out): ModuleList(\n",
       "              (0): LoRACompatibleLinear(in_features=320, out_features=320, bias=True)\n",
       "              (1): Dropout(p=0.0, inplace=False)\n",
       "            )\n",
       "          )\n",
       "          (norm3): LayerNorm((320,), eps=1e-05, elementwise_affine=True)\n",
       "          (ff): FeedForward(\n",
       "            (net): ModuleList(\n",
       "              (0): GEGLU(\n",
       "                (proj): LoRACompatibleLinear(in_features=320, out_features=2560, bias=True)\n",
       "              )\n",
       "              (1): Dropout(p=0.0, inplace=False)\n",
       "              (2): LoRACompatibleLinear(in_features=1280, out_features=320, bias=True)\n",
       "            )\n",
       "          )\n",
       "        )\n",
       "      )\n",
       "      (proj_out): LoRACompatibleLinear(in_features=320, out_features=320, bias=True)\n",
       "    )\n",
       "  )\n",
       "  (resnets): ModuleList(\n",
       "    (0-1): 2 x ResnetBlock2D(\n",
       "      (norm1): GroupNorm(32, 320, eps=1e-05, affine=True)\n",
       "      (conv1): LoRACompatibleConv(320, 320, kernel_size=(3, 3), stride=(1, 1), padding=(1, 1))\n",
       "      (time_emb_proj): LoRACompatibleLinear(in_features=1280, out_features=320, bias=True)\n",
       "      (norm2): GroupNorm(32, 320, eps=1e-05, affine=True)\n",
       "      (dropout): Dropout(p=0.0, inplace=False)\n",
       "      (conv2): LoRACompatibleConv(320, 320, kernel_size=(3, 3), stride=(1, 1), padding=(1, 1))\n",
       "      (nonlinearity): SiLU()\n",
       "    )\n",
       "  )\n",
       "  (downsamplers): ModuleList(\n",
       "    (0): Downsample2D(\n",
       "      (conv): LoRACompatibleConv(320, 320, kernel_size=(3, 3), stride=(2, 2), padding=(1, 1))\n",
       "    )\n",
       "  )\n",
       ")"
      ]
     },
     "execution_count": 7,
     "metadata": {},
     "output_type": "execute_result"
    }
   ],
   "source": [
    "sd21.down_blocks[0]"
   ]
  },
  {
   "cell_type": "code",
   "execution_count": null,
   "id": "d194d089-9380-4af0-9a83-f93c9456ebf0",
   "metadata": {},
   "outputs": [],
   "source": []
  },
  {
   "cell_type": "code",
   "execution_count": null,
   "id": "42f791e7-293a-4afa-94a2-1c4e9076ecf8",
   "metadata": {},
   "outputs": [],
   "source": []
  },
  {
   "cell_type": "code",
   "execution_count": 8,
   "id": "6cd80c7a-b43d-4f0d-9301-f1e7c3e9233b",
   "metadata": {},
   "outputs": [],
   "source": [
    "from diffusers import ControlNetXSModel"
   ]
  },
  {
   "cell_type": "code",
   "execution_count": 9,
   "id": "347374a4-8ece-4531-859f-4b35c353a70e",
   "metadata": {},
   "outputs": [
    {
     "name": "stdout",
     "output_type": "stream",
     "text": [
      "`norm_num_groups` was set to `min(block_out_channels)` (=4) so it divides all block_out_channels` ([4, 8, 16, 16]). Set it explicitly to remove this information.\n"
     ]
    }
   ],
   "source": [
    "cnxs = ControlNetXSModel.create_as_in_original_paper(sd21, is_sdxl=False)"
   ]
  },
  {
   "cell_type": "code",
   "execution_count": null,
   "id": "34a3e21d-ce66-4e16-ad90-9817a8aa9b54",
   "metadata": {},
   "outputs": [],
   "source": []
  },
  {
   "cell_type": "code",
   "execution_count": 10,
   "id": "b17f474c-8785-4fce-9c18-fd8c3275d9de",
   "metadata": {},
   "outputs": [],
   "source": [
    "from diffusers import UNet2DConditionModel"
   ]
  },
  {
   "cell_type": "code",
   "execution_count": 11,
   "id": "c815946a-3811-41c3-8dfe-72e5631bd503",
   "metadata": {},
   "outputs": [],
   "source": [
    "import inspect\n",
    "from typing import get_type_hints\n",
    "\n",
    "def stringify(o):\n",
    "    if isinstance(o,tuple): o = list(o)\n",
    "    return str(o)\n",
    "    \n",
    "def non_internal_params(unet): return { k:stringify(v) for k,v in dict(unet.config).items() if not k.startswith('_')}\n",
    "\n",
    "params_default = { k:stringify(v.default) for k,v in inspect.signature(UNet2DConditionModel.__init__).parameters.items() if k != 'self'}\n",
    "params_sdxl = non_internal_params(sdxl)\n",
    "params_sd21 = non_internal_params(sd21)"
   ]
  },
  {
   "cell_type": "code",
   "execution_count": 12,
   "id": "3c6f0401-cfdd-43a3-ad15-b945cdc043a9",
   "metadata": {},
   "outputs": [],
   "source": [
    "assert set(params_default)==set(params_sdxl)==set(params_sd21)"
   ]
  },
  {
   "cell_type": "code",
   "execution_count": 13,
   "id": "ec18c855-b610-4992-885a-7944463566fb",
   "metadata": {},
   "outputs": [
    {
     "name": "stdout",
     "output_type": "stream",
     "text": [
      "Params for which SDXL doesn't use default values:\n",
      "- sample_size                   : 128                                      | def: None                                    \n",
      "- down_block_types              : ['DownBlock2D', 'CrossAttnDownBlock2D', 'CrossAttnDownBlock2D'] | def: ['CrossAttnDownBlock2D', 'CrossAttnDownBlock2D', 'CrossAttnDownBlock2D', 'DownBlock2D']\n",
      "- up_block_types                : ['CrossAttnUpBlock2D', 'CrossAttnUpBlock2D', 'UpBlock2D'] | def: ['UpBlock2D', 'CrossAttnUpBlock2D', 'CrossAttnUpBlock2D', 'CrossAttnUpBlock2D']\n",
      "- block_out_channels            : [320, 640, 1280]                         | def: [320, 640, 1280, 1280]                  \n",
      "- cross_attention_dim           : 2048                                     | def: 1280                                    \n",
      "- transformer_layers_per_block  : [1, 2, 10]                               | def: 1                                       \n",
      "- attention_head_dim            : [5, 10, 20]                              | def: 8                                       \n",
      "- use_linear_projection         : True                                     | def: False                                   \n",
      "- addition_embed_type           : text_time                                | def: None                                    \n",
      "- addition_time_embed_dim       : 256                                      | def: None                                    \n",
      "- upcast_attention              : None                                     | def: False                                   \n",
      "- projection_class_embeddings_input_dim: 2816                                     | def: None                                    \n"
     ]
    }
   ],
   "source": [
    "nondef_sdxl = set()\n",
    "\n",
    "print(\"Params for which SDXL doesn't use default values:\")\n",
    "for k in params_default.keys():\n",
    "    v_def  = params_default[k]\n",
    "    v_sdxl = params_sdxl[k]\n",
    "\n",
    "    if v_sdxl != v_def:\n",
    "        print(f'- {k:<30}: {v_sdxl:<40} | def: {v_def:<40}')\n",
    "        nondef_sdxl.add(k)"
   ]
  },
  {
   "cell_type": "code",
   "execution_count": 14,
   "id": "ef5e7c1a-5ad6-4eae-ac90-6c44744c67f2",
   "metadata": {},
   "outputs": [
    {
     "name": "stdout",
     "output_type": "stream",
     "text": [
      "Params for which SD21 doesn't use default values:\n",
      "- sample_size                   : 96                                       | def: None                                    \n",
      "- cross_attention_dim           : 1024                                     | def: 1280                                    \n",
      "- attention_head_dim            : [5, 10, 20, 20]                          | def: 8                                       \n",
      "- use_linear_projection         : True                                     | def: False                                   \n",
      "- upcast_attention              : True                                     | def: False                                   \n"
     ]
    }
   ],
   "source": [
    "nondef_sd21 = set()\n",
    "\n",
    "print(\"Params for which SD21 doesn't use default values:\")\n",
    "for k in params_default.keys():\n",
    "    v_def  = params_default[k]\n",
    "    v_sd21 = params_sd21[k]\n",
    "\n",
    "    if v_sd21 != v_def:\n",
    "        print(f'- {k:<30}: {v_sd21:<40} | def: {v_def:<40}')\n",
    "        nondef_sd21.add(k)"
   ]
  },
  {
   "cell_type": "code",
   "execution_count": 15,
   "id": "409391d7-14ff-4037-a581-c9f5a00a572d",
   "metadata": {},
   "outputs": [
    {
     "data": {
      "text/plain": [
       "{'attention_head_dim',\n",
       " 'cross_attention_dim',\n",
       " 'sample_size',\n",
       " 'upcast_attention',\n",
       " 'use_linear_projection'}"
      ]
     },
     "execution_count": 15,
     "metadata": {},
     "output_type": "execute_result"
    }
   ],
   "source": [
    "nondef_sd21"
   ]
  },
  {
   "cell_type": "code",
   "execution_count": 16,
   "id": "5487edde-384a-4ecb-8b6e-70a305b4b8e6",
   "metadata": {},
   "outputs": [
    {
     "data": {
      "text/plain": [
       "set()"
      ]
     },
     "execution_count": 16,
     "metadata": {},
     "output_type": "execute_result"
    }
   ],
   "source": [
    "nondef_sd21 - nondef_sdxl"
   ]
  },
  {
   "cell_type": "code",
   "execution_count": 17,
   "id": "09af6cf1-d659-42a7-8479-ce8dbd2f5338",
   "metadata": {},
   "outputs": [
    {
     "data": {
      "text/plain": [
       "{'addition_embed_type',\n",
       " 'addition_time_embed_dim',\n",
       " 'block_out_channels',\n",
       " 'down_block_types',\n",
       " 'projection_class_embeddings_input_dim',\n",
       " 'transformer_layers_per_block',\n",
       " 'up_block_types'}"
      ]
     },
     "execution_count": 17,
     "metadata": {},
     "output_type": "execute_result"
    }
   ],
   "source": [
    "nondef_sdxl - nondef_sd21"
   ]
  },
  {
   "cell_type": "code",
   "execution_count": 18,
   "id": "8a385c2e-8c00-4513-ae02-9c91c2487f3c",
   "metadata": {},
   "outputs": [
    {
     "data": {
      "text/plain": [
       "{'addition_embed_type',\n",
       " 'addition_time_embed_dim',\n",
       " 'attention_head_dim',\n",
       " 'block_out_channels',\n",
       " 'cross_attention_dim',\n",
       " 'down_block_types',\n",
       " 'projection_class_embeddings_input_dim',\n",
       " 'sample_size',\n",
       " 'transformer_layers_per_block',\n",
       " 'up_block_types',\n",
       " 'upcast_attention',\n",
       " 'use_linear_projection'}"
      ]
     },
     "execution_count": 18,
     "metadata": {},
     "output_type": "execute_result"
    }
   ],
   "source": [
    "nondef_sdxl"
   ]
  },
  {
   "cell_type": "code",
   "execution_count": 19,
   "id": "666b9b98-2a10-44c4-bda6-d03547a4a4e9",
   "metadata": {},
   "outputs": [
    {
     "data": {
      "text/plain": [
       "'2'"
      ]
     },
     "execution_count": 19,
     "metadata": {},
     "output_type": "execute_result"
    }
   ],
   "source": [
    "params_default['layers_per_block']"
   ]
  },
  {
   "cell_type": "code",
   "execution_count": null,
   "id": "9bae03fa-2e26-4559-b583-75cc1129836c",
   "metadata": {},
   "outputs": [],
   "source": []
  },
  {
   "cell_type": "code",
   "execution_count": null,
   "id": "4e533934-e9aa-4678-9a31-f45d04d92b29",
   "metadata": {},
   "outputs": [],
   "source": []
  },
  {
   "cell_type": "code",
   "execution_count": null,
   "id": "f50ec10c-1bc1-4d23-a56a-73d64f2f98f8",
   "metadata": {},
   "outputs": [],
   "source": []
  }
 ],
 "metadata": {
  "kernelspec": {
   "display_name": "Python 3 (ipykernel)",
   "language": "python",
   "name": "python3"
  },
  "language_info": {
   "codemirror_mode": {
    "name": "ipython",
    "version": 3
   },
   "file_extension": ".py",
   "mimetype": "text/x-python",
   "name": "python",
   "nbconvert_exporter": "python",
   "pygments_lexer": "ipython3",
   "version": "3.11.6"
  }
 },
 "nbformat": 4,
 "nbformat_minor": 5
}
