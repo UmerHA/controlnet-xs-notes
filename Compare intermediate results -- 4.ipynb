{
 "cells": [
  {
   "cell_type": "markdown",
   "id": "30794abe-5ec0-4ecd-90c5-5ef222fc2e48",
   "metadata": {},
   "source": [
    "In `Comapre intermediate results -- 2` and `Comapre intermediate results -- 3` I established that the time embeddings on local / cloud is equal.\n",
    "\n",
    "But why are they shown as different in my overview?"
   ]
  },
  {
   "cell_type": "code",
   "execution_count": 1,
   "id": "2fa846a7-09c0-472e-b00b-53e1946eb913",
   "metadata": {},
   "outputs": [],
   "source": [
    "import torch\n",
    "from torch.testing import assert_close\n",
    "from torch import allclose, nn, tensor\n",
    "torch.set_printoptions(linewidth=200)"
   ]
  },
  {
   "cell_type": "code",
   "execution_count": 2,
   "id": "18ae4f5a-d7eb-4471-be6f-cae1f309ed92",
   "metadata": {},
   "outputs": [],
   "source": [
    "device = 'cuda' if torch.cuda.is_available() else 'mps'\n",
    "device_dtype = torch.float16 if device == 'cuda' else torch.float32"
   ]
  },
  {
   "cell_type": "markdown",
   "id": "c739024d-d8ee-4aee-882c-9c5388ff6057",
   "metadata": {
    "jp-MarkdownHeadingCollapsed": true
   },
   "source": [
    "## Load the model"
   ]
  },
  {
   "cell_type": "code",
   "execution_count": 3,
   "id": "c565cf82-1eaa-4e68-8d35-a6459ee60097",
   "metadata": {
    "tags": []
   },
   "outputs": [],
   "source": [
    "from diffusers import StableDiffusionXLPipeline\n",
    "from diffusers import EulerDiscreteScheduler\n",
    "from diffusers.models.controlnetxs import ControlNetXSModel\n",
    "from diffusers.pipelines.controlnet_xs.pipeline_controlnet_xs_sd_xl import StableDiffusionXLControlNetXSPipeline"
   ]
  },
  {
   "cell_type": "code",
   "execution_count": 4,
   "id": "e0b304d6-cb41-49f5-849d-3e955da3e5e6",
   "metadata": {
    "tags": []
   },
   "outputs": [
    {
     "name": "stdout",
     "output_type": "stream",
     "text": [
      "At the end of __init__, the sigmas are tensor([14.6146, 14.5263, 14.4386, 14.3515, 14.2651]) ...\n",
      "At the end of __init__, the sigmas are tensor([14.6146, 14.5263, 14.4386, 14.3515, 14.2651]) ...\n"
     ]
    }
   ],
   "source": [
    "sdxl_pipe = StableDiffusionXLPipeline.from_single_file('weights/sdxl/sd_xl_base_1.0_0.9vae.safetensors').to(device)\n",
    "cnxs = ControlNetXSModel.from_pretrained('weights/cnxs').to(device)"
   ]
  },
  {
   "cell_type": "code",
   "execution_count": 5,
   "id": "1af1ff7f-cb94-448b-9988-6a309b56cd9e",
   "metadata": {},
   "outputs": [],
   "source": [
    "cnxs.base_model = sdxl_pipe.unet"
   ]
  },
  {
   "cell_type": "markdown",
   "id": "0b7758a1-6260-4d2c-a874-b63271eb9b61",
   "metadata": {},
   "source": [
    "The example script of Heidelberg manually sets scale_list to 0.95"
   ]
  },
  {
   "cell_type": "code",
   "execution_count": 6,
   "id": "1b7f0107-b0ff-4989-aabf-533638fb7eb8",
   "metadata": {},
   "outputs": [],
   "source": [
    "cnxs.scale_list = cnxs.scale_list * 0. + 0.95\n",
    "assert cnxs.scale_list[0] == .95"
   ]
  },
  {
   "cell_type": "markdown",
   "id": "e9b95d9c-ac7a-42d3-82cf-4eef25a591ae",
   "metadata": {},
   "source": [
    "Heidelberg uses `timestep_spacing = 'linspace'` in their scheduler, so let's do that as well"
   ]
  },
  {
   "cell_type": "code",
   "execution_count": 7,
   "id": "ca82d739-fb30-429a-a902-3e711428ffa5",
   "metadata": {},
   "outputs": [
    {
     "name": "stdout",
     "output_type": "stream",
     "text": [
      "At the end of __init__, the sigmas are tensor([14.6146, 14.5263, 14.4386, 14.3515, 14.2651]) ...\n",
      "timestep_spacing = \"leading\" and timesteps=[999.      978.61224 958.2245  937.83673 917.449  ] ...\n",
      "sigmas before interpolation: [0.02916753 0.04131448 0.05068044 0.05861427 0.06563709] ...\n",
      "sigmas after (linear) interpolation: [14.61464691 12.93677721 11.49164976 10.24291444  9.16035419] ...\n",
      "At end of `set_timesteps`:\n",
      "sigmas =  tensor([14.6146, 12.9368, 11.4916, 10.2429,  9.1604]) ...\n",
      "timesteps = tensor([999.0000, 978.6122, 958.2245, 937.8367, 917.4490]) ...\n",
      "At the end of __init__, the sigmas are tensor([14.6146, 14.5263, 14.4386, 14.3515, 14.2651]) ...\n"
     ]
    }
   ],
   "source": [
    "scheduler_cgf = dict(sdxl_pipe.scheduler.config)\n",
    "scheduler_cgf['timestep_spacing'] = 'linspace'\n",
    "sdxl_pipe.scheduler = EulerDiscreteScheduler.from_config(scheduler_cgf)\n",
    "\n",
    "# test it worked\n",
    "sdxl_pipe.scheduler.set_timesteps(50)\n",
    "assert sdxl_pipe.scheduler.timesteps[0]==999\n",
    "\n",
    "# reset\n",
    "sdxl_pipe.scheduler = EulerDiscreteScheduler.from_config(scheduler_cgf)"
   ]
  },
  {
   "cell_type": "code",
   "execution_count": 8,
   "id": "a120b84b-1126-4d6c-b08e-8114b5761c25",
   "metadata": {},
   "outputs": [],
   "source": [
    "cnxs_pipe = StableDiffusionXLControlNetXSPipeline(\n",
    "    vae=sdxl_pipe.vae,\n",
    "    text_encoder=sdxl_pipe.text_encoder,\n",
    "    text_encoder_2=sdxl_pipe.text_encoder_2,\n",
    "    tokenizer=sdxl_pipe.tokenizer,\n",
    "    tokenizer_2=sdxl_pipe.tokenizer_2,\n",
    "    unet=sdxl_pipe.unet,\n",
    "    controlnet=cnxs,\n",
    "    scheduler=sdxl_pipe.scheduler,\n",
    ")"
   ]
  },
  {
   "cell_type": "markdown",
   "id": "994cd8cf-1682-47e5-a7ff-4ccb3095ad61",
   "metadata": {},
   "source": [
    "___"
   ]
  },
  {
   "cell_type": "markdown",
   "id": "9274a964-17f0-4e16-912e-69a911c82a17",
   "metadata": {
    "jp-MarkdownHeadingCollapsed": true
   },
   "source": [
    "## Re-confirm the time embs before projection are identical"
   ]
  },
  {
   "cell_type": "code",
   "execution_count": 9,
   "id": "e0fe9583-ac96-4946-b664-f67f3f91342a",
   "metadata": {},
   "outputs": [],
   "source": [
    "from util import print_shapes\n",
    "from util_plot import visually_compare_1d\n",
    "\n",
    "def equal(x,y,atol=1e-4): return allclose(x.cpu(),y.cpu(),atol=atol)"
   ]
  },
  {
   "cell_type": "markdown",
   "id": "3ac28310-000a-4726-a9ff-d7905210fc4b",
   "metadata": {},
   "source": [
    "Load cloud additional time embeds"
   ]
  },
  {
   "cell_type": "code",
   "execution_count": 22,
   "id": "4a066074-8667-429f-8e84-9895981dbd3d",
   "metadata": {},
   "outputs": [],
   "source": [
    "infos = ('txt','orig_sz','crop','tgt_sz')\n",
    "splits = (1280, 512, 512, 512)"
   ]
  },
  {
   "cell_type": "code",
   "execution_count": 23,
   "id": "c6b913c4-0fc8-462c-a7a1-e7653a188fa3",
   "metadata": {},
   "outputs": [
    {
     "name": "stdout",
     "output_type": "stream",
     "text": [
      "[1280], [512], [512], [512]\n",
      "[1280], [512], [512], [512]\n"
     ]
    }
   ],
   "source": [
    "c_vector = torch.load('intermediate_output/temb/cloud/c_vector', map_location='cpu')\n",
    "uc_vector = torch.load('intermediate_output/temb/cloud/uc_vector', map_location='cpu')\n",
    "\n",
    "emb_cloud_uc = dict(zip(infos, torch.split(uc_vector[0], splits, dim=0)))\n",
    "emb_cloud_c = dict(zip(infos, torch.split(c_vector[0], splits, dim=0)))\n",
    "\n",
    "print_shapes(*emb_cloud_uc.values())\n",
    "print_shapes(*emb_cloud_c.values())"
   ]
  },
  {
   "cell_type": "markdown",
   "id": "aabd7384-591a-4da8-84a0-79283165e8ff",
   "metadata": {},
   "source": [
    "Load local additional time embeds"
   ]
  },
  {
   "cell_type": "code",
   "execution_count": 24,
   "id": "8430ff7d-5249-44f4-8563-1a85c7775719",
   "metadata": {},
   "outputs": [
    {
     "name": "stdout",
     "output_type": "stream",
     "text": [
      "[1280], [512], [512], [512]\n",
      "[1280], [512], [512], [512]\n"
     ]
    }
   ],
   "source": [
    "emb_l_add_embeds = torch.load('intermediate_output/temb/local/add_embeds', map_location='cpu')\n",
    "\n",
    "emb_local_uc = dict(zip(infos, torch.split(emb_l_add_embeds[0], splits, dim=0)))\n",
    "emb_local_c = dict(zip(infos, torch.split(emb_l_add_embeds[1], splits, dim=0)))\n",
    "\n",
    "print_shapes(*emb_local_uc.values())\n",
    "print_shapes(*emb_local_c.values())"
   ]
  },
  {
   "cell_type": "code",
   "execution_count": 48,
   "id": "36cfd961-0c06-4a46-8574-674ad1beb2a5",
   "metadata": {},
   "outputs": [],
   "source": [
    "for i in infos:\n",
    "    assert equal(emb_cloud_uc[i], emb_local_uc[i], atol=1e-2)\n",
    "    assert equal(emb_cloud_c[i],  emb_local_c[i], atol=1e-2)"
   ]
  },
  {
   "cell_type": "code",
   "execution_count": 53,
   "id": "22862342-2435-46cd-8af3-d9a2432061ec",
   "metadata": {},
   "outputs": [
    {
     "data": {
      "image/png": "[encoded data removed]",
      "text/plain": [
       "<Figure size 1000x400 with 1 Axes>"
      ]
     },
     "metadata": {},
     "output_type": "display_data"
    }
   ],
   "source": [
    "visually_compare_1d(\n",
    "    (emb_cloud_uc['txt'], emb_local_uc['txt'],emb_cloud_c['txt'], emb_local_c['txt']),\n",
    "    ('cloud uncond', 'local uncond','cloud cond', 'local cond')\n",
    ")"
   ]
  },
  {
   "cell_type": "markdown",
   "id": "8716be49-ec49-405e-ab61-a7eb54abdc7b",
   "metadata": {},
   "source": [
    "## Load intermediate outputs of full model"
   ]
  },
  {
   "cell_type": "markdown",
   "id": "38d07728-5ae8-4202-9037-a7e87576cca3",
   "metadata": {},
   "source": [
    "These were computed on the cloud with Heidelberg code"
   ]
  },
  {
   "cell_type": "code",
   "execution_count": 30,
   "id": "2fe3a1a3-3afc-4856-b927-2e26cd590ff6",
   "metadata": {},
   "outputs": [],
   "source": [
    "from util_inspect import load_intermediate_outputs, print_metadata, compare_intermediate_results"
   ]
  },
  {
   "cell_type": "code",
   "execution_count": 31,
   "id": "0e589b7c-c016-43e1-be4a-eb7d4cea0932",
   "metadata": {},
   "outputs": [
    {
     "data": {
      "text/plain": [
       "(72, 72)"
      ]
     },
     "execution_count": 31,
     "metadata": {},
     "output_type": "execute_result"
    }
   ],
   "source": [
    "model_outp_cloud = load_intermediate_outputs('intermediate_output/cloud_debug_log.pkl')\n",
    "model_outp_local = load_intermediate_outputs('intermediate_output/local_debug_log.pkl')\n",
    "len(model_outp_cloud),len(model_outp_local)"
   ]
  },
  {
   "cell_type": "code",
   "execution_count": 35,
   "id": "953b7667-8f15-4b1a-a4a2-31876210d26e",
   "metadata": {},
   "outputs": [
    {
     "data": {
      "text/plain": [
       "([2, 1280], [2, 1280])"
      ]
     },
     "execution_count": 35,
     "metadata": {},
     "output_type": "execute_result"
    }
   ],
   "source": [
    "model_outp_cloud[1].shape, model_outp_local[1].shape"
   ]
  },
  {
   "cell_type": "code",
   "execution_count": 55,
   "id": "37c6308f-9801-44d6-8aed-7913850f1cd5",
   "metadata": {},
   "outputs": [
    {
     "name": "stdout",
     "output_type": "stream",
     "text": [
      "[1280], [1280], [1280], [1280]\n"
     ]
    }
   ],
   "source": [
    "temb_cloud_uc, temb_cloud_c = model_outp_cloud[1].t\n",
    "temb_local_uc, temb_local_c = model_outp_local[1].t\n",
    "print_shapes(temb_cloud_uc, temb_cloud_c, temb_local_uc, temb_local_c)"
   ]
  },
  {
   "cell_type": "code",
   "execution_count": 56,
   "id": "91dbd4ef-d5e2-493a-9141-12ffa104d3c9",
   "metadata": {},
   "outputs": [
    {
     "data": {
      "image/png": "[encoded data removed]",
      "text/plain": [
       "<Figure size 1000x400 with 1 Axes>"
      ]
     },
     "metadata": {},
     "output_type": "display_data"
    }
   ],
   "source": [
    "visually_compare_1d(\n",
    "    (\n",
    "        temb_cloud_uc,temb_local_c,\n",
    "        temb_cloud_c,temb_local_uc,\n",
    "    ),\n",
    "    (\n",
    "        'saved cloud uncond', 'saved local uncond',\n",
    "        'saved cloud cond', 'saved local cond',\n",
    "    )\n",
    ")"
   ]
  },
  {
   "cell_type": "markdown",
   "id": "2d17970c-dcf1-4a30-97d9-147dfdfd5e4f",
   "metadata": {},
   "source": [
    "**This can't be.** Condtional and unconditional embeddings should be different"
   ]
  },
  {
   "cell_type": "code",
   "execution_count": 57,
   "id": "ed738b59-4d24-435d-9ef9-4247cee0760c",
   "metadata": {},
   "outputs": [
    {
     "data": {
      "text/plain": [
       "False"
      ]
     },
     "execution_count": 57,
     "metadata": {},
     "output_type": "execute_result"
    }
   ],
   "source": [
    "equal(temb_local_c, temb_local_uc, atol=1e-2)"
   ]
  },
  {
   "cell_type": "code",
   "execution_count": 58,
   "id": "1dccab58-0db7-4721-b073-7d9c374bfe38",
   "metadata": {},
   "outputs": [
    {
     "data": {
      "text/plain": [
       "False"
      ]
     },
     "execution_count": 58,
     "metadata": {},
     "output_type": "execute_result"
    }
   ],
   "source": [
    "equal(temb_local_c, temb_local_uc, atol=1e-1)"
   ]
  },
  {
   "cell_type": "code",
   "execution_count": 60,
   "id": "69d9aec7-cd65-4704-b423-22afef0e58cf",
   "metadata": {},
   "outputs": [
    {
     "data": {
      "image/png": "[encoded data removed]",
      "text/plain": [
       "<Figure size 1000x200 with 1 Axes>"
      ]
     },
     "metadata": {},
     "output_type": "display_data"
    }
   ],
   "source": [
    "visually_compare_1d((temb_local_uc, temb_local_c), ('local uncond', 'local cond'))"
   ]
  },
  {
   "cell_type": "markdown",
   "id": "6df68c86-aaab-4908-9950-1c73330d1168",
   "metadata": {},
   "source": [
    "These should be different!"
   ]
  },
  {
   "cell_type": "code",
   "execution_count": 61,
   "id": "2a02cb63-19e4-44d3-9289-e2055ef6713c",
   "metadata": {},
   "outputs": [
    {
     "data": {
      "text/plain": [
       "(tensor([ 1.4959, -3.6011,  1.8189, -1.6592, -1.5132, -2.1749, -1.6586, -1.7922,  0.0885, -2.2889]),\n",
       " tensor([ 1.3859, -3.5991,  1.8941, -1.6574, -1.5342, -2.2058, -1.7063, -1.7391,  0.0161, -2.2524]))"
      ]
     },
     "execution_count": 61,
     "metadata": {},
     "output_type": "execute_result"
    }
   ],
   "source": [
    "temb_local_uc[:10], temb_local_c[:10]"
   ]
  },
  {
   "cell_type": "markdown",
   "id": "1b87274c-84b1-4235-a788-87b6a7453a87",
   "metadata": {},
   "source": [
    "I would have expected `temb_local_uc` and `temb_local_c` to be very different"
   ]
  },
  {
   "cell_type": "markdown",
   "id": "43172964-1f84-4802-bf9b-32b978393554",
   "metadata": {},
   "source": [
    "Same for cloud versions:"
   ]
  },
  {
   "cell_type": "code",
   "execution_count": 63,
   "id": "34bb836f-8316-4e2e-9d1f-5fb35a0536ea",
   "metadata": {},
   "outputs": [
    {
     "data": {
      "text/plain": [
       "(tensor([ 1.5199, -3.6599,  1.8496, -1.6871, -1.5362, -2.2114, -1.6819, -1.8184,  0.0893, -2.3246]),\n",
       " tensor([ 1.4099, -3.6581,  1.9248, -1.6852, -1.5572, -2.2422, -1.7296, -1.7654,  0.0171, -2.2881]))"
      ]
     },
     "execution_count": 63,
     "metadata": {},
     "output_type": "execute_result"
    }
   ],
   "source": [
    "temb_cloud_uc[:10], temb_cloud_c[:10]"
   ]
  },
  {
   "cell_type": "markdown",
   "id": "1a9e22d9-b1a6-4663-aa87-b22150ebf6b9",
   "metadata": {},
   "source": [
    "___"
   ]
  },
  {
   "cell_type": "markdown",
   "id": "f492f210-c60d-47c6-b18d-5e5824353326",
   "metadata": {},
   "source": [
    "Let's reproduce `temb_local_uc` and `temb_local_c`\n",
    "\n",
    "Remember: `temb = temb + self.base_model.add_embedding(add_embeds)`, where `temb` is the pure time embedding"
   ]
  },
  {
   "cell_type": "code",
   "execution_count": 88,
   "id": "7e388f1a-92d8-4ec7-82ee-377bd2297e2e",
   "metadata": {},
   "outputs": [
    {
     "data": {
      "text/plain": [
       "tensor([999.])"
      ]
     },
     "execution_count": 88,
     "metadata": {},
     "output_type": "execute_result"
    }
   ],
   "source": [
    "t = tensor([999.])\n",
    "t"
   ]
  },
  {
   "cell_type": "code",
   "execution_count": 89,
   "id": "5f90a17f-15fd-4aa5-9841-7819c32e354f",
   "metadata": {},
   "outputs": [],
   "source": [
    "from diffusers.models.embeddings import get_timestep_embedding"
   ]
  },
  {
   "cell_type": "code",
   "execution_count": 109,
   "id": "114bd00f-584f-456a-8430-c4dcd679ef8b",
   "metadata": {},
   "outputs": [
    {
     "data": {
      "text/plain": [
       "torch.Size([1, 320])"
      ]
     },
     "execution_count": 109,
     "metadata": {},
     "output_type": "execute_result"
    }
   ],
   "source": [
    "temb_pure_time_1 = get_timestep_embedding(t, 320, flip_sin_to_cos=True, downscale_freq_shift=0)\n",
    "temb_pure_time_1.shape"
   ]
  },
  {
   "cell_type": "code",
   "execution_count": 110,
   "id": "b288bd59-b3ad-4ab3-a1a3-b25167f32659",
   "metadata": {},
   "outputs": [
    {
     "data": {
      "text/plain": [
       "tensor([ 0.9996,  0.8027, -0.2781,  0.1768, -0.2780,  0.1252, -0.9289, -0.0870, -0.4233, -0.2622])"
      ]
     },
     "execution_count": 110,
     "metadata": {},
     "output_type": "execute_result"
    }
   ],
   "source": [
    "temb_pure_time_1[0,:10]"
   ]
  },
  {
   "cell_type": "markdown",
   "id": "f7b9f822-cc41-427d-b05a-f5229f80f629",
   "metadata": {},
   "source": [
    "Because `learn_embedding=True`, we use a combindation of control's and base's time projection (weighting determined by `cnxs.config.control_scale`)"
   ]
  },
  {
   "cell_type": "code",
   "execution_count": 111,
   "id": "2fbeb5b5-c28d-420f-921a-f864c56200d9",
   "metadata": {},
   "outputs": [
    {
     "data": {
      "text/plain": [
       "0.95"
      ]
     },
     "execution_count": 111,
     "metadata": {},
     "output_type": "execute_result"
    }
   ],
   "source": [
    "cnxs.config.control_scale"
   ]
  },
  {
   "cell_type": "code",
   "execution_count": 112,
   "id": "f72dd28c-01dd-41a9-91d3-99345c6d497a",
   "metadata": {},
   "outputs": [
    {
     "name": "stdout",
     "output_type": "stream",
     "text": [
      "TimestepEmbedding(\n",
      "  (linear_1): Linear(in_features=320, out_features=1280, bias=True)\n",
      "  (act): SiLU()\n",
      "  (linear_2): LoRACompatibleLinear(in_features=1280, out_features=1280, bias=True)\n",
      ")\n",
      "TimestepEmbedding(\n",
      "  (linear_1): LoRACompatibleLinear(in_features=320, out_features=1280, bias=True)\n",
      "  (act): SiLU()\n",
      "  (linear_2): LoRACompatibleLinear(in_features=1280, out_features=1280, bias=True)\n",
      ")\n"
     ]
    }
   ],
   "source": [
    "time_projection_ctrl = cnxs.control_model.time_embedding\n",
    "time_projection_base = cnxs.base_model.time_embedding\n",
    "\n",
    "print(time_projection_ctrl)\n",
    "print(time_projection_base)"
   ]
  },
  {
   "cell_type": "markdown",
   "id": "5a0276ae-5a5c-4322-aca6-cbdb0f7ff722",
   "metadata": {},
   "source": [
    "**Q:** The `in_features`, ie the time emb has shape 320, but on cloud it is 256!\n",
    "\n",
    "**A:** No, the `in_features` are the dimension of the timestep embedding. The timestep embedding for (i) time and (ii) additional info (orig size, crop, target size) are different. They're `320` and `256` respectively.\n",
    "\n",
    "Here's how the timestep embedding for time is computed on cloud: `t_emb = timestep_embedding(timesteps, self.model_channels, repeat_only=False)` with `self.model_channels=320`"
   ]
  },
  {
   "cell_type": "code",
   "execution_count": 113,
   "id": "6528675b-6149-434f-b105-c7dc63c6f3d5",
   "metadata": {},
   "outputs": [],
   "source": [
    "def apply_time_projection(temb, alpha): return time_projection_ctrl(temb) * alpha**0.3 + time_projection_base(temb) * (1-alpha**0.3)"
   ]
  },
  {
   "cell_type": "code",
   "execution_count": 119,
   "id": "fdc834fd-af69-4f86-b1f1-936713717b4e",
   "metadata": {},
   "outputs": [
    {
     "data": {
      "text/plain": [
       "torch.Size([1, 1280])"
      ]
     },
     "execution_count": 119,
     "metadata": {},
     "output_type": "execute_result"
    }
   ],
   "source": [
    "temb_pure_time_2 = apply_time_projection(temb_pure_time_1.to(device), 0.95).cpu().detach()\n",
    "temb_pure_time_2.shape"
   ]
  },
  {
   "cell_type": "code",
   "execution_count": 120,
   "id": "44b36398-3489-434e-965d-747116d4ade0",
   "metadata": {},
   "outputs": [
    {
     "data": {
      "text/plain": [
       "tensor([[ 1.3571, -3.6848,  1.9868,  ..., -0.7487, -1.2921, -1.4140]])"
      ]
     },
     "execution_count": 120,
     "metadata": {},
     "output_type": "execute_result"
    }
   ],
   "source": [
    "temb_pure_time_2[:10]"
   ]
  },
  {
   "cell_type": "markdown",
   "id": "e29a2822-787b-4c25-8261-add0ad9bad3d",
   "metadata": {},
   "source": [
    "Now, let's project the additional time info"
   ]
  },
  {
   "cell_type": "code",
   "execution_count": 121,
   "id": "5d934480-578b-4af4-ae9c-03205600b90d",
   "metadata": {},
   "outputs": [
    {
     "data": {
      "text/plain": [
       "TimestepEmbedding(\n",
       "  (linear_1): LoRACompatibleLinear(in_features=2816, out_features=1280, bias=True)\n",
       "  (act): SiLU()\n",
       "  (linear_2): LoRACompatibleLinear(in_features=1280, out_features=1280, bias=True)\n",
       ")"
      ]
     },
     "execution_count": 121,
     "metadata": {},
     "output_type": "execute_result"
    }
   ],
   "source": [
    "add_time_projection = cnxs.base_model.add_embedding\n",
    "add_time_projection"
   ]
  },
  {
   "cell_type": "code",
   "execution_count": 122,
   "id": "1552a9d0-e782-496f-ac4f-53a5529a9dbe",
   "metadata": {},
   "outputs": [
    {
     "data": {
      "text/plain": [
       "torch.Size([2, 2816])"
      ]
     },
     "execution_count": 122,
     "metadata": {},
     "output_type": "execute_result"
    }
   ],
   "source": [
    "emb_l_add_embeds.shape"
   ]
  },
  {
   "cell_type": "code",
   "execution_count": 127,
   "id": "794f6ed7-32e5-4f33-969b-48fa66fb2c3b",
   "metadata": {},
   "outputs": [
    {
     "data": {
      "text/plain": [
       "torch.Size([2, 1280])"
      ]
     },
     "execution_count": 127,
     "metadata": {},
     "output_type": "execute_result"
    }
   ],
   "source": [
    "temb_only_additional = add_time_projection(emb_l_add_embeds.to(device)).cpu().detach()\n",
    "temb_only_additional.shape"
   ]
  },
  {
   "cell_type": "code",
   "execution_count": 129,
   "id": "fbf17eb1-09eb-48c8-90c0-b9f386bd0936",
   "metadata": {},
   "outputs": [
    {
     "data": {
      "text/plain": [
       "torch.Size([2, 1280])"
      ]
     },
     "execution_count": 129,
     "metadata": {},
     "output_type": "execute_result"
    }
   ],
   "source": [
    "temb_final = temb_pure_time_2 + temb_only_additional\n",
    "temb_final.shape"
   ]
  },
  {
   "cell_type": "code",
   "execution_count": 130,
   "id": "3650693c-fda7-4586-a816-9d28bb4d7768",
   "metadata": {},
   "outputs": [
    {
     "name": "stdout",
     "output_type": "stream",
     "text": [
      "[1280], [1280]\n"
     ]
    }
   ],
   "source": [
    "temb_local_uc_reproduced, temb_local_c_reproduced = temb_final\n",
    "print_shapes(temb_local_uc_reproduced, temb_local_c_reproduced)"
   ]
  },
  {
   "cell_type": "code",
   "execution_count": 139,
   "id": "bc7dfe65-1f5c-4629-b1c2-2303091c2911",
   "metadata": {},
   "outputs": [
    {
     "data": {
      "text/plain": [
       "(True, True)"
      ]
     },
     "execution_count": 139,
     "metadata": {},
     "output_type": "execute_result"
    }
   ],
   "source": [
    "equal(temb_local_uc_reproduced,temb_local_uc,atol=1e-5), equal(temb_local_c_reproduced,temb_local_c,atol=1e-4)"
   ]
  },
  {
   "cell_type": "code",
   "execution_count": null,
   "id": "4a01a699-f583-47e9-98ff-a7be231c51c7",
   "metadata": {},
   "outputs": [],
   "source": []
  },
  {
   "cell_type": "code",
   "execution_count": null,
   "id": "dd8856ed-52e1-4fe3-b86f-8f31e1c768c9",
   "metadata": {},
   "outputs": [],
   "source": []
  },
  {
   "cell_type": "code",
   "execution_count": null,
   "id": "45162eac-f91f-4b36-af55-8628706bd4ad",
   "metadata": {},
   "outputs": [],
   "source": []
  },
  {
   "cell_type": "code",
   "execution_count": null,
   "id": "a68b0bfe-d66a-4c04-9798-59271427124e",
   "metadata": {},
   "outputs": [],
   "source": []
  },
  {
   "cell_type": "markdown",
   "id": "784730ee-cc9a-4e83-ac5b-c3d312c30e3c",
   "metadata": {},
   "source": [
    "___"
   ]
  },
  {
   "cell_type": "code",
   "execution_count": 46,
   "id": "c3df983c-f327-4bde-ac4e-0ac90830a4df",
   "metadata": {},
   "outputs": [
    {
     "name": "stdout",
     "output_type": "stream",
     "text": [
      "-  | cloud               | local               | equal name? | equal shape? | equal values? | mean abs Δ\n",
      "   |                     |                     |             |              |    prec=3     |     prec=5\n",
      "--------------------------------------------------------------------------------------------------------\n",
      "0  | prep   x            | prep   x            | \u001b[92m     y     \u001b[0m | \u001b[92m     y      \u001b[0m | \u001b[92m      y      \u001b[0m |    0.00000\n",
      "1  | prep   temb         | prep   temb         | \u001b[92m     y     \u001b[0m | \u001b[92m     y      \u001b[0m | \u001b[91m      n      \u001b[0m |    0.02456\n",
      "2  | prep   context      | prep   context      | \u001b[92m     y     \u001b[0m | \u001b[92m     y      \u001b[0m | \u001b[91m      n      \u001b[0m |    0.00053\n",
      "3  | prep   raw hint     | prep   raw hint     | \u001b[92m     y     \u001b[0m | \u001b[92m     y      \u001b[0m | \u001b[92m      y      \u001b[0m |    0.00000\n",
      "4  | prep   guided_hint  | prep   guided_hint  | \u001b[92m     y     \u001b[0m | \u001b[92m     y      \u001b[0m | \u001b[91m      n      \u001b[0m |    0.00009\n",
      "--------------------------------------------------------------------------------------------------------\n",
      "5  | enc    h_base       | enc    h_base       | \u001b[92m     y     \u001b[0m | \u001b[92m     y      \u001b[0m | \u001b[92m      y      \u001b[0m |    0.00008   applied base.conv_in\n",
      "6  | enc    h_ctrl       | enc    h_ctrl       | \u001b[92m     y     \u001b[0m | \u001b[92m     y      \u001b[0m | \u001b[92m      y      \u001b[0m |    0.00000   applied ctrl.conv_in\n",
      "7  | enc    h_ctrl       | enc    h_ctrl       | \u001b[92m     y     \u001b[0m | \u001b[92m     y      \u001b[0m | \u001b[92m      y      \u001b[0m |    0.00009   added hint in ctrl\n",
      "8  | enc    h_base       | enc    h_base       | \u001b[92m     y     \u001b[0m | \u001b[92m     y      \u001b[0m | \u001b[92m      y      \u001b[0m |    0.00008   added ctrl -> base\n",
      "--------------------------------------------------------------------------------------------------------\n",
      "9  | enc    h_ctrl       | enc    h_ctrl       | \u001b[92m     y     \u001b[0m | \u001b[92m     y      \u001b[0m | \u001b[92m      y      \u001b[0m |    0.00006   concatted base -> ctrl\n",
      "10 | enc    h_base       | enc    h_base       | \u001b[92m     y     \u001b[0m | \u001b[92m     y      \u001b[0m | \u001b[91m      n      \u001b[0m |    0.00226   applied base subblock\n",
      "11 | enc    h_ctrl       | enc    h_ctrl       | \u001b[92m     y     \u001b[0m | \u001b[92m     y      \u001b[0m | \u001b[92m      y      \u001b[0m |    0.00019   applied ctrl subblock\n",
      "12 | enc    h_base       | enc    h_base       | \u001b[92m     y     \u001b[0m | \u001b[92m     y      \u001b[0m | \u001b[91m      n      \u001b[0m |    0.05637   added ctrl -> base\n",
      "- - - - - - - - - - - - - - - - - - - - - - - - - - - - - - - - - - - - - - - - - - - - - - - - - - - - \n",
      "13 | enc    h_ctrl       | enc    h_ctrl       | \u001b[92m     y     \u001b[0m | \u001b[92m     y      \u001b[0m | \u001b[92m      y      \u001b[0m |    0.33904   concatted base -> ctrl\n",
      "14 | enc    h_base       | enc    h_base       | \u001b[92m     y     \u001b[0m | \u001b[92m     y      \u001b[0m | \u001b[91m      n      \u001b[0m |    0.06044   applied base subblock\n",
      "15 | enc    h_ctrl       | enc    h_ctrl       | \u001b[92m     y     \u001b[0m | \u001b[92m     y      \u001b[0m | \u001b[91m      n      \u001b[0m |    0.89408   applied ctrl subblock\n",
      "16 | enc    h_base       | enc    h_base       | \u001b[92m     y     \u001b[0m | \u001b[92m     y      \u001b[0m | \u001b[91m      n      \u001b[0m |    0.15940   added ctrl -> base\n",
      "- - - - - - - - - - - - - - - - - - - - - - - - - - - - - - - - - - - - - - - - - - - - - - - - - - - - \n",
      "17 | enc    h_ctrl       | enc    h_ctrl       | \u001b[92m     y     \u001b[0m | \u001b[92m     y      \u001b[0m | \u001b[91m      n      \u001b[0m |    0.24952   concatted base -> ctrl\n",
      "18 | enc    h_base       | enc    h_base       | \u001b[92m     y     \u001b[0m | \u001b[92m     y      \u001b[0m | \u001b[91m      n      \u001b[0m |    0.33181   applied base subblock\n",
      "19 | enc    h_ctrl       | enc    h_ctrl       | \u001b[92m     y     \u001b[0m | \u001b[92m     y      \u001b[0m | \u001b[91m      n      \u001b[0m |    2.03931   applied ctrl subblock\n"
     ]
    }
   ],
   "source": [
    "compare_intermediate_results(model_outp_cloud, model_outp_local, n=20, prec=5, compare_prec=3)"
   ]
  },
  {
   "cell_type": "markdown",
   "id": "4ec2ed3c-bdae-4446-8eb7-4d3d060c311e",
   "metadata": {},
   "source": [
    "## Load intermediate outputs of 1st resnet"
   ]
  },
  {
   "cell_type": "code",
   "execution_count": null,
   "id": "d0e9f513-02f7-4343-b2ce-5e46ea5e8925",
   "metadata": {},
   "outputs": [],
   "source": [
    "resnet_outp_cloud = load_intermediate_outputs('intermediate_output/cloud_resnet.pkl')\n",
    "resnet_outp_local = load_intermediate_outputs('intermediate_output/local_resnet.pkl')\n",
    "len(resnet_outp_cloud),len(resnet_outp_local)"
   ]
  },
  {
   "cell_type": "markdown",
   "id": "e27f44b7-42e6-45ae-b08d-13d26abb08d0",
   "metadata": {
    "jp-MarkdownHeadingCollapsed": true
   },
   "source": [
    "## Compare!"
   ]
  },
  {
   "cell_type": "code",
   "execution_count": null,
   "id": "ce4cd6b6-a428-4592-9a9a-040c7310390f",
   "metadata": {},
   "outputs": [],
   "source": [
    "from diffusers.models.controlnetxs import to_sub_blocks\n",
    "my_subs = to_sub_blocks(cnxs.base_model.down_blocks[0])\n",
    "assert len(my_subs)==3\n",
    "first_base_enc_subblock = my_subs[0] # that's the local module (I can't access cloud modules)"
   ]
  },
  {
   "cell_type": "code",
   "execution_count": null,
   "id": "51fab23f-1132-4898-927e-52275dc366bd",
   "metadata": {},
   "outputs": [],
   "source": [
    "prev_h_base_cloud = model_outp_cloud[8].t\n",
    "prev_h_base_local = model_outp_local[8].t\n",
    "\n",
    "temb_cloud = model_outp_cloud[1].t\n",
    "temb_local = model_outp_local[1].t\n",
    "\n",
    "current_h_base_cloud = model_outp_cloud[10].t\n",
    "current_h_base_local = model_outp_local[10].t"
   ]
  },
  {
   "cell_type": "code",
   "execution_count": null,
   "id": "fdba3ba7-1d03-470f-951f-40cccaa2025c",
   "metadata": {},
   "outputs": [],
   "source": [
    "model_outp_cloud[1].msg, model_outp_cloud[1].shape"
   ]
  },
  {
   "cell_type": "code",
   "execution_count": null,
   "id": "ab0bdae0-f4bd-4430-b627-a4f8bf2c3466",
   "metadata": {},
   "outputs": [],
   "source": [
    "temb_cloud[0].shape,temb_cloud[1].shape"
   ]
  },
  {
   "cell_type": "code",
   "execution_count": null,
   "id": "ddf14e35-642f-4b93-a562-903046c3721d",
   "metadata": {},
   "outputs": [],
   "source": [
    "allclose(temb_cloud[0], temb_cloud[1])"
   ]
  },
  {
   "cell_type": "markdown",
   "id": "b1b580b6-e70c-4536-a388-8f4ecbee880b",
   "metadata": {},
   "source": [
    "**These should be equal! Why are they not?** 😤🤔\n",
    "\n",
    "**Edit:** To the time embedding, information for `crop`, `original_size` and `target_size` is added. "
   ]
  },
  {
   "cell_type": "code",
   "execution_count": null,
   "id": "ea93bf45-2e81-46d2-93e7-8f8cf1d6f72f",
   "metadata": {},
   "outputs": [],
   "source": [
    "print_metadata(resnet_outp_cloud)"
   ]
  },
  {
   "cell_type": "code",
   "execution_count": null,
   "id": "73a19a74-ab97-4ef8-82f5-756477203b17",
   "metadata": {},
   "outputs": [],
   "source": [
    "print_metadata(resnet_outp_local)"
   ]
  },
  {
   "cell_type": "code",
   "execution_count": null,
   "id": "a17d8057-3338-463f-8579-52650bc12cca",
   "metadata": {},
   "outputs": [],
   "source": [
    "# map cloud steps to local steps, because in cloud some steps are bundled\n",
    "c2l = dict(enumerate((0,1,2,5,7,8,12,13)))\n",
    "\n",
    "l2c = {l:c for c,l in c2l.items()}\n",
    "l2c.update({l: None for l in range(len(resnet_outp_local)) if l not in l2c.keys()})"
   ]
  },
  {
   "cell_type": "code",
   "execution_count": null,
   "id": "7dc09a1f-2e21-4947-90f0-b8380d951fc9",
   "metadata": {},
   "outputs": [],
   "source": [
    "from torch import tensor\n",
    "from util_inspect import divider, fmt_bool, have_same_shapes, have_same_values, broadcast\n",
    "\n",
    "def compare_intermediate_results():\n",
    "    step_map = (0,1,2,5,7,8,12,13)\n",
    "    \n",
    "    l,c,es,ev,d = 'local','cloud','equal shape?','equal values?','mean abs Δ'\n",
    "    print(f'{l:<36} | {c:<48} | {es:<12} | {ev:<13} | {d:<10}')\n",
    "    c,l,es,ev,d = '','','','prec=2',''\n",
    "    print(f'{l:<36} | {c:<48} | {es:<12} | {ev:^13} | {d:<10}')\n",
    "    divider(l=36+3+48+3+12+3+13+3+10)\n",
    "    for li in range(len(resnet_outp_local)):\n",
    "        l=resnet_outp_local[li]\n",
    "        print(f'{li:>2} {l.stage:<14} {l.msg:<18} | ',end='')\n",
    "\n",
    "        if l2c[li] is not None:\n",
    "            ci = l2c[li]\n",
    "            c=resnet_outp_cloud[ci]\n",
    "        \n",
    "            print(f'{ci:>2} {c.stage:<14} {c.msg:<30} | ',end='')\n",
    "            \n",
    "            eq_shape = have_same_shapes(c,l,do_print=False,assert_names_match=False)\n",
    "            if hasattr(c.t, 'shape'):\n",
    "                eq_vals = have_same_values(c,l,do_print=False,prec=2,assert_names_match=False)   \n",
    "                ct,lt = broadcast(c.t,l.t)\n",
    "                mae = (ct-lt).abs().mean()\n",
    "            else:\n",
    "                eq_vals = c.t==l.t\n",
    "                mae = (tensor(c.t)-tensor(l.t)).abs().mean()\n",
    "                \n",
    "            print(fmt_bool(eq_shape, '^12')+' | '+fmt_bool(eq_vals, '^13')+' | ', end='')\n",
    "            print(f'{mae:>10.5f}',end='')\n",
    "        \n",
    "        print()"
   ]
  },
  {
   "cell_type": "code",
   "execution_count": null,
   "id": "50df1963-4671-4762-9b22-329f1c19fe33",
   "metadata": {},
   "outputs": [],
   "source": [
    "compare_intermediate_results()"
   ]
  },
  {
   "cell_type": "code",
   "execution_count": null,
   "id": "59077912-e7b4-4d40-9371-74c5838df23b",
   "metadata": {},
   "outputs": [],
   "source": []
  },
  {
   "cell_type": "markdown",
   "id": "1d35d8d4-a599-4f7f-ba4f-0bb7f71dfbba",
   "metadata": {},
   "source": [
    "Something is wrong with the time information or the time projection"
   ]
  },
  {
   "cell_type": "code",
   "execution_count": null,
   "id": "d41b8e19-d98f-42b4-a230-65732c268ab6",
   "metadata": {},
   "outputs": [],
   "source": []
  },
  {
   "cell_type": "markdown",
   "id": "f09690dc-9301-4494-913e-aafeea4ff36d",
   "metadata": {},
   "source": [
    "## Run 1 step locally"
   ]
  },
  {
   "cell_type": "code",
   "execution_count": 9,
   "id": "2a9f2f99-5fe0-4bb5-ab8b-c04b30c16b18",
   "metadata": {},
   "outputs": [],
   "source": [
    "import torch\n",
    "import random\n",
    "import numpy as np\n",
    "import cv2\n",
    "from diffusers.utils import load_image\n",
    "import matplotlib.pyplot as plt\n",
    "\n",
    "class CannyDetector:\n",
    "    def __call__(self, img, low_threshold, high_threshold):\n",
    "        return cv2.Canny(img, low_threshold, high_threshold)\n",
    "\n",
    "def get_canny_edges(image, threshold=(100, 250)):\n",
    "    image = np.array(image).astype(np.uint8)\n",
    "    edges = CannyDetector()(image, *threshold)  # original sized greyscale edges\n",
    "    edges = edges / 255.\n",
    "    return edges\n",
    "\n",
    "def seed_everything(seed):\n",
    "    # paper used deprecated `seed_everything` from pytorch lightning\n",
    "    random.seed(seed)\n",
    "    np.random.seed(seed)\n",
    "    torch.manual_seed(seed)\n",
    "    torch.use_deterministic_algorithms(True)\n",
    "\n",
    "RANDOM_SEED_IN_PAPER = 1999158951"
   ]
  },
  {
   "cell_type": "code",
   "execution_count": 10,
   "id": "7af45300-05fb-4d45-8e36-5c4dc4b37c2a",
   "metadata": {},
   "outputs": [],
   "source": [
    "latents_sdxl_cloud = torch.load('latents_cloud_no_control.pth', map_location=torch.device(device))\n",
    "rand_from_cloud = latents_sdxl_cloud[0] / 14.6146"
   ]
  },
  {
   "cell_type": "code",
   "execution_count": 11,
   "id": "97109287-4f1d-49af-a9b2-c70216705cc0",
   "metadata": {},
   "outputs": [
    {
     "data": {
      "text/plain": [
       "torch.Size([3, 768, 768])"
      ]
     },
     "execution_count": 11,
     "metadata": {},
     "output_type": "execute_result"
    }
   ],
   "source": [
    "prompt = 'cinematic, shoe in the streets, made from meat, photorealistic shoe, highly detailed'\n",
    "neg_prompt = 'lowres, bad anatomy, worst quality, low quality'\n",
    "\n",
    "image = load_image('input_images/shoe_cloud.png')\n",
    "edges = get_canny_edges(image)\n",
    "\n",
    "edges_tensor = torch.tensor(edges)\n",
    "three_edges = torch.stack((edges_tensor,edges_tensor,edges_tensor))\n",
    "three_edges.shape"
   ]
  },
  {
   "cell_type": "code",
   "execution_count": 12,
   "id": "35d847cb-29fc-45e0-97b7-1b0e2dd1781d",
   "metadata": {},
   "outputs": [
    {
     "data": {
      "text/plain": [
       "True"
      ]
     },
     "execution_count": 12,
     "metadata": {},
     "output_type": "execute_result"
    }
   ],
   "source": [
    "cnxs_pipe.controlnet.DEBUG_LOG_by_Umer = True\n",
    "cnxs_pipe.controlnet.DEBUG_LOG_by_Umer_file = 'intermediate_output/local_debug_log.pkl'\n",
    "cnxs_pipe.controlnet.DEBUG_LOG_by_Umer"
   ]
  },
  {
   "cell_type": "code",
   "execution_count": 13,
   "id": "2eaa870a-62b3-4e61-b7ca-218c899932d8",
   "metadata": {},
   "outputs": [
    {
     "name": "stdout",
     "output_type": "stream",
     "text": [
      "timestep_spacing = \"leading\" and timesteps=[999.      978.61224 958.2245  937.83673 917.449  ] ...\n",
      "sigmas before interpolation: [0.02916753 0.04131448 0.05068044 0.05861427 0.06563709] ...\n",
      "sigmas after (linear) interpolation: [14.61464691 12.93677721 11.49164976 10.24291444  9.16035419] ...\n",
      "At end of `set_timesteps`:\n",
      "sigmas =  tensor([14.6146, 12.9368, 11.4916, 10.2429,  9.1604], device='mps:0') ...\n",
      "timesteps = tensor([999.0000, 978.6122, 958.2245, 937.8367, 917.4490], device='mps:0') ...\n",
      "Passed in latents:  tensor([ 1.3333,  0.5155,  0.4647, -0.5344,  1.0102], device='mps:0')\n",
      "initial_unscaled_latents:  tensor([ 1.3333,  0.5155,  0.4647, -0.5344,  1.0102], device='mps:0')\n",
      "latents:  tensor([19.4858,  7.5339,  6.7910, -7.8098, 14.7639], device='mps:0')\n",
      "add_time_ids = tensor([[768., 768.,   0.,   0., 768., 768.],\n",
      "        [768., 768.,   0.,   0., 768., 768.]], device='mps:0')\n"
     ]
    },
    {
     "data": {
      "application/vnd.jupyter.widget-view+json": {
       "model_id": "d8d1289258e54a6abb260185e876b10e",
       "version_major": 2,
       "version_minor": 0
      },
      "text/plain": [
       "  0%|          | 0/50 [00:00<?, ?it/s]"
      ]
     },
     "metadata": {},
     "output_type": "display_data"
    },
    {
     "name": "stdout",
     "output_type": "stream",
     "text": [
      "time_ids: tensor([[768., 768.,   0.,   0., 768., 768.],\n",
      "        [768., 768.,   0.,   0., 768., 768.]], device='mps:0')\n",
      "timesteps = tensor(999., device='mps:0')\n",
      "timesteps = tensor([999.], device='mps:0')\n",
      "t_emb.shape = [1, 320]\n",
      "learn_embedding = True\n",
      "t_emb.shape = [1, 1280]\n"
     ]
    },
    {
     "name": "stderr",
     "output_type": "stream",
     "text": [
      "/Users/umer/Documents/GitHub/diffusers/diffusers/src/diffusers/models/controlnetxs.py:311: FutureWarning: Accessing config attribute `control_scale` directly via 'ControlNetXSModel' object attribute is deprecated. Please access 'control_scale' over 'ControlNetXSModel's config object instead, e.g. 'unet.config.control_scale'.\n",
      "  temb = self.control_model.time_embedding(t_emb) * self.control_scale ** 0.3 + self.base_model.time_embedding(t_emb) * (1 - self.control_scale ** 0.3)\n"
     ]
    },
    {
     "ename": "RuntimeError",
     "evalue": "Hey kid, wanna analyze time emb?\t\tThey're in intermediate_output/temb/local/",
     "output_type": "error",
     "traceback": [
      "\u001b[0;31m---------------------------------------------------------------------------\u001b[0m",
      "\u001b[0;31mRuntimeError\u001b[0m                              Traceback (most recent call last)",
      "Cell \u001b[0;32mIn[13], line 2\u001b[0m\n\u001b[1;32m      1\u001b[0m seed_everything(RANDOM_SEED_IN_PAPER)\n\u001b[0;32m----> 2\u001b[0m \u001b[43mcnxs_pipe\u001b[49m\u001b[43m(\u001b[49m\u001b[43mprompt\u001b[49m\u001b[43m,\u001b[49m\u001b[43m \u001b[49m\u001b[43mnegative_prompt\u001b[49m\u001b[38;5;241;43m=\u001b[39;49m\u001b[43mneg_prompt\u001b[49m\u001b[43m,\u001b[49m\u001b[43mimage\u001b[49m\u001b[38;5;241;43m=\u001b[39;49m\u001b[43mthree_edges\u001b[49m\u001b[43m,\u001b[49m\u001b[43m \u001b[49m\u001b[43mlatents\u001b[49m\u001b[38;5;241;43m=\u001b[39;49m\u001b[43mrand_from_cloud\u001b[49m\u001b[43m)\u001b[49m\n",
      "File \u001b[0;32m~/.local/share/virtualenvs/controlnet-xs-ngkyeIE7/lib/python3.11/site-packages/torch/utils/_contextlib.py:115\u001b[0m, in \u001b[0;36mcontext_decorator.<locals>.decorate_context\u001b[0;34m(*args, **kwargs)\u001b[0m\n\u001b[1;32m    112\u001b[0m \u001b[38;5;129m@functools\u001b[39m\u001b[38;5;241m.\u001b[39mwraps(func)\n\u001b[1;32m    113\u001b[0m \u001b[38;5;28;01mdef\u001b[39;00m \u001b[38;5;21mdecorate_context\u001b[39m(\u001b[38;5;241m*\u001b[39margs, \u001b[38;5;241m*\u001b[39m\u001b[38;5;241m*\u001b[39mkwargs):\n\u001b[1;32m    114\u001b[0m     \u001b[38;5;28;01mwith\u001b[39;00m ctx_factory():\n\u001b[0;32m--> 115\u001b[0m         \u001b[38;5;28;01mreturn\u001b[39;00m \u001b[43mfunc\u001b[49m\u001b[43m(\u001b[49m\u001b[38;5;241;43m*\u001b[39;49m\u001b[43margs\u001b[49m\u001b[43m,\u001b[49m\u001b[43m \u001b[49m\u001b[38;5;241;43m*\u001b[39;49m\u001b[38;5;241;43m*\u001b[39;49m\u001b[43mkwargs\u001b[49m\u001b[43m)\u001b[49m\n",
      "File \u001b[0;32m~/Documents/GitHub/diffusers/diffusers/src/diffusers/pipelines/controlnet_xs/pipeline_controlnet_xs_sd_xl.py:753\u001b[0m, in \u001b[0;36mStableDiffusionXLControlNetXSPipeline.__call__\u001b[0;34m(self, prompt, prompt_2, image, height, width, num_inference_steps, guidance_scale, negative_prompt, negative_prompt_2, num_images_per_prompt, eta, generator, latents, prompt_embeds, negative_prompt_embeds, pooled_prompt_embeds, negative_pooled_prompt_embeds, output_type, return_dict, callback, callback_steps, cross_attention_kwargs, controlnet_conditioning_scale, guess_mode, control_guidance_start, control_guidance_end, original_size, crops_coords_top_left, target_size, negative_original_size, negative_crops_coords_top_left, negative_target_size)\u001b[0m\n\u001b[1;32m    750\u001b[0m added_cond_kwargs \u001b[38;5;241m=\u001b[39m {\u001b[38;5;124m\"\u001b[39m\u001b[38;5;124mtext_embeds\u001b[39m\u001b[38;5;124m\"\u001b[39m: add_text_embeds, \u001b[38;5;124m\"\u001b[39m\u001b[38;5;124mtime_ids\u001b[39m\u001b[38;5;124m\"\u001b[39m: add_time_ids}\n\u001b[1;32m    752\u001b[0m \u001b[38;5;66;03m# predict the noise residual\u001b[39;00m\n\u001b[0;32m--> 753\u001b[0m noise_pred \u001b[38;5;241m=\u001b[39m \u001b[38;5;28;43mself\u001b[39;49m\u001b[38;5;241;43m.\u001b[39;49m\u001b[43mcontrolnet\u001b[49m\u001b[43m(\u001b[49m\n\u001b[1;32m    754\u001b[0m \u001b[43m    \u001b[49m\u001b[43mx\u001b[49m\u001b[38;5;241;43m=\u001b[39;49m\u001b[43mlatent_model_input\u001b[49m\u001b[43m,\u001b[49m\n\u001b[1;32m    755\u001b[0m \u001b[43m    \u001b[49m\u001b[43mt\u001b[49m\u001b[38;5;241;43m=\u001b[39;49m\u001b[43mt\u001b[49m\u001b[43m,\u001b[49m\n\u001b[1;32m    756\u001b[0m \u001b[43m    \u001b[49m\u001b[43mencoder_hidden_states\u001b[49m\u001b[38;5;241;43m=\u001b[39;49m\u001b[43mprompt_embeds\u001b[49m\u001b[43m,\u001b[49m\n\u001b[1;32m    757\u001b[0m \u001b[43m    \u001b[49m\u001b[43mhint\u001b[49m\u001b[38;5;241;43m=\u001b[39;49m\u001b[43mimage\u001b[49m\u001b[43m,\u001b[49m\u001b[43m \u001b[49m\u001b[38;5;66;43;03m# todo: better naming\u001b[39;49;00m\n\u001b[1;32m    758\u001b[0m \u001b[43m    \u001b[49m\u001b[43mcross_attention_kwargs\u001b[49m\u001b[38;5;241;43m=\u001b[39;49m\u001b[43mcross_attention_kwargs\u001b[49m\u001b[43m,\u001b[49m\n\u001b[1;32m    759\u001b[0m \u001b[43m    \u001b[49m\u001b[43madded_cond_kwargs\u001b[49m\u001b[38;5;241;43m=\u001b[39;49m\u001b[43madded_cond_kwargs\u001b[49m\u001b[43m,\u001b[49m\n\u001b[1;32m    760\u001b[0m \u001b[43m    \u001b[49m\u001b[38;5;66;43;03m#return_dict=False,\u001b[39;49;00m\n\u001b[1;32m    761\u001b[0m \u001b[43m\u001b[49m\u001b[43m)\u001b[49m\u001b[38;5;241m.\u001b[39msample\n\u001b[1;32m    763\u001b[0m \u001b[38;5;66;03m# perform guidance\u001b[39;00m\n\u001b[1;32m    764\u001b[0m \u001b[38;5;28;01mif\u001b[39;00m do_classifier_free_guidance:\n",
      "File \u001b[0;32m~/.local/share/virtualenvs/controlnet-xs-ngkyeIE7/lib/python3.11/site-packages/torch/nn/modules/module.py:1518\u001b[0m, in \u001b[0;36mModule._wrapped_call_impl\u001b[0;34m(self, *args, **kwargs)\u001b[0m\n\u001b[1;32m   1516\u001b[0m     \u001b[38;5;28;01mreturn\u001b[39;00m \u001b[38;5;28mself\u001b[39m\u001b[38;5;241m.\u001b[39m_compiled_call_impl(\u001b[38;5;241m*\u001b[39margs, \u001b[38;5;241m*\u001b[39m\u001b[38;5;241m*\u001b[39mkwargs)  \u001b[38;5;66;03m# type: ignore[misc]\u001b[39;00m\n\u001b[1;32m   1517\u001b[0m \u001b[38;5;28;01melse\u001b[39;00m:\n\u001b[0;32m-> 1518\u001b[0m     \u001b[38;5;28;01mreturn\u001b[39;00m \u001b[38;5;28;43mself\u001b[39;49m\u001b[38;5;241;43m.\u001b[39;49m\u001b[43m_call_impl\u001b[49m\u001b[43m(\u001b[49m\u001b[38;5;241;43m*\u001b[39;49m\u001b[43margs\u001b[49m\u001b[43m,\u001b[49m\u001b[43m \u001b[49m\u001b[38;5;241;43m*\u001b[39;49m\u001b[38;5;241;43m*\u001b[39;49m\u001b[43mkwargs\u001b[49m\u001b[43m)\u001b[49m\n",
      "File \u001b[0;32m~/.local/share/virtualenvs/controlnet-xs-ngkyeIE7/lib/python3.11/site-packages/torch/nn/modules/module.py:1527\u001b[0m, in \u001b[0;36mModule._call_impl\u001b[0;34m(self, *args, **kwargs)\u001b[0m\n\u001b[1;32m   1522\u001b[0m \u001b[38;5;66;03m# If we don't have any hooks, we want to skip the rest of the logic in\u001b[39;00m\n\u001b[1;32m   1523\u001b[0m \u001b[38;5;66;03m# this function, and just call forward.\u001b[39;00m\n\u001b[1;32m   1524\u001b[0m \u001b[38;5;28;01mif\u001b[39;00m \u001b[38;5;129;01mnot\u001b[39;00m (\u001b[38;5;28mself\u001b[39m\u001b[38;5;241m.\u001b[39m_backward_hooks \u001b[38;5;129;01mor\u001b[39;00m \u001b[38;5;28mself\u001b[39m\u001b[38;5;241m.\u001b[39m_backward_pre_hooks \u001b[38;5;129;01mor\u001b[39;00m \u001b[38;5;28mself\u001b[39m\u001b[38;5;241m.\u001b[39m_forward_hooks \u001b[38;5;129;01mor\u001b[39;00m \u001b[38;5;28mself\u001b[39m\u001b[38;5;241m.\u001b[39m_forward_pre_hooks\n\u001b[1;32m   1525\u001b[0m         \u001b[38;5;129;01mor\u001b[39;00m _global_backward_pre_hooks \u001b[38;5;129;01mor\u001b[39;00m _global_backward_hooks\n\u001b[1;32m   1526\u001b[0m         \u001b[38;5;129;01mor\u001b[39;00m _global_forward_hooks \u001b[38;5;129;01mor\u001b[39;00m _global_forward_pre_hooks):\n\u001b[0;32m-> 1527\u001b[0m     \u001b[38;5;28;01mreturn\u001b[39;00m \u001b[43mforward_call\u001b[49m\u001b[43m(\u001b[49m\u001b[38;5;241;43m*\u001b[39;49m\u001b[43margs\u001b[49m\u001b[43m,\u001b[49m\u001b[43m \u001b[49m\u001b[38;5;241;43m*\u001b[39;49m\u001b[38;5;241;43m*\u001b[39;49m\u001b[43mkwargs\u001b[49m\u001b[43m)\u001b[49m\n\u001b[1;32m   1529\u001b[0m \u001b[38;5;28;01mtry\u001b[39;00m:\n\u001b[1;32m   1530\u001b[0m     result \u001b[38;5;241m=\u001b[39m \u001b[38;5;28;01mNone\u001b[39;00m\n",
      "File \u001b[0;32m~/Documents/GitHub/diffusers/diffusers/src/diffusers/models/controlnetxs.py:348\u001b[0m, in \u001b[0;36mControlNetXSModel.forward\u001b[0;34m(self, x, t, encoder_hidden_states, hint, cross_attention_kwargs, added_cond_kwargs, no_control)\u001b[0m\n\u001b[1;32m    345\u001b[0m     torch\u001b[38;5;241m.\u001b[39msave(add_embeds, \u001b[38;5;124m'\u001b[39m\u001b[38;5;124mintermediate_output/temb/local/add_embeds\u001b[39m\u001b[38;5;124m'\u001b[39m)\n\u001b[1;32m    346\u001b[0m     torch\u001b[38;5;241m.\u001b[39msave(aug_emb, \u001b[38;5;124m'\u001b[39m\u001b[38;5;124mintermediate_output/temb/local/aug_embeds\u001b[39m\u001b[38;5;124m'\u001b[39m)\n\u001b[0;32m--> 348\u001b[0m     \u001b[38;5;28;01mraise\u001b[39;00m \u001b[38;5;167;01mRuntimeError\u001b[39;00m(\u001b[38;5;124m\"\u001b[39m\u001b[38;5;124mHey kid, wanna analyze time emb?\u001b[39m\u001b[38;5;130;01m\\t\u001b[39;00m\u001b[38;5;130;01m\\t\u001b[39;00m\u001b[38;5;124mThey\u001b[39m\u001b[38;5;124m'\u001b[39m\u001b[38;5;124mre in intermediate_output/temb/local/\u001b[39m\u001b[38;5;124m\"\u001b[39m)\n\u001b[1;32m    350\u001b[0m \u001b[38;5;28;01melif\u001b[39;00m \u001b[38;5;28mself\u001b[39m\u001b[38;5;241m.\u001b[39mconfig\u001b[38;5;241m.\u001b[39maddition_embed_type \u001b[38;5;241m==\u001b[39m \u001b[38;5;124m\"\u001b[39m\u001b[38;5;124mimage\u001b[39m\u001b[38;5;124m\"\u001b[39m:\n\u001b[1;32m    351\u001b[0m     \u001b[38;5;28;01mraise\u001b[39;00m \u001b[38;5;167;01mNotImplementedError\u001b[39;00m()\n",
      "\u001b[0;31mRuntimeError\u001b[0m: Hey kid, wanna analyze time emb?\t\tThey're in intermediate_output/temb/local/"
     ]
    }
   ],
   "source": [
    "seed_everything(RANDOM_SEED_IN_PAPER)\n",
    "cnxs_pipe(prompt, negative_prompt=neg_prompt,image=three_edges, latents=rand_from_cloud)"
   ]
  },
  {
   "cell_type": "code",
   "execution_count": 14,
   "id": "fcdece56-7d3f-46ef-900f-d9298e3a2f6e",
   "metadata": {},
   "outputs": [
    {
     "name": "stdout",
     "output_type": "stream",
     "text": [
      "> \u001b[0;32m/Users/umer/Documents/GitHub/diffusers/diffusers/src/diffusers/models/controlnetxs.py\u001b[0m(348)\u001b[0;36mforward\u001b[0;34m()\u001b[0m\n",
      "\u001b[0;32m    346 \u001b[0;31m            \u001b[0mtorch\u001b[0m\u001b[0;34m.\u001b[0m\u001b[0msave\u001b[0m\u001b[0;34m(\u001b[0m\u001b[0maug_emb\u001b[0m\u001b[0;34m,\u001b[0m \u001b[0;34m'intermediate_output/temb/local/aug_embeds'\u001b[0m\u001b[0;34m)\u001b[0m\u001b[0;34m\u001b[0m\u001b[0;34m\u001b[0m\u001b[0m\n",
      "\u001b[0m\u001b[0;32m    347 \u001b[0;31m\u001b[0;34m\u001b[0m\u001b[0m\n",
      "\u001b[0m\u001b[0;32m--> 348 \u001b[0;31m            \u001b[0;32mraise\u001b[0m \u001b[0mRuntimeError\u001b[0m\u001b[0;34m(\u001b[0m\u001b[0;34m\"Hey kid, wanna analyze time emb?\\t\\tThey're in intermediate_output/temb/local/\"\u001b[0m\u001b[0;34m)\u001b[0m\u001b[0;34m\u001b[0m\u001b[0;34m\u001b[0m\u001b[0m\n",
      "\u001b[0m\u001b[0;32m    349 \u001b[0;31m\u001b[0;34m\u001b[0m\u001b[0m\n",
      "\u001b[0m\u001b[0;32m    350 \u001b[0;31m        \u001b[0;32melif\u001b[0m \u001b[0mself\u001b[0m\u001b[0;34m.\u001b[0m\u001b[0mconfig\u001b[0m\u001b[0;34m.\u001b[0m\u001b[0maddition_embed_type\u001b[0m \u001b[0;34m==\u001b[0m \u001b[0;34m\"image\"\u001b[0m\u001b[0;34m:\u001b[0m\u001b[0;34m\u001b[0m\u001b[0;34m\u001b[0m\u001b[0m\n",
      "\u001b[0m\n"
     ]
    },
    {
     "name": "stdin",
     "output_type": "stream",
     "text": [
      "ipdb>  info = [768,768,0,0,768,768]\n",
      "ipdb>  info = tensor([info,info])\n"
     ]
    },
    {
     "name": "stdout",
     "output_type": "stream",
     "text": [
      "*** NameError: name 'tensor' is not defined\n"
     ]
    },
    {
     "name": "stdin",
     "output_type": "stream",
     "text": [
      "ipdb>  info = torch.tensor([info,info])\n",
      "ipdb>  info==time_ids\n"
     ]
    },
    {
     "name": "stdout",
     "output_type": "stream",
     "text": [
      "*** RuntimeError: Expected all tensors to be on the same device, but found at least two devices, mps:0 and cpu!\n"
     ]
    },
    {
     "name": "stdin",
     "output_type": "stream",
     "text": [
      "ipdb>  time_ids.cpu()==info\n"
     ]
    },
    {
     "name": "stdout",
     "output_type": "stream",
     "text": [
      "tensor([[True, True, True, True, True, True],\n",
      "        [True, True, True, True, True, True]])\n"
     ]
    },
    {
     "name": "stdin",
     "output_type": "stream",
     "text": [
      "ipdb>  my_time_embeds = self.base_model.add_time_proj(time_ids.flatten()).reshape((2, -1))\n",
      "ipdb>  my_time_embeds==time_embeds\n"
     ]
    },
    {
     "name": "stdout",
     "output_type": "stream",
     "text": [
      "tensor([[True, True, True,  ..., True, True, True],\n",
      "        [True, True, True,  ..., True, True, True]], device='mps:0')\n"
     ]
    },
    {
     "name": "stdin",
     "output_type": "stream",
     "text": [
      "ipdb>  emb_l_time_embeds = torch.load('intermediate_output/temb/local/time_embeds', map_location='cpu')\n",
      "ipdb>  emb_l_time_embeds==time_embeds\n"
     ]
    },
    {
     "name": "stdout",
     "output_type": "stream",
     "text": [
      "*** RuntimeError: Expected all tensors to be on the same device, but found at least two devices, mps:0 and cpu!\n"
     ]
    },
    {
     "name": "stdin",
     "output_type": "stream",
     "text": [
      "ipdb>  emb_l_time_embeds.cpu()==time_embeds\n"
     ]
    },
    {
     "name": "stdout",
     "output_type": "stream",
     "text": [
      "*** RuntimeError: Expected all tensors to be on the same device, but found at least two devices, mps:0 and cpu!\n"
     ]
    },
    {
     "name": "stdin",
     "output_type": "stream",
     "text": [
      "ipdb>  emb_l_time_embeds.cpu()==time_embeds.cpu()\n"
     ]
    },
    {
     "name": "stdout",
     "output_type": "stream",
     "text": [
      "tensor([[True, True, True,  ..., True, True, True],\n",
      "        [True, True, True,  ..., True, True, True]])\n"
     ]
    },
    {
     "name": "stdin",
     "output_type": "stream",
     "text": [
      "ipdb>  (emb_l_time_embeds.cpu()==time_embeds.cpu()).all()\n"
     ]
    },
    {
     "name": "stdout",
     "output_type": "stream",
     "text": [
      "tensor(True)\n"
     ]
    },
    {
     "name": "stdin",
     "output_type": "stream",
     "text": [
      "ipdb>  timestep = self.base_model.add_time_proj\n",
      "ipdb>  timestep.num_channels, timestep.flip_sin_to_cos,  timestep.downscale_freq_shift \n"
     ]
    },
    {
     "name": "stdout",
     "output_type": "stream",
     "text": [
      "(256, True, 0)\n"
     ]
    },
    {
     "name": "stdin",
     "output_type": "stream",
     "text": [
      "ipdb>  c\n"
     ]
    }
   ],
   "source": [
    "%debug"
   ]
  },
  {
   "cell_type": "code",
   "execution_count": 16,
   "id": "215b9076-1768-4fb7-802a-569406b2eee4",
   "metadata": {},
   "outputs": [
    {
     "data": {
      "text/plain": [
       "(256, True, 0)"
      ]
     },
     "execution_count": 16,
     "metadata": {},
     "output_type": "execute_result"
    }
   ],
   "source": [
    "my_timestep = cnxs.base_model.add_time_proj\n",
    "my_timestep.num_channels, my_timestep.flip_sin_to_cos, my_timestep.downscale_freq_shift "
   ]
  },
  {
   "cell_type": "code",
   "execution_count": null,
   "id": "2ebb06f2-c25d-49dc-91fa-03cea81dcf5e",
   "metadata": {},
   "outputs": [],
   "source": []
  },
  {
   "cell_type": "code",
   "execution_count": null,
   "id": "26db20b8-c91e-42a2-bc2e-d4b58675650f",
   "metadata": {},
   "outputs": [],
   "source": []
  },
  {
   "cell_type": "markdown",
   "id": "4e912ef5-2c39-4f53-80e2-ce89714d8cae",
   "metadata": {},
   "source": [
    "___"
   ]
  },
  {
   "cell_type": "code",
   "execution_count": null,
   "id": "cf7c8835-3775-462e-98ac-6d5f3b7a7583",
   "metadata": {},
   "outputs": [],
   "source": []
  },
  {
   "cell_type": "code",
   "execution_count": null,
   "id": "0a80fb4b-5360-4db2-95b8-3da61942cf7e",
   "metadata": {},
   "outputs": [],
   "source": []
  },
  {
   "cell_type": "markdown",
   "id": "52979bad-8f6e-49d6-a8d4-05afe9088638",
   "metadata": {},
   "source": [
    "## Look at time info in 1st resnet"
   ]
  },
  {
   "cell_type": "code",
   "execution_count": null,
   "id": "3aa7f045-d389-4e2d-883e-07cd98960276",
   "metadata": {},
   "outputs": [],
   "source": [
    "local_time_linear_in_first_resnet = cnxs.base_model.down_blocks[0].resnets[0].time_emb_proj.cpu()"
   ]
  },
  {
   "cell_type": "code",
   "execution_count": null,
   "id": "d1397fb2-1da7-4568-84c6-e0caccac65f6",
   "metadata": {},
   "outputs": [],
   "source": [
    "cloud_time_linear_in_first_resnet = nn.Linear(\n",
    "    local_time_linear_in_first_resnet.in_features,\n",
    "    local_time_linear_in_first_resnet.out_features\n",
    ")\n",
    "cloud_time_linear_in_first_resnet.load_state_dict(torch.load('time_linear_in_first_resnet.pth',map_location=torch.device('cpu')))"
   ]
  },
  {
   "cell_type": "code",
   "execution_count": null,
   "id": "596d5be6-1404-4295-a5c0-6cd32eafaa60",
   "metadata": {},
   "outputs": [],
   "source": [
    "local_time_linear_in_first_resnet.parameters()==cloud_time_linear_in_first_resnet.parameters()"
   ]
  },
  {
   "cell_type": "code",
   "execution_count": null,
   "id": "d6dff41f-0ffa-4e0c-825f-a9d90b968c8a",
   "metadata": {},
   "outputs": [],
   "source": [
    "c_w, c_b = cloud_time_linear_in_first_resnet.parameters()\n",
    "l_w, l_b = local_time_linear_in_first_resnet.parameters()\n",
    "\n",
    "allclose(c_w,l_w), allclose(c_b,l_b)"
   ]
  },
  {
   "cell_type": "code",
   "execution_count": null,
   "id": "fe00c137-2991-4229-b962-b7f4fb45bcff",
   "metadata": {},
   "outputs": [],
   "source": [
    "c_temb, l_temb = model_outp_cloud[1].t,model_outp_local[1].t\n",
    "c_temb.shape, l_temb.shape"
   ]
  },
  {
   "cell_type": "code",
   "execution_count": null,
   "id": "ab203438-b42a-4695-975a-5b4f958b3126",
   "metadata": {},
   "outputs": [],
   "source": [
    "mae = torch.nn.functional.l1_loss\n",
    "silu = nn.SiLU()"
   ]
  },
  {
   "cell_type": "code",
   "execution_count": null,
   "id": "b35eedb3-3740-4e43-bde5-c6a2fdbfcbe6",
   "metadata": {},
   "outputs": [],
   "source": [
    "mae(c_temb,l_temb)"
   ]
  },
  {
   "cell_type": "code",
   "execution_count": null,
   "id": "2115e59b-e014-45ab-8d7e-f734907f9ab2",
   "metadata": {},
   "outputs": [],
   "source": [
    "mae(silu(c_temb), silu(l_temb))"
   ]
  },
  {
   "cell_type": "code",
   "execution_count": null,
   "id": "fa6973cf-d45d-40c9-9808-1c8c11726cd3",
   "metadata": {},
   "outputs": [],
   "source": [
    "c_temb_projected = cloud_time_linear_in_first_resnet(silu(c_temb))\n",
    "l_temb_projected = local_time_linear_in_first_resnet(silu(l_temb))"
   ]
  },
  {
   "cell_type": "code",
   "execution_count": null,
   "id": "de4d2050-8653-4e95-a00d-c2ef294f88ff",
   "metadata": {},
   "outputs": [],
   "source": [
    "print_shapes(c_temb_projected, l_temb_projected)"
   ]
  },
  {
   "cell_type": "code",
   "execution_count": null,
   "id": "e2bfcdfb-1403-47ee-9cc7-db1f3a82f7cb",
   "metadata": {},
   "outputs": [],
   "source": [
    "mae(c_temb_projected, l_temb_projected)"
   ]
  },
  {
   "cell_type": "code",
   "execution_count": null,
   "id": "da507989-0d1b-4b27-b952-4c772f36e70c",
   "metadata": {},
   "outputs": [],
   "source": [
    "c_temb_projected_saved = resnet_outp_cloud[4].t\n",
    "l_temb_projected_saved = resnet_outp_local[7].t"
   ]
  },
  {
   "cell_type": "code",
   "execution_count": null,
   "id": "bdc904a7-fc89-4afa-9aff-a16080eaa2b4",
   "metadata": {},
   "outputs": [],
   "source": [
    "print_shapes(c_temb_projected_saved, l_temb_projected_saved)"
   ]
  },
  {
   "cell_type": "code",
   "execution_count": null,
   "id": "c2b10dab-6180-457d-8322-68df37cca6a6",
   "metadata": {},
   "outputs": [],
   "source": [
    "mae(c_temb_projected_saved, l_temb_projected_saved)"
   ]
  },
  {
   "cell_type": "code",
   "execution_count": null,
   "id": "1396e6fe-6e2c-40b8-91f4-b99d86afd7e9",
   "metadata": {},
   "outputs": [],
   "source": [
    "mae(c_temb_projected_saved[:,:,None,None], l_temb_projected_saved)"
   ]
  },
  {
   "cell_type": "code",
   "execution_count": null,
   "id": "36071075-9564-4359-ba73-e65c304c45b6",
   "metadata": {},
   "outputs": [],
   "source": [
    "print_shapes(c_temb_projected, l_temb_projected)\n",
    "print_shapes(c_temb_projected_saved, l_temb_projected_saved)"
   ]
  },
  {
   "cell_type": "code",
   "execution_count": null,
   "id": "1f9652c5-1cdf-47d5-ba7b-481007839d94",
   "metadata": {},
   "outputs": [],
   "source": [
    "c_h_before_time_add_saved = resnet_outp_cloud[3].t\n",
    "l_h_before_time_add_saved = resnet_outp_local[5].t\n",
    "\n",
    "print_shapes(c_h_before_time_add_saved, l_h_before_time_add_saved)"
   ]
  },
  {
   "cell_type": "code",
   "execution_count": null,
   "id": "c14579c1-3b3c-46a8-974c-b46843a40d06",
   "metadata": {},
   "outputs": [],
   "source": []
  }
 ],
 "metadata": {
  "kernelspec": {
   "display_name": "Python 3 (ipykernel)",
   "language": "python",
   "name": "python3"
  },
  "language_info": {
   "codemirror_mode": {
    "name": "ipython",
    "version": 3
   },
   "file_extension": ".py",
   "mimetype": "text/x-python",
   "name": "python",
   "nbconvert_exporter": "python",
   "pygments_lexer": "ipython3",
   "version": "3.11.5"
  }
 },
 "nbformat": 4,
 "nbformat_minor": 5
}
