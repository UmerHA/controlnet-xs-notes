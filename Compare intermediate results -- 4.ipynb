{
 "cells": [
  {
   "cell_type": "markdown",
   "id": "30794abe-5ec0-4ecd-90c5-5ef222fc2e48",
   "metadata": {},
   "source": [
    "In `Comapre intermediate results -- 2` and `Comapre intermediate results -- 3` I established that the time embeddings on local / cloud is equal.\n",
    "\n",
    "But why are they shown as different in my overview?\n",
    "\n",
    "**Answer:** The time embedding (ie pre-projection) is equal up to `1e-4`. My overview shows the time projection, has errors of ~ `1e-1`. The projection operation has \"matrix norm\" ~1200, so it is expected that the error increases ~3 orders of magnitude.\n",
    "\n",
    "So this is a pureliy numerical issue."
   ]
  },
  {
   "cell_type": "code",
   "execution_count": 1,
   "id": "2fa846a7-09c0-472e-b00b-53e1946eb913",
   "metadata": {},
   "outputs": [],
   "source": [
    "import torch\n",
    "from torch.testing import assert_close\n",
    "from torch import allclose, nn, tensor\n",
    "torch.set_printoptions(linewidth=200)"
   ]
  },
  {
   "cell_type": "code",
   "execution_count": 2,
   "id": "18ae4f5a-d7eb-4471-be6f-cae1f309ed92",
   "metadata": {},
   "outputs": [],
   "source": [
    "device = 'cuda' if torch.cuda.is_available() else 'mps'\n",
    "device_dtype = torch.float16 if device == 'cuda' else torch.float32"
   ]
  },
  {
   "cell_type": "markdown",
   "id": "c739024d-d8ee-4aee-882c-9c5388ff6057",
   "metadata": {},
   "source": [
    "## Load the model"
   ]
  },
  {
   "cell_type": "code",
   "execution_count": 3,
   "id": "c565cf82-1eaa-4e68-8d35-a6459ee60097",
   "metadata": {
    "tags": []
   },
   "outputs": [],
   "source": [
    "from diffusers import StableDiffusionXLPipeline\n",
    "from diffusers import EulerDiscreteScheduler\n",
    "from diffusers.models.controlnetxs import ControlNetXSModel\n",
    "from diffusers.pipelines.controlnet_xs.pipeline_controlnet_xs_sd_xl import StableDiffusionXLControlNetXSPipeline"
   ]
  },
  {
   "cell_type": "code",
   "execution_count": 4,
   "id": "e0b304d6-cb41-49f5-849d-3e955da3e5e6",
   "metadata": {
    "tags": []
   },
   "outputs": [
    {
     "name": "stdout",
     "output_type": "stream",
     "text": [
      "At the end of __init__, the sigmas are tensor([14.6146, 14.5263, 14.4386, 14.3515, 14.2651]) ...\n",
      "At the end of __init__, the sigmas are tensor([14.6146, 14.5263, 14.4386, 14.3515, 14.2651]) ...\n"
     ]
    }
   ],
   "source": [
    "sdxl_pipe = StableDiffusionXLPipeline.from_single_file('weights/sdxl/sd_xl_base_1.0_0.9vae.safetensors').to(device)\n",
    "cnxs = ControlNetXSModel.from_pretrained('weights/cnxs').to(device)"
   ]
  },
  {
   "cell_type": "code",
   "execution_count": 5,
   "id": "1af1ff7f-cb94-448b-9988-6a309b56cd9e",
   "metadata": {},
   "outputs": [],
   "source": [
    "cnxs.base_model = sdxl_pipe.unet"
   ]
  },
  {
   "cell_type": "markdown",
   "id": "0b7758a1-6260-4d2c-a874-b63271eb9b61",
   "metadata": {},
   "source": [
    "The example script of Heidelberg manually sets scale_list to 0.95"
   ]
  },
  {
   "cell_type": "code",
   "execution_count": 6,
   "id": "1b7f0107-b0ff-4989-aabf-533638fb7eb8",
   "metadata": {},
   "outputs": [],
   "source": [
    "cnxs.scale_list = cnxs.scale_list * 0. + 0.95\n",
    "assert cnxs.scale_list[0] == .95"
   ]
  },
  {
   "cell_type": "markdown",
   "id": "e9b95d9c-ac7a-42d3-82cf-4eef25a591ae",
   "metadata": {},
   "source": [
    "Heidelberg uses `timestep_spacing = 'linspace'` in their scheduler, so let's do that as well"
   ]
  },
  {
   "cell_type": "code",
   "execution_count": 7,
   "id": "ca82d739-fb30-429a-a902-3e711428ffa5",
   "metadata": {},
   "outputs": [
    {
     "name": "stdout",
     "output_type": "stream",
     "text": [
      "At the end of __init__, the sigmas are tensor([14.6146, 14.5263, 14.4386, 14.3515, 14.2651]) ...\n",
      "timestep_spacing = \"leading\" and timesteps=[999.      978.61224 958.2245  937.83673 917.449  ] ...\n",
      "sigmas before interpolation: [0.02916753 0.04131448 0.05068044 0.05861427 0.06563709] ...\n",
      "sigmas after (linear) interpolation: [14.61464691 12.93677721 11.49164976 10.24291444  9.16035419] ...\n",
      "At end of `set_timesteps`:\n",
      "sigmas =  tensor([14.6146, 12.9368, 11.4916, 10.2429,  9.1604]) ...\n",
      "timesteps = tensor([999.0000, 978.6122, 958.2245, 937.8367, 917.4490]) ...\n",
      "At the end of __init__, the sigmas are tensor([14.6146, 14.5263, 14.4386, 14.3515, 14.2651]) ...\n"
     ]
    }
   ],
   "source": [
    "scheduler_cgf = dict(sdxl_pipe.scheduler.config)\n",
    "scheduler_cgf['timestep_spacing'] = 'linspace'\n",
    "sdxl_pipe.scheduler = EulerDiscreteScheduler.from_config(scheduler_cgf)\n",
    "\n",
    "# test it worked\n",
    "sdxl_pipe.scheduler.set_timesteps(50)\n",
    "assert sdxl_pipe.scheduler.timesteps[0]==999\n",
    "\n",
    "# reset\n",
    "sdxl_pipe.scheduler = EulerDiscreteScheduler.from_config(scheduler_cgf)"
   ]
  },
  {
   "cell_type": "code",
   "execution_count": 8,
   "id": "a120b84b-1126-4d6c-b08e-8114b5761c25",
   "metadata": {},
   "outputs": [],
   "source": [
    "cnxs_pipe = StableDiffusionXLControlNetXSPipeline(\n",
    "    vae=sdxl_pipe.vae,\n",
    "    text_encoder=sdxl_pipe.text_encoder,\n",
    "    text_encoder_2=sdxl_pipe.text_encoder_2,\n",
    "    tokenizer=sdxl_pipe.tokenizer,\n",
    "    tokenizer_2=sdxl_pipe.tokenizer_2,\n",
    "    unet=sdxl_pipe.unet,\n",
    "    controlnet=cnxs,\n",
    "    scheduler=sdxl_pipe.scheduler,\n",
    ")"
   ]
  },
  {
   "cell_type": "markdown",
   "id": "994cd8cf-1682-47e5-a7ff-4ccb3095ad61",
   "metadata": {},
   "source": [
    "___"
   ]
  },
  {
   "cell_type": "markdown",
   "id": "9274a964-17f0-4e16-912e-69a911c82a17",
   "metadata": {},
   "source": [
    "## Re-confirm the time embs before projection are identical"
   ]
  },
  {
   "cell_type": "code",
   "execution_count": 9,
   "id": "e0fe9583-ac96-4946-b664-f67f3f91342a",
   "metadata": {},
   "outputs": [],
   "source": [
    "from util import print_shapes\n",
    "from util_plot import visually_compare_1d\n",
    "\n",
    "def equal(x,y,atol=1e-4): return allclose(x.cpu(),y.cpu(),atol=atol)"
   ]
  },
  {
   "cell_type": "markdown",
   "id": "3ac28310-000a-4726-a9ff-d7905210fc4b",
   "metadata": {},
   "source": [
    "Load cloud additional time embeds"
   ]
  },
  {
   "cell_type": "code",
   "execution_count": 10,
   "id": "4a066074-8667-429f-8e84-9895981dbd3d",
   "metadata": {},
   "outputs": [],
   "source": [
    "infos = ('txt','orig_sz','crop','tgt_sz')\n",
    "splits = (1280, 512, 512, 512)"
   ]
  },
  {
   "cell_type": "code",
   "execution_count": 11,
   "id": "c6b913c4-0fc8-462c-a7a1-e7653a188fa3",
   "metadata": {},
   "outputs": [
    {
     "name": "stdout",
     "output_type": "stream",
     "text": [
      "[1280], [512], [512], [512]\n",
      "[1280], [512], [512], [512]\n"
     ]
    }
   ],
   "source": [
    "c_vector = torch.load('intermediate_output/temb/cloud/c_vector', map_location='cpu')\n",
    "uc_vector = torch.load('intermediate_output/temb/cloud/uc_vector', map_location='cpu')\n",
    "\n",
    "emb_cloud_uc = dict(zip(infos, torch.split(uc_vector[0], splits, dim=0)))\n",
    "emb_cloud_c = dict(zip(infos, torch.split(c_vector[0], splits, dim=0)))\n",
    "\n",
    "print_shapes(*emb_cloud_uc.values())\n",
    "print_shapes(*emb_cloud_c.values())"
   ]
  },
  {
   "cell_type": "markdown",
   "id": "aabd7384-591a-4da8-84a0-79283165e8ff",
   "metadata": {},
   "source": [
    "Load local additional time embeds"
   ]
  },
  {
   "cell_type": "code",
   "execution_count": 12,
   "id": "8430ff7d-5249-44f4-8563-1a85c7775719",
   "metadata": {},
   "outputs": [
    {
     "name": "stdout",
     "output_type": "stream",
     "text": [
      "[1280], [512], [512], [512]\n",
      "[1280], [512], [512], [512]\n"
     ]
    }
   ],
   "source": [
    "emb_l_add_embeds = torch.load('intermediate_output/temb/local/add_embeds', map_location='cpu')\n",
    "\n",
    "emb_local_uc = dict(zip(infos, torch.split(emb_l_add_embeds[0], splits, dim=0)))\n",
    "emb_local_c = dict(zip(infos, torch.split(emb_l_add_embeds[1], splits, dim=0)))\n",
    "\n",
    "print_shapes(*emb_local_uc.values())\n",
    "print_shapes(*emb_local_c.values())"
   ]
  },
  {
   "cell_type": "code",
   "execution_count": 13,
   "id": "36cfd961-0c06-4a46-8574-674ad1beb2a5",
   "metadata": {},
   "outputs": [],
   "source": [
    "for i in infos:\n",
    "    assert equal(emb_cloud_uc[i], emb_local_uc[i], atol=1e-2)\n",
    "    assert equal(emb_cloud_c[i],  emb_local_c[i], atol=1e-2)"
   ]
  },
  {
   "cell_type": "code",
   "execution_count": 14,
   "id": "22862342-2435-46cd-8af3-d9a2432061ec",
   "metadata": {},
   "outputs": [
    {
     "data": {
      "image/png": "[encoded data removed]",
      "text/plain": [
       "<Figure size 1000x400 with 1 Axes>"
      ]
     },
     "metadata": {},
     "output_type": "display_data"
    }
   ],
   "source": [
    "visually_compare_1d(\n",
    "    (emb_cloud_uc['txt'], emb_local_uc['txt'],emb_cloud_c['txt'], emb_local_c['txt']),\n",
    "    ('cloud uncond', 'local uncond','cloud cond', 'local cond')\n",
    ")"
   ]
  },
  {
   "cell_type": "markdown",
   "id": "8716be49-ec49-405e-ab61-a7eb54abdc7b",
   "metadata": {},
   "source": [
    "## Load intermediate outputs of full model"
   ]
  },
  {
   "cell_type": "code",
   "execution_count": 15,
   "id": "2fe3a1a3-3afc-4856-b927-2e26cd590ff6",
   "metadata": {},
   "outputs": [],
   "source": [
    "from util_inspect import load_intermediate_outputs, print_metadata, compare_intermediate_results"
   ]
  },
  {
   "cell_type": "code",
   "execution_count": 16,
   "id": "0e589b7c-c016-43e1-be4a-eb7d4cea0932",
   "metadata": {},
   "outputs": [
    {
     "data": {
      "text/plain": [
       "(72, 72)"
      ]
     },
     "execution_count": 16,
     "metadata": {},
     "output_type": "execute_result"
    }
   ],
   "source": [
    "model_outp_cloud = load_intermediate_outputs('intermediate_output/cloud_debug_log.pkl')\n",
    "model_outp_local = load_intermediate_outputs('intermediate_output/local_debug_log.pkl')\n",
    "len(model_outp_cloud),len(model_outp_local)"
   ]
  },
  {
   "cell_type": "code",
   "execution_count": 17,
   "id": "953b7667-8f15-4b1a-a4a2-31876210d26e",
   "metadata": {},
   "outputs": [
    {
     "data": {
      "text/plain": [
       "([2, 1280], [2, 1280])"
      ]
     },
     "execution_count": 17,
     "metadata": {},
     "output_type": "execute_result"
    }
   ],
   "source": [
    "model_outp_cloud[1].shape, model_outp_local[1].shape"
   ]
  },
  {
   "cell_type": "code",
   "execution_count": 18,
   "id": "37c6308f-9801-44d6-8aed-7913850f1cd5",
   "metadata": {},
   "outputs": [
    {
     "name": "stdout",
     "output_type": "stream",
     "text": [
      "[1280], [1280], [1280], [1280]\n"
     ]
    }
   ],
   "source": [
    "temb_cloud_uc, temb_cloud_c = model_outp_cloud[1].t\n",
    "temb_local_uc, temb_local_c = model_outp_local[1].t\n",
    "print_shapes(temb_cloud_uc, temb_cloud_c, temb_local_uc, temb_local_c)"
   ]
  },
  {
   "cell_type": "code",
   "execution_count": 19,
   "id": "91dbd4ef-d5e2-493a-9141-12ffa104d3c9",
   "metadata": {},
   "outputs": [
    {
     "data": {
      "image/png": "[encoded data removed]",
      "text/plain": [
       "<Figure size 1000x400 with 1 Axes>"
      ]
     },
     "metadata": {},
     "output_type": "display_data"
    }
   ],
   "source": [
    "visually_compare_1d(\n",
    "    (\n",
    "        temb_cloud_uc,temb_local_uc,\n",
    "        temb_cloud_c,temb_local_c,\n",
    "    ),\n",
    "    (\n",
    "        'saved cloud uncond', 'saved local uncond',\n",
    "        'saved cloud cond', 'saved local cond',\n",
    "    )\n",
    ")"
   ]
  },
  {
   "cell_type": "markdown",
   "id": "2d17970c-dcf1-4a30-97d9-147dfdfd5e4f",
   "metadata": {},
   "source": [
    "**This can't be.**\n",
    "\n",
    "I expected:\n",
    "- Condtional and unconditional embeddings to be different, as their text part is different\n",
    "- Local and cloud to be different, as that's what my overview shows"
   ]
  },
  {
   "cell_type": "code",
   "execution_count": 20,
   "id": "ed738b59-4d24-435d-9ef9-4247cee0760c",
   "metadata": {},
   "outputs": [
    {
     "data": {
      "text/plain": [
       "(False, False)"
      ]
     },
     "execution_count": 20,
     "metadata": {},
     "output_type": "execute_result"
    }
   ],
   "source": [
    "equal(temb_local_c, temb_local_uc, atol=1e-2), equal(temb_local_c, temb_local_uc, atol=1e-1)"
   ]
  },
  {
   "cell_type": "code",
   "execution_count": 21,
   "id": "69d9aec7-cd65-4704-b423-22afef0e58cf",
   "metadata": {},
   "outputs": [
    {
     "data": {
      "image/png": "[encoded data removed]",
      "text/plain": [
       "<Figure size 1000x200 with 1 Axes>"
      ]
     },
     "metadata": {},
     "output_type": "display_data"
    }
   ],
   "source": [
    "visually_compare_1d((temb_local_uc, temb_local_c), ('local uncond', 'local cond'))"
   ]
  },
  {
   "cell_type": "markdown",
   "id": "998a0f30-7215-4d0b-83d1-483e59d133dc",
   "metadata": {},
   "source": [
    "They **are** different, but visually appear equal"
   ]
  },
  {
   "cell_type": "code",
   "execution_count": 22,
   "id": "2a02cb63-19e4-44d3-9289-e2055ef6713c",
   "metadata": {},
   "outputs": [
    {
     "data": {
      "text/plain": [
       "(tensor([ 1.4959, -3.6011,  1.8189, -1.6592, -1.5132, -2.1749, -1.6586, -1.7922,  0.0885, -2.2889]),\n",
       " tensor([ 1.3859, -3.5991,  1.8941, -1.6574, -1.5342, -2.2058, -1.7063, -1.7391,  0.0161, -2.2524]))"
      ]
     },
     "execution_count": 22,
     "metadata": {},
     "output_type": "execute_result"
    }
   ],
   "source": [
    "temb_local_uc[:10], temb_local_c[:10]"
   ]
  },
  {
   "cell_type": "markdown",
   "id": "1b87274c-84b1-4235-a788-87b6a7453a87",
   "metadata": {},
   "source": [
    "I would have expected `temb_local_uc` and `temb_local_c` to be very different"
   ]
  },
  {
   "cell_type": "markdown",
   "id": "43172964-1f84-4802-bf9b-32b978393554",
   "metadata": {},
   "source": [
    "Same for cloud versions:"
   ]
  },
  {
   "cell_type": "code",
   "execution_count": 23,
   "id": "34bb836f-8316-4e2e-9d1f-5fb35a0536ea",
   "metadata": {},
   "outputs": [
    {
     "data": {
      "text/plain": [
       "(tensor([ 1.5199, -3.6599,  1.8496, -1.6871, -1.5362, -2.2114, -1.6819, -1.8184,  0.0893, -2.3246]),\n",
       " tensor([ 1.4099, -3.6581,  1.9248, -1.6852, -1.5572, -2.2422, -1.7296, -1.7654,  0.0171, -2.2881]))"
      ]
     },
     "execution_count": 23,
     "metadata": {},
     "output_type": "execute_result"
    }
   ],
   "source": [
    "temb_cloud_uc[:10], temb_cloud_c[:10]"
   ]
  },
  {
   "cell_type": "markdown",
   "id": "2020106b-583f-4d0a-89f5-48bf2fa74eeb",
   "metadata": {},
   "source": [
    "**Let's check I fully understand how temb is created by reproducing it**"
   ]
  },
  {
   "cell_type": "markdown",
   "id": "f492f210-c60d-47c6-b18d-5e5824353326",
   "metadata": {},
   "source": [
    "So let's reproduce `temb_local_uc` and `temb_local_c`.\n",
    "\n",
    "Remember: `temb = temb + self.base_model.add_embedding(add_embeds)`, where `temb` is the pure time embedding"
   ]
  },
  {
   "cell_type": "code",
   "execution_count": 24,
   "id": "7e388f1a-92d8-4ec7-82ee-377bd2297e2e",
   "metadata": {},
   "outputs": [
    {
     "data": {
      "text/plain": [
       "tensor([999.])"
      ]
     },
     "execution_count": 24,
     "metadata": {},
     "output_type": "execute_result"
    }
   ],
   "source": [
    "t = tensor([999.])\n",
    "t"
   ]
  },
  {
   "cell_type": "code",
   "execution_count": 25,
   "id": "5f90a17f-15fd-4aa5-9841-7819c32e354f",
   "metadata": {},
   "outputs": [],
   "source": [
    "from diffusers.models.embeddings import get_timestep_embedding"
   ]
  },
  {
   "cell_type": "code",
   "execution_count": 26,
   "id": "114bd00f-584f-456a-8430-c4dcd679ef8b",
   "metadata": {},
   "outputs": [
    {
     "data": {
      "text/plain": [
       "torch.Size([1, 320])"
      ]
     },
     "execution_count": 26,
     "metadata": {},
     "output_type": "execute_result"
    }
   ],
   "source": [
    "temb_pure_time_1 = get_timestep_embedding(t, 320, flip_sin_to_cos=True, downscale_freq_shift=0)\n",
    "temb_pure_time_1.shape"
   ]
  },
  {
   "cell_type": "code",
   "execution_count": 27,
   "id": "b288bd59-b3ad-4ab3-a1a3-b25167f32659",
   "metadata": {},
   "outputs": [
    {
     "data": {
      "text/plain": [
       "tensor([ 0.9996,  0.8027, -0.2781,  0.1768, -0.2780,  0.1252, -0.9289, -0.0870, -0.4233, -0.2622])"
      ]
     },
     "execution_count": 27,
     "metadata": {},
     "output_type": "execute_result"
    }
   ],
   "source": [
    "temb_pure_time_1[0,:10]"
   ]
  },
  {
   "cell_type": "markdown",
   "id": "f7b9f822-cc41-427d-b05a-f5229f80f629",
   "metadata": {},
   "source": [
    "Because `learn_embedding=True`, we use a combindation of control's and base's time projection (weighting determined by `cnxs.config.control_scale`)"
   ]
  },
  {
   "cell_type": "code",
   "execution_count": 28,
   "id": "2fbeb5b5-c28d-420f-921a-f864c56200d9",
   "metadata": {},
   "outputs": [
    {
     "data": {
      "text/plain": [
       "0.95"
      ]
     },
     "execution_count": 28,
     "metadata": {},
     "output_type": "execute_result"
    }
   ],
   "source": [
    "cnxs.config.control_scale"
   ]
  },
  {
   "cell_type": "code",
   "execution_count": 29,
   "id": "f72dd28c-01dd-41a9-91d3-99345c6d497a",
   "metadata": {},
   "outputs": [
    {
     "name": "stdout",
     "output_type": "stream",
     "text": [
      "TimestepEmbedding(\n",
      "  (linear_1): Linear(in_features=320, out_features=1280, bias=True)\n",
      "  (act): SiLU()\n",
      "  (linear_2): LoRACompatibleLinear(in_features=1280, out_features=1280, bias=True)\n",
      ")\n",
      "TimestepEmbedding(\n",
      "  (linear_1): LoRACompatibleLinear(in_features=320, out_features=1280, bias=True)\n",
      "  (act): SiLU()\n",
      "  (linear_2): LoRACompatibleLinear(in_features=1280, out_features=1280, bias=True)\n",
      ")\n"
     ]
    }
   ],
   "source": [
    "time_projection_ctrl = cnxs.control_model.time_embedding\n",
    "time_projection_base = cnxs.base_model.time_embedding\n",
    "\n",
    "print(time_projection_ctrl)\n",
    "print(time_projection_base)"
   ]
  },
  {
   "cell_type": "markdown",
   "id": "5a0276ae-5a5c-4322-aca6-cbdb0f7ff722",
   "metadata": {},
   "source": [
    "**Q:** The `in_features`, ie the time emb has shape 320, but on cloud it is 256!\n",
    "\n",
    "**A:** No, the `in_features` are the dimension of the timestep embedding. The timestep embedding for (i) time and (ii) additional info (orig size, crop, target size) are different. They're `320` and `256` respectively.\n",
    "\n",
    "Here's how the timestep embedding for time is computed on cloud: `t_emb = timestep_embedding(timesteps, self.model_channels, repeat_only=False)` with `self.model_channels=320`"
   ]
  },
  {
   "cell_type": "code",
   "execution_count": 30,
   "id": "6528675b-6149-434f-b105-c7dc63c6f3d5",
   "metadata": {},
   "outputs": [],
   "source": [
    "def apply_time_projection(temb, alpha): return time_projection_ctrl(temb) * alpha**0.3 + time_projection_base(temb) * (1-alpha**0.3)"
   ]
  },
  {
   "cell_type": "code",
   "execution_count": 31,
   "id": "fdc834fd-af69-4f86-b1f1-936713717b4e",
   "metadata": {},
   "outputs": [
    {
     "data": {
      "text/plain": [
       "torch.Size([1, 1280])"
      ]
     },
     "execution_count": 31,
     "metadata": {},
     "output_type": "execute_result"
    }
   ],
   "source": [
    "temb_pure_time_2 = apply_time_projection(temb_pure_time_1.to(device), 0.95).cpu().detach()\n",
    "temb_pure_time_2.shape"
   ]
  },
  {
   "cell_type": "code",
   "execution_count": 32,
   "id": "44b36398-3489-434e-965d-747116d4ade0",
   "metadata": {},
   "outputs": [
    {
     "data": {
      "text/plain": [
       "tensor([[ 1.3571, -3.6848,  1.9868,  ..., -0.7487, -1.2921, -1.4140]])"
      ]
     },
     "execution_count": 32,
     "metadata": {},
     "output_type": "execute_result"
    }
   ],
   "source": [
    "temb_pure_time_2[:10]"
   ]
  },
  {
   "cell_type": "markdown",
   "id": "e29a2822-787b-4c25-8261-add0ad9bad3d",
   "metadata": {},
   "source": [
    "Now, let's project the additional time info"
   ]
  },
  {
   "cell_type": "code",
   "execution_count": 33,
   "id": "5d934480-578b-4af4-ae9c-03205600b90d",
   "metadata": {},
   "outputs": [
    {
     "data": {
      "text/plain": [
       "TimestepEmbedding(\n",
       "  (linear_1): LoRACompatibleLinear(in_features=2816, out_features=1280, bias=True)\n",
       "  (act): SiLU()\n",
       "  (linear_2): LoRACompatibleLinear(in_features=1280, out_features=1280, bias=True)\n",
       ")"
      ]
     },
     "execution_count": 33,
     "metadata": {},
     "output_type": "execute_result"
    }
   ],
   "source": [
    "add_time_projection = cnxs.base_model.add_embedding\n",
    "add_time_projection"
   ]
  },
  {
   "cell_type": "code",
   "execution_count": 34,
   "id": "1552a9d0-e782-496f-ac4f-53a5529a9dbe",
   "metadata": {},
   "outputs": [
    {
     "data": {
      "text/plain": [
       "torch.Size([2, 2816])"
      ]
     },
     "execution_count": 34,
     "metadata": {},
     "output_type": "execute_result"
    }
   ],
   "source": [
    "emb_l_add_embeds.shape"
   ]
  },
  {
   "cell_type": "code",
   "execution_count": 35,
   "id": "794f6ed7-32e5-4f33-969b-48fa66fb2c3b",
   "metadata": {},
   "outputs": [
    {
     "data": {
      "text/plain": [
       "torch.Size([2, 1280])"
      ]
     },
     "execution_count": 35,
     "metadata": {},
     "output_type": "execute_result"
    }
   ],
   "source": [
    "temb_only_additional = add_time_projection(emb_l_add_embeds.to(device)).cpu().detach()\n",
    "temb_only_additional.shape"
   ]
  },
  {
   "cell_type": "code",
   "execution_count": 36,
   "id": "fbf17eb1-09eb-48c8-90c0-b9f386bd0936",
   "metadata": {},
   "outputs": [
    {
     "data": {
      "text/plain": [
       "torch.Size([2, 1280])"
      ]
     },
     "execution_count": 36,
     "metadata": {},
     "output_type": "execute_result"
    }
   ],
   "source": [
    "temb_final = temb_pure_time_2 + temb_only_additional\n",
    "temb_final.shape"
   ]
  },
  {
   "cell_type": "code",
   "execution_count": 37,
   "id": "3650693c-fda7-4586-a816-9d28bb4d7768",
   "metadata": {},
   "outputs": [
    {
     "name": "stdout",
     "output_type": "stream",
     "text": [
      "[1280], [1280]\n"
     ]
    }
   ],
   "source": [
    "temb_local_uc_reproduced, temb_local_c_reproduced = temb_final\n",
    "print_shapes(temb_local_uc_reproduced, temb_local_c_reproduced)"
   ]
  },
  {
   "cell_type": "code",
   "execution_count": 38,
   "id": "bc7dfe65-1f5c-4629-b1c2-2303091c2911",
   "metadata": {},
   "outputs": [
    {
     "data": {
      "text/plain": [
       "(True, True)"
      ]
     },
     "execution_count": 38,
     "metadata": {},
     "output_type": "execute_result"
    }
   ],
   "source": [
    "equal(temb_local_uc_reproduced,temb_local_uc,atol=1e-5), equal(temb_local_c_reproduced,temb_local_c,atol=1e-4)"
   ]
  },
  {
   "cell_type": "markdown",
   "id": "585d565b-f78c-4547-8cd6-31ed4aae0c6c",
   "metadata": {},
   "source": [
    "Okay, I can reproduce `temb_local_uc`/`temb_local_c` (ie the time emb used in the denoiser) from the timestep (`999`) and the `emb_l_add_embeds` (ie the concat of `txt` and time embs of `orig sz`/`crop`/`tgt sz`)."
   ]
  },
  {
   "cell_type": "markdown",
   "id": "7bde256f-046a-4a4e-b59e-ed276df3ab7b",
   "metadata": {},
   "source": [
    "___"
   ]
  },
  {
   "cell_type": "markdown",
   "id": "f8200c47-7b4b-4c89-9c45-4c5d6bfbeff9",
   "metadata": {},
   "source": [
    "**Q: Let's continue investigating why temb_local_uc, temb_local_c are so similar**"
   ]
  },
  {
   "cell_type": "code",
   "execution_count": 39,
   "id": "d8a3763b-10cb-493c-8cd6-7efd306f7e2a",
   "metadata": {},
   "outputs": [
    {
     "data": {
      "image/png": "[encoded data removed]",
      "text/plain": [
       "<Figure size 1000x200 with 1 Axes>"
      ]
     },
     "metadata": {},
     "output_type": "display_data"
    }
   ],
   "source": [
    "visually_compare_1d((temb_local_uc, temb_local_c), ('local uncond', 'local cond'))"
   ]
  },
  {
   "cell_type": "code",
   "execution_count": 40,
   "id": "5b8464a3-f31f-4393-9e83-f2115a53948d",
   "metadata": {},
   "outputs": [
    {
     "data": {
      "text/plain": [
       "False"
      ]
     },
     "execution_count": 40,
     "metadata": {},
     "output_type": "execute_result"
    }
   ],
   "source": [
    "equal(temb_local_c, temb_local_uc, atol=1e-1)"
   ]
  },
  {
   "cell_type": "markdown",
   "id": "59dd7947-36e8-4c7e-9f3b-6efe5f1cee34",
   "metadata": {},
   "source": [
    "**Hypothesis:** The time part (which is equal for cond/uncond) dominates\n",
    "\n",
    "Test: Is standard deviation of time part larger than for additional time (ie txt/orig sz/crop/tgt size) part?\n",
    "\n",
    "`temb_final = temb_pure_time_2 + temb_only_additional`"
   ]
  },
  {
   "cell_type": "code",
   "execution_count": 41,
   "id": "999d6a86-7c6a-4f11-a3fd-fe54f00699db",
   "metadata": {},
   "outputs": [
    {
     "data": {
      "text/plain": [
       "(tensor(0.1581), tensor(0.1540))"
      ]
     },
     "execution_count": 41,
     "metadata": {},
     "output_type": "execute_result"
    }
   ],
   "source": [
    "temb_only_additional[0].std(), temb_only_additional[1].std()"
   ]
  },
  {
   "cell_type": "code",
   "execution_count": 42,
   "id": "30b66985-024e-466d-b313-80a360e9b72d",
   "metadata": {},
   "outputs": [
    {
     "data": {
      "text/plain": [
       "tensor(1.9205)"
      ]
     },
     "execution_count": 42,
     "metadata": {},
     "output_type": "execute_result"
    }
   ],
   "source": [
    "temb_pure_time_2[0].std()"
   ]
  },
  {
   "cell_type": "markdown",
   "id": "2e49b1a2-6058-4c5b-9c4e-69cd2febd3db",
   "metadata": {},
   "source": [
    "**A:** The uncond/cond time embs are different, but the time part (which is identical) strongly dominates. That's why they seem visually equal."
   ]
  },
  {
   "cell_type": "markdown",
   "id": "230426ee-bcfe-4c0c-bcd4-9825c3d3d138",
   "metadata": {},
   "source": [
    "Just out of curiosity: What's the mean?"
   ]
  },
  {
   "cell_type": "code",
   "execution_count": 43,
   "id": "dc818358-f18b-4c17-8eb8-f9b8d9c334ce",
   "metadata": {},
   "outputs": [
    {
     "data": {
      "text/plain": [
       "(tensor(0.0216), tensor(0.0094), tensor(-0.7452))"
      ]
     },
     "execution_count": 43,
     "metadata": {},
     "output_type": "execute_result"
    }
   ],
   "source": [
    "temb_only_additional[0].mean(), temb_only_additional[1].mean(), temb_pure_time_2[0].mean()"
   ]
  },
  {
   "cell_type": "markdown",
   "id": "2cb8af84-e5f9-4023-99f6-1a2d4e7910a1",
   "metadata": {},
   "source": [
    "___"
   ]
  },
  {
   "cell_type": "markdown",
   "id": "35240f3c-164d-462c-89ce-933db33c4658",
   "metadata": {},
   "source": [
    "**Q:** Why are the time emds on local and cloud so different?"
   ]
  },
  {
   "cell_type": "code",
   "execution_count": 44,
   "id": "0152b1c4-3e8d-4e96-a9c0-5edb118b7d53",
   "metadata": {},
   "outputs": [
    {
     "name": "stdout",
     "output_type": "stream",
     "text": [
      "-  | cloud               | local               | equal name? | equal shape? | equal values? | mean abs Δ\n",
      "   |                     |                     |             |              |    prec=3     |     prec=5\n",
      "--------------------------------------------------------------------------------------------------------\n",
      "0  | prep   x            | prep   x            | \u001b[92m     y     \u001b[0m | \u001b[92m     y      \u001b[0m | \u001b[92m      y      \u001b[0m |    0.00000\n",
      "1  | prep   temb         | prep   temb         | \u001b[92m     y     \u001b[0m | \u001b[92m     y      \u001b[0m | \u001b[91m      n      \u001b[0m |    0.02456\n",
      "2  | prep   context      | prep   context      | \u001b[92m     y     \u001b[0m | \u001b[92m     y      \u001b[0m | \u001b[91m      n      \u001b[0m |    0.00053\n",
      "3  | prep   raw hint     | prep   raw hint     | \u001b[92m     y     \u001b[0m | \u001b[92m     y      \u001b[0m | \u001b[92m      y      \u001b[0m |    0.00000\n",
      "4  | prep   guided_hint  | prep   guided_hint  | \u001b[92m     y     \u001b[0m | \u001b[92m     y      \u001b[0m | \u001b[91m      n      \u001b[0m |    0.00009\n"
     ]
    }
   ],
   "source": [
    "compare_intermediate_results(model_outp_cloud, model_outp_local, n=5, prec=5, compare_prec=3)"
   ]
  },
  {
   "cell_type": "code",
   "execution_count": 45,
   "id": "e8b62554-21fc-4a10-a693-1bf79d26a4b6",
   "metadata": {},
   "outputs": [
    {
     "name": "stdout",
     "output_type": "stream",
     "text": [
      "[2, 1280], [2, 1280]\n"
     ]
    }
   ],
   "source": [
    "temb_c, temb_l = model_outp_cloud[1].t, model_outp_local[1].t\n",
    "print_shapes(temb_c, temb_l)"
   ]
  },
  {
   "cell_type": "code",
   "execution_count": 46,
   "id": "d9f62483-a293-4b95-89df-c34fa94bfbb3",
   "metadata": {},
   "outputs": [
    {
     "data": {
      "text/plain": [
       "(tensor([ 1.5199, -3.6599,  1.8496, -1.6871, -1.5362, -2.2114, -1.6819, -1.8184,  0.0893, -2.3246]),\n",
       " tensor([ 1.4959, -3.6011,  1.8189, -1.6592, -1.5132, -2.1749, -1.6586, -1.7922,  0.0885, -2.2889]))"
      ]
     },
     "execution_count": 46,
     "metadata": {},
     "output_type": "execute_result"
    }
   ],
   "source": [
    "temb_c[0,:10], temb_l[0,:10]"
   ]
  },
  {
   "cell_type": "markdown",
   "id": "3ae30d77-a51c-4147-8690-100e355ab21f",
   "metadata": {},
   "source": [
    "They seem almost equal (up to ~ `0.04`, which is `2*std(additionl time emb)`), so I hypothesize the difference comes from the additional time emb part"
   ]
  },
  {
   "cell_type": "markdown",
   "id": "afd8fcd8-986f-4443-826c-a974bdc37e2c",
   "metadata": {},
   "source": [
    "No, already the pure time projection is different."
   ]
  },
  {
   "cell_type": "markdown",
   "id": "da984938-4677-407f-a071-9881566d00df",
   "metadata": {},
   "source": [
    "Cloud temb:\n",
    "```\n",
    "A (pure time emb) : tensor([ 0.9996,  0.8027, -0.2781,  0.1768, -0.2780,  0.1252, -0.9289, -0.0870, -0.4233, -0.2622])\n",
    "B (pure time proj): tensor([ 1.3810, -3.7437,  2.0176, -1.7097, -1.5402, -2.2996, -1.7285, -1.7810, -0.1062, -2.3676])\n",
    "C (text emb)      : tensor([-0.5938, -0.3401, -0.4072,  0.5571, -1.0176,  0.1389,  0.2322, -1.2148, -0.7808, -0.1032])\n",
    "D (other emb)     : tensor([ 0.1191, -0.0330,  0.5759, -1.0000, -0.5341, -0.2881, -0.7052,  0.6554, -0.0907,  0.9736])\n",
    "E (add emb)       : tensor([-0.5938, -0.3401, -0.4072,  0.5571, -1.0176,  0.1389,  0.2322, -1.2148, -0.7808, -0.1032])\n",
    "F (add proj)      : tensor([ 0.1388,  0.0838, -0.1679,  0.0226,  0.0040,  0.0882,  0.0466, -0.0375,  0.1956,  0.0430])\n",
    "G (final time emb): tensor([ 1.5199, -3.6599,  1.8496, -1.6871, -1.5362, -2.2114, -1.6819, -1.8184,  0.0893, -2.3246])\n",
    "```\n",
    "Local temb:\n",
    "```\n",
    "A (pure time emb) : tensor([ 0.9996,  0.8027, -0.2781,  0.1767, -0.2780,  0.1253, -0.9289, -0.0870, -0.4232, -0.2622])\n",
    "B (pure time proj): tensor([ 1.3571, -3.6848,  1.9868, -1.6818, -1.5172, -2.2632, -1.7052, -1.7547, -0.1071, -2.3319])\n",
    "C (text emb)      : tensor([-0.5941, -0.3394, -0.4070,  0.5561, -1.0181,  0.1388,  0.2324, -1.2147, -0.7827, -0.1039])\n",
    "D (other emb)     : tensor([ 0.1191, -0.0331,  0.5759, -1.0000, -0.5342, -0.2881, -0.7051,  0.6554, -0.0908,  0.9736])\n",
    "E (add emb)       : tensor([-0.5941, -0.3394, -0.4070,  0.5561, -1.0181,  0.1388,  0.2324, -1.2147, -0.7827, -0.1039])\n",
    "F (add proj)      : tensor([ 0.1388,  0.0838, -0.1680,  0.0226,  0.0039,  0.0882,  0.0466, -0.0375,  0.1956,  0.0430])\n",
    "G (final time emb): tensor([ 1.4959, -3.6011,  1.8189, -1.6592, -1.5132, -2.1749, -1.6586, -1.7922,  0.0885, -2.2889])\n",
    "```"
   ]
  },
  {
   "cell_type": "markdown",
   "id": "54be29d8-eec5-423c-a7e5-86ed4cf2c42c",
   "metadata": {},
   "source": [
    "To determine if the discrepancy is only due to `pure time projection` or also due to other projections, let's pass cloud intermediate outputs through local projections."
   ]
  },
  {
   "cell_type": "code",
   "execution_count": 47,
   "id": "f8744df9-cc60-47dd-9382-2ef9dc4e4647",
   "metadata": {},
   "outputs": [],
   "source": [
    "# Clout Temb Intermediate outputs\n",
    "cti = {s:torch.load(f'intermediate_output/temb/cloud/temb_{s}',map_location='cpu') for s in 'ABCDEFG'}"
   ]
  },
  {
   "cell_type": "code",
   "execution_count": 48,
   "id": "ab33fb10-be30-468b-96e3-dfa0ac040483",
   "metadata": {},
   "outputs": [],
   "source": [
    "local_projections = {\n",
    "    'time_proj': lambda t: cnxs.control_model.time_embedding(t)*0.95**0.3 + cnxs.base_model.time_embedding(t)*(1-0.95**0.3),\n",
    "    'add_proj': cnxs.base_model.add_embedding\n",
    "}"
   ]
  },
  {
   "cell_type": "markdown",
   "id": "991bfa77-24e4-4522-8db3-49fe5a92addf",
   "metadata": {},
   "source": [
    "We already know that `time_proj` produces slighty different results on local and cloud. What about `add_proj`?"
   ]
  },
  {
   "cell_type": "code",
   "execution_count": 49,
   "id": "c33f4453-592a-4d22-abb0-1e95f7347aea",
   "metadata": {},
   "outputs": [],
   "source": [
    "add_emb_c = cti['E']\n",
    "add_emb_l = emb_l_add_embeds"
   ]
  },
  {
   "cell_type": "code",
   "execution_count": 50,
   "id": "a42d252c-c8c4-41fc-ac13-b21ec0676434",
   "metadata": {},
   "outputs": [
    {
     "data": {
      "text/plain": [
       "(True, False)"
      ]
     },
     "execution_count": 50,
     "metadata": {},
     "output_type": "execute_result"
    }
   ],
   "source": [
    "equal(add_emb_c, add_emb_l, atol=1e-2), equal(add_emb_c, add_emb_l, atol=1e-3)"
   ]
  },
  {
   "cell_type": "code",
   "execution_count": 51,
   "id": "f2eb4361-7702-43ea-b8fb-bbd8f15b081f",
   "metadata": {},
   "outputs": [],
   "source": [
    "add_proj_c_reproduced = local_projections['add_proj'](add_emb_c.to(device)).cpu().detach()\n",
    "add_proj_c = cti['F']\n",
    "add_proj_l = local_projections['add_proj'](add_emb_l.to(device)).cpu().detach()"
   ]
  },
  {
   "cell_type": "code",
   "execution_count": 52,
   "id": "225ab268-a704-4b0b-91b0-f498b496247c",
   "metadata": {},
   "outputs": [
    {
     "data": {
      "text/plain": [
       "(True, True, True)"
      ]
     },
     "execution_count": 52,
     "metadata": {},
     "output_type": "execute_result"
    }
   ],
   "source": [
    "equal(add_proj_c_reproduced, add_proj_c, atol=1e-7), equal(add_proj_c_reproduced, add_proj_l, atol=1e-3), equal(add_proj_c, add_proj_l, atol=1e-3)"
   ]
  },
  {
   "cell_type": "markdown",
   "id": "e04738fd-2c87-40fb-b1ad-0d5bea2dfd4b",
   "metadata": {},
   "source": [
    "When given the same input, `add_proj` produces exactly the same output on local and cloud."
   ]
  },
  {
   "cell_type": "code",
   "execution_count": null,
   "id": "0186862a-25b9-4012-b0b5-a1e21a1d0172",
   "metadata": {},
   "outputs": [],
   "source": []
  },
  {
   "cell_type": "markdown",
   "id": "88377808-953a-479c-beab-3f06db8d6913",
   "metadata": {},
   "source": [
    "Okay, then let's **compare the time projection matrices**"
   ]
  },
  {
   "cell_type": "code",
   "execution_count": 68,
   "id": "6201f98d-594b-4806-bd62-82934e8da387",
   "metadata": {},
   "outputs": [],
   "source": [
    "from itertools import product as it_prod\n",
    "time_proj_params_local = {\n",
    "    'base': {\n",
    "        'linear_1': {\n",
    "            'weight': cnxs.base_model.time_embedding.linear_1.weight.cpu().detach(),\n",
    "            'bias':   cnxs.base_model.time_embedding.linear_1.bias.cpu().detach()\n",
    "        },\n",
    "        'linear_2': {\n",
    "            'weight': cnxs.base_model.time_embedding.linear_2.weight.cpu().detach(),\n",
    "            'bias':   cnxs.base_model.time_embedding.linear_2.bias.cpu().detach()\n",
    "        }\n",
    "    },\n",
    "    'ctrl': {\n",
    "        'linear_1': {\n",
    "            'weight': cnxs.control_model.time_embedding.linear_1.weight.cpu().detach(),\n",
    "            'bias':   cnxs.control_model.time_embedding.linear_1.bias.cpu().detach()\n",
    "        },\n",
    "        'linear_2': {\n",
    "            'weight': cnxs.control_model.time_embedding.linear_2.weight.cpu().detach(),\n",
    "            'bias':   cnxs.control_model.time_embedding.linear_2.bias.cpu().detach()\n",
    "        }\n",
    "    }\n",
    "}"
   ]
  },
  {
   "cell_type": "code",
   "execution_count": 69,
   "id": "399ca4a9-8758-4c3e-b6e0-af1ffa3bfb63",
   "metadata": {},
   "outputs": [
    {
     "data": {
      "text/plain": [
       "{'base': {'linear_1': {'weight': None, 'bias': None},\n",
       "  'linear_2': {'weight': None, 'bias': None}},\n",
       " 'ctrl': {'linear_1': {'weight': None, 'bias': None},\n",
       "  'linear_2': {'weight': None, 'bias': None}}}"
      ]
     },
     "execution_count": 69,
     "metadata": {},
     "output_type": "execute_result"
    }
   ],
   "source": [
    "time_proj_params_cloud = time_proj_params_local.copy()\n",
    "\n",
    "for m,l,wb in it_prod(('base','ctrl'), ('linear_1','linear_2'), ('weight','bias')): time_proj_params_cloud[m][l][wb] = None\n",
    "\n",
    "time_proj_params_cloud"
   ]
  },
  {
   "cell_type": "code",
   "execution_count": 70,
   "id": "e885cf1d-5d52-4c44-8fda-c84e58a5249b",
   "metadata": {},
   "outputs": [],
   "source": [
    "for m,l,wb in it_prod(('base','ctrl'), ('linear_1','linear_2'), ('weight','bias')):\n",
    "    time_proj_params_cloud[m][l][wb] = torch.load(f'intermediate_output/temb/cloud/{m}-{l}-{wb}.pt')"
   ]
  },
  {
   "cell_type": "code",
   "execution_count": 71,
   "id": "4865e356-4a7c-435d-91b6-38e02bb47d71",
   "metadata": {},
   "outputs": [
    {
     "name": "stdout",
     "output_type": "stream",
     "text": [
      "base linear_1 weight : tensor(True)\n",
      "base linear_1 bias : tensor(True)\n",
      "base linear_2 weight : tensor(True)\n",
      "base linear_2 bias : tensor(True)\n",
      "ctrl linear_1 weight : tensor(True)\n",
      "ctrl linear_1 bias : tensor(True)\n",
      "ctrl linear_2 weight : tensor(True)\n",
      "ctrl linear_2 bias : tensor(True)\n"
     ]
    }
   ],
   "source": [
    "for m,l,wb in it_prod(('base','ctrl'), ('linear_1','linear_2'), ('weight','bias')):\n",
    "    print(m,l,wb,':',(time_proj_params_cloud[m][l][wb] == time_proj_params_local[m][l][wb]).all())"
   ]
  },
  {
   "cell_type": "markdown",
   "id": "20985f8e-aac1-479c-b035-6aa11ae9cad1",
   "metadata": {},
   "source": [
    "**Projection matrices are exactly equal**"
   ]
  },
  {
   "cell_type": "code",
   "execution_count": 75,
   "id": "1546bba6-b477-442b-8e16-a8f753335da2",
   "metadata": {},
   "outputs": [],
   "source": [
    "t_emb_cloud = torch.load('intermediate_output/temb/cloud/temb_A',map_location='cpu')\n",
    "t_proj_cloud = torch.load('intermediate_output/temb/cloud/temb_B',map_location='cpu')\n",
    "\n",
    "t_emb_local = temb_pure_time_1\n",
    "t_proj_local = temb_pure_time_2"
   ]
  },
  {
   "cell_type": "code",
   "execution_count": 88,
   "id": "f2854da1-d7ed-4f54-868a-b80fedc8de24",
   "metadata": {},
   "outputs": [
    {
     "data": {
      "text/plain": [
       "True"
      ]
     },
     "execution_count": 88,
     "metadata": {},
     "output_type": "execute_result"
    }
   ],
   "source": [
    "equal(t_emb_cloud,t_emb_local,atol=1e-4)"
   ]
  },
  {
   "cell_type": "code",
   "execution_count": 92,
   "id": "0b5884bd-1f1d-4302-9b8a-dacad4de7a8e",
   "metadata": {},
   "outputs": [
    {
     "data": {
      "text/plain": [
       "False"
      ]
     },
     "execution_count": 92,
     "metadata": {},
     "output_type": "execute_result"
    }
   ],
   "source": [
    "equal(t_proj_cloud,t_proj_local,atol=1e-1)"
   ]
  },
  {
   "cell_type": "code",
   "execution_count": 94,
   "id": "5eaa1c69-a3eb-4a04-976e-079ff7049aa5",
   "metadata": {},
   "outputs": [
    {
     "data": {
      "text/plain": [
       "tensor(0.1028)"
      ]
     },
     "execution_count": 94,
     "metadata": {},
     "output_type": "execute_result"
    }
   ],
   "source": [
    "(t_proj_cloud-t_proj_local).abs().max()"
   ]
  },
  {
   "cell_type": "markdown",
   "id": "9f341f37-f920-4cc2-a1d1-9570f11dc77d",
   "metadata": {},
   "source": [
    "So:\n",
    "1. `t_emb` has error <= `1-e4`\n",
    "2. the exact same operation is applied (all params are exactly equal)\n",
    "3. `t_proj` has error > `1e-1`\n",
    "\n",
    "It seeme the operation applied to get from `t_emb` to `t_proj` has poor numerical stability"
   ]
  },
  {
   "cell_type": "markdown",
   "id": "9ce24d33-c058-4768-997e-94818204ea06",
   "metadata": {},
   "source": [
    "Let's check the **condition numbers**"
   ]
  },
  {
   "cell_type": "code",
   "execution_count": 96,
   "id": "a7c7daed-646c-4f7b-9951-c2d0879b1762",
   "metadata": {},
   "outputs": [],
   "source": [
    "def condition_number(A):\n",
    "    u, s, v = torch.svd(A)\n",
    "    return s[0] / s[-1]"
   ]
  },
  {
   "cell_type": "code",
   "execution_count": 97,
   "id": "413e885f-0c7b-49d7-a167-460b132752a8",
   "metadata": {},
   "outputs": [
    {
     "data": {
      "text/plain": [
       "tensor(41.8085)"
      ]
     },
     "execution_count": 97,
     "metadata": {},
     "output_type": "execute_result"
    }
   ],
   "source": [
    "condition_number(time_proj_params_cloud['base']['linear_1']['weight'])"
   ]
  },
  {
   "cell_type": "code",
   "execution_count": 105,
   "id": "5ce946d5-adf3-47c3-b41a-349780ede758",
   "metadata": {},
   "outputs": [
    {
     "name": "stdout",
     "output_type": "stream",
     "text": [
      "(Sanity check: Condition number of base/linear_1/weight computed with numpy is 41.80854415893555)\n"
     ]
    }
   ],
   "source": [
    "import numpy as np\n",
    "kappa_np = np.linalg.cond(time_proj_params_cloud['base']['linear_1']['weight'].numpy())\n",
    "print(f'(Sanity check: Condition number of base/linear_1/weight computed with numpy is {kappa_np})')"
   ]
  },
  {
   "cell_type": "code",
   "execution_count": 108,
   "id": "a931ac0b-d2b5-4d66-bd64-b75804521c99",
   "metadata": {},
   "outputs": [
    {
     "name": "stdout",
     "output_type": "stream",
     "text": [
      "Condition numbers:\n",
      "- ctrl/linear_1: 11.02\n",
      "- ctrl/linear_2: 27409.46\n",
      "- base/linear_1: 41.81\n",
      "- base/linear_2: 15005.64\n"
     ]
    }
   ],
   "source": [
    "print('Condition numbers:')\n",
    "for m,l in it_prod(('ctrl','base'),('linear_1','linear_2')):\n",
    "    kappa = condition_number(time_proj_params_cloud[m][l]['weight'])\n",
    "    print(f'- {m}/{l}: {kappa:.2f}')"
   ]
  },
  {
   "cell_type": "markdown",
   "id": "64ffb746-83cc-4f8b-b732-66cb4a842549",
   "metadata": {},
   "source": [
    "The condition number of the operation `t_emb` -> `t_proj` is order `10,000`. Therefore it is expected for errors to explode."
   ]
  },
  {
   "cell_type": "markdown",
   "id": "33804082-80ce-4261-9dd0-e81204b5e4b7",
   "metadata": {},
   "source": [
    "**No!** The condition number is for solving a linear system (ie `y = Ax`, how does error in `y` propagate to `x`; the operation is `inv(A)`), but we're doing a linear transformation. The operation is `A` itself."
   ]
  },
  {
   "cell_type": "code",
   "execution_count": 123,
   "id": "9b3b88b7-24d7-43e9-adf8-5afe976ec583",
   "metadata": {},
   "outputs": [
    {
     "name": "stdout",
     "output_type": "stream",
     "text": [
      "Matrix norms (Frobenius):\n",
      "- ctrl/linear_1: 21.07\n",
      "- ctrl/linear_2: 32.72\n",
      "- base/linear_1: 13.61\n",
      "- base/linear_2: 11.19\n"
     ]
    }
   ],
   "source": [
    "print('Matrix norms (Frobenius):')\n",
    "for m,l in it_prod(('ctrl','base'),('linear_1','linear_2')):\n",
    "    matnorm = torch.linalg.matrix_norm(time_proj_params_cloud[m][l]['weight'], ord='fro')\n",
    "    print(f'- {m}/{l}: {matnorm:.2f}')"
   ]
  },
  {
   "cell_type": "markdown",
   "id": "1b76629e-4c24-492a-99ef-4487d1cae074",
   "metadata": {},
   "source": [
    "I'm always looking at the mean absolute error, ie the l1-error. So I need to look at the l1-matrix norm as well."
   ]
  },
  {
   "cell_type": "code",
   "execution_count": 124,
   "id": "2509ebb9-182d-42b0-a66f-024302497ebf",
   "metadata": {},
   "outputs": [
    {
     "name": "stdout",
     "output_type": "stream",
     "text": [
      "Matrix norms (L1):\n",
      "- ctrl/linear_1: 39.88\n",
      "- ctrl/linear_2: 33.49\n",
      "- base/linear_1: 29.87\n",
      "- base/linear_2: 16.04\n"
     ]
    }
   ],
   "source": [
    "print('Matrix norms (L1):')\n",
    "for m,l in it_prod(('ctrl','base'),('linear_1','linear_2')):\n",
    "    matnorm = torch.linalg.matrix_norm(time_proj_params_cloud[m][l]['weight'], ord=1)\n",
    "    print(f'- {m}/{l}: {matnorm:.2f}')"
   ]
  },
  {
   "cell_type": "markdown",
   "id": "0152fd87-39b5-4f4a-a17f-4283f8fe1349",
   "metadata": {},
   "source": [
    "Remember, the projection operation is\n",
    "\n",
    "- `t_proj = linear_interpolate(ctrl_proj(t_emb), base_proj(t_emb), 0.95**3)`\n",
    "- `ctrl_proj = linear_2(silu(linear_1(t_emb)))`\n",
    "- similar for `base_proj`"
   ]
  },
  {
   "cell_type": "markdown",
   "id": "ff14b49c-9b8a-4948-962e-72a03482b4d0",
   "metadata": {},
   "source": [
    "Ignoring the sili, the \"matrix norm\" of the entire operation is:"
   ]
  },
  {
   "cell_type": "code",
   "execution_count": 127,
   "id": "c243642f-9635-4d18-b347-9fe0f5bcd56f",
   "metadata": {},
   "outputs": [
    {
     "data": {
      "text/plain": [
       "1213.4276796999998"
      ]
     },
     "execution_count": 127,
     "metadata": {},
     "output_type": "execute_result"
    }
   ],
   "source": [
    "(39.88*33.49)*(0.95**3)+(29.87*16.04)*(1-0.95**3)"
   ]
  },
  {
   "cell_type": "markdown",
   "id": "c515c434-8fcf-47ae-8105-b32750d225d7",
   "metadata": {},
   "source": [
    "**Solution:** So, we should expect the error to increase 3-4 orders is magnitude, which is exaclty what's happening."
   ]
  },
  {
   "cell_type": "code",
   "execution_count": null,
   "id": "58f672b1-236c-4a13-8ce3-43f34cdfe6da",
   "metadata": {},
   "outputs": [],
   "source": []
  }
 ],
 "metadata": {
  "kernelspec": {
   "display_name": "Python 3 (ipykernel)",
   "language": "python",
   "name": "python3"
  },
  "language_info": {
   "codemirror_mode": {
    "name": "ipython",
    "version": 3
   },
   "file_extension": ".py",
   "mimetype": "text/x-python",
   "name": "python",
   "nbconvert_exporter": "python",
   "pygments_lexer": "ipython3",
   "version": "3.11.5"
  }
 },
 "nbformat": 4,
 "nbformat_minor": 5
}
