{
 "cells": [
  {
   "cell_type": "markdown",
   "id": "95f710be-a05b-4446-89aa-04f1337cb734",
   "metadata": {},
   "source": [
    "I have now turned off the contorl part by setting `control_scale *= 0`. Let's compare the outputs of (my implementation of) the base model. Visually, my implementation seems to be broken."
   ]
  },
  {
   "cell_type": "code",
   "execution_count": 1,
   "id": "2fa846a7-09c0-472e-b00b-53e1946eb913",
   "metadata": {
    "tags": []
   },
   "outputs": [],
   "source": [
    "import torch\n",
    "from torch.testing import assert_close\n",
    "from torch import allclose, nn, tensor\n",
    "torch.set_printoptions(linewidth=200, precision=3, sci_mode=False)"
   ]
  },
  {
   "cell_type": "code",
   "execution_count": 2,
   "id": "18ae4f5a-d7eb-4471-be6f-cae1f309ed92",
   "metadata": {
    "tags": []
   },
   "outputs": [],
   "source": [
    "device = 'cuda' if torch.cuda.is_available() else 'mps'\n",
    "device_dtype = torch.float16 if device == 'cuda' else torch.float32"
   ]
  },
  {
   "cell_type": "code",
   "execution_count": null,
   "id": "fde62c28-f352-4999-8596-1f00a241ade2",
   "metadata": {},
   "outputs": [],
   "source": []
  },
  {
   "cell_type": "markdown",
   "id": "f72cc90d-07bd-4542-bb5d-ea079d26bead",
   "metadata": {},
   "source": [
    "## Load logs"
   ]
  },
  {
   "cell_type": "code",
   "execution_count": 3,
   "id": "877aac20-e525-4d08-8671-33c61661106f",
   "metadata": {
    "tags": []
   },
   "outputs": [],
   "source": [
    "from diffusers.umer_debug_logger import UmerDebugLogger"
   ]
  },
  {
   "cell_type": "code",
   "execution_count": 4,
   "id": "c166a5e2-be58-4df0-a26c-6412c291abbd",
   "metadata": {
    "tags": []
   },
   "outputs": [],
   "source": [
    "cloud_cuda = UmerDebugLogger.load_log_objects_from_dir('logs/cloud')\n",
    "local_cuda = UmerDebugLogger.load_log_objects_from_dir('logs/local_cuda')\n",
    "local_mps = UmerDebugLogger.load_log_objects_from_dir('logs/local_mps')"
   ]
  },
  {
   "cell_type": "code",
   "execution_count": 5,
   "id": "34d22d54-f576-47cc-8629-7fd4bba7a1af",
   "metadata": {
    "tags": []
   },
   "outputs": [
    {
     "data": {
      "text/plain": [
       "(73, 73, 73)"
      ]
     },
     "execution_count": 5,
     "metadata": {},
     "output_type": "execute_result"
    }
   ],
   "source": [
    "len(cloud_cuda), len(local_cuda), len(local_mps)"
   ]
  },
  {
   "cell_type": "code",
   "execution_count": 6,
   "id": "424192a3-874d-4e65-86f9-8d8914770541",
   "metadata": {
    "tags": []
   },
   "outputs": [],
   "source": [
    "for i, (c,l,l2) in enumerate(zip(cloud_cuda, local_cuda,local_mps)):\n",
    "    if c.msg!=l.msg: print(i,c.msg,l.msg,l2.msg)"
   ]
  },
  {
   "cell_type": "code",
   "execution_count": null,
   "id": "00247e0c-f68a-4b5d-9ab5-36931de4f0eb",
   "metadata": {},
   "outputs": [],
   "source": []
  },
  {
   "cell_type": "markdown",
   "id": "994cd8cf-1682-47e5-a7ff-4ccb3095ad61",
   "metadata": {},
   "source": [
    "## Compare intermediate results"
   ]
  },
  {
   "cell_type": "code",
   "execution_count": 7,
   "id": "33be8da7-4831-46f8-9027-9d65bcc516df",
   "metadata": {
    "tags": []
   },
   "outputs": [],
   "source": [
    "def mae(t1,t2):\n",
    "    assert t1.shape==t2.shape\n",
    "    return (t1-t2).abs().mean()"
   ]
  },
  {
   "cell_type": "code",
   "execution_count": 8,
   "id": "e8caab89-aba7-45f5-b283-f2c83b40632d",
   "metadata": {
    "tags": []
   },
   "outputs": [],
   "source": [
    "from functools import partial\n",
    "from util_inspect import fmt_bool\n",
    "\n",
    "def compare_intermediate_results(n=None,n_start=0,prec=5, compare_prec=3, skip_ctrl=False):\n",
    "    if n is None: n=max(len(cloud_cuda), len(local_cuda), len(local_mps))\n",
    "\n",
    "    print(f'{\"\":<3} | {\"name\":<20} | {\"shape\":<20} | {\"same names?\":<12} | {\"same shapes?\":<12} | {\"same values?\":<12} | {\"Δ local mps -> cuda\":<20} | {\"Δ cuda local -> cloud\":<20}')\n",
    "    print(f'{\"\":<3} | {\"\":<20} | {\"\":<20} | {\"\":<12} | {\"\":<12} | {\"prec=\"+str(compare_prec):^12} | {\"prec=\"+str(prec):^20} | {\"prec=\"+str(prec):^20}')\n",
    "\n",
    "    def calc_total_len(lens): return sum(lens)+3*len(lens)-1\n",
    "    total_len = calc_total_len((3,20,20,12,12,12,20,20))\n",
    "\n",
    "    line = partial(\n",
    "        lambda txt, width: print(txt * (width//len(txt))),\n",
    "        width=total_len\n",
    "    )\n",
    "    \n",
    "    # # to separate logs into sections\n",
    "    lines_at = [5]                                     # input \n",
    "    def add_line_after(x): lines_at.append(lines_at[-1]+x)\n",
    "    add_line_after(4)                                  # conv in\n",
    "    for _ in range(8): add_line_after(4)               # enc       (R,R,D / RA,RA,D / RA,RA)\n",
    "    add_line_after(4)                                  # mid\n",
    "    for _ in range(9): add_line_after(3)               # dec       (RA,RA,RAU / RA,RA,RAU / R,R,R)\n",
    "    fat_lines_at = [5,9,41,45]\n",
    "    \n",
    "    # # to describe each log line\n",
    "    descrs = ['x', 'time info', 'text info', 'guidance image', 'guidance imagen (projected)']                              # input \n",
    "    descrs += ['base conv in','ctrl conv in','add guided hint to ctrl','add ctrl->base']                                   # conv in\n",
    "    for _ in range(8):descrs += ['concat base -> ctrl','apply base block','apply ctrl block','add ctrl -> base']           # enc\n",
    "    descrs += ['concat base -> ctrl', 'apply base block','apply ctrl block','add ctrl->base']                              # mid\n",
    "    for _ in range(9): descrs += ['add ctrl encoder->base decoder','concat base encoder->base decoder','apply base block'] # dec \n",
    "    descrs += ['base conv out']                                                                                            # output \n",
    "    \n",
    "    line('#')\n",
    "    lv,block=1,1\n",
    "    for i in range(n_start,n):\n",
    "        cc,lc,lm = cloud_cuda[i], local_cuda[i], local_mps[i]\n",
    "                \n",
    "        eq_name = (cc.msg==lc.msg) and (lc.msg==lm.msg)\n",
    "        eq_shape = (cc.shape==lc.shape) and (lc.shape==lm.shape)\n",
    "        eq_vals = torch.allclose(cc.t,lc.t,atol=10**-compare_prec) and torch.allclose(lc.t,lm.t,atol=10**-compare_prec)\n",
    "\n",
    "        mae_1 = mae(lm.t,lc.t)\n",
    "        mae_2 = mae(lc.t,cc.t)\n",
    "        \n",
    "        mae_1 = (\"{:>20.\"+str(prec)+\"f}\").format(mae_1)\n",
    "        mae_2 = (\"{:>20.\"+str(prec)+\"f}\").format(mae_2)\n",
    "        \n",
    "        if not skip_ctrl or not 'ctrl' in cc.msg:\n",
    "            print(f'{i+1:<3} | {cc.msg:<20} | {cc.shape:>20} | {fmt_bool(eq_name, \"^12\")} | {fmt_bool(eq_shape, \"^12\")} | {fmt_bool(eq_vals, \"^12\")} | {mae_1} | {mae_2}\\t{descrs[i]}')\n",
    "        \n",
    "        if i+1 in fat_lines_at: line('=')\n",
    "        elif i+1 in lines_at: line('-')"
   ]
  },
  {
   "cell_type": "code",
   "execution_count": 9,
   "id": "56892953-74b2-4103-ba00-eb0ed4249553",
   "metadata": {
    "tags": []
   },
   "outputs": [
    {
     "name": "stdout",
     "output_type": "stream",
     "text": [
      "    | name                 | shape                | same names?  | same shapes? | same values? | Δ local mps -> cuda  | Δ cuda local -> cloud\n",
      "    |                      |                      |              |              |    prec=4    |        prec=3        |        prec=3       \n",
      "##############################################################################################################################################\n",
      "1   | prep.x               |       [2, 4, 96, 96] | \u001b[92m     y      \u001b[0m | \u001b[92m     y      \u001b[0m | \u001b[92m     y      \u001b[0m |                0.000 |                0.000\tx\n",
      "2   | prep.temb            |            [2, 1280] | \u001b[92m     y      \u001b[0m | \u001b[92m     y      \u001b[0m | \u001b[91m     n      \u001b[0m |                0.000 |                0.000\ttime info\n",
      "3   | prep.context         |        [2, 77, 2048] | \u001b[92m     y      \u001b[0m | \u001b[92m     y      \u001b[0m | \u001b[91m     n      \u001b[0m |                0.000 |                0.001\ttext info\n",
      "4   | prep.raw_hint        |     [2, 3, 768, 768] | \u001b[92m     y      \u001b[0m | \u001b[92m     y      \u001b[0m | \u001b[92m     y      \u001b[0m |                0.000 |                0.000\tguidance image\n",
      "5   | prep.guided_hint     |      [2, 32, 96, 96] | \u001b[92m     y      \u001b[0m | \u001b[92m     y      \u001b[0m | \u001b[91m     n      \u001b[0m |                0.000 |                0.000\tguidance imagen (projected)\n",
      "==============================================================================================================================================\n",
      "6   | enc.h_base           |     [2, 320, 96, 96] | \u001b[92m     y      \u001b[0m | \u001b[92m     y      \u001b[0m | \u001b[91m     n      \u001b[0m |                0.000 |                0.000\tbase conv in\n",
      "9   | enc.h_base           |     [2, 320, 96, 96] | \u001b[92m     y      \u001b[0m | \u001b[92m     y      \u001b[0m | \u001b[91m     n      \u001b[0m |                0.000 |                0.000\tadd ctrl->base\n",
      "==============================================================================================================================================\n",
      "11  | enc.h_base           |     [2, 320, 96, 96] | \u001b[92m     y      \u001b[0m | \u001b[92m     y      \u001b[0m | \u001b[91m     n      \u001b[0m |                0.000 |                0.000\tapply base block\n",
      "13  | enc.h_base           |     [2, 320, 96, 96] | \u001b[92m     y      \u001b[0m | \u001b[92m     y      \u001b[0m | \u001b[91m     n      \u001b[0m |                0.000 |                0.000\tadd ctrl -> base\n",
      "----------------------------------------------------------------------------------------------------------------------------------------------\n",
      "15  | enc.h_base           |     [2, 320, 96, 96] | \u001b[92m     y      \u001b[0m | \u001b[92m     y      \u001b[0m | \u001b[91m     n      \u001b[0m |                0.000 |                0.000\tapply base block\n",
      "17  | enc.h_base           |     [2, 320, 96, 96] | \u001b[92m     y      \u001b[0m | \u001b[92m     y      \u001b[0m | \u001b[91m     n      \u001b[0m |                0.000 |                0.000\tadd ctrl -> base\n",
      "----------------------------------------------------------------------------------------------------------------------------------------------\n",
      "19  | enc.h_base           |     [2, 320, 48, 48] | \u001b[92m     y      \u001b[0m | \u001b[92m     y      \u001b[0m | \u001b[91m     n      \u001b[0m |                0.000 |                0.000\tapply base block\n",
      "21  | enc.h_base           |     [2, 320, 48, 48] | \u001b[92m     y      \u001b[0m | \u001b[92m     y      \u001b[0m | \u001b[91m     n      \u001b[0m |                0.000 |                0.000\tadd ctrl -> base\n",
      "----------------------------------------------------------------------------------------------------------------------------------------------\n",
      "23  | enc.h_base           |     [2, 640, 48, 48] | \u001b[92m     y      \u001b[0m | \u001b[92m     y      \u001b[0m | \u001b[91m     n      \u001b[0m |                0.000 |                0.000\tapply base block\n",
      "25  | enc.h_base           |     [2, 640, 48, 48] | \u001b[92m     y      \u001b[0m | \u001b[92m     y      \u001b[0m | \u001b[91m     n      \u001b[0m |                0.000 |                0.000\tadd ctrl -> base\n",
      "----------------------------------------------------------------------------------------------------------------------------------------------\n",
      "27  | enc.h_base           |     [2, 640, 48, 48] | \u001b[92m     y      \u001b[0m | \u001b[92m     y      \u001b[0m | \u001b[91m     n      \u001b[0m |                0.000 |                0.000\tapply base block\n",
      "29  | enc.h_base           |     [2, 640, 48, 48] | \u001b[92m     y      \u001b[0m | \u001b[92m     y      \u001b[0m | \u001b[91m     n      \u001b[0m |                0.000 |                0.000\tadd ctrl -> base\n",
      "----------------------------------------------------------------------------------------------------------------------------------------------\n",
      "31  | enc.h_base           |     [2, 640, 24, 24] | \u001b[92m     y      \u001b[0m | \u001b[92m     y      \u001b[0m | \u001b[91m     n      \u001b[0m |                0.000 |                0.000\tapply base block\n",
      "33  | enc.h_base           |     [2, 640, 24, 24] | \u001b[92m     y      \u001b[0m | \u001b[92m     y      \u001b[0m | \u001b[91m     n      \u001b[0m |                0.000 |                0.000\tadd ctrl -> base\n",
      "----------------------------------------------------------------------------------------------------------------------------------------------\n",
      "35  | enc.h_base           |    [2, 1280, 24, 24] | \u001b[92m     y      \u001b[0m | \u001b[92m     y      \u001b[0m | \u001b[91m     n      \u001b[0m |                0.000 |                0.000\tapply base block\n",
      "37  | enc.h_base           |    [2, 1280, 24, 24] | \u001b[92m     y      \u001b[0m | \u001b[92m     y      \u001b[0m | \u001b[91m     n      \u001b[0m |                0.000 |                0.000\tadd ctrl -> base\n",
      "----------------------------------------------------------------------------------------------------------------------------------------------\n",
      "39  | enc.h_base           |    [2, 1280, 24, 24] | \u001b[92m     y      \u001b[0m | \u001b[92m     y      \u001b[0m | \u001b[91m     n      \u001b[0m |                0.001 |                0.001\tapply base block\n",
      "41  | enc.h_base           |    [2, 1280, 24, 24] | \u001b[92m     y      \u001b[0m | \u001b[92m     y      \u001b[0m | \u001b[91m     n      \u001b[0m |                0.001 |                0.001\tadd ctrl -> base\n",
      "==============================================================================================================================================\n",
      "43  | mid.h_base           |    [2, 1280, 24, 24] | \u001b[92m     y      \u001b[0m | \u001b[92m     y      \u001b[0m | \u001b[91m     n      \u001b[0m |                0.001 |                0.002\tapply base block\n",
      "45  | mid.h_base           |    [2, 1280, 24, 24] | \u001b[92m     y      \u001b[0m | \u001b[92m     y      \u001b[0m | \u001b[91m     n      \u001b[0m |                0.001 |                0.002\tadd ctrl->base\n",
      "==============================================================================================================================================\n",
      "46  | dec.h_base           |    [2, 1280, 24, 24] | \u001b[92m     y      \u001b[0m | \u001b[92m     y      \u001b[0m | \u001b[91m     n      \u001b[0m |                0.001 |                0.002\tadd ctrl encoder->base decoder\n",
      "47  | dec.h_base           |    [2, 2560, 24, 24] | \u001b[92m     y      \u001b[0m | \u001b[92m     y      \u001b[0m | \u001b[91m     n      \u001b[0m |                0.001 |                0.001\tconcat base encoder->base decoder\n",
      "48  | dec.h_base           |    [2, 1280, 24, 24] | \u001b[92m     y      \u001b[0m | \u001b[92m     y      \u001b[0m | \u001b[91m     n      \u001b[0m |                0.001 |                0.003\tapply base block\n",
      "----------------------------------------------------------------------------------------------------------------------------------------------\n",
      "49  | dec.h_base           |    [2, 1280, 24, 24] | \u001b[92m     y      \u001b[0m | \u001b[92m     y      \u001b[0m | \u001b[91m     n      \u001b[0m |                0.001 |                0.003\tadd ctrl encoder->base decoder\n",
      "50  | dec.h_base           |    [2, 2560, 24, 24] | \u001b[92m     y      \u001b[0m | \u001b[92m     y      \u001b[0m | \u001b[91m     n      \u001b[0m |                0.001 |                0.001\tconcat base encoder->base decoder\n",
      "51  | dec.h_base           |    [2, 1280, 24, 24] | \u001b[92m     y      \u001b[0m | \u001b[92m     y      \u001b[0m | \u001b[91m     n      \u001b[0m |                0.001 |                0.002\tapply base block\n",
      "----------------------------------------------------------------------------------------------------------------------------------------------\n",
      "52  | dec.h_base           |    [2, 1280, 24, 24] | \u001b[92m     y      \u001b[0m | \u001b[92m     y      \u001b[0m | \u001b[91m     n      \u001b[0m |                0.001 |                0.002\tadd ctrl encoder->base decoder\n",
      "53  | dec.h_base           |    [2, 1920, 24, 24] | \u001b[92m     y      \u001b[0m | \u001b[92m     y      \u001b[0m | \u001b[91m     n      \u001b[0m |                0.001 |                0.001\tconcat base encoder->base decoder\n",
      "54  | dec.h_base           |    [2, 1280, 48, 48] | \u001b[92m     y      \u001b[0m | \u001b[92m     y      \u001b[0m | \u001b[91m     n      \u001b[0m |                0.001 |                0.002\tapply base block\n",
      "----------------------------------------------------------------------------------------------------------------------------------------------\n",
      "55  | dec.h_base           |    [2, 1280, 48, 48] | \u001b[92m     y      \u001b[0m | \u001b[92m     y      \u001b[0m | \u001b[91m     n      \u001b[0m |                0.001 |                0.002\tadd ctrl encoder->base decoder\n",
      "56  | dec.h_base           |    [2, 1920, 48, 48] | \u001b[92m     y      \u001b[0m | \u001b[92m     y      \u001b[0m | \u001b[91m     n      \u001b[0m |                0.001 |                0.002\tconcat base encoder->base decoder\n",
      "57  | dec.h_base           |     [2, 640, 48, 48] | \u001b[92m     y      \u001b[0m | \u001b[92m     y      \u001b[0m | \u001b[91m     n      \u001b[0m |                0.001 |                0.001\tapply base block\n",
      "----------------------------------------------------------------------------------------------------------------------------------------------\n",
      "58  | dec.h_base           |     [2, 640, 48, 48] | \u001b[92m     y      \u001b[0m | \u001b[92m     y      \u001b[0m | \u001b[91m     n      \u001b[0m |                0.001 |                0.001\tadd ctrl encoder->base decoder\n",
      "59  | dec.h_base           |    [2, 1280, 48, 48] | \u001b[92m     y      \u001b[0m | \u001b[92m     y      \u001b[0m | \u001b[91m     n      \u001b[0m |                0.000 |                0.001\tconcat base encoder->base decoder\n",
      "60  | dec.h_base           |     [2, 640, 48, 48] | \u001b[92m     y      \u001b[0m | \u001b[92m     y      \u001b[0m | \u001b[91m     n      \u001b[0m |                0.000 |                0.000\tapply base block\n",
      "----------------------------------------------------------------------------------------------------------------------------------------------\n",
      "61  | dec.h_base           |     [2, 640, 48, 48] | \u001b[92m     y      \u001b[0m | \u001b[92m     y      \u001b[0m | \u001b[91m     n      \u001b[0m |                0.000 |                0.000\tadd ctrl encoder->base decoder\n",
      "62  | dec.h_base           |     [2, 960, 48, 48] | \u001b[92m     y      \u001b[0m | \u001b[92m     y      \u001b[0m | \u001b[91m     n      \u001b[0m |                0.000 |                0.000\tconcat base encoder->base decoder\n",
      "63  | dec.h_base           |     [2, 640, 96, 96] | \u001b[92m     y      \u001b[0m | \u001b[92m     y      \u001b[0m | \u001b[91m     n      \u001b[0m |                0.000 |                0.000\tapply base block\n",
      "----------------------------------------------------------------------------------------------------------------------------------------------\n",
      "64  | dec.h_base           |     [2, 640, 96, 96] | \u001b[92m     y      \u001b[0m | \u001b[92m     y      \u001b[0m | \u001b[91m     n      \u001b[0m |                0.000 |                0.000\tadd ctrl encoder->base decoder\n",
      "65  | dec.h_base           |     [2, 960, 96, 96] | \u001b[92m     y      \u001b[0m | \u001b[92m     y      \u001b[0m | \u001b[91m     n      \u001b[0m |                0.000 |                0.000\tconcat base encoder->base decoder\n",
      "66  | dec.h_base           |     [2, 320, 96, 96] | \u001b[92m     y      \u001b[0m | \u001b[92m     y      \u001b[0m | \u001b[91m     n      \u001b[0m |                0.000 |                0.000\tapply base block\n",
      "----------------------------------------------------------------------------------------------------------------------------------------------\n",
      "67  | dec.h_base           |     [2, 320, 96, 96] | \u001b[92m     y      \u001b[0m | \u001b[92m     y      \u001b[0m | \u001b[91m     n      \u001b[0m |                0.000 |                0.000\tadd ctrl encoder->base decoder\n",
      "68  | dec.h_base           |     [2, 640, 96, 96] | \u001b[92m     y      \u001b[0m | \u001b[92m     y      \u001b[0m | \u001b[91m     n      \u001b[0m |                0.000 |                0.000\tconcat base encoder->base decoder\n",
      "69  | dec.h_base           |     [2, 320, 96, 96] | \u001b[92m     y      \u001b[0m | \u001b[92m     y      \u001b[0m | \u001b[91m     n      \u001b[0m |                0.000 |                0.000\tapply base block\n",
      "----------------------------------------------------------------------------------------------------------------------------------------------\n",
      "70  | dec.h_base           |     [2, 320, 96, 96] | \u001b[92m     y      \u001b[0m | \u001b[92m     y      \u001b[0m | \u001b[91m     n      \u001b[0m |                0.000 |                0.000\tadd ctrl encoder->base decoder\n",
      "71  | dec.h_base           |     [2, 640, 96, 96] | \u001b[92m     y      \u001b[0m | \u001b[92m     y      \u001b[0m | \u001b[91m     n      \u001b[0m |                0.000 |                0.000\tconcat base encoder->base decoder\n",
      "72  | dec.h_base           |     [2, 320, 96, 96] | \u001b[92m     y      \u001b[0m | \u001b[92m     y      \u001b[0m | \u001b[91m     n      \u001b[0m |                0.000 |                0.000\tapply base block\n",
      "----------------------------------------------------------------------------------------------------------------------------------------------\n",
      "73  | conv_out.h_base      |       [2, 4, 96, 96] | \u001b[92m     y      \u001b[0m | \u001b[92m     y      \u001b[0m | \u001b[91m     n      \u001b[0m |                0.000 |                0.000\tbase conv out\n"
     ]
    }
   ],
   "source": [
    "compare_intermediate_results(compare_prec=4, prec=3, skip_ctrl=True)"
   ]
  },
  {
   "cell_type": "markdown",
   "id": "cfeba0c8-1541-4a29-8590-50a3fa6d266d",
   "metadata": {},
   "source": [
    "Obeservation:\n",
    "1. No difference between local mps and local cuda\n",
    "2. No difference between local cuda and cloud cuda\n",
    "\n",
    "Conclusion:\n",
    "My implementation for of the base part is correct. Therefore the first visual output should also be the same between local mps and cloud cuda, but it is not.<br/>\n",
    "Therefore, the problem is in the pipeline, not in the denoiser model.\n",
    "\n",
    "Next:\n",
    "1. Inspect the pipeline code side by side\n",
    "2. Save the denoiser outputsa after each step and compare them.\n",
    "\n",
    "**Edit (after adding conv out):**\n",
    "There's a large difference in `conv out`!\n",
    "\n",
    "**Edit 2:** I had not included the `norm` and `silu` in `conv_out`. After adding that, the difference between local cuda and cloud cuda vanishes."
   ]
  },
  {
   "cell_type": "code",
   "execution_count": 10,
   "id": "442122ab-d87a-4891-b6c2-223e48839dc8",
   "metadata": {
    "tags": []
   },
   "outputs": [
    {
     "name": "stdout",
     "output_type": "stream",
     "text": [
      "h base after decoder:\n",
      "tensor([ 1.729,  1.362,  2.302,  0.758,  3.037,  0.908,  0.548, -0.552,  0.977,  1.700])\n",
      "tensor([ 1.729,  1.362,  2.302,  0.758,  3.037,  0.908,  0.547, -0.552,  0.977,  1.700])\n",
      "\n",
      "h base after conv out:\n",
      "tensor([ 1.290,  0.491,  0.440, -0.570,  0.976,  1.417,  1.690,  0.644,  0.392, -0.807])\n",
      "tensor([ 1.290,  0.491,  0.440, -0.570,  0.976,  1.417,  1.690,  0.644,  0.392, -0.807])\n"
     ]
    }
   ],
   "source": [
    "print('h base after decoder:')\n",
    "print(cloud_cuda[71].head)\n",
    "print(local_cuda[71].head)\n",
    "print()\n",
    "print('h base after conv out:')\n",
    "print(cloud_cuda[72].head)\n",
    "print(local_cuda[72].head)"
   ]
  },
  {
   "cell_type": "markdown",
   "id": "938370e4-57e6-48a0-800b-88b21e4fa27c",
   "metadata": {},
   "source": [
    "___"
   ]
  },
  {
   "cell_type": "markdown",
   "id": "dd4f4f29-5514-4c22-90e9-c4d731644452",
   "metadata": {},
   "source": [
    "Okay, let's now include the control model. (Note: it's output is not added back to base, as I've turned that off. Still, the computation of each ctrl block should give the same results across cloud and local.)"
   ]
  },
  {
   "cell_type": "code",
   "execution_count": 11,
   "id": "b7225e17-3886-4dac-9c06-ef2e0b623cc9",
   "metadata": {},
   "outputs": [
    {
     "name": "stdout",
     "output_type": "stream",
     "text": [
      "    | name                 | shape                | same names?  | same shapes? | same values? | Δ local mps -> cuda  | Δ cuda local -> cloud\n",
      "    |                      |                      |              |              |    prec=4    |        prec=3        |        prec=3       \n",
      "##############################################################################################################################################\n",
      "1   | prep.x               |       [2, 4, 96, 96] | \u001b[92m     y      \u001b[0m | \u001b[92m     y      \u001b[0m | \u001b[92m     y      \u001b[0m |                0.000 |                0.000\tx\n",
      "2   | prep.temb            |            [2, 1280] | \u001b[92m     y      \u001b[0m | \u001b[92m     y      \u001b[0m | \u001b[91m     n      \u001b[0m |                0.000 |                0.000\ttime info\n",
      "3   | prep.context         |        [2, 77, 2048] | \u001b[92m     y      \u001b[0m | \u001b[92m     y      \u001b[0m | \u001b[91m     n      \u001b[0m |                0.000 |                0.001\ttext info\n",
      "4   | prep.raw_hint        |     [2, 3, 768, 768] | \u001b[92m     y      \u001b[0m | \u001b[92m     y      \u001b[0m | \u001b[92m     y      \u001b[0m |                0.000 |                0.000\tguidance image\n",
      "5   | prep.guided_hint     |      [2, 32, 96, 96] | \u001b[92m     y      \u001b[0m | \u001b[92m     y      \u001b[0m | \u001b[91m     n      \u001b[0m |                0.000 |                0.000\tguidance imagen (projected)\n",
      "==============================================================================================================================================\n",
      "6   | enc.h_base           |     [2, 320, 96, 96] | \u001b[92m     y      \u001b[0m | \u001b[92m     y      \u001b[0m | \u001b[91m     n      \u001b[0m |                0.000 |                0.000\tbase conv in\n",
      "7   | enc.h_ctrl           |      [2, 32, 96, 96] | \u001b[92m     y      \u001b[0m | \u001b[92m     y      \u001b[0m | \u001b[92m     y      \u001b[0m |                0.000 |                0.000\tctrl conv in\n",
      "8   | enc.h_ctrl           |      [2, 32, 96, 96] | \u001b[92m     y      \u001b[0m | \u001b[92m     y      \u001b[0m | \u001b[91m     n      \u001b[0m |                0.000 |                0.000\tadd guided hint to ctrl\n",
      "9   | enc.h_base           |     [2, 320, 96, 96] | \u001b[92m     y      \u001b[0m | \u001b[92m     y      \u001b[0m | \u001b[91m     n      \u001b[0m |                0.000 |                0.000\tadd ctrl->base\n",
      "==============================================================================================================================================\n",
      "10  | enc.h_ctrl           |     [2, 352, 96, 96] | \u001b[92m     y      \u001b[0m | \u001b[92m     y      \u001b[0m | \u001b[91m     n      \u001b[0m |                0.000 |                0.000\tconcat base -> ctrl\n",
      "11  | enc.h_base           |     [2, 320, 96, 96] | \u001b[92m     y      \u001b[0m | \u001b[92m     y      \u001b[0m | \u001b[91m     n      \u001b[0m |                0.000 |                0.000\tapply base block\n",
      "12  | enc.h_ctrl           |      [2, 32, 96, 96] | \u001b[92m     y      \u001b[0m | \u001b[92m     y      \u001b[0m | \u001b[91m     n      \u001b[0m |                0.000 |                0.000\tapply ctrl block\n",
      "13  | enc.h_base           |     [2, 320, 96, 96] | \u001b[92m     y      \u001b[0m | \u001b[92m     y      \u001b[0m | \u001b[91m     n      \u001b[0m |                0.000 |                0.000\tadd ctrl -> base\n",
      "----------------------------------------------------------------------------------------------------------------------------------------------\n",
      "14  | enc.h_ctrl           |     [2, 352, 96, 96] | \u001b[92m     y      \u001b[0m | \u001b[92m     y      \u001b[0m | \u001b[91m     n      \u001b[0m |                0.000 |                0.000\tconcat base -> ctrl\n",
      "15  | enc.h_base           |     [2, 320, 96, 96] | \u001b[92m     y      \u001b[0m | \u001b[92m     y      \u001b[0m | \u001b[91m     n      \u001b[0m |                0.000 |                0.000\tapply base block\n",
      "16  | enc.h_ctrl           |      [2, 32, 96, 96] | \u001b[92m     y      \u001b[0m | \u001b[92m     y      \u001b[0m | \u001b[91m     n      \u001b[0m |                0.000 |                0.000\tapply ctrl block\n",
      "17  | enc.h_base           |     [2, 320, 96, 96] | \u001b[92m     y      \u001b[0m | \u001b[92m     y      \u001b[0m | \u001b[91m     n      \u001b[0m |                0.000 |                0.000\tadd ctrl -> base\n",
      "----------------------------------------------------------------------------------------------------------------------------------------------\n",
      "18  | enc.h_ctrl           |     [2, 352, 96, 96] | \u001b[92m     y      \u001b[0m | \u001b[92m     y      \u001b[0m | \u001b[91m     n      \u001b[0m |                0.000 |                0.000\tconcat base -> ctrl\n",
      "19  | enc.h_base           |     [2, 320, 48, 48] | \u001b[92m     y      \u001b[0m | \u001b[92m     y      \u001b[0m | \u001b[91m     n      \u001b[0m |                0.000 |                0.000\tapply base block\n",
      "20  | enc.h_ctrl           |      [2, 32, 48, 48] | \u001b[92m     y      \u001b[0m | \u001b[92m     y      \u001b[0m | \u001b[91m     n      \u001b[0m |                0.000 |                0.000\tapply ctrl block\n",
      "21  | enc.h_base           |     [2, 320, 48, 48] | \u001b[92m     y      \u001b[0m | \u001b[92m     y      \u001b[0m | \u001b[91m     n      \u001b[0m |                0.000 |                0.000\tadd ctrl -> base\n",
      "----------------------------------------------------------------------------------------------------------------------------------------------\n",
      "22  | enc.h_ctrl           |     [2, 352, 48, 48] | \u001b[92m     y      \u001b[0m | \u001b[92m     y      \u001b[0m | \u001b[91m     n      \u001b[0m |                0.000 |                0.000\tconcat base -> ctrl\n",
      "23  | enc.h_base           |     [2, 640, 48, 48] | \u001b[92m     y      \u001b[0m | \u001b[92m     y      \u001b[0m | \u001b[91m     n      \u001b[0m |                0.000 |                0.000\tapply base block\n",
      "24  | enc.h_ctrl           |      [2, 64, 48, 48] | \u001b[92m     y      \u001b[0m | \u001b[92m     y      \u001b[0m | \u001b[91m     n      \u001b[0m |                0.000 |                0.163\tapply ctrl block\n",
      "25  | enc.h_base           |     [2, 640, 48, 48] | \u001b[92m     y      \u001b[0m | \u001b[92m     y      \u001b[0m | \u001b[91m     n      \u001b[0m |                0.000 |                0.000\tadd ctrl -> base\n",
      "----------------------------------------------------------------------------------------------------------------------------------------------\n",
      "26  | enc.h_ctrl           |     [2, 704, 48, 48] | \u001b[92m     y      \u001b[0m | \u001b[92m     y      \u001b[0m | \u001b[91m     n      \u001b[0m |                0.000 |                0.015\tconcat base -> ctrl\n",
      "27  | enc.h_base           |     [2, 640, 48, 48] | \u001b[92m     y      \u001b[0m | \u001b[92m     y      \u001b[0m | \u001b[91m     n      \u001b[0m |                0.000 |                0.000\tapply base block\n",
      "28  | enc.h_ctrl           |      [2, 64, 48, 48] | \u001b[92m     y      \u001b[0m | \u001b[92m     y      \u001b[0m | \u001b[91m     n      \u001b[0m |                0.000 |                0.077\tapply ctrl block\n",
      "29  | enc.h_base           |     [2, 640, 48, 48] | \u001b[92m     y      \u001b[0m | \u001b[92m     y      \u001b[0m | \u001b[91m     n      \u001b[0m |                0.000 |                0.000\tadd ctrl -> base\n",
      "----------------------------------------------------------------------------------------------------------------------------------------------\n",
      "30  | enc.h_ctrl           |     [2, 704, 48, 48] | \u001b[92m     y      \u001b[0m | \u001b[92m     y      \u001b[0m | \u001b[91m     n      \u001b[0m |                0.000 |                0.007\tconcat base -> ctrl\n",
      "31  | enc.h_base           |     [2, 640, 24, 24] | \u001b[92m     y      \u001b[0m | \u001b[92m     y      \u001b[0m | \u001b[91m     n      \u001b[0m |                0.000 |                0.000\tapply base block\n",
      "32  | enc.h_ctrl           |      [2, 64, 24, 24] | \u001b[92m     y      \u001b[0m | \u001b[92m     y      \u001b[0m | \u001b[91m     n      \u001b[0m |                0.001 |                0.083\tapply ctrl block\n",
      "33  | enc.h_base           |     [2, 640, 24, 24] | \u001b[92m     y      \u001b[0m | \u001b[92m     y      \u001b[0m | \u001b[91m     n      \u001b[0m |                0.000 |                0.000\tadd ctrl -> base\n",
      "----------------------------------------------------------------------------------------------------------------------------------------------\n",
      "34  | enc.h_ctrl           |     [2, 704, 24, 24] | \u001b[92m     y      \u001b[0m | \u001b[92m     y      \u001b[0m | \u001b[91m     n      \u001b[0m |                0.000 |                0.008\tconcat base -> ctrl\n",
      "35  | enc.h_base           |    [2, 1280, 24, 24] | \u001b[92m     y      \u001b[0m | \u001b[92m     y      \u001b[0m | \u001b[91m     n      \u001b[0m |                0.000 |                0.000\tapply base block\n",
      "36  | enc.h_ctrl           |     [2, 128, 24, 24] | \u001b[92m     y      \u001b[0m | \u001b[92m     y      \u001b[0m | \u001b[91m     n      \u001b[0m |                0.002 |                0.858\tapply ctrl block\n",
      "37  | enc.h_base           |    [2, 1280, 24, 24] | \u001b[92m     y      \u001b[0m | \u001b[92m     y      \u001b[0m | \u001b[91m     n      \u001b[0m |                0.000 |                0.000\tadd ctrl -> base\n",
      "----------------------------------------------------------------------------------------------------------------------------------------------\n",
      "38  | enc.h_ctrl           |    [2, 1408, 24, 24] | \u001b[92m     y      \u001b[0m | \u001b[92m     y      \u001b[0m | \u001b[91m     n      \u001b[0m |                0.001 |                0.078\tconcat base -> ctrl\n",
      "39  | enc.h_base           |    [2, 1280, 24, 24] | \u001b[92m     y      \u001b[0m | \u001b[92m     y      \u001b[0m | \u001b[91m     n      \u001b[0m |                0.001 |                0.001\tapply base block\n",
      "40  | enc.h_ctrl           |     [2, 128, 24, 24] | \u001b[92m     y      \u001b[0m | \u001b[92m     y      \u001b[0m | \u001b[91m     n      \u001b[0m |                0.005 |                1.535\tapply ctrl block\n",
      "41  | enc.h_base           |    [2, 1280, 24, 24] | \u001b[92m     y      \u001b[0m | \u001b[92m     y      \u001b[0m | \u001b[91m     n      \u001b[0m |                0.001 |                0.001\tadd ctrl -> base\n",
      "==============================================================================================================================================\n",
      "42  | enc.h_ctrl           |    [2, 1408, 24, 24] | \u001b[92m     y      \u001b[0m | \u001b[92m     y      \u001b[0m | \u001b[91m     n      \u001b[0m |                0.001 |                3.269\tconcat base -> ctrl\n",
      "43  | mid.h_base           |    [2, 1280, 24, 24] | \u001b[92m     y      \u001b[0m | \u001b[92m     y      \u001b[0m | \u001b[91m     n      \u001b[0m |                0.001 |                0.002\tapply base block\n",
      "44  | mid.h_ctrl           |     [2, 128, 24, 24] | \u001b[92m     y      \u001b[0m | \u001b[92m     y      \u001b[0m | \u001b[91m     n      \u001b[0m |                0.008 |                8.058\tapply ctrl block\n",
      "45  | mid.h_base           |    [2, 1280, 24, 24] | \u001b[92m     y      \u001b[0m | \u001b[92m     y      \u001b[0m | \u001b[91m     n      \u001b[0m |                0.001 |                0.002\tadd ctrl->base\n",
      "==============================================================================================================================================\n",
      "46  | dec.h_base           |    [2, 1280, 24, 24] | \u001b[92m     y      \u001b[0m | \u001b[92m     y      \u001b[0m | \u001b[91m     n      \u001b[0m |                0.001 |                0.002\tadd ctrl encoder->base decoder\n",
      "47  | dec.h_base           |    [2, 2560, 24, 24] | \u001b[92m     y      \u001b[0m | \u001b[92m     y      \u001b[0m | \u001b[91m     n      \u001b[0m |                0.001 |                0.001\tconcat base encoder->base decoder\n",
      "48  | dec.h_base           |    [2, 1280, 24, 24] | \u001b[92m     y      \u001b[0m | \u001b[92m     y      \u001b[0m | \u001b[91m     n      \u001b[0m |                0.001 |                0.003\tapply base block\n",
      "----------------------------------------------------------------------------------------------------------------------------------------------\n",
      "49  | dec.h_base           |    [2, 1280, 24, 24] | \u001b[92m     y      \u001b[0m | \u001b[92m     y      \u001b[0m | \u001b[91m     n      \u001b[0m |                0.001 |                0.003\tadd ctrl encoder->base decoder\n",
      "50  | dec.h_base           |    [2, 2560, 24, 24] | \u001b[92m     y      \u001b[0m | \u001b[92m     y      \u001b[0m | \u001b[91m     n      \u001b[0m |                0.001 |                0.001\tconcat base encoder->base decoder\n",
      "51  | dec.h_base           |    [2, 1280, 24, 24] | \u001b[92m     y      \u001b[0m | \u001b[92m     y      \u001b[0m | \u001b[91m     n      \u001b[0m |                0.001 |                0.002\tapply base block\n",
      "----------------------------------------------------------------------------------------------------------------------------------------------\n",
      "52  | dec.h_base           |    [2, 1280, 24, 24] | \u001b[92m     y      \u001b[0m | \u001b[92m     y      \u001b[0m | \u001b[91m     n      \u001b[0m |                0.001 |                0.002\tadd ctrl encoder->base decoder\n",
      "53  | dec.h_base           |    [2, 1920, 24, 24] | \u001b[92m     y      \u001b[0m | \u001b[92m     y      \u001b[0m | \u001b[91m     n      \u001b[0m |                0.001 |                0.001\tconcat base encoder->base decoder\n",
      "54  | dec.h_base           |    [2, 1280, 48, 48] | \u001b[92m     y      \u001b[0m | \u001b[92m     y      \u001b[0m | \u001b[91m     n      \u001b[0m |                0.001 |                0.002\tapply base block\n",
      "----------------------------------------------------------------------------------------------------------------------------------------------\n",
      "55  | dec.h_base           |    [2, 1280, 48, 48] | \u001b[92m     y      \u001b[0m | \u001b[92m     y      \u001b[0m | \u001b[91m     n      \u001b[0m |                0.001 |                0.002\tadd ctrl encoder->base decoder\n",
      "56  | dec.h_base           |    [2, 1920, 48, 48] | \u001b[92m     y      \u001b[0m | \u001b[92m     y      \u001b[0m | \u001b[91m     n      \u001b[0m |                0.001 |                0.002\tconcat base encoder->base decoder\n",
      "57  | dec.h_base           |     [2, 640, 48, 48] | \u001b[92m     y      \u001b[0m | \u001b[92m     y      \u001b[0m | \u001b[91m     n      \u001b[0m |                0.001 |                0.001\tapply base block\n",
      "----------------------------------------------------------------------------------------------------------------------------------------------\n",
      "58  | dec.h_base           |     [2, 640, 48, 48] | \u001b[92m     y      \u001b[0m | \u001b[92m     y      \u001b[0m | \u001b[91m     n      \u001b[0m |                0.001 |                0.001\tadd ctrl encoder->base decoder\n",
      "59  | dec.h_base           |    [2, 1280, 48, 48] | \u001b[92m     y      \u001b[0m | \u001b[92m     y      \u001b[0m | \u001b[91m     n      \u001b[0m |                0.000 |                0.001\tconcat base encoder->base decoder\n",
      "60  | dec.h_base           |     [2, 640, 48, 48] | \u001b[92m     y      \u001b[0m | \u001b[92m     y      \u001b[0m | \u001b[91m     n      \u001b[0m |                0.000 |                0.000\tapply base block\n",
      "----------------------------------------------------------------------------------------------------------------------------------------------\n",
      "61  | dec.h_base           |     [2, 640, 48, 48] | \u001b[92m     y      \u001b[0m | \u001b[92m     y      \u001b[0m | \u001b[91m     n      \u001b[0m |                0.000 |                0.000\tadd ctrl encoder->base decoder\n",
      "62  | dec.h_base           |     [2, 960, 48, 48] | \u001b[92m     y      \u001b[0m | \u001b[92m     y      \u001b[0m | \u001b[91m     n      \u001b[0m |                0.000 |                0.000\tconcat base encoder->base decoder\n",
      "63  | dec.h_base           |     [2, 640, 96, 96] | \u001b[92m     y      \u001b[0m | \u001b[92m     y      \u001b[0m | \u001b[91m     n      \u001b[0m |                0.000 |                0.000\tapply base block\n",
      "----------------------------------------------------------------------------------------------------------------------------------------------\n",
      "64  | dec.h_base           |     [2, 640, 96, 96] | \u001b[92m     y      \u001b[0m | \u001b[92m     y      \u001b[0m | \u001b[91m     n      \u001b[0m |                0.000 |                0.000\tadd ctrl encoder->base decoder\n",
      "65  | dec.h_base           |     [2, 960, 96, 96] | \u001b[92m     y      \u001b[0m | \u001b[92m     y      \u001b[0m | \u001b[91m     n      \u001b[0m |                0.000 |                0.000\tconcat base encoder->base decoder\n",
      "66  | dec.h_base           |     [2, 320, 96, 96] | \u001b[92m     y      \u001b[0m | \u001b[92m     y      \u001b[0m | \u001b[91m     n      \u001b[0m |                0.000 |                0.000\tapply base block\n",
      "----------------------------------------------------------------------------------------------------------------------------------------------\n",
      "67  | dec.h_base           |     [2, 320, 96, 96] | \u001b[92m     y      \u001b[0m | \u001b[92m     y      \u001b[0m | \u001b[91m     n      \u001b[0m |                0.000 |                0.000\tadd ctrl encoder->base decoder\n",
      "68  | dec.h_base           |     [2, 640, 96, 96] | \u001b[92m     y      \u001b[0m | \u001b[92m     y      \u001b[0m | \u001b[91m     n      \u001b[0m |                0.000 |                0.000\tconcat base encoder->base decoder\n",
      "69  | dec.h_base           |     [2, 320, 96, 96] | \u001b[92m     y      \u001b[0m | \u001b[92m     y      \u001b[0m | \u001b[91m     n      \u001b[0m |                0.000 |                0.000\tapply base block\n",
      "----------------------------------------------------------------------------------------------------------------------------------------------\n",
      "70  | dec.h_base           |     [2, 320, 96, 96] | \u001b[92m     y      \u001b[0m | \u001b[92m     y      \u001b[0m | \u001b[91m     n      \u001b[0m |                0.000 |                0.000\tadd ctrl encoder->base decoder\n",
      "71  | dec.h_base           |     [2, 640, 96, 96] | \u001b[92m     y      \u001b[0m | \u001b[92m     y      \u001b[0m | \u001b[91m     n      \u001b[0m |                0.000 |                0.000\tconcat base encoder->base decoder\n",
      "72  | dec.h_base           |     [2, 320, 96, 96] | \u001b[92m     y      \u001b[0m | \u001b[92m     y      \u001b[0m | \u001b[91m     n      \u001b[0m |                0.000 |                0.000\tapply base block\n",
      "----------------------------------------------------------------------------------------------------------------------------------------------\n",
      "73  | conv_out.h_base      |       [2, 4, 96, 96] | \u001b[92m     y      \u001b[0m | \u001b[92m     y      \u001b[0m | \u001b[91m     n      \u001b[0m |                0.000 |                0.000\tbase conv out\n"
     ]
    }
   ],
   "source": [
    "compare_intermediate_results(compare_prec=4, prec=3, skip_ctrl=False)"
   ]
  },
  {
   "cell_type": "markdown",
   "id": "a82b1cf1-3b8a-4b0e-bee0-1a5c689c1aef",
   "metadata": {
    "tags": []
   },
   "source": [
    "Observation: The application of control blocks seems to produce errors"
   ]
  },
  {
   "cell_type": "code",
   "execution_count": null,
   "id": "1ec873e7-56c9-4a37-8979-c567030e0e5e",
   "metadata": {},
   "outputs": [],
   "source": []
  }
 ],
 "metadata": {
  "kernelspec": {
   "display_name": "Python 3 (ipykernel)",
   "language": "python",
   "name": "python3"
  },
  "language_info": {
   "codemirror_mode": {
    "name": "ipython",
    "version": 3
   },
   "file_extension": ".py",
   "mimetype": "text/x-python",
   "name": "python",
   "nbconvert_exporter": "python",
   "pygments_lexer": "ipython3",
   "version": "3.10.13"
  }
 },
 "nbformat": 4,
 "nbformat_minor": 5
}
