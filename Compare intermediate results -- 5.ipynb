{
 "cells": [
  {
   "cell_type": "markdown",
   "id": "30794abe-5ec0-4ecd-90c5-5ef222fc2e48",
   "metadata": {},
   "source": [
    "Let's analyze why the error after the ctrl->base concat in the 1st down block is large (0.05637)"
   ]
  },
  {
   "cell_type": "code",
   "execution_count": 1,
   "id": "2fa846a7-09c0-472e-b00b-53e1946eb913",
   "metadata": {},
   "outputs": [],
   "source": [
    "import torch\n",
    "from torch.testing import assert_close\n",
    "from torch import allclose, nn, tensor\n",
    "torch.set_printoptions(linewidth=200)"
   ]
  },
  {
   "cell_type": "code",
   "execution_count": 2,
   "id": "18ae4f5a-d7eb-4471-be6f-cae1f309ed92",
   "metadata": {},
   "outputs": [],
   "source": [
    "device = 'cuda' if torch.cuda.is_available() else 'mps'\n",
    "device_dtype = torch.float16 if device == 'cuda' else torch.float32"
   ]
  },
  {
   "cell_type": "markdown",
   "id": "c739024d-d8ee-4aee-882c-9c5388ff6057",
   "metadata": {},
   "source": [
    "## Load the model"
   ]
  },
  {
   "cell_type": "code",
   "execution_count": 3,
   "id": "c565cf82-1eaa-4e68-8d35-a6459ee60097",
   "metadata": {
    "tags": []
   },
   "outputs": [],
   "source": [
    "from diffusers import StableDiffusionXLPipeline\n",
    "from diffusers import EulerDiscreteScheduler\n",
    "from diffusers.models.controlnetxs import ControlNetXSModel\n",
    "from diffusers.pipelines.controlnet_xs.pipeline_controlnet_xs_sd_xl import StableDiffusionXLControlNetXSPipeline"
   ]
  },
  {
   "cell_type": "code",
   "execution_count": 4,
   "id": "e0b304d6-cb41-49f5-849d-3e955da3e5e6",
   "metadata": {
    "tags": []
   },
   "outputs": [],
   "source": [
    "sdxl_pipe = StableDiffusionXLPipeline.from_single_file('weights/sdxl/sd_xl_base_1.0_0.9vae.safetensors').to(device)\n",
    "cnxs = ControlNetXSModel.from_pretrained('weights/cnxs').to(device)"
   ]
  },
  {
   "cell_type": "code",
   "execution_count": 5,
   "id": "1af1ff7f-cb94-448b-9988-6a309b56cd9e",
   "metadata": {},
   "outputs": [],
   "source": [
    "cnxs.base_model = sdxl_pipe.unet"
   ]
  },
  {
   "cell_type": "markdown",
   "id": "0b7758a1-6260-4d2c-a874-b63271eb9b61",
   "metadata": {},
   "source": [
    "The example script of Heidelberg manually sets scale_list to 0.95"
   ]
  },
  {
   "cell_type": "code",
   "execution_count": 6,
   "id": "1b7f0107-b0ff-4989-aabf-533638fb7eb8",
   "metadata": {},
   "outputs": [],
   "source": [
    "cnxs.scale_list = cnxs.scale_list * 0. + 0.95\n",
    "assert cnxs.scale_list[0] == .95"
   ]
  },
  {
   "cell_type": "markdown",
   "id": "e9b95d9c-ac7a-42d3-82cf-4eef25a591ae",
   "metadata": {},
   "source": [
    "Heidelberg uses `timestep_spacing = 'linspace'` in their scheduler, so let's do that as well"
   ]
  },
  {
   "cell_type": "code",
   "execution_count": 7,
   "id": "ca82d739-fb30-429a-a902-3e711428ffa5",
   "metadata": {},
   "outputs": [
    {
     "name": "stdout",
     "output_type": "stream",
     "text": [
      "timestep_spacing = \"leading\" and timesteps=[999.      978.61224 958.2245  937.83673 917.449  ] ...\n",
      "sigmas before interpolation: [0.02916753 0.04131448 0.05068044 0.05861427 0.06563709] ...\n",
      "sigmas after (linear) interpolation: [14.61464691 12.93677721 11.49164976 10.24291444  9.16035419] ...\n",
      "At end of `set_timesteps`:\n",
      "sigmas =  tensor([14.6146, 12.9368, 11.4916, 10.2429,  9.1604]) ...\n",
      "timesteps = tensor([999.0000, 978.6122, 958.2245, 937.8367, 917.4490]) ...\n"
     ]
    }
   ],
   "source": [
    "scheduler_cgf = dict(sdxl_pipe.scheduler.config)\n",
    "scheduler_cgf['timestep_spacing'] = 'linspace'\n",
    "sdxl_pipe.scheduler = EulerDiscreteScheduler.from_config(scheduler_cgf)\n",
    "\n",
    "# test it worked\n",
    "sdxl_pipe.scheduler.set_timesteps(50)\n",
    "assert sdxl_pipe.scheduler.timesteps[0]==999\n",
    "\n",
    "# reset\n",
    "sdxl_pipe.scheduler = EulerDiscreteScheduler.from_config(scheduler_cgf)"
   ]
  },
  {
   "cell_type": "code",
   "execution_count": 8,
   "id": "a120b84b-1126-4d6c-b08e-8114b5761c25",
   "metadata": {},
   "outputs": [],
   "source": [
    "cnxs_pipe = StableDiffusionXLControlNetXSPipeline(\n",
    "    vae=sdxl_pipe.vae,\n",
    "    text_encoder=sdxl_pipe.text_encoder,\n",
    "    text_encoder_2=sdxl_pipe.text_encoder_2,\n",
    "    tokenizer=sdxl_pipe.tokenizer,\n",
    "    tokenizer_2=sdxl_pipe.tokenizer_2,\n",
    "    unet=sdxl_pipe.unet,\n",
    "    controlnet=cnxs,\n",
    "    scheduler=sdxl_pipe.scheduler,\n",
    ")"
   ]
  },
  {
   "cell_type": "markdown",
   "id": "994cd8cf-1682-47e5-a7ff-4ccb3095ad61",
   "metadata": {},
   "source": [
    "___"
   ]
  },
  {
   "cell_type": "markdown",
   "id": "8716be49-ec49-405e-ab61-a7eb54abdc7b",
   "metadata": {},
   "source": [
    "## Load intermediate outputs of 1st encoder block"
   ]
  },
  {
   "cell_type": "markdown",
   "id": "d813439d-16c1-46d4-805b-8d70aa5fbdae",
   "metadata": {},
   "source": [
    "These are the first 10 values for each step in cloud / local:\n",
    "\n",
    "Cloud:\n",
    "```\n",
    "A1] [ 0.1755,  0.1357, -0.3653,  0.4109, -0.2517,  0.6668, -0.6832,  0.1072, -0.3240,  0.2146]\n",
    "A2] [-0.0148, -0.3285, -0.0927,  0.0223,  0.0955, -0.2987,  0.0223,  0.0760, -0.0549, -0.7091]\n",
    "A3] [ 0.1755,  0.1357, -0.3653,  0.4109, -0.2517,  0.6668, -0.6832,  0.1072, -0.3240,  0.2146]\n",
    "B1] [ 0.3036,  0.2349,  0.2122,  0.2231,  0.4925,  0.0092,  0.3026,  0.3293,  0.0227, -0.1436]\n",
    "C1] [-0.5792, -0.3964, -0.1935, -0.6617, -0.0559, -0.1097, -0.4058,  0.0838, -0.6492, -1.1216]\n",
    "D1] [0.0524, 0.0221, 0.0505, 0.0232, 0.0388, 0.0288, 0.0665, 0.0229, 0.0460, 0.0424]\n",
    "D2] [0.9500]\n",
    "D3] [ 0.3533,  0.2559,  0.2602,  0.2452,  0.5294,  0.0366,  0.3658,  0.3511,  0.0664, -0.1034]\n",
    "```\n",
    "\n",
    "Local:\n",
    "```\n",
    "A1] [ 0.1755,  0.1357, -0.3653,  0.4109, -0.2517,  0.6668, -0.6832,  0.1072, -0.3240,  0.2147]\n",
    "A2] [-0.0147, -0.3285, -0.0927,  0.0223,  0.0955, -0.2987,  0.0222,  0.0760, -0.0548, -0.7091]\n",
    "A3] [ 0.1755,  0.1357, -0.3653,  0.4109, -0.2517,  0.6668, -0.6832,  0.1072, -0.3240,  0.2147]\n",
    "B1] [ 0.3032,  0.2355,  0.2123,  0.2237,  0.4928,  0.0095,  0.3033,  0.3297,  0.0226, -0.1435]\n",
    "C1] [-0.5794, -0.3963, -0.1934, -0.6616, -0.0560, -0.1097, -0.4058,  0.0836, -0.6489, -1.1214]\n",
    "D1] [0., 0., 0., 0., 0., 0., 0., 0., 0., 0.]\n",
    "D2] [0.9500]\n",
    "D3] [ 0.3032,  0.2355,  0.2123,  0.2237,  0.4928,  0.0095,  0.3033,  0.3297,  0.0226, -0.1435]\n",
    "```"
   ]
  },
  {
   "cell_type": "markdown",
   "id": "a4f47265-f16b-46e8-ae40-f99811a291f3",
   "metadata": {},
   "source": [
    "D1 is wrong in local! D1 is `add_to_base` which is `next(it_enc_convs_out)(h_ctrl)`"
   ]
  },
  {
   "cell_type": "markdown",
   "id": "6987993c-580f-425a-93c0-61f74dbb274c",
   "metadata": {},
   "source": [
    "This is the 2nd `enc_convs_out` (the 1st is used in the `conv in` part). So let's look at it."
   ]
  },
  {
   "cell_type": "code",
   "execution_count": 11,
   "id": "631a15f5-4cf4-476f-a750-8da5b43221f5",
   "metadata": {},
   "outputs": [],
   "source": [
    "# suspicious connection\n",
    "sus_connection = cnxs.enc_zero_convs_out[1]"
   ]
  },
  {
   "cell_type": "code",
   "execution_count": 12,
   "id": "294c18a1-6359-405d-9ecc-d3c19c3f4770",
   "metadata": {},
   "outputs": [
    {
     "data": {
      "text/plain": [
       "Conv2d(32, 320, kernel_size=(1, 1), stride=(1, 1))"
      ]
     },
     "execution_count": 12,
     "metadata": {},
     "output_type": "execute_result"
    }
   ],
   "source": [
    "sus_connection"
   ]
  },
  {
   "cell_type": "code",
   "execution_count": 19,
   "id": "33107e14-5b17-4ce1-9915-f19c0b8f9f48",
   "metadata": {},
   "outputs": [
    {
     "data": {
      "text/plain": [
       "(torch.Size([10240]), 10240)"
      ]
     },
     "execution_count": 19,
     "metadata": {},
     "output_type": "execute_result"
    }
   ],
   "source": [
    "sus_connection.weight.flatten().shape,320*32"
   ]
  },
  {
   "cell_type": "code",
   "execution_count": 22,
   "id": "90e03d8e-0ca3-492b-8f74-4bf3d87c702a",
   "metadata": {},
   "outputs": [
    {
     "data": {
      "text/plain": [
       "tensor(0., device='mps:0', grad_fn=<SumBackward0>)"
      ]
     },
     "execution_count": 22,
     "metadata": {},
     "output_type": "execute_result"
    }
   ],
   "source": [
    "sus_connection.weight.flatten().abs().sum()"
   ]
  },
  {
   "cell_type": "markdown",
   "id": "0de4a32c-8752-4cb1-a206-ede88a832a19",
   "metadata": {},
   "source": [
    "The connection is empty!"
   ]
  },
  {
   "cell_type": "markdown",
   "id": "883c52c9-7930-4683-8980-30a7a7fbbb81",
   "metadata": {},
   "source": [
    "**Q:** Are all connections from ctrl to base empty?"
   ]
  },
  {
   "cell_type": "code",
   "execution_count": 23,
   "id": "e09a76a9-4c6c-4005-a622-f7df8856ac4f",
   "metadata": {},
   "outputs": [],
   "source": [
    "def is_empty(t): return t.weight.flatten().abs().sum()==0"
   ]
  },
  {
   "cell_type": "code",
   "execution_count": 26,
   "id": "13dde041-f49a-4b17-bbe6-411c75fc3fd1",
   "metadata": {},
   "outputs": [
    {
     "name": "stdout",
     "output_type": "stream",
     "text": [
      "In encoder, is out connection 0 empty? False\n",
      "In encoder, is out connection 1 empty? True\n",
      "In encoder, is out connection 2 empty? True\n",
      "In encoder, is out connection 3 empty? True\n",
      "In encoder, is out connection 4 empty? True\n",
      "In encoder, is out connection 5 empty? True\n",
      "In encoder, is out connection 6 empty? True\n",
      "In encoder, is out connection 7 empty? True\n",
      "In encoder, is out connection 8 empty? True\n"
     ]
    }
   ],
   "source": [
    "for i, out_con in enumerate(cnxs.enc_zero_convs_out):\n",
    "    print(f'In encoder, is out connection {i} empty? {is_empty(out_con)}')"
   ]
  },
  {
   "cell_type": "code",
   "execution_count": 27,
   "id": "925ceb61-2941-4604-9cb1-4453e86acbeb",
   "metadata": {},
   "outputs": [
    {
     "name": "stdout",
     "output_type": "stream",
     "text": [
      "In encoder, is in connection 0 empty? False\n",
      "In encoder, is in connection 1 empty? True\n",
      "In encoder, is in connection 2 empty? True\n",
      "In encoder, is in connection 3 empty? True\n",
      "In encoder, is in connection 4 empty? True\n",
      "In encoder, is in connection 5 empty? True\n",
      "In encoder, is in connection 6 empty? True\n",
      "In encoder, is in connection 7 empty? True\n",
      "In encoder, is in connection 8 empty? True\n"
     ]
    }
   ],
   "source": [
    "for i, in_con in enumerate(cnxs.enc_zero_convs_in):\n",
    "    print(f'In encoder, is in connection {i} empty? {is_empty(in_con)}')"
   ]
  },
  {
   "cell_type": "code",
   "execution_count": 28,
   "id": "8ba99b3f-a5aa-449f-85bf-115a066ae9fe",
   "metadata": {},
   "outputs": [
    {
     "name": "stdout",
     "output_type": "stream",
     "text": [
      "In decoder, is out connection 0 empty? False\n",
      "In decoder, is out connection 1 empty? True\n",
      "In decoder, is out connection 2 empty? True\n",
      "In decoder, is out connection 3 empty? True\n",
      "In decoder, is out connection 4 empty? True\n",
      "In decoder, is out connection 5 empty? True\n",
      "In decoder, is out connection 6 empty? True\n",
      "In decoder, is out connection 7 empty? True\n",
      "In decoder, is out connection 8 empty? True\n"
     ]
    }
   ],
   "source": [
    "for i, out_con in enumerate(cnxs.dec_zero_convs_out):\n",
    "    print(f'In decoder, is out connection {i} empty? {is_empty(out_con)}')"
   ]
  },
  {
   "cell_type": "code",
   "execution_count": 29,
   "id": "0b07d4c0-2901-41f8-bcfb-5ff639c101cd",
   "metadata": {},
   "outputs": [],
   "source": [
    "for i, in_con in enumerate(cnxs.dec_zero_convs_in):\n",
    "    print(f'In decoder, is in connection {i} empty? {is_empty(in_con)}')"
   ]
  },
  {
   "cell_type": "markdown",
   "id": "d0a91a4f-2d61-4284-89b6-5c3658e44f91",
   "metadata": {},
   "source": [
    "There are none, which is as expected"
   ]
  },
  {
   "cell_type": "markdown",
   "id": "69266f77-1e03-4b71-81b0-6452ebc4fe52",
   "metadata": {},
   "source": [
    "**I seem to have a bug in loading the Heidelberg weights into the diffusers format.** I seem to only save the 1st connections of each type (encoder/decoder x in/out)."
   ]
  },
  {
   "cell_type": "markdown",
   "id": "f7a65a0f-03ae-4f9f-9fbc-3100b311b088",
   "metadata": {},
   "source": [
    "Let's **check** if the connection weights are non-empty in the **Heidelberg weights** I used"
   ]
  },
  {
   "cell_type": "code",
   "execution_count": 31,
   "id": "6ac019a9-0893-4d03-ac3f-efc7db52542e",
   "metadata": {},
   "outputs": [],
   "source": [
    "from safetensors import safe_open"
   ]
  },
  {
   "cell_type": "code",
   "execution_count": 32,
   "id": "feb14ec4-f28b-4c9d-b9a0-d65569909913",
   "metadata": {},
   "outputs": [],
   "source": [
    "file = '../../../../.hf-cache/CVL-Heidelberg/sdxl_encD_canny_48m.safetensors'"
   ]
  },
  {
   "cell_type": "code",
   "execution_count": 33,
   "id": "a63645c3-1a72-4a77-87d9-7e8d9a85ec9f",
   "metadata": {},
   "outputs": [],
   "source": [
    "weights_tensors = {}\n",
    "with safe_open(file, framework='pt', device='cpu') as f:\n",
    "   for key in f.keys():\n",
    "       weights_tensors[key] = f.get_tensor(key)"
   ]
  },
  {
   "cell_type": "code",
   "execution_count": 35,
   "id": "a239ba62-17cc-4f7c-b551-e0238cc742dc",
   "metadata": {},
   "outputs": [],
   "source": [
    "from util import print_as_nested_dict"
   ]
  },
  {
   "cell_type": "code",
   "execution_count": 41,
   "id": "ab078222-ddb3-4abe-8d7f-0e16f8309f39",
   "metadata": {},
   "outputs": [
    {
     "name": "stdout",
     "output_type": "stream",
     "text": [
      "enc_zero_convs_in\n",
      "        0\n",
      "                0\t[320, 320, 1, 1]\n",
      "        1\n",
      "                0\t[320, 320, 1, 1]\n",
      "        2\n",
      "                0\t[320, 320, 1, 1]\n",
      "        3\n",
      "                0\t[320, 320, 1, 1]\n",
      "        4\n",
      "                0\t[640, 640, 1, 1]\n",
      "        5\n",
      "                0\t[640, 640, 1, 1]\n",
      "        6\n",
      "                0\t[640, 640, 1, 1]\n",
      "        7\n",
      "                0\t[1280, 1280, 1, 1]\n",
      "        8\n",
      "                0\t[1280, 1280, 1, 1]\n"
     ]
    }
   ],
   "source": [
    "print_as_nested_dict(weights_tensors, contains='enc_zero_convs_in', lv=3, print_leaf=True)"
   ]
  },
  {
   "cell_type": "code",
   "execution_count": 51,
   "id": "ffea556b-2ed2-4543-954c-b26e6a59a6b7",
   "metadata": {},
   "outputs": [
    {
     "name": "stdout",
     "output_type": "stream",
     "text": [
      "In enc_zero_convs_in, is out connection 0 empty? False\n",
      "In enc_zero_convs_in, is out connection 1 empty? False\n",
      "In enc_zero_convs_in, is out connection 2 empty? False\n",
      "In enc_zero_convs_in, is out connection 3 empty? False\n",
      "In enc_zero_convs_in, is out connection 4 empty? False\n",
      "In enc_zero_convs_in, is out connection 5 empty? False\n",
      "In enc_zero_convs_in, is out connection 6 empty? False\n",
      "In enc_zero_convs_in, is out connection 7 empty? False\n",
      "In enc_zero_convs_in, is out connection 8 empty? False\n",
      "---\n",
      "In enc_zero_convs_out, is out connection 0 empty? False\n",
      "In enc_zero_convs_out, is out connection 1 empty? False\n",
      "In enc_zero_convs_out, is out connection 2 empty? False\n",
      "In enc_zero_convs_out, is out connection 3 empty? False\n",
      "In enc_zero_convs_out, is out connection 4 empty? False\n",
      "In enc_zero_convs_out, is out connection 5 empty? False\n",
      "In enc_zero_convs_out, is out connection 6 empty? False\n",
      "In enc_zero_convs_out, is out connection 7 empty? False\n",
      "In enc_zero_convs_out, is out connection 8 empty? False\n",
      "---\n",
      "In dec_zero_convs_out, is out connection 0 empty? False\n",
      "In dec_zero_convs_out, is out connection 1 empty? False\n",
      "In dec_zero_convs_out, is out connection 2 empty? False\n",
      "In dec_zero_convs_out, is out connection 3 empty? False\n",
      "In dec_zero_convs_out, is out connection 4 empty? False\n",
      "In dec_zero_convs_out, is out connection 5 empty? False\n",
      "In dec_zero_convs_out, is out connection 6 empty? False\n",
      "In dec_zero_convs_out, is out connection 7 empty? False\n",
      "In dec_zero_convs_out, is out connection 8 empty? False\n",
      "---\n"
     ]
    }
   ],
   "source": [
    "def is_empty(t):\n",
    "    if hasattr(t,'weight'): t=t.weight\n",
    "    return t.flatten().abs().sum()==0\n",
    "\n",
    "for conv_group in ('enc_zero_convs_in','enc_zero_convs_out','dec_zero_convs_out'):\n",
    "    for i in range(9):\n",
    "        con = weights_tensors[f'{conv_group}.{i}.0.weight']\n",
    "        print(f'In {conv_group}, is out connection {i} empty? {is_empty(con)}')\n",
    "    print('---')"
   ]
  },
  {
   "cell_type": "markdown",
   "id": "8650671c-e73c-4d49-8eda-70af5073209d",
   "metadata": {},
   "source": [
    "Nope, as expected, they're non-empty"
   ]
  },
  {
   "cell_type": "markdown",
   "id": "306b0f09-85dc-4298-8200-24f7a284a41d",
   "metadata": {},
   "source": [
    "Let's **check** if the connection weights are non-empty in **my weights**"
   ]
  },
  {
   "cell_type": "code",
   "execution_count": 52,
   "id": "db68fd35-70ad-4a6b-8bf9-5193a3e8d361",
   "metadata": {},
   "outputs": [],
   "source": [
    "file = 'weights/cnxs/diffusion_pytorch_model.safetensors'"
   ]
  },
  {
   "cell_type": "code",
   "execution_count": 53,
   "id": "c406b438-4d32-4ce2-bec6-d9284d4c6008",
   "metadata": {},
   "outputs": [],
   "source": [
    "weights_tensors = {}\n",
    "with safe_open(file, framework='pt', device='cpu') as f:\n",
    "   for key in f.keys():\n",
    "       weights_tensors[key] = f.get_tensor(key)"
   ]
  },
  {
   "cell_type": "code",
   "execution_count": 54,
   "id": "0063c0e8-9d4f-4bf0-85f5-eabb5b4697ee",
   "metadata": {},
   "outputs": [
    {
     "name": "stdout",
     "output_type": "stream",
     "text": [
      "enc_zero_convs_in\n",
      "        0\t[320, 320, 1, 1]\n",
      "        1\t[320, 320, 1, 1]\n",
      "        2\t[320, 320, 1, 1]\n",
      "        3\t[320, 320, 1, 1]\n",
      "        4\t[640, 640, 1, 1]\n",
      "        5\t[640, 640, 1, 1]\n",
      "        6\t[640, 640, 1, 1]\n",
      "        7\t[1280, 1280, 1, 1]\n",
      "        8\t[1280, 1280, 1, 1]\n"
     ]
    }
   ],
   "source": [
    "print_as_nested_dict(weights_tensors, contains='enc_zero_convs_in', lv=3, print_leaf=True)"
   ]
  },
  {
   "cell_type": "code",
   "execution_count": 55,
   "id": "132d5f1c-7029-4c70-9034-a05362b77c82",
   "metadata": {},
   "outputs": [
    {
     "name": "stdout",
     "output_type": "stream",
     "text": [
      "In enc_zero_convs_in, is out connection 0 empty? False\n",
      "In enc_zero_convs_in, is out connection 1 empty? True\n",
      "In enc_zero_convs_in, is out connection 2 empty? True\n",
      "In enc_zero_convs_in, is out connection 3 empty? True\n",
      "In enc_zero_convs_in, is out connection 4 empty? True\n",
      "In enc_zero_convs_in, is out connection 5 empty? True\n",
      "In enc_zero_convs_in, is out connection 6 empty? True\n",
      "In enc_zero_convs_in, is out connection 7 empty? True\n",
      "In enc_zero_convs_in, is out connection 8 empty? True\n",
      "---\n",
      "In enc_zero_convs_out, is out connection 0 empty? False\n",
      "In enc_zero_convs_out, is out connection 1 empty? True\n",
      "In enc_zero_convs_out, is out connection 2 empty? True\n",
      "In enc_zero_convs_out, is out connection 3 empty? True\n",
      "In enc_zero_convs_out, is out connection 4 empty? True\n",
      "In enc_zero_convs_out, is out connection 5 empty? True\n",
      "In enc_zero_convs_out, is out connection 6 empty? True\n",
      "In enc_zero_convs_out, is out connection 7 empty? True\n",
      "In enc_zero_convs_out, is out connection 8 empty? True\n",
      "---\n",
      "In dec_zero_convs_out, is out connection 0 empty? False\n",
      "In dec_zero_convs_out, is out connection 1 empty? True\n",
      "In dec_zero_convs_out, is out connection 2 empty? True\n",
      "In dec_zero_convs_out, is out connection 3 empty? True\n",
      "In dec_zero_convs_out, is out connection 4 empty? True\n",
      "In dec_zero_convs_out, is out connection 5 empty? True\n",
      "In dec_zero_convs_out, is out connection 6 empty? True\n",
      "In dec_zero_convs_out, is out connection 7 empty? True\n",
      "In dec_zero_convs_out, is out connection 8 empty? True\n",
      "---\n"
     ]
    }
   ],
   "source": [
    "for conv_group in ('enc_zero_convs_in','enc_zero_convs_out','dec_zero_convs_out'):\n",
    "    for i in range(9):\n",
    "        con = weights_tensors[f'{conv_group}.{i}.weight']\n",
    "        print(f'In {conv_group}, is out connection {i} empty? {is_empty(con)}')\n",
    "    print('---')"
   ]
  },
  {
   "cell_type": "markdown",
   "id": "ebacd107-319b-48bf-b9c5-ed89f99f1c25",
   "metadata": {},
   "source": [
    "**Yes, they are empty! So a bug it is**\n",
    "\n",
    "Edit: Bug fixed ✅"
   ]
  },
  {
   "cell_type": "markdown",
   "id": "5dc0038e-6d15-4c90-8d36-f2b57c925173",
   "metadata": {},
   "source": [
    "Now, the first 10 values for each step in cloud / local are:\n",
    "\n",
    "Cloud:\n",
    "```\n",
    "A1] [ 0.1755,  0.1357, -0.3653,  0.4109, -0.2517,  0.6668, -0.6832,  0.1072, -0.3240,  0.2146]\n",
    "A2] [-0.0148, -0.3285, -0.0927,  0.0223,  0.0955, -0.2987,  0.0223,  0.0760, -0.0549, -0.7091]\n",
    "A3] [ 0.1755,  0.1357, -0.3653,  0.4109, -0.2517,  0.6668, -0.6832,  0.1072, -0.3240,  0.2146]\n",
    "B1] [ 0.3036,  0.2349,  0.2122,  0.2231,  0.4925,  0.0092,  0.3026,  0.3293,  0.0227, -0.1436]\n",
    "C1] [-0.5792, -0.3964, -0.1935, -0.6617, -0.0559, -0.1097, -0.4058,  0.0838, -0.6492, -1.1216]\n",
    "D1] [0.0524, 0.0221, 0.0505, 0.0232, 0.0388, 0.0288, 0.0665, 0.0229, 0.0460, 0.0424]\n",
    "D2] [0.9500]\n",
    "D3] [ 0.3533,  0.2559,  0.2602,  0.2452,  0.5294,  0.0366,  0.3658,  0.3511,  0.0664, -0.1034]\n",
    "```\n",
    "\n",
    "Local:\n",
    "```\n",
    "A1]  0.1755,  0.1357, -0.3653,  0.4109, -0.2517,  0.6668, -0.6832,  0.1072, -0.3240,  0.2147]\n",
    "A2] -0.0147, -0.3285, -0.0927,  0.0223,  0.0955, -0.2987,  0.0222,  0.0760, -0.0548, -0.7091]\n",
    "A3]  0.1755,  0.1357, -0.3653,  0.4109, -0.2517,  0.6668, -0.6832,  0.1072, -0.3240,  0.2147]\n",
    "B1]  0.3032,  0.2355,  0.2123,  0.2237,  0.4928,  0.0095,  0.3033,  0.3297,  0.0226, -0.1435]\n",
    "C1] -0.5794, -0.3963, -0.1934, -0.6616, -0.0560, -0.1097, -0.4058,  0.0836, -0.6489, -1.1214]\n",
    "D1] 0.0524, 0.0221, 0.0505, 0.0232, 0.0388, 0.0288, 0.0666, 0.0229, 0.0460, 0.0424]\n",
    "D2] 0.9500]\n",
    "D3]  0.3530,  0.2566,  0.2602,  0.2458,  0.5296,  0.0368,  0.3665,  0.3515,  0.0663, -0.1032]\n",
    "```"
   ]
  },
  {
   "cell_type": "code",
   "execution_count": null,
   "id": "a3a226f6-3446-4240-a7c0-a05c71baa493",
   "metadata": {},
   "outputs": [],
   "source": []
  }
 ],
 "metadata": {
  "kernelspec": {
   "display_name": "Python 3 (ipykernel)",
   "language": "python",
   "name": "python3"
  },
  "language_info": {
   "codemirror_mode": {
    "name": "ipython",
    "version": 3
   },
   "file_extension": ".py",
   "mimetype": "text/x-python",
   "name": "python",
   "nbconvert_exporter": "python",
   "pygments_lexer": "ipython3",
   "version": "3.11.5"
  }
 },
 "nbformat": 4,
 "nbformat_minor": 5
}
