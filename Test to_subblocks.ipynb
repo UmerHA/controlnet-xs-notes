{
 "cells": [
  {
   "cell_type": "markdown",
   "id": "2eb1764e-a93d-4c5d-9dc1-cc827bc15025",
   "metadata": {},
   "source": [
    "I have a bug when using SD21. The up-part can't be processed into subblocks. But it works for SDXL.\n",
    "\n",
    "So let's compare both."
   ]
  },
  {
   "cell_type": "code",
   "execution_count": 14,
   "id": "a464af36-c566-4774-a4e2-e64b76444b19",
   "metadata": {},
   "outputs": [],
   "source": [
    "from diffusers import StableDiffusionPipeline, StableDiffusionXLPipeline\n",
    "from diffusers.models.controlnetxs import to_sub_blocks\n",
    "\n",
    "from util import simple_describe, cls_name"
   ]
  },
  {
   "cell_type": "code",
   "execution_count": 15,
   "id": "2ebc2adb-3fcc-46d3-b396-6321fae9bafd",
   "metadata": {},
   "outputs": [
    {
     "name": "stderr",
     "output_type": "stream",
     "text": [
      "You have disabled the safety checker for <class 'diffusers.pipelines.stable_diffusion.pipeline_stable_diffusion.StableDiffusionPipeline'> by passing `safety_checker=None`. Ensure that you abide to the conditions of the Stable Diffusion license and do not expose unfiltered results in services or applications open to the public. Both the diffusers team and Hugging Face strongly recommend to keep the safety filter enabled in all public facing circumstances, disabling it only for use-cases that involve analyzing network behavior or auditing its results. For more information, please have a look at https://github.com/huggingface/diffusers/pull/254 .\n",
      "/Users/umer/Documents/GitHub/diffusers/diffusers/src/diffusers/configuration_utils.py:134: FutureWarning: Accessing config attribute `requires_safety_checker` directly via 'StableDiffusionPipeline' object attribute is deprecated. Please access 'requires_safety_checker' over 'StableDiffusionPipeline's config object instead, e.g. 'scheduler.config.requires_safety_checker'.\n",
      "  deprecate(\"direct config name access\", \"1.0.0\", deprecation_message, standard_warn=False)\n"
     ]
    }
   ],
   "source": [
    "sd21_pipe = StableDiffusionPipeline.from_single_file('weights/sd21/v2-1_512-ema-pruned.safetensors')\n",
    "sdxl_pipe = StableDiffusionXLPipeline.from_single_file('weights/sdxl/sd_xl_base_1.0_0.9vae.safetensors')"
   ]
  },
  {
   "cell_type": "code",
   "execution_count": 16,
   "id": "5d613a66-0887-402f-bb04-0e6990c0f087",
   "metadata": {},
   "outputs": [],
   "source": [
    "sd21_unet = sd21_pipe.unet\n",
    "sdxl_unet = sdxl_pipe.unet"
   ]
  },
  {
   "cell_type": "code",
   "execution_count": 41,
   "id": "cb3e506e-4683-4cbd-a52e-561c48d8df00",
   "metadata": {},
   "outputs": [],
   "source": [
    "from torch import nn\n",
    "from itertools import zip_longest\n",
    "\n",
    "class EmbedSequential(nn.ModuleList):\n",
    "    \"\"\"Sequential module passing embeddings (time and conditioning) to children if they support it.\"\"\"\n",
    "\n",
    "    def __init__(self, ms, *args, **kwargs):\n",
    "        if not is_iterable(ms):\n",
    "            ms = [ms]\n",
    "        super().__init__(ms, *args, **kwargs)\n",
    "\n",
    "    def forward(self, x, temb, cemb, attention_mask, cross_attention_kwargs):\n",
    "        print('Actually, Im not implemented, brother')\n",
    "        return x\n",
    "        \n",
    "\n",
    "def is_iterable(o):\n",
    "    if isinstance(o, str):\n",
    "        return False\n",
    "    try:\n",
    "        iter(o)\n",
    "        return True\n",
    "    except TypeError:\n",
    "        return False\n",
    "\n",
    "def to_sub_blocks(blocks):\n",
    "    if not is_iterable(blocks):\n",
    "        blocks = [blocks]\n",
    "    sub_blocks = []\n",
    "    for b in blocks:\n",
    "        current_subblocks = []\n",
    "        if hasattr(b, \"resnets\"):\n",
    "            if hasattr(b, \"attentions\") and b.attentions is not None:\n",
    "                for r,a in zip(b.resnets, b.attentions):\n",
    "                    sub_blocks.append([r,a])\n",
    "\n",
    "                num_resnets = len(b.resnets)\n",
    "                num_attns = len(b.attentions)\n",
    "                \n",
    "                if num_resnets > num_attns:\n",
    "                    # we can have more resnets than attentions, so add each resnet as separate subblock\n",
    "                    for i in range(num_attns, num_resnets):\n",
    "                        sub_blocks.append([b.attentions[i]])                \n",
    "            else:\n",
    "                for r in b.resnets:\n",
    "                    sub_blocks.append([r])\n",
    "        # upsamplers are part of the same subblock\n",
    "        if hasattr(b, \"upsamplers\") and b.upsamplers is not None:\n",
    "            for u in b.upsamplers:\n",
    "                sub_blocks[-1].extend([u])\n",
    "        # downsamplers are own subblock\n",
    "        if hasattr(b, \"downsamplers\") and b.downsamplers is not None:\n",
    "            for d in b.downsamplers:\n",
    "                sub_blocks.append([d])\n",
    "\n",
    "    return sub_blocks\n",
    "    #return list(map(EmbedSequential, sub_blocks))"
   ]
  },
  {
   "cell_type": "code",
   "execution_count": 42,
   "id": "6d66afae-0537-4f34-82cc-aecd2c6da678",
   "metadata": {},
   "outputs": [],
   "source": [
    "from types import SimpleNamespace\n",
    "\n",
    "block1 = SimpleNamespace(resnets=['r1','r2'], attentions=['a1','a2'], upsamplers=['u'])\n",
    "block2 = SimpleNamespace(resnets=['r1','r2'], attentions=['a1','a2'], upsamplers=['u'])\n",
    "block3 = SimpleNamespace(resnets=['r1','r2'])\n",
    "\n",
    "dummy_ups = [block1, block2, block3]"
   ]
  },
  {
   "cell_type": "code",
   "execution_count": 43,
   "id": "67e1ca72-c645-414a-a8b8-6c77185ef1b1",
   "metadata": {},
   "outputs": [
    {
     "data": {
      "text/plain": [
       "[['r1', 'a1'],\n",
       " ['r2', 'a2', 'u'],\n",
       " ['r1', 'a1'],\n",
       " ['r2', 'a2', 'u'],\n",
       " ['r1'],\n",
       " ['r2']]"
      ]
     },
     "execution_count": 43,
     "metadata": {},
     "output_type": "execute_result"
    }
   ],
   "source": [
    "to_sub_blocks(dummy_ups)"
   ]
  },
  {
   "cell_type": "code",
   "execution_count": 44,
   "id": "bdcb1592-80bb-4a1e-b5e9-e149954e490a",
   "metadata": {},
   "outputs": [],
   "source": [
    "sdxl_up_subblocks = to_sub_blocks(sdxl_unet.up_blocks)"
   ]
  },
  {
   "cell_type": "code",
   "execution_count": 46,
   "id": "9f14f334-f4c1-43ea-85ef-f213cc13120a",
   "metadata": {},
   "outputs": [
    {
     "data": {
      "text/plain": [
       "[['ResnetBlock2D', 'Transformer2DModel'],\n",
       " ['ResnetBlock2D', 'Transformer2DModel'],\n",
       " ['ResnetBlock2D', 'Transformer2DModel', 'Upsample2D'],\n",
       " ['ResnetBlock2D', 'Transformer2DModel'],\n",
       " ['ResnetBlock2D', 'Transformer2DModel'],\n",
       " ['ResnetBlock2D', 'Transformer2DModel', 'Upsample2D'],\n",
       " ['ResnetBlock2D'],\n",
       " ['ResnetBlock2D'],\n",
       " ['ResnetBlock2D']]"
      ]
     },
     "execution_count": 46,
     "metadata": {},
     "output_type": "execute_result"
    }
   ],
   "source": [
    "[list(map(cls_name, sb)) for sb in sdxl_up_subblocks]"
   ]
  },
  {
   "cell_type": "code",
   "execution_count": 47,
   "id": "0ae4017a-af6d-4f6c-ad4c-d1ebf04efa3b",
   "metadata": {},
   "outputs": [],
   "source": [
    "sd21_up_subblocks = to_sub_blocks(sd21_unet.up_blocks)"
   ]
  },
  {
   "cell_type": "code",
   "execution_count": 48,
   "id": "39a4b74b-1f55-4859-920f-b23f7e0c0773",
   "metadata": {},
   "outputs": [
    {
     "data": {
      "text/plain": [
       "[['ResnetBlock2D'],\n",
       " ['ResnetBlock2D'],\n",
       " ['ResnetBlock2D', 'Upsample2D'],\n",
       " ['ResnetBlock2D', 'Transformer2DModel'],\n",
       " ['ResnetBlock2D', 'Transformer2DModel'],\n",
       " ['ResnetBlock2D', 'Transformer2DModel', 'Upsample2D'],\n",
       " ['ResnetBlock2D', 'Transformer2DModel'],\n",
       " ['ResnetBlock2D', 'Transformer2DModel'],\n",
       " ['ResnetBlock2D', 'Transformer2DModel', 'Upsample2D'],\n",
       " ['ResnetBlock2D', 'Transformer2DModel'],\n",
       " ['ResnetBlock2D', 'Transformer2DModel'],\n",
       " ['ResnetBlock2D', 'Transformer2DModel']]"
      ]
     },
     "execution_count": 48,
     "metadata": {},
     "output_type": "execute_result"
    }
   ],
   "source": [
    "[list(map(cls_name, sb)) for sb in sd21_up_subblocks]"
   ]
  },
  {
   "cell_type": "code",
   "execution_count": 19,
   "id": "03f5f6f1-ced1-4b25-ad02-3a9b6fd72325",
   "metadata": {},
   "outputs": [
    {
     "name": "stdout",
     "output_type": "stream",
     "text": [
      " ModuleList \n",
      "\t CrossAttnUpBlock2D \n",
      "\t\t ResnetBlock2D (2560, 1280)\n",
      "\t\t Transformer2DModel (1280, 1280)\n",
      "\t\t ResnetBlock2D (2560, 1280)\n",
      "\t\t Transformer2DModel (1280, 1280)\n",
      "\t\t ResnetBlock2D (1920, 1280)\n",
      "\t\t Transformer2DModel (1280, 1280)\n",
      "\t\t Upsample2D (1280, 1280)\n",
      "\t CrossAttnUpBlock2D \n",
      "\t\t ResnetBlock2D (1920, 640)\n",
      "\t\t Transformer2DModel (640, 640)\n",
      "\t\t ResnetBlock2D (1280, 640)\n",
      "\t\t Transformer2DModel (640, 640)\n",
      "\t\t ResnetBlock2D (960, 640)\n",
      "\t\t Transformer2DModel (640, 640)\n",
      "\t\t Upsample2D (640, 640)\n",
      "\t UpBlock2D \n",
      "\t\t ResnetBlock2D (960, 320)\n",
      "\t\t ResnetBlock2D (640, 320)\n",
      "\t\t ResnetBlock2D (640, 320)\n"
     ]
    }
   ],
   "source": [
    "simple_describe(sdxl_unet.up_blocks)"
   ]
  },
  {
   "cell_type": "code",
   "execution_count": 20,
   "id": "f00c88dc-8bdc-4905-b092-e9a150199e05",
   "metadata": {},
   "outputs": [
    {
     "name": "stdout",
     "output_type": "stream",
     "text": [
      " ModuleList \n",
      "\t UpBlock2D \n",
      "\t\t ResnetBlock2D (2560, 1280)\n",
      "\t\t ResnetBlock2D (2560, 1280)\n",
      "\t\t ResnetBlock2D (2560, 1280)\n",
      "\t\t Upsample2D (1280, 1280)\n",
      "\t CrossAttnUpBlock2D \n",
      "\t\t ResnetBlock2D (2560, 1280)\n",
      "\t\t Transformer2DModel (1280, 1280)\n",
      "\t\t ResnetBlock2D (2560, 1280)\n",
      "\t\t Transformer2DModel (1280, 1280)\n",
      "\t\t ResnetBlock2D (1920, 1280)\n",
      "\t\t Transformer2DModel (1280, 1280)\n",
      "\t\t Upsample2D (1280, 1280)\n",
      "\t CrossAttnUpBlock2D \n",
      "\t\t ResnetBlock2D (1920, 640)\n",
      "\t\t Transformer2DModel (640, 640)\n",
      "\t\t ResnetBlock2D (1280, 640)\n",
      "\t\t Transformer2DModel (640, 640)\n",
      "\t\t ResnetBlock2D (960, 640)\n",
      "\t\t Transformer2DModel (640, 640)\n",
      "\t\t Upsample2D (640, 640)\n",
      "\t CrossAttnUpBlock2D \n",
      "\t\t ResnetBlock2D (960, 320)\n",
      "\t\t Transformer2DModel (320, 320)\n",
      "\t\t ResnetBlock2D (640, 320)\n",
      "\t\t Transformer2DModel (320, 320)\n",
      "\t\t ResnetBlock2D (640, 320)\n",
      "\t\t Transformer2DModel (320, 320)\n"
     ]
    }
   ],
   "source": [
    "simple_describe(sd21_unet.up_blocks)"
   ]
  },
  {
   "cell_type": "code",
   "execution_count": null,
   "id": "1214bb75-4503-4adb-b1c1-46ab64d5a37f",
   "metadata": {},
   "outputs": [],
   "source": []
  }
 ],
 "metadata": {
  "kernelspec": {
   "display_name": "Python 3 (ipykernel)",
   "language": "python",
   "name": "python3"
  },
  "language_info": {
   "codemirror_mode": {
    "name": "ipython",
    "version": 3
   },
   "file_extension": ".py",
   "mimetype": "text/x-python",
   "name": "python",
   "nbconvert_exporter": "python",
   "pygments_lexer": "ipython3",
   "version": "3.11.5"
  }
 },
 "nbformat": 4,
 "nbformat_minor": 5
}
