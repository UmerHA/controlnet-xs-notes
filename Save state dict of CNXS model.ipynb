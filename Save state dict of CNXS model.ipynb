{
 "cells": [
  {
   "cell_type": "markdown",
   "id": "95800a25-2a7d-492f-9db1-21f7ca1c314d",
   "metadata": {},
   "source": [
    "___"
   ]
  },
  {
   "cell_type": "code",
   "execution_count": 1,
   "id": "44a69083-6cb8-4e21-b3c7-543644b787ac",
   "metadata": {
    "tags": []
   },
   "outputs": [
    {
     "name": "stderr",
     "output_type": "stream",
     "text": [
      "The cache for model files in Transformers v4.22.0 has been updated. Migrating your old cache. This is a one-time only operation. You can interrupt this and resume the migration later on by calling `transformers.utils.move_cache()`.\n"
     ]
    },
    {
     "data": {
      "application/vnd.jupyter.widget-view+json": {
       "model_id": "52bb10af6c87441ea251a063be494029",
       "version_major": 2,
       "version_minor": 0
      },
      "text/plain": [
       "0it [00:00, ?it/s]"
      ]
     },
     "metadata": {},
     "output_type": "display_data"
    },
    {
     "name": "stderr",
     "output_type": "stream",
     "text": [
      "/opt/conda/lib/python3.10/site-packages/timm/models/_factory.py:114: UserWarning: Mapping deprecated model name vit_base_resnet50_384 to current vit_base_r50_s16_384.orig_in21k_ft_in1k.\n",
      "  model = create_fn(\n"
     ]
    }
   ],
   "source": [
    "import scripts.control_utils as cu"
   ]
  },
  {
   "cell_type": "code",
   "execution_count": 2,
   "id": "3e0525a3-92e5-4efd-ab3b-148b33e553b9",
   "metadata": {
    "tags": []
   },
   "outputs": [],
   "source": [
    "path_to_config = 'cnxs_config/sd/sd21_encD_canny_14m.yaml'"
   ]
  },
  {
   "cell_type": "markdown",
   "id": "92fb26ac-532b-4610-9863-26591b42fb79",
   "metadata": {},
   "source": [
    "If this results in the kernel crashing, I'm using too much GPU memory elsewhere. Shut down every other kernel and try again."
   ]
  },
  {
   "cell_type": "code",
   "execution_count": 6,
   "id": "660d4bc1-54b9-4977-aba5-948c864dd0cc",
   "metadata": {
    "tags": []
   },
   "outputs": [
    {
     "name": "stdout",
     "output_type": "stream",
     "text": [
      "TwoStreamControlLDM: Running in eps-prediction mode\n",
      "Setting up MemoryEfficientCrossAttention. Query dim is 320, context_dim is None and using 5 heads.\n",
      "Setting up MemoryEfficientCrossAttention. Query dim is 320, context_dim is 1024 and using 5 heads.\n",
      "Setting up MemoryEfficientCrossAttention. Query dim is 320, context_dim is None and using 5 heads.\n",
      "Setting up MemoryEfficientCrossAttention. Query dim is 320, context_dim is 1024 and using 5 heads.\n",
      "Setting up MemoryEfficientCrossAttention. Query dim is 640, context_dim is None and using 10 heads.\n",
      "Setting up MemoryEfficientCrossAttention. Query dim is 640, context_dim is 1024 and using 10 heads.\n",
      "Setting up MemoryEfficientCrossAttention. Query dim is 640, context_dim is None and using 10 heads.\n",
      "Setting up MemoryEfficientCrossAttention. Query dim is 640, context_dim is 1024 and using 10 heads.\n",
      "Setting up MemoryEfficientCrossAttention. Query dim is 1280, context_dim is None and using 20 heads.\n",
      "Setting up MemoryEfficientCrossAttention. Query dim is 1280, context_dim is 1024 and using 20 heads.\n",
      "Setting up MemoryEfficientCrossAttention. Query dim is 1280, context_dim is None and using 20 heads.\n",
      "Setting up MemoryEfficientCrossAttention. Query dim is 1280, context_dim is 1024 and using 20 heads.\n",
      "Setting up MemoryEfficientCrossAttention. Query dim is 1280, context_dim is None and using 20 heads.\n",
      "Setting up MemoryEfficientCrossAttention. Query dim is 1280, context_dim is 1024 and using 20 heads.\n",
      "Setting up MemoryEfficientCrossAttention. Query dim is 1280, context_dim is None and using 20 heads.\n",
      "Setting up MemoryEfficientCrossAttention. Query dim is 1280, context_dim is 1024 and using 20 heads.\n",
      "Setting up MemoryEfficientCrossAttention. Query dim is 1280, context_dim is None and using 20 heads.\n",
      "Setting up MemoryEfficientCrossAttention. Query dim is 1280, context_dim is 1024 and using 20 heads.\n",
      "Setting up MemoryEfficientCrossAttention. Query dim is 1280, context_dim is None and using 20 heads.\n",
      "Setting up MemoryEfficientCrossAttention. Query dim is 1280, context_dim is 1024 and using 20 heads.\n",
      "Setting up MemoryEfficientCrossAttention. Query dim is 640, context_dim is None and using 10 heads.\n",
      "Setting up MemoryEfficientCrossAttention. Query dim is 640, context_dim is 1024 and using 10 heads.\n",
      "Setting up MemoryEfficientCrossAttention. Query dim is 640, context_dim is None and using 10 heads.\n",
      "Setting up MemoryEfficientCrossAttention. Query dim is 640, context_dim is 1024 and using 10 heads.\n",
      "Setting up MemoryEfficientCrossAttention. Query dim is 640, context_dim is None and using 10 heads.\n",
      "Setting up MemoryEfficientCrossAttention. Query dim is 640, context_dim is 1024 and using 10 heads.\n",
      "Setting up MemoryEfficientCrossAttention. Query dim is 320, context_dim is None and using 5 heads.\n",
      "Setting up MemoryEfficientCrossAttention. Query dim is 320, context_dim is 1024 and using 5 heads.\n",
      "Setting up MemoryEfficientCrossAttention. Query dim is 320, context_dim is None and using 5 heads.\n",
      "Setting up MemoryEfficientCrossAttention. Query dim is 320, context_dim is 1024 and using 5 heads.\n",
      "Setting up MemoryEfficientCrossAttention. Query dim is 320, context_dim is None and using 5 heads.\n",
      "Setting up MemoryEfficientCrossAttention. Query dim is 320, context_dim is 1024 and using 5 heads.\n",
      "DiffusionWrapper has 865.91 M params.\n",
      "making attention of type 'vanilla-xformers' with 512 in_channels\n",
      "building MemoryEfficientAttnBlock with 512 in_channels...\n",
      "Working with z of shape (1, 4, 32, 32) = 4096 dimensions.\n",
      "making attention of type 'vanilla-xformers' with 512 in_channels\n",
      "building MemoryEfficientAttnBlock with 512 in_channels...\n",
      "Setting up MemoryEfficientCrossAttention. Query dim is 320, context_dim is None and using 40 heads.\n",
      "Setting up MemoryEfficientCrossAttention. Query dim is 320, context_dim is 1024 and using 40 heads.\n",
      "Setting up MemoryEfficientCrossAttention. Query dim is 320, context_dim is None and using 40 heads.\n",
      "Setting up MemoryEfficientCrossAttention. Query dim is 320, context_dim is 1024 and using 40 heads.\n",
      "Setting up MemoryEfficientCrossAttention. Query dim is 640, context_dim is None and using 80 heads.\n",
      "Setting up MemoryEfficientCrossAttention. Query dim is 640, context_dim is 1024 and using 80 heads.\n",
      "Setting up MemoryEfficientCrossAttention. Query dim is 640, context_dim is None and using 80 heads.\n",
      "Setting up MemoryEfficientCrossAttention. Query dim is 640, context_dim is 1024 and using 80 heads.\n",
      "Setting up MemoryEfficientCrossAttention. Query dim is 1280, context_dim is None and using 160 heads.\n",
      "Setting up MemoryEfficientCrossAttention. Query dim is 1280, context_dim is 1024 and using 160 heads.\n",
      "Setting up MemoryEfficientCrossAttention. Query dim is 1280, context_dim is None and using 160 heads.\n",
      "Setting up MemoryEfficientCrossAttention. Query dim is 1280, context_dim is 1024 and using 160 heads.\n",
      "Setting up MemoryEfficientCrossAttention. Query dim is 1280, context_dim is None and using 160 heads.\n",
      "Setting up MemoryEfficientCrossAttention. Query dim is 1280, context_dim is 1024 and using 160 heads.\n",
      "Setting up MemoryEfficientCrossAttention. Query dim is 1280, context_dim is None and using 160 heads.\n",
      "Setting up MemoryEfficientCrossAttention. Query dim is 1280, context_dim is 1024 and using 160 heads.\n",
      "Setting up MemoryEfficientCrossAttention. Query dim is 1280, context_dim is None and using 160 heads.\n",
      "Setting up MemoryEfficientCrossAttention. Query dim is 1280, context_dim is 1024 and using 160 heads.\n",
      "Setting up MemoryEfficientCrossAttention. Query dim is 1280, context_dim is None and using 160 heads.\n",
      "Setting up MemoryEfficientCrossAttention. Query dim is 1280, context_dim is 1024 and using 160 heads.\n",
      "Setting up MemoryEfficientCrossAttention. Query dim is 640, context_dim is None and using 80 heads.\n",
      "Setting up MemoryEfficientCrossAttention. Query dim is 640, context_dim is 1024 and using 80 heads.\n",
      "Setting up MemoryEfficientCrossAttention. Query dim is 640, context_dim is None and using 80 heads.\n",
      "Setting up MemoryEfficientCrossAttention. Query dim is 640, context_dim is 1024 and using 80 heads.\n",
      "Setting up MemoryEfficientCrossAttention. Query dim is 640, context_dim is None and using 80 heads.\n",
      "Setting up MemoryEfficientCrossAttention. Query dim is 640, context_dim is 1024 and using 80 heads.\n",
      "Setting up MemoryEfficientCrossAttention. Query dim is 320, context_dim is None and using 40 heads.\n",
      "Setting up MemoryEfficientCrossAttention. Query dim is 320, context_dim is 1024 and using 40 heads.\n",
      "Setting up MemoryEfficientCrossAttention. Query dim is 320, context_dim is None and using 40 heads.\n",
      "Setting up MemoryEfficientCrossAttention. Query dim is 320, context_dim is 1024 and using 40 heads.\n",
      "Setting up MemoryEfficientCrossAttention. Query dim is 320, context_dim is None and using 40 heads.\n",
      "Setting up MemoryEfficientCrossAttention. Query dim is 320, context_dim is 1024 and using 40 heads.\n",
      "Setting up MemoryEfficientCrossAttention. Query dim is 4, context_dim is None and using 1 heads.\n",
      "Setting up MemoryEfficientCrossAttention. Query dim is 4, context_dim is 1024 and using 1 heads.\n",
      "Setting up MemoryEfficientCrossAttention. Query dim is 4, context_dim is None and using 1 heads.\n",
      "Setting up MemoryEfficientCrossAttention. Query dim is 4, context_dim is 1024 and using 1 heads.\n",
      "Setting up MemoryEfficientCrossAttention. Query dim is 8, context_dim is None and using 1 heads.\n",
      "Setting up MemoryEfficientCrossAttention. Query dim is 8, context_dim is 1024 and using 1 heads.\n",
      "Setting up MemoryEfficientCrossAttention. Query dim is 8, context_dim is None and using 1 heads.\n",
      "Setting up MemoryEfficientCrossAttention. Query dim is 8, context_dim is 1024 and using 1 heads.\n",
      "Setting up MemoryEfficientCrossAttention. Query dim is 16, context_dim is None and using 2 heads.\n",
      "Setting up MemoryEfficientCrossAttention. Query dim is 16, context_dim is 1024 and using 2 heads.\n",
      "Setting up MemoryEfficientCrossAttention. Query dim is 16, context_dim is None and using 2 heads.\n",
      "Setting up MemoryEfficientCrossAttention. Query dim is 16, context_dim is 1024 and using 2 heads.\n",
      "Setting up MemoryEfficientCrossAttention. Query dim is 16, context_dim is None and using 2 heads.\n",
      "Setting up MemoryEfficientCrossAttention. Query dim is 16, context_dim is 1024 and using 2 heads.\n",
      "[404 keys are missing from the model (hint processing and cross connections included)]\n",
      "['CONTROL WEIGHTS LOADED']\n",
      "Loaded model config from [cnxs_config/sd/sd21_encD_canny_14m.yaml]\n"
     ]
    }
   ],
   "source": [
    "diffeng = cu.create_model(path_to_config)"
   ]
  },
  {
   "cell_type": "code",
   "execution_count": 8,
   "id": "698abf4f-a7a8-4900-8a10-d48490a6d882",
   "metadata": {
    "tags": []
   },
   "outputs": [
    {
     "data": {
      "text/plain": [
       "ldm.models.diffusion.ddpm.TwoStreamControlLDM"
      ]
     },
     "execution_count": 8,
     "metadata": {},
     "output_type": "execute_result"
    }
   ],
   "source": [
    "type(diffeng)"
   ]
  },
  {
   "cell_type": "code",
   "execution_count": 20,
   "id": "e968906d-e2c7-41c0-bc56-e44dfe76d76f",
   "metadata": {},
   "outputs": [
    {
     "data": {
      "text/plain": [
       "ldm.modules.diffusionmodules.twoStreamControl.TwoStreamControlNet"
      ]
     },
     "execution_count": 20,
     "metadata": {},
     "output_type": "execute_result"
    }
   ],
   "source": [
    "type(diffeng.control_model)"
   ]
  },
  {
   "cell_type": "code",
   "execution_count": 11,
   "id": "194ccd60-0603-4833-a7fb-a256789a022b",
   "metadata": {
    "tags": []
   },
   "outputs": [],
   "source": [
    "from util import public_attrs"
   ]
  },
  {
   "cell_type": "code",
   "execution_count": 22,
   "id": "fc991057-caad-4dbe-b571-ce159ea79ebf",
   "metadata": {
    "tags": []
   },
   "outputs": [
    {
     "data": {
      "text/plain": [
       "ldm.modules.diffusionmodules.twoStreamControl.ControlledUNetModel"
      ]
     },
     "execution_count": 22,
     "metadata": {},
     "output_type": "execute_result"
    }
   ],
   "source": [
    "type(diffeng.control_model.control_model)"
   ]
  },
  {
   "cell_type": "code",
   "execution_count": 23,
   "id": "1cffd181-2b5e-41ec-987c-e5aac12d2b01",
   "metadata": {},
   "outputs": [],
   "source": [
    "sdict = diffeng.control_model.control_model.state_dict()"
   ]
  },
  {
   "cell_type": "code",
   "execution_count": 24,
   "id": "b323047c-70c2-42f7-9db8-00228ec07e11",
   "metadata": {
    "tags": []
   },
   "outputs": [],
   "source": [
    "sdict_with_shapes = [[k, list(v.shape)] for k,v in sdict.items()] "
   ]
  },
  {
   "cell_type": "code",
   "execution_count": 26,
   "id": "1297355a-6990-47c1-bfcf-5491f5305183",
   "metadata": {
    "tags": []
   },
   "outputs": [],
   "source": [
    "from util import print_as_nested_dict"
   ]
  },
  {
   "cell_type": "code",
   "execution_count": 28,
   "id": "25c5b158-875f-4e4f-8b0c-835a44aeb660",
   "metadata": {
    "tags": []
   },
   "outputs": [
    {
     "name": "stdout",
     "output_type": "stream",
     "text": [
      "time_embed\n",
      "input_blocks\n",
      "middle_block\n"
     ]
    }
   ],
   "source": [
    "print_as_nested_dict(sdict)"
   ]
  },
  {
   "cell_type": "code",
   "execution_count": 27,
   "id": "88c4bab0-b01b-4067-825b-467eab6a863d",
   "metadata": {
    "tags": []
   },
   "outputs": [
    {
     "ename": "AttributeError",
     "evalue": "'list' object has no attribute 'replace'",
     "output_type": "error",
     "traceback": [
      "\u001b[0;31m---------------------------------------------------------------------------\u001b[0m",
      "\u001b[0;31mAttributeError\u001b[0m                            Traceback (most recent call last)",
      "Cell \u001b[0;32mIn[27], line 1\u001b[0m\n\u001b[0;32m----> 1\u001b[0m \u001b[43mprint_as_nested_dict\u001b[49m\u001b[43m(\u001b[49m\u001b[43msdict_with_shapes\u001b[49m\u001b[43m)\u001b[49m\n",
      "File \u001b[0;32m~/util.py:174\u001b[0m, in \u001b[0;36mprint_as_nested_dict\u001b[0;34m(l, contains, lv, print_leaf)\u001b[0m\n\u001b[0;32m--> 174\u001b[0m \u001b[38;5;28;01mdef\u001b[39;00m \u001b[38;5;21mprint_as_nested_dict\u001b[39m(l,contains\u001b[38;5;241m=\u001b[39m\u001b[38;5;124m'\u001b[39m\u001b[38;5;124m'\u001b[39m,lv\u001b[38;5;241m=\u001b[39m\u001b[38;5;241m1\u001b[39m,print_leaf\u001b[38;5;241m=\u001b[39m\u001b[38;5;28;01mFalse\u001b[39;00m): pretty_print_dict(to_nested_dict(to_shapes(\u001b[43monly_weights\u001b[49m\u001b[43m(\u001b[49m\u001b[43ml\u001b[49m\u001b[43m)\u001b[49m),contains),lv\u001b[38;5;241m=\u001b[39mlv,print_leaf\u001b[38;5;241m=\u001b[39mprint_leaf)\n",
      "File \u001b[0;32m~/util.py:146\u001b[0m, in \u001b[0;36monly_weights\u001b[0;34m(o)\u001b[0m\n\u001b[1;32m    145\u001b[0m \u001b[38;5;28;01mdef\u001b[39;00m \u001b[38;5;21monly_weights\u001b[39m(o):\n\u001b[0;32m--> 146\u001b[0m     \u001b[38;5;28;01mif\u001b[39;00m \u001b[38;5;28misinstance\u001b[39m(o, \u001b[38;5;28mlist\u001b[39m): \u001b[38;5;28;01mreturn\u001b[39;00m [k\u001b[38;5;241m.\u001b[39mreplace(\u001b[38;5;124m'\u001b[39m\u001b[38;5;124m.weight\u001b[39m\u001b[38;5;124m'\u001b[39m,\u001b[38;5;124m'\u001b[39m\u001b[38;5;124m'\u001b[39m) \u001b[38;5;28;01mfor\u001b[39;00m k \u001b[38;5;129;01min\u001b[39;00m o \u001b[38;5;28;01mif\u001b[39;00m \u001b[38;5;129;01mnot\u001b[39;00m \u001b[38;5;124m'\u001b[39m\u001b[38;5;124m.bias\u001b[39m\u001b[38;5;124m'\u001b[39m \u001b[38;5;129;01min\u001b[39;00m k]\n\u001b[1;32m    147\u001b[0m     \u001b[38;5;28;01melif\u001b[39;00m \u001b[38;5;28misinstance\u001b[39m(o, \u001b[38;5;28mdict\u001b[39m): \u001b[38;5;28;01mreturn\u001b[39;00m {k\u001b[38;5;241m.\u001b[39mreplace(\u001b[38;5;124m'\u001b[39m\u001b[38;5;124m.weight\u001b[39m\u001b[38;5;124m'\u001b[39m,\u001b[38;5;124m'\u001b[39m\u001b[38;5;124m'\u001b[39m):v \u001b[38;5;28;01mfor\u001b[39;00m k,v \u001b[38;5;129;01min\u001b[39;00m o\u001b[38;5;241m.\u001b[39mitems() \u001b[38;5;28;01mif\u001b[39;00m \u001b[38;5;129;01mnot\u001b[39;00m \u001b[38;5;124m'\u001b[39m\u001b[38;5;124m.bias\u001b[39m\u001b[38;5;124m'\u001b[39m \u001b[38;5;129;01min\u001b[39;00m k}\n\u001b[1;32m    148\u001b[0m     \u001b[38;5;28;01melse\u001b[39;00m: \u001b[38;5;28;01mraise\u001b[39;00m \u001b[38;5;167;01mValueError\u001b[39;00m(\u001b[38;5;124m'\u001b[39m\u001b[38;5;124mExpected list or dict, but got \u001b[39m\u001b[38;5;124m'\u001b[39m\u001b[38;5;241m+\u001b[39m\u001b[38;5;28mstr\u001b[39m(\u001b[38;5;28mtype\u001b[39m(o)))\n",
      "File \u001b[0;32m~/util.py:146\u001b[0m, in \u001b[0;36m<listcomp>\u001b[0;34m(.0)\u001b[0m\n\u001b[1;32m    145\u001b[0m \u001b[38;5;28;01mdef\u001b[39;00m \u001b[38;5;21monly_weights\u001b[39m(o):\n\u001b[0;32m--> 146\u001b[0m     \u001b[38;5;28;01mif\u001b[39;00m \u001b[38;5;28misinstance\u001b[39m(o, \u001b[38;5;28mlist\u001b[39m): \u001b[38;5;28;01mreturn\u001b[39;00m [\u001b[43mk\u001b[49m\u001b[38;5;241;43m.\u001b[39;49m\u001b[43mreplace\u001b[49m(\u001b[38;5;124m'\u001b[39m\u001b[38;5;124m.weight\u001b[39m\u001b[38;5;124m'\u001b[39m,\u001b[38;5;124m'\u001b[39m\u001b[38;5;124m'\u001b[39m) \u001b[38;5;28;01mfor\u001b[39;00m k \u001b[38;5;129;01min\u001b[39;00m o \u001b[38;5;28;01mif\u001b[39;00m \u001b[38;5;129;01mnot\u001b[39;00m \u001b[38;5;124m'\u001b[39m\u001b[38;5;124m.bias\u001b[39m\u001b[38;5;124m'\u001b[39m \u001b[38;5;129;01min\u001b[39;00m k]\n\u001b[1;32m    147\u001b[0m     \u001b[38;5;28;01melif\u001b[39;00m \u001b[38;5;28misinstance\u001b[39m(o, \u001b[38;5;28mdict\u001b[39m): \u001b[38;5;28;01mreturn\u001b[39;00m {k\u001b[38;5;241m.\u001b[39mreplace(\u001b[38;5;124m'\u001b[39m\u001b[38;5;124m.weight\u001b[39m\u001b[38;5;124m'\u001b[39m,\u001b[38;5;124m'\u001b[39m\u001b[38;5;124m'\u001b[39m):v \u001b[38;5;28;01mfor\u001b[39;00m k,v \u001b[38;5;129;01min\u001b[39;00m o\u001b[38;5;241m.\u001b[39mitems() \u001b[38;5;28;01mif\u001b[39;00m \u001b[38;5;129;01mnot\u001b[39;00m \u001b[38;5;124m'\u001b[39m\u001b[38;5;124m.bias\u001b[39m\u001b[38;5;124m'\u001b[39m \u001b[38;5;129;01min\u001b[39;00m k}\n\u001b[1;32m    148\u001b[0m     \u001b[38;5;28;01melse\u001b[39;00m: \u001b[38;5;28;01mraise\u001b[39;00m \u001b[38;5;167;01mValueError\u001b[39;00m(\u001b[38;5;124m'\u001b[39m\u001b[38;5;124mExpected list or dict, but got \u001b[39m\u001b[38;5;124m'\u001b[39m\u001b[38;5;241m+\u001b[39m\u001b[38;5;28mstr\u001b[39m(\u001b[38;5;28mtype\u001b[39m(o)))\n",
      "\u001b[0;31mAttributeError\u001b[0m: 'list' object has no attribute 'replace'"
     ]
    }
   ],
   "source": [
    "sdict_with_shapes"
   ]
  },
  {
   "cell_type": "code",
   "execution_count": null,
   "id": "813dff7d-4ab5-40fc-bfae-5f5852549e9a",
   "metadata": {
    "tags": []
   },
   "outputs": [],
   "source": [
    "import pandas as pd"
   ]
  },
  {
   "cell_type": "code",
   "execution_count": null,
   "id": "ca7dce11-1d39-4f36-8872-190e8e036490",
   "metadata": {
    "tags": []
   },
   "outputs": [],
   "source": [
    "df = pd.DataFrame(sdict_with_shapes, columns=['module', 'shape'])"
   ]
  },
  {
   "cell_type": "code",
   "execution_count": null,
   "id": "c765fb8e-16be-4009-ae80-179a44b74f6e",
   "metadata": {
    "tags": []
   },
   "outputs": [],
   "source": [
    "df.head()"
   ]
  },
  {
   "cell_type": "code",
   "execution_count": null,
   "id": "a0f4c3a1-2ff9-4626-83fc-9f7b83bafc66",
   "metadata": {
    "tags": []
   },
   "outputs": [],
   "source": [
    "#df.to_csv('cnsx_base_state_dict_with_shapes.csv',index=None)"
   ]
  },
  {
   "cell_type": "markdown",
   "id": "a7a31816-d7da-419e-bbbb-931e8542adb2",
   "metadata": {},
   "source": [
    "___"
   ]
  },
  {
   "cell_type": "markdown",
   "id": "165e1865-31be-4758-acda-3f62c6159ad6",
   "metadata": {},
   "source": [
    "Actually, let's save the dict itself"
   ]
  },
  {
   "cell_type": "code",
   "execution_count": null,
   "id": "b3b1c53d-a3e0-4449-9c10-d9027e6cfb83",
   "metadata": {
    "tags": []
   },
   "outputs": [],
   "source": [
    "def to_shapes(o):\n",
    "    if isinstance(o,dict): return {k:to_shapes(v)for k,v in o.items()}\n",
    "    else: return list(o.shape)"
   ]
  },
  {
   "cell_type": "code",
   "execution_count": null,
   "id": "bb684707-f218-44b1-aa5e-44969f613840",
   "metadata": {
    "tags": []
   },
   "outputs": [],
   "source": [
    "state_dicht_with_shapes = to_shapes(sdict)"
   ]
  },
  {
   "cell_type": "code",
   "execution_count": null,
   "id": "a6ea8de9-abe7-4356-b489-6bd6d3c9dc53",
   "metadata": {
    "tags": []
   },
   "outputs": [],
   "source": []
  },
  {
   "cell_type": "code",
   "execution_count": null,
   "id": "00630cb3-aa75-47a9-98b5-4e99eaa8b29f",
   "metadata": {
    "tags": []
   },
   "outputs": [],
   "source": [
    "import json"
   ]
  },
  {
   "cell_type": "code",
   "execution_count": null,
   "id": "9e6dc02e-d784-4d01-8b2b-36e2fab73b0a",
   "metadata": {
    "tags": []
   },
   "outputs": [],
   "source": [
    "with open(\"cnsx_base_state_dict_with_shapes -- sd21.json\", \"w\") as outfile:\n",
    "    json.dump(state_dicht_with_shapes, outfile, indent=4)"
   ]
  },
  {
   "cell_type": "code",
   "execution_count": null,
   "id": "501a67ba-f444-4454-9b2e-fdbaf3ca971f",
   "metadata": {},
   "outputs": [],
   "source": []
  }
 ],
 "metadata": {
  "kernelspec": {
   "display_name": "Python 3 (ipykernel)",
   "language": "python",
   "name": "python3"
  },
  "language_info": {
   "codemirror_mode": {
    "name": "ipython",
    "version": 3
   },
   "file_extension": ".py",
   "mimetype": "text/x-python",
   "name": "python",
   "nbconvert_exporter": "python",
   "pygments_lexer": "ipython3",
   "version": "3.10.13"
  }
 },
 "nbformat": 4,
 "nbformat_minor": 5
}
