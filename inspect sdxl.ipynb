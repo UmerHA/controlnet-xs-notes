{
 "cells": [
  {
   "cell_type": "markdown",
   "id": "1ca0de0b-afc7-4e32-95df-71bfa16ed70e",
   "metadata": {},
   "source": [
    "Let's inspect the file `sd_xl_base_1.0_0.9vae.safetensors`"
   ]
  },
  {
   "cell_type": "code",
   "execution_count": 1,
   "id": "f31b50c0-1055-425f-a5d8-36d9e3a149c8",
   "metadata": {},
   "outputs": [],
   "source": [
    "import torch\n",
    "from safetensors import safe_open"
   ]
  },
  {
   "cell_type": "code",
   "execution_count": 2,
   "id": "091ad8cb-b6d4-4459-a2e0-2e97bd741d8c",
   "metadata": {},
   "outputs": [],
   "source": [
    "file = '../../../../.hf-cache/stable-diffusion-xl-base-1.0/sd_xl_base_1.0_0.9vae.safetensors'"
   ]
  },
  {
   "cell_type": "code",
   "execution_count": 3,
   "id": "82f5afb6-d115-46cd-8c6b-d6222f6c8271",
   "metadata": {},
   "outputs": [],
   "source": [
    "tensors = {}\n",
    "with safe_open(file, framework='pt', device='cpu') as f:\n",
    "   for key in f.keys():\n",
    "       tensors[key] = f.get_tensor(key)"
   ]
  },
  {
   "cell_type": "code",
   "execution_count": 4,
   "id": "8490e19a-b968-41fe-aff5-6c09a9de5c1d",
   "metadata": {},
   "outputs": [],
   "source": [
    "from util import print_as_nested_dict"
   ]
  },
  {
   "cell_type": "code",
   "execution_count": 5,
   "id": "7405689c-cdf7-46ff-8148-b6e68795f256",
   "metadata": {},
   "outputs": [
    {
     "name": "stdout",
     "output_type": "stream",
     "text": [
      "conditioner\n",
      "        embedders\n",
      "first_stage_model\n",
      "        decoder\n",
      "        encoder\n",
      "        post_quant_conv\n",
      "        quant_conv\n",
      "model\n",
      "        diffusion_model\n"
     ]
    }
   ],
   "source": [
    "print_as_nested_dict(tensors.keys(), lv=2)"
   ]
  },
  {
   "cell_type": "code",
   "execution_count": null,
   "id": "ca06ac7e-e083-49f6-b11b-e655e5d0abf8",
   "metadata": {},
   "outputs": [],
   "source": []
  },
  {
   "cell_type": "code",
   "execution_count": 9,
   "id": "dc6be589-1b58-40a2-ae9f-322e2e51b352",
   "metadata": {},
   "outputs": [
    {
     "name": "stdout",
     "output_type": "stream",
     "text": [
      "model\n",
      "        diffusion_model\n",
      "                input_blocks\n",
      "                label_emb\n",
      "                middle_block\n",
      "                out\n",
      "                output_blocks\n",
      "                time_embed\n"
     ]
    }
   ],
   "source": [
    "print_as_nested_dict(tensors.keys(), contains='model.diffusion_model', lv=3)"
   ]
  },
  {
   "cell_type": "code",
   "execution_count": 11,
   "id": "74a36df7-78d1-46af-bf3b-3115d3902134",
   "metadata": {},
   "outputs": [
    {
     "name": "stdout",
     "output_type": "stream",
     "text": [
      "first_stage_model\n",
      "        decoder\n",
      "                conv_in\n",
      "                conv_out\n",
      "                mid\n",
      "                norm_out\n",
      "                up\n",
      "        encoder\n",
      "                conv_in\n",
      "                conv_out\n",
      "                down\n",
      "                mid\n",
      "                norm_out\n",
      "        post_quant_conv\n",
      "                bias\n",
      "                weight\n",
      "        quant_conv\n",
      "                bias\n",
      "                weight\n"
     ]
    }
   ],
   "source": [
    "print_as_nested_dict(tensors.keys(), contains='first_stage_model', lv=3)"
   ]
  },
  {
   "cell_type": "markdown",
   "id": "7d434dee-ae46-4a37-871c-93cefbb1f2e9",
   "metadata": {},
   "source": [
    "___"
   ]
  },
  {
   "cell_type": "code",
   "execution_count": 7,
   "id": "c780747a-3599-4951-a539-4affd0ce0a39",
   "metadata": {
    "tags": []
   },
   "outputs": [],
   "source": [
    "import pickle"
   ]
  },
  {
   "cell_type": "code",
   "execution_count": 8,
   "id": "bd718960-1be7-493d-9b6e-41c044c8338f",
   "metadata": {},
   "outputs": [],
   "source": [
    "with open('state_dict_mapping.pkl', 'rb') as f:\n",
    "    state_dict_mapping = pickle.load(f)"
   ]
  },
  {
   "cell_type": "code",
   "execution_count": 9,
   "id": "7b30c91b-aea4-46d4-81a2-c35820c5f156",
   "metadata": {
    "tags": []
   },
   "outputs": [],
   "source": [
    "from diffusers import StableDiffusionXLPipeline"
   ]
  },
  {
   "cell_type": "code",
   "execution_count": 10,
   "id": "c2668fe4-f708-462a-bdd2-3e413b1e92c7",
   "metadata": {
    "tags": []
   },
   "outputs": [
    {
     "data": {
      "application/vnd.jupyter.widget-view+json": {
       "model_id": "3eba21e344c64743839c56d4641d16ce",
       "version_major": 2,
       "version_minor": 0
      },
      "text/plain": [
       "Loading pipeline components...:   0%|          | 0/7 [00:00<?, ?it/s]"
      ]
     },
     "metadata": {},
     "output_type": "display_data"
    },
    {
     "name": "stderr",
     "output_type": "stream",
     "text": [
      "Special tokens have been added in the vocabulary, make sure the associated word embeddings are fine-tuned or trained.\n",
      "Special tokens have been added in the vocabulary, make sure the associated word embeddings are fine-tuned or trained.\n"
     ]
    }
   ],
   "source": [
    "unet = StableDiffusionXLPipeline.from_pretrained('weights/sdxlvae').unet"
   ]
  },
  {
   "cell_type": "code",
   "execution_count": 44,
   "id": "08e9ef0e-6eec-4ad5-ac6b-7ff50f264b21",
   "metadata": {
    "tags": []
   },
   "outputs": [],
   "source": [
    "modified_statedict = diffeng.model.diffusion_model.state_dict()"
   ]
  },
  {
   "cell_type": "code",
   "execution_count": 74,
   "id": "2bd35fd7-46ea-4d63-8c6b-bc0bb8df3929",
   "metadata": {
    "tags": []
   },
   "outputs": [],
   "source": [
    "for k,v in unet.state_dict().items():\n",
    "    assert v.shape==diffeng.model.diffusion_model.state_dict()[state_dict_mapping[k]].shape\n",
    "    modified_statedict[state_dict_mapping[k]] = v"
   ]
  },
  {
   "cell_type": "code",
   "execution_count": 75,
   "id": "5b097cc5-9ab8-47ba-8153-0409c0b5c318",
   "metadata": {
    "tags": []
   },
   "outputs": [
    {
     "data": {
      "text/plain": [
       "<All keys matched successfully>"
      ]
     },
     "execution_count": 75,
     "metadata": {},
     "output_type": "execute_result"
    }
   ],
   "source": [
    "diffeng.model.diffusion_model.load_state_dict(modified_statedict)"
   ]
  },
  {
   "cell_type": "code",
   "execution_count": 53,
   "id": "a4ed2954-4f52-40cb-b5e4-92767f0808c8",
   "metadata": {
    "tags": []
   },
   "outputs": [],
   "source": [
    "import torch\n",
    "\n",
    "weight_in_diffusers = unet.state_dict()[k]\n",
    "weight_in_controlnet= diffeng.model.diffusion_model.state_dict()[state_dict_mapping[k]]\n",
    "\n",
    "# as sanity check, see if one entry is equal\n",
    "assert weight_in_diffusers.shape==weight_in_controlnet.shape\n",
    "assert torch.all((weight_in_diffusers==weight_in_controlnet).bool())"
   ]
  },
  {
   "cell_type": "markdown",
   "id": "5ac3c0d3-1c6f-4849-99c9-5611c02c8da2",
   "metadata": {},
   "source": [
    "Now, the controlnet-xs model should be loaded correctly, so let's use it!"
   ]
  },
  {
   "cell_type": "code",
   "execution_count": 61,
   "id": "29f01b1b-e8f1-4d20-b878-8d80ce3d26df",
   "metadata": {
    "tags": []
   },
   "outputs": [],
   "source": [
    "diffeng = diffeng.to('cuda')"
   ]
  },
  {
   "cell_type": "code",
   "execution_count": null,
   "id": "0b9c09e6-579e-4130-af8a-ef0a0c60d919",
   "metadata": {},
   "outputs": [],
   "source": []
  }
 ],
 "metadata": {
  "kernelspec": {
   "display_name": "Python 3 (ipykernel)",
   "language": "python",
   "name": "python3"
  },
  "language_info": {
   "codemirror_mode": {
    "name": "ipython",
    "version": 3
   },
   "file_extension": ".py",
   "mimetype": "text/x-python",
   "name": "python",
   "nbconvert_exporter": "python",
   "pygments_lexer": "ipython3",
   "version": "3.11.5"
  }
 },
 "nbformat": 4,
 "nbformat_minor": 5
}
