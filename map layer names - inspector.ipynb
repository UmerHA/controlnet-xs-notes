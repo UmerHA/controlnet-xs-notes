{
 "cells": [
  {
   "cell_type": "markdown",
   "id": "17a718e1-28e9-4766-9973-9207da3f986a",
   "metadata": {},
   "source": [
    "In this notebook, I want to map the modules of cnxs' unet and diffusers' onto each other. When done, I should be able to load diffuser weights into cnxs.\n",
    "\n",
    "**This is a (partial) copy of `map layer names.ipynb`, so I can compare things side by side**"
   ]
  },
  {
   "cell_type": "markdown",
   "id": "1b0efad4-daef-4c45-b6b6-276d1de06161",
   "metadata": {},
   "source": [
    "___"
   ]
  },
  {
   "cell_type": "code",
   "execution_count": 1,
   "id": "680cf02d-fcaa-4d11-8925-cb973e7b6039",
   "metadata": {
    "tags": []
   },
   "outputs": [],
   "source": [
    "#!pip install -Uqq transformers diffusers "
   ]
  },
  {
   "cell_type": "code",
   "execution_count": 2,
   "id": "ab1ff2fc-41ba-4b77-82de-d76165e1f377",
   "metadata": {
    "tags": []
   },
   "outputs": [],
   "source": [
    "import torch"
   ]
  },
  {
   "cell_type": "code",
   "execution_count": 3,
   "id": "0a08b518-d2d6-4251-b65f-fdb1aba792be",
   "metadata": {
    "tags": []
   },
   "outputs": [],
   "source": [
    "from diffusers.models import AutoencoderKL\n",
    "from diffusers import StableDiffusionXLPipeline"
   ]
  },
  {
   "cell_type": "code",
   "execution_count": 4,
   "id": "70686595-366a-4c49-91f5-7b044fc72fc8",
   "metadata": {
    "tags": []
   },
   "outputs": [],
   "source": [
    "model = \"stabilityai/stable-diffusion-xl-base-1.0\"\n",
    "vae = AutoencoderKL.from_pretrained(\"stabilityai/sdxl-vae\", torch_dtype=torch.float16)"
   ]
  },
  {
   "cell_type": "code",
   "execution_count": 5,
   "id": "9e0ec2d2-18c7-4504-af54-3ab4696be612",
   "metadata": {
    "tags": []
   },
   "outputs": [
    {
     "data": {
      "application/vnd.jupyter.widget-view+json": {
       "model_id": "ab272cbfe69045e680e11251c7bf0c51",
       "version_major": 2,
       "version_minor": 0
      },
      "text/plain": [
       "Loading pipeline components...:   0%|          | 0/7 [00:00<?, ?it/s]"
      ]
     },
     "metadata": {},
     "output_type": "display_data"
    }
   ],
   "source": [
    "pipe = StableDiffusionXLPipeline.from_pretrained(model, vae=vae, torch_dtype=torch.float16)"
   ]
  },
  {
   "cell_type": "markdown",
   "id": "fbcce888-df2c-4cf5-b036-413d31664712",
   "metadata": {},
   "source": [
    "___"
   ]
  },
  {
   "cell_type": "code",
   "execution_count": 6,
   "id": "dc05ad01-2844-4ae9-a07f-8f88e90c6fa4",
   "metadata": {},
   "outputs": [],
   "source": [
    "def nested_dict(d, ignore_bias=True):\n",
    "    root = {}\n",
    "    for k,v in d.items():\n",
    "        if 'bias' in k: continue\n",
    "        parts = k.replace('.weight','').split(\".\")\n",
    "        d = root\n",
    "        for part in parts[:-1]:\n",
    "            d = d.setdefault(part, {})\n",
    "        d[parts[-1]] = v \n",
    "    return root\n",
    "\n",
    "def pretty_print_dict(d,lv=2,indent=0,depth=1):\n",
    "    if lv is not None and depth > lv: return\n",
    "    if not isinstance(d,dict):\n",
    "        print(d)\n",
    "        return\n",
    "    for k,v in d.items():\n",
    "        if isinstance(v, dict):\n",
    "            print('  ' * indent + str(k))\n",
    "            pretty_print_dict(v,lv,indent+2,depth+1)\n",
    "        else: \n",
    "            print('  ' * indent + str(k) + ' -> ' + str(v))"
   ]
  },
  {
   "cell_type": "markdown",
   "id": "d63b110f-4ff9-47a6-adaf-a38d84f7cace",
   "metadata": {},
   "source": [
    "___"
   ]
  },
  {
   "cell_type": "code",
   "execution_count": 7,
   "id": "9c850341-8974-49c2-986a-6c2c2c2e8bf6",
   "metadata": {},
   "outputs": [],
   "source": [
    "def to_shape(o):\n",
    "    if isinstance(o,dict): return {k:to_shape(v) for k,v in o.items()}\n",
    "    elif isinstance(o,list): return o\n",
    "    else: return list(o.shape)\n",
    "\n",
    "def remove_bias(o):\n",
    "    if isinstance(o,dict): return {k.replace('.weight',''):remove_bias(v) for k,v in o.items() if not 'bias' in k}\n",
    "    else: return o"
   ]
  },
  {
   "cell_type": "markdown",
   "id": "ab290585-c9eb-4b3c-8e6f-4b66a3a74ae3",
   "metadata": {},
   "source": [
    "Load unet from CNXS"
   ]
  },
  {
   "cell_type": "code",
   "execution_count": 8,
   "id": "18fbc6e8-a9fc-43be-ac55-7594f97a6a5a",
   "metadata": {},
   "outputs": [],
   "source": [
    "import json"
   ]
  },
  {
   "cell_type": "code",
   "execution_count": 9,
   "id": "05043d7d-50e9-47e2-b76c-6ca8b55d7ed1",
   "metadata": {},
   "outputs": [],
   "source": [
    "with open('cnsx_base_state_dict_with_shapes.json', 'r') as infile:\n",
    "    cn_sdict = json.load(infile)"
   ]
  },
  {
   "cell_type": "code",
   "execution_count": 10,
   "id": "d186b3c0-1fd1-4186-9fe6-7239929472b4",
   "metadata": {},
   "outputs": [],
   "source": [
    "cn_sdict = remove_bias(to_shape(cn_sdict))"
   ]
  },
  {
   "cell_type": "markdown",
   "id": "62f1919e-fcab-4a25-a3f1-bc8103a8324b",
   "metadata": {},
   "source": [
    "Load unet from diffusers"
   ]
  },
  {
   "cell_type": "code",
   "execution_count": 11,
   "id": "76e7816d-c4d8-452a-aa43-fa60a635222f",
   "metadata": {},
   "outputs": [],
   "source": [
    "df_sdict = remove_bias(to_shape(pipe.unet.state_dict()))"
   ]
  },
  {
   "cell_type": "markdown",
   "id": "6d38d7fb-cde0-4f48-9a1d-cc584fb4be1a",
   "metadata": {},
   "source": [
    "___\n"
   ]
  },
  {
   "cell_type": "markdown",
   "id": "a2244043-fdd2-4c37-98bd-855b24ffa072",
   "metadata": {},
   "source": [
    "### First goal: Map one resnet"
   ]
  },
  {
   "cell_type": "code",
   "execution_count": 12,
   "id": "abbfa527-eb22-4b05-91ff-f2e4a86bb2ad",
   "metadata": {},
   "outputs": [],
   "source": [
    "cn = cn_sdict\n",
    "df = df_sdict\n",
    "\n",
    "cn_bak = cn.copy()\n",
    "df_bak = df.copy()"
   ]
  },
  {
   "cell_type": "code",
   "execution_count": 13,
   "id": "c27daf3c-272a-4e8c-9de8-965cee58bbaa",
   "metadata": {},
   "outputs": [],
   "source": [
    "from dataclasses import dataclass\n",
    "\n",
    "@dataclass\n",
    "class MappedModule:\n",
    "    cn: str\n",
    "    df: str\n",
    "    shape: list\n",
    "    def __repr__(self): return f'{self.df} {self.shape}'\n",
    "\n",
    "\n",
    "class UnmappedModel:\n",
    "    def __init__(self, modules): self.modules = modules\n",
    "    def print(self, contains='', lv=None): pretty_print_dict(nested_dict(filter_dict(self.modules,by=contains)), lv=lv)\n",
    "    def remove(self,k): selfl.module.remove(k)\n",
    "\n",
    "def filter_dict(d,by): return {k:v for k,v in d.items() if by in k}\n",
    "\n",
    "class MappedModel:\n",
    "    modules = []\n",
    "\n",
    "    def __init__(self, unmapped_cn, unmapped_df): self.unmapped_cn,self.unmapped_df=unmapped_cn,unmapped_df\n",
    "    \n",
    "    def add(self, cn_module, df_module):\n",
    "        # check shapes\n",
    "        cn_shape = self.unmapped_cn[cn_module]\n",
    "        df_shape = self.unmapped_cn[df_module]\n",
    "        assert cn_shape==df_shape, f'Mapping don\\'t fit: {cn_shape} != {df_shape}'\n",
    "        # add to mapped\n",
    "        self.modules = sorted(self.modules + [MappedModule(cn=cn_module,df=df_module,shape=cn_shape)], key=lambda o:o.df)\n",
    "        # remove from unmapped\n",
    "        self.unmapped_cn.remove(cn_module)\n",
    "        self.unmapped_df.remove(df_module)\n",
    "        \n",
    "    def __repr__(self): return '\\n'.join(str(m) for m in self.modules)"
   ]
  },
  {
   "cell_type": "code",
   "execution_count": 14,
   "id": "58b4cb68-c408-4909-8e38-d9a0fb1cf56a",
   "metadata": {},
   "outputs": [],
   "source": [
    "mapped = MappedModel(cn,df)"
   ]
  },
  {
   "cell_type": "code",
   "execution_count": 15,
   "id": "f000c370-6f0f-4655-bbba-4717cdab9110",
   "metadata": {},
   "outputs": [],
   "source": [
    "cn_unmapped = UnmappedModel(cn)\n",
    "df_unmapped = UnmappedModel(df)"
   ]
  },
  {
   "cell_type": "code",
   "execution_count": 34,
   "id": "5336cdd5-15b9-4727-a00c-3d82ff85c3b2",
   "metadata": {},
   "outputs": [
    {
     "name": "stdout",
     "output_type": "stream",
     "text": [
      "conv_in -> [320, 4, 3, 3]\n"
     ]
    }
   ],
   "source": [
    "df_unmapped.print('conv_in', lv=5)"
   ]
  },
  {
   "cell_type": "code",
   "execution_count": 35,
   "id": "e4797053-d515-4ad4-b136-2911528e7ddd",
   "metadata": {},
   "outputs": [
    {
     "name": "stdout",
     "output_type": "stream",
     "text": [
      "input_blocks\n",
      "    0\n",
      "        0 -> [320, 4, 3, 3]\n"
     ]
    }
   ],
   "source": [
    "cn_unmapped.print('input_blocks.0', lv=10)"
   ]
  },
  {
   "cell_type": "code",
   "execution_count": null,
   "id": "43c44681-37f7-4ba6-a7da-39116d93bb90",
   "metadata": {},
   "outputs": [],
   "source": []
  },
  {
   "cell_type": "code",
   "execution_count": 74,
   "id": "8fd22de0-e68c-436c-b72f-2e0789fb2482",
   "metadata": {},
   "outputs": [
    {
     "name": "stdout",
     "output_type": "stream",
     "text": [
      "up_blocks\n",
      "    1\n",
      "        resnets\n",
      "            2\n",
      "                norm1 -> [960]\n"
     ]
    }
   ],
   "source": [
    "df_unmapped.print('up_blocks.1.resnets.2.norm1', lv=5)"
   ]
  },
  {
   "cell_type": "code",
   "execution_count": 69,
   "id": "9d7bf997-04ac-47dd-bc82-56d0be31d894",
   "metadata": {},
   "outputs": [
    {
     "name": "stdout",
     "output_type": "stream",
     "text": [
      "output_blocks\n",
      "    0\n",
      "        0\n",
      "            in_layers\n",
      "                0 -> [2560]\n",
      "                2 -> [1280, 2560, 3, 3]\n",
      "            emb_layers\n",
      "                1 -> [1280, 1280]\n",
      "            out_layers\n",
      "                0 -> [1280]\n",
      "                3 -> [1280, 1280, 3, 3]\n",
      "            skip_connection -> [1280, 2560, 1, 1]\n",
      "        1\n",
      "            norm -> [1280]\n",
      "            proj_in -> [1280, 1280]\n",
      "            transformer_blocks\n",
      "                0\n",
      "                1\n",
      "                2\n",
      "                3\n",
      "                4\n",
      "                5\n",
      "                6\n",
      "                7\n",
      "                8\n",
      "                9\n",
      "            proj_out -> [1280, 1280]\n"
     ]
    }
   ],
   "source": [
    "cn_unmapped.print('output_blocks.0', lv=5)"
   ]
  },
  {
   "cell_type": "code",
   "execution_count": 68,
   "id": "9ac94dd6-6ff3-49ae-b0a6-791de466f5a6",
   "metadata": {},
   "outputs": [
    {
     "name": "stdout",
     "output_type": "stream",
     "text": [
      "input_blocks\n",
      "    1\n",
      "        0\n",
      "            in_layers\n",
      "                0 -> [320]\n",
      "                2 -> [320, 320, 3, 3]\n",
      "            emb_layers\n",
      "                1 -> [320, 1280]\n",
      "            out_layers\n",
      "                0 -> [320]\n",
      "                3 -> [320, 320, 3, 3]\n"
     ]
    }
   ],
   "source": [
    "cn_unmapped.print('input_blocks.1', lv=5)"
   ]
  },
  {
   "cell_type": "code",
   "execution_count": null,
   "id": "9bb4632a-cbfd-4aad-afc1-c17fcd07e37f",
   "metadata": {},
   "outputs": [],
   "source": []
  }
 ],
 "metadata": {
  "kernelspec": {
   "display_name": "Python 3 (ipykernel)",
   "language": "python",
   "name": "python3"
  },
  "language_info": {
   "codemirror_mode": {
    "name": "ipython",
    "version": 3
   },
   "file_extension": ".py",
   "mimetype": "text/x-python",
   "name": "python",
   "nbconvert_exporter": "python",
   "pygments_lexer": "ipython3",
   "version": "3.11.5"
  }
 },
 "nbformat": 4,
 "nbformat_minor": 5
}
