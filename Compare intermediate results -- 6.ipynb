{
 "cells": [
  {
   "cell_type": "markdown",
   "id": "30794abe-5ec0-4ecd-90c5-5ef222fc2e48",
   "metadata": {},
   "source": [
    "The current issue seems to be applying the ctrl subblock. Let's analyze it."
   ]
  },
  {
   "cell_type": "code",
   "execution_count": 1,
   "id": "2fa846a7-09c0-472e-b00b-53e1946eb913",
   "metadata": {},
   "outputs": [],
   "source": [
    "import torch\n",
    "from torch.testing import assert_close\n",
    "from torch import allclose, nn, tensor\n",
    "torch.set_printoptions(linewidth=200)"
   ]
  },
  {
   "cell_type": "code",
   "execution_count": 2,
   "id": "18ae4f5a-d7eb-4471-be6f-cae1f309ed92",
   "metadata": {},
   "outputs": [],
   "source": [
    "device = 'cuda' if torch.cuda.is_available() else 'mps'\n",
    "device_dtype = torch.float16 if device == 'cuda' else torch.float32"
   ]
  },
  {
   "cell_type": "markdown",
   "id": "c739024d-d8ee-4aee-882c-9c5388ff6057",
   "metadata": {},
   "source": [
    "## Load the model"
   ]
  },
  {
   "cell_type": "code",
   "execution_count": 3,
   "id": "c565cf82-1eaa-4e68-8d35-a6459ee60097",
   "metadata": {
    "tags": []
   },
   "outputs": [],
   "source": [
    "from diffusers import StableDiffusionXLPipeline\n",
    "from diffusers import EulerDiscreteScheduler\n",
    "from diffusers.models.controlnetxs import ControlNetXSModel\n",
    "from diffusers.pipelines.controlnet_xs.pipeline_controlnet_xs_sd_xl import StableDiffusionXLControlNetXSPipeline"
   ]
  },
  {
   "cell_type": "code",
   "execution_count": 4,
   "id": "e0b304d6-cb41-49f5-849d-3e955da3e5e6",
   "metadata": {
    "tags": []
   },
   "outputs": [],
   "source": [
    "sdxl_pipe = StableDiffusionXLPipeline.from_single_file('weights/sdxl/sd_xl_base_1.0_0.9vae.safetensors').to(device)\n",
    "cnxs = ControlNetXSModel.from_pretrained('weights/cnxs').to(device)"
   ]
  },
  {
   "cell_type": "code",
   "execution_count": 5,
   "id": "1af1ff7f-cb94-448b-9988-6a309b56cd9e",
   "metadata": {},
   "outputs": [],
   "source": [
    "cnxs.base_model = sdxl_pipe.unet"
   ]
  },
  {
   "cell_type": "markdown",
   "id": "0b7758a1-6260-4d2c-a874-b63271eb9b61",
   "metadata": {},
   "source": [
    "The example script of Heidelberg manually sets scale_list to 0.95"
   ]
  },
  {
   "cell_type": "code",
   "execution_count": 6,
   "id": "1b7f0107-b0ff-4989-aabf-533638fb7eb8",
   "metadata": {},
   "outputs": [],
   "source": [
    "cnxs.scale_list = cnxs.scale_list * 0. + 0.95\n",
    "assert cnxs.scale_list[0] == .95"
   ]
  },
  {
   "cell_type": "markdown",
   "id": "e9b95d9c-ac7a-42d3-82cf-4eef25a591ae",
   "metadata": {},
   "source": [
    "Heidelberg uses `timestep_spacing = 'linspace'` in their scheduler, so let's do that as well"
   ]
  },
  {
   "cell_type": "code",
   "execution_count": 7,
   "id": "ca82d739-fb30-429a-a902-3e711428ffa5",
   "metadata": {},
   "outputs": [
    {
     "name": "stdout",
     "output_type": "stream",
     "text": [
      "timestep_spacing = \"leading\" and timesteps=[999.      978.61224 958.2245  937.83673 917.449  ] ...\n",
      "sigmas before interpolation: [0.02916753 0.04131448 0.05068044 0.05861427 0.06563709] ...\n",
      "sigmas after (linear) interpolation: [14.61464691 12.93677721 11.49164976 10.24291444  9.16035419] ...\n",
      "At end of `set_timesteps`:\n",
      "sigmas =  tensor([14.6146, 12.9368, 11.4916, 10.2429,  9.1604]) ...\n",
      "timesteps = tensor([999.0000, 978.6122, 958.2245, 937.8367, 917.4490]) ...\n"
     ]
    }
   ],
   "source": [
    "scheduler_cgf = dict(sdxl_pipe.scheduler.config)\n",
    "scheduler_cgf['timestep_spacing'] = 'linspace'\n",
    "sdxl_pipe.scheduler = EulerDiscreteScheduler.from_config(scheduler_cgf)\n",
    "\n",
    "# test it worked\n",
    "sdxl_pipe.scheduler.set_timesteps(50)\n",
    "assert sdxl_pipe.scheduler.timesteps[0]==999\n",
    "\n",
    "# reset\n",
    "sdxl_pipe.scheduler = EulerDiscreteScheduler.from_config(scheduler_cgf)"
   ]
  },
  {
   "cell_type": "code",
   "execution_count": 8,
   "id": "a120b84b-1126-4d6c-b08e-8114b5761c25",
   "metadata": {},
   "outputs": [],
   "source": [
    "cnxs_pipe = StableDiffusionXLControlNetXSPipeline(\n",
    "    vae=sdxl_pipe.vae,\n",
    "    text_encoder=sdxl_pipe.text_encoder,\n",
    "    text_encoder_2=sdxl_pipe.text_encoder_2,\n",
    "    tokenizer=sdxl_pipe.tokenizer,\n",
    "    tokenizer_2=sdxl_pipe.tokenizer_2,\n",
    "    unet=sdxl_pipe.unet,\n",
    "    controlnet=cnxs,\n",
    "    scheduler=sdxl_pipe.scheduler,\n",
    ")"
   ]
  },
  {
   "cell_type": "markdown",
   "id": "994cd8cf-1682-47e5-a7ff-4ccb3095ad61",
   "metadata": {},
   "source": [
    "___"
   ]
  },
  {
   "cell_type": "code",
   "execution_count": 9,
   "id": "75837c73-7725-4fd1-92b4-7eef93cec881",
   "metadata": {},
   "outputs": [],
   "source": [
    "from util_inspect import load_intermediate_outputs, print_metadata, compare_intermediate_results"
   ]
  },
  {
   "cell_type": "code",
   "execution_count": 22,
   "id": "f993133a-e5db-48e8-a7b5-2f8fad5e2b85",
   "metadata": {},
   "outputs": [
    {
     "data": {
      "text/plain": [
       "(72, 72)"
      ]
     },
     "execution_count": 22,
     "metadata": {},
     "output_type": "execute_result"
    }
   ],
   "source": [
    "model_outp_cloud = load_intermediate_outputs('intermediate_output/cloud_debug_log.pkl')\n",
    "model_outp_local = load_intermediate_outputs('intermediate_output/local_debug_log.pkl')\n",
    "len(model_outp_cloud),len(model_outp_local)"
   ]
  },
  {
   "cell_type": "code",
   "execution_count": 52,
   "id": "c63293d3-f987-4013-b2d1-ebcef00ead14",
   "metadata": {},
   "outputs": [
    {
     "name": "stdout",
     "output_type": "stream",
     "text": [
      "-  | cloud               | local               | equal name? | equal shape? | equal values? | mean abs Δ\n",
      "   |                     |                     |             |              |    prec=3     |     prec=5\n",
      "--------------------------------------------------------------------------------------------------------\n",
      "5  | enc    h_base       | enc    h_base       | \u001b[92m     y     \u001b[0m | \u001b[92m     y      \u001b[0m | \u001b[92m      y      \u001b[0m |    0.00008   concatted base -> ctrl\n",
      "6  | enc    h_ctrl       | enc    h_ctrl       | \u001b[92m     y     \u001b[0m | \u001b[92m     y      \u001b[0m | \u001b[92m      y      \u001b[0m |    0.00000   applied base subblock\n",
      "7  | enc    h_ctrl       | enc    h_ctrl       | \u001b[92m     y     \u001b[0m | \u001b[92m     y      \u001b[0m | \u001b[92m      y      \u001b[0m |    0.00009   applied ctrl subblock\n",
      "8  | enc    h_base       | enc    h_base       | \u001b[92m     y     \u001b[0m | \u001b[92m     y      \u001b[0m | \u001b[92m      y      \u001b[0m |    0.00008   added ctrl -> base\n",
      "- - - - - - - - - - - - - - - - - - - - - - - - - - - - - - - - - - - - - - - - - - - - - - - - - - - - \n",
      "9  | enc    h_ctrl       | enc    h_ctrl       | \u001b[92m     y     \u001b[0m | \u001b[92m     y      \u001b[0m | \u001b[92m      y      \u001b[0m |    0.00006   concatted base -> ctrl\n",
      "10 | enc    h_base       | enc    h_base       | \u001b[92m     y     \u001b[0m | \u001b[92m     y      \u001b[0m | \u001b[91m      n      \u001b[0m |    0.00226   applied base subblock\n",
      "11 | enc    h_ctrl       | enc    h_ctrl       | \u001b[92m     y     \u001b[0m | \u001b[92m     y      \u001b[0m | \u001b[92m      y      \u001b[0m |    0.00019   applied ctrl subblock\n",
      "12 | enc    h_base       | enc    h_base       | \u001b[92m     y     \u001b[0m | \u001b[92m     y      \u001b[0m | \u001b[91m      n      \u001b[0m |    0.00226   added ctrl -> base\n",
      "- - - - - - - - - - - - - - - - - - - - - - - - - - - - - - - - - - - - - - - - - - - - - - - - - - - - \n",
      "13 | enc    h_ctrl       | enc    h_ctrl       | \u001b[92m     y     \u001b[0m | \u001b[92m     y      \u001b[0m | \u001b[92m      y      \u001b[0m |    0.00110   concatted base -> ctrl\n",
      "14 | enc    h_base       | enc    h_base       | \u001b[92m     y     \u001b[0m | \u001b[92m     y      \u001b[0m | \u001b[91m      n      \u001b[0m |    0.00469   applied base subblock\n",
      "15 | enc    h_ctrl       | enc    h_ctrl       | \u001b[92m     y     \u001b[0m | \u001b[92m     y      \u001b[0m | \u001b[91m      n      \u001b[0m |    0.00201   applied ctrl subblock\n",
      "16 | enc    h_base       | enc    h_base       | \u001b[92m     y     \u001b[0m | \u001b[92m     y      \u001b[0m | \u001b[91m      n      \u001b[0m |    0.00466   added ctrl -> base\n",
      "- - - - - - - - - - - - - - - - - - - - - - - - - - - - - - - - - - - - - - - - - - - - - - - - - - - - \n",
      "17 | enc    h_ctrl       | enc    h_ctrl       | \u001b[92m     y     \u001b[0m | \u001b[92m     y      \u001b[0m | \u001b[91m      n      \u001b[0m |    0.00211   concatted base -> ctrl\n",
      "18 | enc    h_base       | enc    h_base       | \u001b[92m     y     \u001b[0m | \u001b[92m     y      \u001b[0m | \u001b[91m      n      \u001b[0m |    0.00817   applied base subblock\n",
      "19 | enc    h_ctrl       | enc    h_ctrl       | \u001b[92m     y     \u001b[0m | \u001b[92m     y      \u001b[0m | \u001b[91m      n      \u001b[0m |    0.01570   applied ctrl subblock\n",
      "20 | enc    h_base       | enc    h_base       | \u001b[92m     y     \u001b[0m | \u001b[92m     y      \u001b[0m | \u001b[91m      n      \u001b[0m |    0.00812   added ctrl -> base\n",
      "- - - - - - - - - - - - - - - - - - - - - - - - - - - - - - - - - - - - - - - - - - - - - - - - - - - - \n",
      "21 | enc    h_ctrl       | enc    h_ctrl       | \u001b[92m     y     \u001b[0m | \u001b[92m     y      \u001b[0m | \u001b[91m      n      \u001b[0m |    0.00592   concatted base -> ctrl\n",
      "22 | enc    h_base       | enc    h_base       | \u001b[92m     y     \u001b[0m | \u001b[92m     y      \u001b[0m | \u001b[91m      n      \u001b[0m |    0.00677   applied base subblock\n",
      "23 | enc    h_ctrl       | enc    h_ctrl       | \u001b[92m     y     \u001b[0m | \u001b[92m     y      \u001b[0m | \u001b[91m      n      \u001b[0m |    0.20753   applied ctrl subblock\n",
      "24 | enc    h_base       | enc    h_base       | \u001b[92m     y     \u001b[0m | \u001b[92m     y      \u001b[0m | \u001b[91m      n      \u001b[0m |    0.03086   added ctrl -> base\n",
      "- - - - - - - - - - - - - - - - - - - - - - - - - - - - - - - - - - - - - - - - - - - - - - - - - - - - \n",
      "25 | enc    h_ctrl       | enc    h_ctrl       | \u001b[92m     y     \u001b[0m | \u001b[92m     y      \u001b[0m | \u001b[91m      n      \u001b[0m |    0.05815   concatted base -> ctrl\n",
      "26 | enc    h_base       | enc    h_base       | \u001b[92m     y     \u001b[0m | \u001b[92m     y      \u001b[0m | \u001b[91m      n      \u001b[0m |    0.04061   applied base subblock\n",
      "27 | enc    h_ctrl       | enc    h_ctrl       | \u001b[92m     y     \u001b[0m | \u001b[92m     y      \u001b[0m | \u001b[91m      n      \u001b[0m |    0.16134   applied ctrl subblock\n",
      "28 | enc    h_base       | enc    h_base       | \u001b[92m     y     \u001b[0m | \u001b[92m     y      \u001b[0m | \u001b[91m      n      \u001b[0m |    0.04526   added ctrl -> base\n",
      "- - - - - - - - - - - - - - - - - - - - - - - - - - - - - - - - - - - - - - - - - - - - - - - - - - - - \n"
     ]
    }
   ],
   "source": [
    "compare_intermediate_results(model_outp_cloud, model_outp_local, n=28, n_start=5,prec=5, compare_prec=3)"
   ]
  },
  {
   "cell_type": "markdown",
   "id": "06b774ae-522e-4243-a423-a4fa2eb1564d",
   "metadata": {},
   "source": [
    "___"
   ]
  },
  {
   "cell_type": "markdown",
   "id": "31416626-374d-4fce-9dce-a304587da66d",
   "metadata": {},
   "source": [
    "**Q:** Did I maybe also load their weights incorrectly?"
   ]
  },
  {
   "cell_type": "code",
   "execution_count": 54,
   "id": "92267c79-9175-47d7-a458-0696d67ad15b",
   "metadata": {},
   "outputs": [
    {
     "data": {
      "text/plain": [
       "ResnetBlock2D(\n",
       "  (norm1): GroupNorm(32, 352, eps=1e-05, affine=True)\n",
       "  (conv1): LoRACompatibleConv(352, 32, kernel_size=(3, 3), stride=(1, 1), padding=(1, 1))\n",
       "  (time_emb_proj): LoRACompatibleLinear(in_features=1280, out_features=32, bias=True)\n",
       "  (norm2): GroupNorm(32, 32, eps=1e-05, affine=True)\n",
       "  (dropout): Dropout(p=0.0, inplace=False)\n",
       "  (conv2): LoRACompatibleConv(32, 32, kernel_size=(3, 3), stride=(1, 1), padding=(1, 1))\n",
       "  (nonlinearity): SiLU()\n",
       "  (conv_shortcut): LoRACompatibleConv(352, 32, kernel_size=(1, 1), stride=(1, 1))\n",
       ")"
      ]
     },
     "execution_count": 54,
     "metadata": {},
     "output_type": "execute_result"
    }
   ],
   "source": [
    "first_resblock = cnxs.control_model.down_blocks[0].resnets[0]\n",
    "first_resblock"
   ]
  },
  {
   "cell_type": "code",
   "execution_count": 55,
   "id": "d458c3a8-82eb-4462-8fa6-d6877cc93ced",
   "metadata": {},
   "outputs": [],
   "source": [
    "param_parts = ('conv1','time_emb_proj','conv2','conv_shortcut')"
   ]
  },
  {
   "cell_type": "code",
   "execution_count": 65,
   "id": "fe27d6e2-7c68-47b7-9a02-27594ef72b7a",
   "metadata": {},
   "outputs": [],
   "source": [
    "from diffusers.models.controlnetxs import to_sub_blocks\n",
    "ctrl_down_subblocks = to_sub_blocks(cnxs.control_model.down_blocks)"
   ]
  },
  {
   "cell_type": "code",
   "execution_count": 67,
   "id": "667211d2-b49c-415b-8067-29588123bba7",
   "metadata": {},
   "outputs": [
    {
     "data": {
      "text/plain": [
       "8"
      ]
     },
     "execution_count": 67,
     "metadata": {},
     "output_type": "execute_result"
    }
   ],
   "source": [
    "len(ctrl_down_subblocks)"
   ]
  },
  {
   "cell_type": "code",
   "execution_count": 69,
   "id": "1d556244-29e3-4e4b-9a02-6631bd4eb375",
   "metadata": {},
   "outputs": [],
   "source": [
    "from util import cls_name"
   ]
  },
  {
   "cell_type": "code",
   "execution_count": 77,
   "id": "ba722067-911c-4adb-9b28-b56e64118b5a",
   "metadata": {},
   "outputs": [],
   "source": [
    "param_parts = {\n",
    "    'ResnetBlock2D': ['conv1','time_emb_proj','conv2','conv_shortcut'],\n",
    "    'Downsample2D': ['conv']\n",
    "}"
   ]
  },
  {
   "cell_type": "code",
   "execution_count": 78,
   "id": "f4cc2bb7-861a-41f5-9943-dc1ff57209e5",
   "metadata": {},
   "outputs": [
    {
     "name": "stdout",
     "output_type": "stream",
     "text": [
      "Subblock 0 - ResnetBlock2D:\n",
      "conv1                tensor([-0.0225,  0.0219, -0.0374,  0.0109,  0.0028,  0.0212,  0.0164, -0.0133, -0.0110, -0.0135])\n",
      "time_emb_proj        tensor([-0.0152,  0.0160, -0.0025,  0.0155, -0.0167,  0.0045, -0.0243, -0.0039,  0.0127, -0.0094])\n",
      "conv2                tensor([-0.0180, -0.0231, -0.0207, -0.0339, -0.0294, -0.0046, -0.0047, -0.0194,  0.0065,  0.0078])\n",
      "conv_shortcut        tensor([ 0.0269,  0.0493, -0.0816,  0.0297, -0.0484,  0.0082,  0.0849, -0.0301, -0.1588,  0.0405])\n",
      "\n",
      "Subblock 1 - ResnetBlock2D:\n",
      "conv1                tensor([ 0.0023, -0.0076, -0.0082,  0.0090,  0.0185,  0.0055, -0.0044, -0.0300,  0.0023,  0.0091])\n",
      "time_emb_proj        tensor([-0.0142,  0.0132, -0.0026,  0.0191, -0.0068,  0.0182, -0.0076,  0.0256,  0.0187, -0.0159])\n",
      "conv2                tensor([ 0.0116,  0.0100, -0.0316, -0.0018,  0.0002, -0.0166, -0.0173,  0.0020, -0.0167, -0.0232])\n",
      "conv_shortcut        tensor([ 0.0024, -0.0124, -0.0311, -0.0614, -0.0990, -0.0994, -0.0391, -0.1036,  0.0628,  0.0304])\n",
      "\n",
      "Subblock 2 - Downsample2D:\n",
      "conv                 tensor([ 0.0014, -0.0107, -0.0256, -0.0322, -0.0727, -0.0276, -0.0175, -0.0603, -0.0378, -0.0008])\n",
      "\n",
      "Subblock 3 - ResnetBlock2D:\n",
      "conv1                tensor([ 0.0038, -0.0225, -0.0137,  0.0118,  0.0261,  0.0445,  0.0046,  0.0254,  0.0123,  0.0196])\n",
      "time_emb_proj        tensor([ 0.0029,  0.0281,  0.0008,  0.0192,  0.0290,  0.0038, -0.0110,  0.0048, -0.0119,  0.0320])\n",
      "conv2                tensor([-0.0015,  0.0039,  0.0196,  0.0022,  0.0137,  0.0201,  0.0038,  0.0015,  0.0076, -0.0116])\n",
      "conv_shortcut        tensor([ 0.0105,  0.0405, -0.0068, -0.0370,  0.0426, -0.0199,  0.0712, -0.0207, -0.0158,  0.0146])\n",
      "\n",
      "Subblock 4 - ResnetBlock2D:\n",
      "conv1                tensor([ 0.0125,  0.0231,  0.0078,  0.0088,  0.0212, -0.0005,  0.0063, -0.0082, -0.0049, -0.0073])\n",
      "time_emb_proj        tensor([-0.0077,  0.0140, -0.0198, -0.0020,  0.0209,  0.0031,  0.0255,  0.0376,  0.0209,  0.0419])\n",
      "conv2                tensor([ 0.0068,  0.0122,  0.0078, -0.0034,  0.0013,  0.0023, -0.0065,  0.0048,  0.0061, -0.0060])\n",
      "conv_shortcut        tensor([ 0.0409,  0.0009,  0.0166,  0.0155, -0.0032,  0.0379, -0.0255,  0.0058, -0.0301,  0.0224])\n",
      "\n",
      "Subblock 5 - Downsample2D:\n",
      "conv                 tensor([-0.0161, -0.0169, -0.0305, -0.0299, -0.0325, -0.0410, -0.0279, -0.0187, -0.0390,  0.0234])\n",
      "\n",
      "Subblock 6 - ResnetBlock2D:\n",
      "conv1                tensor([ 0.0206,  0.0154,  0.0105,  0.0079,  0.0243,  0.0134,  0.0070,  0.0179,  0.0059, -0.0110])\n",
      "time_emb_proj        tensor([-1.9000e-02,  1.4582e-02, -2.6406e-02,  2.2612e-02,  1.5059e-05,  3.3383e-02,  1.0330e-02, -1.6467e-03,  8.3065e-03, -2.8895e-03])\n",
      "conv2                tensor([ 0.0040,  0.0018,  0.0039, -0.0016, -0.0038, -0.0039, -0.0098, -0.0114, -0.0120,  0.0087])\n",
      "conv_shortcut        tensor([-0.0092,  0.0251,  0.0145, -0.0126, -0.0410,  0.0210, -0.0353, -0.0262, -0.0098, -0.0207])\n",
      "\n",
      "Subblock 7 - ResnetBlock2D:\n",
      "conv1                tensor([-9.8836e-05,  1.3444e-02,  1.0174e-02,  4.2135e-03,  5.0547e-03,  4.8702e-03, -7.1490e-03,  6.3899e-03,  8.2130e-03,  5.3117e-03])\n",
      "time_emb_proj        tensor([-0.0073,  0.0077, -0.0156,  0.0150, -0.0060,  0.0162,  0.0031, -0.0053,  0.0093, -0.0236])\n",
      "conv2                tensor([ 0.0107, -0.0005, -0.0032,  0.0017, -0.0033, -0.0045,  0.0066,  0.0030,  0.0046, -0.0098])\n",
      "conv_shortcut        tensor([-0.0185, -0.0004, -0.0143,  0.0176,  0.0277,  0.0025, -0.0249, -0.0079,  0.0086,  0.0037])\n",
      "\n"
     ]
    }
   ],
   "source": [
    "for i,m in enumerate(ctrl_down_subblocks):\n",
    "    m = m[0] # unwrap EmbedSequential\n",
    "    print(f'Subblock {i} - {cls_name(m)}:')\n",
    "    for p in param_parts[cls_name(m)]:\n",
    "        first_values = getattr(m,p).weight.flatten().cpu().detach()[:10]\n",
    "        print(f'{p:<20} {first_values}')\n",
    "    print()"
   ]
  },
  {
   "cell_type": "markdown",
   "id": "e4e7e50c-c479-4c08-8cf3-75d25237bda6",
   "metadata": {},
   "source": [
    "No downblock is empty"
   ]
  },
  {
   "cell_type": "markdown",
   "id": "e7f65912-f249-4af6-ae1c-f5ccd88d91e3",
   "metadata": {},
   "source": [
    "Also, the weights on cloud look identical:\n",
    "```\n",
    "Subblock 0 - ResBlock:\n",
    "conv1                tensor([-0.0225,  0.0219, -0.0374,  0.0109,  0.0028,  0.0212,  0.0164, -0.0133, -0.0110, -0.0135])\n",
    "time_emb_proj        tensor([-0.0152,  0.0160, -0.0025,  0.0155, -0.0167,  0.0045, -0.0243, -0.0039,  0.0127, -0.0094])\n",
    "conv2                tensor([-0.0180, -0.0231, -0.0207, -0.0339, -0.0294, -0.0046, -0.0047, -0.0194,  0.0065,  0.0078])\n",
    "conv_shortcut        tensor([ 0.0269,  0.0493, -0.0816,  0.0297, -0.0484,  0.0082,  0.0849, -0.0301, -0.1588,  0.0405])\n",
    "\n",
    "Subblock 1 - ResBlock:\n",
    "conv1                tensor([ 0.0023, -0.0076, -0.0082,  0.0090,  0.0185,  0.0055, -0.0044, -0.0300,  0.0023,  0.0091])\n",
    "time_emb_proj        tensor([-0.0142,  0.0132, -0.0026,  0.0191, -0.0068,  0.0182, -0.0076,  0.0256,  0.0187, -0.0159])\n",
    "conv2                tensor([ 0.0116,  0.0100, -0.0316, -0.0018,  0.0002, -0.0166, -0.0173,  0.0020, -0.0167, -0.0232])\n",
    "conv_shortcut        tensor([ 0.0024, -0.0124, -0.0311, -0.0614, -0.0990, -0.0994, -0.0391, -0.1036,  0.0628,  0.0304])\n",
    "\n",
    "Subblock 2 - Downsample:\n",
    "conv                 tensor([ 0.0014, -0.0107, -0.0256, -0.0322, -0.0727, -0.0276, -0.0175, -0.0603, -0.0378, -0.0008])\n",
    "\n",
    "Subblock 3 - ResBlock:\n",
    "conv1                tensor([ 0.0038, -0.0225, -0.0137,  0.0118,  0.0261,  0.0445,  0.0046,  0.0254,  0.0123,  0.0196])\n",
    "time_emb_proj        tensor([ 0.0029,  0.0281,  0.0008,  0.0192,  0.0290,  0.0038, -0.0110,  0.0048, -0.0119,  0.0320])\n",
    "conv2                tensor([-0.0015,  0.0039,  0.0196,  0.0022,  0.0137,  0.0201,  0.0038,  0.0015,  0.0076, -0.0116])\n",
    "conv_shortcut        tensor([ 0.0105,  0.0405, -0.0068, -0.0370,  0.0426, -0.0199,  0.0712, -0.0207, -0.0158,  0.0146])\n",
    "\n",
    "Subblock 4 - ResBlock:\n",
    "conv1                tensor([ 0.0125,  0.0231,  0.0078,  0.0088,  0.0212, -0.0005,  0.0063, -0.0082, -0.0049, -0.0073])\n",
    "time_emb_proj        tensor([-0.0077,  0.0140, -0.0198, -0.0020,  0.0209,  0.0031,  0.0255,  0.0376,  0.0209,  0.0419])\n",
    "conv2                tensor([ 0.0068,  0.0122,  0.0078, -0.0034,  0.0013,  0.0023, -0.0065,  0.0048,  0.0061, -0.0060])\n",
    "conv_shortcut        tensor([ 0.0409,  0.0009,  0.0166,  0.0155, -0.0032,  0.0379, -0.0255,  0.0058, -0.0301,  0.0224])\n",
    "\n",
    "Subblock 5 - Downsample:\n",
    "conv                 tensor([-0.0161, -0.0169, -0.0305, -0.0299, -0.0325, -0.0410, -0.0279, -0.0187, -0.0390,  0.0234])\n",
    "\n",
    "Subblock 6 - ResBlock:\n",
    "conv1                tensor([ 0.0206,  0.0154,  0.0105,  0.0079,  0.0243,  0.0134,  0.0070,  0.0179,  0.0059, -0.0110])\n",
    "time_emb_proj        tensor([-1.9000e-02,  1.4582e-02, -2.6406e-02,  2.2612e-02,  1.5059e-05,  3.3383e-02,  1.0330e-02, -1.6467e-03,  8.3065e-03, -2.8895e-03])\n",
    "conv2                tensor([ 0.0040,  0.0018,  0.0039, -0.0016, -0.0038, -0.0039, -0.0098, -0.0114, -0.0120,  0.0087])\n",
    "conv_shortcut        tensor([-0.0092,  0.0251,  0.0145, -0.0126, -0.0410,  0.0210, -0.0353, -0.0262, -0.0098, -0.0207])\n",
    "\n",
    "Subblock 7 - ResBlock:\n",
    "conv1                tensor([-9.8836e-05,  1.3444e-02,  1.0174e-02,  4.2135e-03,  5.0547e-03,  4.8702e-03, -7.1490e-03,  6.3899e-03,  8.2130e-03,  5.3117e-03])\n",
    "time_emb_proj        tensor([-0.0073,  0.0077, -0.0156,  0.0150, -0.0060,  0.0162,  0.0031, -0.0053,  0.0093, -0.0236])\n",
    "conv2                tensor([ 0.0107, -0.0005, -0.0032,  0.0017, -0.0033, -0.0045,  0.0066,  0.0030,  0.0046, -0.0098])\n",
    "conv_shortcut        tensor([-0.0185, -0.0004, -0.0143,  0.0176,  0.0277,  0.0025, -0.0249, -0.0079,  0.0086,  0.0037])\n",
    "```"
   ]
  },
  {
   "cell_type": "markdown",
   "id": "01395133-acad-439c-9936-5cd6c20456f1",
   "metadata": {},
   "source": [
    "Hmmmmmm...."
   ]
  },
  {
   "cell_type": "code",
   "execution_count": null,
   "id": "1f777e28-9fbb-4921-9cda-836ba06a61de",
   "metadata": {},
   "outputs": [],
   "source": []
  },
  {
   "cell_type": "code",
   "execution_count": null,
   "id": "ddd21083-ab5c-452d-8daf-89ecfced62f6",
   "metadata": {},
   "outputs": [],
   "source": []
  }
 ],
 "metadata": {
  "kernelspec": {
   "display_name": "Python 3 (ipykernel)",
   "language": "python",
   "name": "python3"
  },
  "language_info": {
   "codemirror_mode": {
    "name": "ipython",
    "version": 3
   },
   "file_extension": ".py",
   "mimetype": "text/x-python",
   "name": "python",
   "nbconvert_exporter": "python",
   "pygments_lexer": "ipython3",
   "version": "3.11.5"
  }
 },
 "nbformat": 4,
 "nbformat_minor": 5
}
