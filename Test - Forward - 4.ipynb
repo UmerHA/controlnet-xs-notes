{
 "cells": [
  {
   "cell_type": "markdown",
   "id": "30794abe-5ec0-4ecd-90c5-5ef222fc2e48",
   "metadata": {},
   "source": [
    "This tests if `forward` still works after making ControlNetXSModel savable via `register_to_config` & `save_pretrained`"
   ]
  },
  {
   "cell_type": "code",
   "execution_count": 1,
   "id": "2fa846a7-09c0-472e-b00b-53e1946eb913",
   "metadata": {},
   "outputs": [],
   "source": [
    "import torch"
   ]
  },
  {
   "cell_type": "code",
   "execution_count": 2,
   "id": "18ae4f5a-d7eb-4471-be6f-cae1f309ed92",
   "metadata": {},
   "outputs": [],
   "source": [
    "device = 'mps'\n",
    "device_dtype = torch.float32"
   ]
  },
  {
   "cell_type": "markdown",
   "id": "c739024d-d8ee-4aee-882c-9c5388ff6057",
   "metadata": {},
   "source": [
    "## Load the model"
   ]
  },
  {
   "cell_type": "code",
   "execution_count": 3,
   "id": "c565cf82-1eaa-4e68-8d35-a6459ee60097",
   "metadata": {
    "tags": []
   },
   "outputs": [],
   "source": [
    "from diffusers.models import AutoencoderKL\n",
    "from diffusers import StableDiffusionXLPipeline"
   ]
  },
  {
   "cell_type": "code",
   "execution_count": 4,
   "id": "0b99e095-743c-4078-8db2-eb0d7d731cd0",
   "metadata": {
    "tags": []
   },
   "outputs": [],
   "source": [
    "model = \"stabilityai/stable-diffusion-xl-base-1.0\"\n",
    "vae = AutoencoderKL.from_pretrained(\"stabilityai/sdxl-vae\", torch_dtype=device_dtype)"
   ]
  },
  {
   "cell_type": "code",
   "execution_count": 5,
   "id": "e0b304d6-cb41-49f5-849d-3e955da3e5e6",
   "metadata": {
    "tags": []
   },
   "outputs": [
    {
     "ename": "ConnectionError",
     "evalue": "(MaxRetryError(\"HTTPSConnectionPool(host='huggingface.co', port=443): Max retries exceeded with url: /api/models/stabilityai/stable-diffusion-xl-base-1.0 (Caused by NewConnectionError('<urllib3.connection.HTTPSConnection object at 0x2a976c850>: Failed to establish a new connection: [Errno 8] nodename nor servname provided, or not known'))\"), '(Request ID: c473dcf0-99c1-4187-ab98-debc018b7195)')",
     "output_type": "error",
     "traceback": [
      "\u001b[0;31m---------------------------------------------------------------------------\u001b[0m",
      "\u001b[0;31mgaierror\u001b[0m                                  Traceback (most recent call last)",
      "File \u001b[0;32m~/.local/share/virtualenvs/notebooks-cFP-wGb-/lib/python3.11/site-packages/urllib3/connection.py:174\u001b[0m, in \u001b[0;36mHTTPConnection._new_conn\u001b[0;34m(self)\u001b[0m\n\u001b[1;32m    173\u001b[0m \u001b[38;5;28;01mtry\u001b[39;00m:\n\u001b[0;32m--> 174\u001b[0m     conn \u001b[38;5;241m=\u001b[39m \u001b[43mconnection\u001b[49m\u001b[38;5;241;43m.\u001b[39;49m\u001b[43mcreate_connection\u001b[49m\u001b[43m(\u001b[49m\n\u001b[1;32m    175\u001b[0m \u001b[43m        \u001b[49m\u001b[43m(\u001b[49m\u001b[38;5;28;43mself\u001b[39;49m\u001b[38;5;241;43m.\u001b[39;49m\u001b[43m_dns_host\u001b[49m\u001b[43m,\u001b[49m\u001b[43m \u001b[49m\u001b[38;5;28;43mself\u001b[39;49m\u001b[38;5;241;43m.\u001b[39;49m\u001b[43mport\u001b[49m\u001b[43m)\u001b[49m\u001b[43m,\u001b[49m\u001b[43m \u001b[49m\u001b[38;5;28;43mself\u001b[39;49m\u001b[38;5;241;43m.\u001b[39;49m\u001b[43mtimeout\u001b[49m\u001b[43m,\u001b[49m\u001b[43m \u001b[49m\u001b[38;5;241;43m*\u001b[39;49m\u001b[38;5;241;43m*\u001b[39;49m\u001b[43mextra_kw\u001b[49m\n\u001b[1;32m    176\u001b[0m \u001b[43m    \u001b[49m\u001b[43m)\u001b[49m\n\u001b[1;32m    178\u001b[0m \u001b[38;5;28;01mexcept\u001b[39;00m SocketTimeout:\n",
      "File \u001b[0;32m~/.local/share/virtualenvs/notebooks-cFP-wGb-/lib/python3.11/site-packages/urllib3/util/connection.py:72\u001b[0m, in \u001b[0;36mcreate_connection\u001b[0;34m(address, timeout, source_address, socket_options)\u001b[0m\n\u001b[1;32m     68\u001b[0m     \u001b[38;5;28;01mreturn\u001b[39;00m six\u001b[38;5;241m.\u001b[39mraise_from(\n\u001b[1;32m     69\u001b[0m         LocationParseError(\u001b[38;5;124mu\u001b[39m\u001b[38;5;124m\"\u001b[39m\u001b[38;5;124m'\u001b[39m\u001b[38;5;132;01m%s\u001b[39;00m\u001b[38;5;124m'\u001b[39m\u001b[38;5;124m, label empty or too long\u001b[39m\u001b[38;5;124m\"\u001b[39m \u001b[38;5;241m%\u001b[39m host), \u001b[38;5;28;01mNone\u001b[39;00m\n\u001b[1;32m     70\u001b[0m     )\n\u001b[0;32m---> 72\u001b[0m \u001b[38;5;28;01mfor\u001b[39;00m res \u001b[38;5;129;01min\u001b[39;00m \u001b[43msocket\u001b[49m\u001b[38;5;241;43m.\u001b[39;49m\u001b[43mgetaddrinfo\u001b[49m\u001b[43m(\u001b[49m\u001b[43mhost\u001b[49m\u001b[43m,\u001b[49m\u001b[43m \u001b[49m\u001b[43mport\u001b[49m\u001b[43m,\u001b[49m\u001b[43m \u001b[49m\u001b[43mfamily\u001b[49m\u001b[43m,\u001b[49m\u001b[43m \u001b[49m\u001b[43msocket\u001b[49m\u001b[38;5;241;43m.\u001b[39;49m\u001b[43mSOCK_STREAM\u001b[49m\u001b[43m)\u001b[49m:\n\u001b[1;32m     73\u001b[0m     af, socktype, proto, canonname, sa \u001b[38;5;241m=\u001b[39m res\n",
      "File \u001b[0;32m/opt/homebrew/Cellar/python@3.11/3.11.5/Frameworks/Python.framework/Versions/3.11/lib/python3.11/socket.py:962\u001b[0m, in \u001b[0;36mgetaddrinfo\u001b[0;34m(host, port, family, type, proto, flags)\u001b[0m\n\u001b[1;32m    961\u001b[0m addrlist \u001b[38;5;241m=\u001b[39m []\n\u001b[0;32m--> 962\u001b[0m \u001b[38;5;28;01mfor\u001b[39;00m res \u001b[38;5;129;01min\u001b[39;00m \u001b[43m_socket\u001b[49m\u001b[38;5;241;43m.\u001b[39;49m\u001b[43mgetaddrinfo\u001b[49m\u001b[43m(\u001b[49m\u001b[43mhost\u001b[49m\u001b[43m,\u001b[49m\u001b[43m \u001b[49m\u001b[43mport\u001b[49m\u001b[43m,\u001b[49m\u001b[43m \u001b[49m\u001b[43mfamily\u001b[49m\u001b[43m,\u001b[49m\u001b[43m \u001b[49m\u001b[38;5;28;43mtype\u001b[39;49m\u001b[43m,\u001b[49m\u001b[43m \u001b[49m\u001b[43mproto\u001b[49m\u001b[43m,\u001b[49m\u001b[43m \u001b[49m\u001b[43mflags\u001b[49m\u001b[43m)\u001b[49m:\n\u001b[1;32m    963\u001b[0m     af, socktype, proto, canonname, sa \u001b[38;5;241m=\u001b[39m res\n",
      "\u001b[0;31mgaierror\u001b[0m: [Errno 8] nodename nor servname provided, or not known",
      "\nDuring handling of the above exception, another exception occurred:\n",
      "\u001b[0;31mNewConnectionError\u001b[0m                        Traceback (most recent call last)",
      "File \u001b[0;32m~/.local/share/virtualenvs/notebooks-cFP-wGb-/lib/python3.11/site-packages/urllib3/connectionpool.py:714\u001b[0m, in \u001b[0;36mHTTPConnectionPool.urlopen\u001b[0;34m(self, method, url, body, headers, retries, redirect, assert_same_host, timeout, pool_timeout, release_conn, chunked, body_pos, **response_kw)\u001b[0m\n\u001b[1;32m    713\u001b[0m \u001b[38;5;66;03m# Make the request on the httplib connection object.\u001b[39;00m\n\u001b[0;32m--> 714\u001b[0m httplib_response \u001b[38;5;241m=\u001b[39m \u001b[38;5;28;43mself\u001b[39;49m\u001b[38;5;241;43m.\u001b[39;49m\u001b[43m_make_request\u001b[49m\u001b[43m(\u001b[49m\n\u001b[1;32m    715\u001b[0m \u001b[43m    \u001b[49m\u001b[43mconn\u001b[49m\u001b[43m,\u001b[49m\n\u001b[1;32m    716\u001b[0m \u001b[43m    \u001b[49m\u001b[43mmethod\u001b[49m\u001b[43m,\u001b[49m\n\u001b[1;32m    717\u001b[0m \u001b[43m    \u001b[49m\u001b[43murl\u001b[49m\u001b[43m,\u001b[49m\n\u001b[1;32m    718\u001b[0m \u001b[43m    \u001b[49m\u001b[43mtimeout\u001b[49m\u001b[38;5;241;43m=\u001b[39;49m\u001b[43mtimeout_obj\u001b[49m\u001b[43m,\u001b[49m\n\u001b[1;32m    719\u001b[0m \u001b[43m    \u001b[49m\u001b[43mbody\u001b[49m\u001b[38;5;241;43m=\u001b[39;49m\u001b[43mbody\u001b[49m\u001b[43m,\u001b[49m\n\u001b[1;32m    720\u001b[0m \u001b[43m    \u001b[49m\u001b[43mheaders\u001b[49m\u001b[38;5;241;43m=\u001b[39;49m\u001b[43mheaders\u001b[49m\u001b[43m,\u001b[49m\n\u001b[1;32m    721\u001b[0m \u001b[43m    \u001b[49m\u001b[43mchunked\u001b[49m\u001b[38;5;241;43m=\u001b[39;49m\u001b[43mchunked\u001b[49m\u001b[43m,\u001b[49m\n\u001b[1;32m    722\u001b[0m \u001b[43m\u001b[49m\u001b[43m)\u001b[49m\n\u001b[1;32m    724\u001b[0m \u001b[38;5;66;03m# If we're going to release the connection in ``finally:``, then\u001b[39;00m\n\u001b[1;32m    725\u001b[0m \u001b[38;5;66;03m# the response doesn't need to know about the connection. Otherwise\u001b[39;00m\n\u001b[1;32m    726\u001b[0m \u001b[38;5;66;03m# it will also try to release it and we'll have a double-release\u001b[39;00m\n\u001b[1;32m    727\u001b[0m \u001b[38;5;66;03m# mess.\u001b[39;00m\n",
      "File \u001b[0;32m~/.local/share/virtualenvs/notebooks-cFP-wGb-/lib/python3.11/site-packages/urllib3/connectionpool.py:403\u001b[0m, in \u001b[0;36mHTTPConnectionPool._make_request\u001b[0;34m(self, conn, method, url, timeout, chunked, **httplib_request_kw)\u001b[0m\n\u001b[1;32m    402\u001b[0m \u001b[38;5;28;01mtry\u001b[39;00m:\n\u001b[0;32m--> 403\u001b[0m     \u001b[38;5;28;43mself\u001b[39;49m\u001b[38;5;241;43m.\u001b[39;49m\u001b[43m_validate_conn\u001b[49m\u001b[43m(\u001b[49m\u001b[43mconn\u001b[49m\u001b[43m)\u001b[49m\n\u001b[1;32m    404\u001b[0m \u001b[38;5;28;01mexcept\u001b[39;00m (SocketTimeout, BaseSSLError) \u001b[38;5;28;01mas\u001b[39;00m e:\n\u001b[1;32m    405\u001b[0m     \u001b[38;5;66;03m# Py2 raises this as a BaseSSLError, Py3 raises it as socket timeout.\u001b[39;00m\n",
      "File \u001b[0;32m~/.local/share/virtualenvs/notebooks-cFP-wGb-/lib/python3.11/site-packages/urllib3/connectionpool.py:1053\u001b[0m, in \u001b[0;36mHTTPSConnectionPool._validate_conn\u001b[0;34m(self, conn)\u001b[0m\n\u001b[1;32m   1052\u001b[0m \u001b[38;5;28;01mif\u001b[39;00m \u001b[38;5;129;01mnot\u001b[39;00m \u001b[38;5;28mgetattr\u001b[39m(conn, \u001b[38;5;124m\"\u001b[39m\u001b[38;5;124msock\u001b[39m\u001b[38;5;124m\"\u001b[39m, \u001b[38;5;28;01mNone\u001b[39;00m):  \u001b[38;5;66;03m# AppEngine might not have  `.sock`\u001b[39;00m\n\u001b[0;32m-> 1053\u001b[0m     \u001b[43mconn\u001b[49m\u001b[38;5;241;43m.\u001b[39;49m\u001b[43mconnect\u001b[49m\u001b[43m(\u001b[49m\u001b[43m)\u001b[49m\n\u001b[1;32m   1055\u001b[0m \u001b[38;5;28;01mif\u001b[39;00m \u001b[38;5;129;01mnot\u001b[39;00m conn\u001b[38;5;241m.\u001b[39mis_verified:\n",
      "File \u001b[0;32m~/.local/share/virtualenvs/notebooks-cFP-wGb-/lib/python3.11/site-packages/urllib3/connection.py:363\u001b[0m, in \u001b[0;36mHTTPSConnection.connect\u001b[0;34m(self)\u001b[0m\n\u001b[1;32m    361\u001b[0m \u001b[38;5;28;01mdef\u001b[39;00m \u001b[38;5;21mconnect\u001b[39m(\u001b[38;5;28mself\u001b[39m):\n\u001b[1;32m    362\u001b[0m     \u001b[38;5;66;03m# Add certificate verification\u001b[39;00m\n\u001b[0;32m--> 363\u001b[0m     \u001b[38;5;28mself\u001b[39m\u001b[38;5;241m.\u001b[39msock \u001b[38;5;241m=\u001b[39m conn \u001b[38;5;241m=\u001b[39m \u001b[38;5;28;43mself\u001b[39;49m\u001b[38;5;241;43m.\u001b[39;49m\u001b[43m_new_conn\u001b[49m\u001b[43m(\u001b[49m\u001b[43m)\u001b[49m\n\u001b[1;32m    364\u001b[0m     hostname \u001b[38;5;241m=\u001b[39m \u001b[38;5;28mself\u001b[39m\u001b[38;5;241m.\u001b[39mhost\n",
      "File \u001b[0;32m~/.local/share/virtualenvs/notebooks-cFP-wGb-/lib/python3.11/site-packages/urllib3/connection.py:186\u001b[0m, in \u001b[0;36mHTTPConnection._new_conn\u001b[0;34m(self)\u001b[0m\n\u001b[1;32m    185\u001b[0m \u001b[38;5;28;01mexcept\u001b[39;00m SocketError \u001b[38;5;28;01mas\u001b[39;00m e:\n\u001b[0;32m--> 186\u001b[0m     \u001b[38;5;28;01mraise\u001b[39;00m NewConnectionError(\n\u001b[1;32m    187\u001b[0m         \u001b[38;5;28mself\u001b[39m, \u001b[38;5;124m\"\u001b[39m\u001b[38;5;124mFailed to establish a new connection: \u001b[39m\u001b[38;5;132;01m%s\u001b[39;00m\u001b[38;5;124m\"\u001b[39m \u001b[38;5;241m%\u001b[39m e\n\u001b[1;32m    188\u001b[0m     )\n\u001b[1;32m    190\u001b[0m \u001b[38;5;28;01mreturn\u001b[39;00m conn\n",
      "\u001b[0;31mNewConnectionError\u001b[0m: <urllib3.connection.HTTPSConnection object at 0x2a976c850>: Failed to establish a new connection: [Errno 8] nodename nor servname provided, or not known",
      "\nDuring handling of the above exception, another exception occurred:\n",
      "\u001b[0;31mMaxRetryError\u001b[0m                             Traceback (most recent call last)",
      "File \u001b[0;32m~/.local/share/virtualenvs/notebooks-cFP-wGb-/lib/python3.11/site-packages/requests/adapters.py:486\u001b[0m, in \u001b[0;36mHTTPAdapter.send\u001b[0;34m(self, request, stream, timeout, verify, cert, proxies)\u001b[0m\n\u001b[1;32m    485\u001b[0m \u001b[38;5;28;01mtry\u001b[39;00m:\n\u001b[0;32m--> 486\u001b[0m     resp \u001b[38;5;241m=\u001b[39m \u001b[43mconn\u001b[49m\u001b[38;5;241;43m.\u001b[39;49m\u001b[43murlopen\u001b[49m\u001b[43m(\u001b[49m\n\u001b[1;32m    487\u001b[0m \u001b[43m        \u001b[49m\u001b[43mmethod\u001b[49m\u001b[38;5;241;43m=\u001b[39;49m\u001b[43mrequest\u001b[49m\u001b[38;5;241;43m.\u001b[39;49m\u001b[43mmethod\u001b[49m\u001b[43m,\u001b[49m\n\u001b[1;32m    488\u001b[0m \u001b[43m        \u001b[49m\u001b[43murl\u001b[49m\u001b[38;5;241;43m=\u001b[39;49m\u001b[43murl\u001b[49m\u001b[43m,\u001b[49m\n\u001b[1;32m    489\u001b[0m \u001b[43m        \u001b[49m\u001b[43mbody\u001b[49m\u001b[38;5;241;43m=\u001b[39;49m\u001b[43mrequest\u001b[49m\u001b[38;5;241;43m.\u001b[39;49m\u001b[43mbody\u001b[49m\u001b[43m,\u001b[49m\n\u001b[1;32m    490\u001b[0m \u001b[43m        \u001b[49m\u001b[43mheaders\u001b[49m\u001b[38;5;241;43m=\u001b[39;49m\u001b[43mrequest\u001b[49m\u001b[38;5;241;43m.\u001b[39;49m\u001b[43mheaders\u001b[49m\u001b[43m,\u001b[49m\n\u001b[1;32m    491\u001b[0m \u001b[43m        \u001b[49m\u001b[43mredirect\u001b[49m\u001b[38;5;241;43m=\u001b[39;49m\u001b[38;5;28;43;01mFalse\u001b[39;49;00m\u001b[43m,\u001b[49m\n\u001b[1;32m    492\u001b[0m \u001b[43m        \u001b[49m\u001b[43massert_same_host\u001b[49m\u001b[38;5;241;43m=\u001b[39;49m\u001b[38;5;28;43;01mFalse\u001b[39;49;00m\u001b[43m,\u001b[49m\n\u001b[1;32m    493\u001b[0m \u001b[43m        \u001b[49m\u001b[43mpreload_content\u001b[49m\u001b[38;5;241;43m=\u001b[39;49m\u001b[38;5;28;43;01mFalse\u001b[39;49;00m\u001b[43m,\u001b[49m\n\u001b[1;32m    494\u001b[0m \u001b[43m        \u001b[49m\u001b[43mdecode_content\u001b[49m\u001b[38;5;241;43m=\u001b[39;49m\u001b[38;5;28;43;01mFalse\u001b[39;49;00m\u001b[43m,\u001b[49m\n\u001b[1;32m    495\u001b[0m \u001b[43m        \u001b[49m\u001b[43mretries\u001b[49m\u001b[38;5;241;43m=\u001b[39;49m\u001b[38;5;28;43mself\u001b[39;49m\u001b[38;5;241;43m.\u001b[39;49m\u001b[43mmax_retries\u001b[49m\u001b[43m,\u001b[49m\n\u001b[1;32m    496\u001b[0m \u001b[43m        \u001b[49m\u001b[43mtimeout\u001b[49m\u001b[38;5;241;43m=\u001b[39;49m\u001b[43mtimeout\u001b[49m\u001b[43m,\u001b[49m\n\u001b[1;32m    497\u001b[0m \u001b[43m        \u001b[49m\u001b[43mchunked\u001b[49m\u001b[38;5;241;43m=\u001b[39;49m\u001b[43mchunked\u001b[49m\u001b[43m,\u001b[49m\n\u001b[1;32m    498\u001b[0m \u001b[43m    \u001b[49m\u001b[43m)\u001b[49m\n\u001b[1;32m    500\u001b[0m \u001b[38;5;28;01mexcept\u001b[39;00m (ProtocolError, \u001b[38;5;167;01mOSError\u001b[39;00m) \u001b[38;5;28;01mas\u001b[39;00m err:\n",
      "File \u001b[0;32m~/.local/share/virtualenvs/notebooks-cFP-wGb-/lib/python3.11/site-packages/urllib3/connectionpool.py:798\u001b[0m, in \u001b[0;36mHTTPConnectionPool.urlopen\u001b[0;34m(self, method, url, body, headers, retries, redirect, assert_same_host, timeout, pool_timeout, release_conn, chunked, body_pos, **response_kw)\u001b[0m\n\u001b[1;32m    796\u001b[0m     e \u001b[38;5;241m=\u001b[39m ProtocolError(\u001b[38;5;124m\"\u001b[39m\u001b[38;5;124mConnection aborted.\u001b[39m\u001b[38;5;124m\"\u001b[39m, e)\n\u001b[0;32m--> 798\u001b[0m retries \u001b[38;5;241m=\u001b[39m \u001b[43mretries\u001b[49m\u001b[38;5;241;43m.\u001b[39;49m\u001b[43mincrement\u001b[49m\u001b[43m(\u001b[49m\n\u001b[1;32m    799\u001b[0m \u001b[43m    \u001b[49m\u001b[43mmethod\u001b[49m\u001b[43m,\u001b[49m\u001b[43m \u001b[49m\u001b[43murl\u001b[49m\u001b[43m,\u001b[49m\u001b[43m \u001b[49m\u001b[43merror\u001b[49m\u001b[38;5;241;43m=\u001b[39;49m\u001b[43me\u001b[49m\u001b[43m,\u001b[49m\u001b[43m \u001b[49m\u001b[43m_pool\u001b[49m\u001b[38;5;241;43m=\u001b[39;49m\u001b[38;5;28;43mself\u001b[39;49m\u001b[43m,\u001b[49m\u001b[43m \u001b[49m\u001b[43m_stacktrace\u001b[49m\u001b[38;5;241;43m=\u001b[39;49m\u001b[43msys\u001b[49m\u001b[38;5;241;43m.\u001b[39;49m\u001b[43mexc_info\u001b[49m\u001b[43m(\u001b[49m\u001b[43m)\u001b[49m\u001b[43m[\u001b[49m\u001b[38;5;241;43m2\u001b[39;49m\u001b[43m]\u001b[49m\n\u001b[1;32m    800\u001b[0m \u001b[43m\u001b[49m\u001b[43m)\u001b[49m\n\u001b[1;32m    801\u001b[0m retries\u001b[38;5;241m.\u001b[39msleep()\n",
      "File \u001b[0;32m~/.local/share/virtualenvs/notebooks-cFP-wGb-/lib/python3.11/site-packages/urllib3/util/retry.py:592\u001b[0m, in \u001b[0;36mRetry.increment\u001b[0;34m(self, method, url, response, error, _pool, _stacktrace)\u001b[0m\n\u001b[1;32m    591\u001b[0m \u001b[38;5;28;01mif\u001b[39;00m new_retry\u001b[38;5;241m.\u001b[39mis_exhausted():\n\u001b[0;32m--> 592\u001b[0m     \u001b[38;5;28;01mraise\u001b[39;00m MaxRetryError(_pool, url, error \u001b[38;5;129;01mor\u001b[39;00m ResponseError(cause))\n\u001b[1;32m    594\u001b[0m log\u001b[38;5;241m.\u001b[39mdebug(\u001b[38;5;124m\"\u001b[39m\u001b[38;5;124mIncremented Retry for (url=\u001b[39m\u001b[38;5;124m'\u001b[39m\u001b[38;5;132;01m%s\u001b[39;00m\u001b[38;5;124m'\u001b[39m\u001b[38;5;124m): \u001b[39m\u001b[38;5;132;01m%r\u001b[39;00m\u001b[38;5;124m\"\u001b[39m, url, new_retry)\n",
      "\u001b[0;31mMaxRetryError\u001b[0m: HTTPSConnectionPool(host='huggingface.co', port=443): Max retries exceeded with url: /api/models/stabilityai/stable-diffusion-xl-base-1.0 (Caused by NewConnectionError('<urllib3.connection.HTTPSConnection object at 0x2a976c850>: Failed to establish a new connection: [Errno 8] nodename nor servname provided, or not known'))",
      "\nDuring handling of the above exception, another exception occurred:\n",
      "\u001b[0;31mConnectionError\u001b[0m                           Traceback (most recent call last)",
      "Cell \u001b[0;32mIn[5], line 1\u001b[0m\n\u001b[0;32m----> 1\u001b[0m sdxl_pipe \u001b[38;5;241m=\u001b[39m \u001b[43mStableDiffusionXLPipeline\u001b[49m\u001b[38;5;241;43m.\u001b[39;49m\u001b[43mfrom_pretrained\u001b[49m\u001b[43m(\u001b[49m\u001b[43mmodel\u001b[49m\u001b[43m,\u001b[49m\u001b[43m \u001b[49m\u001b[43mvae\u001b[49m\u001b[38;5;241;43m=\u001b[39;49m\u001b[43mvae\u001b[49m\u001b[43m,\u001b[49m\u001b[43m \u001b[49m\u001b[43mtorch_dtype\u001b[49m\u001b[38;5;241;43m=\u001b[39;49m\u001b[43mdevice_dtype\u001b[49m\u001b[43m)\u001b[49m\u001b[38;5;241m.\u001b[39mto(device)\n\u001b[1;32m      2\u001b[0m sdxl_unet \u001b[38;5;241m=\u001b[39m sdxl_pipe\u001b[38;5;241m.\u001b[39munet\n",
      "File \u001b[0;32m~/Documents/GitHub/diffusers/diffusers/src/diffusers/pipelines/pipeline_utils.py:937\u001b[0m, in \u001b[0;36mDiffusionPipeline.from_pretrained\u001b[0;34m(cls, pretrained_model_name_or_path, **kwargs)\u001b[0m\n\u001b[1;32m    934\u001b[0m \u001b[38;5;66;03m# 1. Download the checkpoints and configs\u001b[39;00m\n\u001b[1;32m    935\u001b[0m \u001b[38;5;66;03m# use snapshot download here to get it working from from_pretrained\u001b[39;00m\n\u001b[1;32m    936\u001b[0m \u001b[38;5;28;01mif\u001b[39;00m \u001b[38;5;129;01mnot\u001b[39;00m os\u001b[38;5;241m.\u001b[39mpath\u001b[38;5;241m.\u001b[39misdir(pretrained_model_name_or_path):\n\u001b[0;32m--> 937\u001b[0m     cached_folder \u001b[38;5;241m=\u001b[39m \u001b[38;5;28;43mcls\u001b[39;49m\u001b[38;5;241;43m.\u001b[39;49m\u001b[43mdownload\u001b[49m\u001b[43m(\u001b[49m\n\u001b[1;32m    938\u001b[0m \u001b[43m        \u001b[49m\u001b[43mpretrained_model_name_or_path\u001b[49m\u001b[43m,\u001b[49m\n\u001b[1;32m    939\u001b[0m \u001b[43m        \u001b[49m\u001b[43mcache_dir\u001b[49m\u001b[38;5;241;43m=\u001b[39;49m\u001b[43mcache_dir\u001b[49m\u001b[43m,\u001b[49m\n\u001b[1;32m    940\u001b[0m \u001b[43m        \u001b[49m\u001b[43mresume_download\u001b[49m\u001b[38;5;241;43m=\u001b[39;49m\u001b[43mresume_download\u001b[49m\u001b[43m,\u001b[49m\n\u001b[1;32m    941\u001b[0m \u001b[43m        \u001b[49m\u001b[43mforce_download\u001b[49m\u001b[38;5;241;43m=\u001b[39;49m\u001b[43mforce_download\u001b[49m\u001b[43m,\u001b[49m\n\u001b[1;32m    942\u001b[0m \u001b[43m        \u001b[49m\u001b[43mproxies\u001b[49m\u001b[38;5;241;43m=\u001b[39;49m\u001b[43mproxies\u001b[49m\u001b[43m,\u001b[49m\n\u001b[1;32m    943\u001b[0m \u001b[43m        \u001b[49m\u001b[43mlocal_files_only\u001b[49m\u001b[38;5;241;43m=\u001b[39;49m\u001b[43mlocal_files_only\u001b[49m\u001b[43m,\u001b[49m\n\u001b[1;32m    944\u001b[0m \u001b[43m        \u001b[49m\u001b[43muse_auth_token\u001b[49m\u001b[38;5;241;43m=\u001b[39;49m\u001b[43muse_auth_token\u001b[49m\u001b[43m,\u001b[49m\n\u001b[1;32m    945\u001b[0m \u001b[43m        \u001b[49m\u001b[43mrevision\u001b[49m\u001b[38;5;241;43m=\u001b[39;49m\u001b[43mrevision\u001b[49m\u001b[43m,\u001b[49m\n\u001b[1;32m    946\u001b[0m \u001b[43m        \u001b[49m\u001b[43mfrom_flax\u001b[49m\u001b[38;5;241;43m=\u001b[39;49m\u001b[43mfrom_flax\u001b[49m\u001b[43m,\u001b[49m\n\u001b[1;32m    947\u001b[0m \u001b[43m        \u001b[49m\u001b[43muse_safetensors\u001b[49m\u001b[38;5;241;43m=\u001b[39;49m\u001b[43muse_safetensors\u001b[49m\u001b[43m,\u001b[49m\n\u001b[1;32m    948\u001b[0m \u001b[43m        \u001b[49m\u001b[43muse_onnx\u001b[49m\u001b[38;5;241;43m=\u001b[39;49m\u001b[43muse_onnx\u001b[49m\u001b[43m,\u001b[49m\n\u001b[1;32m    949\u001b[0m \u001b[43m        \u001b[49m\u001b[43mcustom_pipeline\u001b[49m\u001b[38;5;241;43m=\u001b[39;49m\u001b[43mcustom_pipeline\u001b[49m\u001b[43m,\u001b[49m\n\u001b[1;32m    950\u001b[0m \u001b[43m        \u001b[49m\u001b[43mcustom_revision\u001b[49m\u001b[38;5;241;43m=\u001b[39;49m\u001b[43mcustom_revision\u001b[49m\u001b[43m,\u001b[49m\n\u001b[1;32m    951\u001b[0m \u001b[43m        \u001b[49m\u001b[43mvariant\u001b[49m\u001b[38;5;241;43m=\u001b[39;49m\u001b[43mvariant\u001b[49m\u001b[43m,\u001b[49m\n\u001b[1;32m    952\u001b[0m \u001b[43m        \u001b[49m\u001b[43mload_connected_pipeline\u001b[49m\u001b[38;5;241;43m=\u001b[39;49m\u001b[43mload_connected_pipeline\u001b[49m\u001b[43m,\u001b[49m\n\u001b[1;32m    953\u001b[0m \u001b[43m        \u001b[49m\u001b[38;5;241;43m*\u001b[39;49m\u001b[38;5;241;43m*\u001b[39;49m\u001b[43mkwargs\u001b[49m\u001b[43m,\u001b[49m\n\u001b[1;32m    954\u001b[0m \u001b[43m    \u001b[49m\u001b[43m)\u001b[49m\n\u001b[1;32m    955\u001b[0m \u001b[38;5;28;01melse\u001b[39;00m:\n\u001b[1;32m    956\u001b[0m     cached_folder \u001b[38;5;241m=\u001b[39m pretrained_model_name_or_path\n",
      "File \u001b[0;32m~/Documents/GitHub/diffusers/diffusers/src/diffusers/pipelines/pipeline_utils.py:1438\u001b[0m, in \u001b[0;36mDiffusionPipeline.download\u001b[0;34m(cls, pretrained_model_name, **kwargs)\u001b[0m\n\u001b[1;32m   1436\u001b[0m \u001b[38;5;28;01mif\u001b[39;00m \u001b[38;5;129;01mnot\u001b[39;00m local_files_only:\n\u001b[1;32m   1437\u001b[0m     \u001b[38;5;28;01mtry\u001b[39;00m:\n\u001b[0;32m-> 1438\u001b[0m         info \u001b[38;5;241m=\u001b[39m \u001b[43mmodel_info\u001b[49m\u001b[43m(\u001b[49m\n\u001b[1;32m   1439\u001b[0m \u001b[43m            \u001b[49m\u001b[43mpretrained_model_name\u001b[49m\u001b[43m,\u001b[49m\n\u001b[1;32m   1440\u001b[0m \u001b[43m            \u001b[49m\u001b[43muse_auth_token\u001b[49m\u001b[38;5;241;43m=\u001b[39;49m\u001b[43muse_auth_token\u001b[49m\u001b[43m,\u001b[49m\n\u001b[1;32m   1441\u001b[0m \u001b[43m            \u001b[49m\u001b[43mrevision\u001b[49m\u001b[38;5;241;43m=\u001b[39;49m\u001b[43mrevision\u001b[49m\u001b[43m,\u001b[49m\n\u001b[1;32m   1442\u001b[0m \u001b[43m        \u001b[49m\u001b[43m)\u001b[49m\n\u001b[1;32m   1443\u001b[0m     \u001b[38;5;28;01mexcept\u001b[39;00m HTTPError \u001b[38;5;28;01mas\u001b[39;00m e:\n\u001b[1;32m   1444\u001b[0m         logger\u001b[38;5;241m.\u001b[39mwarn(\u001b[38;5;124mf\u001b[39m\u001b[38;5;124m\"\u001b[39m\u001b[38;5;124mCouldn\u001b[39m\u001b[38;5;124m'\u001b[39m\u001b[38;5;124mt connect to the Hub: \u001b[39m\u001b[38;5;132;01m{\u001b[39;00me\u001b[38;5;132;01m}\u001b[39;00m\u001b[38;5;124m.\u001b[39m\u001b[38;5;130;01m\\n\u001b[39;00m\u001b[38;5;124mWill try to load from local cache.\u001b[39m\u001b[38;5;124m\"\u001b[39m)\n",
      "File \u001b[0;32m~/.local/share/virtualenvs/notebooks-cFP-wGb-/lib/python3.11/site-packages/huggingface_hub/utils/_validators.py:118\u001b[0m, in \u001b[0;36mvalidate_hf_hub_args.<locals>._inner_fn\u001b[0;34m(*args, **kwargs)\u001b[0m\n\u001b[1;32m    115\u001b[0m \u001b[38;5;28;01mif\u001b[39;00m check_use_auth_token:\n\u001b[1;32m    116\u001b[0m     kwargs \u001b[38;5;241m=\u001b[39m smoothly_deprecate_use_auth_token(fn_name\u001b[38;5;241m=\u001b[39mfn\u001b[38;5;241m.\u001b[39m\u001b[38;5;18m__name__\u001b[39m, has_token\u001b[38;5;241m=\u001b[39mhas_token, kwargs\u001b[38;5;241m=\u001b[39mkwargs)\n\u001b[0;32m--> 118\u001b[0m \u001b[38;5;28;01mreturn\u001b[39;00m \u001b[43mfn\u001b[49m\u001b[43m(\u001b[49m\u001b[38;5;241;43m*\u001b[39;49m\u001b[43margs\u001b[49m\u001b[43m,\u001b[49m\u001b[43m \u001b[49m\u001b[38;5;241;43m*\u001b[39;49m\u001b[38;5;241;43m*\u001b[39;49m\u001b[43mkwargs\u001b[49m\u001b[43m)\u001b[49m\n",
      "File \u001b[0;32m~/.local/share/virtualenvs/notebooks-cFP-wGb-/lib/python3.11/site-packages/huggingface_hub/hf_api.py:1677\u001b[0m, in \u001b[0;36mHfApi.model_info\u001b[0;34m(self, repo_id, revision, timeout, securityStatus, files_metadata, token)\u001b[0m\n\u001b[1;32m   1675\u001b[0m \u001b[38;5;28;01mif\u001b[39;00m files_metadata:\n\u001b[1;32m   1676\u001b[0m     params[\u001b[38;5;124m\"\u001b[39m\u001b[38;5;124mblobs\u001b[39m\u001b[38;5;124m\"\u001b[39m] \u001b[38;5;241m=\u001b[39m \u001b[38;5;28;01mTrue\u001b[39;00m\n\u001b[0;32m-> 1677\u001b[0m r \u001b[38;5;241m=\u001b[39m \u001b[43mget_session\u001b[49m\u001b[43m(\u001b[49m\u001b[43m)\u001b[49m\u001b[38;5;241;43m.\u001b[39;49m\u001b[43mget\u001b[49m\u001b[43m(\u001b[49m\u001b[43mpath\u001b[49m\u001b[43m,\u001b[49m\u001b[43m \u001b[49m\u001b[43mheaders\u001b[49m\u001b[38;5;241;43m=\u001b[39;49m\u001b[43mheaders\u001b[49m\u001b[43m,\u001b[49m\u001b[43m \u001b[49m\u001b[43mtimeout\u001b[49m\u001b[38;5;241;43m=\u001b[39;49m\u001b[43mtimeout\u001b[49m\u001b[43m,\u001b[49m\u001b[43m \u001b[49m\u001b[43mparams\u001b[49m\u001b[38;5;241;43m=\u001b[39;49m\u001b[43mparams\u001b[49m\u001b[43m)\u001b[49m\n\u001b[1;32m   1678\u001b[0m hf_raise_for_status(r)\n\u001b[1;32m   1679\u001b[0m d \u001b[38;5;241m=\u001b[39m r\u001b[38;5;241m.\u001b[39mjson()\n",
      "File \u001b[0;32m~/.local/share/virtualenvs/notebooks-cFP-wGb-/lib/python3.11/site-packages/requests/sessions.py:602\u001b[0m, in \u001b[0;36mSession.get\u001b[0;34m(self, url, **kwargs)\u001b[0m\n\u001b[1;32m    594\u001b[0m \u001b[38;5;250m\u001b[39m\u001b[38;5;124mr\u001b[39m\u001b[38;5;124;03m\"\"\"Sends a GET request. Returns :class:`Response` object.\u001b[39;00m\n\u001b[1;32m    595\u001b[0m \n\u001b[1;32m    596\u001b[0m \u001b[38;5;124;03m:param url: URL for the new :class:`Request` object.\u001b[39;00m\n\u001b[1;32m    597\u001b[0m \u001b[38;5;124;03m:param \\*\\*kwargs: Optional arguments that ``request`` takes.\u001b[39;00m\n\u001b[1;32m    598\u001b[0m \u001b[38;5;124;03m:rtype: requests.Response\u001b[39;00m\n\u001b[1;32m    599\u001b[0m \u001b[38;5;124;03m\"\"\"\u001b[39;00m\n\u001b[1;32m    601\u001b[0m kwargs\u001b[38;5;241m.\u001b[39msetdefault(\u001b[38;5;124m\"\u001b[39m\u001b[38;5;124mallow_redirects\u001b[39m\u001b[38;5;124m\"\u001b[39m, \u001b[38;5;28;01mTrue\u001b[39;00m)\n\u001b[0;32m--> 602\u001b[0m \u001b[38;5;28;01mreturn\u001b[39;00m \u001b[38;5;28;43mself\u001b[39;49m\u001b[38;5;241;43m.\u001b[39;49m\u001b[43mrequest\u001b[49m\u001b[43m(\u001b[49m\u001b[38;5;124;43m\"\u001b[39;49m\u001b[38;5;124;43mGET\u001b[39;49m\u001b[38;5;124;43m\"\u001b[39;49m\u001b[43m,\u001b[49m\u001b[43m \u001b[49m\u001b[43murl\u001b[49m\u001b[43m,\u001b[49m\u001b[43m \u001b[49m\u001b[38;5;241;43m*\u001b[39;49m\u001b[38;5;241;43m*\u001b[39;49m\u001b[43mkwargs\u001b[49m\u001b[43m)\u001b[49m\n",
      "File \u001b[0;32m~/.local/share/virtualenvs/notebooks-cFP-wGb-/lib/python3.11/site-packages/requests/sessions.py:589\u001b[0m, in \u001b[0;36mSession.request\u001b[0;34m(self, method, url, params, data, headers, cookies, files, auth, timeout, allow_redirects, proxies, hooks, stream, verify, cert, json)\u001b[0m\n\u001b[1;32m    584\u001b[0m send_kwargs \u001b[38;5;241m=\u001b[39m {\n\u001b[1;32m    585\u001b[0m     \u001b[38;5;124m\"\u001b[39m\u001b[38;5;124mtimeout\u001b[39m\u001b[38;5;124m\"\u001b[39m: timeout,\n\u001b[1;32m    586\u001b[0m     \u001b[38;5;124m\"\u001b[39m\u001b[38;5;124mallow_redirects\u001b[39m\u001b[38;5;124m\"\u001b[39m: allow_redirects,\n\u001b[1;32m    587\u001b[0m }\n\u001b[1;32m    588\u001b[0m send_kwargs\u001b[38;5;241m.\u001b[39mupdate(settings)\n\u001b[0;32m--> 589\u001b[0m resp \u001b[38;5;241m=\u001b[39m \u001b[38;5;28;43mself\u001b[39;49m\u001b[38;5;241;43m.\u001b[39;49m\u001b[43msend\u001b[49m\u001b[43m(\u001b[49m\u001b[43mprep\u001b[49m\u001b[43m,\u001b[49m\u001b[43m \u001b[49m\u001b[38;5;241;43m*\u001b[39;49m\u001b[38;5;241;43m*\u001b[39;49m\u001b[43msend_kwargs\u001b[49m\u001b[43m)\u001b[49m\n\u001b[1;32m    591\u001b[0m \u001b[38;5;28;01mreturn\u001b[39;00m resp\n",
      "File \u001b[0;32m~/.local/share/virtualenvs/notebooks-cFP-wGb-/lib/python3.11/site-packages/requests/sessions.py:703\u001b[0m, in \u001b[0;36mSession.send\u001b[0;34m(self, request, **kwargs)\u001b[0m\n\u001b[1;32m    700\u001b[0m start \u001b[38;5;241m=\u001b[39m preferred_clock()\n\u001b[1;32m    702\u001b[0m \u001b[38;5;66;03m# Send the request\u001b[39;00m\n\u001b[0;32m--> 703\u001b[0m r \u001b[38;5;241m=\u001b[39m \u001b[43madapter\u001b[49m\u001b[38;5;241;43m.\u001b[39;49m\u001b[43msend\u001b[49m\u001b[43m(\u001b[49m\u001b[43mrequest\u001b[49m\u001b[43m,\u001b[49m\u001b[43m \u001b[49m\u001b[38;5;241;43m*\u001b[39;49m\u001b[38;5;241;43m*\u001b[39;49m\u001b[43mkwargs\u001b[49m\u001b[43m)\u001b[49m\n\u001b[1;32m    705\u001b[0m \u001b[38;5;66;03m# Total elapsed time of the request (approximately)\u001b[39;00m\n\u001b[1;32m    706\u001b[0m elapsed \u001b[38;5;241m=\u001b[39m preferred_clock() \u001b[38;5;241m-\u001b[39m start\n",
      "File \u001b[0;32m~/.local/share/virtualenvs/notebooks-cFP-wGb-/lib/python3.11/site-packages/huggingface_hub/utils/_http.py:63\u001b[0m, in \u001b[0;36mUniqueRequestIdAdapter.send\u001b[0;34m(self, request, *args, **kwargs)\u001b[0m\n\u001b[1;32m     61\u001b[0m \u001b[38;5;250m\u001b[39m\u001b[38;5;124;03m\"\"\"Catch any RequestException to append request id to the error message for debugging.\"\"\"\u001b[39;00m\n\u001b[1;32m     62\u001b[0m \u001b[38;5;28;01mtry\u001b[39;00m:\n\u001b[0;32m---> 63\u001b[0m     \u001b[38;5;28;01mreturn\u001b[39;00m \u001b[38;5;28;43msuper\u001b[39;49m\u001b[43m(\u001b[49m\u001b[43m)\u001b[49m\u001b[38;5;241;43m.\u001b[39;49m\u001b[43msend\u001b[49m\u001b[43m(\u001b[49m\u001b[43mrequest\u001b[49m\u001b[43m,\u001b[49m\u001b[43m \u001b[49m\u001b[38;5;241;43m*\u001b[39;49m\u001b[43margs\u001b[49m\u001b[43m,\u001b[49m\u001b[43m \u001b[49m\u001b[38;5;241;43m*\u001b[39;49m\u001b[38;5;241;43m*\u001b[39;49m\u001b[43mkwargs\u001b[49m\u001b[43m)\u001b[49m\n\u001b[1;32m     64\u001b[0m \u001b[38;5;28;01mexcept\u001b[39;00m requests\u001b[38;5;241m.\u001b[39mRequestException \u001b[38;5;28;01mas\u001b[39;00m e:\n\u001b[1;32m     65\u001b[0m     request_id \u001b[38;5;241m=\u001b[39m request\u001b[38;5;241m.\u001b[39mheaders\u001b[38;5;241m.\u001b[39mget(X_AMZN_TRACE_ID)\n",
      "File \u001b[0;32m~/.local/share/virtualenvs/notebooks-cFP-wGb-/lib/python3.11/site-packages/requests/adapters.py:519\u001b[0m, in \u001b[0;36mHTTPAdapter.send\u001b[0;34m(self, request, stream, timeout, verify, cert, proxies)\u001b[0m\n\u001b[1;32m    515\u001b[0m     \u001b[38;5;28;01mif\u001b[39;00m \u001b[38;5;28misinstance\u001b[39m(e\u001b[38;5;241m.\u001b[39mreason, _SSLError):\n\u001b[1;32m    516\u001b[0m         \u001b[38;5;66;03m# This branch is for urllib3 v1.22 and later.\u001b[39;00m\n\u001b[1;32m    517\u001b[0m         \u001b[38;5;28;01mraise\u001b[39;00m SSLError(e, request\u001b[38;5;241m=\u001b[39mrequest)\n\u001b[0;32m--> 519\u001b[0m     \u001b[38;5;28;01mraise\u001b[39;00m \u001b[38;5;167;01mConnectionError\u001b[39;00m(e, request\u001b[38;5;241m=\u001b[39mrequest)\n\u001b[1;32m    521\u001b[0m \u001b[38;5;28;01mexcept\u001b[39;00m ClosedPoolError \u001b[38;5;28;01mas\u001b[39;00m e:\n\u001b[1;32m    522\u001b[0m     \u001b[38;5;28;01mraise\u001b[39;00m \u001b[38;5;167;01mConnectionError\u001b[39;00m(e, request\u001b[38;5;241m=\u001b[39mrequest)\n",
      "\u001b[0;31mConnectionError\u001b[0m: (MaxRetryError(\"HTTPSConnectionPool(host='huggingface.co', port=443): Max retries exceeded with url: /api/models/stabilityai/stable-diffusion-xl-base-1.0 (Caused by NewConnectionError('<urllib3.connection.HTTPSConnection object at 0x2a976c850>: Failed to establish a new connection: [Errno 8] nodename nor servname provided, or not known'))\"), '(Request ID: c473dcf0-99c1-4187-ab98-debc018b7195)')"
     ]
    }
   ],
   "source": [
    "sdxl_pipe = StableDiffusionXLPipeline.from_pretrained(model, vae=vae, torch_dtype=device_dtype).to(device)\n",
    "sdxl_unet = sdxl_pipe.unet"
   ]
  },
  {
   "cell_type": "code",
   "execution_count": null,
   "id": "1af1ff7f-cb94-448b-9988-6a309b56cd9e",
   "metadata": {},
   "outputs": [],
   "source": [
    "from diffusers.models.controlnetxs import ControlNetXSModel"
   ]
  },
  {
   "cell_type": "code",
   "execution_count": null,
   "id": "0c2582ea-ca24-4af6-917f-b66b41b386c6",
   "metadata": {},
   "outputs": [],
   "source": [
    "cnxs = ControlNetXSModel.from_pretrained('weights/cnxs').to(device)"
   ]
  },
  {
   "cell_type": "code",
   "execution_count": null,
   "id": "fff484d8-80b5-4752-82f3-41187902a432",
   "metadata": {},
   "outputs": [],
   "source": [
    "cnxs.base_model = sdxl_unet"
   ]
  },
  {
   "cell_type": "markdown",
   "id": "994cd8cf-1682-47e5-a7ff-4ccb3095ad61",
   "metadata": {},
   "source": [
    "___"
   ]
  },
  {
   "cell_type": "markdown",
   "id": "1b393e7e-b0c3-4563-8320-2f94c48d6e35",
   "metadata": {},
   "source": [
    "## Prepare the input to it"
   ]
  },
  {
   "cell_type": "markdown",
   "id": "6f3f1286-ff68-48fc-a3a0-8d17a40d4c87",
   "metadata": {},
   "source": [
    "(Later, this will be done by the corresponding pipeline)"
   ]
  },
  {
   "cell_type": "code",
   "execution_count": null,
   "id": "258365c3-093d-4d87-a3d6-dfec541ae738",
   "metadata": {},
   "outputs": [],
   "source": [
    "prompt = 'A turtle'"
   ]
  },
  {
   "cell_type": "code",
   "execution_count": null,
   "id": "1bcc64c9-621e-458e-a06c-13182ed0bd4d",
   "metadata": {},
   "outputs": [],
   "source": [
    "from diffusers.utils import load_image"
   ]
  },
  {
   "cell_type": "code",
   "execution_count": null,
   "id": "d78f467f-b931-434d-8ad9-157c2a8478db",
   "metadata": {},
   "outputs": [],
   "source": [
    "try: original_image = load_image('https://hf.co/datasets/huggingface/documentation-images/resolve/main/diffusers/input_image_vermeer.png')\n",
    "except Exception: original_image = load_image('/Users/umer/Desktop/input_image_vermeer.png')\n",
    "image = original_image"
   ]
  },
  {
   "cell_type": "markdown",
   "id": "564c670d-6472-4901-bb95-703c44cc44b4",
   "metadata": {},
   "source": [
    "I will need to use some preprocessing functions from `StableDiffusionControlNetPipeline`, so let create an instance"
   ]
  },
  {
   "cell_type": "code",
   "execution_count": null,
   "id": "4edbff6c-b217-4bc0-a23d-83f22f90627a",
   "metadata": {},
   "outputs": [],
   "source": [
    "from diffusers import StableDiffusionControlNetPipeline, ControlNetModel"
   ]
  },
  {
   "cell_type": "markdown",
   "id": "65120ca0-7bcc-4341-a3fc-dac3d65c25c0",
   "metadata": {},
   "source": [
    "(We need a `StableDiffusionControlNetPipeline` instead of a regular `StableDiffusionPipeline` because it has a `prepare_image` method)"
   ]
  },
  {
   "cell_type": "code",
   "execution_count": null,
   "id": "4a83e9db-4143-4ca8-bd67-1472e5f6e6bc",
   "metadata": {
    "scrolled": true
   },
   "outputs": [],
   "source": [
    "controlnet = ControlNetModel.from_pretrained('lllyasviel/sd-controlnet-canny', torch_dtype=device_dtype)\n",
    "pipe = StableDiffusionControlNetPipeline.from_pretrained('runwayml/stable-diffusion-v1-5', controlnet=controlnet, torch_dtype=device_dtype).to(device)"
   ]
  },
  {
   "cell_type": "code",
   "execution_count": null,
   "id": "f86c9e52-faa6-4f7d-bade-f7e2f860f1f3",
   "metadata": {},
   "outputs": [],
   "source": [
    "guidance_scale = 7.5\n",
    "do_classifier_free_guidance = guidance_scale > 1.0"
   ]
  },
  {
   "cell_type": "code",
   "execution_count": null,
   "id": "8c3836aa-c9b5-492b-8f2c-564e37aea80a",
   "metadata": {},
   "outputs": [],
   "source": [
    "# 2. Define call parameters\n",
    "batch_size = 1 # because prompt is a single string\n",
    "num_images_per_prompt  = 1"
   ]
  },
  {
   "cell_type": "code",
   "execution_count": null,
   "id": "a00d5fe0-9a66-4e74-a55d-3963ac0f1962",
   "metadata": {},
   "outputs": [],
   "source": [
    "prompt_embeds, negative_prompt_embeds, _, _ = sdxl_pipe.encode_prompt(prompt)\n",
    "prompt_embeds = torch.cat([negative_prompt_embeds, prompt_embeds])\n",
    "prompt_embeds.shape"
   ]
  },
  {
   "cell_type": "code",
   "execution_count": null,
   "id": "5362824e-e752-4916-9c17-ead7614af8be",
   "metadata": {},
   "outputs": [],
   "source": [
    "# 6. Prepare latent variables\n",
    "num_channels_latents = cnxs.base_model.config.in_channels # we're using our unet here!\n",
    "num_channels_latents"
   ]
  },
  {
   "cell_type": "code",
   "execution_count": null,
   "id": "48da259b-526c-4f0c-a997-6d282636a40c",
   "metadata": {},
   "outputs": [],
   "source": [
    "# Default values for prepare_image\n",
    "height, width = None, None\n",
    "generator = None\n",
    "latents = None\n",
    "guess_mode = False"
   ]
  },
  {
   "cell_type": "code",
   "execution_count": null,
   "id": "deec6720-4f0b-4185-9d93-1eac38267c42",
   "metadata": {},
   "outputs": [],
   "source": [
    "# 4. Prepare image\n",
    "image = pipe.prepare_image(\n",
    "    image=image,\n",
    "    width=width,\n",
    "    height=height,\n",
    "    batch_size=batch_size * num_images_per_prompt,\n",
    "    num_images_per_prompt=num_images_per_prompt,\n",
    "    device=device,\n",
    "    dtype=controlnet.dtype,\n",
    "    do_classifier_free_guidance=do_classifier_free_guidance,\n",
    "    guess_mode=guess_mode,\n",
    ")\n",
    "height, width = image.shape[-2:]\n",
    "height, width, image.shape"
   ]
  },
  {
   "cell_type": "code",
   "execution_count": null,
   "id": "06de8839-4c8b-4065-b737-bc59d47cf0cd",
   "metadata": {},
   "outputs": [],
   "source": [
    "# Default values for set_timesteps\n",
    "num_inference_steps = 50"
   ]
  },
  {
   "cell_type": "code",
   "execution_count": null,
   "id": "d57c68d9-0dda-4e36-9713-ef4cad56599e",
   "metadata": {},
   "outputs": [],
   "source": [
    "# 5. Prepare timesteps\n",
    "pipe.scheduler.set_timesteps(num_inference_steps, device=device)\n",
    "timesteps = pipe.scheduler.timesteps"
   ]
  },
  {
   "cell_type": "code",
   "execution_count": null,
   "id": "085bf35e-da13-4afe-9f89-5536579ba94f",
   "metadata": {},
   "outputs": [],
   "source": [
    "# 6. Prepare latent variables\n",
    "latents = pipe.prepare_latents(\n",
    "    batch_size * num_images_per_prompt,\n",
    "    num_channels_latents,\n",
    "    height,\n",
    "    width,\n",
    "    prompt_embeds.dtype,\n",
    "    device,\n",
    "    generator,\n",
    "    latents,\n",
    ")"
   ]
  },
  {
   "cell_type": "code",
   "execution_count": null,
   "id": "7e01537e-8e8a-4de3-930e-1b2cf9d30511",
   "metadata": {},
   "outputs": [],
   "source": [
    "latents.shape"
   ]
  },
  {
   "cell_type": "code",
   "execution_count": null,
   "id": "af12a461-b2e9-4304-9a72-8e9655197e07",
   "metadata": {},
   "outputs": [],
   "source": [
    "# 8. Denoising loop\n",
    "num_warmup_steps = len(timesteps) - num_inference_steps * pipe.scheduler.order\n",
    "\n",
    "i,t = 0, timesteps[0] # NOTE: We only do 1 step for testing"
   ]
  },
  {
   "cell_type": "code",
   "execution_count": null,
   "id": "87ecf4f1-ec15-47db-ba48-6d82732d963c",
   "metadata": {},
   "outputs": [],
   "source": [
    "# expand the latents if we are doing classifier free guidance\n",
    "latent_model_input = torch.cat([latents] * 2) if do_classifier_free_guidance else latents\n",
    "latent_model_input = pipe.scheduler.scale_model_input(latent_model_input, t)"
   ]
  },
  {
   "cell_type": "code",
   "execution_count": null,
   "id": "9a29cecc-4fc3-4d68-a669-36dd51705834",
   "metadata": {},
   "outputs": [],
   "source": [
    "# controlnet(s) inference\n",
    "# guess_mode == False\n",
    "control_model_input = latent_model_input\n",
    "controlnet_prompt_embeds = prompt_embeds"
   ]
  },
  {
   "cell_type": "code",
   "execution_count": null,
   "id": "a73d0762-19cf-4ddc-aa57-2d5f640e645c",
   "metadata": {},
   "outputs": [],
   "source": [
    "latent_model_input.shape, t, prompt_embeds.shape"
   ]
  },
  {
   "cell_type": "markdown",
   "id": "58fa116c-ddd0-495e-84f3-0ff2fe49d4f3",
   "metadata": {},
   "source": [
    "We still need the hint"
   ]
  },
  {
   "cell_type": "code",
   "execution_count": null,
   "id": "9b269e4b-e2d5-466c-859f-88f2b93d1293",
   "metadata": {},
   "outputs": [],
   "source": [
    "hint_image = original_image"
   ]
  },
  {
   "cell_type": "code",
   "execution_count": null,
   "id": "ac863c48-2462-414f-b561-81b22807cd9c",
   "metadata": {},
   "outputs": [],
   "source": [
    "import cv2\n",
    "class CannyDetector:\n",
    "    def __call__(self, img, low_threshold, high_threshold):\n",
    "        return cv2.Canny(img, low_threshold, high_threshold)"
   ]
  },
  {
   "cell_type": "code",
   "execution_count": null,
   "id": "0ff7883c-d874-4f73-aee9-6925be7169de",
   "metadata": {},
   "outputs": [],
   "source": [
    "import numpy as np\n",
    "def get_canny_edges(image, size=512, threshold=(50, 200)):\n",
    "    image = np.array(image).astype(np.uint8)\n",
    "    edges = CannyDetector()(image, *threshold)  # original sized greyscale edges\n",
    "    edges = edges / 255.\n",
    "    return edges"
   ]
  },
  {
   "cell_type": "code",
   "execution_count": null,
   "id": "4a955a8d-8f58-4b2a-93ed-4a84fe98bf25",
   "metadata": {},
   "outputs": [],
   "source": [
    "import matplotlib.pyplot as plt"
   ]
  },
  {
   "cell_type": "code",
   "execution_count": null,
   "id": "fb0027ff-eae4-45f3-a7fe-b93cbd34e649",
   "metadata": {},
   "outputs": [],
   "source": [
    "edges = get_canny_edges(hint_image)"
   ]
  },
  {
   "cell_type": "code",
   "execution_count": null,
   "id": "3523740c-9896-4337-b9e2-baf6bfa3cb35",
   "metadata": {},
   "outputs": [],
   "source": [
    "edges.shape"
   ]
  },
  {
   "cell_type": "code",
   "execution_count": null,
   "id": "7c275404-2499-4719-beb2-ce1d8eee42e3",
   "metadata": {},
   "outputs": [],
   "source": [
    "plt.imshow(edges);"
   ]
  },
  {
   "cell_type": "code",
   "execution_count": null,
   "id": "cc18f652-a4ab-4531-a5d4-0c18594f1c52",
   "metadata": {},
   "outputs": [],
   "source": [
    "num_samples=2\n",
    "\n",
    "from einops import repeat\n",
    "edges = repeat(torch.tensor(edges), 'h w -> b c h w', b=num_samples, c=3)"
   ]
  },
  {
   "cell_type": "code",
   "execution_count": null,
   "id": "16b962fc-6a3b-478d-834a-9dfa7245f3f2",
   "metadata": {},
   "outputs": [],
   "source": [
    "image.shape, edges.shape"
   ]
  },
  {
   "cell_type": "code",
   "execution_count": null,
   "id": "517ac51a-78fb-4a83-869e-0115f34102f8",
   "metadata": {},
   "outputs": [],
   "source": [
    "x = latent_model_input\n",
    "t = t\n",
    "c = {}\n",
    "hint = edges.to(device, dtype=device_dtype)\n",
    "no_control = False"
   ]
  },
  {
   "cell_type": "markdown",
   "id": "82f4e8cd-3d5e-4a1c-98ff-180d295f22d6",
   "metadata": {},
   "source": [
    "## Run the model!"
   ]
  },
  {
   "cell_type": "code",
   "execution_count": null,
   "id": "b4ddfb1c-a6f8-4c5c-8e0c-855140b7facb",
   "metadata": {},
   "outputs": [],
   "source": [
    "cnxs.debug = True\n",
    "result = cnxs(x, t, prompt_embeds, c, hint)"
   ]
  },
  {
   "cell_type": "code",
   "execution_count": null,
   "id": "c78be886-8404-4e00-9169-396cc3dd4382",
   "metadata": {},
   "outputs": [],
   "source": [
    "result.sample.shape"
   ]
  },
  {
   "cell_type": "markdown",
   "id": "037d7a0e-91f3-41bb-8fe8-b2c7739ad91e",
   "metadata": {},
   "source": [
    "**Running 1 step works!**"
   ]
  },
  {
   "cell_type": "code",
   "execution_count": null,
   "id": "023ae9b0-a5b1-4cd0-8052-0fdf9fa428d2",
   "metadata": {},
   "outputs": [],
   "source": [
    "cnxs.debug = False"
   ]
  },
  {
   "cell_type": "markdown",
   "id": "b7923282-ca21-45ea-ab53-283fe04f0fe1",
   "metadata": {},
   "source": [
    "___"
   ]
  },
  {
   "cell_type": "markdown",
   "id": "fec7fdeb-a307-43db-b4cc-c36c03959506",
   "metadata": {},
   "source": [
    "## Let's now run the denoising loop with `no_control=True`"
   ]
  },
  {
   "cell_type": "markdown",
   "id": "96976492-19da-4886-b3c5-7f9ec01a3c74",
   "metadata": {},
   "source": [
    "Let's fix the random seed so we get the same results as the paper. (The paper uses `pytorch_lightning.utilities.seed.seed_everything` which is doesn't exist anymore)."
   ]
  },
  {
   "cell_type": "code",
   "execution_count": null,
   "id": "6a5904be-f90c-4d83-bc2e-f118511fa2da",
   "metadata": {},
   "outputs": [],
   "source": [
    "import random\n",
    "import numpy as np\n",
    "import torch\n",
    "\n",
    "def seed_everything(seed):\n",
    "    # paper u\n",
    "    random.seed(seed)\n",
    "    np.random.seed(seed)\n",
    "    torch.manual_seed(seed)\n",
    "\n",
    "RANDOM_SEED_IN_PAPER = 1999158951"
   ]
  },
  {
   "cell_type": "code",
   "execution_count": null,
   "id": "798e069b-52c0-4675-b02a-6ef3b5de3c8a",
   "metadata": {},
   "outputs": [],
   "source": []
  },
  {
   "cell_type": "markdown",
   "id": "9d182337-2261-4e04-9618-60abb00f4a11",
   "metadata": {},
   "source": [
    "Some prep to better inspect the denoising process"
   ]
  },
  {
   "cell_type": "code",
   "execution_count": null,
   "id": "db9b5e5b-247b-4652-9357-588bc024e5e0",
   "metadata": {},
   "outputs": [],
   "source": [
    "def save_latents(i,t,lat,lats):\n",
    "    if i==0 and len(lat)>0: lats = []\n",
    "    lats.append((i,t,lat))\n",
    "\n",
    "from PIL import Image, ImageOps\n",
    "from tqdm.notebook import tqdm\n",
    "from functools import partial\n",
    "\n",
    "def lat2img(lat, resize_to=None, output_type='pil'):\n",
    "    with torch.no_grad():\n",
    "        ims = cnxs_pipe.vae.decode(lat / cnxs_pipe.vae.config.scaling_factor, return_dict=False)[0]\n",
    "        ims = cnxs_pipe.image_processor.postprocess(ims, output_type=output_type)\n",
    "        if resize_to is not None:\n",
    "            if output_type=='pil': ims = [im.resize(resize_to) for im in ims]\n",
    "            else: print(f'Not resizing as output_type = {output_type} requested')\n",
    "    return ims\n",
    "\n",
    "def only_lat(o): return o[-1] if isinstance(o,tuple) else o\n",
    "def lats2imgs(lats, resize_to=None, output_type='pil',pbar=True):\n",
    "    if pbar: lats = tqdm(lats)\n",
    "    ims = [lat2img(only_lat(lat), resize_to, output_type) for lat in lats]\n",
    "    if output_type=='pt': ims = [im.cpu() for im in ims]\n",
    "    return ims\n",
    "\n",
    "real_idx = None\n",
    "def plot_latents_to_pil_grid(lats, every=5, cols=7, im_size=(300, 300), pbar=True, border=2, return_ims=True, output_type='pil'):\n",
    "    global real_idx\n",
    "    \n",
    "    real_idx = partial(lambda o,every,total: min(total-1,every*o), every=every, total=len(lats))\n",
    "    \n",
    "    titles = [f'Image {i}' for i, _, _ in lats if i % every == 0 or i == len(lats)-1]\n",
    "    lats = [lat for i, _, lat in lats if i % every == 0 or i == len(lats)-1]\n",
    "    if pbar: lats = tqdm(lats)\n",
    "    ims = [lat2img(lat, resize_to=im_size, output_type=output_type)[0] for lat in lats]\n",
    "    ims_bordered = [ImageOps.expand(im, border=2, fill='black') for im in ims]\n",
    "    im_size = (im_size[0]+border, im_size[1]+border)\n",
    "\n",
    "    rows = len(ims) // cols\n",
    "    if rows * cols < len(ims): rows += 1\n",
    "\n",
    "    grid_image = Image.new('RGB', (cols * im_size[0], rows * im_size[1]), color='grey')\n",
    "    # draw diagonal white lines\n",
    "    draw = ImageDraw.Draw(grid_image)\n",
    "    for xy in range(0,2*max(cols * im_size[0], rows * im_size[1])+1,100):\n",
    "        draw.line([(xy, 0), (0, xy)], fill=\"white\", width=1)\n",
    "    \n",
    "    for i, img in enumerate(ims_bordered):\n",
    "        x_offset = (i % cols) * im_size[0]\n",
    "        y_offset = (i // cols) * im_size[1]\n",
    "        grid_image.paste(img, (x_offset, y_offset))\n",
    "\n",
    "    if return_ims: return grid_image, ims\n",
    "    else: return grid_image"
   ]
  },
  {
   "cell_type": "markdown",
   "id": "fa69966a-cc57-462e-9180-0688763997e5",
   "metadata": {},
   "source": [
    "Okay, let's go"
   ]
  },
  {
   "cell_type": "code",
   "execution_count": null,
   "id": "167c4ba0-264e-407a-9e0f-2902b4ac1078",
   "metadata": {},
   "outputs": [],
   "source": [
    "prompt = 'cinematic, shoe in the streets, made from meat, photorealistic shoe, highly detailed'\n",
    "neg_prompt = 'lowres, bad anatomy, worst quality, low quality'"
   ]
  },
  {
   "cell_type": "code",
   "execution_count": null,
   "id": "cd8b4081-61b5-4691-970f-f25962adac2c",
   "metadata": {},
   "outputs": [],
   "source": [
    "image = load_image('input_images/shoe.png')\n",
    "edges = get_canny_edges(image)"
   ]
  },
  {
   "cell_type": "code",
   "execution_count": null,
   "id": "91ec6c47-b9f0-4760-a351-431d48be954c",
   "metadata": {},
   "outputs": [],
   "source": [
    "plt.imshow(edges)"
   ]
  },
  {
   "cell_type": "code",
   "execution_count": null,
   "id": "f118607d-4998-400c-96c1-74d70f1a928a",
   "metadata": {},
   "outputs": [],
   "source": [
    "cnxs.no_control = True"
   ]
  },
  {
   "cell_type": "code",
   "execution_count": null,
   "id": "50fa0b72-2fb3-40f4-a53a-129fb530b8aa",
   "metadata": {},
   "outputs": [],
   "source": [
    "from diffusers.pipelines.controlnet_xs.pipeline_controlnet_xs_sd_xl import StableDiffusionXLControlNetXSPipeline"
   ]
  },
  {
   "cell_type": "code",
   "execution_count": null,
   "id": "a120b84b-1126-4d6c-b08e-8114b5761c25",
   "metadata": {},
   "outputs": [],
   "source": [
    "cnxs_pipe = StableDiffusionXLControlNetXSPipeline(\n",
    "    vae=sdxl_pipe.vae,\n",
    "    text_encoder=sdxl_pipe.text_encoder,\n",
    "    text_encoder_2=sdxl_pipe.text_encoder_2,\n",
    "    tokenizer=sdxl_pipe.tokenizer,\n",
    "    tokenizer_2=sdxl_pipe.tokenizer_2,\n",
    "    unet=sdxl_pipe.unet,\n",
    "    controlnet=cnxs,\n",
    "    scheduler=sdxl_pipe.scheduler,\n",
    ")"
   ]
  },
  {
   "cell_type": "code",
   "execution_count": null,
   "id": "aead3861-3f0c-4b49-a2c8-e58d5578cef5",
   "metadata": {},
   "outputs": [],
   "source": [
    "# takes ~3min to run on cpu / ~1.5min on mps\n",
    "seed_everything(RANDOM_SEED_IN_PAPER)\n",
    "lats_sdxl = []\n",
    "result = cnxs_pipe(prompt, negative_prompt=neg_prompt,image=edges, callback=partial(save_latents, lats=lats_sdxl))"
   ]
  },
  {
   "cell_type": "code",
   "execution_count": null,
   "id": "83af1fea-4806-4217-b897-34efe20e28a9",
   "metadata": {},
   "outputs": [],
   "source": [
    "type(result), type(result.images[0])"
   ]
  },
  {
   "cell_type": "code",
   "execution_count": null,
   "id": "53efff18-32a4-4e2e-a518-f2e70319c41c",
   "metadata": {},
   "outputs": [],
   "source": []
  },
  {
   "cell_type": "code",
   "execution_count": null,
   "id": "5dc99d84-89dc-456c-94ba-7a607de15703",
   "metadata": {},
   "outputs": [],
   "source": [
    "result.images[0].resize((500,500))"
   ]
  },
  {
   "cell_type": "markdown",
   "id": "781fa790-5201-4a69-884b-db589d372684",
   "metadata": {},
   "source": [
    "**It works!**"
   ]
  },
  {
   "cell_type": "code",
   "execution_count": null,
   "id": "31df47a4-c47a-4da0-a1a7-efdd5ee5762c",
   "metadata": {},
   "outputs": [],
   "source": []
  },
  {
   "cell_type": "code",
   "execution_count": null,
   "id": "1d9a0560-0889-4feb-a54e-6c2461bb924d",
   "metadata": {},
   "outputs": [],
   "source": [
    "grid, ims_sdxl = plot_latents_to_pil_grid(lats_sdxl)\n",
    "grid"
   ]
  },
  {
   "cell_type": "code",
   "execution_count": null,
   "id": "538129f2-308b-4219-9a72-0eb5556a5888",
   "metadata": {},
   "outputs": [],
   "source": []
  },
  {
   "cell_type": "code",
   "execution_count": null,
   "id": "d962b030-7167-45af-aab0-161872c780a8",
   "metadata": {},
   "outputs": [],
   "source": []
  },
  {
   "cell_type": "code",
   "execution_count": null,
   "id": "44b0c2f1-c640-4d80-8241-49c2f0bb6cd3",
   "metadata": {},
   "outputs": [],
   "source": []
  },
  {
   "cell_type": "markdown",
   "id": "f5571785-b65f-4f8f-91d2-35a3b23cf657",
   "metadata": {},
   "source": [
    "## Let's now run the denoising loop with control"
   ]
  },
  {
   "cell_type": "code",
   "execution_count": null,
   "id": "b38cdfd2-6758-4f89-85fa-67f51a6c5424",
   "metadata": {},
   "outputs": [],
   "source": [
    "cnxs.no_control = False"
   ]
  },
  {
   "cell_type": "code",
   "execution_count": null,
   "id": "da6ef051-948b-425c-b0db-a948827ac539",
   "metadata": {},
   "outputs": [],
   "source": [
    "# RuntimeError: Given ... expected input [2, 1, 512, 512] to have 3 channels, but got 1 channels instead\n",
    "# -> hint has 1 channel, but should have 3\n",
    "# let'cheat\n",
    "edges_tensor = torch.tensor(edges)\n",
    "three_edges = torch.stack((edges_tensor,edges_tensor,edges_tensor))\n",
    "three_edges.shape"
   ]
  },
  {
   "cell_type": "code",
   "execution_count": null,
   "id": "453afd10-a473-4952-beb4-b8d091d313d3",
   "metadata": {},
   "outputs": [],
   "source": []
  },
  {
   "cell_type": "code",
   "execution_count": null,
   "id": "fc235d8e-2a6b-4717-b737-4384ab0aaa08",
   "metadata": {},
   "outputs": [],
   "source": [
    "# # Produces shape mismatch at h_ctrl += guided_hint of [2, 32, 64, 64] != [4, 32, 64, 64]\n",
    "# # As cnxs.forward did run, I assume the error is due to negative prompting. Maybe it's double the inputs from 2 -> 4\n",
    "# # (Altough it shouldn't. We should have 3 inputs: uncond, cond, neg.)\n",
    "seed_everything(RANDOM_SEED_IN_PAPER)\n",
    "lats_cnxs = []\n",
    "result_controlled = cnxs_pipe(prompt, negative_prompt=neg_prompt,image=three_edges, callback=partial(save_latents, lats=lats_cnxs))"
   ]
  },
  {
   "cell_type": "code",
   "execution_count": null,
   "id": "b6e44a36-ace6-434a-bda4-e04b1bb2dfb1",
   "metadata": {},
   "outputs": [],
   "source": [
    "grid, ims_cnxs = plot_latents_to_pil_grid(lats_cnxs, every=1, cols=10, im_size=(200,200)) \n",
    "grid"
   ]
  },
  {
   "cell_type": "markdown",
   "id": "91cb08a7-1d78-4849-935e-34662585f149",
   "metadata": {},
   "source": [
    "**1.** In the 2nd (=10th) image I can see the contour of the shoe as in the guidance image. But over time, the image get's destroyed.<br/>\n",
    "**2.** The 1st (=5th) image looks extremely weird."
   ]
  },
  {
   "cell_type": "markdown",
   "id": "446e270b-0d1e-4c5c-b35b-5443bdb28f55",
   "metadata": {},
   "source": [
    "**Q:** Why is 2nd image so dark? Are the averages predicted noises between sdxl / cnxs different?"
   ]
  },
  {
   "cell_type": "code",
   "execution_count": null,
   "id": "95308d80-d71e-4216-ae6d-9f11f4bc78de",
   "metadata": {},
   "outputs": [],
   "source": []
  },
  {
   "cell_type": "markdown",
   "id": "70e723df-5899-4257-9306-e295bb91fb59",
   "metadata": {},
   "source": [
    "**Hypothesis re 1:** The image vanishes when using cnxs, because it gets pushed outside the (0,1) boundary. This might becaise I need to rescale the noise prediceted by cnxs (which I currently don't do)."
   ]
  },
  {
   "cell_type": "code",
   "execution_count": null,
   "id": "f9d19068-0911-496e-a542-acd328dd51fb",
   "metadata": {},
   "outputs": [],
   "source": [
    "def percentage_outside_range(x, lo=0,hi=1):\n",
    "    x = np.array(x).flatten()\n",
    "    return (np.sum(x<lo)+np.sum(x>hi))/len(x)\n",
    "\n",
    "for inp,res in (([3],1),([1],0),([[0,0],[-0.5,2]],0.5)): assert percentage_outside_range(inp)==res"
   ]
  },
  {
   "cell_type": "markdown",
   "id": "e8dc8551-fa26-4a65-8abd-dd3a74bf1254",
   "metadata": {},
   "source": [
    "Because the conversion to PIL clamsp the images to `(0,255)` (which corresponds to `(0,1)` in numpy), we need do `lats2imgs` again with `output_type='pt'`"
   ]
  },
  {
   "cell_type": "code",
   "execution_count": null,
   "id": "8f999677-ff8f-42a0-b96c-c8dc5080aec7",
   "metadata": {
    "scrolled": true
   },
   "outputs": [],
   "source": [
    "ims_cnxs_pt = lats2imgs(lats_cnxs,output_type='pt')\n",
    "\n",
    "for i,im in enumerate(ims_cnxs_pt):\n",
    "    p = percentage_outside_range(im)\n",
    "    print(f'Step {real_idx(i)}] {p:.2f} of values outside range')"
   ]
  },
  {
   "cell_type": "markdown",
   "id": "de022020-b3d9-4c68-913e-91387351cf0d",
   "metadata": {},
   "source": [
    "**A:** No, the values are all in `(0,1)`"
   ]
  },
  {
   "cell_type": "code",
   "execution_count": null,
   "id": "12298459-8cca-4b8a-8f73-940f5fc8512f",
   "metadata": {},
   "outputs": [],
   "source": []
  },
  {
   "cell_type": "markdown",
   "id": "98ea1880-2e95-48ff-b6fd-e330959010d4",
   "metadata": {},
   "source": [
    "Hmm, but at least image 0 had values < 0! I saw that yesterday. Where are they?"
   ]
  },
  {
   "cell_type": "code",
   "execution_count": null,
   "id": "d36d9c48-f34d-4e03-823d-63bacf5a3b8b",
   "metadata": {},
   "outputs": [],
   "source": []
  },
  {
   "cell_type": "code",
   "execution_count": null,
   "id": "b8c087b2-4439-4a37-a2df-4c876658f757",
   "metadata": {},
   "outputs": [],
   "source": []
  },
  {
   "cell_type": "code",
   "execution_count": null,
   "id": "e7fd4302-b2d0-4658-89d5-159668155757",
   "metadata": {},
   "outputs": [],
   "source": []
  },
  {
   "cell_type": "code",
   "execution_count": null,
   "id": "79c48cfe-dee5-409a-859a-5cdd2004bd4b",
   "metadata": {},
   "outputs": [],
   "source": []
  },
  {
   "cell_type": "code",
   "execution_count": null,
   "id": "edeabec3-f581-4cc9-8004-f497d1ce6de1",
   "metadata": {},
   "outputs": [],
   "source": []
  }
 ],
 "metadata": {
  "kernelspec": {
   "display_name": "Python 3 (ipykernel)",
   "language": "python",
   "name": "python3"
  },
  "language_info": {
   "codemirror_mode": {
    "name": "ipython",
    "version": 3
   },
   "file_extension": ".py",
   "mimetype": "text/x-python",
   "name": "python",
   "nbconvert_exporter": "python",
   "pygments_lexer": "ipython3",
   "version": "3.11.5"
  }
 },
 "nbformat": 4,
 "nbformat_minor": 5
}
